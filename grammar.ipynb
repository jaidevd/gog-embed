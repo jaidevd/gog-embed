{
 "cells": [
  {
   "cell_type": "code",
   "execution_count": 1,
   "id": "2d8140a0-339a-4baf-b9ae-7152d741053a",
   "metadata": {
    "tags": []
   },
   "outputs": [
    {
     "name": "stderr",
     "output_type": "stream",
     "text": [
      "2023-01-30 09:25:43.594728: I tensorflow/core/platform/cpu_feature_guard.cc:193] This TensorFlow binary is optimized with oneAPI Deep Neural Network Library (oneDNN) to use the following CPU instructions in performance-critical operations:  AVX2 FMA\n",
      "To enable them in other operations, rebuild TensorFlow with the appropriate compiler flags.\n",
      "2023-01-30 09:25:44.724484: W tensorflow/compiler/xla/stream_executor/platform/default/dso_loader.cc:64] Could not load dynamic library 'libnvinfer.so.7'; dlerror: libnvinfer.so.7: cannot open shared object file: No such file or directory\n",
      "2023-01-30 09:25:44.724541: W tensorflow/compiler/xla/stream_executor/platform/default/dso_loader.cc:64] Could not load dynamic library 'libnvinfer_plugin.so.7'; dlerror: libnvinfer_plugin.so.7: cannot open shared object file: No such file or directory\n",
      "2023-01-30 09:25:44.724546: W tensorflow/compiler/tf2tensorrt/utils/py_utils.cc:38] TF-TRT Warning: Cannot dlopen some TensorRT libraries. If you would like to use Nvidia GPU with TensorRT, please make sure the missing libraries mentioned above are installed properly.\n",
      "2023-01-30 09:25:46.264417: W tensorflow/compiler/xla/stream_executor/platform/default/dso_loader.cc:64] Could not load dynamic library 'libcusolver.so.11'; dlerror: libcusolver.so.11: cannot open shared object file: No such file or directory\n",
      "2023-01-30 09:25:46.264470: W tensorflow/core/common_runtime/gpu/gpu_device.cc:1934] Cannot dlopen some GPU libraries. Please make sure the missing libraries mentioned above are installed properly if you would like to use GPU. Follow the guide at https://www.tensorflow.org/install/gpu for how to download and setup the required libraries for your platform.\n",
      "Skipping registering GPU devices...\n"
     ]
    }
   ],
   "source": [
    "%load_ext autoreload\n",
    "%autoreload 2\n",
    "\n",
    "import json\n",
    "import pandas as pd\n",
    "import grammar as lt\n",
    "from collections import Counter\n",
    "from tqdm import tqdm\n",
    "from joblib import Parallel, delayed\n",
    "from spacy import load\n",
    "import re\n",
    "import yaml\n",
    "nlp = load('en_core_web_sm')"
   ]
  },
  {
   "cell_type": "code",
   "execution_count": 2,
   "id": "8bccd29f-5e08-40b6-a369-b3c18d332ca9",
   "metadata": {},
   "outputs": [],
   "source": [
    "with open('data/grammar.json', 'r') as fin:\n",
    "    data = json.load(fin)"
   ]
  },
  {
   "cell_type": "code",
   "execution_count": 3,
   "id": "954421a7-2461-4f00-ac71-4df1a06d1b9f",
   "metadata": {},
   "outputs": [
    {
     "data": {
      "text/plain": [
       "[('With the plural noun ‘services’, the verb inflection ‘is’ is not correct.',\n",
       "  7838),\n",
       " ('The verb form ‘is’ does not seem to match the subject ‘exports’.', 6650),\n",
       " ('With the plural noun ‘repeaters’, the verb inflection ‘is’ is not correct.',\n",
       "  5718),\n",
       " ('If the term is a proper noun, use initial capitals.', 4568),\n",
       " ('The auxiliary verb ‘do’ requires the base form of the verb.', 3604)]"
      ]
     },
     "execution_count": 3,
     "metadata": {},
     "output_type": "execute_result"
    }
   ],
   "source": [
    "ctr = lt.err_counter(data)\n",
    "ctr.most_common(5)"
   ]
  },
  {
   "cell_type": "code",
   "execution_count": 4,
   "id": "e67b8713-cbbe-4b75-b1dd-ab7474d77f3f",
   "metadata": {},
   "outputs": [],
   "source": [
    "msg = 'With the plural noun ‘services’, the verb inflection ‘is’ is not correct.'\n",
    "is_services = lt.filter_lt_messages(data, message=msg)"
   ]
  },
  {
   "cell_type": "code",
   "execution_count": 35,
   "id": "e7dc9adf-906d-43bf-98da-de0faa9f91f7",
   "metadata": {},
   "outputs": [
    {
     "data": {
      "text/plain": [
       "{'xvalue': '2014',\n",
       " 'metric': 'number of days required to export the goods and services',\n",
       " 'group1': 'Barbados',\n",
       " 'group2': 'Portugal'}"
      ]
     },
     "execution_count": 35,
     "metadata": {},
     "output_type": "execute_result"
    }
   ],
   "source": [
    "s = \"In the year 2014, what is the difference between the number of days required to export the goods and services in Barbados and number of days required to export the goods and services in Portugal ?\"\n",
    "\n",
    "re.search(pat, s).groupdict()"
   ]
  },
  {
   "cell_type": "code",
   "execution_count": 36,
   "id": "1e814e13-9e9c-4449-8bda-96bcb4b05e53",
   "metadata": {},
   "outputs": [
    {
     "name": "stderr",
     "output_type": "stream",
     "text": [
      "19it [01:17,  4.08s/it]\n"
     ]
    }
   ],
   "source": [
    "X =[]\n",
    "for df in tqdm(pd.read_json('data/qa_captions.json', lines=True, chunksize=1_000_000)):\n",
    "    df = df[df['template_id'] == 42].set_index('question_id', verify_integrity=True)\n",
    "    X.append(df)\n",
    "X = pd.concat(X, axis=0)"
   ]
  },
  {
   "cell_type": "code",
   "execution_count": 75,
   "id": "3bfec1e9-e16b-44ae-a03e-1b2263929ae4",
   "metadata": {},
   "outputs": [],
   "source": [
    "y = X['question_string'].str.extractall(pat)"
   ]
  },
  {
   "cell_type": "code",
   "execution_count": 76,
   "id": "b20e8eaf-597d-45c4-b4e4-3313540fe043",
   "metadata": {},
   "outputs": [
    {
     "data": {
      "text/html": [
       "<div>\n",
       "<style scoped>\n",
       "    .dataframe tbody tr th:only-of-type {\n",
       "        vertical-align: middle;\n",
       "    }\n",
       "\n",
       "    .dataframe tbody tr th {\n",
       "        vertical-align: top;\n",
       "    }\n",
       "\n",
       "    .dataframe thead th {\n",
       "        text-align: right;\n",
       "    }\n",
       "</style>\n",
       "<table border=\"1\" class=\"dataframe\">\n",
       "  <thead>\n",
       "    <tr style=\"text-align: right;\">\n",
       "      <th></th>\n",
       "      <th></th>\n",
       "      <th>year</th>\n",
       "      <th>metric</th>\n",
       "      <th>group1</th>\n",
       "      <th>group2</th>\n",
       "    </tr>\n",
       "    <tr>\n",
       "      <th>question_id</th>\n",
       "      <th>match</th>\n",
       "      <th></th>\n",
       "      <th></th>\n",
       "      <th></th>\n",
       "      <th></th>\n",
       "    </tr>\n",
       "  </thead>\n",
       "  <tbody>\n",
       "  </tbody>\n",
       "</table>\n",
       "</div>"
      ],
      "text/plain": [
       "Empty DataFrame\n",
       "Columns: [year, metric, group1, group2]\n",
       "Index: []"
      ]
     },
     "execution_count": 76,
     "metadata": {},
     "output_type": "execute_result"
    }
   ],
   "source": [
    "y.head()"
   ]
  },
  {
   "cell_type": "code",
   "execution_count": 44,
   "id": "29361f19-06e4-4146-a01c-a6b287565f77",
   "metadata": {},
   "outputs": [
    {
     "data": {
      "text/plain": [
       "'In the year 1990, what is the difference between the net taxes in us$ and net taxes in constant 2005 us$ ?'"
      ]
     },
     "execution_count": 44,
     "metadata": {},
     "output_type": "execute_result"
    }
   ],
   "source": [
    "X.loc[202]['question_string']"
   ]
  },
  {
   "cell_type": "code",
   "execution_count": 48,
   "id": "91a90d48-3744-4dce-9863-e611cc6ad999",
   "metadata": {},
   "outputs": [],
   "source": [
    "import yaml"
   ]
  },
  {
   "cell_type": "code",
   "execution_count": 88,
   "id": "2ddbf436-13fc-4b86-bb9f-37eff4a51985",
   "metadata": {},
   "outputs": [],
   "source": [
    "with open('qa_templates.yaml', 'r') as fin:\n",
    "    cfg = yaml.safe_load(fin)"
   ]
  },
  {
   "cell_type": "code",
   "execution_count": 52,
   "id": "0a802070-3355-4e1b-86b4-9168e2aadafc",
   "metadata": {},
   "outputs": [],
   "source": [
    "from plotqa import match_and_generate"
   ]
  },
  {
   "cell_type": "code",
   "execution_count": 90,
   "id": "dc0eca2a-39f2-4f2d-811b-13abaddf20b4",
   "metadata": {},
   "outputs": [],
   "source": [
    "for tmpl in cfg:\n",
    "    if tmpl['id'] == 42:\n",
    "        break"
   ]
  },
  {
   "cell_type": "code",
   "execution_count": 91,
   "id": "55ee83d8-38d7-4e50-ba8b-fbe4b3c4947c",
   "metadata": {},
   "outputs": [
    {
     "data": {
      "text/plain": [
       "{'id': 42,\n",
       " 'regex': 'In the year (?P<year>\\\\d+), what is the difference between the (?P<metric>.*) in (?P<group1>.*) and (?P=metric) in (?P<group2>.*?)\\\\s?\\\\?$',\n",
       " 'template_header': \"{% set X = f'{metric} in {group1}' %} {% set Y = f'{metric} in {group2}' %}\",\n",
       " 'caption_templates': 'captions.randomize_42',\n",
       " 'type': 'retrieval'}"
      ]
     },
     "execution_count": 91,
     "metadata": {},
     "output_type": "execute_result"
    }
   ],
   "source": [
    "tmpl"
   ]
  },
  {
   "cell_type": "code",
   "execution_count": 98,
   "id": "335f2707-2e26-4b68-9524-5b587c1ff436",
   "metadata": {},
   "outputs": [],
   "source": [
    "def generator(row):\n",
    "    return match_and_generate(row['question_string'], row['answer'], tmpl['regex'], tmpl['template_header'], tmpl['caption_templates'])\n",
    "\n",
    "rendered = X.apply(generator, axis=1)"
   ]
  },
  {
   "cell_type": "code",
   "execution_count": 103,
   "id": "2d0e6b9b-d2a6-48c9-9391-1ba6a9e30a69",
   "metadata": {},
   "outputs": [
    {
     "data": {
      "text/plain": [
       "0.477603108930609"
      ]
     },
     "execution_count": 103,
     "metadata": {},
     "output_type": "execute_result"
    }
   ],
   "source": [
    "(rendered == '').sum() / len(X)"
   ]
  },
  {
   "cell_type": "code",
   "execution_count": 104,
   "id": "7ad16e72-60de-4a51-a177-670c5dbde888",
   "metadata": {},
   "outputs": [
    {
     "data": {
      "text/plain": [
       "question_id\n",
       "9                                                       \n",
       "46                                                      \n",
       "74                                                      \n",
       "128     In the year 2007, the enrolment ratio of fema...\n",
       "155     The net bilateral aid flow in Sudan is greate...\n",
       "dtype: object"
      ]
     },
     "execution_count": 104,
     "metadata": {},
     "output_type": "execute_result"
    }
   ],
   "source": [
    "rendered.head()"
   ]
  },
  {
   "cell_type": "code",
   "execution_count": 105,
   "id": "57daa50d-4bbf-4499-97fa-b05d9c5fae21",
   "metadata": {},
   "outputs": [],
   "source": [
    "rendered = rendered[rendered != '']"
   ]
  },
  {
   "cell_type": "code",
   "execution_count": 108,
   "id": "acfcc233-350e-4955-beb1-96dc82e41b7e",
   "metadata": {},
   "outputs": [
    {
     "data": {
      "text/html": [
       "<div>\n",
       "<style scoped>\n",
       "    .dataframe tbody tr th:only-of-type {\n",
       "        vertical-align: middle;\n",
       "    }\n",
       "\n",
       "    .dataframe tbody tr th {\n",
       "        vertical-align: top;\n",
       "    }\n",
       "\n",
       "    .dataframe thead th {\n",
       "        text-align: right;\n",
       "    }\n",
       "</style>\n",
       "<table border=\"1\" class=\"dataframe\">\n",
       "  <thead>\n",
       "    <tr style=\"text-align: right;\">\n",
       "      <th></th>\n",
       "      <th>question_id</th>\n",
       "      <th>caption</th>\n",
       "    </tr>\n",
       "  </thead>\n",
       "  <tbody>\n",
       "    <tr>\n",
       "      <th>0</th>\n",
       "      <td>128</td>\n",
       "      <td>In the year 2007, the enrolment ratio of fema...</td>\n",
       "    </tr>\n",
       "    <tr>\n",
       "      <th>1</th>\n",
       "      <td>155</td>\n",
       "      <td>The net bilateral aid flow in Sudan is greate...</td>\n",
       "    </tr>\n",
       "    <tr>\n",
       "      <th>2</th>\n",
       "      <td>202</td>\n",
       "      <td>In the year 1990, the net taxes in us$ is les...</td>\n",
       "    </tr>\n",
       "    <tr>\n",
       "      <th>3</th>\n",
       "      <td>315</td>\n",
       "      <td>In 2010, the cost of damage caused due to the...</td>\n",
       "    </tr>\n",
       "    <tr>\n",
       "      <th>4</th>\n",
       "      <td>416</td>\n",
       "      <td>In 2010, the enrolment ratio of female studen...</td>\n",
       "    </tr>\n",
       "  </tbody>\n",
       "</table>\n",
       "</div>"
      ],
      "text/plain": [
       "   question_id                                            caption\n",
       "0          128   In the year 2007, the enrolment ratio of fema...\n",
       "1          155   The net bilateral aid flow in Sudan is greate...\n",
       "2          202   In the year 1990, the net taxes in us$ is les...\n",
       "3          315   In 2010, the cost of damage caused due to the...\n",
       "4          416   In 2010, the enrolment ratio of female studen..."
      ]
     },
     "execution_count": 108,
     "metadata": {},
     "output_type": "execute_result"
    }
   ],
   "source": [
    "rendered.name = 'caption'\n",
    "rendered = pd.DataFrame(rendered).reset_index()\n",
    "rendered.head()"
   ]
  },
  {
   "cell_type": "code",
   "execution_count": 109,
   "id": "57d464f2-b2df-4013-ba3a-529328feba5b",
   "metadata": {
    "tags": []
   },
   "outputs": [
    {
     "name": "stderr",
     "output_type": "stream",
     "text": [
      "[Parallel(n_jobs=-1)]: Using backend LokyBackend with 16 concurrent workers.\n",
      "2023-01-30 10:33:21.377907: W tensorflow/compiler/xla/stream_executor/platform/default/dso_loader.cc:64] Could not load dynamic library 'libnvinfer.so.7'; dlerror: libnvinfer.so.7: cannot open shared object file: No such file or directory\n",
      "2023-01-30 10:33:21.378216: W tensorflow/compiler/xla/stream_executor/platform/default/dso_loader.cc:64] Could not load dynamic library 'libnvinfer_plugin.so.7'; dlerror: libnvinfer_plugin.so.7: cannot open shared object file: No such file or directory\n",
      "2023-01-30 10:33:21.378239: W tensorflow/compiler/tf2tensorrt/utils/py_utils.cc:38] TF-TRT Warning: Cannot dlopen some TensorRT libraries. If you would like to use Nvidia GPU with TensorRT, please make sure the missing libraries mentioned above are installed properly.\n",
      "2023-01-30 10:33:21.380789: W tensorflow/compiler/xla/stream_executor/platform/default/dso_loader.cc:64] Could not load dynamic library 'libnvinfer.so.7'; dlerror: libnvinfer.so.7: cannot open shared object file: No such file or directory\n",
      "2023-01-30 10:33:21.380989: W tensorflow/compiler/xla/stream_executor/platform/default/dso_loader.cc:64] Could not load dynamic library 'libnvinfer_plugin.so.7'; dlerror: libnvinfer_plugin.so.7: cannot open shared object file: No such file or directory\n",
      "2023-01-30 10:33:21.381027: W tensorflow/compiler/tf2tensorrt/utils/py_utils.cc:38] TF-TRT Warning: Cannot dlopen some TensorRT libraries. If you would like to use Nvidia GPU with TensorRT, please make sure the missing libraries mentioned above are installed properly.\n",
      "2023-01-30 10:33:21.443261: W tensorflow/compiler/xla/stream_executor/platform/default/dso_loader.cc:64] Could not load dynamic library 'libnvinfer.so.7'; dlerror: libnvinfer.so.7: cannot open shared object file: No such file or directory\n",
      "2023-01-30 10:33:21.443438: W tensorflow/compiler/xla/stream_executor/platform/default/dso_loader.cc:64] Could not load dynamic library 'libnvinfer_plugin.so.7'; dlerror: libnvinfer_plugin.so.7: cannot open shared object file: No such file or directory\n",
      "2023-01-30 10:33:21.443471: W tensorflow/compiler/tf2tensorrt/utils/py_utils.cc:38] TF-TRT Warning: Cannot dlopen some TensorRT libraries. If you would like to use Nvidia GPU with TensorRT, please make sure the missing libraries mentioned above are installed properly.\n",
      "2023-01-30 10:33:21.464646: W tensorflow/compiler/xla/stream_executor/platform/default/dso_loader.cc:64] Could not load dynamic library 'libnvinfer.so.7'; dlerror: libnvinfer.so.7: cannot open shared object file: No such file or directory\n",
      "2023-01-30 10:33:21.464892: W tensorflow/compiler/xla/stream_executor/platform/default/dso_loader.cc:64] Could not load dynamic library 'libnvinfer_plugin.so.7'; dlerror: libnvinfer_plugin.so.7: cannot open shared object file: No such file or directory\n",
      "2023-01-30 10:33:21.464978: W tensorflow/compiler/tf2tensorrt/utils/py_utils.cc:38] TF-TRT Warning: Cannot dlopen some TensorRT libraries. If you would like to use Nvidia GPU with TensorRT, please make sure the missing libraries mentioned above are installed properly.\n",
      "2023-01-30 10:33:21.478229: W tensorflow/compiler/xla/stream_executor/platform/default/dso_loader.cc:64] Could not load dynamic library 'libnvinfer.so.7'; dlerror: libnvinfer.so.7: cannot open shared object file: No such file or directory\n",
      "2023-01-30 10:33:21.478412: W tensorflow/compiler/xla/stream_executor/platform/default/dso_loader.cc:64] Could not load dynamic library 'libnvinfer_plugin.so.7'; dlerror: libnvinfer_plugin.so.7: cannot open shared object file: No such file or directory\n",
      "2023-01-30 10:33:21.478451: W tensorflow/compiler/tf2tensorrt/utils/py_utils.cc:38] TF-TRT Warning: Cannot dlopen some TensorRT libraries. If you would like to use Nvidia GPU with TensorRT, please make sure the missing libraries mentioned above are installed properly.\n",
      "2023-01-30 10:33:21.482586: W tensorflow/compiler/xla/stream_executor/platform/default/dso_loader.cc:64] Could not load dynamic library 'libnvinfer.so.7'; dlerror: libnvinfer.so.7: cannot open shared object file: No such file or directory\n",
      "2023-01-30 10:33:21.482741: W tensorflow/compiler/xla/stream_executor/platform/default/dso_loader.cc:64] Could not load dynamic library 'libnvinfer_plugin.so.7'; dlerror: libnvinfer_plugin.so.7: cannot open shared object file: No such file or directory\n",
      "2023-01-30 10:33:21.482780: W tensorflow/compiler/tf2tensorrt/utils/py_utils.cc:38] TF-TRT Warning: Cannot dlopen some TensorRT libraries. If you would like to use Nvidia GPU with TensorRT, please make sure the missing libraries mentioned above are installed properly.\n",
      "2023-01-30 10:33:21.576189: W tensorflow/compiler/xla/stream_executor/platform/default/dso_loader.cc:64] Could not load dynamic library 'libnvinfer.so.7'; dlerror: libnvinfer.so.7: cannot open shared object file: No such file or directory\n",
      "2023-01-30 10:33:21.576379: W tensorflow/compiler/xla/stream_executor/platform/default/dso_loader.cc:64] Could not load dynamic library 'libnvinfer_plugin.so.7'; dlerror: libnvinfer_plugin.so.7: cannot open shared object file: No such file or directory\n",
      "2023-01-30 10:33:21.576423: W tensorflow/compiler/tf2tensorrt/utils/py_utils.cc:38] TF-TRT Warning: Cannot dlopen some TensorRT libraries. If you would like to use Nvidia GPU with TensorRT, please make sure the missing libraries mentioned above are installed properly.\n",
      "2023-01-30 10:33:21.582636: W tensorflow/compiler/xla/stream_executor/platform/default/dso_loader.cc:64] Could not load dynamic library 'libnvinfer.so.7'; dlerror: libnvinfer.so.7: cannot open shared object file: No such file or directory\n",
      "2023-01-30 10:33:21.583368: W tensorflow/compiler/xla/stream_executor/platform/default/dso_loader.cc:64] Could not load dynamic library 'libnvinfer_plugin.so.7'; dlerror: libnvinfer_plugin.so.7: cannot open shared object file: No such file or directory\n",
      "2023-01-30 10:33:21.583438: W tensorflow/compiler/tf2tensorrt/utils/py_utils.cc:38] TF-TRT Warning: Cannot dlopen some TensorRT libraries. If you would like to use Nvidia GPU with TensorRT, please make sure the missing libraries mentioned above are installed properly.\n",
      "2023-01-30 10:33:21.724134: W tensorflow/compiler/xla/stream_executor/platform/default/dso_loader.cc:64] Could not load dynamic library 'libnvinfer.so.7'; dlerror: libnvinfer.so.7: cannot open shared object file: No such file or directory\n",
      "2023-01-30 10:33:21.724289: W tensorflow/compiler/xla/stream_executor/platform/default/dso_loader.cc:64] Could not load dynamic library 'libnvinfer_plugin.so.7'; dlerror: libnvinfer_plugin.so.7: cannot open shared object file: No such file or directory\n",
      "2023-01-30 10:33:21.724317: W tensorflow/compiler/tf2tensorrt/utils/py_utils.cc:38] TF-TRT Warning: Cannot dlopen some TensorRT libraries. If you would like to use Nvidia GPU with TensorRT, please make sure the missing libraries mentioned above are installed properly.\n",
      "2023-01-30 10:33:21.746163: W tensorflow/compiler/xla/stream_executor/platform/default/dso_loader.cc:64] Could not load dynamic library 'libnvinfer.so.7'; dlerror: libnvinfer.so.7: cannot open shared object file: No such file or directory\n",
      "2023-01-30 10:33:21.746384: W tensorflow/compiler/xla/stream_executor/platform/default/dso_loader.cc:64] Could not load dynamic library 'libnvinfer_plugin.so.7'; dlerror: libnvinfer_plugin.so.7: cannot open shared object file: No such file or directory\n",
      "2023-01-30 10:33:21.746432: W tensorflow/compiler/tf2tensorrt/utils/py_utils.cc:38] TF-TRT Warning: Cannot dlopen some TensorRT libraries. If you would like to use Nvidia GPU with TensorRT, please make sure the missing libraries mentioned above are installed properly.\n",
      "2023-01-30 10:33:21.900927: W tensorflow/compiler/xla/stream_executor/platform/default/dso_loader.cc:64] Could not load dynamic library 'libnvinfer.so.7'; dlerror: libnvinfer.so.7: cannot open shared object file: No such file or directory\n",
      "2023-01-30 10:33:21.901200: W tensorflow/compiler/xla/stream_executor/platform/default/dso_loader.cc:64] Could not load dynamic library 'libnvinfer_plugin.so.7'; dlerror: libnvinfer_plugin.so.7: cannot open shared object file: No such file or directory\n",
      "2023-01-30 10:33:21.901212: W tensorflow/compiler/tf2tensorrt/utils/py_utils.cc:38] TF-TRT Warning: Cannot dlopen some TensorRT libraries. If you would like to use Nvidia GPU with TensorRT, please make sure the missing libraries mentioned above are installed properly.\n",
      "2023-01-30 10:33:21.940810: W tensorflow/compiler/xla/stream_executor/platform/default/dso_loader.cc:64] Could not load dynamic library 'libnvinfer.so.7'; dlerror: libnvinfer.so.7: cannot open shared object file: No such file or directory\n",
      "2023-01-30 10:33:21.941003: W tensorflow/compiler/xla/stream_executor/platform/default/dso_loader.cc:64] Could not load dynamic library 'libnvinfer_plugin.so.7'; dlerror: libnvinfer_plugin.so.7: cannot open shared object file: No such file or directory\n",
      "2023-01-30 10:33:21.941045: W tensorflow/compiler/tf2tensorrt/utils/py_utils.cc:38] TF-TRT Warning: Cannot dlopen some TensorRT libraries. If you would like to use Nvidia GPU with TensorRT, please make sure the missing libraries mentioned above are installed properly.\n",
      "2023-01-30 10:33:21.943674: W tensorflow/compiler/xla/stream_executor/platform/default/dso_loader.cc:64] Could not load dynamic library 'libnvinfer.so.7'; dlerror: libnvinfer.so.7: cannot open shared object file: No such file or directory\n",
      "2023-01-30 10:33:21.943888: W tensorflow/compiler/xla/stream_executor/platform/default/dso_loader.cc:64] Could not load dynamic library 'libnvinfer_plugin.so.7'; dlerror: libnvinfer_plugin.so.7: cannot open shared object file: No such file or directory\n",
      "2023-01-30 10:33:21.943924: W tensorflow/compiler/tf2tensorrt/utils/py_utils.cc:38] TF-TRT Warning: Cannot dlopen some TensorRT libraries. If you would like to use Nvidia GPU with TensorRT, please make sure the missing libraries mentioned above are installed properly.\n",
      "2023-01-30 10:33:21.974907: W tensorflow/compiler/xla/stream_executor/platform/default/dso_loader.cc:64] Could not load dynamic library 'libnvinfer.so.7'; dlerror: libnvinfer.so.7: cannot open shared object file: No such file or directory\n",
      "2023-01-30 10:33:21.975096: W tensorflow/compiler/xla/stream_executor/platform/default/dso_loader.cc:64] Could not load dynamic library 'libnvinfer_plugin.so.7'; dlerror: libnvinfer_plugin.so.7: cannot open shared object file: No such file or directory\n",
      "2023-01-30 10:33:21.975138: W tensorflow/compiler/tf2tensorrt/utils/py_utils.cc:38] TF-TRT Warning: Cannot dlopen some TensorRT libraries. If you would like to use Nvidia GPU with TensorRT, please make sure the missing libraries mentioned above are installed properly.\n",
      "2023-01-30 10:33:22.101942: W tensorflow/compiler/xla/stream_executor/platform/default/dso_loader.cc:64] Could not load dynamic library 'libnvinfer.so.7'; dlerror: libnvinfer.so.7: cannot open shared object file: No such file or directory\n",
      "2023-01-30 10:33:22.102234: W tensorflow/compiler/xla/stream_executor/platform/default/dso_loader.cc:64] Could not load dynamic library 'libnvinfer_plugin.so.7'; dlerror: libnvinfer_plugin.so.7: cannot open shared object file: No such file or directory\n",
      "2023-01-30 10:33:22.102272: W tensorflow/compiler/tf2tensorrt/utils/py_utils.cc:38] TF-TRT Warning: Cannot dlopen some TensorRT libraries. If you would like to use Nvidia GPU with TensorRT, please make sure the missing libraries mentioned above are installed properly.\n",
      "2023-01-30 10:33:22.136050: W tensorflow/compiler/xla/stream_executor/platform/default/dso_loader.cc:64] Could not load dynamic library 'libnvinfer.so.7'; dlerror: libnvinfer.so.7: cannot open shared object file: No such file or directory\n",
      "2023-01-30 10:33:22.136236: W tensorflow/compiler/xla/stream_executor/platform/default/dso_loader.cc:64] Could not load dynamic library 'libnvinfer_plugin.so.7'; dlerror: libnvinfer_plugin.so.7: cannot open shared object file: No such file or directory\n",
      "2023-01-30 10:33:22.136273: W tensorflow/compiler/tf2tensorrt/utils/py_utils.cc:38] TF-TRT Warning: Cannot dlopen some TensorRT libraries. If you would like to use Nvidia GPU with TensorRT, please make sure the missing libraries mentioned above are installed properly.\n",
      "2023-01-30 10:33:23.210366: W tensorflow/compiler/xla/stream_executor/platform/default/dso_loader.cc:64] Could not load dynamic library 'libcusolver.so.11'; dlerror: libcusolver.so.11: cannot open shared object file: No such file or directory\n",
      "2023-01-30 10:33:23.210579: W tensorflow/core/common_runtime/gpu/gpu_device.cc:1934] Cannot dlopen some GPU libraries. Please make sure the missing libraries mentioned above are installed properly if you would like to use GPU. Follow the guide at https://www.tensorflow.org/install/gpu for how to download and setup the required libraries for your platform.\n",
      "Skipping registering GPU devices...\n",
      "2023-01-30 10:33:23.256783: W tensorflow/compiler/xla/stream_executor/platform/default/dso_loader.cc:64] Could not load dynamic library 'libcusolver.so.11'; dlerror: libcusolver.so.11: cannot open shared object file: No such file or directory\n",
      "2023-01-30 10:33:23.256949: W tensorflow/core/common_runtime/gpu/gpu_device.cc:1934] Cannot dlopen some GPU libraries. Please make sure the missing libraries mentioned above are installed properly if you would like to use GPU. Follow the guide at https://www.tensorflow.org/install/gpu for how to download and setup the required libraries for your platform.\n",
      "Skipping registering GPU devices...\n",
      "2023-01-30 10:33:23.291508: W tensorflow/compiler/xla/stream_executor/platform/default/dso_loader.cc:64] Could not load dynamic library 'libcusolver.so.11'; dlerror: libcusolver.so.11: cannot open shared object file: No such file or directory\n",
      "2023-01-30 10:33:23.291675: W tensorflow/core/common_runtime/gpu/gpu_device.cc:1934] Cannot dlopen some GPU libraries. Please make sure the missing libraries mentioned above are installed properly if you would like to use GPU. Follow the guide at https://www.tensorflow.org/install/gpu for how to download and setup the required libraries for your platform.\n",
      "Skipping registering GPU devices...\n",
      "2023-01-30 10:33:23.323363: W tensorflow/compiler/xla/stream_executor/platform/default/dso_loader.cc:64] Could not load dynamic library 'libcusolver.so.11'; dlerror: libcusolver.so.11: cannot open shared object file: No such file or directory\n",
      "2023-01-30 10:33:23.323534: W tensorflow/core/common_runtime/gpu/gpu_device.cc:1934] Cannot dlopen some GPU libraries. Please make sure the missing libraries mentioned above are installed properly if you would like to use GPU. Follow the guide at https://www.tensorflow.org/install/gpu for how to download and setup the required libraries for your platform.\n",
      "Skipping registering GPU devices...\n",
      "2023-01-30 10:33:23.398440: W tensorflow/compiler/xla/stream_executor/platform/default/dso_loader.cc:64] Could not load dynamic library 'libcusolver.so.11'; dlerror: libcusolver.so.11: cannot open shared object file: No such file or directory\n",
      "2023-01-30 10:33:23.398718: W tensorflow/core/common_runtime/gpu/gpu_device.cc:1934] Cannot dlopen some GPU libraries. Please make sure the missing libraries mentioned above are installed properly if you would like to use GPU. Follow the guide at https://www.tensorflow.org/install/gpu for how to download and setup the required libraries for your platform.\n",
      "Skipping registering GPU devices...\n",
      "2023-01-30 10:33:23.430320: W tensorflow/compiler/xla/stream_executor/platform/default/dso_loader.cc:64] Could not load dynamic library 'libcusolver.so.11'; dlerror: libcusolver.so.11: cannot open shared object file: No such file or directory\n",
      "2023-01-30 10:33:23.430665: W tensorflow/core/common_runtime/gpu/gpu_device.cc:1934] Cannot dlopen some GPU libraries. Please make sure the missing libraries mentioned above are installed properly if you would like to use GPU. Follow the guide at https://www.tensorflow.org/install/gpu for how to download and setup the required libraries for your platform.\n",
      "Skipping registering GPU devices...\n",
      "2023-01-30 10:33:23.452576: W tensorflow/compiler/xla/stream_executor/platform/default/dso_loader.cc:64] Could not load dynamic library 'libcusolver.so.11'; dlerror: libcusolver.so.11: cannot open shared object file: No such file or directory\n",
      "2023-01-30 10:33:23.452741: W tensorflow/core/common_runtime/gpu/gpu_device.cc:1934] Cannot dlopen some GPU libraries. Please make sure the missing libraries mentioned above are installed properly if you would like to use GPU. Follow the guide at https://www.tensorflow.org/install/gpu for how to download and setup the required libraries for your platform.\n",
      "Skipping registering GPU devices...\n",
      "2023-01-30 10:33:23.515909: W tensorflow/compiler/xla/stream_executor/platform/default/dso_loader.cc:64] Could not load dynamic library 'libcusolver.so.11'; dlerror: libcusolver.so.11: cannot open shared object file: No such file or directory\n",
      "2023-01-30 10:33:23.516078: W tensorflow/core/common_runtime/gpu/gpu_device.cc:1934] Cannot dlopen some GPU libraries. Please make sure the missing libraries mentioned above are installed properly if you would like to use GPU. Follow the guide at https://www.tensorflow.org/install/gpu for how to download and setup the required libraries for your platform.\n",
      "Skipping registering GPU devices...\n",
      "2023-01-30 10:33:23.574993: W tensorflow/compiler/xla/stream_executor/platform/default/dso_loader.cc:64] Could not load dynamic library 'libcusolver.so.11'; dlerror: libcusolver.so.11: cannot open shared object file: No such file or directory\n",
      "2023-01-30 10:33:23.575171: W tensorflow/core/common_runtime/gpu/gpu_device.cc:1934] Cannot dlopen some GPU libraries. Please make sure the missing libraries mentioned above are installed properly if you would like to use GPU. Follow the guide at https://www.tensorflow.org/install/gpu for how to download and setup the required libraries for your platform.\n",
      "Skipping registering GPU devices...\n",
      "2023-01-30 10:33:23.629151: W tensorflow/compiler/xla/stream_executor/platform/default/dso_loader.cc:64] Could not load dynamic library 'libcusolver.so.11'; dlerror: libcusolver.so.11: cannot open shared object file: No such file or directory\n",
      "2023-01-30 10:33:23.629344: W tensorflow/core/common_runtime/gpu/gpu_device.cc:1934] Cannot dlopen some GPU libraries. Please make sure the missing libraries mentioned above are installed properly if you would like to use GPU. Follow the guide at https://www.tensorflow.org/install/gpu for how to download and setup the required libraries for your platform.\n",
      "Skipping registering GPU devices...\n",
      "2023-01-30 10:33:23.680190: W tensorflow/compiler/xla/stream_executor/platform/default/dso_loader.cc:64] Could not load dynamic library 'libcusolver.so.11'; dlerror: libcusolver.so.11: cannot open shared object file: No such file or directory\n",
      "2023-01-30 10:33:23.680413: W tensorflow/core/common_runtime/gpu/gpu_device.cc:1934] Cannot dlopen some GPU libraries. Please make sure the missing libraries mentioned above are installed properly if you would like to use GPU. Follow the guide at https://www.tensorflow.org/install/gpu for how to download and setup the required libraries for your platform.\n",
      "Skipping registering GPU devices...\n",
      "2023-01-30 10:33:23.742236: W tensorflow/compiler/xla/stream_executor/platform/default/dso_loader.cc:64] Could not load dynamic library 'libcusolver.so.11'; dlerror: libcusolver.so.11: cannot open shared object file: No such file or directory\n",
      "2023-01-30 10:33:23.742396: W tensorflow/core/common_runtime/gpu/gpu_device.cc:1934] Cannot dlopen some GPU libraries. Please make sure the missing libraries mentioned above are installed properly if you would like to use GPU. Follow the guide at https://www.tensorflow.org/install/gpu for how to download and setup the required libraries for your platform.\n",
      "Skipping registering GPU devices...\n",
      "2023-01-30 10:33:23.757967: W tensorflow/compiler/xla/stream_executor/platform/default/dso_loader.cc:64] Could not load dynamic library 'libcusolver.so.11'; dlerror: libcusolver.so.11: cannot open shared object file: No such file or directory\n",
      "2023-01-30 10:33:23.758123: W tensorflow/core/common_runtime/gpu/gpu_device.cc:1934] Cannot dlopen some GPU libraries. Please make sure the missing libraries mentioned above are installed properly if you would like to use GPU. Follow the guide at https://www.tensorflow.org/install/gpu for how to download and setup the required libraries for your platform.\n",
      "Skipping registering GPU devices...\n",
      "2023-01-30 10:33:23.814366: W tensorflow/compiler/xla/stream_executor/platform/default/dso_loader.cc:64] Could not load dynamic library 'libcusolver.so.11'; dlerror: libcusolver.so.11: cannot open shared object file: No such file or directory\n",
      "2023-01-30 10:33:23.814462: W tensorflow/core/common_runtime/gpu/gpu_device.cc:1934] Cannot dlopen some GPU libraries. Please make sure the missing libraries mentioned above are installed properly if you would like to use GPU. Follow the guide at https://www.tensorflow.org/install/gpu for how to download and setup the required libraries for your platform.\n",
      "Skipping registering GPU devices...\n",
      "2023-01-30 10:33:23.959101: W tensorflow/compiler/xla/stream_executor/platform/default/dso_loader.cc:64] Could not load dynamic library 'libcusolver.so.11'; dlerror: libcusolver.so.11: cannot open shared object file: No such file or directory\n",
      "2023-01-30 10:33:23.959509: W tensorflow/core/common_runtime/gpu/gpu_device.cc:1934] Cannot dlopen some GPU libraries. Please make sure the missing libraries mentioned above are installed properly if you would like to use GPU. Follow the guide at https://www.tensorflow.org/install/gpu for how to download and setup the required libraries for your platform.\n",
      "Skipping registering GPU devices...\n",
      "2023-01-30 10:33:23.968875: W tensorflow/compiler/xla/stream_executor/platform/default/dso_loader.cc:64] Could not load dynamic library 'libcusolver.so.11'; dlerror: libcusolver.so.11: cannot open shared object file: No such file or directory\n",
      "2023-01-30 10:33:23.969030: W tensorflow/core/common_runtime/gpu/gpu_device.cc:1934] Cannot dlopen some GPU libraries. Please make sure the missing libraries mentioned above are installed properly if you would like to use GPU. Follow the guide at https://www.tensorflow.org/install/gpu for how to download and setup the required libraries for your platform.\n",
      "Skipping registering GPU devices...\n",
      "[Parallel(n_jobs=-1)]: Done   9 tasks      | elapsed:    9.5s\n",
      "[Parallel(n_jobs=-1)]: Done 130 tasks      | elapsed:   10.5s\n",
      "[Parallel(n_jobs=-1)]: Done 333 tasks      | elapsed:   11.9s\n",
      "[Parallel(n_jobs=-1)]: Done 832 tasks      | elapsed:   14.7s\n",
      "[Parallel(n_jobs=-1)]: Done 1796 tasks      | elapsed:   18.2s\n",
      "[Parallel(n_jobs=-1)]: Done 3576 tasks      | elapsed:   22.6s\n",
      "[Parallel(n_jobs=-1)]: Done 5684 tasks      | elapsed:   27.4s\n",
      "[Parallel(n_jobs=-1)]: Done 8112 tasks      | elapsed:   32.9s\n",
      "[Parallel(n_jobs=-1)]: Done 10868 tasks      | elapsed:   39.4s\n",
      "[Parallel(n_jobs=-1)]: Done 13944 tasks      | elapsed:   46.5s\n",
      "[Parallel(n_jobs=-1)]: Done 17348 tasks      | elapsed:   54.2s\n",
      "[Parallel(n_jobs=-1)]: Done 21072 tasks      | elapsed:  1.0min\n",
      "[Parallel(n_jobs=-1)]: Done 25124 tasks      | elapsed:  1.2min\n",
      "[Parallel(n_jobs=-1)]: Done 29496 tasks      | elapsed:  1.4min\n",
      "[Parallel(n_jobs=-1)]: Done 34196 tasks      | elapsed:  1.5min\n",
      "[Parallel(n_jobs=-1)]: Done 39216 tasks      | elapsed:  1.7min\n",
      "[Parallel(n_jobs=-1)]: Done 44564 tasks      | elapsed:  2.0min\n",
      "[Parallel(n_jobs=-1)]: Done 50232 tasks      | elapsed:  2.2min\n",
      "[Parallel(n_jobs=-1)]: Done 56228 tasks      | elapsed:  2.4min\n",
      "[Parallel(n_jobs=-1)]: Done 62544 tasks      | elapsed:  2.6min\n",
      "[Parallel(n_jobs=-1)]: Done 69188 tasks      | elapsed:  2.9min\n",
      "[Parallel(n_jobs=-1)]: Done 76152 tasks      | elapsed:  3.1min\n",
      "[Parallel(n_jobs=-1)]: Done 83444 tasks      | elapsed:  3.5min\n",
      "[Parallel(n_jobs=-1)]: Done 91056 tasks      | elapsed:  3.8min\n",
      "[Parallel(n_jobs=-1)]: Done 98996 tasks      | elapsed:  4.1min\n",
      "[Parallel(n_jobs=-1)]: Done 107256 tasks      | elapsed:  4.4min\n",
      "[Parallel(n_jobs=-1)]: Done 115844 tasks      | elapsed:  4.8min\n",
      "[Parallel(n_jobs=-1)]: Done 124752 tasks      | elapsed:  5.1min\n",
      "[Parallel(n_jobs=-1)]: Done 133988 tasks      | elapsed:  5.5min\n",
      "[Parallel(n_jobs=-1)]: Done 143544 tasks      | elapsed:  5.8min\n",
      "[Parallel(n_jobs=-1)]: Done 153428 tasks      | elapsed:  6.2min\n",
      "[Parallel(n_jobs=-1)]: Done 163632 tasks      | elapsed:  6.6min\n",
      "[Parallel(n_jobs=-1)]: Done 180536 tasks      | elapsed:  7.3min\n",
      "[Parallel(n_jobs=-1)]: Done 202240 tasks      | elapsed:  8.2min\n",
      "[Parallel(n_jobs=-1)]: Done 224600 tasks      | elapsed:  9.1min\n",
      "[Parallel(n_jobs=-1)]: Done 247600 tasks      | elapsed: 10.0min\n",
      "[Parallel(n_jobs=-1)]: Done 271256 tasks      | elapsed: 10.9min\n",
      "[Parallel(n_jobs=-1)]: Done 295552 tasks      | elapsed: 11.9min\n",
      "[Parallel(n_jobs=-1)]: Done 320504 tasks      | elapsed: 12.8min\n",
      "[Parallel(n_jobs=-1)]: Done 346096 tasks      | elapsed: 13.8min\n",
      "[Parallel(n_jobs=-1)]: Done 372344 tasks      | elapsed: 14.8min\n",
      "[Parallel(n_jobs=-1)]: Done 399232 tasks      | elapsed: 15.9min\n",
      "[Parallel(n_jobs=-1)]: Done 426776 tasks      | elapsed: 17.0min\n",
      "[Parallel(n_jobs=-1)]: Done 454960 tasks      | elapsed: 18.1min\n",
      "[Parallel(n_jobs=-1)]: Done 483800 tasks      | elapsed: 19.2min\n",
      "[Parallel(n_jobs=-1)]: Done 513280 tasks      | elapsed: 20.4min\n",
      "[Parallel(n_jobs=-1)]: Done 543416 tasks      | elapsed: 21.6min\n",
      "[Parallel(n_jobs=-1)]: Done 574192 tasks      | elapsed: 22.8min\n",
      "[Parallel(n_jobs=-1)]: Done 605624 tasks      | elapsed: 24.1min\n",
      "[Parallel(n_jobs=-1)]: Done 637696 tasks      | elapsed: 25.4min\n",
      "[Parallel(n_jobs=-1)]: Done 670424 tasks      | elapsed: 26.8min\n",
      "[Parallel(n_jobs=-1)]: Done 690406 out of 690406 | elapsed: 27.7min finished\n"
     ]
    }
   ],
   "source": [
    "res = Parallel(n_jobs=-1, verbose=2)(delayed(lt.process)(**row) for _, row in rendered.iterrows())"
   ]
  },
  {
   "cell_type": "code",
   "execution_count": 110,
   "id": "81a4d1ec-37b0-4df1-8d6f-c1a0d7465646",
   "metadata": {},
   "outputs": [
    {
     "data": {
      "text/plain": [
       "690406"
      ]
     },
     "execution_count": 110,
     "metadata": {},
     "output_type": "execute_result"
    }
   ],
   "source": [
    "len(res)"
   ]
  },
  {
   "cell_type": "code",
   "execution_count": 111,
   "id": "d37cebc7-20f9-4f8a-a917-52a241267bea",
   "metadata": {},
   "outputs": [
    {
     "data": {
      "text/plain": [
       "[('It appears that a white space is missing.', 173758),\n",
       " ('A determiner may be missing.', 86927),\n",
       " ('Possible spelling mistake found.', 34301),\n",
       " ('With the plural noun ‘sexes’, the verb inflection ‘is’ is not correct.',\n",
       "  3360),\n",
       " ('An apostrophe may be missing.', 2030)]"
      ]
     },
     "execution_count": 111,
     "metadata": {},
     "output_type": "execute_result"
    }
   ],
   "source": [
    "ctr = lt.err_counter(res)\n",
    "ctr.most_common(5)"
   ]
  },
  {
   "cell_type": "code",
   "execution_count": 113,
   "id": "c40bd895-4d2c-4649-81e6-0df0fbfc5713",
   "metadata": {},
   "outputs": [
    {
     "data": {
      "text/plain": [
       "690406"
      ]
     },
     "execution_count": 113,
     "metadata": {},
     "output_type": "execute_result"
    }
   ],
   "source": [
    "len(res)"
   ]
  },
  {
   "cell_type": "code",
   "execution_count": 114,
   "id": "93f16961-d11d-428a-ac30-4a8d1bd55a31",
   "metadata": {},
   "outputs": [],
   "source": [
    "res = [r for r in res if len(r['matches']) > 0]"
   ]
  },
  {
   "cell_type": "code",
   "execution_count": 115,
   "id": "37577e54-c68f-4795-b65c-1b5ed11fe17f",
   "metadata": {},
   "outputs": [
    {
     "data": {
      "text/plain": [
       "187329"
      ]
     },
     "execution_count": 115,
     "metadata": {},
     "output_type": "execute_result"
    }
   ],
   "source": [
    "len(res)"
   ]
  },
  {
   "cell_type": "code",
   "execution_count": 117,
   "id": "44f93879-cbd0-4af3-83e7-fd80e934e06b",
   "metadata": {},
   "outputs": [],
   "source": [
    "rendered.to_json('data/cap42.json', orient='records', lines=True)"
   ]
  },
  {
   "cell_type": "code",
   "execution_count": 121,
   "id": "831084c0-039c-4a48-bc1a-fb9e57e135c3",
   "metadata": {},
   "outputs": [],
   "source": [
    "ws = lt.filter_lt_messages(res, message='white space')"
   ]
  },
  {
   "cell_type": "code",
   "execution_count": 122,
   "id": "6936b509-2a6a-444a-91b5-d6594ea0348e",
   "metadata": {},
   "outputs": [
    {
     "data": {
      "text/plain": [
       "{'question_id': 2708,\n",
       " 'matches': [{'message': 'It appears that a white space is missing.',\n",
       "   'shortMessage': 'Missing space',\n",
       "   'replacements': [{'value': ' ('}],\n",
       "   'offset': 168,\n",
       "   'length': 1,\n",
       "   'context': {'text': '...ers employed in Service sector in Europe(all income levels) by -16.2870393634.',\n",
       "    'offset': 43,\n",
       "    'length': 1},\n",
       "   'sentence': 'In the year 2009, the percentage of male workers employed in Service sector in Armenia is less than the percentage of male workers employed in Service sector in Europe(all income levels) by -16.2870393634.',\n",
       "   'type': {'typeName': 'Other'},\n",
       "   'rule': {'id': 'SPACE_BEFORE_PARENTHESIS',\n",
       "    'subId': '1',\n",
       "    'sourceFile': 'grammar.xml',\n",
       "    'description': 'Missing whitespace before a parenthesis',\n",
       "    'issueType': 'typographical',\n",
       "    'urls': [{'value': 'https://languagetool.org/insights/post/punctuation-guide/#what-are-parentheses'}],\n",
       "    'category': {'id': 'TYPOGRAPHY', 'name': 'Typography'}},\n",
       "   'ignoreForIncompleteSentence': True,\n",
       "   'contextForSureMatch': 10}]}"
      ]
     },
     "execution_count": 122,
     "metadata": {},
     "output_type": "execute_result"
    }
   ],
   "source": [
    "ws[0]"
   ]
  },
  {
   "cell_type": "code",
   "execution_count": 123,
   "id": "848e0f9e-d6d2-483a-b12a-ae65e00540dd",
   "metadata": {},
   "outputs": [],
   "source": [
    "with open('data/err_cap42.json', 'w') as fout:\n",
    "    json.dump(res, fout, indent=2)"
   ]
  },
  {
   "cell_type": "code",
   "execution_count": null,
   "id": "ba90e5f8-cc97-4b9b-b3cc-f50b2d6a6594",
   "metadata": {},
   "outputs": [],
   "source": []
  }
 ],
 "metadata": {
  "kernelspec": {
   "display_name": "Python 3 (ipykernel)",
   "language": "python",
   "name": "python3"
  },
  "language_info": {
   "codemirror_mode": {
    "name": "ipython",
    "version": 3
   },
   "file_extension": ".py",
   "mimetype": "text/x-python",
   "name": "python",
   "nbconvert_exporter": "python",
   "pygments_lexer": "ipython3",
   "version": "3.9.12"
  }
 },
 "nbformat": 4,
 "nbformat_minor": 5
}
