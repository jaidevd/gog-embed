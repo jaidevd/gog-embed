{
 "cells": [
  {
   "cell_type": "code",
   "execution_count": 1,
   "id": "2d8140a0-339a-4baf-b9ae-7152d741053a",
   "metadata": {
    "tags": []
   },
   "outputs": [
    {
     "name": "stderr",
     "output_type": "stream",
     "text": [
      "2023-01-29 11:21:51.262505: I tensorflow/core/platform/cpu_feature_guard.cc:193] This TensorFlow binary is optimized with oneAPI Deep Neural Network Library (oneDNN) to use the following CPU instructions in performance-critical operations:  AVX2 FMA\n",
      "To enable them in other operations, rebuild TensorFlow with the appropriate compiler flags.\n",
      "2023-01-29 11:21:52.476918: W tensorflow/compiler/xla/stream_executor/platform/default/dso_loader.cc:64] Could not load dynamic library 'libnvinfer.so.7'; dlerror: libnvinfer.so.7: cannot open shared object file: No such file or directory\n",
      "2023-01-29 11:21:52.476974: W tensorflow/compiler/xla/stream_executor/platform/default/dso_loader.cc:64] Could not load dynamic library 'libnvinfer_plugin.so.7'; dlerror: libnvinfer_plugin.so.7: cannot open shared object file: No such file or directory\n",
      "2023-01-29 11:21:52.476979: W tensorflow/compiler/tf2tensorrt/utils/py_utils.cc:38] TF-TRT Warning: Cannot dlopen some TensorRT libraries. If you would like to use Nvidia GPU with TensorRT, please make sure the missing libraries mentioned above are installed properly.\n",
      "2023-01-29 11:21:54.053207: W tensorflow/compiler/xla/stream_executor/platform/default/dso_loader.cc:64] Could not load dynamic library 'libcusolver.so.11'; dlerror: libcusolver.so.11: cannot open shared object file: No such file or directory\n",
      "2023-01-29 11:21:54.053272: W tensorflow/core/common_runtime/gpu/gpu_device.cc:1934] Cannot dlopen some GPU libraries. Please make sure the missing libraries mentioned above are installed properly if you would like to use GPU. Follow the guide at https://www.tensorflow.org/install/gpu for how to download and setup the required libraries for your platform.\n",
      "Skipping registering GPU devices...\n"
     ]
    }
   ],
   "source": [
    "%load_ext autoreload\n",
    "%autoreload 2\n",
    "\n",
    "import json\n",
    "import pandas as pd\n",
    "import grammar as lt\n",
    "from collections import Counter\n",
    "from tqdm import tqdm\n",
    "from joblib import Parallel, delayed"
   ]
  },
  {
   "cell_type": "code",
   "execution_count": 2,
   "id": "8bccd29f-5e08-40b6-a369-b3c18d332ca9",
   "metadata": {},
   "outputs": [],
   "source": [
    "with open('data/grammar.json', 'r') as fin:\n",
    "    data = json.load(fin)"
   ]
  },
  {
   "cell_type": "code",
   "execution_count": 3,
   "id": "954421a7-2461-4f00-ac71-4df1a06d1b9f",
   "metadata": {},
   "outputs": [
    {
     "data": {
      "text/plain": [
       "[('Unpaired symbol: ‘(’ seems to be missing', 8681),\n",
       " ('Unpaired symbol: ‘)’ seems to be missing', 8681),\n",
       " ('If specifying a range, consider using an en dash instead of a hyphen.',\n",
       "  8345),\n",
       " ('This noun is normally spelled as one word.', 8226),\n",
       " ('The verb form ‘is’ does not seem to match the subject ‘imports’.', 8219)]"
      ]
     },
     "execution_count": 3,
     "metadata": {},
     "output_type": "execute_result"
    }
   ],
   "source": [
    "ctr = lt.err_counter(data)\n",
    "ctr.most_common(5)"
   ]
  },
  {
   "cell_type": "code",
   "execution_count": 4,
   "id": "e67b8713-cbbe-4b75-b1dd-ab7474d77f3f",
   "metadata": {},
   "outputs": [],
   "source": [
    "X = lt.filter_lt_messages(data, message='unpaired symbol')"
   ]
  },
  {
   "cell_type": "code",
   "execution_count": 6,
   "id": "261d10c1-4605-406b-a4e1-0fc052e1804d",
   "metadata": {},
   "outputs": [],
   "source": [
    "qids = [c['question_id'] for c in X]"
   ]
  },
  {
   "cell_type": "code",
   "execution_count": 7,
   "id": "cc697d68-9884-418f-a56d-e150dff7c5e2",
   "metadata": {},
   "outputs": [
    {
     "data": {
      "text/plain": [
       "8681"
      ]
     },
     "execution_count": 7,
     "metadata": {},
     "output_type": "execute_result"
    }
   ],
   "source": [
    "len(qids)"
   ]
  },
  {
   "cell_type": "code",
   "execution_count": 8,
   "id": "335f2707-2e26-4b68-9524-5b587c1ff436",
   "metadata": {},
   "outputs": [
    {
     "data": {
      "text/plain": [
       "8681"
      ]
     },
     "execution_count": 8,
     "metadata": {},
     "output_type": "execute_result"
    }
   ],
   "source": [
    "len(set(qids))"
   ]
  },
  {
   "cell_type": "code",
   "execution_count": 9,
   "id": "e3e738bb-b24a-444a-9e2a-2f7b685be95f",
   "metadata": {},
   "outputs": [],
   "source": [
    "qids = sorted(qids)"
   ]
  },
  {
   "cell_type": "code",
   "execution_count": 11,
   "id": "ac8d88b9-7a8b-4658-9a33-31494594a343",
   "metadata": {},
   "outputs": [
    {
     "name": "stderr",
     "output_type": "stream",
     "text": [
      "19it [01:24,  4.46s/it]\n"
     ]
    }
   ],
   "source": [
    "df = []\n",
    "for x in tqdm(pd.read_json('data/qa_captions.json', lines=True, chunksize=1_000_000)):\n",
    "    x.set_index('question_id', verify_integrity=True, inplace=True)\n",
    "    x = x[x.index.isin(qids)]\n",
    "    df.append(x)"
   ]
  },
  {
   "cell_type": "code",
   "execution_count": 12,
   "id": "dcf2a00b-869f-472f-b024-eb973790e18a",
   "metadata": {},
   "outputs": [
    {
     "data": {
      "text/html": [
       "<div>\n",
       "<style scoped>\n",
       "    .dataframe tbody tr th:only-of-type {\n",
       "        vertical-align: middle;\n",
       "    }\n",
       "\n",
       "    .dataframe tbody tr th {\n",
       "        vertical-align: top;\n",
       "    }\n",
       "\n",
       "    .dataframe thead th {\n",
       "        text-align: right;\n",
       "    }\n",
       "</style>\n",
       "<table border=\"1\" class=\"dataframe\">\n",
       "  <thead>\n",
       "    <tr style=\"text-align: right;\">\n",
       "      <th></th>\n",
       "      <th>question_string</th>\n",
       "      <th>template</th>\n",
       "      <th>answer</th>\n",
       "      <th>type</th>\n",
       "      <th>template_id</th>\n",
       "      <th>caption</th>\n",
       "    </tr>\n",
       "    <tr>\n",
       "      <th>question_id</th>\n",
       "      <th></th>\n",
       "      <th></th>\n",
       "      <th></th>\n",
       "      <th></th>\n",
       "      <th></th>\n",
       "      <th></th>\n",
       "    </tr>\n",
       "  </thead>\n",
       "  <tbody>\n",
       "    <tr>\n",
       "      <th>13196</th>\n",
       "      <td>What is the difference between the highest and...</td>\n",
       "      <td>compound</td>\n",
       "      <td>167970000</td>\n",
       "      <td>dot</td>\n",
       "      <td>2</td>\n",
       "      <td>In the USD), the difference between the highes...</td>\n",
       "    </tr>\n",
       "    <tr>\n",
       "      <th>22677</th>\n",
       "      <td>What is the difference between the highest and...</td>\n",
       "      <td>compound</td>\n",
       "      <td>248290000</td>\n",
       "      <td>dot</td>\n",
       "      <td>2</td>\n",
       "      <td>In the USD), the difference between the highes...</td>\n",
       "    </tr>\n",
       "    <tr>\n",
       "      <th>23132</th>\n",
       "      <td>What is the difference between the highest and...</td>\n",
       "      <td>compound</td>\n",
       "      <td>1320000</td>\n",
       "      <td>dot</td>\n",
       "      <td>2</td>\n",
       "      <td>In the USD), the difference between the highes...</td>\n",
       "    </tr>\n",
       "    <tr>\n",
       "      <th>24052</th>\n",
       "      <td>What is the difference between the highest and...</td>\n",
       "      <td>compound</td>\n",
       "      <td>890000</td>\n",
       "      <td>dot</td>\n",
       "      <td>2</td>\n",
       "      <td>In the USD), the difference between the highes...</td>\n",
       "    </tr>\n",
       "    <tr>\n",
       "      <th>35820</th>\n",
       "      <td>What is the difference between the highest and...</td>\n",
       "      <td>compound</td>\n",
       "      <td>690000</td>\n",
       "      <td>dot</td>\n",
       "      <td>2</td>\n",
       "      <td>In the USD), the difference between the highes...</td>\n",
       "    </tr>\n",
       "  </tbody>\n",
       "</table>\n",
       "</div>"
      ],
      "text/plain": [
       "                                               question_string  template  \\\n",
       "question_id                                                                \n",
       "13196        What is the difference between the highest and...  compound   \n",
       "22677        What is the difference between the highest and...  compound   \n",
       "23132        What is the difference between the highest and...  compound   \n",
       "24052        What is the difference between the highest and...  compound   \n",
       "35820        What is the difference between the highest and...  compound   \n",
       "\n",
       "                answer type  template_id  \\\n",
       "question_id                                \n",
       "13196        167970000  dot            2   \n",
       "22677        248290000  dot            2   \n",
       "23132          1320000  dot            2   \n",
       "24052           890000  dot            2   \n",
       "35820           690000  dot            2   \n",
       "\n",
       "                                                       caption  \n",
       "question_id                                                     \n",
       "13196        In the USD), the difference between the highes...  \n",
       "22677        In the USD), the difference between the highes...  \n",
       "23132        In the USD), the difference between the highes...  \n",
       "24052        In the USD), the difference between the highes...  \n",
       "35820        In the USD), the difference between the highes...  "
      ]
     },
     "execution_count": 12,
     "metadata": {},
     "output_type": "execute_result"
    }
   ],
   "source": [
    "df = pd.concat(df, axis=0)\n",
    "df.head()"
   ]
  },
  {
   "cell_type": "code",
   "execution_count": 19,
   "id": "fba8f153-cd62-412f-b609-47107f0e0795",
   "metadata": {
    "tags": []
   },
   "outputs": [
    {
     "data": {
      "text/plain": [
       "question_id\n",
       "13196    In the USD), the difference between the highes...\n",
       "22677    In the USD), the difference between the highes...\n",
       "23132    In the USD), the difference between the highes...\n",
       "24052    In the USD), the difference between the highes...\n",
       "35820    In the USD), the difference between the highes...\n",
       "Name: caption, dtype: object"
      ]
     },
     "execution_count": 19,
     "metadata": {},
     "output_type": "execute_result"
    }
   ],
   "source": [
    "x = df[df['template_id'] == 2]\n",
    "x['caption'].head()"
   ]
  },
  {
   "cell_type": "code",
   "execution_count": 68,
   "id": "3b4bd02a-7d7a-4f77-a0f3-5e0167988e79",
   "metadata": {},
   "outputs": [
    {
     "data": {
      "text/html": [
       "<div>\n",
       "<style scoped>\n",
       "    .dataframe tbody tr th:only-of-type {\n",
       "        vertical-align: middle;\n",
       "    }\n",
       "\n",
       "    .dataframe tbody tr th {\n",
       "        vertical-align: top;\n",
       "    }\n",
       "\n",
       "    .dataframe thead th {\n",
       "        text-align: right;\n",
       "    }\n",
       "</style>\n",
       "<table border=\"1\" class=\"dataframe\">\n",
       "  <thead>\n",
       "    <tr style=\"text-align: right;\">\n",
       "      <th></th>\n",
       "      <th>regex</th>\n",
       "      <th>template_header</th>\n",
       "      <th>caption_templates</th>\n",
       "      <th>type</th>\n",
       "    </tr>\n",
       "    <tr>\n",
       "      <th>id</th>\n",
       "      <th></th>\n",
       "      <th></th>\n",
       "      <th></th>\n",
       "      <th></th>\n",
       "    </tr>\n",
       "  </thead>\n",
       "  <tbody>\n",
       "    <tr>\n",
       "      <th>1</th>\n",
       "      <td>Does the (?P&lt;ylabel&gt;.*) (?P&lt;preposition&gt;of|in)...</td>\n",
       "      <td>{% set metric = f'{ylabel} {preposition} {lege...</td>\n",
       "      <td>captions.randomize_1</td>\n",
       "      <td>binary</td>\n",
       "    </tr>\n",
       "    <tr>\n",
       "      <th>2</th>\n",
       "      <td>What is the (?P&lt;yvalue&gt;.*?) (?P&lt;preposition&gt;of...</td>\n",
       "      <td></td>\n",
       "      <td>[The {{ yvalue }} {{ preposition }} {{ xvalue ...</td>\n",
       "      <td>retrieval</td>\n",
       "    </tr>\n",
       "    <tr>\n",
       "      <th>3</th>\n",
       "      <td>Is the sum of the (?P&lt;ylabel1&gt;.*) (?P&lt;preposit...</td>\n",
       "      <td>\"{% set metric1 = f'{ylabel1} {preposition1} {...</td>\n",
       "      <td>captions.randomize_3</td>\n",
       "      <td>binary</td>\n",
       "    </tr>\n",
       "    <tr>\n",
       "      <th>4</th>\n",
       "      <td>What is the difference between the highest and...</td>\n",
       "      <td></td>\n",
       "      <td></td>\n",
       "      <td>retrieval</td>\n",
       "    </tr>\n",
       "    <tr>\n",
       "      <th>5</th>\n",
       "      <td>What is the difference between the highest and...</td>\n",
       "      <td></td>\n",
       "      <td></td>\n",
       "      <td>retrieval</td>\n",
       "    </tr>\n",
       "  </tbody>\n",
       "</table>\n",
       "</div>"
      ],
      "text/plain": [
       "                                                regex  \\\n",
       "id                                                      \n",
       "1   Does the (?P<ylabel>.*) (?P<preposition>of|in)...   \n",
       "2   What is the (?P<yvalue>.*?) (?P<preposition>of...   \n",
       "3   Is the sum of the (?P<ylabel1>.*) (?P<preposit...   \n",
       "4   What is the difference between the highest and...   \n",
       "5   What is the difference between the highest and...   \n",
       "\n",
       "                                      template_header  \\\n",
       "id                                                      \n",
       "1   {% set metric = f'{ylabel} {preposition} {lege...   \n",
       "2                                                       \n",
       "3   \"{% set metric1 = f'{ylabel1} {preposition1} {...   \n",
       "4                                                       \n",
       "5                                                       \n",
       "\n",
       "                                    caption_templates       type  \n",
       "id                                                                \n",
       "1                                captions.randomize_1     binary  \n",
       "2   [The {{ yvalue }} {{ preposition }} {{ xvalue ...  retrieval  \n",
       "3                                captions.randomize_3     binary  \n",
       "4                                                      retrieval  \n",
       "5                                                      retrieval  "
      ]
     },
     "execution_count": 68,
     "metadata": {},
     "output_type": "execute_result"
    }
   ],
   "source": [
    "import yaml\n",
    "with open('qa_templates.yaml', 'r') as fin:\n",
    "    cfg = yaml.safe_load(fin)\n",
    "cfg = pd.DataFrame.from_records(cfg)\n",
    "cfg.set_index('id', verify_integrity=True, inplace=True)\n",
    "cfg.head()"
   ]
  },
  {
   "cell_type": "code",
   "execution_count": 22,
   "id": "85f4d155-8270-47ad-9215-bd9be431863e",
   "metadata": {},
   "outputs": [],
   "source": [
    "import re"
   ]
  },
  {
   "cell_type": "code",
   "execution_count": 24,
   "id": "93477ac3-6d7d-4e06-b2c1-39dafa74e565",
   "metadata": {},
   "outputs": [],
   "source": [
    "from plotqa import match_and_generate"
   ]
  },
  {
   "cell_type": "code",
   "execution_count": 26,
   "id": "980668b2-a889-4690-9102-04d762cfdf0f",
   "metadata": {},
   "outputs": [
    {
     "data": {
      "text/plain": [
       "'The difference between the highest and the lowest amount of aid received(expressed in us$)  is 167970000.'"
      ]
     },
     "execution_count": 26,
     "metadata": {},
     "output_type": "execute_result"
    }
   ],
   "source": [
    "row = x.iloc[0]\n",
    "tmpl = cfg.loc[row['template_id']]\n",
    "match_and_generate(row['question_string'], row['answer'], tmpl['regex'], tmpl['template_header'], tmpl['caption_templates'])"
   ]
  },
  {
   "cell_type": "code",
   "execution_count": 27,
   "id": "d3904769-a863-4b29-900f-d4ef42bffdde",
   "metadata": {},
   "outputs": [
    {
     "data": {
      "text/html": [
       "<div>\n",
       "<style scoped>\n",
       "    .dataframe tbody tr th:only-of-type {\n",
       "        vertical-align: middle;\n",
       "    }\n",
       "\n",
       "    .dataframe tbody tr th {\n",
       "        vertical-align: top;\n",
       "    }\n",
       "\n",
       "    .dataframe thead th {\n",
       "        text-align: right;\n",
       "    }\n",
       "</style>\n",
       "<table border=\"1\" class=\"dataframe\">\n",
       "  <thead>\n",
       "    <tr style=\"text-align: right;\">\n",
       "      <th></th>\n",
       "      <th>question_string</th>\n",
       "      <th>template</th>\n",
       "      <th>answer</th>\n",
       "      <th>type</th>\n",
       "      <th>template_id</th>\n",
       "      <th>caption</th>\n",
       "    </tr>\n",
       "    <tr>\n",
       "      <th>question_id</th>\n",
       "      <th></th>\n",
       "      <th></th>\n",
       "      <th></th>\n",
       "      <th></th>\n",
       "      <th></th>\n",
       "      <th></th>\n",
       "    </tr>\n",
       "  </thead>\n",
       "  <tbody>\n",
       "    <tr>\n",
       "      <th>13196</th>\n",
       "      <td>What is the difference between the highest and...</td>\n",
       "      <td>compound</td>\n",
       "      <td>167970000</td>\n",
       "      <td>dot</td>\n",
       "      <td>2</td>\n",
       "      <td>In the USD), the difference between the highes...</td>\n",
       "    </tr>\n",
       "    <tr>\n",
       "      <th>22677</th>\n",
       "      <td>What is the difference between the highest and...</td>\n",
       "      <td>compound</td>\n",
       "      <td>248290000</td>\n",
       "      <td>dot</td>\n",
       "      <td>2</td>\n",
       "      <td>In the USD), the difference between the highes...</td>\n",
       "    </tr>\n",
       "    <tr>\n",
       "      <th>23132</th>\n",
       "      <td>What is the difference between the highest and...</td>\n",
       "      <td>compound</td>\n",
       "      <td>1320000</td>\n",
       "      <td>dot</td>\n",
       "      <td>2</td>\n",
       "      <td>In the USD), the difference between the highes...</td>\n",
       "    </tr>\n",
       "    <tr>\n",
       "      <th>24052</th>\n",
       "      <td>What is the difference between the highest and...</td>\n",
       "      <td>compound</td>\n",
       "      <td>890000</td>\n",
       "      <td>dot</td>\n",
       "      <td>2</td>\n",
       "      <td>In the USD), the difference between the highes...</td>\n",
       "    </tr>\n",
       "    <tr>\n",
       "      <th>35820</th>\n",
       "      <td>What is the difference between the highest and...</td>\n",
       "      <td>compound</td>\n",
       "      <td>690000</td>\n",
       "      <td>dot</td>\n",
       "      <td>2</td>\n",
       "      <td>In the USD), the difference between the highes...</td>\n",
       "    </tr>\n",
       "  </tbody>\n",
       "</table>\n",
       "</div>"
      ],
      "text/plain": [
       "                                               question_string  template  \\\n",
       "question_id                                                                \n",
       "13196        What is the difference between the highest and...  compound   \n",
       "22677        What is the difference between the highest and...  compound   \n",
       "23132        What is the difference between the highest and...  compound   \n",
       "24052        What is the difference between the highest and...  compound   \n",
       "35820        What is the difference between the highest and...  compound   \n",
       "\n",
       "                answer type  template_id  \\\n",
       "question_id                                \n",
       "13196        167970000  dot            2   \n",
       "22677        248290000  dot            2   \n",
       "23132          1320000  dot            2   \n",
       "24052           890000  dot            2   \n",
       "35820           690000  dot            2   \n",
       "\n",
       "                                                       caption  \n",
       "question_id                                                     \n",
       "13196        In the USD), the difference between the highes...  \n",
       "22677        In the USD), the difference between the highes...  \n",
       "23132        In the USD), the difference between the highes...  \n",
       "24052        In the USD), the difference between the highes...  \n",
       "35820        In the USD), the difference between the highes...  "
      ]
     },
     "execution_count": 27,
     "metadata": {},
     "output_type": "execute_result"
    }
   ],
   "source": [
    "df.head()"
   ]
  },
  {
   "cell_type": "code",
   "execution_count": 107,
   "id": "e144f555-6809-4554-9aa3-f902085a385c",
   "metadata": {},
   "outputs": [
    {
     "name": "stderr",
     "output_type": "stream",
     "text": [
      "8681it [00:04, 2126.82it/s]\n"
     ]
    }
   ],
   "source": [
    "df['new_caption'] = ''\n",
    "# df.set_index('question_id', verify_integrity=True, inplace=True)\n",
    "for qid, row in tqdm(df.iterrows()):\n",
    "    tmpl = cfg.loc[row['template_id']]\n",
    "    df.loc[qid, 'new_caption'] = match_and_generate(row['question_string'], row['answer'], tmpl['regex'], tmpl['template_header'], tmpl['caption_templates'])"
   ]
  },
  {
   "cell_type": "code",
   "execution_count": 108,
   "id": "3530c669-b85e-461c-bb7d-91a391614df7",
   "metadata": {},
   "outputs": [
    {
     "data": {
      "text/html": [
       "<div>\n",
       "<style scoped>\n",
       "    .dataframe tbody tr th:only-of-type {\n",
       "        vertical-align: middle;\n",
       "    }\n",
       "\n",
       "    .dataframe tbody tr th {\n",
       "        vertical-align: top;\n",
       "    }\n",
       "\n",
       "    .dataframe thead th {\n",
       "        text-align: right;\n",
       "    }\n",
       "</style>\n",
       "<table border=\"1\" class=\"dataframe\">\n",
       "  <thead>\n",
       "    <tr style=\"text-align: right;\">\n",
       "      <th></th>\n",
       "      <th>question_string</th>\n",
       "      <th>template</th>\n",
       "      <th>answer</th>\n",
       "      <th>type</th>\n",
       "      <th>template_id</th>\n",
       "      <th>caption</th>\n",
       "      <th>new_caption</th>\n",
       "    </tr>\n",
       "    <tr>\n",
       "      <th>question_id</th>\n",
       "      <th></th>\n",
       "      <th></th>\n",
       "      <th></th>\n",
       "      <th></th>\n",
       "      <th></th>\n",
       "      <th></th>\n",
       "      <th></th>\n",
       "    </tr>\n",
       "  </thead>\n",
       "  <tbody>\n",
       "    <tr>\n",
       "      <th>13196</th>\n",
       "      <td>What is the difference between the highest and...</td>\n",
       "      <td>compound</td>\n",
       "      <td>167970000</td>\n",
       "      <td>dot</td>\n",
       "      <td>2</td>\n",
       "      <td>The difference between the highest and the lo...</td>\n",
       "      <td>167970000 is the difference between the highes...</td>\n",
       "    </tr>\n",
       "    <tr>\n",
       "      <th>22677</th>\n",
       "      <td>What is the difference between the highest and...</td>\n",
       "      <td>compound</td>\n",
       "      <td>248290000</td>\n",
       "      <td>dot</td>\n",
       "      <td>2</td>\n",
       "      <td>The difference between the highest and the low...</td>\n",
       "      <td>The difference between the highest and the low...</td>\n",
       "    </tr>\n",
       "    <tr>\n",
       "      <th>23132</th>\n",
       "      <td>What is the difference between the highest and...</td>\n",
       "      <td>compound</td>\n",
       "      <td>1320000</td>\n",
       "      <td>dot</td>\n",
       "      <td>2</td>\n",
       "      <td>The difference between the highest and the sec...</td>\n",
       "      <td>The difference between the highest and the sec...</td>\n",
       "    </tr>\n",
       "    <tr>\n",
       "      <th>24052</th>\n",
       "      <td>What is the difference between the highest and...</td>\n",
       "      <td>compound</td>\n",
       "      <td>890000</td>\n",
       "      <td>dot</td>\n",
       "      <td>2</td>\n",
       "      <td>The difference between the highest and the sec...</td>\n",
       "      <td>890000 is the difference between the highest a...</td>\n",
       "    </tr>\n",
       "    <tr>\n",
       "      <th>35820</th>\n",
       "      <td>What is the difference between the highest and...</td>\n",
       "      <td>compound</td>\n",
       "      <td>690000</td>\n",
       "      <td>dot</td>\n",
       "      <td>2</td>\n",
       "      <td>The difference between the highest and the se...</td>\n",
       "      <td>690000 is the difference between the highest a...</td>\n",
       "    </tr>\n",
       "  </tbody>\n",
       "</table>\n",
       "</div>"
      ],
      "text/plain": [
       "                                               question_string  template  \\\n",
       "question_id                                                                \n",
       "13196        What is the difference between the highest and...  compound   \n",
       "22677        What is the difference between the highest and...  compound   \n",
       "23132        What is the difference between the highest and...  compound   \n",
       "24052        What is the difference between the highest and...  compound   \n",
       "35820        What is the difference between the highest and...  compound   \n",
       "\n",
       "                answer type  template_id  \\\n",
       "question_id                                \n",
       "13196        167970000  dot            2   \n",
       "22677        248290000  dot            2   \n",
       "23132          1320000  dot            2   \n",
       "24052           890000  dot            2   \n",
       "35820           690000  dot            2   \n",
       "\n",
       "                                                       caption  \\\n",
       "question_id                                                      \n",
       "13196         The difference between the highest and the lo...   \n",
       "22677        The difference between the highest and the low...   \n",
       "23132        The difference between the highest and the sec...   \n",
       "24052        The difference between the highest and the sec...   \n",
       "35820         The difference between the highest and the se...   \n",
       "\n",
       "                                                   new_caption  \n",
       "question_id                                                     \n",
       "13196        167970000 is the difference between the highes...  \n",
       "22677        The difference between the highest and the low...  \n",
       "23132        The difference between the highest and the sec...  \n",
       "24052        890000 is the difference between the highest a...  \n",
       "35820        690000 is the difference between the highest a...  "
      ]
     },
     "execution_count": 108,
     "metadata": {},
     "output_type": "execute_result"
    }
   ],
   "source": [
    "df.head()"
   ]
  },
  {
   "cell_type": "code",
   "execution_count": 109,
   "id": "35ac2627-d383-44e2-98f6-0bf597514115",
   "metadata": {},
   "outputs": [],
   "source": [
    "df['caption'] = df.pop('new_caption')"
   ]
  },
  {
   "cell_type": "code",
   "execution_count": 110,
   "id": "2e572aab-3759-434d-a7b9-3570004cf650",
   "metadata": {
    "collapsed": true,
    "jupyter": {
     "outputs_hidden": true
    },
    "tags": []
   },
   "outputs": [
    {
     "name": "stderr",
     "output_type": "stream",
     "text": [
      "[Parallel(n_jobs=-1)]: Using backend LokyBackend with 16 concurrent workers.\n",
      "2023-01-29 12:32:22.228497: W tensorflow/compiler/xla/stream_executor/platform/default/dso_loader.cc:64] Could not load dynamic library 'libnvinfer.so.7'; dlerror: libnvinfer.so.7: cannot open shared object file: No such file or directory\n",
      "2023-01-29 12:32:22.228798: W tensorflow/compiler/xla/stream_executor/platform/default/dso_loader.cc:64] Could not load dynamic library 'libnvinfer_plugin.so.7'; dlerror: libnvinfer_plugin.so.7: cannot open shared object file: No such file or directory\n",
      "2023-01-29 12:32:22.228809: W tensorflow/compiler/tf2tensorrt/utils/py_utils.cc:38] TF-TRT Warning: Cannot dlopen some TensorRT libraries. If you would like to use Nvidia GPU with TensorRT, please make sure the missing libraries mentioned above are installed properly.\n",
      "2023-01-29 12:32:22.240581: W tensorflow/compiler/xla/stream_executor/platform/default/dso_loader.cc:64] Could not load dynamic library 'libnvinfer.so.7'; dlerror: libnvinfer.so.7: cannot open shared object file: No such file or directory\n",
      "2023-01-29 12:32:22.241668: W tensorflow/compiler/xla/stream_executor/platform/default/dso_loader.cc:64] Could not load dynamic library 'libnvinfer_plugin.so.7'; dlerror: libnvinfer_plugin.so.7: cannot open shared object file: No such file or directory\n",
      "2023-01-29 12:32:22.241701: W tensorflow/compiler/tf2tensorrt/utils/py_utils.cc:38] TF-TRT Warning: Cannot dlopen some TensorRT libraries. If you would like to use Nvidia GPU with TensorRT, please make sure the missing libraries mentioned above are installed properly.\n",
      "2023-01-29 12:32:22.250253: W tensorflow/compiler/xla/stream_executor/platform/default/dso_loader.cc:64] Could not load dynamic library 'libnvinfer.so.7'; dlerror: libnvinfer.so.7: cannot open shared object file: No such file or directory\n",
      "2023-01-29 12:32:22.250409: W tensorflow/compiler/xla/stream_executor/platform/default/dso_loader.cc:64] Could not load dynamic library 'libnvinfer_plugin.so.7'; dlerror: libnvinfer_plugin.so.7: cannot open shared object file: No such file or directory\n",
      "2023-01-29 12:32:22.250451: W tensorflow/compiler/tf2tensorrt/utils/py_utils.cc:38] TF-TRT Warning: Cannot dlopen some TensorRT libraries. If you would like to use Nvidia GPU with TensorRT, please make sure the missing libraries mentioned above are installed properly.\n",
      "2023-01-29 12:32:22.353410: W tensorflow/compiler/xla/stream_executor/platform/default/dso_loader.cc:64] Could not load dynamic library 'libnvinfer.so.7'; dlerror: libnvinfer.so.7: cannot open shared object file: No such file or directory\n",
      "2023-01-29 12:32:22.353650: W tensorflow/compiler/xla/stream_executor/platform/default/dso_loader.cc:64] Could not load dynamic library 'libnvinfer_plugin.so.7'; dlerror: libnvinfer_plugin.so.7: cannot open shared object file: No such file or directory\n",
      "2023-01-29 12:32:22.353706: W tensorflow/compiler/tf2tensorrt/utils/py_utils.cc:38] TF-TRT Warning: Cannot dlopen some TensorRT libraries. If you would like to use Nvidia GPU with TensorRT, please make sure the missing libraries mentioned above are installed properly.\n",
      "2023-01-29 12:32:22.356855: W tensorflow/compiler/xla/stream_executor/platform/default/dso_loader.cc:64] Could not load dynamic library 'libnvinfer.so.7'; dlerror: libnvinfer.so.7: cannot open shared object file: No such file or directory\n",
      "2023-01-29 12:32:22.357080: W tensorflow/compiler/xla/stream_executor/platform/default/dso_loader.cc:64] Could not load dynamic library 'libnvinfer_plugin.so.7'; dlerror: libnvinfer_plugin.so.7: cannot open shared object file: No such file or directory\n",
      "2023-01-29 12:32:22.357122: W tensorflow/compiler/tf2tensorrt/utils/py_utils.cc:38] TF-TRT Warning: Cannot dlopen some TensorRT libraries. If you would like to use Nvidia GPU with TensorRT, please make sure the missing libraries mentioned above are installed properly.\n",
      "2023-01-29 12:32:22.359879: W tensorflow/compiler/xla/stream_executor/platform/default/dso_loader.cc:64] Could not load dynamic library 'libnvinfer.so.7'; dlerror: libnvinfer.so.7: cannot open shared object file: No such file or directory\n",
      "2023-01-29 12:32:22.360133: W tensorflow/compiler/xla/stream_executor/platform/default/dso_loader.cc:64] Could not load dynamic library 'libnvinfer_plugin.so.7'; dlerror: libnvinfer_plugin.so.7: cannot open shared object file: No such file or directory\n",
      "2023-01-29 12:32:22.360189: W tensorflow/compiler/tf2tensorrt/utils/py_utils.cc:38] TF-TRT Warning: Cannot dlopen some TensorRT libraries. If you would like to use Nvidia GPU with TensorRT, please make sure the missing libraries mentioned above are installed properly.\n",
      "2023-01-29 12:32:22.439655: W tensorflow/compiler/xla/stream_executor/platform/default/dso_loader.cc:64] Could not load dynamic library 'libnvinfer.so.7'; dlerror: libnvinfer.so.7: cannot open shared object file: No such file or directory\n",
      "2023-01-29 12:32:22.439857: W tensorflow/compiler/xla/stream_executor/platform/default/dso_loader.cc:64] Could not load dynamic library 'libnvinfer_plugin.so.7'; dlerror: libnvinfer_plugin.so.7: cannot open shared object file: No such file or directory\n",
      "2023-01-29 12:32:22.439876: W tensorflow/compiler/tf2tensorrt/utils/py_utils.cc:38] TF-TRT Warning: Cannot dlopen some TensorRT libraries. If you would like to use Nvidia GPU with TensorRT, please make sure the missing libraries mentioned above are installed properly.\n",
      "2023-01-29 12:32:22.508491: W tensorflow/compiler/xla/stream_executor/platform/default/dso_loader.cc:64] Could not load dynamic library 'libnvinfer.so.7'; dlerror: libnvinfer.so.7: cannot open shared object file: No such file or directory\n",
      "2023-01-29 12:32:22.508638: W tensorflow/compiler/xla/stream_executor/platform/default/dso_loader.cc:64] Could not load dynamic library 'libnvinfer_plugin.so.7'; dlerror: libnvinfer_plugin.so.7: cannot open shared object file: No such file or directory\n",
      "2023-01-29 12:32:22.508678: W tensorflow/compiler/tf2tensorrt/utils/py_utils.cc:38] TF-TRT Warning: Cannot dlopen some TensorRT libraries. If you would like to use Nvidia GPU with TensorRT, please make sure the missing libraries mentioned above are installed properly.\n",
      "2023-01-29 12:32:22.512110: W tensorflow/compiler/xla/stream_executor/platform/default/dso_loader.cc:64] Could not load dynamic library 'libnvinfer.so.7'; dlerror: libnvinfer.so.7: cannot open shared object file: No such file or directory\n",
      "2023-01-29 12:32:22.512271: W tensorflow/compiler/xla/stream_executor/platform/default/dso_loader.cc:64] Could not load dynamic library 'libnvinfer_plugin.so.7'; dlerror: libnvinfer_plugin.so.7: cannot open shared object file: No such file or directory\n",
      "2023-01-29 12:32:22.512323: W tensorflow/compiler/tf2tensorrt/utils/py_utils.cc:38] TF-TRT Warning: Cannot dlopen some TensorRT libraries. If you would like to use Nvidia GPU with TensorRT, please make sure the missing libraries mentioned above are installed properly.\n",
      "2023-01-29 12:32:22.513939: W tensorflow/compiler/xla/stream_executor/platform/default/dso_loader.cc:64] Could not load dynamic library 'libnvinfer.so.7'; dlerror: libnvinfer.so.7: cannot open shared object file: No such file or directory\n",
      "2023-01-29 12:32:22.514102: W tensorflow/compiler/xla/stream_executor/platform/default/dso_loader.cc:64] Could not load dynamic library 'libnvinfer_plugin.so.7'; dlerror: libnvinfer_plugin.so.7: cannot open shared object file: No such file or directory\n",
      "2023-01-29 12:32:22.514140: W tensorflow/compiler/tf2tensorrt/utils/py_utils.cc:38] TF-TRT Warning: Cannot dlopen some TensorRT libraries. If you would like to use Nvidia GPU with TensorRT, please make sure the missing libraries mentioned above are installed properly.\n",
      "2023-01-29 12:32:22.515312: W tensorflow/compiler/xla/stream_executor/platform/default/dso_loader.cc:64] Could not load dynamic library 'libnvinfer.so.7'; dlerror: libnvinfer.so.7: cannot open shared object file: No such file or directory\n",
      "2023-01-29 12:32:22.515436: W tensorflow/compiler/xla/stream_executor/platform/default/dso_loader.cc:64] Could not load dynamic library 'libnvinfer_plugin.so.7'; dlerror: libnvinfer_plugin.so.7: cannot open shared object file: No such file or directory\n",
      "2023-01-29 12:32:22.515467: W tensorflow/compiler/tf2tensorrt/utils/py_utils.cc:38] TF-TRT Warning: Cannot dlopen some TensorRT libraries. If you would like to use Nvidia GPU with TensorRT, please make sure the missing libraries mentioned above are installed properly.\n",
      "2023-01-29 12:32:22.518467: W tensorflow/compiler/xla/stream_executor/platform/default/dso_loader.cc:64] Could not load dynamic library 'libnvinfer.so.7'; dlerror: libnvinfer.so.7: cannot open shared object file: No such file or directory\n",
      "2023-01-29 12:32:22.518627: W tensorflow/compiler/xla/stream_executor/platform/default/dso_loader.cc:64] Could not load dynamic library 'libnvinfer_plugin.so.7'; dlerror: libnvinfer_plugin.so.7: cannot open shared object file: No such file or directory\n",
      "2023-01-29 12:32:22.518662: W tensorflow/compiler/tf2tensorrt/utils/py_utils.cc:38] TF-TRT Warning: Cannot dlopen some TensorRT libraries. If you would like to use Nvidia GPU with TensorRT, please make sure the missing libraries mentioned above are installed properly.\n",
      "2023-01-29 12:32:22.532364: W tensorflow/compiler/xla/stream_executor/platform/default/dso_loader.cc:64] Could not load dynamic library 'libnvinfer.so.7'; dlerror: libnvinfer.so.7: cannot open shared object file: No such file or directory\n",
      "2023-01-29 12:32:22.532524: W tensorflow/compiler/xla/stream_executor/platform/default/dso_loader.cc:64] Could not load dynamic library 'libnvinfer_plugin.so.7'; dlerror: libnvinfer_plugin.so.7: cannot open shared object file: No such file or directory\n",
      "2023-01-29 12:32:22.532578: W tensorflow/compiler/tf2tensorrt/utils/py_utils.cc:38] TF-TRT Warning: Cannot dlopen some TensorRT libraries. If you would like to use Nvidia GPU with TensorRT, please make sure the missing libraries mentioned above are installed properly.\n",
      "2023-01-29 12:32:22.552155: W tensorflow/compiler/xla/stream_executor/platform/default/dso_loader.cc:64] Could not load dynamic library 'libnvinfer.so.7'; dlerror: libnvinfer.so.7: cannot open shared object file: No such file or directory\n",
      "2023-01-29 12:32:22.552173: W tensorflow/compiler/xla/stream_executor/platform/default/dso_loader.cc:64] Could not load dynamic library 'libnvinfer.so.7'; dlerror: libnvinfer.so.7: cannot open shared object file: No such file or directory\n",
      "2023-01-29 12:32:22.552240: W tensorflow/compiler/xla/stream_executor/platform/default/dso_loader.cc:64] Could not load dynamic library 'libnvinfer_plugin.so.7'; dlerror: libnvinfer_plugin.so.7: cannot open shared object file: No such file or directory\n",
      "2023-01-29 12:32:22.552283: W tensorflow/compiler/tf2tensorrt/utils/py_utils.cc:38] TF-TRT Warning: Cannot dlopen some TensorRT libraries. If you would like to use Nvidia GPU with TensorRT, please make sure the missing libraries mentioned above are installed properly.\n",
      "2023-01-29 12:32:22.552334: W tensorflow/compiler/xla/stream_executor/platform/default/dso_loader.cc:64] Could not load dynamic library 'libnvinfer_plugin.so.7'; dlerror: libnvinfer_plugin.so.7: cannot open shared object file: No such file or directory\n",
      "2023-01-29 12:32:22.552370: W tensorflow/compiler/tf2tensorrt/utils/py_utils.cc:38] TF-TRT Warning: Cannot dlopen some TensorRT libraries. If you would like to use Nvidia GPU with TensorRT, please make sure the missing libraries mentioned above are installed properly.\n",
      "2023-01-29 12:32:22.709919: W tensorflow/compiler/xla/stream_executor/platform/default/dso_loader.cc:64] Could not load dynamic library 'libnvinfer.so.7'; dlerror: libnvinfer.so.7: cannot open shared object file: No such file or directory\n",
      "2023-01-29 12:32:22.710421: W tensorflow/compiler/xla/stream_executor/platform/default/dso_loader.cc:64] Could not load dynamic library 'libnvinfer_plugin.so.7'; dlerror: libnvinfer_plugin.so.7: cannot open shared object file: No such file or directory\n",
      "2023-01-29 12:32:22.710464: W tensorflow/compiler/tf2tensorrt/utils/py_utils.cc:38] TF-TRT Warning: Cannot dlopen some TensorRT libraries. If you would like to use Nvidia GPU with TensorRT, please make sure the missing libraries mentioned above are installed properly.\n",
      "2023-01-29 12:32:24.020566: W tensorflow/compiler/xla/stream_executor/platform/default/dso_loader.cc:64] Could not load dynamic library 'libcusolver.so.11'; dlerror: libcusolver.so.11: cannot open shared object file: No such file or directory\n",
      "2023-01-29 12:32:24.020761: W tensorflow/core/common_runtime/gpu/gpu_device.cc:1934] Cannot dlopen some GPU libraries. Please make sure the missing libraries mentioned above are installed properly if you would like to use GPU. Follow the guide at https://www.tensorflow.org/install/gpu for how to download and setup the required libraries for your platform.\n",
      "Skipping registering GPU devices...\n",
      "2023-01-29 12:32:24.056377: W tensorflow/compiler/xla/stream_executor/platform/default/dso_loader.cc:64] Could not load dynamic library 'libcusolver.so.11'; dlerror: libcusolver.so.11: cannot open shared object file: No such file or directory\n",
      "2023-01-29 12:32:24.056527: W tensorflow/core/common_runtime/gpu/gpu_device.cc:1934] Cannot dlopen some GPU libraries. Please make sure the missing libraries mentioned above are installed properly if you would like to use GPU. Follow the guide at https://www.tensorflow.org/install/gpu for how to download and setup the required libraries for your platform.\n",
      "Skipping registering GPU devices...\n",
      "2023-01-29 12:32:24.106619: W tensorflow/compiler/xla/stream_executor/platform/default/dso_loader.cc:64] Could not load dynamic library 'libcusolver.so.11'; dlerror: libcusolver.so.11: cannot open shared object file: No such file or directory\n",
      "2023-01-29 12:32:24.106949: W tensorflow/core/common_runtime/gpu/gpu_device.cc:1934] Cannot dlopen some GPU libraries. Please make sure the missing libraries mentioned above are installed properly if you would like to use GPU. Follow the guide at https://www.tensorflow.org/install/gpu for how to download and setup the required libraries for your platform.\n",
      "Skipping registering GPU devices...\n",
      "2023-01-29 12:32:24.110311: W tensorflow/compiler/xla/stream_executor/platform/default/dso_loader.cc:64] Could not load dynamic library 'libcusolver.so.11'; dlerror: libcusolver.so.11: cannot open shared object file: No such file or directory\n",
      "2023-01-29 12:32:24.110459: W tensorflow/core/common_runtime/gpu/gpu_device.cc:1934] Cannot dlopen some GPU libraries. Please make sure the missing libraries mentioned above are installed properly if you would like to use GPU. Follow the guide at https://www.tensorflow.org/install/gpu for how to download and setup the required libraries for your platform.\n",
      "Skipping registering GPU devices...\n",
      "2023-01-29 12:32:24.122204: W tensorflow/compiler/xla/stream_executor/platform/default/dso_loader.cc:64] Could not load dynamic library 'libcusolver.so.11'; dlerror: libcusolver.so.11: cannot open shared object file: No such file or directory\n",
      "2023-01-29 12:32:24.122346: W tensorflow/core/common_runtime/gpu/gpu_device.cc:1934] Cannot dlopen some GPU libraries. Please make sure the missing libraries mentioned above are installed properly if you would like to use GPU. Follow the guide at https://www.tensorflow.org/install/gpu for how to download and setup the required libraries for your platform.\n",
      "Skipping registering GPU devices...\n",
      "2023-01-29 12:32:24.165532: W tensorflow/compiler/xla/stream_executor/platform/default/dso_loader.cc:64] Could not load dynamic library 'libcusolver.so.11'; dlerror: libcusolver.so.11: cannot open shared object file: No such file or directory\n",
      "2023-01-29 12:32:24.165699: W tensorflow/core/common_runtime/gpu/gpu_device.cc:1934] Cannot dlopen some GPU libraries. Please make sure the missing libraries mentioned above are installed properly if you would like to use GPU. Follow the guide at https://www.tensorflow.org/install/gpu for how to download and setup the required libraries for your platform.\n",
      "Skipping registering GPU devices...\n",
      "2023-01-29 12:32:24.293480: W tensorflow/compiler/xla/stream_executor/platform/default/dso_loader.cc:64] Could not load dynamic library 'libcusolver.so.11'; dlerror: libcusolver.so.11: cannot open shared object file: No such file or directory\n",
      "2023-01-29 12:32:24.293709: W tensorflow/core/common_runtime/gpu/gpu_device.cc:1934] Cannot dlopen some GPU libraries. Please make sure the missing libraries mentioned above are installed properly if you would like to use GPU. Follow the guide at https://www.tensorflow.org/install/gpu for how to download and setup the required libraries for your platform.\n",
      "Skipping registering GPU devices...\n",
      "2023-01-29 12:32:24.332619: W tensorflow/compiler/xla/stream_executor/platform/default/dso_loader.cc:64] Could not load dynamic library 'libcusolver.so.11'; dlerror: libcusolver.so.11: cannot open shared object file: No such file or directory\n",
      "2023-01-29 12:32:24.332785: W tensorflow/core/common_runtime/gpu/gpu_device.cc:1934] Cannot dlopen some GPU libraries. Please make sure the missing libraries mentioned above are installed properly if you would like to use GPU. Follow the guide at https://www.tensorflow.org/install/gpu for how to download and setup the required libraries for your platform.\n",
      "Skipping registering GPU devices...\n",
      "2023-01-29 12:32:24.355845: W tensorflow/compiler/xla/stream_executor/platform/default/dso_loader.cc:64] Could not load dynamic library 'libcusolver.so.11'; dlerror: libcusolver.so.11: cannot open shared object file: No such file or directory\n",
      "2023-01-29 12:32:24.356006: W tensorflow/core/common_runtime/gpu/gpu_device.cc:1934] Cannot dlopen some GPU libraries. Please make sure the missing libraries mentioned above are installed properly if you would like to use GPU. Follow the guide at https://www.tensorflow.org/install/gpu for how to download and setup the required libraries for your platform.\n",
      "Skipping registering GPU devices...\n",
      "2023-01-29 12:32:24.372058: W tensorflow/compiler/xla/stream_executor/platform/default/dso_loader.cc:64] Could not load dynamic library 'libcusolver.so.11'; dlerror: libcusolver.so.11: cannot open shared object file: No such file or directory\n",
      "2023-01-29 12:32:24.372221: W tensorflow/core/common_runtime/gpu/gpu_device.cc:1934] Cannot dlopen some GPU libraries. Please make sure the missing libraries mentioned above are installed properly if you would like to use GPU. Follow the guide at https://www.tensorflow.org/install/gpu for how to download and setup the required libraries for your platform.\n",
      "Skipping registering GPU devices...\n",
      "2023-01-29 12:32:24.376970: W tensorflow/compiler/xla/stream_executor/platform/default/dso_loader.cc:64] Could not load dynamic library 'libcusolver.so.11'; dlerror: libcusolver.so.11: cannot open shared object file: No such file or directory\n",
      "2023-01-29 12:32:24.377115: W tensorflow/core/common_runtime/gpu/gpu_device.cc:1934] Cannot dlopen some GPU libraries. Please make sure the missing libraries mentioned above are installed properly if you would like to use GPU. Follow the guide at https://www.tensorflow.org/install/gpu for how to download and setup the required libraries for your platform.\n",
      "Skipping registering GPU devices...\n",
      "2023-01-29 12:32:24.377722: W tensorflow/compiler/xla/stream_executor/platform/default/dso_loader.cc:64] Could not load dynamic library 'libcusolver.so.11'; dlerror: libcusolver.so.11: cannot open shared object file: No such file or directory\n",
      "2023-01-29 12:32:24.377840: W tensorflow/core/common_runtime/gpu/gpu_device.cc:1934] Cannot dlopen some GPU libraries. Please make sure the missing libraries mentioned above are installed properly if you would like to use GPU. Follow the guide at https://www.tensorflow.org/install/gpu for how to download and setup the required libraries for your platform.\n",
      "Skipping registering GPU devices...\n",
      "2023-01-29 12:32:24.394692: W tensorflow/compiler/xla/stream_executor/platform/default/dso_loader.cc:64] Could not load dynamic library 'libcusolver.so.11'; dlerror: libcusolver.so.11: cannot open shared object file: No such file or directory\n",
      "2023-01-29 12:32:24.395008: W tensorflow/core/common_runtime/gpu/gpu_device.cc:1934] Cannot dlopen some GPU libraries. Please make sure the missing libraries mentioned above are installed properly if you would like to use GPU. Follow the guide at https://www.tensorflow.org/install/gpu for how to download and setup the required libraries for your platform.\n",
      "Skipping registering GPU devices...\n",
      "2023-01-29 12:32:24.417598: W tensorflow/compiler/xla/stream_executor/platform/default/dso_loader.cc:64] Could not load dynamic library 'libcusolver.so.11'; dlerror: libcusolver.so.11: cannot open shared object file: No such file or directory\n",
      "2023-01-29 12:32:24.417767: W tensorflow/core/common_runtime/gpu/gpu_device.cc:1934] Cannot dlopen some GPU libraries. Please make sure the missing libraries mentioned above are installed properly if you would like to use GPU. Follow the guide at https://www.tensorflow.org/install/gpu for how to download and setup the required libraries for your platform.\n",
      "Skipping registering GPU devices...\n",
      "2023-01-29 12:32:24.449552: W tensorflow/compiler/xla/stream_executor/platform/default/dso_loader.cc:64] Could not load dynamic library 'libcusolver.so.11'; dlerror: libcusolver.so.11: cannot open shared object file: No such file or directory\n",
      "2023-01-29 12:32:24.449707: W tensorflow/core/common_runtime/gpu/gpu_device.cc:1934] Cannot dlopen some GPU libraries. Please make sure the missing libraries mentioned above are installed properly if you would like to use GPU. Follow the guide at https://www.tensorflow.org/install/gpu for how to download and setup the required libraries for your platform.\n",
      "Skipping registering GPU devices...\n",
      "2023-01-29 12:32:24.463105: W tensorflow/compiler/xla/stream_executor/platform/default/dso_loader.cc:64] Could not load dynamic library 'libcusolver.so.11'; dlerror: libcusolver.so.11: cannot open shared object file: No such file or directory\n",
      "2023-01-29 12:32:24.463277: W tensorflow/core/common_runtime/gpu/gpu_device.cc:1934] Cannot dlopen some GPU libraries. Please make sure the missing libraries mentioned above are installed properly if you would like to use GPU. Follow the guide at https://www.tensorflow.org/install/gpu for how to download and setup the required libraries for your platform.\n",
      "Skipping registering GPU devices...\n",
      "[Parallel(n_jobs=-1)]: Done   9 tasks      | elapsed:    5.1s\n",
      "[Parallel(n_jobs=-1)]: Done 148 tasks      | elapsed:    5.7s\n",
      "[Parallel(n_jobs=-1)]: Done 932 tasks      | elapsed:    7.6s\n",
      "[Parallel(n_jobs=-1)]: Done 2064 tasks      | elapsed:   10.1s\n",
      "[Parallel(n_jobs=-1)]: Done 3524 tasks      | elapsed:   13.5s\n",
      "[Parallel(n_jobs=-1)]: Done 5304 tasks      | elapsed:   17.6s\n",
      "[Parallel(n_jobs=-1)]: Done 7412 tasks      | elapsed:   22.4s\n",
      "[Parallel(n_jobs=-1)]: Done 8681 out of 8681 | elapsed:   25.3s finished\n"
     ]
    }
   ],
   "source": [
    "df.reset_index(inplace=True)\n",
    "res = Parallel(n_jobs=-1, verbose=2)(delayed(lt.process)(**row) for _, row in df.iterrows())"
   ]
  },
  {
   "cell_type": "code",
   "execution_count": 111,
   "id": "e7419fee-35b4-4c08-8cd4-49b248177f3f",
   "metadata": {},
   "outputs": [
    {
     "data": {
      "text/plain": [
       "[('It seems like there are too many consecutive spaces here.', 7988),\n",
       " ('Possible typo: you repeated a whitespace', 2729),\n",
       " ('Unpaired symbol: ‘(’ seems to be missing', 1456),\n",
       " ('Unpaired symbol: ‘)’ seems to be missing', 1456),\n",
       " ('A determiner may be missing.', 632)]"
      ]
     },
     "execution_count": 111,
     "metadata": {},
     "output_type": "execute_result"
    }
   ],
   "source": [
    "ctr = lt.err_counter(res)\n",
    "ctr.most_common(5)"
   ]
  },
  {
   "cell_type": "code",
   "execution_count": 112,
   "id": "13cf18e8-9fbb-4e49-8c43-b9ba53880d2b",
   "metadata": {},
   "outputs": [],
   "source": [
    "x = lt.filter_lt_messages(res, message='unpaired symbol')"
   ]
  },
  {
   "cell_type": "code",
   "execution_count": 113,
   "id": "8b0e3949-5315-42d0-9743-220e853edf5f",
   "metadata": {},
   "outputs": [
    {
     "data": {
      "text/plain": [
       "1456"
      ]
     },
     "execution_count": 113,
     "metadata": {},
     "output_type": "execute_result"
    }
   ],
   "source": [
    "qids = [c['question_id'] for c in x]\n",
    "len(set(qids))"
   ]
  },
  {
   "cell_type": "code",
   "execution_count": 114,
   "id": "f37c1633-c356-43a2-8d4e-5d56920020f2",
   "metadata": {},
   "outputs": [],
   "source": [
    "df.set_index('question_id', verify_integrity=True, inplace=True)"
   ]
  },
  {
   "cell_type": "code",
   "execution_count": 115,
   "id": "a9257c0b-b2df-46c0-b96b-e232469a26e7",
   "metadata": {},
   "outputs": [
    {
     "data": {
      "text/plain": [
       "42    1456\n",
       "Name: template_id, dtype: int64"
      ]
     },
     "execution_count": 115,
     "metadata": {},
     "output_type": "execute_result"
    }
   ],
   "source": [
    "xdf = df.loc[qids]\n",
    "xdf['template_id'].value_counts()"
   ]
  },
  {
   "cell_type": "code",
   "execution_count": 116,
   "id": "a87b4bf6-65b1-4a20-afe6-da05fe62411a",
   "metadata": {},
   "outputs": [
    {
     "data": {
      "text/plain": [
       "[{'template_id': 42,\n",
       "  'question_string': 'In the year 2009, what is the difference between the Payments(% of exports of goods, services and primary income) in Mauritania and Payments(% of exports of goods, services and primary income) in Tonga ?',\n",
       "  'caption': '  In 2009, the primary income) in Tonga  is greater than the Payments(% of exports of goods, services and primary income) in Mauritania and Payments(% of exports of goods, services by -1.2198.'}]"
      ]
     },
     "execution_count": 116,
     "metadata": {},
     "output_type": "execute_result"
    }
   ],
   "source": [
    "xdf[['template_id', 'question_string', 'caption']].sample().to_dict(orient='records')"
   ]
  },
  {
   "cell_type": "code",
   "execution_count": 118,
   "id": "55758c22-828c-4bec-985e-ae3aa1f33e6d",
   "metadata": {},
   "outputs": [
    {
     "data": {
      "text/plain": [
       "{'xvalue': '2009',\n",
       " 'ylabel1': 'Payments(%',\n",
       " 'preposition1': 'of',\n",
       " 'legendlabel1': 'exports of goods, services',\n",
       " 'ylabel2': 'primary income)',\n",
       " 'preposition2': 'in',\n",
       " 'legendlabel2': 'Mauritania and Payments(% of exports of goods, services and primary income) in Tonga'}"
      ]
     },
     "execution_count": 118,
     "metadata": {},
     "output_type": "execute_result"
    }
   ],
   "source": [
    "pat = \"In the year (?P<year>.*), what is the difference between the (?P<ylabel1>.*?) (?P<preposition1>of|in) (?P<legendlabel1>.*?) and (?P<ylabel2>.*?) (?P<preposition2>of|in) (?P<legendlabel2>.*?)\\\\s?\\\\?$\"\n",
    "s = \"In the year 2009, what is the difference between the Payments(% of exports of goods, services and primary income) in Mauritania and Payments(% of exports of goods, services and primary income) in Tonga ?\"\n",
    "re.search(pat, s).groupdict()"
   ]
  },
  {
   "cell_type": "code",
   "execution_count": 102,
   "id": "c366c23e-eab9-4f8f-8cbb-7ef765b9d71f",
   "metadata": {},
   "outputs": [],
   "source": [
    "# Confusion between template 44 and 37"
   ]
  },
  {
   "cell_type": "code",
   "execution_count": 103,
   "id": "e8c04659-0e71-40bf-ba42-e4e22ae3f026",
   "metadata": {},
   "outputs": [
    {
     "data": {
      "text/plain": [
       "(5951, (5951, 6))"
      ]
     },
     "execution_count": 103,
     "metadata": {},
     "output_type": "execute_result"
    }
   ],
   "source": [
    "tid44 = df[df['template_id'] == 44]\n",
    "tid44['question_string'].str.contains('and that in').sum(), tid44.shape"
   ]
  },
  {
   "cell_type": "code",
   "execution_count": 104,
   "id": "e173a624-9c69-4e12-ab08-049c67961b41",
   "metadata": {},
   "outputs": [],
   "source": [
    "df.loc[df['template_id'] == 44, 'template_id'] = 37"
   ]
  },
  {
   "cell_type": "code",
   "execution_count": 119,
   "id": "a26cc363-c0bd-477f-a1c6-011a10f8e437",
   "metadata": {},
   "outputs": [
    {
     "data": {
      "text/plain": [
       "(8681, 6)"
      ]
     },
     "execution_count": 119,
     "metadata": {},
     "output_type": "execute_result"
    }
   ],
   "source": [
    "df.shape"
   ]
  },
  {
   "cell_type": "code",
   "execution_count": 121,
   "id": "60e50989-325d-46b4-aab8-911f35373601",
   "metadata": {},
   "outputs": [],
   "source": [
    "df.reset_index().to_json('data/unp_sym.json', orient='records', lines=True)"
   ]
  },
  {
   "cell_type": "code",
   "execution_count": null,
   "id": "bd52e117-c016-40e7-9024-083a5a34e137",
   "metadata": {},
   "outputs": [],
   "source": []
  }
 ],
 "metadata": {
  "kernelspec": {
   "display_name": "Python 3 (ipykernel)",
   "language": "python",
   "name": "python3"
  },
  "language_info": {
   "codemirror_mode": {
    "name": "ipython",
    "version": 3
   },
   "file_extension": ".py",
   "mimetype": "text/x-python",
   "name": "python",
   "nbconvert_exporter": "python",
   "pygments_lexer": "ipython3",
   "version": "3.9.12"
  }
 },
 "nbformat": 4,
 "nbformat_minor": 5
}
