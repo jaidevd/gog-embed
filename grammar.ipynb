{
 "cells": [
  {
   "cell_type": "code",
   "execution_count": 1,
   "id": "2d8140a0-339a-4baf-b9ae-7152d741053a",
   "metadata": {
    "tags": []
   },
   "outputs": [
    {
     "name": "stderr",
     "output_type": "stream",
     "text": [
      "2023-03-23 12:11:20.819464: I tensorflow/core/platform/cpu_feature_guard.cc:193] This TensorFlow binary is optimized with oneAPI Deep Neural Network Library (oneDNN) to use the following CPU instructions in performance-critical operations:  AVX2 FMA\n",
      "To enable them in other operations, rebuild TensorFlow with the appropriate compiler flags.\n",
      "2023-03-23 12:11:21.413051: W tensorflow/compiler/xla/stream_executor/platform/default/dso_loader.cc:64] Could not load dynamic library 'libnvinfer.so.7'; dlerror: libnvinfer.so.7: cannot open shared object file: No such file or directory\n",
      "2023-03-23 12:11:21.413097: W tensorflow/compiler/xla/stream_executor/platform/default/dso_loader.cc:64] Could not load dynamic library 'libnvinfer_plugin.so.7'; dlerror: libnvinfer_plugin.so.7: cannot open shared object file: No such file or directory\n",
      "2023-03-23 12:11:21.413102: W tensorflow/compiler/tf2tensorrt/utils/py_utils.cc:38] TF-TRT Warning: Cannot dlopen some TensorRT libraries. If you would like to use Nvidia GPU with TensorRT, please make sure the missing libraries mentioned above are installed properly.\n",
      "2023-03-23 12:11:22.193388: W tensorflow/compiler/xla/stream_executor/platform/default/dso_loader.cc:64] Could not load dynamic library 'libcusolver.so.11'; dlerror: libcusolver.so.11: cannot open shared object file: No such file or directory\n",
      "2023-03-23 12:11:22.193447: W tensorflow/core/common_runtime/gpu/gpu_device.cc:1934] Cannot dlopen some GPU libraries. Please make sure the missing libraries mentioned above are installed properly if you would like to use GPU. Follow the guide at https://www.tensorflow.org/install/gpu for how to download and setup the required libraries for your platform.\n",
      "Skipping registering GPU devices...\n"
     ]
    }
   ],
   "source": [
    "%load_ext autoreload\n",
    "%autoreload 2\n",
    "\n",
    "import json\n",
    "import pandas as pd\n",
    "import grammar as lt\n",
    "from collections import Counter\n",
    "from tqdm import tqdm\n",
    "from joblib import Parallel, delayed\n",
    "from spacy import load\n",
    "import re\n",
    "import yaml\n",
    "import random\n",
    "from pymongo import MongoClient, UpdateOne\n",
    "from plotqa import match_and_generate\n",
    "nlp = load('en_core_web_sm')"
   ]
  },
  {
   "cell_type": "code",
   "execution_count": 2,
   "id": "53f28a5d-896a-4f03-9141-dc1758390075",
   "metadata": {},
   "outputs": [
    {
     "data": {
      "text/plain": [
       "4"
      ]
     },
     "execution_count": 2,
     "metadata": {},
     "output_type": "execute_result"
    }
   ],
   "source": [
    "client = MongoClient()\n",
    "db = client.plotqa\n",
    "G = [d for d in db.captions.find({\"matches.0\": {\"$exists\": True}})]\n",
    "len(G)"
   ]
  },
  {
   "cell_type": "code",
   "execution_count": 3,
   "id": "b1820dfd-b4f8-443c-96ee-c9e9162ae5df",
   "metadata": {},
   "outputs": [
    {
     "data": {
      "text/plain": [
       "[{'_id': 14099306,\n",
       "  'question_string': 'What is the difference between the Amount exported (in US$) of Goods in French Polynesia and the Amount exported (in US$) of Services in Gambia, The?',\n",
       "  'template': 'arithmetic',\n",
       "  'answer': 870640704.74,\n",
       "  'type': 'vbar',\n",
       "  'template_id': 39,\n",
       "  'caption': 'The amount exported (in USD) of goods in French Polynesia exceeds the Amount exported (in USD) of Services in the Gambia by 870640704.74.',\n",
       "  'matches': [{'message': 'Use “good at” to mean “skilled” with school subjects. Try this: “goods at French”.',\n",
       "    'shortMessage': 'Collocation error',\n",
       "    'replacements': [{'value': 'goods at French'}],\n",
       "    'offset': 32,\n",
       "    'length': 15,\n",
       "    'context': {'text': 'The amount exported (in USD) of goods in French Polynesia exceeds the Amount exported (...',\n",
       "     'offset': 32,\n",
       "     'length': 15},\n",
       "    'sentence': 'The amount exported (in USD) of goods in French Polynesia exceeds the Amount exported (in USD) of Services in the Gambia by 870640704.74.',\n",
       "    'type': {'typeName': 'Other'},\n",
       "    'rule': {'id': 'GOOD_IN_AT',\n",
       "     'subId': '7',\n",
       "     'sourceFile': 'grammar.xml',\n",
       "     'description': 'Collocation: Good in/at',\n",
       "     'issueType': 'grammar',\n",
       "     'urls': [{'value': 'https://7esl.com/collocations/'}],\n",
       "     'category': {'id': 'COLLOCATIONS', 'name': 'Collocations'}},\n",
       "    'ignoreForIncompleteSentence': True,\n",
       "    'contextForSureMatch': 6}],\n",
       "  'ignore': []},\n",
       " {'_id': 14099321,\n",
       "  'question_string': 'What is the ratio of the Amount exported (in US$) of Goods in Faeroe Islands to that in French Polynesia ?',\n",
       "  'template': 'comparison',\n",
       "  'answer': 0.8061,\n",
       "  'type': 'vbar',\n",
       "  'template_id': 18,\n",
       "  'caption': 'The amount exported (in USD) of goods in French Polynesia is 1.2405408758218583 times greater than that in Faeroe Islands.',\n",
       "  'matches': [{'message': 'Use “good at” to mean “skilled” with school subjects. Try this: “goods at French”.',\n",
       "    'shortMessage': 'Collocation error',\n",
       "    'replacements': [{'value': 'goods at French'}],\n",
       "    'offset': 32,\n",
       "    'length': 15,\n",
       "    'context': {'text': 'The amount exported (in USD) of goods in French Polynesia is 1.2405408758218583 times g...',\n",
       "     'offset': 32,\n",
       "     'length': 15},\n",
       "    'sentence': 'The amount exported (in USD) of goods in French Polynesia is 1.2405408758218583 times greater than that in Faeroe Islands.',\n",
       "    'type': {'typeName': 'Other'},\n",
       "    'rule': {'id': 'GOOD_IN_AT',\n",
       "     'subId': '7',\n",
       "     'sourceFile': 'grammar.xml',\n",
       "     'description': 'Collocation: Good in/at',\n",
       "     'issueType': 'grammar',\n",
       "     'urls': [{'value': 'https://7esl.com/collocations/'}],\n",
       "     'category': {'id': 'COLLOCATIONS', 'name': 'Collocations'}},\n",
       "    'ignoreForIncompleteSentence': True,\n",
       "    'contextForSureMatch': 6}],\n",
       "  'ignore': []},\n",
       " {'_id': 14099343,\n",
       "  'question_string': 'What is the ratio of the Amount exported (in US$) in Goods in French Polynesia to that in Gambia, The ?',\n",
       "  'template': 'comparison',\n",
       "  'answer': 4.1692,\n",
       "  'type': 'vbar',\n",
       "  'template_id': 18,\n",
       "  'caption': 'The amount exported (in USD) in goods in French Polynesia is 4.1692 times greater than that in the Gambia.',\n",
       "  'matches': [{'message': 'Use “good at” to mean “skilled” with school subjects. Try this: “goods at French”.',\n",
       "    'shortMessage': 'Collocation error',\n",
       "    'replacements': [{'value': 'goods at French'}],\n",
       "    'offset': 32,\n",
       "    'length': 15,\n",
       "    'context': {'text': 'The amount exported (in USD) in goods in French Polynesia is 4.1692 times greater than ...',\n",
       "     'offset': 32,\n",
       "     'length': 15},\n",
       "    'sentence': 'The amount exported (in USD) in goods in French Polynesia is 4.1692 times greater than that in the Gambia.',\n",
       "    'type': {'typeName': 'Other'},\n",
       "    'rule': {'id': 'GOOD_IN_AT',\n",
       "     'subId': '7',\n",
       "     'sourceFile': 'grammar.xml',\n",
       "     'description': 'Collocation: Good in/at',\n",
       "     'issueType': 'grammar',\n",
       "     'urls': [{'value': 'https://7esl.com/collocations/'}],\n",
       "     'category': {'id': 'COLLOCATIONS', 'name': 'Collocations'}},\n",
       "    'ignoreForIncompleteSentence': True,\n",
       "    'contextForSureMatch': 6}],\n",
       "  'ignore': []},\n",
       " {'_id': 1764296,\n",
       "  'question_string': 'In which year was the percentage of forest land in Saudi Arabia maximum?',\n",
       "  'template': 'min_max',\n",
       "  'answer': '2008',\n",
       "  'type': 'hbar',\n",
       "  'template_id': 28,\n",
       "  'caption': 'The percentage of forest land in Saudi Arabia was the highest in the year 2008.',\n",
       "  'matches': [{'message': 'Possible agreement error.',\n",
       "    'shortMessage': '',\n",
       "    'replacements': [{'value': 'lands',\n",
       "      'shortDescription': \"plural of 'land'\"}],\n",
       "    'offset': 25,\n",
       "    'length': 4,\n",
       "    'context': {'text': 'The percentage of forest land in Saudi Arabia was the highest in the ...',\n",
       "     'offset': 25,\n",
       "     'length': 4},\n",
       "    'sentence': 'The percentage of forest land in Saudi Arabia was the highest in the year 2008.',\n",
       "    'type': {'typeName': 'Other'},\n",
       "    'rule': {'id': 'AGREEMENT_SENT_START',\n",
       "     'subId': '45',\n",
       "     'sourceFile': 'grammar.xml',\n",
       "     'description': 'Possible agreement error: plural noun + singular verb',\n",
       "     'issueType': 'grammar',\n",
       "     'category': {'id': 'GRAMMAR', 'name': 'Grammar'}},\n",
       "    'ignoreForIncompleteSentence': True,\n",
       "    'contextForSureMatch': 4}],\n",
       "  'ignore': []}]"
      ]
     },
     "execution_count": 3,
     "metadata": {},
     "output_type": "execute_result"
    }
   ],
   "source": [
    "G"
   ]
  },
  {
   "cell_type": "code",
   "execution_count": null,
   "id": "85d79827-da0b-472a-a7cf-b3cbed226349",
   "metadata": {},
   "outputs": [],
   "source": [
    "ignores = ['GOOD_IN_AT', 'GOO']"
   ]
  },
  {
   "cell_type": "code",
   "execution_count": 4,
   "id": "0ae418cf-ea44-44a3-9b9b-f0a632cdeef3",
   "metadata": {},
   "outputs": [],
   "source": [
    "with open('/tmp/last.json', 'w') as fin:\n",
    "    json.dump(G, fin, indent=2)"
   ]
  },
  {
   "cell_type": "code",
   "execution_count": 5,
   "id": "a732bb18-c9da-425a-8f36-2e158dd7d62b",
   "metadata": {},
   "outputs": [],
   "source": [
    "with open('/tmp/last.json', 'r') as fin:\n",
    "    final = json.load(fin)"
   ]
  },
  {
   "cell_type": "code",
   "execution_count": 7,
   "id": "d4dd1905-db28-48ce-9336-037a6057bb52",
   "metadata": {
    "scrolled": true,
    "tags": []
   },
   "outputs": [
    {
     "name": "stderr",
     "output_type": "stream",
     "text": [
      "[Parallel(n_jobs=-1)]: Using backend LokyBackend with 16 concurrent workers.\n",
      "2023-03-23 12:08:56.277719: W tensorflow/compiler/xla/stream_executor/platform/default/dso_loader.cc:64] Could not load dynamic library 'libnvinfer.so.7'; dlerror: libnvinfer.so.7: cannot open shared object file: No such file or directory\n",
      "2023-03-23 12:08:56.278144: W tensorflow/compiler/xla/stream_executor/platform/default/dso_loader.cc:64] Could not load dynamic library 'libnvinfer_plugin.so.7'; dlerror: libnvinfer_plugin.so.7: cannot open shared object file: No such file or directory\n",
      "2023-03-23 12:08:56.278159: W tensorflow/compiler/tf2tensorrt/utils/py_utils.cc:38] TF-TRT Warning: Cannot dlopen some TensorRT libraries. If you would like to use Nvidia GPU with TensorRT, please make sure the missing libraries mentioned above are installed properly.\n",
      "2023-03-23 12:08:56.286970: W tensorflow/compiler/xla/stream_executor/platform/default/dso_loader.cc:64] Could not load dynamic library 'libnvinfer.so.7'; dlerror: libnvinfer.so.7: cannot open shared object file: No such file or directory\n",
      "2023-03-23 12:08:56.287163: W tensorflow/compiler/xla/stream_executor/platform/default/dso_loader.cc:64] Could not load dynamic library 'libnvinfer_plugin.so.7'; dlerror: libnvinfer_plugin.so.7: cannot open shared object file: No such file or directory\n",
      "2023-03-23 12:08:56.287199: W tensorflow/compiler/tf2tensorrt/utils/py_utils.cc:38] TF-TRT Warning: Cannot dlopen some TensorRT libraries. If you would like to use Nvidia GPU with TensorRT, please make sure the missing libraries mentioned above are installed properly.\n",
      "2023-03-23 12:08:56.302156: W tensorflow/compiler/xla/stream_executor/platform/default/dso_loader.cc:64] Could not load dynamic library 'libnvinfer.so.7'; dlerror: libnvinfer.so.7: cannot open shared object file: No such file or directory\n",
      "2023-03-23 12:08:56.302415: W tensorflow/compiler/xla/stream_executor/platform/default/dso_loader.cc:64] Could not load dynamic library 'libnvinfer_plugin.so.7'; dlerror: libnvinfer_plugin.so.7: cannot open shared object file: No such file or directory\n",
      "2023-03-23 12:08:56.302451: W tensorflow/compiler/tf2tensorrt/utils/py_utils.cc:38] TF-TRT Warning: Cannot dlopen some TensorRT libraries. If you would like to use Nvidia GPU with TensorRT, please make sure the missing libraries mentioned above are installed properly.\n",
      "2023-03-23 12:08:56.315432: W tensorflow/compiler/xla/stream_executor/platform/default/dso_loader.cc:64] Could not load dynamic library 'libnvinfer.so.7'; dlerror: libnvinfer.so.7: cannot open shared object file: No such file or directory\n",
      "2023-03-23 12:08:56.315662: W tensorflow/compiler/xla/stream_executor/platform/default/dso_loader.cc:64] Could not load dynamic library 'libnvinfer_plugin.so.7'; dlerror: libnvinfer_plugin.so.7: cannot open shared object file: No such file or directory\n",
      "2023-03-23 12:08:56.315701: W tensorflow/compiler/tf2tensorrt/utils/py_utils.cc:38] TF-TRT Warning: Cannot dlopen some TensorRT libraries. If you would like to use Nvidia GPU with TensorRT, please make sure the missing libraries mentioned above are installed properly.\n",
      "2023-03-23 12:08:56.338939: W tensorflow/compiler/xla/stream_executor/platform/default/dso_loader.cc:64] Could not load dynamic library 'libnvinfer.so.7'; dlerror: libnvinfer.so.7: cannot open shared object file: No such file or directory\n",
      "2023-03-23 12:08:56.339183: W tensorflow/compiler/xla/stream_executor/platform/default/dso_loader.cc:64] Could not load dynamic library 'libnvinfer_plugin.so.7'; dlerror: libnvinfer_plugin.so.7: cannot open shared object file: No such file or directory\n",
      "2023-03-23 12:08:56.339230: W tensorflow/compiler/tf2tensorrt/utils/py_utils.cc:38] TF-TRT Warning: Cannot dlopen some TensorRT libraries. If you would like to use Nvidia GPU with TensorRT, please make sure the missing libraries mentioned above are installed properly.\n",
      "2023-03-23 12:08:56.409239: W tensorflow/compiler/xla/stream_executor/platform/default/dso_loader.cc:64] Could not load dynamic library 'libnvinfer.so.7'; dlerror: libnvinfer.so.7: cannot open shared object file: No such file or directory\n",
      "2023-03-23 12:08:56.409426: W tensorflow/compiler/xla/stream_executor/platform/default/dso_loader.cc:64] Could not load dynamic library 'libnvinfer_plugin.so.7'; dlerror: libnvinfer_plugin.so.7: cannot open shared object file: No such file or directory\n",
      "2023-03-23 12:08:56.409473: W tensorflow/compiler/tf2tensorrt/utils/py_utils.cc:38] TF-TRT Warning: Cannot dlopen some TensorRT libraries. If you would like to use Nvidia GPU with TensorRT, please make sure the missing libraries mentioned above are installed properly.\n",
      "2023-03-23 12:08:56.417199: W tensorflow/compiler/xla/stream_executor/platform/default/dso_loader.cc:64] Could not load dynamic library 'libnvinfer.so.7'; dlerror: libnvinfer.so.7: cannot open shared object file: No such file or directory\n",
      "2023-03-23 12:08:56.417438: W tensorflow/compiler/xla/stream_executor/platform/default/dso_loader.cc:64] Could not load dynamic library 'libnvinfer_plugin.so.7'; dlerror: libnvinfer_plugin.so.7: cannot open shared object file: No such file or directory\n",
      "2023-03-23 12:08:56.417478: W tensorflow/compiler/tf2tensorrt/utils/py_utils.cc:38] TF-TRT Warning: Cannot dlopen some TensorRT libraries. If you would like to use Nvidia GPU with TensorRT, please make sure the missing libraries mentioned above are installed properly.\n",
      "2023-03-23 12:08:56.441092: W tensorflow/compiler/xla/stream_executor/platform/default/dso_loader.cc:64] Could not load dynamic library 'libnvinfer.so.7'; dlerror: libnvinfer.so.7: cannot open shared object file: No such file or directory\n",
      "2023-03-23 12:08:56.441298: W tensorflow/compiler/xla/stream_executor/platform/default/dso_loader.cc:64] Could not load dynamic library 'libnvinfer_plugin.so.7'; dlerror: libnvinfer_plugin.so.7: cannot open shared object file: No such file or directory\n",
      "2023-03-23 12:08:56.441347: W tensorflow/compiler/tf2tensorrt/utils/py_utils.cc:38] TF-TRT Warning: Cannot dlopen some TensorRT libraries. If you would like to use Nvidia GPU with TensorRT, please make sure the missing libraries mentioned above are installed properly.\n",
      "2023-03-23 12:08:56.469812: W tensorflow/compiler/xla/stream_executor/platform/default/dso_loader.cc:64] Could not load dynamic library 'libnvinfer.so.7'; dlerror: libnvinfer.so.7: cannot open shared object file: No such file or directory\n",
      "2023-03-23 12:08:56.470006: W tensorflow/compiler/xla/stream_executor/platform/default/dso_loader.cc:64] Could not load dynamic library 'libnvinfer_plugin.so.7'; dlerror: libnvinfer_plugin.so.7: cannot open shared object file: No such file or directory\n",
      "2023-03-23 12:08:56.470050: W tensorflow/compiler/tf2tensorrt/utils/py_utils.cc:38] TF-TRT Warning: Cannot dlopen some TensorRT libraries. If you would like to use Nvidia GPU with TensorRT, please make sure the missing libraries mentioned above are installed properly.\n",
      "2023-03-23 12:08:56.476991: W tensorflow/compiler/xla/stream_executor/platform/default/dso_loader.cc:64] Could not load dynamic library 'libnvinfer.so.7'; dlerror: libnvinfer.so.7: cannot open shared object file: No such file or directory\n",
      "2023-03-23 12:08:56.477193: W tensorflow/compiler/xla/stream_executor/platform/default/dso_loader.cc:64] Could not load dynamic library 'libnvinfer_plugin.so.7'; dlerror: libnvinfer_plugin.so.7: cannot open shared object file: No such file or directory\n",
      "2023-03-23 12:08:56.477233: W tensorflow/compiler/tf2tensorrt/utils/py_utils.cc:38] TF-TRT Warning: Cannot dlopen some TensorRT libraries. If you would like to use Nvidia GPU with TensorRT, please make sure the missing libraries mentioned above are installed properly.\n",
      "2023-03-23 12:08:56.482715: W tensorflow/compiler/xla/stream_executor/platform/default/dso_loader.cc:64] Could not load dynamic library 'libnvinfer.so.7'; dlerror: libnvinfer.so.7: cannot open shared object file: No such file or directory\n",
      "2023-03-23 12:08:56.482960: W tensorflow/compiler/xla/stream_executor/platform/default/dso_loader.cc:64] Could not load dynamic library 'libnvinfer_plugin.so.7'; dlerror: libnvinfer_plugin.so.7: cannot open shared object file: No such file or directory\n",
      "2023-03-23 12:08:56.482973: W tensorflow/compiler/tf2tensorrt/utils/py_utils.cc:38] TF-TRT Warning: Cannot dlopen some TensorRT libraries. If you would like to use Nvidia GPU with TensorRT, please make sure the missing libraries mentioned above are installed properly.\n",
      "2023-03-23 12:08:56.492447: W tensorflow/compiler/xla/stream_executor/platform/default/dso_loader.cc:64] Could not load dynamic library 'libnvinfer.so.7'; dlerror: libnvinfer.so.7: cannot open shared object file: No such file or directory\n",
      "2023-03-23 12:08:56.492658: W tensorflow/compiler/xla/stream_executor/platform/default/dso_loader.cc:64] Could not load dynamic library 'libnvinfer_plugin.so.7'; dlerror: libnvinfer_plugin.so.7: cannot open shared object file: No such file or directory\n",
      "2023-03-23 12:08:56.492716: W tensorflow/compiler/tf2tensorrt/utils/py_utils.cc:38] TF-TRT Warning: Cannot dlopen some TensorRT libraries. If you would like to use Nvidia GPU with TensorRT, please make sure the missing libraries mentioned above are installed properly.\n",
      "2023-03-23 12:08:56.497593: W tensorflow/compiler/xla/stream_executor/platform/default/dso_loader.cc:64] Could not load dynamic library 'libnvinfer.so.7'; dlerror: libnvinfer.so.7: cannot open shared object file: No such file or directory\n",
      "2023-03-23 12:08:56.497800: W tensorflow/compiler/xla/stream_executor/platform/default/dso_loader.cc:64] Could not load dynamic library 'libnvinfer_plugin.so.7'; dlerror: libnvinfer_plugin.so.7: cannot open shared object file: No such file or directory\n",
      "2023-03-23 12:08:56.497835: W tensorflow/compiler/tf2tensorrt/utils/py_utils.cc:38] TF-TRT Warning: Cannot dlopen some TensorRT libraries. If you would like to use Nvidia GPU with TensorRT, please make sure the missing libraries mentioned above are installed properly.\n",
      "2023-03-23 12:08:56.610363: W tensorflow/compiler/xla/stream_executor/platform/default/dso_loader.cc:64] Could not load dynamic library 'libnvinfer.so.7'; dlerror: libnvinfer.so.7: cannot open shared object file: No such file or directory\n",
      "2023-03-23 12:08:56.610590: W tensorflow/compiler/xla/stream_executor/platform/default/dso_loader.cc:64] Could not load dynamic library 'libnvinfer_plugin.so.7'; dlerror: libnvinfer_plugin.so.7: cannot open shared object file: No such file or directory\n",
      "2023-03-23 12:08:56.610631: W tensorflow/compiler/tf2tensorrt/utils/py_utils.cc:38] TF-TRT Warning: Cannot dlopen some TensorRT libraries. If you would like to use Nvidia GPU with TensorRT, please make sure the missing libraries mentioned above are installed properly.\n",
      "2023-03-23 12:08:56.613390: W tensorflow/compiler/xla/stream_executor/platform/default/dso_loader.cc:64] Could not load dynamic library 'libnvinfer.so.7'; dlerror: libnvinfer.so.7: cannot open shared object file: No such file or directory\n",
      "2023-03-23 12:08:56.613613: W tensorflow/compiler/xla/stream_executor/platform/default/dso_loader.cc:64] Could not load dynamic library 'libnvinfer_plugin.so.7'; dlerror: libnvinfer_plugin.so.7: cannot open shared object file: No such file or directory\n",
      "2023-03-23 12:08:56.613652: W tensorflow/compiler/tf2tensorrt/utils/py_utils.cc:38] TF-TRT Warning: Cannot dlopen some TensorRT libraries. If you would like to use Nvidia GPU with TensorRT, please make sure the missing libraries mentioned above are installed properly.\n",
      "2023-03-23 12:08:56.621844: W tensorflow/compiler/xla/stream_executor/platform/default/dso_loader.cc:64] Could not load dynamic library 'libnvinfer.so.7'; dlerror: libnvinfer.so.7: cannot open shared object file: No such file or directory\n",
      "2023-03-23 12:08:56.622037: W tensorflow/compiler/xla/stream_executor/platform/default/dso_loader.cc:64] Could not load dynamic library 'libnvinfer_plugin.so.7'; dlerror: libnvinfer_plugin.so.7: cannot open shared object file: No such file or directory\n",
      "2023-03-23 12:08:56.622073: W tensorflow/compiler/tf2tensorrt/utils/py_utils.cc:38] TF-TRT Warning: Cannot dlopen some TensorRT libraries. If you would like to use Nvidia GPU with TensorRT, please make sure the missing libraries mentioned above are installed properly.\n",
      "2023-03-23 12:08:58.092828: W tensorflow/compiler/xla/stream_executor/platform/default/dso_loader.cc:64] Could not load dynamic library 'libcusolver.so.11'; dlerror: libcusolver.so.11: cannot open shared object file: No such file or directory\n",
      "2023-03-23 12:08:58.093072: W tensorflow/core/common_runtime/gpu/gpu_device.cc:1934] Cannot dlopen some GPU libraries. Please make sure the missing libraries mentioned above are installed properly if you would like to use GPU. Follow the guide at https://www.tensorflow.org/install/gpu for how to download and setup the required libraries for your platform.\n",
      "Skipping registering GPU devices...\n",
      "2023-03-23 12:08:58.141548: W tensorflow/compiler/xla/stream_executor/platform/default/dso_loader.cc:64] Could not load dynamic library 'libcusolver.so.11'; dlerror: libcusolver.so.11: cannot open shared object file: No such file or directory\n",
      "2023-03-23 12:08:58.141788: W tensorflow/core/common_runtime/gpu/gpu_device.cc:1934] Cannot dlopen some GPU libraries. Please make sure the missing libraries mentioned above are installed properly if you would like to use GPU. Follow the guide at https://www.tensorflow.org/install/gpu for how to download and setup the required libraries for your platform.\n",
      "Skipping registering GPU devices...\n",
      "2023-03-23 12:08:58.161255: W tensorflow/compiler/xla/stream_executor/platform/default/dso_loader.cc:64] Could not load dynamic library 'libcusolver.so.11'; dlerror: libcusolver.so.11: cannot open shared object file: No such file or directory\n",
      "2023-03-23 12:08:58.161427: W tensorflow/core/common_runtime/gpu/gpu_device.cc:1934] Cannot dlopen some GPU libraries. Please make sure the missing libraries mentioned above are installed properly if you would like to use GPU. Follow the guide at https://www.tensorflow.org/install/gpu for how to download and setup the required libraries for your platform.\n",
      "Skipping registering GPU devices...\n",
      "2023-03-23 12:08:58.223150: W tensorflow/compiler/xla/stream_executor/platform/default/dso_loader.cc:64] Could not load dynamic library 'libcusolver.so.11'; dlerror: libcusolver.so.11: cannot open shared object file: No such file or directory\n",
      "2023-03-23 12:08:58.223328: W tensorflow/core/common_runtime/gpu/gpu_device.cc:1934] Cannot dlopen some GPU libraries. Please make sure the missing libraries mentioned above are installed properly if you would like to use GPU. Follow the guide at https://www.tensorflow.org/install/gpu for how to download and setup the required libraries for your platform.\n",
      "Skipping registering GPU devices...\n",
      "2023-03-23 12:08:58.253442: W tensorflow/compiler/xla/stream_executor/platform/default/dso_loader.cc:64] Could not load dynamic library 'libcusolver.so.11'; dlerror: libcusolver.so.11: cannot open shared object file: No such file or directory\n",
      "2023-03-23 12:08:58.253635: W tensorflow/core/common_runtime/gpu/gpu_device.cc:1934] Cannot dlopen some GPU libraries. Please make sure the missing libraries mentioned above are installed properly if you would like to use GPU. Follow the guide at https://www.tensorflow.org/install/gpu for how to download and setup the required libraries for your platform.\n",
      "Skipping registering GPU devices...\n",
      "2023-03-23 12:08:58.268220: W tensorflow/compiler/xla/stream_executor/platform/default/dso_loader.cc:64] Could not load dynamic library 'libcusolver.so.11'; dlerror: libcusolver.so.11: cannot open shared object file: No such file or directory\n",
      "2023-03-23 12:08:58.268398: W tensorflow/core/common_runtime/gpu/gpu_device.cc:1934] Cannot dlopen some GPU libraries. Please make sure the missing libraries mentioned above are installed properly if you would like to use GPU. Follow the guide at https://www.tensorflow.org/install/gpu for how to download and setup the required libraries for your platform.\n",
      "Skipping registering GPU devices...\n",
      "2023-03-23 12:08:58.298803: W tensorflow/compiler/xla/stream_executor/platform/default/dso_loader.cc:64] Could not load dynamic library 'libcusolver.so.11'; dlerror: libcusolver.so.11: cannot open shared object file: No such file or directory\n",
      "2023-03-23 12:08:58.299048: W tensorflow/core/common_runtime/gpu/gpu_device.cc:1934] Cannot dlopen some GPU libraries. Please make sure the missing libraries mentioned above are installed properly if you would like to use GPU. Follow the guide at https://www.tensorflow.org/install/gpu for how to download and setup the required libraries for your platform.\n",
      "Skipping registering GPU devices...\n",
      "2023-03-23 12:08:58.325049: W tensorflow/compiler/xla/stream_executor/platform/default/dso_loader.cc:64] Could not load dynamic library 'libcusolver.so.11'; dlerror: libcusolver.so.11: cannot open shared object file: No such file or directory\n",
      "2023-03-23 12:08:58.325224: W tensorflow/core/common_runtime/gpu/gpu_device.cc:1934] Cannot dlopen some GPU libraries. Please make sure the missing libraries mentioned above are installed properly if you would like to use GPU. Follow the guide at https://www.tensorflow.org/install/gpu for how to download and setup the required libraries for your platform.\n",
      "Skipping registering GPU devices...\n",
      "2023-03-23 12:08:58.342787: W tensorflow/compiler/xla/stream_executor/platform/default/dso_loader.cc:64] Could not load dynamic library 'libcusolver.so.11'; dlerror: libcusolver.so.11: cannot open shared object file: No such file or directory\n",
      "2023-03-23 12:08:58.342973: W tensorflow/core/common_runtime/gpu/gpu_device.cc:1934] Cannot dlopen some GPU libraries. Please make sure the missing libraries mentioned above are installed properly if you would like to use GPU. Follow the guide at https://www.tensorflow.org/install/gpu for how to download and setup the required libraries for your platform.\n",
      "Skipping registering GPU devices...\n",
      "2023-03-23 12:08:58.375801: W tensorflow/compiler/xla/stream_executor/platform/default/dso_loader.cc:64] Could not load dynamic library 'libcusolver.so.11'; dlerror: libcusolver.so.11: cannot open shared object file: No such file or directory\n",
      "2023-03-23 12:08:58.376000: W tensorflow/core/common_runtime/gpu/gpu_device.cc:1934] Cannot dlopen some GPU libraries. Please make sure the missing libraries mentioned above are installed properly if you would like to use GPU. Follow the guide at https://www.tensorflow.org/install/gpu for how to download and setup the required libraries for your platform.\n",
      "Skipping registering GPU devices...\n",
      "2023-03-23 12:08:58.393527: W tensorflow/compiler/xla/stream_executor/platform/default/dso_loader.cc:64] Could not load dynamic library 'libcusolver.so.11'; dlerror: libcusolver.so.11: cannot open shared object file: No such file or directory\n",
      "2023-03-23 12:08:58.393735: W tensorflow/core/common_runtime/gpu/gpu_device.cc:1934] Cannot dlopen some GPU libraries. Please make sure the missing libraries mentioned above are installed properly if you would like to use GPU. Follow the guide at https://www.tensorflow.org/install/gpu for how to download and setup the required libraries for your platform.\n",
      "Skipping registering GPU devices...\n",
      "2023-03-23 12:08:58.394411: W tensorflow/compiler/xla/stream_executor/platform/default/dso_loader.cc:64] Could not load dynamic library 'libcusolver.so.11'; dlerror: libcusolver.so.11: cannot open shared object file: No such file or directory\n",
      "2023-03-23 12:08:58.394550: W tensorflow/core/common_runtime/gpu/gpu_device.cc:1934] Cannot dlopen some GPU libraries. Please make sure the missing libraries mentioned above are installed properly if you would like to use GPU. Follow the guide at https://www.tensorflow.org/install/gpu for how to download and setup the required libraries for your platform.\n",
      "Skipping registering GPU devices...\n",
      "2023-03-23 12:08:58.435537: W tensorflow/compiler/xla/stream_executor/platform/default/dso_loader.cc:64] Could not load dynamic library 'libcusolver.so.11'; dlerror: libcusolver.so.11: cannot open shared object file: No such file or directory\n",
      "2023-03-23 12:08:58.435732: W tensorflow/core/common_runtime/gpu/gpu_device.cc:1934] Cannot dlopen some GPU libraries. Please make sure the missing libraries mentioned above are installed properly if you would like to use GPU. Follow the guide at https://www.tensorflow.org/install/gpu for how to download and setup the required libraries for your platform.\n",
      "Skipping registering GPU devices...\n",
      "2023-03-23 12:08:58.442150: W tensorflow/compiler/xla/stream_executor/platform/default/dso_loader.cc:64] Could not load dynamic library 'libcusolver.so.11'; dlerror: libcusolver.so.11: cannot open shared object file: No such file or directory\n",
      "2023-03-23 12:08:58.442405: W tensorflow/core/common_runtime/gpu/gpu_device.cc:1934] Cannot dlopen some GPU libraries. Please make sure the missing libraries mentioned above are installed properly if you would like to use GPU. Follow the guide at https://www.tensorflow.org/install/gpu for how to download and setup the required libraries for your platform.\n",
      "Skipping registering GPU devices...\n",
      "2023-03-23 12:08:58.449222: W tensorflow/compiler/xla/stream_executor/platform/default/dso_loader.cc:64] Could not load dynamic library 'libcusolver.so.11'; dlerror: libcusolver.so.11: cannot open shared object file: No such file or directory\n",
      "2023-03-23 12:08:58.449408: W tensorflow/core/common_runtime/gpu/gpu_device.cc:1934] Cannot dlopen some GPU libraries. Please make sure the missing libraries mentioned above are installed properly if you would like to use GPU. Follow the guide at https://www.tensorflow.org/install/gpu for how to download and setup the required libraries for your platform.\n",
      "Skipping registering GPU devices...\n",
      "2023-03-23 12:08:58.459048: W tensorflow/compiler/xla/stream_executor/platform/default/dso_loader.cc:64] Could not load dynamic library 'libcusolver.so.11'; dlerror: libcusolver.so.11: cannot open shared object file: No such file or directory\n",
      "2023-03-23 12:08:58.459275: W tensorflow/core/common_runtime/gpu/gpu_device.cc:1934] Cannot dlopen some GPU libraries. Please make sure the missing libraries mentioned above are installed properly if you would like to use GPU. Follow the guide at https://www.tensorflow.org/install/gpu for how to download and setup the required libraries for your platform.\n",
      "Skipping registering GPU devices...\n",
      "[Parallel(n_jobs=-1)]: Done   9 tasks      | elapsed:    5.2s\n",
      "[Parallel(n_jobs=-1)]: Done  83 out of  83 | elapsed:    5.6s finished\n"
     ]
    },
    {
     "data": {
      "text/plain": [
       "4"
      ]
     },
     "execution_count": 7,
     "metadata": {},
     "output_type": "execute_result"
    }
   ],
   "source": [
    "res = Parallel(n_jobs=-1, verbose=2)(delayed(lt.process)(r['_id'], r['caption'], r.get('ignore')) for r in final)\n",
    "len([g for g in res if len(g['matches']) > 0])"
   ]
  },
  {
   "cell_type": "code",
   "execution_count": 10,
   "id": "d5e5b3c2-14ba-4caa-aca0-236eed6dd77c",
   "metadata": {},
   "outputs": [
    {
     "data": {
      "text/plain": [
       "{'writeErrors': [],\n",
       " 'writeConcernErrors': [],\n",
       " 'nInserted': 0,\n",
       " 'nUpserted': 0,\n",
       " 'nMatched': 83,\n",
       " 'nModified': 83,\n",
       " 'nRemoved': 0,\n",
       " 'upserted': []}"
      ]
     },
     "execution_count": 10,
     "metadata": {},
     "output_type": "execute_result"
    }
   ],
   "source": [
    "updates = [UpdateOne({'_id': r['_id']}, {'$set': {'ignore': r.get('ignore', []), 'caption': r['caption']}}) for r in final]\n",
    "wres = db.captions.bulk_write(updates)\n",
    "wres.bulk_api_result"
   ]
  },
  {
   "cell_type": "code",
   "execution_count": null,
   "id": "0b9a7a18-24e6-4ae5-b2dc-a1393df3cca4",
   "metadata": {},
   "outputs": [],
   "source": []
  },
  {
   "cell_type": "code",
   "execution_count": null,
   "id": "f159518a-c59e-495f-b08b-508a47b62381",
   "metadata": {},
   "outputs": [],
   "source": []
  },
  {
   "cell_type": "code",
   "execution_count": 4,
   "id": "18b0dc18-b15e-46be-9675-02783de25780",
   "metadata": {},
   "outputs": [],
   "source": [
    "concise = lt.filter_lt_messages(G, message='A more concise phrase may lose no meaning and sound more powerful.')"
   ]
  },
  {
   "cell_type": "code",
   "execution_count": 7,
   "id": "b0bc8713-d03f-49a4-88a8-0b606b3818a7",
   "metadata": {},
   "outputs": [
    {
     "data": {
      "text/plain": [
       "['The Number of tourists of Madagascar in Number of arrivals is 75000.0.',\n",
       " 'The Number of tourists in Madagascar in Number of departures is 39000.0.',\n",
       " 'The Number of tourists of Madagascar in Number of arrivals is greater than that in Number of departures by 36000.0.',\n",
       " 'The Number of tourists of Madagascar in Number of departures is less than the Number of tourists of France in Number of arrivals by 59994000.0.',\n",
       " 'The difference between the Number of tourists in Madagascar in Number of departures and the Number of tourists in Lithuania in Number of arrivals is 611000.0.',\n",
       " 'The ratio of the Number of tourists in Madagascar in Number of departures to that in Number of arrivals is 0.5199937600748791.',\n",
       " 'The Number of tourists in European Union in Number of arrivals is 282811570.052012.',\n",
       " '284979365.008074 is the Number of tourists of European Union in Number of departures.',\n",
       " 'The Number of tourists in European Union in Number of departures exceeds that in Number of arrivals by 2167794.9561.',\n",
       " 'The Number of tourists of European Union in Number of arrivals is higher than the Number of tourists of Niger in Number of departures by 282801570.052.',\n",
       " 'The difference between the Number of tourists in European Union in Number of arrivals and the Number of tourists in Norway in Number of departures is 282119570.052.',\n",
       " 'The ratio of the Number of tourists in European Union in Number of arrivals to that in Number of departures is 0.9924.',\n",
       " 'The Number of tourists of World in Number of arrivals is 705503120.908345.',\n",
       " 'The Number of tourists of World in Number of departures is 860179588.899346.',\n",
       " 'The Number of tourists in World in Number of departures is greater than that in Number of arrivals by 154676467.991.',\n",
       " 'The Number of tourists in World in Number of arrivals is higher than the Number of tourists in Cambodia in Number of departures by 705466120.9083.',\n",
       " 'The Number of tourists in World in Number of arrivals exceeds the Number of tourists in Luxembourg in Number of departures by 705242120.9083.',\n",
       " 'The ratio of the Number of tourists in World in Number of arrivals to that in Number of departures is 0.8202.',\n",
       " 'The Number of tourists in World in Number of arrivals is 717890424.5991089.',\n",
       " '853014390.872465 is the Number of tourists of World in Number of departures.',\n",
       " 'The Number of tourists of World in Number of departures is greater than that in Number of arrivals by 135123966.2734.',\n",
       " 'The Number of tourists of World in Number of arrivals is greater than the Number of tourists of Belarus in Number of departures by 716782424.5991.',\n",
       " '712961424.5991 is the difference between the Number of tourists of Ireland in Number of departures and the Number of tourists of World in Number of arrivals.',\n",
       " 'The ratio of the Number of tourists in World in Number of arrivals to that in Number of departures is 0.8416.',\n",
       " 'The Number of tourists in Chad in Number of departures is 66000.0.',\n",
       " 'The Number of tourists in Chad in Number of departures is less than that in Number of arrivals by 4000.0.',\n",
       " 'The Number of tourists in High income in Number of arrivals is greater than the Number of tourists in Chad in Number of departures by 585061445.9529.',\n",
       " 'The Number of tourists of Fiji in Number of departures is greater than the Number of tourists of Chad in Number of arrivals by -55000.0.',\n",
       " 'The Number of tourists in Chad in Number of arrivals and the Number of tourists in Israel in Number of departures differs by -3937000.0.',\n",
       " 'The Number of tourists in Chad in Number of arrivals is greater than that in Number of departures by a factor of 1.0606.',\n",
       " '354257000.0 is the Number of tourists of European Union in Number of arrivals.',\n",
       " 'The Number of tourists of European Union in Number of departures is 362738238.364168.',\n",
       " 'The Number of tourists of European Union in Number of departures is greater than that in Number of arrivals by 8481238.3642.',\n",
       " 'The Number of tourists of European Union in Number of arrivals exceeds the Number of tourists of Honduras in Number of departures by 353962000.0.',\n",
       " 'The Number of tourists of India in Number of departures is less than the Number of tourists of European Union in Number of arrivals by 348044000.0.',\n",
       " 'The Number of tourists of European Union in Number of arrivals exceeds the Number of tourists of Uganda in Number of departures by 354026000.0.',\n",
       " 'The Number of tourists in European Union in Number of departures is 1.0239606799098915 times greater than that in Number of arrivals.']"
      ]
     },
     "execution_count": 7,
     "metadata": {},
     "output_type": "execute_result"
    }
   ],
   "source": [
    "[c['caption'] for c in concise]"
   ]
  },
  {
   "cell_type": "code",
   "execution_count": 9,
   "id": "ebcf5a36-1b89-45fc-be03-b8245588d718",
   "metadata": {},
   "outputs": [],
   "source": [
    "RULE = 'ADJECTIVE_IN_ATTRIBUTE'\n",
    "for c in concise:\n",
    "    ig = c.get('ignore', [])\n",
    "    if RULE not in ig:\n",
    "        ig.append(RULE)\n",
    "    c['ignore'] = ig"
   ]
  },
  {
   "cell_type": "code",
   "execution_count": 10,
   "id": "12e7bc89-0090-4798-b41e-3d6a3d890ded",
   "metadata": {
    "scrolled": true,
    "tags": []
   },
   "outputs": [
    {
     "name": "stderr",
     "output_type": "stream",
     "text": [
      "[Parallel(n_jobs=-1)]: Using backend LokyBackend with 16 concurrent workers.\n",
      "2023-03-23 11:20:34.279293: W tensorflow/compiler/xla/stream_executor/platform/default/dso_loader.cc:64] Could not load dynamic library 'libnvinfer.so.7'; dlerror: libnvinfer.so.7: cannot open shared object file: No such file or directory\n",
      "2023-03-23 11:20:34.279574: W tensorflow/compiler/xla/stream_executor/platform/default/dso_loader.cc:64] Could not load dynamic library 'libnvinfer_plugin.so.7'; dlerror: libnvinfer_plugin.so.7: cannot open shared object file: No such file or directory\n",
      "2023-03-23 11:20:34.279586: W tensorflow/compiler/tf2tensorrt/utils/py_utils.cc:38] TF-TRT Warning: Cannot dlopen some TensorRT libraries. If you would like to use Nvidia GPU with TensorRT, please make sure the missing libraries mentioned above are installed properly.\n",
      "2023-03-23 11:20:34.313444: W tensorflow/compiler/xla/stream_executor/platform/default/dso_loader.cc:64] Could not load dynamic library 'libnvinfer.so.7'; dlerror: libnvinfer.so.7: cannot open shared object file: No such file or directory\n",
      "2023-03-23 11:20:34.313687: W tensorflow/compiler/xla/stream_executor/platform/default/dso_loader.cc:64] Could not load dynamic library 'libnvinfer_plugin.so.7'; dlerror: libnvinfer_plugin.so.7: cannot open shared object file: No such file or directory\n",
      "2023-03-23 11:20:34.313730: W tensorflow/compiler/tf2tensorrt/utils/py_utils.cc:38] TF-TRT Warning: Cannot dlopen some TensorRT libraries. If you would like to use Nvidia GPU with TensorRT, please make sure the missing libraries mentioned above are installed properly.\n",
      "2023-03-23 11:20:34.368033: W tensorflow/compiler/xla/stream_executor/platform/default/dso_loader.cc:64] Could not load dynamic library 'libnvinfer.so.7'; dlerror: libnvinfer.so.7: cannot open shared object file: No such file or directory\n",
      "2023-03-23 11:20:34.368285: W tensorflow/compiler/xla/stream_executor/platform/default/dso_loader.cc:64] Could not load dynamic library 'libnvinfer_plugin.so.7'; dlerror: libnvinfer_plugin.so.7: cannot open shared object file: No such file or directory\n",
      "2023-03-23 11:20:34.368338: W tensorflow/compiler/tf2tensorrt/utils/py_utils.cc:38] TF-TRT Warning: Cannot dlopen some TensorRT libraries. If you would like to use Nvidia GPU with TensorRT, please make sure the missing libraries mentioned above are installed properly.\n",
      "2023-03-23 11:20:34.375079: W tensorflow/compiler/xla/stream_executor/platform/default/dso_loader.cc:64] Could not load dynamic library 'libnvinfer.so.7'; dlerror: libnvinfer.so.7: cannot open shared object file: No such file or directory\n",
      "2023-03-23 11:20:34.375283: W tensorflow/compiler/xla/stream_executor/platform/default/dso_loader.cc:64] Could not load dynamic library 'libnvinfer_plugin.so.7'; dlerror: libnvinfer_plugin.so.7: cannot open shared object file: No such file or directory\n",
      "2023-03-23 11:20:34.375339: W tensorflow/compiler/tf2tensorrt/utils/py_utils.cc:38] TF-TRT Warning: Cannot dlopen some TensorRT libraries. If you would like to use Nvidia GPU with TensorRT, please make sure the missing libraries mentioned above are installed properly.\n",
      "2023-03-23 11:20:34.377294: W tensorflow/compiler/xla/stream_executor/platform/default/dso_loader.cc:64] Could not load dynamic library 'libnvinfer.so.7'; dlerror: libnvinfer.so.7: cannot open shared object file: No such file or directory\n",
      "2023-03-23 11:20:34.377476: W tensorflow/compiler/xla/stream_executor/platform/default/dso_loader.cc:64] Could not load dynamic library 'libnvinfer_plugin.so.7'; dlerror: libnvinfer_plugin.so.7: cannot open shared object file: No such file or directory\n",
      "2023-03-23 11:20:34.377519: W tensorflow/compiler/tf2tensorrt/utils/py_utils.cc:38] TF-TRT Warning: Cannot dlopen some TensorRT libraries. If you would like to use Nvidia GPU with TensorRT, please make sure the missing libraries mentioned above are installed properly.\n",
      "2023-03-23 11:20:34.525977: W tensorflow/compiler/xla/stream_executor/platform/default/dso_loader.cc:64] Could not load dynamic library 'libnvinfer.so.7'; dlerror: libnvinfer.so.7: cannot open shared object file: No such file or directory\n",
      "2023-03-23 11:20:34.525992: W tensorflow/compiler/xla/stream_executor/platform/default/dso_loader.cc:64] Could not load dynamic library 'libnvinfer.so.7'; dlerror: libnvinfer.so.7: cannot open shared object file: No such file or directory\n",
      "2023-03-23 11:20:34.526075: W tensorflow/compiler/xla/stream_executor/platform/default/dso_loader.cc:64] Could not load dynamic library 'libnvinfer_plugin.so.7'; dlerror: libnvinfer_plugin.so.7: cannot open shared object file: No such file or directory\n",
      "2023-03-23 11:20:34.526083: W tensorflow/compiler/tf2tensorrt/utils/py_utils.cc:38] TF-TRT Warning: Cannot dlopen some TensorRT libraries. If you would like to use Nvidia GPU with TensorRT, please make sure the missing libraries mentioned above are installed properly.\n",
      "2023-03-23 11:20:34.526206: W tensorflow/compiler/xla/stream_executor/platform/default/dso_loader.cc:64] Could not load dynamic library 'libnvinfer_plugin.so.7'; dlerror: libnvinfer_plugin.so.7: cannot open shared object file: No such file or directory\n",
      "2023-03-23 11:20:34.526225: W tensorflow/compiler/tf2tensorrt/utils/py_utils.cc:38] TF-TRT Warning: Cannot dlopen some TensorRT libraries. If you would like to use Nvidia GPU with TensorRT, please make sure the missing libraries mentioned above are installed properly.\n",
      "2023-03-23 11:20:34.536441: W tensorflow/compiler/xla/stream_executor/platform/default/dso_loader.cc:64] Could not load dynamic library 'libnvinfer.so.7'; dlerror: libnvinfer.so.7: cannot open shared object file: No such file or directory\n",
      "2023-03-23 11:20:34.536601: W tensorflow/compiler/xla/stream_executor/platform/default/dso_loader.cc:64] Could not load dynamic library 'libnvinfer_plugin.so.7'; dlerror: libnvinfer_plugin.so.7: cannot open shared object file: No such file or directory\n",
      "2023-03-23 11:20:34.536641: W tensorflow/compiler/tf2tensorrt/utils/py_utils.cc:38] TF-TRT Warning: Cannot dlopen some TensorRT libraries. If you would like to use Nvidia GPU with TensorRT, please make sure the missing libraries mentioned above are installed properly.\n",
      "2023-03-23 11:20:34.584512: W tensorflow/compiler/xla/stream_executor/platform/default/dso_loader.cc:64] Could not load dynamic library 'libnvinfer.so.7'; dlerror: libnvinfer.so.7: cannot open shared object file: No such file or directory\n",
      "2023-03-23 11:20:34.584682: W tensorflow/compiler/xla/stream_executor/platform/default/dso_loader.cc:64] Could not load dynamic library 'libnvinfer_plugin.so.7'; dlerror: libnvinfer_plugin.so.7: cannot open shared object file: No such file or directory\n",
      "2023-03-23 11:20:34.584732: W tensorflow/compiler/tf2tensorrt/utils/py_utils.cc:38] TF-TRT Warning: Cannot dlopen some TensorRT libraries. If you would like to use Nvidia GPU with TensorRT, please make sure the missing libraries mentioned above are installed properly.\n",
      "2023-03-23 11:20:34.610468: W tensorflow/compiler/xla/stream_executor/platform/default/dso_loader.cc:64] Could not load dynamic library 'libnvinfer.so.7'; dlerror: libnvinfer.so.7: cannot open shared object file: No such file or directory\n",
      "2023-03-23 11:20:34.610618: W tensorflow/compiler/xla/stream_executor/platform/default/dso_loader.cc:64] Could not load dynamic library 'libnvinfer_plugin.so.7'; dlerror: libnvinfer_plugin.so.7: cannot open shared object file: No such file or directory\n",
      "2023-03-23 11:20:34.610655: W tensorflow/compiler/tf2tensorrt/utils/py_utils.cc:38] TF-TRT Warning: Cannot dlopen some TensorRT libraries. If you would like to use Nvidia GPU with TensorRT, please make sure the missing libraries mentioned above are installed properly.\n",
      "2023-03-23 11:20:34.625334: W tensorflow/compiler/xla/stream_executor/platform/default/dso_loader.cc:64] Could not load dynamic library 'libnvinfer.so.7'; dlerror: libnvinfer.so.7: cannot open shared object file: No such file or directory\n",
      "2023-03-23 11:20:34.625519: W tensorflow/compiler/xla/stream_executor/platform/default/dso_loader.cc:64] Could not load dynamic library 'libnvinfer_plugin.so.7'; dlerror: libnvinfer_plugin.so.7: cannot open shared object file: No such file or directory\n",
      "2023-03-23 11:20:34.625556: W tensorflow/compiler/tf2tensorrt/utils/py_utils.cc:38] TF-TRT Warning: Cannot dlopen some TensorRT libraries. If you would like to use Nvidia GPU with TensorRT, please make sure the missing libraries mentioned above are installed properly.\n",
      "2023-03-23 11:20:34.636779: W tensorflow/compiler/xla/stream_executor/platform/default/dso_loader.cc:64] Could not load dynamic library 'libnvinfer.so.7'; dlerror: libnvinfer.so.7: cannot open shared object file: No such file or directory\n",
      "2023-03-23 11:20:34.636963: W tensorflow/compiler/xla/stream_executor/platform/default/dso_loader.cc:64] Could not load dynamic library 'libnvinfer_plugin.so.7'; dlerror: libnvinfer_plugin.so.7: cannot open shared object file: No such file or directory\n",
      "2023-03-23 11:20:34.637018: W tensorflow/compiler/tf2tensorrt/utils/py_utils.cc:38] TF-TRT Warning: Cannot dlopen some TensorRT libraries. If you would like to use Nvidia GPU with TensorRT, please make sure the missing libraries mentioned above are installed properly.\n",
      "2023-03-23 11:20:34.645412: W tensorflow/compiler/xla/stream_executor/platform/default/dso_loader.cc:64] Could not load dynamic library 'libnvinfer.so.7'; dlerror: libnvinfer.so.7: cannot open shared object file: No such file or directory\n",
      "2023-03-23 11:20:34.645612: W tensorflow/compiler/xla/stream_executor/platform/default/dso_loader.cc:64] Could not load dynamic library 'libnvinfer_plugin.so.7'; dlerror: libnvinfer_plugin.so.7: cannot open shared object file: No such file or directory\n",
      "2023-03-23 11:20:34.645660: W tensorflow/compiler/tf2tensorrt/utils/py_utils.cc:38] TF-TRT Warning: Cannot dlopen some TensorRT libraries. If you would like to use Nvidia GPU with TensorRT, please make sure the missing libraries mentioned above are installed properly.\n",
      "2023-03-23 11:20:34.651937: W tensorflow/compiler/xla/stream_executor/platform/default/dso_loader.cc:64] Could not load dynamic library 'libnvinfer.so.7'; dlerror: libnvinfer.so.7: cannot open shared object file: No such file or directory\n",
      "2023-03-23 11:20:34.652148: W tensorflow/compiler/xla/stream_executor/platform/default/dso_loader.cc:64] Could not load dynamic library 'libnvinfer_plugin.so.7'; dlerror: libnvinfer_plugin.so.7: cannot open shared object file: No such file or directory\n",
      "2023-03-23 11:20:34.652159: W tensorflow/compiler/tf2tensorrt/utils/py_utils.cc:38] TF-TRT Warning: Cannot dlopen some TensorRT libraries. If you would like to use Nvidia GPU with TensorRT, please make sure the missing libraries mentioned above are installed properly.\n",
      "2023-03-23 11:20:34.679590: W tensorflow/compiler/xla/stream_executor/platform/default/dso_loader.cc:64] Could not load dynamic library 'libnvinfer.so.7'; dlerror: libnvinfer.so.7: cannot open shared object file: No such file or directory\n",
      "2023-03-23 11:20:34.679766: W tensorflow/compiler/xla/stream_executor/platform/default/dso_loader.cc:64] Could not load dynamic library 'libnvinfer_plugin.so.7'; dlerror: libnvinfer_plugin.so.7: cannot open shared object file: No such file or directory\n",
      "2023-03-23 11:20:34.679807: W tensorflow/compiler/tf2tensorrt/utils/py_utils.cc:38] TF-TRT Warning: Cannot dlopen some TensorRT libraries. If you would like to use Nvidia GPU with TensorRT, please make sure the missing libraries mentioned above are installed properly.\n",
      "2023-03-23 11:20:34.694244: W tensorflow/compiler/xla/stream_executor/platform/default/dso_loader.cc:64] Could not load dynamic library 'libnvinfer.so.7'; dlerror: libnvinfer.so.7: cannot open shared object file: No such file or directory\n",
      "2023-03-23 11:20:34.694441: W tensorflow/compiler/xla/stream_executor/platform/default/dso_loader.cc:64] Could not load dynamic library 'libnvinfer_plugin.so.7'; dlerror: libnvinfer_plugin.so.7: cannot open shared object file: No such file or directory\n",
      "2023-03-23 11:20:34.694483: W tensorflow/compiler/tf2tensorrt/utils/py_utils.cc:38] TF-TRT Warning: Cannot dlopen some TensorRT libraries. If you would like to use Nvidia GPU with TensorRT, please make sure the missing libraries mentioned above are installed properly.\n",
      "2023-03-23 11:20:36.081492: W tensorflow/compiler/xla/stream_executor/platform/default/dso_loader.cc:64] Could not load dynamic library 'libcusolver.so.11'; dlerror: libcusolver.so.11: cannot open shared object file: No such file or directory\n",
      "2023-03-23 11:20:36.081687: W tensorflow/core/common_runtime/gpu/gpu_device.cc:1934] Cannot dlopen some GPU libraries. Please make sure the missing libraries mentioned above are installed properly if you would like to use GPU. Follow the guide at https://www.tensorflow.org/install/gpu for how to download and setup the required libraries for your platform.\n",
      "Skipping registering GPU devices...\n",
      "2023-03-23 11:20:36.113958: W tensorflow/compiler/xla/stream_executor/platform/default/dso_loader.cc:64] Could not load dynamic library 'libcusolver.so.11'; dlerror: libcusolver.so.11: cannot open shared object file: No such file or directory\n",
      "2023-03-23 11:20:36.114138: W tensorflow/core/common_runtime/gpu/gpu_device.cc:1934] Cannot dlopen some GPU libraries. Please make sure the missing libraries mentioned above are installed properly if you would like to use GPU. Follow the guide at https://www.tensorflow.org/install/gpu for how to download and setup the required libraries for your platform.\n",
      "Skipping registering GPU devices...\n",
      "2023-03-23 11:20:36.201727: W tensorflow/compiler/xla/stream_executor/platform/default/dso_loader.cc:64] Could not load dynamic library 'libcusolver.so.11'; dlerror: libcusolver.so.11: cannot open shared object file: No such file or directory\n",
      "2023-03-23 11:20:36.201916: W tensorflow/core/common_runtime/gpu/gpu_device.cc:1934] Cannot dlopen some GPU libraries. Please make sure the missing libraries mentioned above are installed properly if you would like to use GPU. Follow the guide at https://www.tensorflow.org/install/gpu for how to download and setup the required libraries for your platform.\n",
      "Skipping registering GPU devices...\n",
      "2023-03-23 11:20:36.203581: W tensorflow/compiler/xla/stream_executor/platform/default/dso_loader.cc:64] Could not load dynamic library 'libcusolver.so.11'; dlerror: libcusolver.so.11: cannot open shared object file: No such file or directory\n",
      "2023-03-23 11:20:36.203749: W tensorflow/core/common_runtime/gpu/gpu_device.cc:1934] Cannot dlopen some GPU libraries. Please make sure the missing libraries mentioned above are installed properly if you would like to use GPU. Follow the guide at https://www.tensorflow.org/install/gpu for how to download and setup the required libraries for your platform.\n",
      "Skipping registering GPU devices...\n",
      "2023-03-23 11:20:36.238138: W tensorflow/compiler/xla/stream_executor/platform/default/dso_loader.cc:64] Could not load dynamic library 'libcusolver.so.11'; dlerror: libcusolver.so.11: cannot open shared object file: No such file or directory\n",
      "2023-03-23 11:20:36.238244: W tensorflow/core/common_runtime/gpu/gpu_device.cc:1934] Cannot dlopen some GPU libraries. Please make sure the missing libraries mentioned above are installed properly if you would like to use GPU. Follow the guide at https://www.tensorflow.org/install/gpu for how to download and setup the required libraries for your platform.\n",
      "Skipping registering GPU devices...\n",
      "2023-03-23 11:20:36.311140: W tensorflow/compiler/xla/stream_executor/platform/default/dso_loader.cc:64] Could not load dynamic library 'libcusolver.so.11'; dlerror: libcusolver.so.11: cannot open shared object file: No such file or directory\n",
      "2023-03-23 11:20:36.311354: W tensorflow/core/common_runtime/gpu/gpu_device.cc:1934] Cannot dlopen some GPU libraries. Please make sure the missing libraries mentioned above are installed properly if you would like to use GPU. Follow the guide at https://www.tensorflow.org/install/gpu for how to download and setup the required libraries for your platform.\n",
      "Skipping registering GPU devices...\n",
      "2023-03-23 11:20:36.365319: W tensorflow/compiler/xla/stream_executor/platform/default/dso_loader.cc:64] Could not load dynamic library 'libcusolver.so.11'; dlerror: libcusolver.so.11: cannot open shared object file: No such file or directory\n",
      "2023-03-23 11:20:36.365494: W tensorflow/core/common_runtime/gpu/gpu_device.cc:1934] Cannot dlopen some GPU libraries. Please make sure the missing libraries mentioned above are installed properly if you would like to use GPU. Follow the guide at https://www.tensorflow.org/install/gpu for how to download and setup the required libraries for your platform.\n",
      "Skipping registering GPU devices...\n",
      "2023-03-23 11:20:36.410979: W tensorflow/compiler/xla/stream_executor/platform/default/dso_loader.cc:64] Could not load dynamic library 'libcusolver.so.11'; dlerror: libcusolver.so.11: cannot open shared object file: No such file or directory\n",
      "2023-03-23 11:20:36.411154: W tensorflow/core/common_runtime/gpu/gpu_device.cc:1934] Cannot dlopen some GPU libraries. Please make sure the missing libraries mentioned above are installed properly if you would like to use GPU. Follow the guide at https://www.tensorflow.org/install/gpu for how to download and setup the required libraries for your platform.\n",
      "Skipping registering GPU devices...\n",
      "2023-03-23 11:20:36.472658: W tensorflow/compiler/xla/stream_executor/platform/default/dso_loader.cc:64] Could not load dynamic library 'libcusolver.so.11'; dlerror: libcusolver.so.11: cannot open shared object file: No such file or directory\n",
      "2023-03-23 11:20:36.472855: W tensorflow/core/common_runtime/gpu/gpu_device.cc:1934] Cannot dlopen some GPU libraries. Please make sure the missing libraries mentioned above are installed properly if you would like to use GPU. Follow the guide at https://www.tensorflow.org/install/gpu for how to download and setup the required libraries for your platform.\n",
      "Skipping registering GPU devices...\n",
      "2023-03-23 11:20:36.502793: W tensorflow/compiler/xla/stream_executor/platform/default/dso_loader.cc:64] Could not load dynamic library 'libcusolver.so.11'; dlerror: libcusolver.so.11: cannot open shared object file: No such file or directory\n",
      "2023-03-23 11:20:36.502908: W tensorflow/core/common_runtime/gpu/gpu_device.cc:1934] Cannot dlopen some GPU libraries. Please make sure the missing libraries mentioned above are installed properly if you would like to use GPU. Follow the guide at https://www.tensorflow.org/install/gpu for how to download and setup the required libraries for your platform.\n",
      "Skipping registering GPU devices...\n",
      "2023-03-23 11:20:36.506974: W tensorflow/compiler/xla/stream_executor/platform/default/dso_loader.cc:64] Could not load dynamic library 'libcusolver.so.11'; dlerror: libcusolver.so.11: cannot open shared object file: No such file or directory\n",
      "2023-03-23 11:20:36.507134: W tensorflow/core/common_runtime/gpu/gpu_device.cc:1934] Cannot dlopen some GPU libraries. Please make sure the missing libraries mentioned above are installed properly if you would like to use GPU. Follow the guide at https://www.tensorflow.org/install/gpu for how to download and setup the required libraries for your platform.\n",
      "Skipping registering GPU devices...\n",
      "2023-03-23 11:20:36.531313: W tensorflow/compiler/xla/stream_executor/platform/default/dso_loader.cc:64] Could not load dynamic library 'libcusolver.so.11'; dlerror: libcusolver.so.11: cannot open shared object file: No such file or directory\n",
      "2023-03-23 11:20:36.531565: W tensorflow/core/common_runtime/gpu/gpu_device.cc:1934] Cannot dlopen some GPU libraries. Please make sure the missing libraries mentioned above are installed properly if you would like to use GPU. Follow the guide at https://www.tensorflow.org/install/gpu for how to download and setup the required libraries for your platform.\n",
      "Skipping registering GPU devices...\n",
      "2023-03-23 11:20:36.537025: W tensorflow/compiler/xla/stream_executor/platform/default/dso_loader.cc:64] Could not load dynamic library 'libcusolver.so.11'; dlerror: libcusolver.so.11: cannot open shared object file: No such file or directory\n",
      "2023-03-23 11:20:36.537209: W tensorflow/core/common_runtime/gpu/gpu_device.cc:1934] Cannot dlopen some GPU libraries. Please make sure the missing libraries mentioned above are installed properly if you would like to use GPU. Follow the guide at https://www.tensorflow.org/install/gpu for how to download and setup the required libraries for your platform.\n",
      "Skipping registering GPU devices...\n",
      "2023-03-23 11:20:36.552096: W tensorflow/compiler/xla/stream_executor/platform/default/dso_loader.cc:64] Could not load dynamic library 'libcusolver.so.11'; dlerror: libcusolver.so.11: cannot open shared object file: No such file or directory\n",
      "2023-03-23 11:20:36.552278: W tensorflow/core/common_runtime/gpu/gpu_device.cc:1934] Cannot dlopen some GPU libraries. Please make sure the missing libraries mentioned above are installed properly if you would like to use GPU. Follow the guide at https://www.tensorflow.org/install/gpu for how to download and setup the required libraries for your platform.\n",
      "Skipping registering GPU devices...\n",
      "2023-03-23 11:20:36.636649: W tensorflow/compiler/xla/stream_executor/platform/default/dso_loader.cc:64] Could not load dynamic library 'libcusolver.so.11'; dlerror: libcusolver.so.11: cannot open shared object file: No such file or directory\n",
      "2023-03-23 11:20:36.636840: W tensorflow/core/common_runtime/gpu/gpu_device.cc:1934] Cannot dlopen some GPU libraries. Please make sure the missing libraries mentioned above are installed properly if you would like to use GPU. Follow the guide at https://www.tensorflow.org/install/gpu for how to download and setup the required libraries for your platform.\n",
      "Skipping registering GPU devices...\n",
      "2023-03-23 11:20:36.728126: W tensorflow/compiler/xla/stream_executor/platform/default/dso_loader.cc:64] Could not load dynamic library 'libcusolver.so.11'; dlerror: libcusolver.so.11: cannot open shared object file: No such file or directory\n",
      "2023-03-23 11:20:36.728355: W tensorflow/core/common_runtime/gpu/gpu_device.cc:1934] Cannot dlopen some GPU libraries. Please make sure the missing libraries mentioned above are installed properly if you would like to use GPU. Follow the guide at https://www.tensorflow.org/install/gpu for how to download and setup the required libraries for your platform.\n",
      "Skipping registering GPU devices...\n",
      "[Parallel(n_jobs=-1)]: Done  25 out of  37 | elapsed:    5.3s remaining:    2.6s\n",
      "[Parallel(n_jobs=-1)]: Done  37 out of  37 | elapsed:    5.5s finished\n"
     ]
    },
    {
     "data": {
      "text/plain": [
       "0"
      ]
     },
     "execution_count": 10,
     "metadata": {},
     "output_type": "execute_result"
    }
   ],
   "source": [
    "res = Parallel(n_jobs=-1, verbose=2)(delayed(lt.process)(r['_id'], r['caption'], r.get('ignore')) for r in concise)\n",
    "len([g for g in res if len(g['matches']) > 0])"
   ]
  },
  {
   "cell_type": "code",
   "execution_count": 11,
   "id": "6fdd2ea0-1f28-47c0-8f21-088695e7bad6",
   "metadata": {},
   "outputs": [
    {
     "data": {
      "text/plain": [
       "{'writeErrors': [],\n",
       " 'writeConcernErrors': [],\n",
       " 'nInserted': 0,\n",
       " 'nUpserted': 0,\n",
       " 'nMatched': 37,\n",
       " 'nModified': 37,\n",
       " 'nRemoved': 0,\n",
       " 'upserted': []}"
      ]
     },
     "execution_count": 11,
     "metadata": {},
     "output_type": "execute_result"
    }
   ],
   "source": [
    "updates = [UpdateOne({'_id': r['_id']}, {'$set': {'ignore': r.get('ignore', [])}}) for r in concise]\n",
    "wres = db.captions.bulk_write(updates)\n",
    "wres.bulk_api_result"
   ]
  },
  {
   "cell_type": "code",
   "execution_count": 12,
   "id": "13dc1146-ea57-4a36-a431-e5fab02e057c",
   "metadata": {},
   "outputs": [
    {
     "data": {
      "text/plain": [
       "['The top two overall level rating differ by 4.4444444444.',\n",
       " 'The top two periodicity assessment rating differ by 3.33333.',\n",
       " 'The top two overall level rating differ by 4.4444444444.',\n",
       " 'The top two overall level rating differ by 3.3333333333.',\n",
       " 'The top two overall level rating differ by 11.1111111111.',\n",
       " 'The top two periodicity assessment rating differ by 12.4122769737.',\n",
       " 'The top two periodicity assessment rating differ by 6.66666.',\n",
       " 'The top two overall level rating differ by 18.8888888889.',\n",
       " 'The top two overall level rating differ by 3.333.',\n",
       " 'The top two periodicity assessment rating differ by 3.333.',\n",
       " 'The top two periodicity assessment rating differ by 3.3333333333.',\n",
       " 'The top two periodicity assessment rating differ by 0.877.',\n",
       " 'The top two overall level rating differ by 2.222.',\n",
       " 'The top two periodicity assessment rating differ by 6.66667.',\n",
       " 'The top two overall level rating differ by 3.333.',\n",
       " 'The top two overall level rating differ by 0.2116402381.',\n",
       " 'The top two overall level rating differ by 1.1111111111.',\n",
       " 'The top two overall level rating differ by 5.5555555556.',\n",
       " 'The top two periodicity assessment rating differ by 3.33334.',\n",
       " 'The top two overall level rating differ by 7.7777777778.',\n",
       " 'The top two overall level rating differ by 0.1198830965.',\n",
       " 'The top two periodicity assessment rating differ by 23.33333.',\n",
       " 'The top two periodicity assessment rating differ by 26.6666.',\n",
       " 'The top two overall level rating differ by 14.4444666667.',\n",
       " 'The top two periodicity assessment rating differ by 6.66666.',\n",
       " 'The top two overall level rating differ by 1.1111111111.',\n",
       " 'The top two periodicity assessment rating differ by 3.33333.',\n",
       " 'The top two methodology assessment rating differ by 40.0.',\n",
       " 'The top two periodicity assessment rating differ by 6.6116354717.']"
      ]
     },
     "execution_count": 12,
     "metadata": {},
     "output_type": "execute_result"
    }
   ],
   "source": [
    "rating = lt.filter_lt_messages(G, message='The verb form ‘differ’ does not seem to match the subject ‘rating’.')\n",
    "[c['caption'] for c in rating]"
   ]
  },
  {
   "cell_type": "code",
   "execution_count": 13,
   "id": "685eeeff-42ca-4420-b154-278b4673577c",
   "metadata": {},
   "outputs": [],
   "source": [
    "for c in rating:\n",
    "    c['caption'] = c['caption'].replace('rating differ', 'ratings differ')"
   ]
  },
  {
   "cell_type": "code",
   "execution_count": 15,
   "id": "82b0a65a-85b6-444e-a82b-5213f576d8f5",
   "metadata": {},
   "outputs": [
    {
     "name": "stderr",
     "output_type": "stream",
     "text": [
      "[Parallel(n_jobs=-1)]: Using backend LokyBackend with 16 concurrent workers.\n",
      "[Parallel(n_jobs=-1)]: Done  13 out of  29 | elapsed:    0.0s remaining:    0.0s\n",
      "[Parallel(n_jobs=-1)]: Done  29 out of  29 | elapsed:    0.0s finished\n"
     ]
    },
    {
     "data": {
      "text/plain": [
       "0"
      ]
     },
     "execution_count": 15,
     "metadata": {},
     "output_type": "execute_result"
    }
   ],
   "source": [
    "res = Parallel(n_jobs=-1, verbose=2)(delayed(lt.process)(r['_id'], r['caption'], r.get('ignore')) for r in rating)\n",
    "len([g for g in res if len(g['matches']) > 0])"
   ]
  },
  {
   "cell_type": "code",
   "execution_count": 16,
   "id": "35e3bb46-6bb8-45e3-b7f3-a4953e8e5498",
   "metadata": {},
   "outputs": [
    {
     "data": {
      "text/plain": [
       "{'writeErrors': [],\n",
       " 'writeConcernErrors': [],\n",
       " 'nInserted': 0,\n",
       " 'nUpserted': 0,\n",
       " 'nMatched': 29,\n",
       " 'nModified': 29,\n",
       " 'nRemoved': 0,\n",
       " 'upserted': []}"
      ]
     },
     "execution_count": 16,
     "metadata": {},
     "output_type": "execute_result"
    }
   ],
   "source": [
    "updates = [UpdateOne({'_id': r['_id']}, {'$set': {'caption': r['caption']}}) for r in rating]\n",
    "wres = db.captions.bulk_write(updates)\n",
    "wres.bulk_api_result"
   ]
  },
  {
   "cell_type": "code",
   "execution_count": 17,
   "id": "7423bd92-8c6a-4f33-a36a-fa9869659347",
   "metadata": {},
   "outputs": [
    {
     "data": {
      "text/plain": [
       "['The total agricultural land in Switzerland is not greater than 240000 sq.km in any years.',\n",
       " 'The total agricultural land in the United Kingdom is not greater than 200000 sq.km in any years.',\n",
       " 'The total agricultural land in the United Arab Emirates is not greater than 150000 sq.km in any years.',\n",
       " 'The total agricultural land in Gabon is greater than 34000 sq.km in 6 years.',\n",
       " 'The total agricultural land in the least developed countries is greater than 6000000 sq.km in 5 years.',\n",
       " 'The total agricultural land in Costa Rica is greater than 18000 sq.km in 3 years.',\n",
       " 'The total agricultural land in Lithuania is not greater than 680000 sq.km in any years.',\n",
       " 'The total agricultural land in Denmark is not greater than 136000 sq.km in any years.',\n",
       " 'The total agricultural land in Slovenia is never more than 400000 sq.km in any years.',\n",
       " 'The total agricultural land in Finland is never more than 100000 sq.km in any years.',\n",
       " 'The total agricultural land in Tuvalu is not greater than 3000 sq.km in any years.',\n",
       " 'The total agricultural land in Latin America (all income levels) is greater than 4400000 sq.km in 6 years.',\n",
       " 'The total agricultural land in 1963 is not greater than 72000 sq.km in any countries.',\n",
       " 'The total agricultural land in Equatorial Guinea is greater than 800 sq.km in 3 years.',\n",
       " 'The total agricultural land in Namibia is never more than 1000000 sq.km in any years.',\n",
       " 'The total agricultural land in 1962 is greater than 116000 sq.km in 1 country.',\n",
       " 'The total agricultural land in Lower middle income is greater than 3200000 sq.km in 5 years.',\n",
       " 'The total agricultural land in the Turks and Caicos Islands is not greater than 30000 sq.km in any years.',\n",
       " 'The total agricultural land in Sub-Saharan Africa (all income levels) is greater than 400000 sq.km in 3 years.',\n",
       " 'The total agricultural land in 1961 is greater than 800000 sq.km in 4 countries.',\n",
       " 'The total agricultural land in 1962 is greater than 6000000 sq.km in 3 countries.',\n",
       " 'The total agricultural land in 1961 is greater than 40000 sq.km in 3 countries.',\n",
       " 'The total agricultural land in 1961 is greater than 7200000 sq.km in 2 countries.',\n",
       " 'The total agricultural land in Morocco is not greater than 680000 sq.km in any years.',\n",
       " 'The total agricultural land in Mauritania is not greater than 1200000 sq.km in any years.',\n",
       " 'The total agricultural land in 1963 is greater than 92000 sq.km in 1 country.',\n",
       " 'The total agricultural land in East Asia (all income levels) is greater than 10400000 sq.km in 3 years.',\n",
       " 'The total agricultural land in Qatar is not greater than 20000 sq.km in any years.']"
      ]
     },
     "execution_count": 17,
     "metadata": {},
     "output_type": "execute_result"
    }
   ],
   "source": [
    "sent_start = lt.filter_lt_messages(G, message='If a new sentence starts here, add a space and start with an uppercase letter.')\n",
    "[c['caption'] for c in sent_start]"
   ]
  },
  {
   "cell_type": "code",
   "execution_count": 18,
   "id": "d5135bb1-cbee-4a39-91fe-d9d7789bc585",
   "metadata": {},
   "outputs": [],
   "source": [
    "assert all(['sq.km' in c['caption'] for c in sent_start])"
   ]
  },
  {
   "cell_type": "code",
   "execution_count": 19,
   "id": "645f5eb4-68ee-44cc-b85d-9662c4fb30af",
   "metadata": {},
   "outputs": [],
   "source": [
    "for c in sent_start:\n",
    "    c['caption'] = c['caption'].replace('sq.km', 'sq km')"
   ]
  },
  {
   "cell_type": "code",
   "execution_count": 20,
   "id": "eafbb986-5b8e-47e7-8d04-1a0234cc1dec",
   "metadata": {},
   "outputs": [
    {
     "data": {
      "text/plain": [
       "0"
      ]
     },
     "execution_count": 20,
     "metadata": {},
     "output_type": "execute_result"
    }
   ],
   "source": [
    "res = [lt.process(r['_id'], r['caption'], r.get('ignore')) for r in sent_start]\n",
    "len([g for g in res if len(g['matches']) > 0])"
   ]
  },
  {
   "cell_type": "code",
   "execution_count": 21,
   "id": "e21c13aa-fe8d-40e9-9a60-2a4d82e5a88c",
   "metadata": {},
   "outputs": [
    {
     "data": {
      "text/plain": [
       "{'writeErrors': [],\n",
       " 'writeConcernErrors': [],\n",
       " 'nInserted': 0,\n",
       " 'nUpserted': 0,\n",
       " 'nMatched': 28,\n",
       " 'nModified': 28,\n",
       " 'nRemoved': 0,\n",
       " 'upserted': []}"
      ]
     },
     "execution_count": 21,
     "metadata": {},
     "output_type": "execute_result"
    }
   ],
   "source": [
    "updates = [UpdateOne({'_id': r['_id']}, {'$set': {'caption': r['caption']}}) for r in sent_start]\n",
    "wres = db.captions.bulk_write(updates)\n",
    "wres.bulk_api_result"
   ]
  },
  {
   "cell_type": "code",
   "execution_count": 22,
   "id": "62dfe080-72b8-43e0-9afa-2e707ec54d95",
   "metadata": {},
   "outputs": [
    {
     "data": {
      "text/plain": [
       "['0.5945835176 is the total elevated land area in 2000.',\n",
       " '0.3513818 is the total elevated land area in 2000.',\n",
       " '0.3752189172 is the total elevated land area in 2000.',\n",
       " '0.2082346 is the total elevated land area in 2000.',\n",
       " '5.497674 is the total elevated land area in 2000.',\n",
       " '71.98609 is the total elevated land area in 1990.',\n",
       " '8.7086348821 is the total adjusted net savings in Sub-Saharan Africa (all income levels) in the graph.',\n",
       " '189190755439.18393 is the total adjusted net savings in 1970 in the graph.',\n",
       " '50.6151606875 is the total adjusted net savings in 1972 in the graph.',\n",
       " '67.4824630833 is the total adjusted net savings in 1970 in the graph.',\n",
       " '56.4365840963 is the total adjusted net savings in 1970 in the graph.',\n",
       " '243159014617.9618 is the total adjusted net savings in 1972 in the graph.',\n",
       " '85.50290936 is the total adjusted net savings in 1970 in the graph.',\n",
       " '96.7031561347 is the total adjusted net savings in 1973 in the graph.',\n",
       " '96.5933481298 is the total adjusted net savings in 1973 in the graph.',\n",
       " '27140757820.516823 is the total adjusted net savings in 1973 in the graph.',\n",
       " '45328474512.81677 is the total adjusted net savings in 1971 in the graph.',\n",
       " '91.5243038526 is the total adjusted net savings in 1970 in the graph.',\n",
       " '66.1984994314 is the total adjusted net savings in 1970 in the graph.',\n",
       " '1.026591 is the total elevated land area in 2000.',\n",
       " '99.01826 is the total elevated land area in 1990.',\n",
       " '0.05983744 is the total elevated land area in 1990.',\n",
       " '1.4364302264 is the total elevated land area in 1990.',\n",
       " '19.35084 is the total elevated land area in 2000.',\n",
       " '4.0009710861 is the total elevated land area in 1990.',\n",
       " '0.37851 is the total elevated land area in 2000.',\n",
       " '0.4448855153 is the total elevated land area in 1990.',\n",
       " '2.99209 is the total elevated land area in 1990.',\n",
       " '3.3078319036 is the total elevated land area in 2000.',\n",
       " '75.0826288245 is the total adjusted net savings in 1972 in the graph.',\n",
       " '51.0447421557 is the total adjusted net savings in 1971 in the graph.',\n",
       " '15536096877.270641 is the total adjusted net savings in 1970 in the graph.',\n",
       " '79.5135619658 is the total adjusted net savings in 1971 in the graph.',\n",
       " '34795446769.351974 is the total adjusted net savings in 1971 in the graph.',\n",
       " '42.1362132967 is the total adjusted net savings in 1971 in the graph.',\n",
       " '93.1564475775 is the total adjusted net savings in 1972 in the graph.',\n",
       " '67081257468.1816 is the total adjusted net savings in 1973 in the graph.',\n",
       " '93.1564475775 is the total adjusted net savings in 1972 in the graph.',\n",
       " '34589292797.719025 is the total adjusted net savings in 1971 in the graph.',\n",
       " '34589292797.719025 is the total adjusted net savings in 1971 in the graph.',\n",
       " '81.9095710338 is the total adjusted net savings in 1970 in the graph.',\n",
       " '77.5265727302 is the total adjusted net savings in 1972 in the graph.',\n",
       " '0.4477959081 is the total elevated land area in Low income.',\n",
       " '2.007511 is the total elevated land area in 1990.',\n",
       " '1.7840273289 is the total elevated land area in 2000.',\n",
       " '3.5155040218 is the total elevated land area in Euro area.',\n",
       " '53.2727 is the total elevated land area in 1990.',\n",
       " '0.5667931 is the total elevated land area in 1990.',\n",
       " '60.28383 is the total elevated land area in 2000.',\n",
       " '0.1889901 is the total elevated land area in 1990.']"
      ]
     },
     "execution_count": 22,
     "metadata": {},
     "output_type": "execute_result"
    }
   ],
   "source": [
    "adj = lt.filter_lt_messages(G, message='Make sure that the adjective')\n",
    "[c['caption'] for c in adj]"
   ]
  },
  {
   "cell_type": "code",
   "execution_count": 24,
   "id": "b1b74367-5bb0-4a53-bd7f-5ee483f42bb0",
   "metadata": {},
   "outputs": [
    {
     "data": {
      "text/plain": [
       "0"
      ]
     },
     "execution_count": 24,
     "metadata": {},
     "output_type": "execute_result"
    }
   ],
   "source": [
    "RULE = 'ADVERB_OR_HYPHENATED_ADJECTIVE'\n",
    "for c in adj:\n",
    "    ig = c.get('ignore', [])\n",
    "    if RULE not in ig:\n",
    "        ig.append(RULE)\n",
    "    c['ignore'] = ig\n",
    "    \n",
    "res = [lt.process(r['_id'], r['caption'], r.get('ignore')) for r in adj]\n",
    "len([g for g in res if len(g['matches']) > 0])"
   ]
  },
  {
   "cell_type": "code",
   "execution_count": 25,
   "id": "7ee7d76c-9ff0-430c-9565-bf8ae7074164",
   "metadata": {},
   "outputs": [
    {
     "data": {
      "text/plain": [
       "{'writeErrors': [],\n",
       " 'writeConcernErrors': [],\n",
       " 'nInserted': 0,\n",
       " 'nUpserted': 0,\n",
       " 'nMatched': 50,\n",
       " 'nModified': 50,\n",
       " 'nRemoved': 0,\n",
       " 'upserted': []}"
      ]
     },
     "execution_count": 25,
     "metadata": {},
     "output_type": "execute_result"
    }
   ],
   "source": [
    "updates = [UpdateOne({'_id': r['_id']}, {'$set': {'ignore': r['ignore']}}) for r in adj]\n",
    "wres = db.captions.bulk_write(updates)\n",
    "wres.bulk_api_result"
   ]
  },
  {
   "cell_type": "code",
   "execution_count": 27,
   "id": "4ef7871e-5bf3-4df5-8489-cccd1f4ca2c9",
   "metadata": {},
   "outputs": [
    {
     "data": {
      "text/plain": [
       "[('A more concise phrase may lose no meaning and sound more powerful.', 37),\n",
       " ('The verb form ‘differ’ does not seem to match the subject ‘rating’.', 29),\n",
       " ('If a new sentence starts here, add a space and start with an uppercase letter.',\n",
       "  28),\n",
       " ('Make sure that the adjective ‘total’ is correct. Possibly, it should be an adverb (typically ~ly) that modifies ‘adjusted’. Possibly, it should be the first word in a compound adjective (hyphenated adjective). Possibly, it is correct.',\n",
       "  26),\n",
       " ('Make sure that the adjective ‘total’ is correct. Possibly, it should be an adverb (typically ~ly) that modifies ‘elevated’. Possibly, it should be the first word in a compound adjective (hyphenated adjective). Possibly, it is correct.',\n",
       "  24),\n",
       " ('Did you mean “whom”?', 22),\n",
       " ('Please check whether a word is missing between ‘The’ and ‘is’ or whether ‘The’ is the correct determiner.',\n",
       "  11),\n",
       " ('Please verify that the plural noun “days” is in agreement with the quantifier “1”. Did you mean to use the singular form?',\n",
       "  6),\n",
       " ('The verb form ‘is’ does not seem to match the subject ‘flows’.', 6),\n",
       " ('Possible typo: you repeated a whitespace', 6),\n",
       " ('A word may be missing after ‘The’.', 6),\n",
       " ('The verb form ‘is’ does not seem to match the subject ‘withdrawals’.', 5),\n",
       " ('Use “good at” to mean “skilled” with school subjects. Try this: “Goods at French”.',\n",
       "  5),\n",
       " ('The verb form ‘is’ does not seem to match the subject ‘exports’.', 3),\n",
       " ('Possible agreement error.', 3),\n",
       " ('The usual preposition for an exact address is “at”, not “on”. Did you mean “located at 1971 In St”?',\n",
       "  2),\n",
       " ('Please verify that the plural noun “hours” is in agreement with the quantifier “1”. Did you mean to use the singular form?',\n",
       "  2),\n",
       " ('The usual preposition for an exact address is “at”, not “on”. Did you mean “located at 1970 In St”?',\n",
       "  2),\n",
       " ('The verb form ‘increases’ does not seem to match the subject ‘withdrawals’.',\n",
       "  1),\n",
       " ('The verb form ‘is’ does not seem to match the subject ‘creditors’.', 1),\n",
       " ('The verb form ‘is’ does not seem to match the subject ‘imports’.', 1),\n",
       " ('Please verify that the plural noun “hectares” is in agreement with the quantifier “1”. Did you mean to use the singular form?',\n",
       "  1)]"
      ]
     },
     "execution_count": 27,
     "metadata": {},
     "output_type": "execute_result"
    }
   ],
   "source": [
    "ctr.most_common()"
   ]
  },
  {
   "cell_type": "code",
   "execution_count": null,
   "id": "7fe01525-d96d-4bc3-9c67-1cbb7c83f5af",
   "metadata": {},
   "outputs": [],
   "source": []
  },
  {
   "cell_type": "code",
   "execution_count": null,
   "id": "092156d5-198c-4a76-98d0-d0e2f0cfee01",
   "metadata": {},
   "outputs": [],
   "source": []
  },
  {
   "cell_type": "code",
   "execution_count": 4,
   "id": "eff3b130-0968-416c-aa8b-4f118e09ae83",
   "metadata": {},
   "outputs": [
    {
     "data": {
      "text/plain": [
       "{'_id': 324567,\n",
       " 'question_string': 'Across all years, what is the minimum lower secondary completion rate of female students in Albania ?',\n",
       " 'template': 'min_max',\n",
       " 'answer': 82.8153991699,\n",
       " 'type': 'dot',\n",
       " 'template_id': 27,\n",
       " 'caption': 'The least lower secondary completion rate of female students in Albania across years is 82.8153991699.',\n",
       " 'matches': [{'message': 'Non-standard use of the comparative or superlative. Did you mean “least low”?',\n",
       "   'shortMessage': 'Grammatical problem: non-standard comparative/superlative',\n",
       "   'replacements': [{'value': 'least low'}],\n",
       "   'offset': 4,\n",
       "   'length': 11,\n",
       "   'context': {'text': 'The least lower secondary completion rate of female stu...',\n",
       "    'offset': 4,\n",
       "    'length': 11},\n",
       "   'sentence': 'The least lower secondary completion rate of female students in Albania across years is 82.8153991699.',\n",
       "   'type': {'typeName': 'Other'},\n",
       "   'rule': {'id': 'LEAST_COMPARATIVE',\n",
       "    'subId': '1',\n",
       "    'sourceFile': 'grammar.xml',\n",
       "    'description': \"'least' before comparative or superlative\",\n",
       "    'issueType': 'grammar',\n",
       "    'urls': [{'value': 'https://languagetool.org/insights/post/less-vs-least-grammar/#when-to-use-%E2%80%9Cleast%E2%80%9D'}],\n",
       "    'category': {'id': 'GRAMMAR', 'name': 'Grammar'}},\n",
       "   'ignoreForIncompleteSentence': True,\n",
       "   'contextForSureMatch': 4}]}"
      ]
     },
     "execution_count": 4,
     "metadata": {},
     "output_type": "execute_result"
    }
   ],
   "source": [
    "least = lt.filter_lt_messages(G, message='Non-standard use of the comparative or superlative. Did you mean “least low”?')\n",
    "least[0]"
   ]
  },
  {
   "cell_type": "code",
   "execution_count": 15,
   "id": "66a23c84-093a-4f13-9ebf-0178e702d9e8",
   "metadata": {},
   "outputs": [
    {
     "data": {
      "text/plain": [
       "['The least lower secondary completion rate of male students in Cabo Verde across years is 46.5438499451.',\n",
       " 'The least lower secondary completion rate of female students in the Middle East & North Africa (all income levels) across years is 70.4866333008.',\n",
       " 'The least lower secondary completion rate of male students in Algeria across years is 46.0660705566.',\n",
       " 'The least lower secondary completion rate of female students in Kuwait across years is 99.4758911133.',\n",
       " 'The least lower secondary completion rate of male students in Chile across years is 92.3327713013.',\n",
       " 'The least lower secondary school starting age of children in 1973 across all countries is 10.0.',\n",
       " 'The least lower secondary completion rate of male students in the Central African Republic across all years is 9.79974.',\n",
       " 'The least lower secondary school starting age of children in 1972 across all countries is 12.0.',\n",
       " 'The least lower secondary completion rate of male students in Guatemala across years is 44.2846794128.',\n",
       " 'The least lower secondary school starting age of children in Jordan across years is 12.0.']"
      ]
     },
     "execution_count": 15,
     "metadata": {},
     "output_type": "execute_result"
    }
   ],
   "source": [
    "random.choices([c['caption'] for c in least], k=10)"
   ]
  },
  {
   "cell_type": "code",
   "execution_count": 16,
   "id": "fbc609fc-99af-49eb-b4be-9d551cbcff84",
   "metadata": {},
   "outputs": [
    {
     "data": {
      "text/plain": [
       "58"
      ]
     },
     "execution_count": 16,
     "metadata": {},
     "output_type": "execute_result"
    }
   ],
   "source": [
    "len(least)"
   ]
  },
  {
   "cell_type": "code",
   "execution_count": 18,
   "id": "5eeda165-10b2-4a87-b30e-9fe543a92aa8",
   "metadata": {},
   "outputs": [],
   "source": [
    "for c in least:\n",
    "    c['caption'] = c['caption'].replace('The least lower secondary', 'The minimum lower secondary')"
   ]
  },
  {
   "cell_type": "code",
   "execution_count": 14,
   "id": "f2c70591-6c19-46bc-80a4-aac015744e77",
   "metadata": {},
   "outputs": [
    {
     "data": {
      "text/plain": [
       "0.9508670520231214"
      ]
     },
     "execution_count": 14,
     "metadata": {},
     "output_type": "execute_result"
    }
   ],
   "source": [
    "len([c for c in agree if c['caption'].startswith('The top two')]) / len(agree)"
   ]
  },
  {
   "cell_type": "code",
   "execution_count": 21,
   "id": "2f0f7350-df17-4c07-bfa9-0b29c6d1255b",
   "metadata": {},
   "outputs": [
    {
     "data": {
      "text/plain": [
       "72"
      ]
     },
     "execution_count": 21,
     "metadata": {},
     "output_type": "execute_result"
    }
   ],
   "source": [
    "duplicate = lt.filter_lt_messages(G, message='This phrase is duplicated.')\n",
    "len(duplicate)"
   ]
  },
  {
   "cell_type": "code",
   "execution_count": 23,
   "id": "682c9e5d-9e22-4c97-acc3-a3add9ad3123",
   "metadata": {},
   "outputs": [],
   "source": [
    "for c in duplicate:\n",
    "    assert ('in Amount in Amount' in c['caption']) or ('in Investment in Investmen' in c['caption'])"
   ]
  },
  {
   "cell_type": "code",
   "execution_count": 24,
   "id": "9996528c-672e-468d-ba47-461bea6c6bf0",
   "metadata": {},
   "outputs": [],
   "source": [
    "for c in duplicate:\n",
    "    c['caption'] = c['caption'].replace('in Amount in Amount', 'in Amount')\n",
    "    c['caption'] = c['caption'].replace('in Investment in Investment', 'in Investment')"
   ]
  },
  {
   "cell_type": "code",
   "execution_count": 25,
   "id": "b30a4f8a-89fd-48e7-9130-a3d620a6166b",
   "metadata": {
    "scrolled": true,
    "tags": []
   },
   "outputs": [
    {
     "name": "stderr",
     "output_type": "stream",
     "text": [
      "[Parallel(n_jobs=-1)]: Using backend LokyBackend with 16 concurrent workers.\n",
      "2023-03-23 11:07:20.037225: W tensorflow/compiler/xla/stream_executor/platform/default/dso_loader.cc:64] Could not load dynamic library 'libnvinfer.so.7'; dlerror: libnvinfer.so.7: cannot open shared object file: No such file or directory\n",
      "2023-03-23 11:07:20.037630: W tensorflow/compiler/xla/stream_executor/platform/default/dso_loader.cc:64] Could not load dynamic library 'libnvinfer_plugin.so.7'; dlerror: libnvinfer_plugin.so.7: cannot open shared object file: No such file or directory\n",
      "2023-03-23 11:07:20.037648: W tensorflow/compiler/tf2tensorrt/utils/py_utils.cc:38] TF-TRT Warning: Cannot dlopen some TensorRT libraries. If you would like to use Nvidia GPU with TensorRT, please make sure the missing libraries mentioned above are installed properly.\n",
      "2023-03-23 11:07:20.061890: W tensorflow/compiler/xla/stream_executor/platform/default/dso_loader.cc:64] Could not load dynamic library 'libnvinfer.so.7'; dlerror: libnvinfer.so.7: cannot open shared object file: No such file or directory\n",
      "2023-03-23 11:07:20.062091: W tensorflow/compiler/xla/stream_executor/platform/default/dso_loader.cc:64] Could not load dynamic library 'libnvinfer_plugin.so.7'; dlerror: libnvinfer_plugin.so.7: cannot open shared object file: No such file or directory\n",
      "2023-03-23 11:07:20.062141: W tensorflow/compiler/tf2tensorrt/utils/py_utils.cc:38] TF-TRT Warning: Cannot dlopen some TensorRT libraries. If you would like to use Nvidia GPU with TensorRT, please make sure the missing libraries mentioned above are installed properly.\n",
      "2023-03-23 11:07:20.075866: W tensorflow/compiler/xla/stream_executor/platform/default/dso_loader.cc:64] Could not load dynamic library 'libnvinfer.so.7'; dlerror: libnvinfer.so.7: cannot open shared object file: No such file or directory\n",
      "2023-03-23 11:07:20.077825: W tensorflow/compiler/xla/stream_executor/platform/default/dso_loader.cc:64] Could not load dynamic library 'libnvinfer_plugin.so.7'; dlerror: libnvinfer_plugin.so.7: cannot open shared object file: No such file or directory\n",
      "2023-03-23 11:07:20.077930: W tensorflow/compiler/tf2tensorrt/utils/py_utils.cc:38] TF-TRT Warning: Cannot dlopen some TensorRT libraries. If you would like to use Nvidia GPU with TensorRT, please make sure the missing libraries mentioned above are installed properly.\n",
      "2023-03-23 11:07:20.120728: W tensorflow/compiler/xla/stream_executor/platform/default/dso_loader.cc:64] Could not load dynamic library 'libnvinfer.so.7'; dlerror: libnvinfer.so.7: cannot open shared object file: No such file or directory\n",
      "2023-03-23 11:07:20.120931: W tensorflow/compiler/xla/stream_executor/platform/default/dso_loader.cc:64] Could not load dynamic library 'libnvinfer_plugin.so.7'; dlerror: libnvinfer_plugin.so.7: cannot open shared object file: No such file or directory\n",
      "2023-03-23 11:07:20.120963: W tensorflow/compiler/tf2tensorrt/utils/py_utils.cc:38] TF-TRT Warning: Cannot dlopen some TensorRT libraries. If you would like to use Nvidia GPU with TensorRT, please make sure the missing libraries mentioned above are installed properly.\n",
      "2023-03-23 11:07:20.122563: W tensorflow/compiler/xla/stream_executor/platform/default/dso_loader.cc:64] Could not load dynamic library 'libnvinfer.so.7'; dlerror: libnvinfer.so.7: cannot open shared object file: No such file or directory\n",
      "2023-03-23 11:07:20.122741: W tensorflow/compiler/xla/stream_executor/platform/default/dso_loader.cc:64] Could not load dynamic library 'libnvinfer_plugin.so.7'; dlerror: libnvinfer_plugin.so.7: cannot open shared object file: No such file or directory\n",
      "2023-03-23 11:07:20.122776: W tensorflow/compiler/tf2tensorrt/utils/py_utils.cc:38] TF-TRT Warning: Cannot dlopen some TensorRT libraries. If you would like to use Nvidia GPU with TensorRT, please make sure the missing libraries mentioned above are installed properly.\n",
      "2023-03-23 11:07:20.143276: W tensorflow/compiler/xla/stream_executor/platform/default/dso_loader.cc:64] Could not load dynamic library 'libnvinfer.so.7'; dlerror: libnvinfer.so.7: cannot open shared object file: No such file or directory\n",
      "2023-03-23 11:07:20.143460: W tensorflow/compiler/xla/stream_executor/platform/default/dso_loader.cc:64] Could not load dynamic library 'libnvinfer_plugin.so.7'; dlerror: libnvinfer_plugin.so.7: cannot open shared object file: No such file or directory\n",
      "2023-03-23 11:07:20.143509: W tensorflow/compiler/tf2tensorrt/utils/py_utils.cc:38] TF-TRT Warning: Cannot dlopen some TensorRT libraries. If you would like to use Nvidia GPU with TensorRT, please make sure the missing libraries mentioned above are installed properly.\n",
      "2023-03-23 11:07:20.183601: W tensorflow/compiler/xla/stream_executor/platform/default/dso_loader.cc:64] Could not load dynamic library 'libnvinfer.so.7'; dlerror: libnvinfer.so.7: cannot open shared object file: No such file or directory\n",
      "2023-03-23 11:07:20.183795: W tensorflow/compiler/xla/stream_executor/platform/default/dso_loader.cc:64] Could not load dynamic library 'libnvinfer_plugin.so.7'; dlerror: libnvinfer_plugin.so.7: cannot open shared object file: No such file or directory\n",
      "2023-03-23 11:07:20.183845: W tensorflow/compiler/tf2tensorrt/utils/py_utils.cc:38] TF-TRT Warning: Cannot dlopen some TensorRT libraries. If you would like to use Nvidia GPU with TensorRT, please make sure the missing libraries mentioned above are installed properly.\n",
      "2023-03-23 11:07:20.196419: W tensorflow/compiler/xla/stream_executor/platform/default/dso_loader.cc:64] Could not load dynamic library 'libnvinfer.so.7'; dlerror: libnvinfer.so.7: cannot open shared object file: No such file or directory\n",
      "2023-03-23 11:07:20.196596: W tensorflow/compiler/xla/stream_executor/platform/default/dso_loader.cc:64] Could not load dynamic library 'libnvinfer_plugin.so.7'; dlerror: libnvinfer_plugin.so.7: cannot open shared object file: No such file or directory\n",
      "2023-03-23 11:07:20.196647: W tensorflow/compiler/tf2tensorrt/utils/py_utils.cc:38] TF-TRT Warning: Cannot dlopen some TensorRT libraries. If you would like to use Nvidia GPU with TensorRT, please make sure the missing libraries mentioned above are installed properly.\n",
      "2023-03-23 11:07:20.201304: W tensorflow/compiler/xla/stream_executor/platform/default/dso_loader.cc:64] Could not load dynamic library 'libnvinfer.so.7'; dlerror: libnvinfer.so.7: cannot open shared object file: No such file or directory\n",
      "2023-03-23 11:07:20.201472: W tensorflow/compiler/xla/stream_executor/platform/default/dso_loader.cc:64] Could not load dynamic library 'libnvinfer_plugin.so.7'; dlerror: libnvinfer_plugin.so.7: cannot open shared object file: No such file or directory\n",
      "2023-03-23 11:07:20.201515: W tensorflow/compiler/tf2tensorrt/utils/py_utils.cc:38] TF-TRT Warning: Cannot dlopen some TensorRT libraries. If you would like to use Nvidia GPU with TensorRT, please make sure the missing libraries mentioned above are installed properly.\n",
      "2023-03-23 11:07:20.210418: W tensorflow/compiler/xla/stream_executor/platform/default/dso_loader.cc:64] Could not load dynamic library 'libnvinfer.so.7'; dlerror: libnvinfer.so.7: cannot open shared object file: No such file or directory\n",
      "2023-03-23 11:07:20.210591: W tensorflow/compiler/xla/stream_executor/platform/default/dso_loader.cc:64] Could not load dynamic library 'libnvinfer_plugin.so.7'; dlerror: libnvinfer_plugin.so.7: cannot open shared object file: No such file or directory\n",
      "2023-03-23 11:07:20.210630: W tensorflow/compiler/tf2tensorrt/utils/py_utils.cc:38] TF-TRT Warning: Cannot dlopen some TensorRT libraries. If you would like to use Nvidia GPU with TensorRT, please make sure the missing libraries mentioned above are installed properly.\n",
      "2023-03-23 11:07:20.253923: W tensorflow/compiler/xla/stream_executor/platform/default/dso_loader.cc:64] Could not load dynamic library 'libnvinfer.so.7'; dlerror: libnvinfer.so.7: cannot open shared object file: No such file or directory\n",
      "2023-03-23 11:07:20.254215: W tensorflow/compiler/xla/stream_executor/platform/default/dso_loader.cc:64] Could not load dynamic library 'libnvinfer_plugin.so.7'; dlerror: libnvinfer_plugin.so.7: cannot open shared object file: No such file or directory\n",
      "2023-03-23 11:07:20.254228: W tensorflow/compiler/tf2tensorrt/utils/py_utils.cc:38] TF-TRT Warning: Cannot dlopen some TensorRT libraries. If you would like to use Nvidia GPU with TensorRT, please make sure the missing libraries mentioned above are installed properly.\n",
      "2023-03-23 11:07:20.268217: W tensorflow/compiler/xla/stream_executor/platform/default/dso_loader.cc:64] Could not load dynamic library 'libnvinfer.so.7'; dlerror: libnvinfer.so.7: cannot open shared object file: No such file or directory\n",
      "2023-03-23 11:07:20.268388: W tensorflow/compiler/xla/stream_executor/platform/default/dso_loader.cc:64] Could not load dynamic library 'libnvinfer_plugin.so.7'; dlerror: libnvinfer_plugin.so.7: cannot open shared object file: No such file or directory\n",
      "2023-03-23 11:07:20.268443: W tensorflow/compiler/tf2tensorrt/utils/py_utils.cc:38] TF-TRT Warning: Cannot dlopen some TensorRT libraries. If you would like to use Nvidia GPU with TensorRT, please make sure the missing libraries mentioned above are installed properly.\n",
      "2023-03-23 11:07:20.309013: W tensorflow/compiler/xla/stream_executor/platform/default/dso_loader.cc:64] Could not load dynamic library 'libnvinfer.so.7'; dlerror: libnvinfer.so.7: cannot open shared object file: No such file or directory\n",
      "2023-03-23 11:07:20.309200: W tensorflow/compiler/xla/stream_executor/platform/default/dso_loader.cc:64] Could not load dynamic library 'libnvinfer_plugin.so.7'; dlerror: libnvinfer_plugin.so.7: cannot open shared object file: No such file or directory\n",
      "2023-03-23 11:07:20.309245: W tensorflow/compiler/tf2tensorrt/utils/py_utils.cc:38] TF-TRT Warning: Cannot dlopen some TensorRT libraries. If you would like to use Nvidia GPU with TensorRT, please make sure the missing libraries mentioned above are installed properly.\n",
      "2023-03-23 11:07:20.356230: W tensorflow/compiler/xla/stream_executor/platform/default/dso_loader.cc:64] Could not load dynamic library 'libnvinfer.so.7'; dlerror: libnvinfer.so.7: cannot open shared object file: No such file or directory\n",
      "2023-03-23 11:07:20.356392: W tensorflow/compiler/xla/stream_executor/platform/default/dso_loader.cc:64] Could not load dynamic library 'libnvinfer_plugin.so.7'; dlerror: libnvinfer_plugin.so.7: cannot open shared object file: No such file or directory\n",
      "2023-03-23 11:07:20.356436: W tensorflow/compiler/tf2tensorrt/utils/py_utils.cc:38] TF-TRT Warning: Cannot dlopen some TensorRT libraries. If you would like to use Nvidia GPU with TensorRT, please make sure the missing libraries mentioned above are installed properly.\n",
      "2023-03-23 11:07:20.364948: W tensorflow/compiler/xla/stream_executor/platform/default/dso_loader.cc:64] Could not load dynamic library 'libnvinfer.so.7'; dlerror: libnvinfer.so.7: cannot open shared object file: No such file or directory\n",
      "2023-03-23 11:07:20.365097: W tensorflow/compiler/xla/stream_executor/platform/default/dso_loader.cc:64] Could not load dynamic library 'libnvinfer_plugin.so.7'; dlerror: libnvinfer_plugin.so.7: cannot open shared object file: No such file or directory\n",
      "2023-03-23 11:07:20.365137: W tensorflow/compiler/tf2tensorrt/utils/py_utils.cc:38] TF-TRT Warning: Cannot dlopen some TensorRT libraries. If you would like to use Nvidia GPU with TensorRT, please make sure the missing libraries mentioned above are installed properly.\n",
      "2023-03-23 11:07:20.375418: W tensorflow/compiler/xla/stream_executor/platform/default/dso_loader.cc:64] Could not load dynamic library 'libnvinfer.so.7'; dlerror: libnvinfer.so.7: cannot open shared object file: No such file or directory\n",
      "2023-03-23 11:07:20.375603: W tensorflow/compiler/xla/stream_executor/platform/default/dso_loader.cc:64] Could not load dynamic library 'libnvinfer_plugin.so.7'; dlerror: libnvinfer_plugin.so.7: cannot open shared object file: No such file or directory\n",
      "2023-03-23 11:07:20.375644: W tensorflow/compiler/tf2tensorrt/utils/py_utils.cc:38] TF-TRT Warning: Cannot dlopen some TensorRT libraries. If you would like to use Nvidia GPU with TensorRT, please make sure the missing libraries mentioned above are installed properly.\n",
      "2023-03-23 11:07:21.895269: W tensorflow/compiler/xla/stream_executor/platform/default/dso_loader.cc:64] Could not load dynamic library 'libcusolver.so.11'; dlerror: libcusolver.so.11: cannot open shared object file: No such file or directory\n",
      "2023-03-23 11:07:21.895537: W tensorflow/core/common_runtime/gpu/gpu_device.cc:1934] Cannot dlopen some GPU libraries. Please make sure the missing libraries mentioned above are installed properly if you would like to use GPU. Follow the guide at https://www.tensorflow.org/install/gpu for how to download and setup the required libraries for your platform.\n",
      "Skipping registering GPU devices...\n",
      "2023-03-23 11:07:21.954542: W tensorflow/compiler/xla/stream_executor/platform/default/dso_loader.cc:64] Could not load dynamic library 'libcusolver.so.11'; dlerror: libcusolver.so.11: cannot open shared object file: No such file or directory\n",
      "2023-03-23 11:07:21.954707: W tensorflow/core/common_runtime/gpu/gpu_device.cc:1934] Cannot dlopen some GPU libraries. Please make sure the missing libraries mentioned above are installed properly if you would like to use GPU. Follow the guide at https://www.tensorflow.org/install/gpu for how to download and setup the required libraries for your platform.\n",
      "Skipping registering GPU devices...\n",
      "2023-03-23 11:07:22.001855: W tensorflow/compiler/xla/stream_executor/platform/default/dso_loader.cc:64] Could not load dynamic library 'libcusolver.so.11'; dlerror: libcusolver.so.11: cannot open shared object file: No such file or directory\n",
      "2023-03-23 11:07:22.002106: W tensorflow/core/common_runtime/gpu/gpu_device.cc:1934] Cannot dlopen some GPU libraries. Please make sure the missing libraries mentioned above are installed properly if you would like to use GPU. Follow the guide at https://www.tensorflow.org/install/gpu for how to download and setup the required libraries for your platform.\n",
      "Skipping registering GPU devices...\n",
      "2023-03-23 11:07:22.065008: W tensorflow/compiler/xla/stream_executor/platform/default/dso_loader.cc:64] Could not load dynamic library 'libcusolver.so.11'; dlerror: libcusolver.so.11: cannot open shared object file: No such file or directory\n",
      "2023-03-23 11:07:22.065162: W tensorflow/core/common_runtime/gpu/gpu_device.cc:1934] Cannot dlopen some GPU libraries. Please make sure the missing libraries mentioned above are installed properly if you would like to use GPU. Follow the guide at https://www.tensorflow.org/install/gpu for how to download and setup the required libraries for your platform.\n",
      "Skipping registering GPU devices...\n",
      "2023-03-23 11:07:22.147272: W tensorflow/compiler/xla/stream_executor/platform/default/dso_loader.cc:64] Could not load dynamic library 'libcusolver.so.11'; dlerror: libcusolver.so.11: cannot open shared object file: No such file or directory\n",
      "2023-03-23 11:07:22.147383: W tensorflow/core/common_runtime/gpu/gpu_device.cc:1934] Cannot dlopen some GPU libraries. Please make sure the missing libraries mentioned above are installed properly if you would like to use GPU. Follow the guide at https://www.tensorflow.org/install/gpu for how to download and setup the required libraries for your platform.\n",
      "Skipping registering GPU devices...\n",
      "2023-03-23 11:07:22.172878: W tensorflow/compiler/xla/stream_executor/platform/default/dso_loader.cc:64] Could not load dynamic library 'libcusolver.so.11'; dlerror: libcusolver.so.11: cannot open shared object file: No such file or directory\n",
      "2023-03-23 11:07:22.173046: W tensorflow/core/common_runtime/gpu/gpu_device.cc:1934] Cannot dlopen some GPU libraries. Please make sure the missing libraries mentioned above are installed properly if you would like to use GPU. Follow the guide at https://www.tensorflow.org/install/gpu for how to download and setup the required libraries for your platform.\n",
      "Skipping registering GPU devices...\n",
      "2023-03-23 11:07:22.194027: W tensorflow/compiler/xla/stream_executor/platform/default/dso_loader.cc:64] Could not load dynamic library 'libcusolver.so.11'; dlerror: libcusolver.so.11: cannot open shared object file: No such file or directory\n",
      "2023-03-23 11:07:22.194191: W tensorflow/core/common_runtime/gpu/gpu_device.cc:1934] Cannot dlopen some GPU libraries. Please make sure the missing libraries mentioned above are installed properly if you would like to use GPU. Follow the guide at https://www.tensorflow.org/install/gpu for how to download and setup the required libraries for your platform.\n",
      "Skipping registering GPU devices...\n",
      "2023-03-23 11:07:22.227086: W tensorflow/compiler/xla/stream_executor/platform/default/dso_loader.cc:64] Could not load dynamic library 'libcusolver.so.11'; dlerror: libcusolver.so.11: cannot open shared object file: No such file or directory\n",
      "2023-03-23 11:07:22.227286: W tensorflow/core/common_runtime/gpu/gpu_device.cc:1934] Cannot dlopen some GPU libraries. Please make sure the missing libraries mentioned above are installed properly if you would like to use GPU. Follow the guide at https://www.tensorflow.org/install/gpu for how to download and setup the required libraries for your platform.\n",
      "Skipping registering GPU devices...\n",
      "2023-03-23 11:07:22.247680: W tensorflow/compiler/xla/stream_executor/platform/default/dso_loader.cc:64] Could not load dynamic library 'libcusolver.so.11'; dlerror: libcusolver.so.11: cannot open shared object file: No such file or directory\n",
      "2023-03-23 11:07:22.247869: W tensorflow/core/common_runtime/gpu/gpu_device.cc:1934] Cannot dlopen some GPU libraries. Please make sure the missing libraries mentioned above are installed properly if you would like to use GPU. Follow the guide at https://www.tensorflow.org/install/gpu for how to download and setup the required libraries for your platform.\n",
      "Skipping registering GPU devices...\n",
      "2023-03-23 11:07:22.252367: W tensorflow/compiler/xla/stream_executor/platform/default/dso_loader.cc:64] Could not load dynamic library 'libcusolver.so.11'; dlerror: libcusolver.so.11: cannot open shared object file: No such file or directory\n",
      "2023-03-23 11:07:22.252522: W tensorflow/core/common_runtime/gpu/gpu_device.cc:1934] Cannot dlopen some GPU libraries. Please make sure the missing libraries mentioned above are installed properly if you would like to use GPU. Follow the guide at https://www.tensorflow.org/install/gpu for how to download and setup the required libraries for your platform.\n",
      "Skipping registering GPU devices...\n",
      "2023-03-23 11:07:22.267102: W tensorflow/compiler/xla/stream_executor/platform/default/dso_loader.cc:64] Could not load dynamic library 'libcusolver.so.11'; dlerror: libcusolver.so.11: cannot open shared object file: No such file or directory\n",
      "2023-03-23 11:07:22.267204: W tensorflow/core/common_runtime/gpu/gpu_device.cc:1934] Cannot dlopen some GPU libraries. Please make sure the missing libraries mentioned above are installed properly if you would like to use GPU. Follow the guide at https://www.tensorflow.org/install/gpu for how to download and setup the required libraries for your platform.\n",
      "Skipping registering GPU devices...\n",
      "2023-03-23 11:07:22.279373: W tensorflow/compiler/xla/stream_executor/platform/default/dso_loader.cc:64] Could not load dynamic library 'libcusolver.so.11'; dlerror: libcusolver.so.11: cannot open shared object file: No such file or directory\n",
      "2023-03-23 11:07:22.281397: W tensorflow/core/common_runtime/gpu/gpu_device.cc:1934] Cannot dlopen some GPU libraries. Please make sure the missing libraries mentioned above are installed properly if you would like to use GPU. Follow the guide at https://www.tensorflow.org/install/gpu for how to download and setup the required libraries for your platform.\n",
      "Skipping registering GPU devices...\n",
      "2023-03-23 11:07:22.285677: W tensorflow/compiler/xla/stream_executor/platform/default/dso_loader.cc:64] Could not load dynamic library 'libcusolver.so.11'; dlerror: libcusolver.so.11: cannot open shared object file: No such file or directory\n",
      "2023-03-23 11:07:22.285857: W tensorflow/core/common_runtime/gpu/gpu_device.cc:1934] Cannot dlopen some GPU libraries. Please make sure the missing libraries mentioned above are installed properly if you would like to use GPU. Follow the guide at https://www.tensorflow.org/install/gpu for how to download and setup the required libraries for your platform.\n",
      "Skipping registering GPU devices...\n",
      "2023-03-23 11:07:22.293130: W tensorflow/compiler/xla/stream_executor/platform/default/dso_loader.cc:64] Could not load dynamic library 'libcusolver.so.11'; dlerror: libcusolver.so.11: cannot open shared object file: No such file or directory\n",
      "2023-03-23 11:07:22.293312: W tensorflow/core/common_runtime/gpu/gpu_device.cc:1934] Cannot dlopen some GPU libraries. Please make sure the missing libraries mentioned above are installed properly if you would like to use GPU. Follow the guide at https://www.tensorflow.org/install/gpu for how to download and setup the required libraries for your platform.\n",
      "Skipping registering GPU devices...\n",
      "2023-03-23 11:07:22.330407: W tensorflow/compiler/xla/stream_executor/platform/default/dso_loader.cc:64] Could not load dynamic library 'libcusolver.so.11'; dlerror: libcusolver.so.11: cannot open shared object file: No such file or directory\n",
      "2023-03-23 11:07:22.330593: W tensorflow/core/common_runtime/gpu/gpu_device.cc:1934] Cannot dlopen some GPU libraries. Please make sure the missing libraries mentioned above are installed properly if you would like to use GPU. Follow the guide at https://www.tensorflow.org/install/gpu for how to download and setup the required libraries for your platform.\n",
      "Skipping registering GPU devices...\n",
      "2023-03-23 11:07:22.349891: W tensorflow/compiler/xla/stream_executor/platform/default/dso_loader.cc:64] Could not load dynamic library 'libcusolver.so.11'; dlerror: libcusolver.so.11: cannot open shared object file: No such file or directory\n",
      "2023-03-23 11:07:22.350024: W tensorflow/core/common_runtime/gpu/gpu_device.cc:1934] Cannot dlopen some GPU libraries. Please make sure the missing libraries mentioned above are installed properly if you would like to use GPU. Follow the guide at https://www.tensorflow.org/install/gpu for how to download and setup the required libraries for your platform.\n",
      "Skipping registering GPU devices...\n",
      "[Parallel(n_jobs=-1)]: Done   9 tasks      | elapsed:    5.3s\n",
      "[Parallel(n_jobs=-1)]: Done  72 out of  72 | elapsed:    5.7s finished\n"
     ]
    },
    {
     "data": {
      "text/plain": [
       "0"
      ]
     },
     "execution_count": 25,
     "metadata": {},
     "output_type": "execute_result"
    }
   ],
   "source": [
    "res = Parallel(n_jobs=-1, verbose=2)(delayed(lt.process)(r['_id'], r['caption'], r.get('ignore')) for r in duplicate)\n",
    "len([g for g in res if len(g['matches']) > 0])"
   ]
  },
  {
   "cell_type": "code",
   "execution_count": 26,
   "id": "e3385044-87d2-41a8-8559-3432ec2c0700",
   "metadata": {},
   "outputs": [
    {
     "data": {
      "text/plain": [
       "{'writeErrors': [],\n",
       " 'writeConcernErrors': [],\n",
       " 'nInserted': 0,\n",
       " 'nUpserted': 0,\n",
       " 'nMatched': 72,\n",
       " 'nModified': 72,\n",
       " 'nRemoved': 0,\n",
       " 'upserted': []}"
      ]
     },
     "execution_count": 26,
     "metadata": {},
     "output_type": "execute_result"
    }
   ],
   "source": [
    "updates = [UpdateOne({'_id': r['_id']}, {'$set': {'caption': r['caption']}}) for r in duplicate]\n",
    "wres = db.captions.bulk_write(updates)\n",
    "wres.bulk_api_result"
   ]
  },
  {
   "cell_type": "code",
   "execution_count": 27,
   "id": "90ce88c1-d2f2-46ae-8dfd-6a47e0d7a02c",
   "metadata": {},
   "outputs": [
    {
     "data": {
      "text/plain": [
       "[('Non-standard use of the comparative or superlative. Did you mean “least low”?',\n",
       "  58),\n",
       " ('This phrase is duplicated. You should probably use “in Amount” only once.',\n",
       "  42),\n",
       " ('Possible agreement error. The noun ‘computer’ seems to be countable.', 41),\n",
       " ('A more concise phrase may lose no meaning and sound more powerful.', 37),\n",
       " ('This phrase is duplicated. You should probably use “in Investment” only once.',\n",
       "  30),\n",
       " ('The verb form ‘differ’ does not seem to match the subject ‘rating’.', 29),\n",
       " ('If a new sentence starts here, add a space and start with an uppercase letter.',\n",
       "  28),\n",
       " ('Make sure that the adjective ‘total’ is correct. Possibly, it should be an adverb (typically ~ly) that modifies ‘adjusted’. Possibly, it should be the first word in a compound adjective (hyphenated adjective). Possibly, it is correct.',\n",
       "  26),\n",
       " ('Make sure that the adjective ‘total’ is correct. Possibly, it should be an adverb (typically ~ly) that modifies ‘elevated’. Possibly, it should be the first word in a compound adjective (hyphenated adjective). Possibly, it is correct.',\n",
       "  24),\n",
       " ('Did you mean “whom”?', 22),\n",
       " ('Please check whether a word is missing between ‘The’ and ‘is’ or whether ‘The’ is the correct determiner.',\n",
       "  11),\n",
       " ('Please verify that the plural noun “days” is in agreement with the quantifier “1”. Did you mean to use the singular form?',\n",
       "  6),\n",
       " ('The verb form ‘is’ does not seem to match the subject ‘flows’.', 6),\n",
       " ('Possible typo: you repeated a whitespace', 6),\n",
       " ('A word may be missing after ‘The’.', 6),\n",
       " ('The verb form ‘is’ does not seem to match the subject ‘withdrawals’.', 5),\n",
       " ('Use “good at” to mean “skilled” with school subjects. Try this: “Goods at French”.',\n",
       "  5),\n",
       " ('The verb form ‘is’ does not seem to match the subject ‘exports’.', 3),\n",
       " ('Possible agreement error.', 3),\n",
       " ('The usual preposition for an exact address is “at”, not “on”. Did you mean “located at 1971 In St”?',\n",
       "  2),\n",
       " ('Please verify that the plural noun “hours” is in agreement with the quantifier “1”. Did you mean to use the singular form?',\n",
       "  2),\n",
       " ('The usual preposition for an exact address is “at”, not “on”. Did you mean “located at 1970 In St”?',\n",
       "  2),\n",
       " ('The verb form ‘increases’ does not seem to match the subject ‘withdrawals’.',\n",
       "  1),\n",
       " ('The verb form ‘is’ does not seem to match the subject ‘creditors’.', 1),\n",
       " ('The verb form ‘is’ does not seem to match the subject ‘imports’.', 1),\n",
       " ('Please verify that the plural noun “hectares” is in agreement with the quantifier “1”. Did you mean to use the singular form?',\n",
       "  1)]"
      ]
     },
     "execution_count": 27,
     "metadata": {},
     "output_type": "execute_result"
    }
   ],
   "source": [
    "ctr.most_common()"
   ]
  },
  {
   "cell_type": "code",
   "execution_count": 28,
   "id": "d2a160d0-ba0a-444b-8d7c-bbaaec9a6a44",
   "metadata": {},
   "outputs": [
    {
     "data": {
      "text/plain": [
       "44"
      ]
     },
     "execution_count": 28,
     "metadata": {},
     "output_type": "execute_result"
    }
   ],
   "source": [
    "agree = lt.filter_lt_messages(G, message='Possible agreement error')\n",
    "len(agree)"
   ]
  },
  {
   "cell_type": "code",
   "execution_count": 32,
   "id": "8c291157-5770-4a1b-b7e7-2989910177a9",
   "metadata": {},
   "outputs": [],
   "source": [
    "for c in agree:\n",
    "    c['caption'] = c['caption'].replace('The top two computer and other services differs by', 'The top two computer and other services differ by')"
   ]
  },
  {
   "cell_type": "code",
   "execution_count": 33,
   "id": "4489d620-bf00-4568-9886-1de6aec11504",
   "metadata": {},
   "outputs": [
    {
     "name": "stderr",
     "output_type": "stream",
     "text": [
      "[Parallel(n_jobs=-1)]: Using backend LokyBackend with 16 concurrent workers.\n",
      "[Parallel(n_jobs=-1)]: Done   9 tasks      | elapsed:    0.0s\n",
      "[Parallel(n_jobs=-1)]: Done  36 out of  44 | elapsed:    0.0s remaining:    0.0s\n",
      "[Parallel(n_jobs=-1)]: Done  44 out of  44 | elapsed:    0.1s finished\n"
     ]
    },
    {
     "data": {
      "text/plain": [
       "44"
      ]
     },
     "execution_count": 33,
     "metadata": {},
     "output_type": "execute_result"
    }
   ],
   "source": [
    "res = Parallel(n_jobs=-1, verbose=2)(delayed(lt.process)(r['_id'], r['caption'], r.get('ignore')) for r in agree)\n",
    "len([g for g in res if len(g['matches']) > 0])"
   ]
  },
  {
   "cell_type": "code",
   "execution_count": 35,
   "id": "d8c1c282-8042-49fd-81e4-0f799fb9955c",
   "metadata": {},
   "outputs": [],
   "source": [
    "for c in agree:\n",
    "    if c['caption'].startswith('The top two computer and other services differ by'):\n",
    "        ig = c.get('ignore', [])\n",
    "        if 'CD_NN' not in ig:\n",
    "            ig.append('CD_NN')\n",
    "        c['ignore'] = ig"
   ]
  },
  {
   "cell_type": "code",
   "execution_count": 36,
   "id": "959d2605-8e04-4ff5-a04d-be4380112e54",
   "metadata": {},
   "outputs": [
    {
     "data": {
      "text/plain": [
       "{'writeErrors': [],\n",
       " 'writeConcernErrors': [],\n",
       " 'nInserted': 0,\n",
       " 'nUpserted': 0,\n",
       " 'nMatched': 44,\n",
       " 'nModified': 41,\n",
       " 'nRemoved': 0,\n",
       " 'upserted': []}"
      ]
     },
     "execution_count": 36,
     "metadata": {},
     "output_type": "execute_result"
    }
   ],
   "source": [
    "updates = [UpdateOne({'_id': r['_id']}, {'$set': {'caption': r['caption']}}) for r in agree]\n",
    "wres = db.captions.bulk_write(updates)\n",
    "wres.bulk_api_result"
   ]
  },
  {
   "cell_type": "code",
   "execution_count": 37,
   "id": "667a73ad-a259-49c3-883c-f4bcebba6834",
   "metadata": {},
   "outputs": [
    {
     "data": {
      "text/plain": [
       "{'writeErrors': [],\n",
       " 'writeConcernErrors': [],\n",
       " 'nInserted': 0,\n",
       " 'nUpserted': 0,\n",
       " 'nMatched': 44,\n",
       " 'nModified': 44,\n",
       " 'nRemoved': 0,\n",
       " 'upserted': []}"
      ]
     },
     "execution_count": 37,
     "metadata": {},
     "output_type": "execute_result"
    }
   ],
   "source": [
    "updates = [UpdateOne({'_id': r['_id']}, {'$set': {'ignore': r.get('ignore', [])}}) for r in agree]\n",
    "wres = db.captions.bulk_write(updates)\n",
    "wres.bulk_api_result"
   ]
  },
  {
   "cell_type": "code",
   "execution_count": 15,
   "id": "e34fa98d-6c1d-4df4-9d97-d5b5e3bb324e",
   "metadata": {},
   "outputs": [
    {
     "data": {
      "text/plain": [
       "'The top two rural population density differ by 90002.'"
      ]
     },
     "execution_count": 15,
     "metadata": {},
     "output_type": "execute_result"
    }
   ],
   "source": [
    "top2 = [c for c in agree if c['caption'].startswith('The top two')]\n",
    "top2[0]['caption']"
   ]
  },
  {
   "cell_type": "code",
   "execution_count": 16,
   "id": "af4fd5a3-bd67-4576-be56-4a2ed5359dd7",
   "metadata": {},
   "outputs": [
    {
     "data": {
      "text/plain": [
       "The top two rural population density differ by 90002."
      ]
     },
     "execution_count": 16,
     "metadata": {},
     "output_type": "execute_result"
    }
   ],
   "source": [
    "doc = nlp(_)\n",
    "doc"
   ]
  },
  {
   "cell_type": "code",
   "execution_count": 17,
   "id": "3203abea-11c5-4fce-a61e-2529160051b4",
   "metadata": {},
   "outputs": [
    {
     "ename": "ValueError",
     "evalue": "Tag for verb . not valid.",
     "output_type": "error",
     "traceback": [
      "\u001b[0;31m---------------------------------------------------------------------------\u001b[0m",
      "\u001b[0;31mValueError\u001b[0m                                Traceback (most recent call last)",
      "Cell \u001b[0;32mIn[17], line 1\u001b[0m\n\u001b[0;32m----> 1\u001b[0m \u001b[43mlt\u001b[49m\u001b[38;5;241;43m.\u001b[39;49m\u001b[43mfix_verb_subject_agreement\u001b[49m\u001b[43m(\u001b[49m\u001b[43mdoc\u001b[49m\u001b[43m)\u001b[49m\n",
      "File \u001b[0;32m~/src/gog-embed/grammar.py:146\u001b[0m, in \u001b[0;36mfix_verb_subject_agreement\u001b[0;34m(doc)\u001b[0m\n\u001b[1;32m    144\u001b[0m \u001b[38;5;28;01mdef\u001b[39;00m \u001b[38;5;21mfix_verb_subject_agreement\u001b[39m(doc):\n\u001b[1;32m    145\u001b[0m     verb, subject \u001b[38;5;241m=\u001b[39m find_root_nsubj(doc)\n\u001b[0;32m--> 146\u001b[0m     agrees, verb \u001b[38;5;241m=\u001b[39m \u001b[43mhas_agreement\u001b[49m\u001b[43m(\u001b[49m\u001b[43mverb\u001b[49m\u001b[43m,\u001b[49m\u001b[43m \u001b[49m\u001b[43msubject\u001b[49m\u001b[43m)\u001b[49m\n\u001b[1;32m    147\u001b[0m     verbix \u001b[38;5;241m=\u001b[39m verb\u001b[38;5;241m.\u001b[39mi\n\u001b[1;32m    148\u001b[0m     \u001b[38;5;28;01mif\u001b[39;00m agrees:\n",
      "File \u001b[0;32m~/src/gog-embed/grammar.py:140\u001b[0m, in \u001b[0;36mhas_agreement\u001b[0;34m(verb, subject)\u001b[0m\n\u001b[1;32m    138\u001b[0m         \u001b[38;5;28;01mif\u001b[39;00m child\u001b[38;5;241m.\u001b[39mdep_ \u001b[38;5;241m==\u001b[39m \u001b[38;5;124m\"\u001b[39m\u001b[38;5;124maux\u001b[39m\u001b[38;5;124m\"\u001b[39m:\n\u001b[1;32m    139\u001b[0m             \u001b[38;5;28;01mbreak\u001b[39;00m\n\u001b[0;32m--> 140\u001b[0m     \u001b[38;5;28;01mreturn\u001b[39;00m \u001b[43mhas_agreement\u001b[49m\u001b[43m(\u001b[49m\u001b[43mchild\u001b[49m\u001b[43m,\u001b[49m\u001b[43m \u001b[49m\u001b[43msubject\u001b[49m\u001b[43m)\u001b[49m\n\u001b[1;32m    141\u001b[0m \u001b[38;5;28;01mraise\u001b[39;00m \u001b[38;5;167;01mValueError\u001b[39;00m(\u001b[38;5;124mf\u001b[39m\u001b[38;5;124m\"\u001b[39m\u001b[38;5;124mTag for verb \u001b[39m\u001b[38;5;132;01m{\u001b[39;00mverb\u001b[38;5;132;01m}\u001b[39;00m\u001b[38;5;124m not valid.\u001b[39m\u001b[38;5;124m\"\u001b[39m)\n",
      "File \u001b[0;32m~/src/gog-embed/grammar.py:141\u001b[0m, in \u001b[0;36mhas_agreement\u001b[0;34m(verb, subject)\u001b[0m\n\u001b[1;32m    139\u001b[0m             \u001b[38;5;28;01mbreak\u001b[39;00m\n\u001b[1;32m    140\u001b[0m     \u001b[38;5;28;01mreturn\u001b[39;00m has_agreement(child, subject)\n\u001b[0;32m--> 141\u001b[0m \u001b[38;5;28;01mraise\u001b[39;00m \u001b[38;5;167;01mValueError\u001b[39;00m(\u001b[38;5;124mf\u001b[39m\u001b[38;5;124m\"\u001b[39m\u001b[38;5;124mTag for verb \u001b[39m\u001b[38;5;132;01m{\u001b[39;00mverb\u001b[38;5;132;01m}\u001b[39;00m\u001b[38;5;124m not valid.\u001b[39m\u001b[38;5;124m\"\u001b[39m)\n",
      "\u001b[0;31mValueError\u001b[0m: Tag for verb . not valid."
     ]
    }
   ],
   "source": []
  },
  {
   "cell_type": "code",
   "execution_count": null,
   "id": "8d7eaec2-8de9-4b2e-b521-3de1fcf09285",
   "metadata": {},
   "outputs": [],
   "source": []
  },
  {
   "cell_type": "code",
   "execution_count": 5,
   "id": "c4048f32-5dc0-42ec-95df-15ad9271c94c",
   "metadata": {},
   "outputs": [],
   "source": [
    "with open('/tmp/repbulic.txt', 'w') as fout:\n",
    "    fout.write('\\n'.join([c['caption'] for c in republic]))"
   ]
  },
  {
   "cell_type": "code",
   "execution_count": 6,
   "id": "9d55b8d4-e1b9-4820-a1cd-dc73ff2c148b",
   "metadata": {},
   "outputs": [],
   "source": [
    "doc = nlp('The highest and the second-highest net disbursements made by the Slovak Republic differ by 1530000.')\n",
    "root, nsubj = lt.find_root_nsubj(doc)"
   ]
  },
  {
   "cell_type": "code",
   "execution_count": 18,
   "id": "f2af4974-b7f0-4fba-a6a2-e53dbccd824a",
   "metadata": {},
   "outputs": [
    {
     "data": {
      "text/html": [
       "<div>\n",
       "<style scoped>\n",
       "    .dataframe tbody tr th:only-of-type {\n",
       "        vertical-align: middle;\n",
       "    }\n",
       "\n",
       "    .dataframe tbody tr th {\n",
       "        vertical-align: top;\n",
       "    }\n",
       "\n",
       "    .dataframe thead th {\n",
       "        text-align: right;\n",
       "    }\n",
       "</style>\n",
       "<table border=\"1\" class=\"dataframe\">\n",
       "  <thead>\n",
       "    <tr style=\"text-align: right;\">\n",
       "      <th></th>\n",
       "      <th>qid</th>\n",
       "      <th>root</th>\n",
       "      <th>nsubj</th>\n",
       "    </tr>\n",
       "  </thead>\n",
       "  <tbody>\n",
       "    <tr>\n",
       "      <th>0</th>\n",
       "      <td>2758</td>\n",
       "      <td>differ</td>\n",
       "      <td>density</td>\n",
       "    </tr>\n",
       "    <tr>\n",
       "      <th>1</th>\n",
       "      <td>11035</td>\n",
       "      <td>differ</td>\n",
       "      <td>rent</td>\n",
       "    </tr>\n",
       "    <tr>\n",
       "      <th>2</th>\n",
       "      <td>14437</td>\n",
       "      <td>differ</td>\n",
       "      <td>population</td>\n",
       "    </tr>\n",
       "    <tr>\n",
       "      <th>14</th>\n",
       "      <td>80991</td>\n",
       "      <td>differ</td>\n",
       "      <td>growth</td>\n",
       "    </tr>\n",
       "    <tr>\n",
       "      <th>23</th>\n",
       "      <td>341533</td>\n",
       "      <td>differ</td>\n",
       "      <td>rating</td>\n",
       "    </tr>\n",
       "    <tr>\n",
       "      <th>28</th>\n",
       "      <td>502938</td>\n",
       "      <td>differ</td>\n",
       "      <td>production</td>\n",
       "    </tr>\n",
       "    <tr>\n",
       "      <th>31</th>\n",
       "      <td>511266</td>\n",
       "      <td>differ</td>\n",
       "      <td>expectancy</td>\n",
       "    </tr>\n",
       "  </tbody>\n",
       "</table>\n",
       "</div>"
      ],
      "text/plain": [
       "       qid    root       nsubj\n",
       "0     2758  differ     density\n",
       "1    11035  differ        rent\n",
       "2    14437  differ  population\n",
       "14   80991  differ      growth\n",
       "23  341533  differ      rating\n",
       "28  502938  differ  production\n",
       "31  511266  differ  expectancy"
      ]
     },
     "execution_count": 18,
     "metadata": {},
     "output_type": "execute_result"
    }
   ],
   "source": [
    "qids = [s['_id'] for s in top2]\n",
    "sents = [s['caption'] for s in top2]\n",
    "\n",
    "pairs = []\n",
    "for doc, qid in zip(nlp.pipe(sents), qids):\n",
    "    root = False\n",
    "    for token in doc:\n",
    "        if token.dep_ == 'ROOT':\n",
    "            root = token\n",
    "            break\n",
    "    if root:\n",
    "        try:\n",
    "            child = [k for k in root.children if k.dep_ == 'nsubj'][0]\n",
    "            pairs.append((qid, root.text, child.text))\n",
    "        except IndexError:\n",
    "            continue\n",
    "\n",
    "pairs = pd.DataFrame(pairs, columns=['qid', 'root', 'nsubj'])\n",
    "pairs.drop_duplicates(subset=['root', 'nsubj'])"
   ]
  },
  {
   "cell_type": "code",
   "execution_count": 19,
   "id": "88401600-53e5-4c34-b3f6-0859a7195f32",
   "metadata": {},
   "outputs": [],
   "source": [
    "repls = [\n",
    "    ('density', 'densities'),\n",
    "    ('rent', 'rents'),\n",
    "    ('population', 'populations'),\n",
    "    ('growth', 'growths'),\n",
    "    ('production', 'productions'),\n",
    "    ('expectancy', 'expectancies')\n",
    "]\n",
    "for k in top2:\n",
    "    for repl in repls:\n",
    "        k['caption'] = k['caption'].replace(*repl)"
   ]
  },
  {
   "cell_type": "code",
   "execution_count": 19,
   "id": "acc80594-c26c-4e40-8564-900b36135481",
   "metadata": {
    "scrolled": true,
    "tags": []
   },
   "outputs": [
    {
     "name": "stderr",
     "output_type": "stream",
     "text": [
      "[Parallel(n_jobs=-1)]: Using backend LokyBackend with 16 concurrent workers.\n",
      "2023-03-23 11:02:05.101011: W tensorflow/compiler/xla/stream_executor/platform/default/dso_loader.cc:64] Could not load dynamic library 'libnvinfer.so.7'; dlerror: libnvinfer.so.7: cannot open shared object file: No such file or directory\n",
      "2023-03-23 11:02:05.101391: W tensorflow/compiler/xla/stream_executor/platform/default/dso_loader.cc:64] Could not load dynamic library 'libnvinfer_plugin.so.7'; dlerror: libnvinfer_plugin.so.7: cannot open shared object file: No such file or directory\n",
      "2023-03-23 11:02:05.101407: W tensorflow/compiler/tf2tensorrt/utils/py_utils.cc:38] TF-TRT Warning: Cannot dlopen some TensorRT libraries. If you would like to use Nvidia GPU with TensorRT, please make sure the missing libraries mentioned above are installed properly.\n",
      "2023-03-23 11:02:05.134428: W tensorflow/compiler/xla/stream_executor/platform/default/dso_loader.cc:64] Could not load dynamic library 'libnvinfer.so.7'; dlerror: libnvinfer.so.7: cannot open shared object file: No such file or directory\n",
      "2023-03-23 11:02:05.134616: W tensorflow/compiler/xla/stream_executor/platform/default/dso_loader.cc:64] Could not load dynamic library 'libnvinfer_plugin.so.7'; dlerror: libnvinfer_plugin.so.7: cannot open shared object file: No such file or directory\n",
      "2023-03-23 11:02:05.134659: W tensorflow/compiler/tf2tensorrt/utils/py_utils.cc:38] TF-TRT Warning: Cannot dlopen some TensorRT libraries. If you would like to use Nvidia GPU with TensorRT, please make sure the missing libraries mentioned above are installed properly.\n",
      "2023-03-23 11:02:05.159418: W tensorflow/compiler/xla/stream_executor/platform/default/dso_loader.cc:64] Could not load dynamic library 'libnvinfer.so.7'; dlerror: libnvinfer.so.7: cannot open shared object file: No such file or directory\n",
      "2023-03-23 11:02:05.159617: W tensorflow/compiler/xla/stream_executor/platform/default/dso_loader.cc:64] Could not load dynamic library 'libnvinfer_plugin.so.7'; dlerror: libnvinfer_plugin.so.7: cannot open shared object file: No such file or directory\n",
      "2023-03-23 11:02:05.159667: W tensorflow/compiler/tf2tensorrt/utils/py_utils.cc:38] TF-TRT Warning: Cannot dlopen some TensorRT libraries. If you would like to use Nvidia GPU with TensorRT, please make sure the missing libraries mentioned above are installed properly.\n",
      "2023-03-23 11:02:05.188127: W tensorflow/compiler/xla/stream_executor/platform/default/dso_loader.cc:64] Could not load dynamic library 'libnvinfer.so.7'; dlerror: libnvinfer.so.7: cannot open shared object file: No such file or directory\n",
      "2023-03-23 11:02:05.188329: W tensorflow/compiler/xla/stream_executor/platform/default/dso_loader.cc:64] Could not load dynamic library 'libnvinfer_plugin.so.7'; dlerror: libnvinfer_plugin.so.7: cannot open shared object file: No such file or directory\n",
      "2023-03-23 11:02:05.188376: W tensorflow/compiler/tf2tensorrt/utils/py_utils.cc:38] TF-TRT Warning: Cannot dlopen some TensorRT libraries. If you would like to use Nvidia GPU with TensorRT, please make sure the missing libraries mentioned above are installed properly.\n",
      "2023-03-23 11:02:05.198387: W tensorflow/compiler/xla/stream_executor/platform/default/dso_loader.cc:64] Could not load dynamic library 'libnvinfer.so.7'; dlerror: libnvinfer.so.7: cannot open shared object file: No such file or directory\n",
      "2023-03-23 11:02:05.198575: W tensorflow/compiler/xla/stream_executor/platform/default/dso_loader.cc:64] Could not load dynamic library 'libnvinfer_plugin.so.7'; dlerror: libnvinfer_plugin.so.7: cannot open shared object file: No such file or directory\n",
      "2023-03-23 11:02:05.198618: W tensorflow/compiler/tf2tensorrt/utils/py_utils.cc:38] TF-TRT Warning: Cannot dlopen some TensorRT libraries. If you would like to use Nvidia GPU with TensorRT, please make sure the missing libraries mentioned above are installed properly.\n",
      "2023-03-23 11:02:05.200827: W tensorflow/compiler/xla/stream_executor/platform/default/dso_loader.cc:64] Could not load dynamic library 'libnvinfer.so.7'; dlerror: libnvinfer.so.7: cannot open shared object file: No such file or directory\n",
      "2023-03-23 11:02:05.201034: W tensorflow/compiler/xla/stream_executor/platform/default/dso_loader.cc:64] Could not load dynamic library 'libnvinfer_plugin.so.7'; dlerror: libnvinfer_plugin.so.7: cannot open shared object file: No such file or directory\n",
      "2023-03-23 11:02:05.201080: W tensorflow/compiler/tf2tensorrt/utils/py_utils.cc:38] TF-TRT Warning: Cannot dlopen some TensorRT libraries. If you would like to use Nvidia GPU with TensorRT, please make sure the missing libraries mentioned above are installed properly.\n",
      "2023-03-23 11:02:05.206843: W tensorflow/compiler/xla/stream_executor/platform/default/dso_loader.cc:64] Could not load dynamic library 'libnvinfer.so.7'; dlerror: libnvinfer.so.7: cannot open shared object file: No such file or directory\n",
      "2023-03-23 11:02:05.207044: W tensorflow/compiler/xla/stream_executor/platform/default/dso_loader.cc:64] Could not load dynamic library 'libnvinfer_plugin.so.7'; dlerror: libnvinfer_plugin.so.7: cannot open shared object file: No such file or directory\n",
      "2023-03-23 11:02:05.207086: W tensorflow/compiler/tf2tensorrt/utils/py_utils.cc:38] TF-TRT Warning: Cannot dlopen some TensorRT libraries. If you would like to use Nvidia GPU with TensorRT, please make sure the missing libraries mentioned above are installed properly.\n",
      "2023-03-23 11:02:05.220899: W tensorflow/compiler/xla/stream_executor/platform/default/dso_loader.cc:64] Could not load dynamic library 'libnvinfer.so.7'; dlerror: libnvinfer.so.7: cannot open shared object file: No such file or directory\n",
      "2023-03-23 11:02:05.221113: W tensorflow/compiler/xla/stream_executor/platform/default/dso_loader.cc:64] Could not load dynamic library 'libnvinfer_plugin.so.7'; dlerror: libnvinfer_plugin.so.7: cannot open shared object file: No such file or directory\n",
      "2023-03-23 11:02:05.221166: W tensorflow/compiler/tf2tensorrt/utils/py_utils.cc:38] TF-TRT Warning: Cannot dlopen some TensorRT libraries. If you would like to use Nvidia GPU with TensorRT, please make sure the missing libraries mentioned above are installed properly.\n",
      "2023-03-23 11:02:05.242471: W tensorflow/compiler/xla/stream_executor/platform/default/dso_loader.cc:64] Could not load dynamic library 'libnvinfer.so.7'; dlerror: libnvinfer.so.7: cannot open shared object file: No such file or directory\n",
      "2023-03-23 11:02:05.242664: W tensorflow/compiler/xla/stream_executor/platform/default/dso_loader.cc:64] Could not load dynamic library 'libnvinfer_plugin.so.7'; dlerror: libnvinfer_plugin.so.7: cannot open shared object file: No such file or directory\n",
      "2023-03-23 11:02:05.242714: W tensorflow/compiler/tf2tensorrt/utils/py_utils.cc:38] TF-TRT Warning: Cannot dlopen some TensorRT libraries. If you would like to use Nvidia GPU with TensorRT, please make sure the missing libraries mentioned above are installed properly.\n",
      "2023-03-23 11:02:05.247501: W tensorflow/compiler/xla/stream_executor/platform/default/dso_loader.cc:64] Could not load dynamic library 'libnvinfer.so.7'; dlerror: libnvinfer.so.7: cannot open shared object file: No such file or directory\n",
      "2023-03-23 11:02:05.247645: W tensorflow/compiler/xla/stream_executor/platform/default/dso_loader.cc:64] Could not load dynamic library 'libnvinfer_plugin.so.7'; dlerror: libnvinfer_plugin.so.7: cannot open shared object file: No such file or directory\n",
      "2023-03-23 11:02:05.247681: W tensorflow/compiler/tf2tensorrt/utils/py_utils.cc:38] TF-TRT Warning: Cannot dlopen some TensorRT libraries. If you would like to use Nvidia GPU with TensorRT, please make sure the missing libraries mentioned above are installed properly.\n",
      "2023-03-23 11:02:05.249293: W tensorflow/compiler/xla/stream_executor/platform/default/dso_loader.cc:64] Could not load dynamic library 'libnvinfer.so.7'; dlerror: libnvinfer.so.7: cannot open shared object file: No such file or directory\n",
      "2023-03-23 11:02:05.249476: W tensorflow/compiler/xla/stream_executor/platform/default/dso_loader.cc:64] Could not load dynamic library 'libnvinfer_plugin.so.7'; dlerror: libnvinfer_plugin.so.7: cannot open shared object file: No such file or directory\n",
      "2023-03-23 11:02:05.249513: W tensorflow/compiler/tf2tensorrt/utils/py_utils.cc:38] TF-TRT Warning: Cannot dlopen some TensorRT libraries. If you would like to use Nvidia GPU with TensorRT, please make sure the missing libraries mentioned above are installed properly.\n",
      "2023-03-23 11:02:05.255058: W tensorflow/compiler/xla/stream_executor/platform/default/dso_loader.cc:64] Could not load dynamic library 'libnvinfer.so.7'; dlerror: libnvinfer.so.7: cannot open shared object file: No such file or directory\n",
      "2023-03-23 11:02:05.255091: W tensorflow/compiler/xla/stream_executor/platform/default/dso_loader.cc:64] Could not load dynamic library 'libnvinfer.so.7'; dlerror: libnvinfer.so.7: cannot open shared object file: No such file or directory\n",
      "2023-03-23 11:02:05.255164: W tensorflow/compiler/xla/stream_executor/platform/default/dso_loader.cc:64] Could not load dynamic library 'libnvinfer_plugin.so.7'; dlerror: libnvinfer_plugin.so.7: cannot open shared object file: No such file or directory\n",
      "2023-03-23 11:02:05.255205: W tensorflow/compiler/tf2tensorrt/utils/py_utils.cc:38] TF-TRT Warning: Cannot dlopen some TensorRT libraries. If you would like to use Nvidia GPU with TensorRT, please make sure the missing libraries mentioned above are installed properly.\n",
      "2023-03-23 11:02:05.255240: W tensorflow/compiler/xla/stream_executor/platform/default/dso_loader.cc:64] Could not load dynamic library 'libnvinfer_plugin.so.7'; dlerror: libnvinfer_plugin.so.7: cannot open shared object file: No such file or directory\n",
      "2023-03-23 11:02:05.255270: W tensorflow/compiler/tf2tensorrt/utils/py_utils.cc:38] TF-TRT Warning: Cannot dlopen some TensorRT libraries. If you would like to use Nvidia GPU with TensorRT, please make sure the missing libraries mentioned above are installed properly.\n",
      "2023-03-23 11:02:05.258056: W tensorflow/compiler/xla/stream_executor/platform/default/dso_loader.cc:64] Could not load dynamic library 'libnvinfer.so.7'; dlerror: libnvinfer.so.7: cannot open shared object file: No such file or directory\n",
      "2023-03-23 11:02:05.258237: W tensorflow/compiler/xla/stream_executor/platform/default/dso_loader.cc:64] Could not load dynamic library 'libnvinfer_plugin.so.7'; dlerror: libnvinfer_plugin.so.7: cannot open shared object file: No such file or directory\n",
      "2023-03-23 11:02:05.258291: W tensorflow/compiler/tf2tensorrt/utils/py_utils.cc:38] TF-TRT Warning: Cannot dlopen some TensorRT libraries. If you would like to use Nvidia GPU with TensorRT, please make sure the missing libraries mentioned above are installed properly.\n",
      "2023-03-23 11:02:05.333620: W tensorflow/compiler/xla/stream_executor/platform/default/dso_loader.cc:64] Could not load dynamic library 'libnvinfer.so.7'; dlerror: libnvinfer.so.7: cannot open shared object file: No such file or directory\n",
      "2023-03-23 11:02:05.333826: W tensorflow/compiler/xla/stream_executor/platform/default/dso_loader.cc:64] Could not load dynamic library 'libnvinfer_plugin.so.7'; dlerror: libnvinfer_plugin.so.7: cannot open shared object file: No such file or directory\n",
      "2023-03-23 11:02:05.333839: W tensorflow/compiler/tf2tensorrt/utils/py_utils.cc:38] TF-TRT Warning: Cannot dlopen some TensorRT libraries. If you would like to use Nvidia GPU with TensorRT, please make sure the missing libraries mentioned above are installed properly.\n",
      "2023-03-23 11:02:05.353397: W tensorflow/compiler/xla/stream_executor/platform/default/dso_loader.cc:64] Could not load dynamic library 'libnvinfer.so.7'; dlerror: libnvinfer.so.7: cannot open shared object file: No such file or directory\n",
      "2023-03-23 11:02:05.353550: W tensorflow/compiler/xla/stream_executor/platform/default/dso_loader.cc:64] Could not load dynamic library 'libnvinfer_plugin.so.7'; dlerror: libnvinfer_plugin.so.7: cannot open shared object file: No such file or directory\n",
      "2023-03-23 11:02:05.353596: W tensorflow/compiler/tf2tensorrt/utils/py_utils.cc:38] TF-TRT Warning: Cannot dlopen some TensorRT libraries. If you would like to use Nvidia GPU with TensorRT, please make sure the missing libraries mentioned above are installed properly.\n",
      "2023-03-23 11:02:06.869098: W tensorflow/compiler/xla/stream_executor/platform/default/dso_loader.cc:64] Could not load dynamic library 'libcusolver.so.11'; dlerror: libcusolver.so.11: cannot open shared object file: No such file or directory\n",
      "2023-03-23 11:02:06.869563: W tensorflow/core/common_runtime/gpu/gpu_device.cc:1934] Cannot dlopen some GPU libraries. Please make sure the missing libraries mentioned above are installed properly if you would like to use GPU. Follow the guide at https://www.tensorflow.org/install/gpu for how to download and setup the required libraries for your platform.\n",
      "Skipping registering GPU devices...\n",
      "2023-03-23 11:02:06.934663: W tensorflow/compiler/xla/stream_executor/platform/default/dso_loader.cc:64] Could not load dynamic library 'libcusolver.so.11'; dlerror: libcusolver.so.11: cannot open shared object file: No such file or directory\n",
      "2023-03-23 11:02:06.934808: W tensorflow/core/common_runtime/gpu/gpu_device.cc:1934] Cannot dlopen some GPU libraries. Please make sure the missing libraries mentioned above are installed properly if you would like to use GPU. Follow the guide at https://www.tensorflow.org/install/gpu for how to download and setup the required libraries for your platform.\n",
      "Skipping registering GPU devices...\n",
      "2023-03-23 11:02:07.138266: W tensorflow/compiler/xla/stream_executor/platform/default/dso_loader.cc:64] Could not load dynamic library 'libcusolver.so.11'; dlerror: libcusolver.so.11: cannot open shared object file: No such file or directory\n",
      "2023-03-23 11:02:07.138472: W tensorflow/core/common_runtime/gpu/gpu_device.cc:1934] Cannot dlopen some GPU libraries. Please make sure the missing libraries mentioned above are installed properly if you would like to use GPU. Follow the guide at https://www.tensorflow.org/install/gpu for how to download and setup the required libraries for your platform.\n",
      "Skipping registering GPU devices...\n",
      "2023-03-23 11:02:07.145583: W tensorflow/compiler/xla/stream_executor/platform/default/dso_loader.cc:64] Could not load dynamic library 'libcusolver.so.11'; dlerror: libcusolver.so.11: cannot open shared object file: No such file or directory\n",
      "2023-03-23 11:02:07.145729: W tensorflow/core/common_runtime/gpu/gpu_device.cc:1934] Cannot dlopen some GPU libraries. Please make sure the missing libraries mentioned above are installed properly if you would like to use GPU. Follow the guide at https://www.tensorflow.org/install/gpu for how to download and setup the required libraries for your platform.\n",
      "Skipping registering GPU devices...\n",
      "2023-03-23 11:02:07.152436: W tensorflow/compiler/xla/stream_executor/platform/default/dso_loader.cc:64] Could not load dynamic library 'libcusolver.so.11'; dlerror: libcusolver.so.11: cannot open shared object file: No such file or directory\n",
      "2023-03-23 11:02:07.152609: W tensorflow/core/common_runtime/gpu/gpu_device.cc:1934] Cannot dlopen some GPU libraries. Please make sure the missing libraries mentioned above are installed properly if you would like to use GPU. Follow the guide at https://www.tensorflow.org/install/gpu for how to download and setup the required libraries for your platform.\n",
      "Skipping registering GPU devices...\n",
      "2023-03-23 11:02:07.169470: W tensorflow/compiler/xla/stream_executor/platform/default/dso_loader.cc:64] Could not load dynamic library 'libcusolver.so.11'; dlerror: libcusolver.so.11: cannot open shared object file: No such file or directory\n",
      "2023-03-23 11:02:07.169643: W tensorflow/core/common_runtime/gpu/gpu_device.cc:1934] Cannot dlopen some GPU libraries. Please make sure the missing libraries mentioned above are installed properly if you would like to use GPU. Follow the guide at https://www.tensorflow.org/install/gpu for how to download and setup the required libraries for your platform.\n",
      "Skipping registering GPU devices...\n",
      "2023-03-23 11:02:07.189157: W tensorflow/compiler/xla/stream_executor/platform/default/dso_loader.cc:64] Could not load dynamic library 'libcusolver.so.11'; dlerror: libcusolver.so.11: cannot open shared object file: No such file or directory\n",
      "2023-03-23 11:02:07.189354: W tensorflow/core/common_runtime/gpu/gpu_device.cc:1934] Cannot dlopen some GPU libraries. Please make sure the missing libraries mentioned above are installed properly if you would like to use GPU. Follow the guide at https://www.tensorflow.org/install/gpu for how to download and setup the required libraries for your platform.\n",
      "Skipping registering GPU devices...\n",
      "2023-03-23 11:02:07.194639: W tensorflow/compiler/xla/stream_executor/platform/default/dso_loader.cc:64] Could not load dynamic library 'libcusolver.so.11'; dlerror: libcusolver.so.11: cannot open shared object file: No such file or directory\n",
      "2023-03-23 11:02:07.195201: W tensorflow/core/common_runtime/gpu/gpu_device.cc:1934] Cannot dlopen some GPU libraries. Please make sure the missing libraries mentioned above are installed properly if you would like to use GPU. Follow the guide at https://www.tensorflow.org/install/gpu for how to download and setup the required libraries for your platform.\n",
      "Skipping registering GPU devices...\n",
      "2023-03-23 11:02:07.206827: W tensorflow/compiler/xla/stream_executor/platform/default/dso_loader.cc:64] Could not load dynamic library 'libcusolver.so.11'; dlerror: libcusolver.so.11: cannot open shared object file: No such file or directory\n",
      "2023-03-23 11:02:07.207151: W tensorflow/core/common_runtime/gpu/gpu_device.cc:1934] Cannot dlopen some GPU libraries. Please make sure the missing libraries mentioned above are installed properly if you would like to use GPU. Follow the guide at https://www.tensorflow.org/install/gpu for how to download and setup the required libraries for your platform.\n",
      "Skipping registering GPU devices...\n",
      "2023-03-23 11:02:07.215827: W tensorflow/compiler/xla/stream_executor/platform/default/dso_loader.cc:64] Could not load dynamic library 'libcusolver.so.11'; dlerror: libcusolver.so.11: cannot open shared object file: No such file or directory\n",
      "2023-03-23 11:02:07.215923: W tensorflow/core/common_runtime/gpu/gpu_device.cc:1934] Cannot dlopen some GPU libraries. Please make sure the missing libraries mentioned above are installed properly if you would like to use GPU. Follow the guide at https://www.tensorflow.org/install/gpu for how to download and setup the required libraries for your platform.\n",
      "Skipping registering GPU devices...\n",
      "2023-03-23 11:02:07.219573: W tensorflow/compiler/xla/stream_executor/platform/default/dso_loader.cc:64] Could not load dynamic library 'libcusolver.so.11'; dlerror: libcusolver.so.11: cannot open shared object file: No such file or directory\n",
      "2023-03-23 11:02:07.219711: W tensorflow/core/common_runtime/gpu/gpu_device.cc:1934] Cannot dlopen some GPU libraries. Please make sure the missing libraries mentioned above are installed properly if you would like to use GPU. Follow the guide at https://www.tensorflow.org/install/gpu for how to download and setup the required libraries for your platform.\n",
      "Skipping registering GPU devices...\n",
      "2023-03-23 11:02:07.226660: W tensorflow/compiler/xla/stream_executor/platform/default/dso_loader.cc:64] Could not load dynamic library 'libcusolver.so.11'; dlerror: libcusolver.so.11: cannot open shared object file: No such file or directory\n",
      "2023-03-23 11:02:07.226821: W tensorflow/core/common_runtime/gpu/gpu_device.cc:1934] Cannot dlopen some GPU libraries. Please make sure the missing libraries mentioned above are installed properly if you would like to use GPU. Follow the guide at https://www.tensorflow.org/install/gpu for how to download and setup the required libraries for your platform.\n",
      "Skipping registering GPU devices...\n",
      "2023-03-23 11:02:07.234001: W tensorflow/compiler/xla/stream_executor/platform/default/dso_loader.cc:64] Could not load dynamic library 'libcusolver.so.11'; dlerror: libcusolver.so.11: cannot open shared object file: No such file or directory\n",
      "2023-03-23 11:02:07.234175: W tensorflow/core/common_runtime/gpu/gpu_device.cc:1934] Cannot dlopen some GPU libraries. Please make sure the missing libraries mentioned above are installed properly if you would like to use GPU. Follow the guide at https://www.tensorflow.org/install/gpu for how to download and setup the required libraries for your platform.\n",
      "Skipping registering GPU devices...\n",
      "2023-03-23 11:02:07.247827: W tensorflow/compiler/xla/stream_executor/platform/default/dso_loader.cc:64] Could not load dynamic library 'libcusolver.so.11'; dlerror: libcusolver.so.11: cannot open shared object file: No such file or directory\n",
      "2023-03-23 11:02:07.248007: W tensorflow/core/common_runtime/gpu/gpu_device.cc:1934] Cannot dlopen some GPU libraries. Please make sure the missing libraries mentioned above are installed properly if you would like to use GPU. Follow the guide at https://www.tensorflow.org/install/gpu for how to download and setup the required libraries for your platform.\n",
      "Skipping registering GPU devices...\n",
      "2023-03-23 11:02:07.254077: W tensorflow/compiler/xla/stream_executor/platform/default/dso_loader.cc:64] Could not load dynamic library 'libcusolver.so.11'; dlerror: libcusolver.so.11: cannot open shared object file: No such file or directory\n",
      "2023-03-23 11:02:07.254272: W tensorflow/core/common_runtime/gpu/gpu_device.cc:1934] Cannot dlopen some GPU libraries. Please make sure the missing libraries mentioned above are installed properly if you would like to use GPU. Follow the guide at https://www.tensorflow.org/install/gpu for how to download and setup the required libraries for your platform.\n",
      "Skipping registering GPU devices...\n",
      "2023-03-23 11:02:07.478823: W tensorflow/compiler/xla/stream_executor/platform/default/dso_loader.cc:64] Could not load dynamic library 'libcusolver.so.11'; dlerror: libcusolver.so.11: cannot open shared object file: No such file or directory\n",
      "2023-03-23 11:02:07.479143: W tensorflow/core/common_runtime/gpu/gpu_device.cc:1934] Cannot dlopen some GPU libraries. Please make sure the missing libraries mentioned above are installed properly if you would like to use GPU. Follow the guide at https://www.tensorflow.org/install/gpu for how to download and setup the required libraries for your platform.\n",
      "Skipping registering GPU devices...\n",
      "[Parallel(n_jobs=-1)]: Done   9 tasks      | elapsed:    5.2s\n",
      "[Parallel(n_jobs=-1)]: Done  58 out of  58 | elapsed:    5.6s finished\n"
     ]
    },
    {
     "data": {
      "text/plain": [
       "0"
      ]
     },
     "execution_count": 19,
     "metadata": {},
     "output_type": "execute_result"
    }
   ],
   "source": [
    "res = Parallel(n_jobs=-1, verbose=2)(delayed(lt.process)(r['_id'], r['caption'], r.get('ignore')) for r in least)\n",
    "len([g for g in res if len(g['matches']) > 0])"
   ]
  },
  {
   "cell_type": "code",
   "execution_count": 20,
   "id": "ed33aad7-2d1c-4ea6-a90a-4846c999d066",
   "metadata": {},
   "outputs": [
    {
     "data": {
      "text/plain": [
       "{'writeErrors': [],\n",
       " 'writeConcernErrors': [],\n",
       " 'nInserted': 0,\n",
       " 'nUpserted': 0,\n",
       " 'nMatched': 58,\n",
       " 'nModified': 58,\n",
       " 'nRemoved': 0,\n",
       " 'upserted': []}"
      ]
     },
     "execution_count": 20,
     "metadata": {},
     "output_type": "execute_result"
    }
   ],
   "source": [
    "updates = [UpdateOne({'_id': r['_id']}, {'$set': {'caption': r['caption']}}) for r in least]\n",
    "wres = db.captions.bulk_write(updates)\n",
    "wres.bulk_api_result"
   ]
  },
  {
   "cell_type": "code",
   "execution_count": 19,
   "id": "d00b3214-0653-49a9-b77d-501b0b2ea622",
   "metadata": {},
   "outputs": [
    {
     "data": {
      "text/plain": [
       "[('number', 'nsubj'), ('by', 'prep'), ('.', 'punct')]"
      ]
     },
     "execution_count": 19,
     "metadata": {},
     "output_type": "execute_result"
    }
   ],
   "source": [
    "[(c.text, c.dep_) for c in root.children]"
   ]
  },
  {
   "cell_type": "code",
   "execution_count": 21,
   "id": "182053d3-8f46-4828-842b-54e799bd5b9c",
   "metadata": {},
   "outputs": [
    {
     "data": {
      "text/plain": [
       "74"
      ]
     },
     "execution_count": 21,
     "metadata": {},
     "output_type": "execute_result"
    }
   ],
   "source": [
    "C = 0\n",
    "for c in republic:\n",
    "    if re.search(r'disbursements.*differ by', c['caption']):\n",
    "        C += 1\n",
    "        ig = c.get('ignore', [])\n",
    "        if 'HE_VERB_AGR' not in ig:\n",
    "            ig.append('HE_VERB_AGR')\n",
    "        c['ignore'] = ig\n",
    "C"
   ]
  },
  {
   "cell_type": "code",
   "execution_count": 22,
   "id": "6bd5d13a-3ff1-43d8-9a6d-03f56570b4fd",
   "metadata": {},
   "outputs": [
    {
     "data": {
      "text/plain": [
       "{'writeErrors': [],\n",
       " 'writeConcernErrors': [],\n",
       " 'nInserted': 0,\n",
       " 'nUpserted': 0,\n",
       " 'nMatched': 1302,\n",
       " 'nModified': 1302,\n",
       " 'nRemoved': 0,\n",
       " 'upserted': []}"
      ]
     },
     "execution_count": 22,
     "metadata": {},
     "output_type": "execute_result"
    }
   ],
   "source": [
    "updates = [UpdateOne({'_id': r['_id']}, {'$set': {'ignore': r.get('ignore',  [])}}) for r in republic]\n",
    "wres = db.captions.bulk_write(updates)\n",
    "wres.bulk_api_result"
   ]
  },
  {
   "cell_type": "code",
   "execution_count": 23,
   "id": "38d0b03c-204d-4c47-8b6d-a3bef5a24087",
   "metadata": {},
   "outputs": [
    {
     "data": {
      "text/plain": [
       "991"
      ]
     },
     "execution_count": 23,
     "metadata": {},
     "output_type": "execute_result"
    }
   ],
   "source": [
    "pat = r'The (?P<metric>.*) (of|in) \\d+ in (?P<loc>.*) and the (?P=metric) (of|in) \\d+ in (?P<loc2>.*) differ by.*$'\n",
    "\n",
    "C = 0\n",
    "for c in republic:\n",
    "    if re.match(pat, c['caption']):\n",
    "        C += 1\n",
    "        ig = c.get('ignore', [])\n",
    "        if 'HE_VERB_AGR' not in ig:\n",
    "            ig.append('HE_VERB_AGR')\n",
    "        c['ignore'] = ig\n",
    "C"
   ]
  },
  {
   "cell_type": "code",
   "execution_count": 24,
   "id": "4b528f70-912d-4d53-b62c-c7d5b0702d31",
   "metadata": {},
   "outputs": [
    {
     "data": {
      "text/plain": [
       "{'writeErrors': [],\n",
       " 'writeConcernErrors': [],\n",
       " 'nInserted': 0,\n",
       " 'nUpserted': 0,\n",
       " 'nMatched': 1302,\n",
       " 'nModified': 990,\n",
       " 'nRemoved': 0,\n",
       " 'upserted': []}"
      ]
     },
     "execution_count": 24,
     "metadata": {},
     "output_type": "execute_result"
    }
   ],
   "source": [
    "updates = [UpdateOne({'_id': r['_id']}, {'$set': {'ignore': r.get('ignore',  [])}}) for r in republic]\n",
    "wres = db.captions.bulk_write(updates)\n",
    "wres.bulk_api_result"
   ]
  },
  {
   "cell_type": "code",
   "execution_count": 32,
   "id": "3940f373-75d4-467b-8db2-fea465109565",
   "metadata": {},
   "outputs": [],
   "source": [
    "lines = [c['caption'] for c in republic if len(c.get('ignore', [])) == 0]"
   ]
  },
  {
   "cell_type": "code",
   "execution_count": 26,
   "id": "acb0259f-c16e-4278-8ca1-fc6d0eaacefb",
   "metadata": {},
   "outputs": [
    {
     "data": {
      "text/plain": [
       "238"
      ]
     },
     "execution_count": 26,
     "metadata": {},
     "output_type": "execute_result"
    }
   ],
   "source": [
    "len(lines)"
   ]
  },
  {
   "cell_type": "code",
   "execution_count": 33,
   "id": "9c5fbd7d-f885-4085-9dfd-8dca4b5a03bb",
   "metadata": {},
   "outputs": [],
   "source": [
    "with open('/tmp/repbulic.txt', 'w') as fout:\n",
    "    fout.write('\\n'.join(lines))"
   ]
  },
  {
   "cell_type": "code",
   "execution_count": 29,
   "id": "ac8a845b-1018-4164-9ea8-cc1b9988c8db",
   "metadata": {},
   "outputs": [
    {
     "data": {
      "text/plain": [
       "234"
      ]
     },
     "execution_count": 29,
     "metadata": {},
     "output_type": "execute_result"
    }
   ],
   "source": [
    "pat = r'^.*[T|t]he (?P<metric>.*) (of|in) (?P<grp1>.*) (of|in) (?P<loc1>.*) and the (?P=metric) (of|in) (?P<grp2>.*) (of|in) (?P<loc2>.*) differ by.*$'\n",
    "C = 0\n",
    "for c in republic:\n",
    "    if len(c.get('ignore', [])) == 0:\n",
    "        if re.match(pat, c['caption']):\n",
    "            C += 1\n",
    "C"
   ]
  },
  {
   "cell_type": "code",
   "execution_count": 30,
   "id": "6f92b3f6-b529-4a89-a032-75112fa0b149",
   "metadata": {},
   "outputs": [
    {
     "data": {
      "text/plain": [
       "1225"
      ]
     },
     "execution_count": 30,
     "metadata": {},
     "output_type": "execute_result"
    }
   ],
   "source": [
    "C = 0\n",
    "for c in republic:\n",
    "    if re.match(pat, c['caption']):\n",
    "        C += 1\n",
    "        ig = c.get('ignore', [])\n",
    "        if 'HE_VERB_AGR' not in ig:\n",
    "            ig.append('HE_VERB_AGR')\n",
    "        c['ignore'] = ig\n",
    "C"
   ]
  },
  {
   "cell_type": "code",
   "execution_count": 31,
   "id": "a5005bdd-f289-40d7-8b81-c24387119d67",
   "metadata": {},
   "outputs": [
    {
     "data": {
      "text/plain": [
       "{'writeErrors': [],\n",
       " 'writeConcernErrors': [],\n",
       " 'nInserted': 0,\n",
       " 'nUpserted': 0,\n",
       " 'nMatched': 1302,\n",
       " 'nModified': 234,\n",
       " 'nRemoved': 0,\n",
       " 'upserted': []}"
      ]
     },
     "execution_count": 31,
     "metadata": {},
     "output_type": "execute_result"
    }
   ],
   "source": [
    "updates = [UpdateOne({'_id': r['_id']}, {'$set': {'ignore': r.get('ignore',  [])}}) for r in republic]\n",
    "wres = db.captions.bulk_write(updates)\n",
    "wres.bulk_api_result"
   ]
  },
  {
   "cell_type": "code",
   "execution_count": 34,
   "id": "f917b6ea-5dac-4cd6-a3ed-73600461f2c8",
   "metadata": {},
   "outputs": [
    {
     "data": {
      "text/plain": [
       "4"
      ]
     },
     "execution_count": 34,
     "metadata": {},
     "output_type": "execute_result"
    }
   ],
   "source": [
    "C = 0\n",
    "for k in republic:\n",
    "    if 'are the same' in k['caption']:\n",
    "        C += 1\n",
    "C"
   ]
  },
  {
   "cell_type": "code",
   "execution_count": 35,
   "id": "7e34fe63-283a-4d28-afd9-3460d9452529",
   "metadata": {},
   "outputs": [
    {
     "data": {
      "text/plain": [
       "4"
      ]
     },
     "execution_count": 35,
     "metadata": {},
     "output_type": "execute_result"
    }
   ],
   "source": [
    "C = 0\n",
    "for c in republic:\n",
    "    if 'are the same' in c['caption']:\n",
    "        C += 1\n",
    "        ig = c.get('ignore', [])\n",
    "        if 'HE_VERB_AGR' not in ig:\n",
    "            ig.append('HE_VERB_AGR')\n",
    "        c['ignore'] = ig\n",
    "C"
   ]
  },
  {
   "cell_type": "code",
   "execution_count": 36,
   "id": "7d04bbe4-0e13-47a7-b955-0003aa6ce446",
   "metadata": {},
   "outputs": [
    {
     "data": {
      "text/plain": [
       "{'writeErrors': [],\n",
       " 'writeConcernErrors': [],\n",
       " 'nInserted': 0,\n",
       " 'nUpserted': 0,\n",
       " 'nMatched': 1302,\n",
       " 'nModified': 4,\n",
       " 'nRemoved': 0,\n",
       " 'upserted': []}"
      ]
     },
     "execution_count": 36,
     "metadata": {},
     "output_type": "execute_result"
    }
   ],
   "source": [
    "updates = [UpdateOne({'_id': r['_id']}, {'$set': {'ignore': r.get('ignore',  [])}}) for r in republic]\n",
    "wres = db.captions.bulk_write(updates)\n",
    "wres.bulk_api_result"
   ]
  },
  {
   "cell_type": "code",
   "execution_count": 37,
   "id": "5fe9d04c-f2ab-4b8b-97f9-96bd52659a91",
   "metadata": {},
   "outputs": [
    {
     "data": {
      "text/plain": [
       "[('The singular proper name ‘Republic’ must be used with a third-person or a past tense verb.',\n",
       "  1302),\n",
       " ('The verb form ‘differ’ does not seem to match the subject ‘population’.',\n",
       "  101),\n",
       " ('The verb form ‘differ’ does not seem to match the subject ‘rent’.', 64),\n",
       " ('Non-standard use of the comparative or superlative. Did you mean “least low”?',\n",
       "  58),\n",
       " ('The verb form ‘differ’ does not seem to match the subject ‘birth’.', 54),\n",
       " ('The verb form ‘differ’ does not seem to match the subject ‘production’.',\n",
       "  48),\n",
       " ('This phrase is duplicated. You should probably use “in Amount” only once.',\n",
       "  42),\n",
       " ('Possible agreement error. The noun ‘computer’ seems to be countable.', 41),\n",
       " ('A more concise phrase may lose no meaning and sound more powerful.', 37),\n",
       " ('This phrase is duplicated. You should probably use “in Investment” only once.',\n",
       "  30),\n",
       " ('The verb form ‘differ’ does not seem to match the subject ‘rating’.', 29),\n",
       " ('The verb form ‘differ’ does not seem to match the subject ‘density’.', 28),\n",
       " ('If a new sentence starts here, add a space and start with an uppercase letter.',\n",
       "  28),\n",
       " ('Make sure that the adjective ‘total’ is correct. Possibly, it should be an adverb (typically ~ly) that modifies ‘adjusted’. Possibly, it should be the first word in a compound adjective (hyphenated adjective). Possibly, it is correct.',\n",
       "  26),\n",
       " ('Make sure that the adjective ‘total’ is correct. Possibly, it should be an adverb (typically ~ly) that modifies ‘elevated’. Possibly, it should be the first word in a compound adjective (hyphenated adjective). Possibly, it is correct.',\n",
       "  24),\n",
       " ('Did you mean “whom”?', 22),\n",
       " ('Please check whether a word is missing between ‘The’ and ‘is’ or whether ‘The’ is the correct determiner.',\n",
       "  11),\n",
       " ('Please verify that the plural noun “days” is in agreement with the quantifier “1”. Did you mean to use the singular form?',\n",
       "  6),\n",
       " ('The verb form ‘is’ does not seem to match the subject ‘flows’.', 6),\n",
       " ('Possible typo: you repeated a whitespace', 6),\n",
       " ('A word may be missing after ‘The’.', 6),\n",
       " ('The verb form ‘differ’ does not seem to match the subject ‘growth’.', 5),\n",
       " ('The verb form ‘is’ does not seem to match the subject ‘withdrawals’.', 5),\n",
       " ('Use “good at” to mean “skilled” with school subjects. Try this: “Goods at French”.',\n",
       "  5),\n",
       " ('The verb form ‘is’ does not seem to match the subject ‘exports’.', 3),\n",
       " ('Possible agreement error.', 3),\n",
       " ('The usual preposition for an exact address is “at”, not “on”. Did you mean “located at 1971 In St”?',\n",
       "  2),\n",
       " ('Please verify that the plural noun “hours” is in agreement with the quantifier “1”. Did you mean to use the singular form?',\n",
       "  2),\n",
       " ('The usual preposition for an exact address is “at”, not “on”. Did you mean “located at 1970 In St”?',\n",
       "  2),\n",
       " ('The verb form ‘increases’ does not seem to match the subject ‘withdrawals’.',\n",
       "  1),\n",
       " ('The verb form ‘is’ does not seem to match the subject ‘creditors’.', 1),\n",
       " ('The verb form ‘is’ does not seem to match the subject ‘imports’.', 1),\n",
       " ('Please verify that the plural noun “hectares” is in agreement with the quantifier “1”. Did you mean to use the singular form?',\n",
       "  1)]"
      ]
     },
     "execution_count": 37,
     "metadata": {},
     "output_type": "execute_result"
    }
   ],
   "source": [
    "ctr.most_common()"
   ]
  },
  {
   "cell_type": "code",
   "execution_count": 5,
   "id": "80a7c032-3f88-420d-b6ce-8fc6a68fceda",
   "metadata": {},
   "outputs": [
    {
     "data": {
      "text/html": [
       "<div>\n",
       "<style scoped>\n",
       "    .dataframe tbody tr th:only-of-type {\n",
       "        vertical-align: middle;\n",
       "    }\n",
       "\n",
       "    .dataframe tbody tr th {\n",
       "        vertical-align: top;\n",
       "    }\n",
       "\n",
       "    .dataframe thead th {\n",
       "        text-align: right;\n",
       "    }\n",
       "</style>\n",
       "<table border=\"1\" class=\"dataframe\">\n",
       "  <thead>\n",
       "    <tr style=\"text-align: right;\">\n",
       "      <th></th>\n",
       "      <th>qid</th>\n",
       "      <th>root</th>\n",
       "      <th>nsubj</th>\n",
       "    </tr>\n",
       "  </thead>\n",
       "  <tbody>\n",
       "    <tr>\n",
       "      <th>0</th>\n",
       "      <td>9882</td>\n",
       "      <td>grow</td>\n",
       "      <td>cost</td>\n",
       "    </tr>\n",
       "    <tr>\n",
       "      <th>1</th>\n",
       "      <td>12114</td>\n",
       "      <td>grow</td>\n",
       "      <td>amount</td>\n",
       "    </tr>\n",
       "    <tr>\n",
       "      <th>5</th>\n",
       "      <td>56438</td>\n",
       "      <td>increase</td>\n",
       "      <td>cost</td>\n",
       "    </tr>\n",
       "    <tr>\n",
       "      <th>7</th>\n",
       "      <td>62581</td>\n",
       "      <td>increase</td>\n",
       "      <td>amount</td>\n",
       "    </tr>\n",
       "    <tr>\n",
       "      <th>8</th>\n",
       "      <td>66132</td>\n",
       "      <td>grows</td>\n",
       "      <td>amount</td>\n",
       "    </tr>\n",
       "    <tr>\n",
       "      <th>11</th>\n",
       "      <td>120614</td>\n",
       "      <td>increase</td>\n",
       "      <td>percentage</td>\n",
       "    </tr>\n",
       "    <tr>\n",
       "      <th>14</th>\n",
       "      <td>121826</td>\n",
       "      <td>grow</td>\n",
       "      <td>debt</td>\n",
       "    </tr>\n",
       "    <tr>\n",
       "      <th>15</th>\n",
       "      <td>122405</td>\n",
       "      <td>grow</td>\n",
       "      <td>percentage</td>\n",
       "    </tr>\n",
       "    <tr>\n",
       "      <th>19</th>\n",
       "      <td>127965</td>\n",
       "      <td>grow</td>\n",
       "      <td>balance</td>\n",
       "    </tr>\n",
       "    <tr>\n",
       "      <th>20</th>\n",
       "      <td>128070</td>\n",
       "      <td>increase</td>\n",
       "      <td>balance</td>\n",
       "    </tr>\n",
       "    <tr>\n",
       "      <th>22</th>\n",
       "      <td>132133</td>\n",
       "      <td>increase</td>\n",
       "      <td>debt</td>\n",
       "    </tr>\n",
       "    <tr>\n",
       "      <th>23</th>\n",
       "      <td>133500</td>\n",
       "      <td>is</td>\n",
       "      <td>mean</td>\n",
       "    </tr>\n",
       "    <tr>\n",
       "      <th>27</th>\n",
       "      <td>135858</td>\n",
       "      <td>grows</td>\n",
       "      <td>percentage</td>\n",
       "    </tr>\n",
       "    <tr>\n",
       "      <th>34</th>\n",
       "      <td>151090</td>\n",
       "      <td>increase</td>\n",
       "      <td>number</td>\n",
       "    </tr>\n",
       "    <tr>\n",
       "      <th>63</th>\n",
       "      <td>187058</td>\n",
       "      <td>grows</td>\n",
       "      <td>balance</td>\n",
       "    </tr>\n",
       "    <tr>\n",
       "      <th>101</th>\n",
       "      <td>266952</td>\n",
       "      <td>grow</td>\n",
       "      <td>number</td>\n",
       "    </tr>\n",
       "    <tr>\n",
       "      <th>106</th>\n",
       "      <td>271936</td>\n",
       "      <td>grows</td>\n",
       "      <td>number</td>\n",
       "    </tr>\n",
       "    <tr>\n",
       "      <th>141</th>\n",
       "      <td>333465</td>\n",
       "      <td>increase</td>\n",
       "      <td>rate</td>\n",
       "    </tr>\n",
       "    <tr>\n",
       "      <th>142</th>\n",
       "      <td>334276</td>\n",
       "      <td>grow</td>\n",
       "      <td>rate</td>\n",
       "    </tr>\n",
       "    <tr>\n",
       "      <th>251</th>\n",
       "      <td>482567</td>\n",
       "      <td>grows</td>\n",
       "      <td>rate</td>\n",
       "    </tr>\n",
       "    <tr>\n",
       "      <th>266</th>\n",
       "      <td>612298</td>\n",
       "      <td>exceeds</td>\n",
       "      <td>number</td>\n",
       "    </tr>\n",
       "    <tr>\n",
       "      <th>267</th>\n",
       "      <td>618258</td>\n",
       "      <td>exceeds</td>\n",
       "      <td>amount</td>\n",
       "    </tr>\n",
       "    <tr>\n",
       "      <th>268</th>\n",
       "      <td>631002</td>\n",
       "      <td>exceeds</td>\n",
       "      <td>percentage</td>\n",
       "    </tr>\n",
       "    <tr>\n",
       "      <th>297</th>\n",
       "      <td>19533894</td>\n",
       "      <td>exceeds</td>\n",
       "      <td>Tax</td>\n",
       "    </tr>\n",
       "    <tr>\n",
       "      <th>299</th>\n",
       "      <td>19541644</td>\n",
       "      <td>exceeds</td>\n",
       "      <td>Adequacy</td>\n",
       "    </tr>\n",
       "    <tr>\n",
       "      <th>300</th>\n",
       "      <td>19552637</td>\n",
       "      <td>exceeds</td>\n",
       "      <td>Amount</td>\n",
       "    </tr>\n",
       "    <tr>\n",
       "      <th>355</th>\n",
       "      <td>14018270</td>\n",
       "      <td>exceeds</td>\n",
       "      <td>emission</td>\n",
       "    </tr>\n",
       "    <tr>\n",
       "      <th>532</th>\n",
       "      <td>4001796</td>\n",
       "      <td>exceeds</td>\n",
       "      <td>%</td>\n",
       "    </tr>\n",
       "  </tbody>\n",
       "</table>\n",
       "</div>"
      ],
      "text/plain": [
       "          qid      root       nsubj\n",
       "0        9882      grow        cost\n",
       "1       12114      grow      amount\n",
       "5       56438  increase        cost\n",
       "7       62581  increase      amount\n",
       "8       66132     grows      amount\n",
       "11     120614  increase  percentage\n",
       "14     121826      grow        debt\n",
       "15     122405      grow  percentage\n",
       "19     127965      grow     balance\n",
       "20     128070  increase     balance\n",
       "22     132133  increase        debt\n",
       "23     133500        is        mean\n",
       "27     135858     grows  percentage\n",
       "34     151090  increase      number\n",
       "63     187058     grows     balance\n",
       "101    266952      grow      number\n",
       "106    271936     grows      number\n",
       "141    333465  increase        rate\n",
       "142    334276      grow        rate\n",
       "251    482567     grows        rate\n",
       "266    612298   exceeds      number\n",
       "267    618258   exceeds      amount\n",
       "268    631002   exceeds  percentage\n",
       "297  19533894   exceeds         Tax\n",
       "299  19541644   exceeds    Adequacy\n",
       "300  19552637   exceeds      Amount\n",
       "355  14018270   exceeds    emission\n",
       "532   4001796   exceeds           %"
      ]
     },
     "execution_count": 5,
     "metadata": {},
     "output_type": "execute_result"
    }
   ],
   "source": [
    "qids = [s['_id'] for s in infl]\n",
    "sents = [s['caption'] for s in infl]\n",
    "\n",
    "pairs = []\n",
    "for doc, qid in zip(nlp.pipe(sents), qids):\n",
    "    root = False\n",
    "    for token in doc:\n",
    "        if token.dep_ == 'ROOT':\n",
    "            root = token\n",
    "            break\n",
    "    if root:\n",
    "        try:\n",
    "            child = [k for k in root.children if k.dep_ == 'nsubj'][0]\n",
    "            pairs.append((qid, root.text, child.text))\n",
    "        except IndexError:\n",
    "            continue\n",
    "\n",
    "pairs = pd.DataFrame(pairs, columns=['qid', 'root', 'nsubj'])\n",
    "pairs.drop_duplicates(subset=['root', 'nsubj'])"
   ]
  },
  {
   "cell_type": "code",
   "execution_count": 6,
   "id": "863c8597-e5bf-472b-9f18-59c1d962dbd3",
   "metadata": {},
   "outputs": [
    {
     "data": {
      "text/plain": [
       "exceeds-Amount         184\n",
       "exceeds-Tax             95\n",
       "increase-percentage     45\n",
       "grow-percentage         44\n",
       "exceeds-amount          39\n",
       "increase-amount         36\n",
       "exceeds-percentage      31\n",
       "grow-amount             30\n",
       "increase-balance        30\n",
       "grow-balance            23\n",
       "exceeds-Adequacy        19\n",
       "exceeds-emission        15\n",
       "exceeds-number          11\n",
       "is-mean                 11\n",
       "grows-amount             9\n",
       "grow-number              8\n",
       "grow-rate                6\n",
       "increase-number          5\n",
       "grows-number             5\n",
       "increase-rate            5\n",
       "grow-cost                3\n",
       "increase-debt            3\n",
       "grow-debt                3\n",
       "grows-percentage         3\n",
       "grows-balance            2\n",
       "grows-rate               1\n",
       "increase-cost            1\n",
       "exceeds-%                1\n",
       "Name: rootnsubj, dtype: int64"
      ]
     },
     "execution_count": 6,
     "metadata": {},
     "output_type": "execute_result"
    }
   ],
   "source": [
    "pairs['rootnsubj'] = pairs.apply(lambda x: f'{x[\"root\"]}-{x[\"nsubj\"]}', axis=1)\n",
    "pairs['rootnsubj'].value_counts()"
   ]
  },
  {
   "cell_type": "code",
   "execution_count": 8,
   "id": "3be233f9-51a6-4b9a-8d3f-5f95b3393b42",
   "metadata": {},
   "outputs": [
    {
     "name": "stdout",
     "output_type": "stream",
     "text": [
      "is-mean\n",
      "exceeds-Tax\n"
     ]
    }
   ],
   "source": [
    "for prefix in pairs['rootnsubj'].unique():\n",
    "    is_number = set(pairs[pairs['rootnsubj'] == prefix]['qid'].unique())\n",
    "    docs = [c['caption'] for c in G if c['_id'] in is_number]\n",
    "    for doc in nlp.pipe(docs):\n",
    "        try:\n",
    "            agrees = lt.has_agreement(*lt.find_root_nsubj(doc))\n",
    "        except (IndexError, ValueError):\n",
    "            print(prefix)\n",
    "            break\n",
    "        if not agrees:\n",
    "            print(prefix)\n",
    "            break\n",
    "    "
   ]
  },
  {
   "cell_type": "code",
   "execution_count": 31,
   "id": "c6881008-d629-4016-854b-cee153518de4",
   "metadata": {},
   "outputs": [],
   "source": [
    "to_ignore = pairs[pairs['rootnsubj'] != 'is-mean']['qid'].unique()"
   ]
  },
  {
   "cell_type": "code",
   "execution_count": 9,
   "id": "ecd3394d-1ff2-4ced-9f0a-0746ed4fde67",
   "metadata": {},
   "outputs": [
    {
     "data": {
      "text/plain": [
       "{'writeErrors': [],\n",
       " 'writeConcernErrors': [],\n",
       " 'nInserted': 0,\n",
       " 'nUpserted': 0,\n",
       " 'nMatched': 709,\n",
       " 'nModified': 709,\n",
       " 'nRemoved': 0,\n",
       " 'upserted': []}"
      ]
     },
     "execution_count": 9,
     "metadata": {},
     "output_type": "execute_result"
    }
   ],
   "source": [
    "for t in infl:\n",
    "    ig = t.get('ignore', [])\n",
    "    if 'NNS_IN_NNP_VBZ' not in ig:\n",
    "        ig.append('NNS_IN_NNP_VBZ')\n",
    "    t['ignore'] = ig\n",
    "\n",
    "    \n",
    "updates = [UpdateOne({'_id': r['_id']}, {'$set': {'ignore': r['ignore']}}) for r in infl]\n",
    "wres = db.captions.bulk_write(updates)\n",
    "wres.bulk_api_result"
   ]
  },
  {
   "cell_type": "code",
   "execution_count": 10,
   "id": "f73768e4-0108-4ed3-a0a6-821f8f504b28",
   "metadata": {},
   "outputs": [
    {
     "data": {
      "text/plain": [
       "Counter({'The verb form ‘differ’ does not seem to match the subject ‘density’.': 28,\n",
       "         'With the plural noun ‘emissions’, the verb inflection ‘does’ is not correct.': 4,\n",
       "         'The verb form ‘differ’ does not seem to match the subject ‘rent’.': 64,\n",
       "         'With the plural noun ‘banks’, the verb inflection ‘does’ is not correct.': 6,\n",
       "         'The verb form ‘differ’ does not seem to match the subject ‘population’.': 101,\n",
       "         'With the plural noun ‘banks’, the verb inflection ‘grows’ is not correct.': 1,\n",
       "         'Please verify that the plural noun “days” is in agreement with the quantifier “1”. Did you mean to use the singular form?': 6,\n",
       "         'The verb form ‘differ’ does not seem to match the subject ‘growth’.': 5,\n",
       "         'With the plural noun ‘services’, the verb inflection ‘does’ is not correct.': 71,\n",
       "         'With the plural noun ‘tourists’, the verb inflection ‘does’ is not correct.': 47,\n",
       "         'With the plural noun ‘securities’, the verb inflection ‘does’ is not correct.': 9,\n",
       "         'With the plural noun ‘repayments’, the verb inflection ‘does’ is not correct.': 6,\n",
       "         'With the plural noun ‘securities’, the verb inflection ‘is’ is not correct.': 11,\n",
       "         'With the plural noun ‘services’, the verb inflection ‘grows’ is not correct.': 6,\n",
       "         'The singular proper name ‘Republic’ must be used with a third-person or a past tense verb.': 1302,\n",
       "         'With the plural noun ‘users’, the verb inflection ‘does’ is not correct.': 3,\n",
       "         'With the plural noun ‘tourists’, the verb inflection ‘grows’ is not correct.': 5,\n",
       "         'If a new sentence starts here, add a space and start with an uppercase letter.': 28,\n",
       "         'The verb form ‘is’ does not seem to match the subject ‘withdrawals’.': 223,\n",
       "         'With the plural noun ‘users’, the verb inflection ‘grows’ is not correct.': 1,\n",
       "         'Non-standard use of the comparative or superlative. Did you mean “least low”?': 58,\n",
       "         'With the plural noun ‘countries’, the verb inflection ‘does’ is not correct.': 75,\n",
       "         'With the plural noun ‘schools’, the verb inflection ‘does’ is not correct.': 21,\n",
       "         'The verb form ‘differ’ does not seem to match the subject ‘rating’.': 29,\n",
       "         'With the plural noun ‘schools’, the verb inflection ‘grows’ is not correct.': 5,\n",
       "         'Did you mean “whom”?': 22,\n",
       "         'With the plural noun ‘countries’, the verb inflection ‘grows’ is not correct.': 2,\n",
       "         'The verb form ‘is’ does not seem to match the subject ‘flows’.': 6,\n",
       "         'The verb form ‘differ’ does not seem to match the subject ‘production’.': 48,\n",
       "         'Possible agreement error. The noun ‘computer’ seems to be countable.': 41,\n",
       "         'The verb form ‘differ’ does not seem to match the subject ‘birth’.': 54,\n",
       "         'Make sure that the adjective ‘total’ is correct. Possibly, it should be an adverb (typically ~ly) that modifies ‘elevated’. Possibly, it should be the first word in a compound adjective (hyphenated adjective). Possibly, it is correct.': 24,\n",
       "         'The verb form ‘increases’ does not seem to match the subject ‘withdrawals’.': 1,\n",
       "         'With the plural noun ‘residents’, the verb inflection ‘exceeds’ is not correct.': 3,\n",
       "         'With the plural noun ‘activities’, the verb inflection ‘exceeds’ is not correct.': 16,\n",
       "         'With the plural noun ‘exports’, the verb inflection ‘exceeds’ is not correct.': 69,\n",
       "         'With the plural noun ‘gains’, the verb inflection ‘exceeds’ is not correct.': 47,\n",
       "         'The verb form ‘is’ does not seem to match the subject ‘exports’.': 3,\n",
       "         'With the plural noun ‘tourists’, the verb inflection ‘exceeds’ is not correct.': 38,\n",
       "         'With the plural noun ‘non-residents’, the verb inflection ‘exceeds’ is not correct.': 8,\n",
       "         'With the plural noun ‘children’, the verb inflection ‘exceeds’ is not correct.': 11,\n",
       "         'The verb form ‘is’ does not seem to match the subject ‘creditors’.': 1,\n",
       "         'With the plural noun ‘benefits’, the verb inflection ‘exceeds’ is not correct.': 19,\n",
       "         'With the plural noun ‘materials’, the verb inflection ‘exceeds’ is not correct.': 180,\n",
       "         'This phrase is duplicated. You should probably use “in Amount” only once.': 42,\n",
       "         'Please check whether a word is missing between ‘The’ and ‘is’ or whether ‘The’ is the correct determiner.': 11,\n",
       "         'A more concise phrase may lose no meaning and sound more powerful.': 37,\n",
       "         'This phrase is duplicated. You should probably use “in Investment” only once.': 30,\n",
       "         'With the plural noun ‘metals’, the verb inflection ‘exceeds’ is not correct.': 4,\n",
       "         'With the plural noun ‘firms’, the verb inflection ‘is’ is not correct.': 32,\n",
       "         'Possible typo: you repeated a whitespace': 6,\n",
       "         'Use “good at” to mean “skilled” with school subjects. Try this: “Goods at French”.': 5,\n",
       "         'A word may be missing after ‘The’.': 6,\n",
       "         'With the plural noun ‘personnel’, the verb inflection ‘is’ is not correct.': 1,\n",
       "         'With the plural noun ‘subscribers’, the verb inflection ‘is’ is not correct.': 1,\n",
       "         'The usual preposition for an exact address is “at”, not “on”. Did you mean “located at 1971 In St”?': 2,\n",
       "         'Make sure that the adjective ‘total’ is correct. Possibly, it should be an adverb (typically ~ly) that modifies ‘adjusted’. Possibly, it should be the first word in a compound adjective (hyphenated adjective). Possibly, it is correct.': 26,\n",
       "         'Possible agreement error.': 3,\n",
       "         'With the plural noun ‘services’, the verb inflection ‘is’ is not correct.': 1,\n",
       "         'With the plural noun ‘disbursements’, the verb inflection ‘is’ is not correct.': 4,\n",
       "         'Please verify that the plural noun “hours” is in agreement with the quantifier “1”. Did you mean to use the singular form?': 2,\n",
       "         'With the plural noun ‘emissions’, the verb inflection ‘is’ is not correct.': 1,\n",
       "         'The verb form ‘is’ does not seem to match the subject ‘imports’.': 1,\n",
       "         'The usual preposition for an exact address is “at”, not “on”. Did you mean “located at 1970 In St”?': 2,\n",
       "         'Please verify that the plural noun “hectares” is in agreement with the quantifier “1”. Did you mean to use the singular form?': 1,\n",
       "         'With the plural noun ‘members’, the verb inflection ‘exceeds’ is not correct.': 1})"
      ]
     },
     "execution_count": 10,
     "metadata": {},
     "output_type": "execute_result"
    }
   ],
   "source": [
    "ctr"
   ]
  },
  {
   "cell_type": "code",
   "execution_count": 11,
   "id": "91ddc43d-9613-4ae6-b2c7-45c9dff5f310",
   "metadata": {},
   "outputs": [],
   "source": [
    "to_remove = []\n",
    "for k in ctr:\n",
    "    if ', the verb inflection ' in k:\n",
    "        to_remove.append(k)\n",
    "        \n",
    "for key in to_remove:\n",
    "    del ctr[key]"
   ]
  },
  {
   "cell_type": "code",
   "execution_count": 14,
   "id": "d43fcf43-b9ca-4cb8-bbc8-e59596556bb4",
   "metadata": {},
   "outputs": [
    {
     "data": {
      "text/plain": [
       "916"
      ]
     },
     "execution_count": 14,
     "metadata": {},
     "output_type": "execute_result"
    }
   ],
   "source": [
    "sum(ctr.values()) - 1302"
   ]
  },
  {
   "cell_type": "code",
   "execution_count": 15,
   "id": "2711065a-7744-41fc-ac50-32dfe6c5a0d5",
   "metadata": {},
   "outputs": [
    {
     "data": {
      "text/plain": [
       "{'_id': 2758,\n",
       " 'question_string': 'What is the difference between the highest and the second-highest rural population density ?',\n",
       " 'template': 'compound',\n",
       " 'answer': 90002,\n",
       " 'type': 'dot',\n",
       " 'template_id': 15,\n",
       " 'caption': 'The top two rural population density differ by 90002.',\n",
       " 'matches': [{'message': 'The verb form ‘differ’ does not seem to match the subject ‘density’.',\n",
       "   'shortMessage': '',\n",
       "   'replacements': [{'value': 'differs'},\n",
       "    {'value': 'differed'},\n",
       "    {'value': 'will differ'}],\n",
       "   'offset': 37,\n",
       "   'length': 6,\n",
       "   'context': {'text': 'The top two rural population density differ by 90002.',\n",
       "    'offset': 37,\n",
       "    'length': 6},\n",
       "   'sentence': 'The top two rural population density differ by 90002.',\n",
       "   'type': {'typeName': 'Other'},\n",
       "   'rule': {'id': 'SUBJECT_VERB_AGREEMENT',\n",
       "    'subId': '1',\n",
       "    'sourceFile': 'grammar.xml',\n",
       "    'description': 'Subject-verb agreement',\n",
       "    'issueType': 'grammar',\n",
       "    'category': {'id': 'GRAMMAR', 'name': 'Grammar'}},\n",
       "   'ignoreForIncompleteSentence': True,\n",
       "   'contextForSureMatch': -1}]}"
      ]
     },
     "execution_count": 15,
     "metadata": {},
     "output_type": "execute_result"
    }
   ],
   "source": [
    "X = lt.filter_lt_messages(G, message='does not seem to match the subject')\n",
    "X[0]"
   ]
  },
  {
   "cell_type": "code",
   "execution_count": 16,
   "id": "3a050c06-3834-470f-8fe8-cf5170de0306",
   "metadata": {},
   "outputs": [
    {
     "data": {
      "text/html": [
       "<div>\n",
       "<style scoped>\n",
       "    .dataframe tbody tr th:only-of-type {\n",
       "        vertical-align: middle;\n",
       "    }\n",
       "\n",
       "    .dataframe tbody tr th {\n",
       "        vertical-align: top;\n",
       "    }\n",
       "\n",
       "    .dataframe thead th {\n",
       "        text-align: right;\n",
       "    }\n",
       "</style>\n",
       "<table border=\"1\" class=\"dataframe\">\n",
       "  <thead>\n",
       "    <tr style=\"text-align: right;\">\n",
       "      <th></th>\n",
       "      <th>qid</th>\n",
       "      <th>root</th>\n",
       "      <th>nsubj</th>\n",
       "    </tr>\n",
       "  </thead>\n",
       "  <tbody>\n",
       "    <tr>\n",
       "      <th>0</th>\n",
       "      <td>2758</td>\n",
       "      <td>differ</td>\n",
       "      <td>density</td>\n",
       "    </tr>\n",
       "    <tr>\n",
       "      <th>1</th>\n",
       "      <td>11035</td>\n",
       "      <td>differ</td>\n",
       "      <td>rent</td>\n",
       "    </tr>\n",
       "    <tr>\n",
       "      <th>2</th>\n",
       "      <td>14437</td>\n",
       "      <td>differ</td>\n",
       "      <td>population</td>\n",
       "    </tr>\n",
       "    <tr>\n",
       "      <th>14</th>\n",
       "      <td>80991</td>\n",
       "      <td>differ</td>\n",
       "      <td>growth</td>\n",
       "    </tr>\n",
       "    <tr>\n",
       "      <th>23</th>\n",
       "      <td>243331</td>\n",
       "      <td>is</td>\n",
       "      <td>withdrawals</td>\n",
       "    </tr>\n",
       "    <tr>\n",
       "      <th>24</th>\n",
       "      <td>341533</td>\n",
       "      <td>differ</td>\n",
       "      <td>rating</td>\n",
       "    </tr>\n",
       "    <tr>\n",
       "      <th>29</th>\n",
       "      <td>501788</td>\n",
       "      <td>is</td>\n",
       "      <td>flows</td>\n",
       "    </tr>\n",
       "    <tr>\n",
       "      <th>30</th>\n",
       "      <td>502938</td>\n",
       "      <td>differ</td>\n",
       "      <td>production</td>\n",
       "    </tr>\n",
       "    <tr>\n",
       "      <th>35</th>\n",
       "      <td>511266</td>\n",
       "      <td>differ</td>\n",
       "      <td>expectancy</td>\n",
       "    </tr>\n",
       "    <tr>\n",
       "      <th>104</th>\n",
       "      <td>594678</td>\n",
       "      <td>increases</td>\n",
       "      <td>withdrawals</td>\n",
       "    </tr>\n",
       "    <tr>\n",
       "      <th>116</th>\n",
       "      <td>644793</td>\n",
       "      <td>is</td>\n",
       "      <td>OECD</td>\n",
       "    </tr>\n",
       "    <tr>\n",
       "      <th>385</th>\n",
       "      <td>2453342</td>\n",
       "      <td>is</td>\n",
       "      <td>income</td>\n",
       "    </tr>\n",
       "  </tbody>\n",
       "</table>\n",
       "</div>"
      ],
      "text/plain": [
       "         qid       root        nsubj\n",
       "0       2758     differ      density\n",
       "1      11035     differ         rent\n",
       "2      14437     differ   population\n",
       "14     80991     differ       growth\n",
       "23    243331         is  withdrawals\n",
       "24    341533     differ       rating\n",
       "29    501788         is        flows\n",
       "30    502938     differ   production\n",
       "35    511266     differ   expectancy\n",
       "104   594678  increases  withdrawals\n",
       "116   644793         is         OECD\n",
       "385  2453342         is       income"
      ]
     },
     "execution_count": 16,
     "metadata": {},
     "output_type": "execute_result"
    }
   ],
   "source": [
    "qids = [s['_id'] for s in X]\n",
    "sents = [s['caption'] for s in X]\n",
    "\n",
    "pairs = []\n",
    "for doc, qid in zip(nlp.pipe(sents), qids):\n",
    "    root = False\n",
    "    for token in doc:\n",
    "        if token.dep_ == 'ROOT':\n",
    "            root = token\n",
    "            break\n",
    "    if root:\n",
    "        try:\n",
    "            child = [k for k in root.children if k.dep_ == 'nsubj'][0]\n",
    "            pairs.append((qid, root.text, child.text))\n",
    "        except IndexError:\n",
    "            continue\n",
    "\n",
    "pairs = pd.DataFrame(pairs, columns=['qid', 'root', 'nsubj'])\n",
    "pairs.drop_duplicates(subset=['root', 'nsubj'])"
   ]
  },
  {
   "cell_type": "code",
   "execution_count": 17,
   "id": "086d227d-7683-497e-98cb-0be87ff7a495",
   "metadata": {},
   "outputs": [
    {
     "data": {
      "text/plain": [
       "is-withdrawals           223\n",
       "differ-population        101\n",
       "differ-rent               64\n",
       "differ-expectancy         54\n",
       "differ-production         48\n",
       "differ-rating             29\n",
       "differ-density            28\n",
       "is-flows                   6\n",
       "differ-growth              5\n",
       "is-OECD                    2\n",
       "is-income                  2\n",
       "increases-withdrawals      1\n",
       "Name: rootnsubj, dtype: int64"
      ]
     },
     "execution_count": 17,
     "metadata": {},
     "output_type": "execute_result"
    }
   ],
   "source": [
    "pairs['rootnsubj'] = pairs.apply(lambda x: f'{x[\"root\"]}-{x[\"nsubj\"]}', axis=1)\n",
    "pairs['rootnsubj'].value_counts()"
   ]
  },
  {
   "cell_type": "code",
   "execution_count": 19,
   "id": "731da4ef-7825-485b-aee4-52332c8815db",
   "metadata": {},
   "outputs": [],
   "source": [
    "is_withdraw = set(pairs[pairs['rootnsubj'] == 'is-withdrawals']['qid'].values)\n",
    "is_withdraw = [c for c in G if c['_id'] in is_withdraw]"
   ]
  },
  {
   "cell_type": "code",
   "execution_count": 20,
   "id": "e1368a70-c77f-4f56-9a85-3a18fa8bc680",
   "metadata": {},
   "outputs": [
    {
     "data": {
      "text/plain": [
       "{'_id': 243331,\n",
       " 'question_string': 'Is the annual freshwater withdrawals in Gambia, The strictly greater than the annual freshwater withdrawals in Hungary over the years ?',\n",
       " 'template': 'compound',\n",
       " 'answer': 'No',\n",
       " 'type': 'dot',\n",
       " 'template_id': 20,\n",
       " 'caption': 'The annual freshwater withdrawals in the Gambia is not strictly greater than the annual freshwater withdrawals in Hungary over the years.',\n",
       " 'matches': [{'message': 'The verb form ‘is’ does not seem to match the subject ‘withdrawals’.',\n",
       "   'shortMessage': '',\n",
       "   'replacements': [{'value': 'are'},\n",
       "    {'value': 'was'},\n",
       "    {'value': 'were',\n",
       "     'shortDescription': \"second-person singular simple past of 'be', e.g. 'you were'\"},\n",
       "    {'value': 'will be'}],\n",
       "   'offset': 48,\n",
       "   'length': 2,\n",
       "   'context': {'text': '...al freshwater withdrawals in the Gambia is not strictly greater than the annual fr...',\n",
       "    'offset': 43,\n",
       "    'length': 2},\n",
       "   'sentence': 'The annual freshwater withdrawals in the Gambia is not strictly greater than the annual freshwater withdrawals in Hungary over the years.',\n",
       "   'type': {'typeName': 'Other'},\n",
       "   'rule': {'id': 'SUBJECT_VERB_AGREEMENT_PLURAL',\n",
       "    'subId': '2',\n",
       "    'sourceFile': 'grammar.xml',\n",
       "    'description': 'Subject-verb agreement plural',\n",
       "    'issueType': 'grammar',\n",
       "    'category': {'id': 'GRAMMAR', 'name': 'Grammar'}},\n",
       "   'ignoreForIncompleteSentence': True,\n",
       "   'contextForSureMatch': 10}]}"
      ]
     },
     "execution_count": 20,
     "metadata": {},
     "output_type": "execute_result"
    }
   ],
   "source": [
    "is_withdraw[0]"
   ]
  },
  {
   "cell_type": "code",
   "execution_count": 22,
   "id": "08d4cb45-a596-41e6-87bb-dd5299365f9c",
   "metadata": {},
   "outputs": [],
   "source": [
    "for c in is_withdraw:\n",
    "    c['caption'] = c['caption'].replace('is not strictly greater than', 'are not strictly greater than')\n",
    "    c['caption'] = c['caption'].replace('across all years is', 'across all years are')\n",
    "    c['caption'] = c['caption'].replace('across all countries is', 'across all countries are')"
   ]
  },
  {
   "cell_type": "code",
   "execution_count": 23,
   "id": "e8485946-851d-41c4-85cf-f5a9b73715de",
   "metadata": {
    "collapsed": true,
    "jupyter": {
     "outputs_hidden": true
    },
    "tags": []
   },
   "outputs": [
    {
     "name": "stderr",
     "output_type": "stream",
     "text": [
      "[Parallel(n_jobs=-1)]: Using backend LokyBackend with 16 concurrent workers.\n",
      "2023-03-22 16:39:07.372831: W tensorflow/compiler/xla/stream_executor/platform/default/dso_loader.cc:64] Could not load dynamic library 'libnvinfer.so.7'; dlerror: libnvinfer.so.7: cannot open shared object file: No such file or directory\n",
      "2023-03-22 16:39:07.373258: W tensorflow/compiler/xla/stream_executor/platform/default/dso_loader.cc:64] Could not load dynamic library 'libnvinfer_plugin.so.7'; dlerror: libnvinfer_plugin.so.7: cannot open shared object file: No such file or directory\n",
      "2023-03-22 16:39:07.373273: W tensorflow/compiler/tf2tensorrt/utils/py_utils.cc:38] TF-TRT Warning: Cannot dlopen some TensorRT libraries. If you would like to use Nvidia GPU with TensorRT, please make sure the missing libraries mentioned above are installed properly.\n",
      "2023-03-22 16:39:07.385574: W tensorflow/compiler/xla/stream_executor/platform/default/dso_loader.cc:64] Could not load dynamic library 'libnvinfer.so.7'; dlerror: libnvinfer.so.7: cannot open shared object file: No such file or directory\n",
      "2023-03-22 16:39:07.385789: W tensorflow/compiler/xla/stream_executor/platform/default/dso_loader.cc:64] Could not load dynamic library 'libnvinfer_plugin.so.7'; dlerror: libnvinfer_plugin.so.7: cannot open shared object file: No such file or directory\n",
      "2023-03-22 16:39:07.385832: W tensorflow/compiler/tf2tensorrt/utils/py_utils.cc:38] TF-TRT Warning: Cannot dlopen some TensorRT libraries. If you would like to use Nvidia GPU with TensorRT, please make sure the missing libraries mentioned above are installed properly.\n",
      "2023-03-22 16:39:07.421411: W tensorflow/compiler/xla/stream_executor/platform/default/dso_loader.cc:64] Could not load dynamic library 'libnvinfer.so.7'; dlerror: libnvinfer.so.7: cannot open shared object file: No such file or directory\n",
      "2023-03-22 16:39:07.421630: W tensorflow/compiler/xla/stream_executor/platform/default/dso_loader.cc:64] Could not load dynamic library 'libnvinfer_plugin.so.7'; dlerror: libnvinfer_plugin.so.7: cannot open shared object file: No such file or directory\n",
      "2023-03-22 16:39:07.421664: W tensorflow/compiler/tf2tensorrt/utils/py_utils.cc:38] TF-TRT Warning: Cannot dlopen some TensorRT libraries. If you would like to use Nvidia GPU with TensorRT, please make sure the missing libraries mentioned above are installed properly.\n",
      "2023-03-22 16:39:07.466231: W tensorflow/compiler/xla/stream_executor/platform/default/dso_loader.cc:64] Could not load dynamic library 'libnvinfer.so.7'; dlerror: libnvinfer.so.7: cannot open shared object file: No such file or directory\n",
      "2023-03-22 16:39:07.466432: W tensorflow/compiler/xla/stream_executor/platform/default/dso_loader.cc:64] Could not load dynamic library 'libnvinfer_plugin.so.7'; dlerror: libnvinfer_plugin.so.7: cannot open shared object file: No such file or directory\n",
      "2023-03-22 16:39:07.466481: W tensorflow/compiler/tf2tensorrt/utils/py_utils.cc:38] TF-TRT Warning: Cannot dlopen some TensorRT libraries. If you would like to use Nvidia GPU with TensorRT, please make sure the missing libraries mentioned above are installed properly.\n",
      "2023-03-22 16:39:07.474569: W tensorflow/compiler/xla/stream_executor/platform/default/dso_loader.cc:64] Could not load dynamic library 'libnvinfer.so.7'; dlerror: libnvinfer.so.7: cannot open shared object file: No such file or directory\n",
      "2023-03-22 16:39:07.474788: W tensorflow/compiler/xla/stream_executor/platform/default/dso_loader.cc:64] Could not load dynamic library 'libnvinfer_plugin.so.7'; dlerror: libnvinfer_plugin.so.7: cannot open shared object file: No such file or directory\n",
      "2023-03-22 16:39:07.474831: W tensorflow/compiler/tf2tensorrt/utils/py_utils.cc:38] TF-TRT Warning: Cannot dlopen some TensorRT libraries. If you would like to use Nvidia GPU with TensorRT, please make sure the missing libraries mentioned above are installed properly.\n",
      "2023-03-22 16:39:07.488075: W tensorflow/compiler/xla/stream_executor/platform/default/dso_loader.cc:64] Could not load dynamic library 'libnvinfer.so.7'; dlerror: libnvinfer.so.7: cannot open shared object file: No such file or directory\n",
      "2023-03-22 16:39:07.488310: W tensorflow/compiler/xla/stream_executor/platform/default/dso_loader.cc:64] Could not load dynamic library 'libnvinfer_plugin.so.7'; dlerror: libnvinfer_plugin.so.7: cannot open shared object file: No such file or directory\n",
      "2023-03-22 16:39:07.488354: W tensorflow/compiler/tf2tensorrt/utils/py_utils.cc:38] TF-TRT Warning: Cannot dlopen some TensorRT libraries. If you would like to use Nvidia GPU with TensorRT, please make sure the missing libraries mentioned above are installed properly.\n",
      "2023-03-22 16:39:07.533539: W tensorflow/compiler/xla/stream_executor/platform/default/dso_loader.cc:64] Could not load dynamic library 'libnvinfer.so.7'; dlerror: libnvinfer.so.7: cannot open shared object file: No such file or directory\n",
      "2023-03-22 16:39:07.533581: W tensorflow/compiler/xla/stream_executor/platform/default/dso_loader.cc:64] Could not load dynamic library 'libnvinfer.so.7'; dlerror: libnvinfer.so.7: cannot open shared object file: No such file or directory\n",
      "2023-03-22 16:39:07.533667: W tensorflow/compiler/xla/stream_executor/platform/default/dso_loader.cc:64] Could not load dynamic library 'libnvinfer_plugin.so.7'; dlerror: libnvinfer_plugin.so.7: cannot open shared object file: No such file or directory\n",
      "2023-03-22 16:39:07.533711: W tensorflow/compiler/tf2tensorrt/utils/py_utils.cc:38] TF-TRT Warning: Cannot dlopen some TensorRT libraries. If you would like to use Nvidia GPU with TensorRT, please make sure the missing libraries mentioned above are installed properly.\n",
      "2023-03-22 16:39:07.533731: W tensorflow/compiler/xla/stream_executor/platform/default/dso_loader.cc:64] Could not load dynamic library 'libnvinfer_plugin.so.7'; dlerror: libnvinfer_plugin.so.7: cannot open shared object file: No such file or directory\n",
      "2023-03-22 16:39:07.533760: W tensorflow/compiler/tf2tensorrt/utils/py_utils.cc:38] TF-TRT Warning: Cannot dlopen some TensorRT libraries. If you would like to use Nvidia GPU with TensorRT, please make sure the missing libraries mentioned above are installed properly.\n",
      "2023-03-22 16:39:07.559120: W tensorflow/compiler/xla/stream_executor/platform/default/dso_loader.cc:64] Could not load dynamic library 'libnvinfer.so.7'; dlerror: libnvinfer.so.7: cannot open shared object file: No such file or directory\n",
      "2023-03-22 16:39:07.559287: W tensorflow/compiler/xla/stream_executor/platform/default/dso_loader.cc:64] Could not load dynamic library 'libnvinfer_plugin.so.7'; dlerror: libnvinfer_plugin.so.7: cannot open shared object file: No such file or directory\n",
      "2023-03-22 16:39:07.559326: W tensorflow/compiler/tf2tensorrt/utils/py_utils.cc:38] TF-TRT Warning: Cannot dlopen some TensorRT libraries. If you would like to use Nvidia GPU with TensorRT, please make sure the missing libraries mentioned above are installed properly.\n",
      "2023-03-22 16:39:07.562593: W tensorflow/compiler/xla/stream_executor/platform/default/dso_loader.cc:64] Could not load dynamic library 'libnvinfer.so.7'; dlerror: libnvinfer.so.7: cannot open shared object file: No such file or directory\n",
      "2023-03-22 16:39:07.562770: W tensorflow/compiler/xla/stream_executor/platform/default/dso_loader.cc:64] Could not load dynamic library 'libnvinfer_plugin.so.7'; dlerror: libnvinfer_plugin.so.7: cannot open shared object file: No such file or directory\n",
      "2023-03-22 16:39:07.562805: W tensorflow/compiler/tf2tensorrt/utils/py_utils.cc:38] TF-TRT Warning: Cannot dlopen some TensorRT libraries. If you would like to use Nvidia GPU with TensorRT, please make sure the missing libraries mentioned above are installed properly.\n",
      "2023-03-22 16:39:07.575716: W tensorflow/compiler/xla/stream_executor/platform/default/dso_loader.cc:64] Could not load dynamic library 'libnvinfer.so.7'; dlerror: libnvinfer.so.7: cannot open shared object file: No such file or directory\n",
      "2023-03-22 16:39:07.575976: W tensorflow/compiler/xla/stream_executor/platform/default/dso_loader.cc:64] Could not load dynamic library 'libnvinfer_plugin.so.7'; dlerror: libnvinfer_plugin.so.7: cannot open shared object file: No such file or directory\n",
      "2023-03-22 16:39:07.575987: W tensorflow/compiler/tf2tensorrt/utils/py_utils.cc:38] TF-TRT Warning: Cannot dlopen some TensorRT libraries. If you would like to use Nvidia GPU with TensorRT, please make sure the missing libraries mentioned above are installed properly.\n",
      "2023-03-22 16:39:07.585093: W tensorflow/compiler/xla/stream_executor/platform/default/dso_loader.cc:64] Could not load dynamic library 'libnvinfer.so.7'; dlerror: libnvinfer.so.7: cannot open shared object file: No such file or directory\n",
      "2023-03-22 16:39:07.585241: W tensorflow/compiler/xla/stream_executor/platform/default/dso_loader.cc:64] Could not load dynamic library 'libnvinfer_plugin.so.7'; dlerror: libnvinfer_plugin.so.7: cannot open shared object file: No such file or directory\n",
      "2023-03-22 16:39:07.585275: W tensorflow/compiler/tf2tensorrt/utils/py_utils.cc:38] TF-TRT Warning: Cannot dlopen some TensorRT libraries. If you would like to use Nvidia GPU with TensorRT, please make sure the missing libraries mentioned above are installed properly.\n",
      "2023-03-22 16:39:07.650426: W tensorflow/compiler/xla/stream_executor/platform/default/dso_loader.cc:64] Could not load dynamic library 'libnvinfer.so.7'; dlerror: libnvinfer.so.7: cannot open shared object file: No such file or directory\n",
      "2023-03-22 16:39:07.650582: W tensorflow/compiler/xla/stream_executor/platform/default/dso_loader.cc:64] Could not load dynamic library 'libnvinfer_plugin.so.7'; dlerror: libnvinfer_plugin.so.7: cannot open shared object file: No such file or directory\n",
      "2023-03-22 16:39:07.650623: W tensorflow/compiler/tf2tensorrt/utils/py_utils.cc:38] TF-TRT Warning: Cannot dlopen some TensorRT libraries. If you would like to use Nvidia GPU with TensorRT, please make sure the missing libraries mentioned above are installed properly.\n",
      "2023-03-22 16:39:07.661936: W tensorflow/compiler/xla/stream_executor/platform/default/dso_loader.cc:64] Could not load dynamic library 'libnvinfer.so.7'; dlerror: libnvinfer.so.7: cannot open shared object file: No such file or directory\n",
      "2023-03-22 16:39:07.662086: W tensorflow/compiler/xla/stream_executor/platform/default/dso_loader.cc:64] Could not load dynamic library 'libnvinfer_plugin.so.7'; dlerror: libnvinfer_plugin.so.7: cannot open shared object file: No such file or directory\n",
      "2023-03-22 16:39:07.662123: W tensorflow/compiler/tf2tensorrt/utils/py_utils.cc:38] TF-TRT Warning: Cannot dlopen some TensorRT libraries. If you would like to use Nvidia GPU with TensorRT, please make sure the missing libraries mentioned above are installed properly.\n",
      "2023-03-22 16:39:07.673367: W tensorflow/compiler/xla/stream_executor/platform/default/dso_loader.cc:64] Could not load dynamic library 'libnvinfer.so.7'; dlerror: libnvinfer.so.7: cannot open shared object file: No such file or directory\n",
      "2023-03-22 16:39:07.673530: W tensorflow/compiler/xla/stream_executor/platform/default/dso_loader.cc:64] Could not load dynamic library 'libnvinfer_plugin.so.7'; dlerror: libnvinfer_plugin.so.7: cannot open shared object file: No such file or directory\n",
      "2023-03-22 16:39:07.673566: W tensorflow/compiler/tf2tensorrt/utils/py_utils.cc:38] TF-TRT Warning: Cannot dlopen some TensorRT libraries. If you would like to use Nvidia GPU with TensorRT, please make sure the missing libraries mentioned above are installed properly.\n",
      "2023-03-22 16:39:07.684102: W tensorflow/compiler/xla/stream_executor/platform/default/dso_loader.cc:64] Could not load dynamic library 'libnvinfer.so.7'; dlerror: libnvinfer.so.7: cannot open shared object file: No such file or directory\n",
      "2023-03-22 16:39:07.684263: W tensorflow/compiler/xla/stream_executor/platform/default/dso_loader.cc:64] Could not load dynamic library 'libnvinfer_plugin.so.7'; dlerror: libnvinfer_plugin.so.7: cannot open shared object file: No such file or directory\n",
      "2023-03-22 16:39:07.684304: W tensorflow/compiler/tf2tensorrt/utils/py_utils.cc:38] TF-TRT Warning: Cannot dlopen some TensorRT libraries. If you would like to use Nvidia GPU with TensorRT, please make sure the missing libraries mentioned above are installed properly.\n",
      "2023-03-22 16:39:09.141108: W tensorflow/compiler/xla/stream_executor/platform/default/dso_loader.cc:64] Could not load dynamic library 'libcusolver.so.11'; dlerror: libcusolver.so.11: cannot open shared object file: No such file or directory\n",
      "2023-03-22 16:39:09.141345: W tensorflow/core/common_runtime/gpu/gpu_device.cc:1934] Cannot dlopen some GPU libraries. Please make sure the missing libraries mentioned above are installed properly if you would like to use GPU. Follow the guide at https://www.tensorflow.org/install/gpu for how to download and setup the required libraries for your platform.\n",
      "Skipping registering GPU devices...\n",
      "2023-03-22 16:39:09.169755: W tensorflow/compiler/xla/stream_executor/platform/default/dso_loader.cc:64] Could not load dynamic library 'libcusolver.so.11'; dlerror: libcusolver.so.11: cannot open shared object file: No such file or directory\n",
      "2023-03-22 16:39:09.169910: W tensorflow/core/common_runtime/gpu/gpu_device.cc:1934] Cannot dlopen some GPU libraries. Please make sure the missing libraries mentioned above are installed properly if you would like to use GPU. Follow the guide at https://www.tensorflow.org/install/gpu for how to download and setup the required libraries for your platform.\n",
      "Skipping registering GPU devices...\n",
      "2023-03-22 16:39:09.224255: W tensorflow/compiler/xla/stream_executor/platform/default/dso_loader.cc:64] Could not load dynamic library 'libcusolver.so.11'; dlerror: libcusolver.so.11: cannot open shared object file: No such file or directory\n",
      "2023-03-22 16:39:09.224429: W tensorflow/core/common_runtime/gpu/gpu_device.cc:1934] Cannot dlopen some GPU libraries. Please make sure the missing libraries mentioned above are installed properly if you would like to use GPU. Follow the guide at https://www.tensorflow.org/install/gpu for how to download and setup the required libraries for your platform.\n",
      "Skipping registering GPU devices...\n",
      "2023-03-22 16:39:09.296638: W tensorflow/compiler/xla/stream_executor/platform/default/dso_loader.cc:64] Could not load dynamic library 'libcusolver.so.11'; dlerror: libcusolver.so.11: cannot open shared object file: No such file or directory\n",
      "2023-03-22 16:39:09.296825: W tensorflow/core/common_runtime/gpu/gpu_device.cc:1934] Cannot dlopen some GPU libraries. Please make sure the missing libraries mentioned above are installed properly if you would like to use GPU. Follow the guide at https://www.tensorflow.org/install/gpu for how to download and setup the required libraries for your platform.\n",
      "Skipping registering GPU devices...\n",
      "2023-03-22 16:39:09.326691: W tensorflow/compiler/xla/stream_executor/platform/default/dso_loader.cc:64] Could not load dynamic library 'libcusolver.so.11'; dlerror: libcusolver.so.11: cannot open shared object file: No such file or directory\n",
      "2023-03-22 16:39:09.326872: W tensorflow/core/common_runtime/gpu/gpu_device.cc:1934] Cannot dlopen some GPU libraries. Please make sure the missing libraries mentioned above are installed properly if you would like to use GPU. Follow the guide at https://www.tensorflow.org/install/gpu for how to download and setup the required libraries for your platform.\n",
      "Skipping registering GPU devices...\n",
      "2023-03-22 16:39:09.431358: W tensorflow/compiler/xla/stream_executor/platform/default/dso_loader.cc:64] Could not load dynamic library 'libcusolver.so.11'; dlerror: libcusolver.so.11: cannot open shared object file: No such file or directory\n",
      "2023-03-22 16:39:09.431602: W tensorflow/core/common_runtime/gpu/gpu_device.cc:1934] Cannot dlopen some GPU libraries. Please make sure the missing libraries mentioned above are installed properly if you would like to use GPU. Follow the guide at https://www.tensorflow.org/install/gpu for how to download and setup the required libraries for your platform.\n",
      "Skipping registering GPU devices...\n",
      "2023-03-22 16:39:09.441476: W tensorflow/compiler/xla/stream_executor/platform/default/dso_loader.cc:64] Could not load dynamic library 'libcusolver.so.11'; dlerror: libcusolver.so.11: cannot open shared object file: No such file or directory\n",
      "2023-03-22 16:39:09.441649: W tensorflow/core/common_runtime/gpu/gpu_device.cc:1934] Cannot dlopen some GPU libraries. Please make sure the missing libraries mentioned above are installed properly if you would like to use GPU. Follow the guide at https://www.tensorflow.org/install/gpu for how to download and setup the required libraries for your platform.\n",
      "Skipping registering GPU devices...\n",
      "2023-03-22 16:39:09.459790: W tensorflow/compiler/xla/stream_executor/platform/default/dso_loader.cc:64] Could not load dynamic library 'libcusolver.so.11'; dlerror: libcusolver.so.11: cannot open shared object file: No such file or directory\n",
      "2023-03-22 16:39:09.459980: W tensorflow/core/common_runtime/gpu/gpu_device.cc:1934] Cannot dlopen some GPU libraries. Please make sure the missing libraries mentioned above are installed properly if you would like to use GPU. Follow the guide at https://www.tensorflow.org/install/gpu for how to download and setup the required libraries for your platform.\n",
      "Skipping registering GPU devices...\n",
      "2023-03-22 16:39:09.490057: W tensorflow/compiler/xla/stream_executor/platform/default/dso_loader.cc:64] Could not load dynamic library 'libcusolver.so.11'; dlerror: libcusolver.so.11: cannot open shared object file: No such file or directory\n",
      "2023-03-22 16:39:09.490231: W tensorflow/core/common_runtime/gpu/gpu_device.cc:1934] Cannot dlopen some GPU libraries. Please make sure the missing libraries mentioned above are installed properly if you would like to use GPU. Follow the guide at https://www.tensorflow.org/install/gpu for how to download and setup the required libraries for your platform.\n",
      "Skipping registering GPU devices...\n",
      "2023-03-22 16:39:09.521156: W tensorflow/compiler/xla/stream_executor/platform/default/dso_loader.cc:64] Could not load dynamic library 'libcusolver.so.11'; dlerror: libcusolver.so.11: cannot open shared object file: No such file or directory\n",
      "2023-03-22 16:39:09.521334: W tensorflow/core/common_runtime/gpu/gpu_device.cc:1934] Cannot dlopen some GPU libraries. Please make sure the missing libraries mentioned above are installed properly if you would like to use GPU. Follow the guide at https://www.tensorflow.org/install/gpu for how to download and setup the required libraries for your platform.\n",
      "Skipping registering GPU devices...\n",
      "2023-03-22 16:39:09.523905: W tensorflow/compiler/xla/stream_executor/platform/default/dso_loader.cc:64] Could not load dynamic library 'libcusolver.so.11'; dlerror: libcusolver.so.11: cannot open shared object file: No such file or directory\n",
      "2023-03-22 16:39:09.524068: W tensorflow/core/common_runtime/gpu/gpu_device.cc:1934] Cannot dlopen some GPU libraries. Please make sure the missing libraries mentioned above are installed properly if you would like to use GPU. Follow the guide at https://www.tensorflow.org/install/gpu for how to download and setup the required libraries for your platform.\n",
      "Skipping registering GPU devices...\n",
      "2023-03-22 16:39:09.528015: W tensorflow/compiler/xla/stream_executor/platform/default/dso_loader.cc:64] Could not load dynamic library 'libcusolver.so.11'; dlerror: libcusolver.so.11: cannot open shared object file: No such file or directory\n",
      "2023-03-22 16:39:09.528190: W tensorflow/core/common_runtime/gpu/gpu_device.cc:1934] Cannot dlopen some GPU libraries. Please make sure the missing libraries mentioned above are installed properly if you would like to use GPU. Follow the guide at https://www.tensorflow.org/install/gpu for how to download and setup the required libraries for your platform.\n",
      "Skipping registering GPU devices...\n",
      "2023-03-22 16:39:09.528820: W tensorflow/compiler/xla/stream_executor/platform/default/dso_loader.cc:64] Could not load dynamic library 'libcusolver.so.11'; dlerror: libcusolver.so.11: cannot open shared object file: No such file or directory\n",
      "2023-03-22 16:39:09.529003: W tensorflow/core/common_runtime/gpu/gpu_device.cc:1934] Cannot dlopen some GPU libraries. Please make sure the missing libraries mentioned above are installed properly if you would like to use GPU. Follow the guide at https://www.tensorflow.org/install/gpu for how to download and setup the required libraries for your platform.\n",
      "Skipping registering GPU devices...\n",
      "2023-03-22 16:39:09.548670: W tensorflow/compiler/xla/stream_executor/platform/default/dso_loader.cc:64] Could not load dynamic library 'libcusolver.so.11'; dlerror: libcusolver.so.11: cannot open shared object file: No such file or directory\n",
      "2023-03-22 16:39:09.548863: W tensorflow/core/common_runtime/gpu/gpu_device.cc:1934] Cannot dlopen some GPU libraries. Please make sure the missing libraries mentioned above are installed properly if you would like to use GPU. Follow the guide at https://www.tensorflow.org/install/gpu for how to download and setup the required libraries for your platform.\n",
      "Skipping registering GPU devices...\n",
      "2023-03-22 16:39:09.549552: W tensorflow/compiler/xla/stream_executor/platform/default/dso_loader.cc:64] Could not load dynamic library 'libcusolver.so.11'; dlerror: libcusolver.so.11: cannot open shared object file: No such file or directory\n",
      "2023-03-22 16:39:09.549672: W tensorflow/core/common_runtime/gpu/gpu_device.cc:1934] Cannot dlopen some GPU libraries. Please make sure the missing libraries mentioned above are installed properly if you would like to use GPU. Follow the guide at https://www.tensorflow.org/install/gpu for how to download and setup the required libraries for your platform.\n",
      "Skipping registering GPU devices...\n",
      "2023-03-22 16:39:09.605811: W tensorflow/compiler/xla/stream_executor/platform/default/dso_loader.cc:64] Could not load dynamic library 'libcusolver.so.11'; dlerror: libcusolver.so.11: cannot open shared object file: No such file or directory\n",
      "2023-03-22 16:39:09.606010: W tensorflow/core/common_runtime/gpu/gpu_device.cc:1934] Cannot dlopen some GPU libraries. Please make sure the missing libraries mentioned above are installed properly if you would like to use GPU. Follow the guide at https://www.tensorflow.org/install/gpu for how to download and setup the required libraries for your platform.\n",
      "Skipping registering GPU devices...\n",
      "[Parallel(n_jobs=-1)]: Done   9 tasks      | elapsed:    5.1s\n",
      "[Parallel(n_jobs=-1)]: Done 161 tasks      | elapsed:    5.5s\n",
      "[Parallel(n_jobs=-1)]: Done 223 out of 223 | elapsed:    5.6s finished\n"
     ]
    },
    {
     "data": {
      "text/plain": [
       "5"
      ]
     },
     "execution_count": 23,
     "metadata": {},
     "output_type": "execute_result"
    }
   ],
   "source": [
    "res = Parallel(n_jobs=-1, verbose=2)(delayed(lt.process)(r['_id'], r['caption'], r.get('ignore')) for r in is_withdraw)\n",
    "len([g for g in res if len(g['matches']) > 0])"
   ]
  },
  {
   "cell_type": "code",
   "execution_count": 24,
   "id": "5a989f0f-4df8-4038-b5bf-2deaa7c0fb6e",
   "metadata": {},
   "outputs": [
    {
     "data": {
      "text/plain": [
       "{'writeErrors': [],\n",
       " 'writeConcernErrors': [],\n",
       " 'nInserted': 0,\n",
       " 'nUpserted': 0,\n",
       " 'nMatched': 223,\n",
       " 'nModified': 218,\n",
       " 'nRemoved': 0,\n",
       " 'upserted': []}"
      ]
     },
     "execution_count": 24,
     "metadata": {},
     "output_type": "execute_result"
    }
   ],
   "source": [
    "updates = [UpdateOne({'_id': r['_id']}, {'$set': {'caption': r['caption']}}) for r in is_withdraw]\n",
    "wres = db.captions.bulk_write(updates)\n",
    "wres.bulk_api_result"
   ]
  },
  {
   "cell_type": "code",
   "execution_count": 26,
   "id": "3737ec8a-9f36-473f-80c3-ad68d1072033",
   "metadata": {},
   "outputs": [
    {
     "data": {
      "text/plain": [
       "[('The singular proper name ‘Republic’ must be used with a third-person or a past tense verb.',\n",
       "  1302),\n",
       " ('The verb form ‘is’ does not seem to match the subject ‘withdrawals’.', 223),\n",
       " ('The verb form ‘differ’ does not seem to match the subject ‘population’.',\n",
       "  101),\n",
       " ('The verb form ‘differ’ does not seem to match the subject ‘rent’.', 64),\n",
       " ('Non-standard use of the comparative or superlative. Did you mean “least low”?',\n",
       "  58),\n",
       " ('The verb form ‘differ’ does not seem to match the subject ‘birth’.', 54),\n",
       " ('The verb form ‘differ’ does not seem to match the subject ‘production’.',\n",
       "  48),\n",
       " ('This phrase is duplicated. You should probably use “in Amount” only once.',\n",
       "  42),\n",
       " ('Possible agreement error. The noun ‘computer’ seems to be countable.', 41),\n",
       " ('A more concise phrase may lose no meaning and sound more powerful.', 37),\n",
       " ('This phrase is duplicated. You should probably use “in Investment” only once.',\n",
       "  30),\n",
       " ('The verb form ‘differ’ does not seem to match the subject ‘rating’.', 29),\n",
       " ('The verb form ‘differ’ does not seem to match the subject ‘density’.', 28),\n",
       " ('If a new sentence starts here, add a space and start with an uppercase letter.',\n",
       "  28),\n",
       " ('Make sure that the adjective ‘total’ is correct. Possibly, it should be an adverb (typically ~ly) that modifies ‘adjusted’. Possibly, it should be the first word in a compound adjective (hyphenated adjective). Possibly, it is correct.',\n",
       "  26),\n",
       " ('Make sure that the adjective ‘total’ is correct. Possibly, it should be an adverb (typically ~ly) that modifies ‘elevated’. Possibly, it should be the first word in a compound adjective (hyphenated adjective). Possibly, it is correct.',\n",
       "  24),\n",
       " ('Did you mean “whom”?', 22),\n",
       " ('Please check whether a word is missing between ‘The’ and ‘is’ or whether ‘The’ is the correct determiner.',\n",
       "  11),\n",
       " ('Please verify that the plural noun “days” is in agreement with the quantifier “1”. Did you mean to use the singular form?',\n",
       "  6),\n",
       " ('The verb form ‘is’ does not seem to match the subject ‘flows’.', 6),\n",
       " ('Possible typo: you repeated a whitespace', 6),\n",
       " ('A word may be missing after ‘The’.', 6),\n",
       " ('The verb form ‘differ’ does not seem to match the subject ‘growth’.', 5),\n",
       " ('Use “good at” to mean “skilled” with school subjects. Try this: “Goods at French”.',\n",
       "  5),\n",
       " ('The verb form ‘is’ does not seem to match the subject ‘exports’.', 3),\n",
       " ('Possible agreement error.', 3),\n",
       " ('The usual preposition for an exact address is “at”, not “on”. Did you mean “located at 1971 In St”?',\n",
       "  2),\n",
       " ('Please verify that the plural noun “hours” is in agreement with the quantifier “1”. Did you mean to use the singular form?',\n",
       "  2),\n",
       " ('The usual preposition for an exact address is “at”, not “on”. Did you mean “located at 1970 In St”?',\n",
       "  2),\n",
       " ('The verb form ‘increases’ does not seem to match the subject ‘withdrawals’.',\n",
       "  1),\n",
       " ('The verb form ‘is’ does not seem to match the subject ‘creditors’.', 1),\n",
       " ('The verb form ‘is’ does not seem to match the subject ‘imports’.', 1),\n",
       " ('Please verify that the plural noun “hectares” is in agreement with the quantifier “1”. Did you mean to use the singular form?',\n",
       "  1)]"
      ]
     },
     "execution_count": 26,
     "metadata": {},
     "output_type": "execute_result"
    }
   ],
   "source": [
    "ctr.most_common()"
   ]
  },
  {
   "cell_type": "code",
   "execution_count": 12,
   "id": "b5d81125-f0bd-450f-9406-ef861944b7f3",
   "metadata": {},
   "outputs": [
    {
     "data": {
      "text/plain": [
       "[('The singular proper name ‘Republic’ must be used with a third-person or a past tense verb.',\n",
       "  1302),\n",
       " ('The verb form ‘is’ does not seem to match the subject ‘withdrawals’.', 223),\n",
       " ('The verb form ‘differ’ does not seem to match the subject ‘population’.',\n",
       "  101),\n",
       " ('The verb form ‘differ’ does not seem to match the subject ‘rent’.', 64),\n",
       " ('Non-standard use of the comparative or superlative. Did you mean “least low”?',\n",
       "  58),\n",
       " ('The verb form ‘differ’ does not seem to match the subject ‘birth’.', 54),\n",
       " ('The verb form ‘differ’ does not seem to match the subject ‘production’.',\n",
       "  48),\n",
       " ('This phrase is duplicated. You should probably use “in Amount” only once.',\n",
       "  42),\n",
       " ('Possible agreement error. The noun ‘computer’ seems to be countable.', 41),\n",
       " ('A more concise phrase may lose no meaning and sound more powerful.', 37),\n",
       " ('This phrase is duplicated. You should probably use “in Investment” only once.',\n",
       "  30),\n",
       " ('The verb form ‘differ’ does not seem to match the subject ‘rating’.', 29),\n",
       " ('The verb form ‘differ’ does not seem to match the subject ‘density’.', 28),\n",
       " ('If a new sentence starts here, add a space and start with an uppercase letter.',\n",
       "  28),\n",
       " ('Make sure that the adjective ‘total’ is correct. Possibly, it should be an adverb (typically ~ly) that modifies ‘adjusted’. Possibly, it should be the first word in a compound adjective (hyphenated adjective). Possibly, it is correct.',\n",
       "  26),\n",
       " ('Make sure that the adjective ‘total’ is correct. Possibly, it should be an adverb (typically ~ly) that modifies ‘elevated’. Possibly, it should be the first word in a compound adjective (hyphenated adjective). Possibly, it is correct.',\n",
       "  24),\n",
       " ('Did you mean “whom”?', 22),\n",
       " ('Please check whether a word is missing between ‘The’ and ‘is’ or whether ‘The’ is the correct determiner.',\n",
       "  11),\n",
       " ('Please verify that the plural noun “days” is in agreement with the quantifier “1”. Did you mean to use the singular form?',\n",
       "  6),\n",
       " ('The verb form ‘is’ does not seem to match the subject ‘flows’.', 6),\n",
       " ('Possible typo: you repeated a whitespace', 6),\n",
       " ('A word may be missing after ‘The’.', 6),\n",
       " ('The verb form ‘differ’ does not seem to match the subject ‘growth’.', 5),\n",
       " ('Use “good at” to mean “skilled” with school subjects. Try this: “Goods at French”.',\n",
       "  5),\n",
       " ('The verb form ‘is’ does not seem to match the subject ‘exports’.', 3),\n",
       " ('Possible agreement error.', 3),\n",
       " ('The usual preposition for an exact address is “at”, not “on”. Did you mean “located at 1971 In St”?',\n",
       "  2),\n",
       " ('Please verify that the plural noun “hours” is in agreement with the quantifier “1”. Did you mean to use the singular form?',\n",
       "  2),\n",
       " ('The usual preposition for an exact address is “at”, not “on”. Did you mean “located at 1970 In St”?',\n",
       "  2),\n",
       " ('The verb form ‘increases’ does not seem to match the subject ‘withdrawals’.',\n",
       "  1),\n",
       " ('The verb form ‘is’ does not seem to match the subject ‘creditors’.', 1),\n",
       " ('The verb form ‘is’ does not seem to match the subject ‘imports’.', 1),\n",
       " ('Please verify that the plural noun “hectares” is in agreement with the quantifier “1”. Did you mean to use the singular form?',\n",
       "  1)]"
      ]
     },
     "execution_count": 12,
     "metadata": {},
     "output_type": "execute_result"
    }
   ],
   "source": [
    "ctr.most_common()"
   ]
  },
  {
   "cell_type": "code",
   "execution_count": null,
   "id": "f4f4aeb1-c468-4e3f-9b8d-957d9ad8127f",
   "metadata": {},
   "outputs": [],
   "source": []
  },
  {
   "cell_type": "code",
   "execution_count": null,
   "id": "2a1b9739-e328-4968-863f-bb01a611f2c1",
   "metadata": {},
   "outputs": [],
   "source": []
  },
  {
   "cell_type": "code",
   "execution_count": null,
   "id": "00f0506b-da24-4afa-9357-9f23c5c729fc",
   "metadata": {},
   "outputs": [],
   "source": []
  },
  {
   "cell_type": "code",
   "execution_count": null,
   "id": "fbf5b238-9879-4d70-b035-c2e2f1661a38",
   "metadata": {},
   "outputs": [],
   "source": []
  },
  {
   "cell_type": "code",
   "execution_count": 37,
   "id": "c01621a2-e021-411a-aac0-8ba144a3707b",
   "metadata": {},
   "outputs": [
    {
     "data": {
      "text/plain": [
       "{'_id': 13408,\n",
       " 'question_string': 'Across all years, what is the maximum arms imports ?',\n",
       " 'template': 'min_max',\n",
       " 'answer': '235000000',\n",
       " 'type': 'dot',\n",
       " 'template_id': 22,\n",
       " 'caption': 'The greatest arms imports across all years are 235000000.',\n",
       " 'matches': [{'message': 'You should probably use “import”.',\n",
       "   'shortMessage': 'Possible agreement error',\n",
       "   'replacements': [{'value': 'import'}],\n",
       "   'offset': 18,\n",
       "   'length': 7,\n",
       "   'context': {'text': 'The greatest arms imports across all years are 235000000.',\n",
       "    'offset': 18,\n",
       "    'length': 7},\n",
       "   'sentence': 'The greatest arms imports across all years are 235000000.',\n",
       "   'type': {'typeName': 'Other'},\n",
       "   'rule': {'id': 'AGREEMENT_SENT_START',\n",
       "    'subId': '4',\n",
       "    'sourceFile': 'grammar.xml',\n",
       "    'description': 'Possible agreement error: plural noun + singular verb',\n",
       "    'issueType': 'grammar',\n",
       "    'category': {'id': 'GRAMMAR', 'name': 'Grammar'}},\n",
       "   'ignoreForIncompleteSentence': True,\n",
       "   'contextForSureMatch': 4}]}"
      ]
     },
     "execution_count": 37,
     "metadata": {},
     "output_type": "execute_result"
    }
   ],
   "source": [
    "p_import = lt.filter_lt_messages(G, message='You should probably use “import”.')\n",
    "p_import[0]"
   ]
  },
  {
   "cell_type": "code",
   "execution_count": 40,
   "id": "479ee70d-ea31-4648-8d09-8e864064c670",
   "metadata": {},
   "outputs": [
    {
     "data": {
      "text/plain": [
       "{'writeErrors': [],\n",
       " 'writeConcernErrors': [],\n",
       " 'nInserted': 0,\n",
       " 'nUpserted': 0,\n",
       " 'nMatched': 233,\n",
       " 'nModified': 233,\n",
       " 'nRemoved': 0,\n",
       " 'upserted': []}"
      ]
     },
     "execution_count": 40,
     "metadata": {},
     "output_type": "execute_result"
    }
   ],
   "source": [
    "for t in p_import:\n",
    "    ig = t.get('ignore', [])\n",
    "    if 'AGREEMENT_SENT_START' not in ig:\n",
    "        ig.append('AGREEMENT_SENT_START')\n",
    "    t['ignore'] = ig\n",
    "\n",
    "    \n",
    "updates = [UpdateOne({'_id': r['_id']}, {'$set': {'ignore': r['ignore']}}) for r in p_import]\n",
    "wres = db.captions.bulk_write(updates)\n",
    "wres.bulk_api_result"
   ]
  },
  {
   "cell_type": "code",
   "execution_count": 41,
   "id": "dfaa3947-c892-4dce-b02a-58fdff40265c",
   "metadata": {},
   "outputs": [
    {
     "data": {
      "text/plain": [
       "[('The singular proper name ‘Republic’ must be used with a third-person or a past tense verb.',\n",
       "  1302),\n",
       " ('You should probably use “import”.', 233),\n",
       " ('The verb form ‘is’ does not seem to match the subject ‘withdrawals’.', 223),\n",
       " ('You should probably use “export”.', 210),\n",
       " ('With the plural noun ‘materials’, the verb inflection ‘exceeds’ is not correct.',\n",
       "  180),\n",
       " ('The verb form ‘differ’ does not seem to match the subject ‘population’.',\n",
       "  101),\n",
       " ('With the plural noun ‘countries’, the verb inflection ‘does’ is not correct.',\n",
       "  75),\n",
       " ('With the plural noun ‘services’, the verb inflection ‘does’ is not correct.',\n",
       "  71),\n",
       " ('With the plural noun ‘exports’, the verb inflection ‘exceeds’ is not correct.',\n",
       "  69),\n",
       " ('The verb form ‘differ’ does not seem to match the subject ‘rent’.', 64)]"
      ]
     },
     "execution_count": 41,
     "metadata": {},
     "output_type": "execute_result"
    }
   ],
   "source": [
    "ctr.most_common(10)"
   ]
  },
  {
   "cell_type": "code",
   "execution_count": 42,
   "id": "7036833a-e6de-40a2-930d-8d2b1ab65de1",
   "metadata": {},
   "outputs": [
    {
     "data": {
      "text/plain": [
       "{'_id': 13415,\n",
       " 'question_string': 'What is the average arms exports per year?',\n",
       " 'template': 'arithmetic',\n",
       " 'answer': 10400000.0,\n",
       " 'type': 'dot',\n",
       " 'template_id': 32,\n",
       " 'caption': 'The average arms exports per year are 10400000.0.',\n",
       " 'matches': [{'message': 'You should probably use “export”.',\n",
       "   'shortMessage': 'Possible agreement error',\n",
       "   'replacements': [{'value': 'export'}],\n",
       "   'offset': 17,\n",
       "   'length': 7,\n",
       "   'context': {'text': 'The average arms exports per year are 10400000.0.',\n",
       "    'offset': 17,\n",
       "    'length': 7},\n",
       "   'sentence': 'The average arms exports per year are 10400000.0.',\n",
       "   'type': {'typeName': 'Other'},\n",
       "   'rule': {'id': 'AGREEMENT_SENT_START',\n",
       "    'subId': '4',\n",
       "    'sourceFile': 'grammar.xml',\n",
       "    'description': 'Possible agreement error: plural noun + singular verb',\n",
       "    'issueType': 'grammar',\n",
       "    'category': {'id': 'GRAMMAR', 'name': 'Grammar'}},\n",
       "   'ignoreForIncompleteSentence': True,\n",
       "   'contextForSureMatch': 4}]}"
      ]
     },
     "execution_count": 42,
     "metadata": {},
     "output_type": "execute_result"
    }
   ],
   "source": [
    "export = lt.filter_lt_messages(G, message='You should probably use “export”.')\n",
    "export[0]"
   ]
  },
  {
   "cell_type": "code",
   "execution_count": 43,
   "id": "239b3cc1-6861-44f5-bda2-f0d5c4777b98",
   "metadata": {},
   "outputs": [
    {
     "data": {
      "text/plain": [
       "['The maximum arms exports across all years are 14000000.',\n",
       " 'The arms exports in High income: OECD are greater than that in Australia.',\n",
       " 'The greatest arms exports across all countries are 84000000.',\n",
       " 'The lowest arms exports across all countries are 25000000.',\n",
       " 'The average arms exports per country are 1286250000.0.',\n",
       " 'The metals exports in India and that is greater than the percentage of ores by -68.1533783624.',\n",
       " 'The average arms exports per country are 5211750000.0.',\n",
       " 'The services exports in 1962 in Niger and that is -2839199764.0 more than the Amount of goods.',\n",
       " 'The services exports in Mongolia in 2010 and that is -2717227169206.58 more than the Amount of goods.',\n",
       " 'The average arms exports per country are 85500000.0.']"
      ]
     },
     "execution_count": 43,
     "metadata": {},
     "output_type": "execute_result"
    }
   ],
   "source": [
    "[c['caption'] for c in random.choices(export, k=10)]"
   ]
  },
  {
   "cell_type": "code",
   "execution_count": 44,
   "id": "837c4434-4d2f-4927-bea5-f28d58177a5a",
   "metadata": {},
   "outputs": [
    {
     "data": {
      "text/plain": [
       "{'writeErrors': [],\n",
       " 'writeConcernErrors': [],\n",
       " 'nInserted': 0,\n",
       " 'nUpserted': 0,\n",
       " 'nMatched': 210,\n",
       " 'nModified': 210,\n",
       " 'nRemoved': 0,\n",
       " 'upserted': []}"
      ]
     },
     "execution_count": 44,
     "metadata": {},
     "output_type": "execute_result"
    }
   ],
   "source": [
    "for t in export:\n",
    "    ig = t.get('ignore', [])\n",
    "    if 'AGREEMENT_SENT_START' not in ig:\n",
    "        ig.append('AGREEMENT_SENT_START')\n",
    "    t['ignore'] = ig\n",
    "\n",
    "    \n",
    "updates = [UpdateOne({'_id': r['_id']}, {'$set': {'ignore': r['ignore']}}) for r in export]\n",
    "wres = db.captions.bulk_write(updates)\n",
    "wres.bulk_api_result"
   ]
  },
  {
   "cell_type": "code",
   "execution_count": 45,
   "id": "4fe4c850-c980-429d-b337-72e1b9d57a14",
   "metadata": {},
   "outputs": [
    {
     "data": {
      "text/plain": [
       "Counter({'With the plural noun ‘banks’, the verb inflection ‘is’ is not correct.': 168,\n",
       "         'With the plural noun ‘emissions’, the verb inflection ‘is’ is not correct.': 165,\n",
       "         'With the plural noun ‘emissions’, the verb inflection ‘does’ is not correct.': 4,\n",
       "         'With the plural noun ‘banks’, the verb inflection ‘does’ is not correct.': 6,\n",
       "         'With the plural noun ‘disbursements’, the verb inflection ‘is’ is not correct.': 87,\n",
       "         'With the plural noun ‘banks’, the verb inflection ‘grows’ is not correct.': 1,\n",
       "         'With the plural noun ‘services’, the verb inflection ‘does’ is not correct.': 71,\n",
       "         'With the plural noun ‘tourists’, the verb inflection ‘does’ is not correct.': 47,\n",
       "         'With the plural noun ‘securities’, the verb inflection ‘is’ is not correct.': 225,\n",
       "         'With the plural noun ‘securities’, the verb inflection ‘does’ is not correct.': 9,\n",
       "         'With the plural noun ‘visitors’, the verb inflection ‘is’ is not correct.': 128,\n",
       "         'With the plural noun ‘repayments’, the verb inflection ‘is’ is not correct.': 183,\n",
       "         'With the plural noun ‘repayments’, the verb inflection ‘does’ is not correct.': 6,\n",
       "         'With the plural noun ‘institutions’, the verb inflection ‘is’ is not correct.': 271,\n",
       "         'With the plural noun ‘indices’, the verb inflection ‘is’ is not correct.': 22,\n",
       "         'With the plural noun ‘reserves’, the verb inflection ‘is’ is not correct.': 12,\n",
       "         'With the plural noun ‘withdrawals’, the verb inflection ‘is’ is not correct.': 17,\n",
       "         'With the plural noun ‘users’, the verb inflection ‘is’ is not correct.': 155,\n",
       "         'With the plural noun ‘services’, the verb inflection ‘grows’ is not correct.': 6,\n",
       "         'With the plural noun ‘stocks’, the verb inflection ‘is’ is not correct.': 17,\n",
       "         'With the plural noun ‘users’, the verb inflection ‘does’ is not correct.': 3,\n",
       "         'With the plural noun ‘tourists’, the verb inflection ‘grows’ is not correct.': 5,\n",
       "         'With the plural noun ‘regulations’, the verb inflection ‘is’ is not correct.': 10,\n",
       "         'With the plural noun ‘losses’, the verb inflection ‘is’ is not correct.': 41,\n",
       "         'With the plural noun ‘earnings’, the verb inflection ‘is’ is not correct.': 12,\n",
       "         'With the plural noun ‘payments’, the verb inflection ‘is’ is not correct.': 23,\n",
       "         'With the plural noun ‘savings’, the verb inflection ‘is’ is not correct.': 80,\n",
       "         'With the plural noun ‘customs’, the verb inflection ‘is’ is not correct.': 17,\n",
       "         'With the plural noun ‘users’, the verb inflection ‘grows’ is not correct.': 1,\n",
       "         'With the plural noun ‘countries’, the verb inflection ‘does’ is not correct.': 75,\n",
       "         'With the plural noun ‘schools’, the verb inflection ‘does’ is not correct.': 21,\n",
       "         'With the plural noun ‘schools’, the verb inflection ‘grows’ is not correct.': 5,\n",
       "         'With the plural noun ‘countries’, the verb inflection ‘grows’ is not correct.': 2,\n",
       "         'With the plural noun ‘residents’, the verb inflection ‘is’ is not correct.': 73,\n",
       "         'With the plural noun ‘residents’, the verb inflection ‘exceeds’ is not correct.': 3,\n",
       "         'With the plural noun ‘activities’, the verb inflection ‘is’ is not correct.': 130,\n",
       "         'With the plural noun ‘activities’, the verb inflection ‘exceeds’ is not correct.': 16,\n",
       "         'With the plural noun ‘exports’, the verb inflection ‘exceeds’ is not correct.': 69,\n",
       "         'With the plural noun ‘gains’, the verb inflection ‘exceeds’ is not correct.': 47,\n",
       "         'With the plural noun ‘children’, the verb inflection ‘is’ is not correct.': 65,\n",
       "         'With the plural noun ‘tourists’, the verb inflection ‘exceeds’ is not correct.': 38,\n",
       "         'With the plural noun ‘non-residents’, the verb inflection ‘is’ is not correct.': 73,\n",
       "         'With the plural noun ‘creditors’, the verb inflection ‘is’ is not correct.': 5,\n",
       "         'With the plural noun ‘industries’, the verb inflection ‘is’ is not correct.': 23,\n",
       "         'With the plural noun ‘non-residents’, the verb inflection ‘exceeds’ is not correct.': 8,\n",
       "         'With the plural noun ‘children’, the verb inflection ‘exceeds’ is not correct.': 11,\n",
       "         'With the plural noun ‘benefits’, the verb inflection ‘exceeds’ is not correct.': 19,\n",
       "         'With the plural noun ‘materials’, the verb inflection ‘exceeds’ is not correct.': 180,\n",
       "         'With the plural noun ‘expenses’, the verb inflection ‘is’ is not correct.': 69,\n",
       "         'With the plural noun ‘benefits’, the verb inflection ‘is’ is not correct.': 88,\n",
       "         'With the plural noun ‘metals’, the verb inflection ‘is’ is not correct.': 263,\n",
       "         'With the plural noun ‘births’, the verb inflection ‘is’ is not correct.': 142,\n",
       "         'With the plural noun ‘households’, the verb inflection ‘is’ is not correct.': 137,\n",
       "         'With the plural noun ‘sectors’, the verb inflection ‘is’ is not correct.': 25,\n",
       "         'With the plural noun ‘metals’, the verb inflection ‘exceeds’ is not correct.': 4,\n",
       "         'With the plural noun ‘firms’, the verb inflection ‘is’ is not correct.': 32,\n",
       "         'With the plural noun ‘states’, the verb inflection ‘is’ is not correct.': 6,\n",
       "         'With the plural noun ‘branches’, the verb inflection ‘is’ is not correct.': 3,\n",
       "         'With the plural noun ‘members’, the verb inflection ‘is’ is not correct.': 8,\n",
       "         'With the plural noun ‘personnel’, the verb inflection ‘is’ is not correct.': 1,\n",
       "         'With the plural noun ‘subscribers’, the verb inflection ‘is’ is not correct.': 1,\n",
       "         'With the plural noun ‘services’, the verb inflection ‘is’ is not correct.': 10,\n",
       "         'With the plural noun ‘members’, the verb inflection ‘exceeds’ is not correct.': 1})"
      ]
     },
     "execution_count": 45,
     "metadata": {},
     "output_type": "execute_result"
    }
   ],
   "source": [
    "infl = lt.filter_lt_messages(G, message='verb inflection')\n",
    "Counter([i['matches'][0]['message'] for i in infl])"
   ]
  },
  {
   "cell_type": "code",
   "execution_count": null,
   "id": "96dd73e0-ccbc-43bb-9170-c3cfacb3c1c2",
   "metadata": {},
   "outputs": [],
   "source": []
  },
  {
   "cell_type": "code",
   "execution_count": 20,
   "id": "c5b11e78-5b20-4f0f-b561-7771e05faf0d",
   "metadata": {},
   "outputs": [],
   "source": [
    "for doc in nlp.pipe(docs):\n",
    "    assert lt.has_agreement(*lt.find_root_nsubj(doc))"
   ]
  },
  {
   "cell_type": "code",
   "execution_count": 8,
   "id": "6822f1ce-0d9e-43a9-8ba7-154eb2b986b5",
   "metadata": {},
   "outputs": [
    {
     "data": {
      "text/html": [
       "<div>\n",
       "<style scoped>\n",
       "    .dataframe tbody tr th:only-of-type {\n",
       "        vertical-align: middle;\n",
       "    }\n",
       "\n",
       "    .dataframe tbody tr th {\n",
       "        vertical-align: top;\n",
       "    }\n",
       "\n",
       "    .dataframe thead th {\n",
       "        text-align: right;\n",
       "    }\n",
       "</style>\n",
       "<table border=\"1\" class=\"dataframe\">\n",
       "  <thead>\n",
       "    <tr style=\"text-align: right;\">\n",
       "      <th></th>\n",
       "      <th>qid</th>\n",
       "      <th>root</th>\n",
       "      <th>nsubj</th>\n",
       "    </tr>\n",
       "  </thead>\n",
       "  <tbody>\n",
       "    <tr>\n",
       "      <th>2239</th>\n",
       "      <td>3115452</td>\n",
       "      <td>is</td>\n",
       "      <td>OECD</td>\n",
       "    </tr>\n",
       "  </tbody>\n",
       "</table>\n",
       "</div>"
      ],
      "text/plain": [
       "          qid root nsubj\n",
       "2239  3115452   is  OECD"
      ]
     },
     "execution_count": 8,
     "metadata": {},
     "output_type": "execute_result"
    }
   ],
   "source": [
    "pairs[pairs['nsubj'] == 'OECD']"
   ]
  },
  {
   "cell_type": "code",
   "execution_count": null,
   "id": "4ce1bf53-86f8-4cf8-a643-fb1c55798e10",
   "metadata": {},
   "outputs": [],
   "source": []
  },
  {
   "cell_type": "code",
   "execution_count": 17,
   "id": "05bad568-fdbf-4db8-9e67-da732f72d8a1",
   "metadata": {},
   "outputs": [],
   "source": [
    "words = lt.get_repl_values(repeat)\n",
    "for k in repeat:\n",
    "    msg = k['caption']\n",
    "    for word in words:\n",
    "        msg = re.sub(f'\\\\b{word} {word}\\\\b', f'{word}', msg, flags=re.IGNORECASE)\n",
    "    k['caption'] = msg"
   ]
  },
  {
   "cell_type": "code",
   "execution_count": 18,
   "id": "3013c856-2039-4ee0-b71a-8f388c2685e3",
   "metadata": {
    "scrolled": true,
    "tags": []
   },
   "outputs": [
    {
     "name": "stderr",
     "output_type": "stream",
     "text": [
      "[Parallel(n_jobs=-1)]: Using backend LokyBackend with 16 concurrent workers.\n",
      "2023-03-21 11:47:55.787151: W tensorflow/compiler/xla/stream_executor/platform/default/dso_loader.cc:64] Could not load dynamic library 'libnvinfer.so.7'; dlerror: libnvinfer.so.7: cannot open shared object file: No such file or directory\n",
      "2023-03-21 11:47:55.787560: W tensorflow/compiler/xla/stream_executor/platform/default/dso_loader.cc:64] Could not load dynamic library 'libnvinfer_plugin.so.7'; dlerror: libnvinfer_plugin.so.7: cannot open shared object file: No such file or directory\n",
      "2023-03-21 11:47:55.787582: W tensorflow/compiler/tf2tensorrt/utils/py_utils.cc:38] TF-TRT Warning: Cannot dlopen some TensorRT libraries. If you would like to use Nvidia GPU with TensorRT, please make sure the missing libraries mentioned above are installed properly.\n",
      "2023-03-21 11:47:55.840225: W tensorflow/compiler/xla/stream_executor/platform/default/dso_loader.cc:64] Could not load dynamic library 'libnvinfer.so.7'; dlerror: libnvinfer.so.7: cannot open shared object file: No such file or directory\n",
      "2023-03-21 11:47:55.840447: W tensorflow/compiler/xla/stream_executor/platform/default/dso_loader.cc:64] Could not load dynamic library 'libnvinfer_plugin.so.7'; dlerror: libnvinfer_plugin.so.7: cannot open shared object file: No such file or directory\n",
      "2023-03-21 11:47:55.840479: W tensorflow/compiler/tf2tensorrt/utils/py_utils.cc:38] TF-TRT Warning: Cannot dlopen some TensorRT libraries. If you would like to use Nvidia GPU with TensorRT, please make sure the missing libraries mentioned above are installed properly.\n",
      "2023-03-21 11:47:55.846289: W tensorflow/compiler/xla/stream_executor/platform/default/dso_loader.cc:64] Could not load dynamic library 'libnvinfer.so.7'; dlerror: libnvinfer.so.7: cannot open shared object file: No such file or directory\n",
      "2023-03-21 11:47:55.846483: W tensorflow/compiler/xla/stream_executor/platform/default/dso_loader.cc:64] Could not load dynamic library 'libnvinfer_plugin.so.7'; dlerror: libnvinfer_plugin.so.7: cannot open shared object file: No such file or directory\n",
      "2023-03-21 11:47:55.846519: W tensorflow/compiler/tf2tensorrt/utils/py_utils.cc:38] TF-TRT Warning: Cannot dlopen some TensorRT libraries. If you would like to use Nvidia GPU with TensorRT, please make sure the missing libraries mentioned above are installed properly.\n",
      "2023-03-21 11:47:55.867312: W tensorflow/compiler/xla/stream_executor/platform/default/dso_loader.cc:64] Could not load dynamic library 'libnvinfer.so.7'; dlerror: libnvinfer.so.7: cannot open shared object file: No such file or directory\n",
      "2023-03-21 11:47:55.867493: W tensorflow/compiler/xla/stream_executor/platform/default/dso_loader.cc:64] Could not load dynamic library 'libnvinfer_plugin.so.7'; dlerror: libnvinfer_plugin.so.7: cannot open shared object file: No such file or directory\n",
      "2023-03-21 11:47:55.867539: W tensorflow/compiler/tf2tensorrt/utils/py_utils.cc:38] TF-TRT Warning: Cannot dlopen some TensorRT libraries. If you would like to use Nvidia GPU with TensorRT, please make sure the missing libraries mentioned above are installed properly.\n",
      "2023-03-21 11:47:55.871245: W tensorflow/compiler/xla/stream_executor/platform/default/dso_loader.cc:64] Could not load dynamic library 'libnvinfer.so.7'; dlerror: libnvinfer.so.7: cannot open shared object file: No such file or directory\n",
      "2023-03-21 11:47:55.871431: W tensorflow/compiler/xla/stream_executor/platform/default/dso_loader.cc:64] Could not load dynamic library 'libnvinfer_plugin.so.7'; dlerror: libnvinfer_plugin.so.7: cannot open shared object file: No such file or directory\n",
      "2023-03-21 11:47:55.871469: W tensorflow/compiler/tf2tensorrt/utils/py_utils.cc:38] TF-TRT Warning: Cannot dlopen some TensorRT libraries. If you would like to use Nvidia GPU with TensorRT, please make sure the missing libraries mentioned above are installed properly.\n",
      "2023-03-21 11:47:55.879514: W tensorflow/compiler/xla/stream_executor/platform/default/dso_loader.cc:64] Could not load dynamic library 'libnvinfer.so.7'; dlerror: libnvinfer.so.7: cannot open shared object file: No such file or directory\n",
      "2023-03-21 11:47:55.879684: W tensorflow/compiler/xla/stream_executor/platform/default/dso_loader.cc:64] Could not load dynamic library 'libnvinfer_plugin.so.7'; dlerror: libnvinfer_plugin.so.7: cannot open shared object file: No such file or directory\n",
      "2023-03-21 11:47:55.879721: W tensorflow/compiler/tf2tensorrt/utils/py_utils.cc:38] TF-TRT Warning: Cannot dlopen some TensorRT libraries. If you would like to use Nvidia GPU with TensorRT, please make sure the missing libraries mentioned above are installed properly.\n",
      "2023-03-21 11:47:55.882622: W tensorflow/compiler/xla/stream_executor/platform/default/dso_loader.cc:64] Could not load dynamic library 'libnvinfer.so.7'; dlerror: libnvinfer.so.7: cannot open shared object file: No such file or directory\n",
      "2023-03-21 11:47:55.883248: W tensorflow/compiler/xla/stream_executor/platform/default/dso_loader.cc:64] Could not load dynamic library 'libnvinfer_plugin.so.7'; dlerror: libnvinfer_plugin.so.7: cannot open shared object file: No such file or directory\n",
      "2023-03-21 11:47:55.883455: W tensorflow/compiler/tf2tensorrt/utils/py_utils.cc:38] TF-TRT Warning: Cannot dlopen some TensorRT libraries. If you would like to use Nvidia GPU with TensorRT, please make sure the missing libraries mentioned above are installed properly.\n",
      "2023-03-21 11:47:55.891762: W tensorflow/compiler/xla/stream_executor/platform/default/dso_loader.cc:64] Could not load dynamic library 'libnvinfer.so.7'; dlerror: libnvinfer.so.7: cannot open shared object file: No such file or directory\n",
      "2023-03-21 11:47:55.891927: W tensorflow/compiler/xla/stream_executor/platform/default/dso_loader.cc:64] Could not load dynamic library 'libnvinfer_plugin.so.7'; dlerror: libnvinfer_plugin.so.7: cannot open shared object file: No such file or directory\n",
      "2023-03-21 11:47:55.891961: W tensorflow/compiler/tf2tensorrt/utils/py_utils.cc:38] TF-TRT Warning: Cannot dlopen some TensorRT libraries. If you would like to use Nvidia GPU with TensorRT, please make sure the missing libraries mentioned above are installed properly.\n",
      "2023-03-21 11:47:55.896494: W tensorflow/compiler/xla/stream_executor/platform/default/dso_loader.cc:64] Could not load dynamic library 'libnvinfer.so.7'; dlerror: libnvinfer.so.7: cannot open shared object file: No such file or directory\n",
      "2023-03-21 11:47:55.896728: W tensorflow/compiler/xla/stream_executor/platform/default/dso_loader.cc:64] Could not load dynamic library 'libnvinfer_plugin.so.7'; dlerror: libnvinfer_plugin.so.7: cannot open shared object file: No such file or directory\n",
      "2023-03-21 11:47:55.896791: W tensorflow/compiler/tf2tensorrt/utils/py_utils.cc:38] TF-TRT Warning: Cannot dlopen some TensorRT libraries. If you would like to use Nvidia GPU with TensorRT, please make sure the missing libraries mentioned above are installed properly.\n",
      "2023-03-21 11:47:55.911435: W tensorflow/compiler/xla/stream_executor/platform/default/dso_loader.cc:64] Could not load dynamic library 'libnvinfer.so.7'; dlerror: libnvinfer.so.7: cannot open shared object file: No such file or directory\n",
      "2023-03-21 11:47:55.911586: W tensorflow/compiler/xla/stream_executor/platform/default/dso_loader.cc:64] Could not load dynamic library 'libnvinfer_plugin.so.7'; dlerror: libnvinfer_plugin.so.7: cannot open shared object file: No such file or directory\n",
      "2023-03-21 11:47:55.911620: W tensorflow/compiler/tf2tensorrt/utils/py_utils.cc:38] TF-TRT Warning: Cannot dlopen some TensorRT libraries. If you would like to use Nvidia GPU with TensorRT, please make sure the missing libraries mentioned above are installed properly.\n",
      "2023-03-21 11:47:55.946519: W tensorflow/compiler/xla/stream_executor/platform/default/dso_loader.cc:64] Could not load dynamic library 'libnvinfer.so.7'; dlerror: libnvinfer.so.7: cannot open shared object file: No such file or directory\n",
      "2023-03-21 11:47:55.946685: W tensorflow/compiler/xla/stream_executor/platform/default/dso_loader.cc:64] Could not load dynamic library 'libnvinfer_plugin.so.7'; dlerror: libnvinfer_plugin.so.7: cannot open shared object file: No such file or directory\n",
      "2023-03-21 11:47:55.946722: W tensorflow/compiler/tf2tensorrt/utils/py_utils.cc:38] TF-TRT Warning: Cannot dlopen some TensorRT libraries. If you would like to use Nvidia GPU with TensorRT, please make sure the missing libraries mentioned above are installed properly.\n",
      "2023-03-21 11:47:55.952923: W tensorflow/compiler/xla/stream_executor/platform/default/dso_loader.cc:64] Could not load dynamic library 'libnvinfer.so.7'; dlerror: libnvinfer.so.7: cannot open shared object file: No such file or directory\n",
      "2023-03-21 11:47:55.953072: W tensorflow/compiler/xla/stream_executor/platform/default/dso_loader.cc:64] Could not load dynamic library 'libnvinfer_plugin.so.7'; dlerror: libnvinfer_plugin.so.7: cannot open shared object file: No such file or directory\n",
      "2023-03-21 11:47:55.953105: W tensorflow/compiler/tf2tensorrt/utils/py_utils.cc:38] TF-TRT Warning: Cannot dlopen some TensorRT libraries. If you would like to use Nvidia GPU with TensorRT, please make sure the missing libraries mentioned above are installed properly.\n",
      "2023-03-21 11:47:55.958574: W tensorflow/compiler/xla/stream_executor/platform/default/dso_loader.cc:64] Could not load dynamic library 'libnvinfer.so.7'; dlerror: libnvinfer.so.7: cannot open shared object file: No such file or directory\n",
      "2023-03-21 11:47:55.958708: W tensorflow/compiler/xla/stream_executor/platform/default/dso_loader.cc:64] Could not load dynamic library 'libnvinfer.so.7'; dlerror: libnvinfer.so.7: cannot open shared object file: No such file or directory\n",
      "2023-03-21 11:47:55.958745: W tensorflow/compiler/xla/stream_executor/platform/default/dso_loader.cc:64] Could not load dynamic library 'libnvinfer_plugin.so.7'; dlerror: libnvinfer_plugin.so.7: cannot open shared object file: No such file or directory\n",
      "2023-03-21 11:47:55.958778: W tensorflow/compiler/tf2tensorrt/utils/py_utils.cc:38] TF-TRT Warning: Cannot dlopen some TensorRT libraries. If you would like to use Nvidia GPU with TensorRT, please make sure the missing libraries mentioned above are installed properly.\n",
      "2023-03-21 11:47:55.958824: W tensorflow/compiler/xla/stream_executor/platform/default/dso_loader.cc:64] Could not load dynamic library 'libnvinfer_plugin.so.7'; dlerror: libnvinfer_plugin.so.7: cannot open shared object file: No such file or directory\n",
      "2023-03-21 11:47:55.958856: W tensorflow/compiler/tf2tensorrt/utils/py_utils.cc:38] TF-TRT Warning: Cannot dlopen some TensorRT libraries. If you would like to use Nvidia GPU with TensorRT, please make sure the missing libraries mentioned above are installed properly.\n",
      "2023-03-21 11:47:56.019807: W tensorflow/compiler/xla/stream_executor/platform/default/dso_loader.cc:64] Could not load dynamic library 'libnvinfer.so.7'; dlerror: libnvinfer.so.7: cannot open shared object file: No such file or directory\n",
      "2023-03-21 11:47:56.020016: W tensorflow/compiler/xla/stream_executor/platform/default/dso_loader.cc:64] Could not load dynamic library 'libnvinfer_plugin.so.7'; dlerror: libnvinfer_plugin.so.7: cannot open shared object file: No such file or directory\n",
      "2023-03-21 11:47:56.020026: W tensorflow/compiler/tf2tensorrt/utils/py_utils.cc:38] TF-TRT Warning: Cannot dlopen some TensorRT libraries. If you would like to use Nvidia GPU with TensorRT, please make sure the missing libraries mentioned above are installed properly.\n",
      "2023-03-21 11:47:56.054074: W tensorflow/compiler/xla/stream_executor/platform/default/dso_loader.cc:64] Could not load dynamic library 'libnvinfer.so.7'; dlerror: libnvinfer.so.7: cannot open shared object file: No such file or directory\n",
      "2023-03-21 11:47:56.054204: W tensorflow/compiler/xla/stream_executor/platform/default/dso_loader.cc:64] Could not load dynamic library 'libnvinfer_plugin.so.7'; dlerror: libnvinfer_plugin.so.7: cannot open shared object file: No such file or directory\n",
      "2023-03-21 11:47:56.054238: W tensorflow/compiler/tf2tensorrt/utils/py_utils.cc:38] TF-TRT Warning: Cannot dlopen some TensorRT libraries. If you would like to use Nvidia GPU with TensorRT, please make sure the missing libraries mentioned above are installed properly.\n",
      "2023-03-21 11:47:57.625143: W tensorflow/compiler/xla/stream_executor/platform/default/dso_loader.cc:64] Could not load dynamic library 'libcusolver.so.11'; dlerror: libcusolver.so.11: cannot open shared object file: No such file or directory\n",
      "2023-03-21 11:47:57.625242: W tensorflow/core/common_runtime/gpu/gpu_device.cc:1934] Cannot dlopen some GPU libraries. Please make sure the missing libraries mentioned above are installed properly if you would like to use GPU. Follow the guide at https://www.tensorflow.org/install/gpu for how to download and setup the required libraries for your platform.\n",
      "Skipping registering GPU devices...\n",
      "2023-03-21 11:47:57.691965: W tensorflow/compiler/xla/stream_executor/platform/default/dso_loader.cc:64] Could not load dynamic library 'libcusolver.so.11'; dlerror: libcusolver.so.11: cannot open shared object file: No such file or directory\n",
      "2023-03-21 11:47:57.692163: W tensorflow/core/common_runtime/gpu/gpu_device.cc:1934] Cannot dlopen some GPU libraries. Please make sure the missing libraries mentioned above are installed properly if you would like to use GPU. Follow the guide at https://www.tensorflow.org/install/gpu for how to download and setup the required libraries for your platform.\n",
      "Skipping registering GPU devices...\n",
      "2023-03-21 11:47:57.694766: W tensorflow/compiler/xla/stream_executor/platform/default/dso_loader.cc:64] Could not load dynamic library 'libcusolver.so.11'; dlerror: libcusolver.so.11: cannot open shared object file: No such file or directory\n",
      "2023-03-21 11:47:57.695331: W tensorflow/core/common_runtime/gpu/gpu_device.cc:1934] Cannot dlopen some GPU libraries. Please make sure the missing libraries mentioned above are installed properly if you would like to use GPU. Follow the guide at https://www.tensorflow.org/install/gpu for how to download and setup the required libraries for your platform.\n",
      "Skipping registering GPU devices...\n",
      "2023-03-21 11:47:57.765754: W tensorflow/compiler/xla/stream_executor/platform/default/dso_loader.cc:64] Could not load dynamic library 'libcusolver.so.11'; dlerror: libcusolver.so.11: cannot open shared object file: No such file or directory\n",
      "2023-03-21 11:47:57.765966: W tensorflow/core/common_runtime/gpu/gpu_device.cc:1934] Cannot dlopen some GPU libraries. Please make sure the missing libraries mentioned above are installed properly if you would like to use GPU. Follow the guide at https://www.tensorflow.org/install/gpu for how to download and setup the required libraries for your platform.\n",
      "Skipping registering GPU devices...\n",
      "2023-03-21 11:47:57.799720: W tensorflow/compiler/xla/stream_executor/platform/default/dso_loader.cc:64] Could not load dynamic library 'libcusolver.so.11'; dlerror: libcusolver.so.11: cannot open shared object file: No such file or directory\n",
      "2023-03-21 11:47:57.799880: W tensorflow/core/common_runtime/gpu/gpu_device.cc:1934] Cannot dlopen some GPU libraries. Please make sure the missing libraries mentioned above are installed properly if you would like to use GPU. Follow the guide at https://www.tensorflow.org/install/gpu for how to download and setup the required libraries for your platform.\n",
      "Skipping registering GPU devices...\n",
      "2023-03-21 11:47:57.812395: W tensorflow/compiler/xla/stream_executor/platform/default/dso_loader.cc:64] Could not load dynamic library 'libcusolver.so.11'; dlerror: libcusolver.so.11: cannot open shared object file: No such file or directory\n",
      "2023-03-21 11:47:57.812565: W tensorflow/core/common_runtime/gpu/gpu_device.cc:1934] Cannot dlopen some GPU libraries. Please make sure the missing libraries mentioned above are installed properly if you would like to use GPU. Follow the guide at https://www.tensorflow.org/install/gpu for how to download and setup the required libraries for your platform.\n",
      "Skipping registering GPU devices...\n",
      "2023-03-21 11:47:57.854497: W tensorflow/compiler/xla/stream_executor/platform/default/dso_loader.cc:64] Could not load dynamic library 'libcusolver.so.11'; dlerror: libcusolver.so.11: cannot open shared object file: No such file or directory\n",
      "2023-03-21 11:47:57.854632: W tensorflow/core/common_runtime/gpu/gpu_device.cc:1934] Cannot dlopen some GPU libraries. Please make sure the missing libraries mentioned above are installed properly if you would like to use GPU. Follow the guide at https://www.tensorflow.org/install/gpu for how to download and setup the required libraries for your platform.\n",
      "Skipping registering GPU devices...\n",
      "2023-03-21 11:47:57.869937: W tensorflow/compiler/xla/stream_executor/platform/default/dso_loader.cc:64] Could not load dynamic library 'libcusolver.so.11'; dlerror: libcusolver.so.11: cannot open shared object file: No such file or directory\n",
      "2023-03-21 11:47:57.870044: W tensorflow/core/common_runtime/gpu/gpu_device.cc:1934] Cannot dlopen some GPU libraries. Please make sure the missing libraries mentioned above are installed properly if you would like to use GPU. Follow the guide at https://www.tensorflow.org/install/gpu for how to download and setup the required libraries for your platform.\n",
      "Skipping registering GPU devices...\n",
      "2023-03-21 11:47:57.871182: W tensorflow/compiler/xla/stream_executor/platform/default/dso_loader.cc:64] Could not load dynamic library 'libcusolver.so.11'; dlerror: libcusolver.so.11: cannot open shared object file: No such file or directory\n",
      "2023-03-21 11:47:57.871271: W tensorflow/core/common_runtime/gpu/gpu_device.cc:1934] Cannot dlopen some GPU libraries. Please make sure the missing libraries mentioned above are installed properly if you would like to use GPU. Follow the guide at https://www.tensorflow.org/install/gpu for how to download and setup the required libraries for your platform.\n",
      "Skipping registering GPU devices...\n",
      "2023-03-21 11:47:57.875321: W tensorflow/compiler/xla/stream_executor/platform/default/dso_loader.cc:64] Could not load dynamic library 'libcusolver.so.11'; dlerror: libcusolver.so.11: cannot open shared object file: No such file or directory\n",
      "2023-03-21 11:47:57.875520: W tensorflow/core/common_runtime/gpu/gpu_device.cc:1934] Cannot dlopen some GPU libraries. Please make sure the missing libraries mentioned above are installed properly if you would like to use GPU. Follow the guide at https://www.tensorflow.org/install/gpu for how to download and setup the required libraries for your platform.\n",
      "Skipping registering GPU devices...\n",
      "2023-03-21 11:47:57.894261: W tensorflow/compiler/xla/stream_executor/platform/default/dso_loader.cc:64] Could not load dynamic library 'libcusolver.so.11'; dlerror: libcusolver.so.11: cannot open shared object file: No such file or directory\n",
      "2023-03-21 11:47:57.894374: W tensorflow/core/common_runtime/gpu/gpu_device.cc:1934] Cannot dlopen some GPU libraries. Please make sure the missing libraries mentioned above are installed properly if you would like to use GPU. Follow the guide at https://www.tensorflow.org/install/gpu for how to download and setup the required libraries for your platform.\n",
      "Skipping registering GPU devices...\n",
      "2023-03-21 11:47:57.904173: W tensorflow/compiler/xla/stream_executor/platform/default/dso_loader.cc:64] Could not load dynamic library 'libcusolver.so.11'; dlerror: libcusolver.so.11: cannot open shared object file: No such file or directory\n",
      "2023-03-21 11:47:57.904364: W tensorflow/core/common_runtime/gpu/gpu_device.cc:1934] Cannot dlopen some GPU libraries. Please make sure the missing libraries mentioned above are installed properly if you would like to use GPU. Follow the guide at https://www.tensorflow.org/install/gpu for how to download and setup the required libraries for your platform.\n",
      "Skipping registering GPU devices...\n",
      "2023-03-21 11:47:57.948144: W tensorflow/compiler/xla/stream_executor/platform/default/dso_loader.cc:64] Could not load dynamic library 'libcusolver.so.11'; dlerror: libcusolver.so.11: cannot open shared object file: No such file or directory\n",
      "2023-03-21 11:47:57.948343: W tensorflow/core/common_runtime/gpu/gpu_device.cc:1934] Cannot dlopen some GPU libraries. Please make sure the missing libraries mentioned above are installed properly if you would like to use GPU. Follow the guide at https://www.tensorflow.org/install/gpu for how to download and setup the required libraries for your platform.\n",
      "Skipping registering GPU devices...\n",
      "2023-03-21 11:47:57.955911: W tensorflow/compiler/xla/stream_executor/platform/default/dso_loader.cc:64] Could not load dynamic library 'libcusolver.so.11'; dlerror: libcusolver.so.11: cannot open shared object file: No such file or directory\n",
      "2023-03-21 11:47:57.956099: W tensorflow/core/common_runtime/gpu/gpu_device.cc:1934] Cannot dlopen some GPU libraries. Please make sure the missing libraries mentioned above are installed properly if you would like to use GPU. Follow the guide at https://www.tensorflow.org/install/gpu for how to download and setup the required libraries for your platform.\n",
      "Skipping registering GPU devices...\n",
      "2023-03-21 11:47:57.973512: W tensorflow/compiler/xla/stream_executor/platform/default/dso_loader.cc:64] Could not load dynamic library 'libcusolver.so.11'; dlerror: libcusolver.so.11: cannot open shared object file: No such file or directory\n",
      "2023-03-21 11:47:57.973712: W tensorflow/core/common_runtime/gpu/gpu_device.cc:1934] Cannot dlopen some GPU libraries. Please make sure the missing libraries mentioned above are installed properly if you would like to use GPU. Follow the guide at https://www.tensorflow.org/install/gpu for how to download and setup the required libraries for your platform.\n",
      "Skipping registering GPU devices...\n",
      "2023-03-21 11:47:58.114276: W tensorflow/compiler/xla/stream_executor/platform/default/dso_loader.cc:64] Could not load dynamic library 'libcusolver.so.11'; dlerror: libcusolver.so.11: cannot open shared object file: No such file or directory\n",
      "2023-03-21 11:47:58.114605: W tensorflow/core/common_runtime/gpu/gpu_device.cc:1934] Cannot dlopen some GPU libraries. Please make sure the missing libraries mentioned above are installed properly if you would like to use GPU. Follow the guide at https://www.tensorflow.org/install/gpu for how to download and setup the required libraries for your platform.\n",
      "Skipping registering GPU devices...\n",
      "[Parallel(n_jobs=-1)]: Done   9 tasks      | elapsed:    8.6s\n",
      "[Parallel(n_jobs=-1)]: Done 168 tasks      | elapsed:    9.5s\n",
      "[Parallel(n_jobs=-1)]: Done 816 out of 847 | elapsed:   10.9s remaining:    0.4s\n",
      "[Parallel(n_jobs=-1)]: Done 847 out of 847 | elapsed:   10.9s finished\n"
     ]
    },
    {
     "data": {
      "text/plain": [
       "0"
      ]
     },
     "execution_count": 18,
     "metadata": {},
     "output_type": "execute_result"
    }
   ],
   "source": [
    "res = Parallel(n_jobs=-1, verbose=2)(delayed(lt.process)(r['_id'], r['caption'], r.get('ignore')) for r in repeat)\n",
    "len([g for g in res if len(g['matches']) > 0])"
   ]
  },
  {
   "cell_type": "code",
   "execution_count": 19,
   "id": "e067e087-d5fb-4cf4-a1d4-b78400c27659",
   "metadata": {},
   "outputs": [
    {
     "data": {
      "text/plain": [
       "{'writeErrors': [],\n",
       " 'writeConcernErrors': [],\n",
       " 'nInserted': 0,\n",
       " 'nUpserted': 0,\n",
       " 'nMatched': 847,\n",
       " 'nModified': 847,\n",
       " 'nRemoved': 0,\n",
       " 'upserted': []}"
      ]
     },
     "execution_count": 19,
     "metadata": {},
     "output_type": "execute_result"
    }
   ],
   "source": [
    "updates = [UpdateOne({'_id': r['_id']}, {'$set': {'caption': r['caption']}}) for r in repeat]\n",
    "wres = db.captions.bulk_write(updates)\n",
    "wres.bulk_api_result"
   ]
  },
  {
   "cell_type": "code",
   "execution_count": 20,
   "id": "f01bf21a-b017-49d9-83e0-9314494cc996",
   "metadata": {},
   "outputs": [
    {
     "data": {
      "text/plain": [
       "{'_id': 142801,\n",
       " 'question_string': 'In the year 1999, what is the difference between the percentage of revenue generated by grants and percentage of revenue generated by interest ?',\n",
       " 'template': 'arithmetic',\n",
       " 'answer': 11.5996389009,\n",
       " 'type': 'dot',\n",
       " 'template_id': 42,\n",
       " 'caption': 'The percentage of revenue generated by grants is greater than the percentage of revenue generated by interest by 11.5996389009 in the year 1999.',\n",
       " 'matches': [{'message': 'The usual collocation for “interest” is “in”, not “by”.',\n",
       "   'shortMessage': 'Collocation error',\n",
       "   'replacements': [{'value': 'interest in'}],\n",
       "   'offset': 101,\n",
       "   'length': 11,\n",
       "   'context': {'text': '... the percentage of revenue generated by interest by 11.5996389009 in the year 1999.',\n",
       "    'offset': 43,\n",
       "    'length': 11},\n",
       "   'sentence': 'The percentage of revenue generated by grants is greater than the percentage of revenue generated by interest by 11.5996389009 in the year 1999.',\n",
       "   'type': {'typeName': 'Other'},\n",
       "   'rule': {'id': 'INTERESTED_BY',\n",
       "    'subId': '155',\n",
       "    'sourceFile': 'grammar.xml',\n",
       "    'description': 'Collocation: interested by/in',\n",
       "    'issueType': 'grammar',\n",
       "    'category': {'id': 'COLLOCATIONS', 'name': 'Collocations'}},\n",
       "   'ignoreForIncompleteSentence': False,\n",
       "   'contextForSureMatch': 3}]}"
      ]
     },
     "execution_count": 20,
     "metadata": {},
     "output_type": "execute_result"
    }
   ],
   "source": [
    "interest = lt.filter_lt_messages(G, message='The usual collocation for “Interest” is “in”, not “by”.')\n",
    "interest[0]"
   ]
  },
  {
   "cell_type": "code",
   "execution_count": 21,
   "id": "6e8251aa-dc89-4d36-b1ed-964ea886964c",
   "metadata": {},
   "outputs": [],
   "source": [
    "import random"
   ]
  },
  {
   "cell_type": "code",
   "execution_count": 23,
   "id": "af5031b3-42c3-4ebf-9277-5dbdb5acf10b",
   "metadata": {},
   "outputs": [
    {
     "data": {
      "text/plain": [
       "['The Revenue generated (in %) of Afghanistan in Grants is greater than that in Interest by a factor of 3655.7716.',\n",
       " 'The Revenue generated (in %) of the Bahamas in Taxes is less than the Revenue generated (in %) of South Asia in Interest by 4.2596.',\n",
       " 'The Revenue generated (in %) of Taxes is less than the Revenue generated (in %) of Interest by 5.5673 in 2010.',\n",
       " 'In 2004, the Revenue generated (in %) of Grants is less than the Revenue generated (in %) of Interest by -11.7091.',\n",
       " 'In 1996, the Revenue generated (in %) of Taxes is less than the Revenue generated (in %) of Interest by 8.0772.']"
      ]
     },
     "execution_count": 23,
     "metadata": {},
     "output_type": "execute_result"
    }
   ],
   "source": [
    "random.choices([c['caption'] for c in interest], k=5)"
   ]
  },
  {
   "cell_type": "code",
   "execution_count": 24,
   "id": "82a15c86-f53b-4095-a0fd-68e0ca41cc3f",
   "metadata": {},
   "outputs": [
    {
     "data": {
      "text/plain": [
       "True"
      ]
     },
     "execution_count": 24,
     "metadata": {},
     "output_type": "execute_result"
    }
   ],
   "source": [
    "all(['interest by ' in c['caption'].lower() for c in interest])"
   ]
  },
  {
   "cell_type": "code",
   "execution_count": 29,
   "id": "74ff88e3-82ad-4379-a79e-32c42e285d9c",
   "metadata": {},
   "outputs": [],
   "source": [
    "in_interest = [re.sub(r'\\b(?P<word>interest) by\\b', r'\\1 in', c['caption'], flags=re.IGNORECASE) for c in interest]"
   ]
  },
  {
   "cell_type": "code",
   "execution_count": 30,
   "id": "925a4a9b-c5bb-424d-83f4-4952d442f24f",
   "metadata": {
    "scrolled": true,
    "tags": []
   },
   "outputs": [
    {
     "name": "stderr",
     "output_type": "stream",
     "text": [
      "[Parallel(n_jobs=-1)]: Using backend LokyBackend with 16 concurrent workers.\n",
      "[Parallel(n_jobs=-1)]: Done   9 tasks      | elapsed:    0.0s\n",
      "[Parallel(n_jobs=-1)]: Done 496 tasks      | elapsed:    0.7s\n",
      "[Parallel(n_jobs=-1)]: Done 828 out of 828 | elapsed:    1.1s finished\n"
     ]
    }
   ],
   "source": [
    "res = Parallel(n_jobs=-1, verbose=2)(delayed(lt.process)(None, c, None) for c in in_interest)"
   ]
  },
  {
   "cell_type": "code",
   "execution_count": 31,
   "id": "5b1b4398-b6c7-43e2-8f38-c3f8eb06c6ca",
   "metadata": {},
   "outputs": [
    {
     "data": {
      "text/plain": [
       "[]"
      ]
     },
     "execution_count": 31,
     "metadata": {},
     "output_type": "execute_result"
    }
   ],
   "source": [
    "res = [c for c in res if len(c['matches']) > 0]\n",
    "res"
   ]
  },
  {
   "cell_type": "code",
   "execution_count": 43,
   "id": "238b4af8-94a8-4a3d-a51f-170b28225cde",
   "metadata": {},
   "outputs": [],
   "source": [
    "for doc in nlp.pipe([c['caption'] for c in interest]):\n",
    "    root = [c for c in doc if c.dep_ == 'ROOT'][0]\n",
    "    has_comparisons = len([c for c in root.children if c.dep_ == 'acomp']) > 0\n",
    "    exceeds = root.text == 'exceeds'\n",
    "    assert has_comparisons or exceeds"
   ]
  },
  {
   "cell_type": "code",
   "execution_count": 45,
   "id": "5215f405-d453-4fe9-b60c-058724ac4464",
   "metadata": {},
   "outputs": [],
   "source": [
    "for t in interest:\n",
    "    ig = t.get('ignore', ['INTERESTED_BY'])\n",
    "    t['ignore'] = ig"
   ]
  },
  {
   "cell_type": "code",
   "execution_count": 46,
   "id": "4ff2d7b2-910f-4e79-a402-aa6df91fabcd",
   "metadata": {},
   "outputs": [
    {
     "data": {
      "text/plain": [
       "{1}"
      ]
     },
     "execution_count": 46,
     "metadata": {},
     "output_type": "execute_result"
    }
   ],
   "source": [
    "set([len(t.get('ignore', [])) for t in interest])"
   ]
  },
  {
   "cell_type": "code",
   "execution_count": 47,
   "id": "2b5f67c3-38dc-496f-9319-39eeaf768b48",
   "metadata": {},
   "outputs": [
    {
     "data": {
      "text/plain": [
       "{'writeErrors': [],\n",
       " 'writeConcernErrors': [],\n",
       " 'nInserted': 0,\n",
       " 'nUpserted': 0,\n",
       " 'nMatched': 828,\n",
       " 'nModified': 828,\n",
       " 'nRemoved': 0,\n",
       " 'upserted': []}"
      ]
     },
     "execution_count": 47,
     "metadata": {},
     "output_type": "execute_result"
    }
   ],
   "source": [
    "updates = [UpdateOne({'_id': r['_id']}, {'$set': {'ignore': r['ignore']}}) for r in interest]\n",
    "wres = db.captions.bulk_write(updates)\n",
    "wres.bulk_api_result"
   ]
  },
  {
   "cell_type": "code",
   "execution_count": 48,
   "id": "c15b4311-f03a-4ad8-885f-0b71d60b6877",
   "metadata": {},
   "outputs": [
    {
     "data": {
      "text/plain": [
       "[('The singular proper name ‘Republic’ must be used with a third-person or a past tense verb.',\n",
       "  1302),\n",
       " ('Possible typo: you repeated a word', 847),\n",
       " ('The usual collocation for “Interest” is “in”, not “by”.', 795),\n",
       " ('It seems like there are too many consecutive spaces here.', 610),\n",
       " ('With the plural noun ‘imports’, the verb inflection ‘is’ is not correct.',\n",
       "  444)]"
      ]
     },
     "execution_count": 48,
     "metadata": {},
     "output_type": "execute_result"
    }
   ],
   "source": [
    "ctr.most_common(5)"
   ]
  },
  {
   "cell_type": "code",
   "execution_count": 49,
   "id": "fea5215c-24ea-4d73-9dd6-7a153dca9a65",
   "metadata": {},
   "outputs": [
    {
     "data": {
      "text/plain": [
       "{'_id': 19528809,\n",
       " 'question_string': 'In the year 1993, what is the difference between the Stocks(% of exports of goods, services and primary income) of Grenada and Stocks(% of exports of goods, services and primary income) of Jordan ?',\n",
       " 'template': 'arithmetic',\n",
       " 'answer': -129.6137,\n",
       " 'type': 'dot_line',\n",
       " 'template_id': 42,\n",
       " 'caption': 'In 1993, the Stocks(% of exports of goods, services and primary income) of Grenada are less than the Stocks(% of exports of goods, services and primary income) of Jordan  by -129.6137.',\n",
       " 'matches': [{'message': 'It seems like there are too many consecutive spaces here.',\n",
       "   'shortMessage': '',\n",
       "   'replacements': [{'value': ' '}],\n",
       "   'offset': 169,\n",
       "   'length': 2,\n",
       "   'context': {'text': '..., services and primary income) of Jordan  by -129.6137.',\n",
       "    'offset': 43,\n",
       "    'length': 2},\n",
       "   'sentence': 'In 1993, the Stocks(% of exports of goods, services and primary income) of Grenada are less than the Stocks(% of exports of goods, services and primary income) of Jordan  by -129.6137.',\n",
       "   'type': {'typeName': 'Other'},\n",
       "   'rule': {'id': 'CONSECUTIVE_SPACES',\n",
       "    'subId': '1',\n",
       "    'sourceFile': 'grammar.xml',\n",
       "    'description': 'Two consecutive spaces',\n",
       "    'issueType': 'typographical',\n",
       "    'category': {'id': 'TYPOGRAPHY', 'name': 'Typography'}},\n",
       "   'ignoreForIncompleteSentence': True,\n",
       "   'contextForSureMatch': -1}]}"
      ]
     },
     "execution_count": 49,
     "metadata": {},
     "output_type": "execute_result"
    }
   ],
   "source": [
    "spaces = lt.filter_lt_messages(G, message='It seems like there are too many consecutive spaces here.')\n",
    "spaces[0]"
   ]
  },
  {
   "cell_type": "code",
   "execution_count": 50,
   "id": "0b3cb73c-2d0b-424e-9243-58d093e304c7",
   "metadata": {},
   "outputs": [],
   "source": [
    "for s in spaces:\n",
    "    s['caption'] = re.sub(r'\\s+', ' ', s['caption'])"
   ]
  },
  {
   "cell_type": "code",
   "execution_count": 51,
   "id": "0d0e5c6e-3f7f-4af7-baf0-0c8a0e0b8d99",
   "metadata": {
    "scrolled": true,
    "tags": []
   },
   "outputs": [
    {
     "name": "stderr",
     "output_type": "stream",
     "text": [
      "[Parallel(n_jobs=-1)]: Using backend LokyBackend with 16 concurrent workers.\n",
      "2023-03-21 12:40:44.680554: W tensorflow/compiler/xla/stream_executor/platform/default/dso_loader.cc:64] Could not load dynamic library 'libnvinfer.so.7'; dlerror: libnvinfer.so.7: cannot open shared object file: No such file or directory\n",
      "2023-03-21 12:40:44.681279: W tensorflow/compiler/xla/stream_executor/platform/default/dso_loader.cc:64] Could not load dynamic library 'libnvinfer_plugin.so.7'; dlerror: libnvinfer_plugin.so.7: cannot open shared object file: No such file or directory\n",
      "2023-03-21 12:40:44.681326: W tensorflow/compiler/tf2tensorrt/utils/py_utils.cc:38] TF-TRT Warning: Cannot dlopen some TensorRT libraries. If you would like to use Nvidia GPU with TensorRT, please make sure the missing libraries mentioned above are installed properly.\n",
      "2023-03-21 12:40:44.685469: W tensorflow/compiler/xla/stream_executor/platform/default/dso_loader.cc:64] Could not load dynamic library 'libnvinfer.so.7'; dlerror: libnvinfer.so.7: cannot open shared object file: No such file or directory\n",
      "2023-03-21 12:40:44.685679: W tensorflow/compiler/xla/stream_executor/platform/default/dso_loader.cc:64] Could not load dynamic library 'libnvinfer_plugin.so.7'; dlerror: libnvinfer_plugin.so.7: cannot open shared object file: No such file or directory\n",
      "2023-03-21 12:40:44.685719: W tensorflow/compiler/tf2tensorrt/utils/py_utils.cc:38] TF-TRT Warning: Cannot dlopen some TensorRT libraries. If you would like to use Nvidia GPU with TensorRT, please make sure the missing libraries mentioned above are installed properly.\n",
      "2023-03-21 12:40:44.697156: W tensorflow/compiler/xla/stream_executor/platform/default/dso_loader.cc:64] Could not load dynamic library 'libnvinfer.so.7'; dlerror: libnvinfer.so.7: cannot open shared object file: No such file or directory\n",
      "2023-03-21 12:40:44.697340: W tensorflow/compiler/xla/stream_executor/platform/default/dso_loader.cc:64] Could not load dynamic library 'libnvinfer_plugin.so.7'; dlerror: libnvinfer_plugin.so.7: cannot open shared object file: No such file or directory\n",
      "2023-03-21 12:40:44.697383: W tensorflow/compiler/tf2tensorrt/utils/py_utils.cc:38] TF-TRT Warning: Cannot dlopen some TensorRT libraries. If you would like to use Nvidia GPU with TensorRT, please make sure the missing libraries mentioned above are installed properly.\n",
      "2023-03-21 12:40:44.711481: W tensorflow/compiler/xla/stream_executor/platform/default/dso_loader.cc:64] Could not load dynamic library 'libnvinfer.so.7'; dlerror: libnvinfer.so.7: cannot open shared object file: No such file or directory\n",
      "2023-03-21 12:40:44.711639: W tensorflow/compiler/xla/stream_executor/platform/default/dso_loader.cc:64] Could not load dynamic library 'libnvinfer_plugin.so.7'; dlerror: libnvinfer_plugin.so.7: cannot open shared object file: No such file or directory\n",
      "2023-03-21 12:40:44.711681: W tensorflow/compiler/tf2tensorrt/utils/py_utils.cc:38] TF-TRT Warning: Cannot dlopen some TensorRT libraries. If you would like to use Nvidia GPU with TensorRT, please make sure the missing libraries mentioned above are installed properly.\n",
      "2023-03-21 12:40:44.721416: W tensorflow/compiler/xla/stream_executor/platform/default/dso_loader.cc:64] Could not load dynamic library 'libnvinfer.so.7'; dlerror: libnvinfer.so.7: cannot open shared object file: No such file or directory\n",
      "2023-03-21 12:40:44.721575: W tensorflow/compiler/xla/stream_executor/platform/default/dso_loader.cc:64] Could not load dynamic library 'libnvinfer_plugin.so.7'; dlerror: libnvinfer_plugin.so.7: cannot open shared object file: No such file or directory\n",
      "2023-03-21 12:40:44.721617: W tensorflow/compiler/tf2tensorrt/utils/py_utils.cc:38] TF-TRT Warning: Cannot dlopen some TensorRT libraries. If you would like to use Nvidia GPU with TensorRT, please make sure the missing libraries mentioned above are installed properly.\n",
      "2023-03-21 12:40:44.733380: W tensorflow/compiler/xla/stream_executor/platform/default/dso_loader.cc:64] Could not load dynamic library 'libnvinfer.so.7'; dlerror: libnvinfer.so.7: cannot open shared object file: No such file or directory\n",
      "2023-03-21 12:40:44.733380: W tensorflow/compiler/xla/stream_executor/platform/default/dso_loader.cc:64] Could not load dynamic library 'libnvinfer.so.7'; dlerror: libnvinfer.so.7: cannot open shared object file: No such file or directory\n",
      "2023-03-21 12:40:44.733546: W tensorflow/compiler/xla/stream_executor/platform/default/dso_loader.cc:64] Could not load dynamic library 'libnvinfer_plugin.so.7'; dlerror: libnvinfer_plugin.so.7: cannot open shared object file: No such file or directory\n",
      "2023-03-21 12:40:44.733585: W tensorflow/compiler/tf2tensorrt/utils/py_utils.cc:38] TF-TRT Warning: Cannot dlopen some TensorRT libraries. If you would like to use Nvidia GPU with TensorRT, please make sure the missing libraries mentioned above are installed properly.\n",
      "2023-03-21 12:40:44.733638: W tensorflow/compiler/xla/stream_executor/platform/default/dso_loader.cc:64] Could not load dynamic library 'libnvinfer_plugin.so.7'; dlerror: libnvinfer_plugin.so.7: cannot open shared object file: No such file or directory\n",
      "2023-03-21 12:40:44.733704: W tensorflow/compiler/tf2tensorrt/utils/py_utils.cc:38] TF-TRT Warning: Cannot dlopen some TensorRT libraries. If you would like to use Nvidia GPU with TensorRT, please make sure the missing libraries mentioned above are installed properly.\n",
      "2023-03-21 12:40:44.734699: W tensorflow/compiler/xla/stream_executor/platform/default/dso_loader.cc:64] Could not load dynamic library 'libnvinfer.so.7'; dlerror: libnvinfer.so.7: cannot open shared object file: No such file or directory\n",
      "2023-03-21 12:40:44.734855: W tensorflow/compiler/xla/stream_executor/platform/default/dso_loader.cc:64] Could not load dynamic library 'libnvinfer_plugin.so.7'; dlerror: libnvinfer_plugin.so.7: cannot open shared object file: No such file or directory\n",
      "2023-03-21 12:40:44.734885: W tensorflow/compiler/tf2tensorrt/utils/py_utils.cc:38] TF-TRT Warning: Cannot dlopen some TensorRT libraries. If you would like to use Nvidia GPU with TensorRT, please make sure the missing libraries mentioned above are installed properly.\n",
      "2023-03-21 12:40:44.736262: W tensorflow/compiler/xla/stream_executor/platform/default/dso_loader.cc:64] Could not load dynamic library 'libnvinfer.so.7'; dlerror: libnvinfer.so.7: cannot open shared object file: No such file or directory\n",
      "2023-03-21 12:40:44.736414: W tensorflow/compiler/xla/stream_executor/platform/default/dso_loader.cc:64] Could not load dynamic library 'libnvinfer_plugin.so.7'; dlerror: libnvinfer_plugin.so.7: cannot open shared object file: No such file or directory\n",
      "2023-03-21 12:40:44.736454: W tensorflow/compiler/tf2tensorrt/utils/py_utils.cc:38] TF-TRT Warning: Cannot dlopen some TensorRT libraries. If you would like to use Nvidia GPU with TensorRT, please make sure the missing libraries mentioned above are installed properly.\n",
      "2023-03-21 12:40:44.751343: W tensorflow/compiler/xla/stream_executor/platform/default/dso_loader.cc:64] Could not load dynamic library 'libnvinfer.so.7'; dlerror: libnvinfer.so.7: cannot open shared object file: No such file or directory\n",
      "2023-03-21 12:40:44.751492: W tensorflow/compiler/xla/stream_executor/platform/default/dso_loader.cc:64] Could not load dynamic library 'libnvinfer_plugin.so.7'; dlerror: libnvinfer_plugin.so.7: cannot open shared object file: No such file or directory\n",
      "2023-03-21 12:40:44.751530: W tensorflow/compiler/tf2tensorrt/utils/py_utils.cc:38] TF-TRT Warning: Cannot dlopen some TensorRT libraries. If you would like to use Nvidia GPU with TensorRT, please make sure the missing libraries mentioned above are installed properly.\n",
      "2023-03-21 12:40:44.817997: W tensorflow/compiler/xla/stream_executor/platform/default/dso_loader.cc:64] Could not load dynamic library 'libnvinfer.so.7'; dlerror: libnvinfer.so.7: cannot open shared object file: No such file or directory\n",
      "2023-03-21 12:40:44.818009: W tensorflow/compiler/xla/stream_executor/platform/default/dso_loader.cc:64] Could not load dynamic library 'libnvinfer.so.7'; dlerror: libnvinfer.so.7: cannot open shared object file: No such file or directory\n",
      "2023-03-21 12:40:44.818088: W tensorflow/compiler/xla/stream_executor/platform/default/dso_loader.cc:64] Could not load dynamic library 'libnvinfer_plugin.so.7'; dlerror: libnvinfer_plugin.so.7: cannot open shared object file: No such file or directory\n",
      "2023-03-21 12:40:44.818130: W tensorflow/compiler/tf2tensorrt/utils/py_utils.cc:38] TF-TRT Warning: Cannot dlopen some TensorRT libraries. If you would like to use Nvidia GPU with TensorRT, please make sure the missing libraries mentioned above are installed properly.\n",
      "2023-03-21 12:40:44.818175: W tensorflow/compiler/xla/stream_executor/platform/default/dso_loader.cc:64] Could not load dynamic library 'libnvinfer_plugin.so.7'; dlerror: libnvinfer_plugin.so.7: cannot open shared object file: No such file or directory\n",
      "2023-03-21 12:40:44.818211: W tensorflow/compiler/tf2tensorrt/utils/py_utils.cc:38] TF-TRT Warning: Cannot dlopen some TensorRT libraries. If you would like to use Nvidia GPU with TensorRT, please make sure the missing libraries mentioned above are installed properly.\n",
      "2023-03-21 12:40:44.843305: W tensorflow/compiler/xla/stream_executor/platform/default/dso_loader.cc:64] Could not load dynamic library 'libnvinfer.so.7'; dlerror: libnvinfer.so.7: cannot open shared object file: No such file or directory\n",
      "2023-03-21 12:40:44.843459: W tensorflow/compiler/xla/stream_executor/platform/default/dso_loader.cc:64] Could not load dynamic library 'libnvinfer_plugin.so.7'; dlerror: libnvinfer_plugin.so.7: cannot open shared object file: No such file or directory\n",
      "2023-03-21 12:40:44.843495: W tensorflow/compiler/tf2tensorrt/utils/py_utils.cc:38] TF-TRT Warning: Cannot dlopen some TensorRT libraries. If you would like to use Nvidia GPU with TensorRT, please make sure the missing libraries mentioned above are installed properly.\n",
      "2023-03-21 12:40:44.845122: W tensorflow/compiler/xla/stream_executor/platform/default/dso_loader.cc:64] Could not load dynamic library 'libnvinfer.so.7'; dlerror: libnvinfer.so.7: cannot open shared object file: No such file or directory\n",
      "2023-03-21 12:40:44.845282: W tensorflow/compiler/xla/stream_executor/platform/default/dso_loader.cc:64] Could not load dynamic library 'libnvinfer_plugin.so.7'; dlerror: libnvinfer_plugin.so.7: cannot open shared object file: No such file or directory\n",
      "2023-03-21 12:40:44.845321: W tensorflow/compiler/tf2tensorrt/utils/py_utils.cc:38] TF-TRT Warning: Cannot dlopen some TensorRT libraries. If you would like to use Nvidia GPU with TensorRT, please make sure the missing libraries mentioned above are installed properly.\n",
      "2023-03-21 12:40:44.852839: W tensorflow/compiler/xla/stream_executor/platform/default/dso_loader.cc:64] Could not load dynamic library 'libnvinfer.so.7'; dlerror: libnvinfer.so.7: cannot open shared object file: No such file or directory\n",
      "2023-03-21 12:40:44.852987: W tensorflow/compiler/xla/stream_executor/platform/default/dso_loader.cc:64] Could not load dynamic library 'libnvinfer_plugin.so.7'; dlerror: libnvinfer_plugin.so.7: cannot open shared object file: No such file or directory\n",
      "2023-03-21 12:40:44.853026: W tensorflow/compiler/tf2tensorrt/utils/py_utils.cc:38] TF-TRT Warning: Cannot dlopen some TensorRT libraries. If you would like to use Nvidia GPU with TensorRT, please make sure the missing libraries mentioned above are installed properly.\n",
      "2023-03-21 12:40:44.868735: W tensorflow/compiler/xla/stream_executor/platform/default/dso_loader.cc:64] Could not load dynamic library 'libnvinfer.so.7'; dlerror: libnvinfer.so.7: cannot open shared object file: No such file or directory\n",
      "2023-03-21 12:40:44.869005: W tensorflow/compiler/xla/stream_executor/platform/default/dso_loader.cc:64] Could not load dynamic library 'libnvinfer_plugin.so.7'; dlerror: libnvinfer_plugin.so.7: cannot open shared object file: No such file or directory\n",
      "2023-03-21 12:40:44.869041: W tensorflow/compiler/tf2tensorrt/utils/py_utils.cc:38] TF-TRT Warning: Cannot dlopen some TensorRT libraries. If you would like to use Nvidia GPU with TensorRT, please make sure the missing libraries mentioned above are installed properly.\n",
      "2023-03-21 12:40:46.558990: W tensorflow/compiler/xla/stream_executor/platform/default/dso_loader.cc:64] Could not load dynamic library 'libcusolver.so.11'; dlerror: libcusolver.so.11: cannot open shared object file: No such file or directory\n",
      "2023-03-21 12:40:46.559407: W tensorflow/core/common_runtime/gpu/gpu_device.cc:1934] Cannot dlopen some GPU libraries. Please make sure the missing libraries mentioned above are installed properly if you would like to use GPU. Follow the guide at https://www.tensorflow.org/install/gpu for how to download and setup the required libraries for your platform.\n",
      "Skipping registering GPU devices...\n",
      "2023-03-21 12:40:46.578640: W tensorflow/compiler/xla/stream_executor/platform/default/dso_loader.cc:64] Could not load dynamic library 'libcusolver.so.11'; dlerror: libcusolver.so.11: cannot open shared object file: No such file or directory\n",
      "2023-03-21 12:40:46.578798: W tensorflow/core/common_runtime/gpu/gpu_device.cc:1934] Cannot dlopen some GPU libraries. Please make sure the missing libraries mentioned above are installed properly if you would like to use GPU. Follow the guide at https://www.tensorflow.org/install/gpu for how to download and setup the required libraries for your platform.\n",
      "Skipping registering GPU devices...\n",
      "2023-03-21 12:40:46.674898: W tensorflow/compiler/xla/stream_executor/platform/default/dso_loader.cc:64] Could not load dynamic library 'libcusolver.so.11'; dlerror: libcusolver.so.11: cannot open shared object file: No such file or directory\n",
      "2023-03-21 12:40:46.675082: W tensorflow/core/common_runtime/gpu/gpu_device.cc:1934] Cannot dlopen some GPU libraries. Please make sure the missing libraries mentioned above are installed properly if you would like to use GPU. Follow the guide at https://www.tensorflow.org/install/gpu for how to download and setup the required libraries for your platform.\n",
      "Skipping registering GPU devices...\n",
      "2023-03-21 12:40:46.721328: W tensorflow/compiler/xla/stream_executor/platform/default/dso_loader.cc:64] Could not load dynamic library 'libcusolver.so.11'; dlerror: libcusolver.so.11: cannot open shared object file: No such file or directory\n",
      "2023-03-21 12:40:46.721454: W tensorflow/core/common_runtime/gpu/gpu_device.cc:1934] Cannot dlopen some GPU libraries. Please make sure the missing libraries mentioned above are installed properly if you would like to use GPU. Follow the guide at https://www.tensorflow.org/install/gpu for how to download and setup the required libraries for your platform.\n",
      "Skipping registering GPU devices...\n",
      "2023-03-21 12:40:46.729752: W tensorflow/compiler/xla/stream_executor/platform/default/dso_loader.cc:64] Could not load dynamic library 'libcusolver.so.11'; dlerror: libcusolver.so.11: cannot open shared object file: No such file or directory\n",
      "2023-03-21 12:40:46.729955: W tensorflow/core/common_runtime/gpu/gpu_device.cc:1934] Cannot dlopen some GPU libraries. Please make sure the missing libraries mentioned above are installed properly if you would like to use GPU. Follow the guide at https://www.tensorflow.org/install/gpu for how to download and setup the required libraries for your platform.\n",
      "Skipping registering GPU devices...\n",
      "2023-03-21 12:40:46.734409: W tensorflow/compiler/xla/stream_executor/platform/default/dso_loader.cc:64] Could not load dynamic library 'libcusolver.so.11'; dlerror: libcusolver.so.11: cannot open shared object file: No such file or directory\n",
      "2023-03-21 12:40:46.734586: W tensorflow/core/common_runtime/gpu/gpu_device.cc:1934] Cannot dlopen some GPU libraries. Please make sure the missing libraries mentioned above are installed properly if you would like to use GPU. Follow the guide at https://www.tensorflow.org/install/gpu for how to download and setup the required libraries for your platform.\n",
      "Skipping registering GPU devices...\n",
      "2023-03-21 12:40:46.737132: W tensorflow/compiler/xla/stream_executor/platform/default/dso_loader.cc:64] Could not load dynamic library 'libcusolver.so.11'; dlerror: libcusolver.so.11: cannot open shared object file: No such file or directory\n",
      "2023-03-21 12:40:46.737306: W tensorflow/core/common_runtime/gpu/gpu_device.cc:1934] Cannot dlopen some GPU libraries. Please make sure the missing libraries mentioned above are installed properly if you would like to use GPU. Follow the guide at https://www.tensorflow.org/install/gpu for how to download and setup the required libraries for your platform.\n",
      "Skipping registering GPU devices...\n",
      "2023-03-21 12:40:46.739905: W tensorflow/compiler/xla/stream_executor/platform/default/dso_loader.cc:64] Could not load dynamic library 'libcusolver.so.11'; dlerror: libcusolver.so.11: cannot open shared object file: No such file or directory\n",
      "2023-03-21 12:40:46.740072: W tensorflow/core/common_runtime/gpu/gpu_device.cc:1934] Cannot dlopen some GPU libraries. Please make sure the missing libraries mentioned above are installed properly if you would like to use GPU. Follow the guide at https://www.tensorflow.org/install/gpu for how to download and setup the required libraries for your platform.\n",
      "Skipping registering GPU devices...\n",
      "2023-03-21 12:40:46.764094: W tensorflow/compiler/xla/stream_executor/platform/default/dso_loader.cc:64] Could not load dynamic library 'libcusolver.so.11'; dlerror: libcusolver.so.11: cannot open shared object file: No such file or directory\n",
      "2023-03-21 12:40:46.764331: W tensorflow/core/common_runtime/gpu/gpu_device.cc:1934] Cannot dlopen some GPU libraries. Please make sure the missing libraries mentioned above are installed properly if you would like to use GPU. Follow the guide at https://www.tensorflow.org/install/gpu for how to download and setup the required libraries for your platform.\n",
      "Skipping registering GPU devices...\n",
      "2023-03-21 12:40:46.827856: W tensorflow/compiler/xla/stream_executor/platform/default/dso_loader.cc:64] Could not load dynamic library 'libcusolver.so.11'; dlerror: libcusolver.so.11: cannot open shared object file: No such file or directory\n",
      "2023-03-21 12:40:46.828030: W tensorflow/core/common_runtime/gpu/gpu_device.cc:1934] Cannot dlopen some GPU libraries. Please make sure the missing libraries mentioned above are installed properly if you would like to use GPU. Follow the guide at https://www.tensorflow.org/install/gpu for how to download and setup the required libraries for your platform.\n",
      "Skipping registering GPU devices...\n",
      "2023-03-21 12:40:46.890075: W tensorflow/compiler/xla/stream_executor/platform/default/dso_loader.cc:64] Could not load dynamic library 'libcusolver.so.11'; dlerror: libcusolver.so.11: cannot open shared object file: No such file or directory\n",
      "2023-03-21 12:40:46.890285: W tensorflow/core/common_runtime/gpu/gpu_device.cc:1934] Cannot dlopen some GPU libraries. Please make sure the missing libraries mentioned above are installed properly if you would like to use GPU. Follow the guide at https://www.tensorflow.org/install/gpu for how to download and setup the required libraries for your platform.\n",
      "Skipping registering GPU devices...\n",
      "2023-03-21 12:40:46.965997: W tensorflow/compiler/xla/stream_executor/platform/default/dso_loader.cc:64] Could not load dynamic library 'libcusolver.so.11'; dlerror: libcusolver.so.11: cannot open shared object file: No such file or directory\n",
      "2023-03-21 12:40:46.966118: W tensorflow/core/common_runtime/gpu/gpu_device.cc:1934] Cannot dlopen some GPU libraries. Please make sure the missing libraries mentioned above are installed properly if you would like to use GPU. Follow the guide at https://www.tensorflow.org/install/gpu for how to download and setup the required libraries for your platform.\n",
      "Skipping registering GPU devices...\n",
      "2023-03-21 12:40:47.036373: W tensorflow/compiler/xla/stream_executor/platform/default/dso_loader.cc:64] Could not load dynamic library 'libcusolver.so.11'; dlerror: libcusolver.so.11: cannot open shared object file: No such file or directory\n",
      "2023-03-21 12:40:47.036558: W tensorflow/compiler/xla/stream_executor/platform/default/dso_loader.cc:64] Could not load dynamic library 'libcusolver.so.11'; dlerror: libcusolver.so.11: cannot open shared object file: No such file or directory\n",
      "2023-03-21 12:40:47.036641: W tensorflow/core/common_runtime/gpu/gpu_device.cc:1934] Cannot dlopen some GPU libraries. Please make sure the missing libraries mentioned above are installed properly if you would like to use GPU. Follow the guide at https://www.tensorflow.org/install/gpu for how to download and setup the required libraries for your platform.\n",
      "Skipping registering GPU devices...\n",
      "2023-03-21 12:40:47.036812: W tensorflow/core/common_runtime/gpu/gpu_device.cc:1934] Cannot dlopen some GPU libraries. Please make sure the missing libraries mentioned above are installed properly if you would like to use GPU. Follow the guide at https://www.tensorflow.org/install/gpu for how to download and setup the required libraries for your platform.\n",
      "Skipping registering GPU devices...\n",
      "2023-03-21 12:40:47.072112: W tensorflow/compiler/xla/stream_executor/platform/default/dso_loader.cc:64] Could not load dynamic library 'libcusolver.so.11'; dlerror: libcusolver.so.11: cannot open shared object file: No such file or directory\n",
      "2023-03-21 12:40:47.072287: W tensorflow/core/common_runtime/gpu/gpu_device.cc:1934] Cannot dlopen some GPU libraries. Please make sure the missing libraries mentioned above are installed properly if you would like to use GPU. Follow the guide at https://www.tensorflow.org/install/gpu for how to download and setup the required libraries for your platform.\n",
      "Skipping registering GPU devices...\n",
      "2023-03-21 12:40:47.123753: W tensorflow/compiler/xla/stream_executor/platform/default/dso_loader.cc:64] Could not load dynamic library 'libcusolver.so.11'; dlerror: libcusolver.so.11: cannot open shared object file: No such file or directory\n",
      "2023-03-21 12:40:47.123909: W tensorflow/core/common_runtime/gpu/gpu_device.cc:1934] Cannot dlopen some GPU libraries. Please make sure the missing libraries mentioned above are installed properly if you would like to use GPU. Follow the guide at https://www.tensorflow.org/install/gpu for how to download and setup the required libraries for your platform.\n",
      "Skipping registering GPU devices...\n",
      "[Parallel(n_jobs=-1)]: Done   9 tasks      | elapsed:    5.3s\n",
      "[Parallel(n_jobs=-1)]: Done 148 tasks      | elapsed:    5.9s\n",
      "[Parallel(n_jobs=-1)]: Done 610 out of 610 | elapsed:    6.7s finished\n"
     ]
    }
   ],
   "source": [
    "res = Parallel(n_jobs=-1, verbose=2)(delayed(lt.process)(c['_id'], c['caption'], c.get('ignore')) for c in spaces)\n",
    "res = [r for r in res if len(r['matches']) > 0]"
   ]
  },
  {
   "cell_type": "code",
   "execution_count": 53,
   "id": "edaff204-b05a-4313-b4e4-5684a509cbba",
   "metadata": {},
   "outputs": [
    {
     "data": {
      "text/plain": [
       "{'writeErrors': [],\n",
       " 'writeConcernErrors': [],\n",
       " 'nInserted': 0,\n",
       " 'nUpserted': 0,\n",
       " 'nMatched': 610,\n",
       " 'nModified': 610,\n",
       " 'nRemoved': 0,\n",
       " 'upserted': []}"
      ]
     },
     "execution_count": 53,
     "metadata": {},
     "output_type": "execute_result"
    }
   ],
   "source": [
    "updates = [UpdateOne({'_id': r['_id']}, {'$set': {'caption': r['caption']}}) for r in spaces]\n",
    "wres = db.captions.bulk_write(updates)\n",
    "wres.bulk_api_result"
   ]
  },
  {
   "cell_type": "code",
   "execution_count": 54,
   "id": "565ecd10-f22e-4493-a1ed-34a61b3d214a",
   "metadata": {},
   "outputs": [
    {
     "data": {
      "text/plain": [
       "[('The singular proper name ‘Republic’ must be used with a third-person or a past tense verb.',\n",
       "  1302),\n",
       " ('Possible typo: you repeated a word', 847),\n",
       " ('The usual collocation for “Interest” is “in”, not “by”.', 795),\n",
       " ('It seems like there are too many consecutive spaces here.', 610),\n",
       " ('With the plural noun ‘imports’, the verb inflection ‘is’ is not correct.',\n",
       "  444)]"
      ]
     },
     "execution_count": 54,
     "metadata": {},
     "output_type": "execute_result"
    }
   ],
   "source": [
    "ctr.most_common(5)"
   ]
  },
  {
   "cell_type": "code",
   "execution_count": 55,
   "id": "428ada8e-74c1-4375-a968-74d3f2aabfa1",
   "metadata": {},
   "outputs": [
    {
     "data": {
      "text/plain": [
       "{'_id': 125456,\n",
       " 'question_string': 'In the year 2007, what is the difference between the service imports in Israel and service imports in Croatia ?',\n",
       " 'template': 'arithmetic',\n",
       " 'answer': 13872692036.0,\n",
       " 'type': 'dot',\n",
       " 'template_id': 42,\n",
       " 'caption': 'In 2007, the difference between the service imports in Israel and the service imports in Croatia is 13872692036.0.',\n",
       " 'matches': [{'message': 'With the plural noun ‘imports’, the verb inflection ‘is’ is not correct.',\n",
       "   'shortMessage': 'Agreement error',\n",
       "   'replacements': [{'value': 'are'},\n",
       "    {'value': 'was'},\n",
       "    {'value': 'were',\n",
       "     'shortDescription': \"second-person singular simple past of 'be', e.g. 'you were'\"}],\n",
       "   'offset': 97,\n",
       "   'length': 2,\n",
       "   'context': {'text': '...rael and the service imports in Croatia is 13872692036.0.',\n",
       "    'offset': 43,\n",
       "    'length': 2},\n",
       "   'sentence': 'In 2007, the difference between the service imports in Israel and the service imports in Croatia is 13872692036.0.',\n",
       "   'type': {'typeName': 'Other'},\n",
       "   'rule': {'id': 'NNS_IN_NNP_VBZ',\n",
       "    'subId': '1',\n",
       "    'sourceFile': 'grammar.xml',\n",
       "    'description': 'Use the base form or the past tense with a plural noun',\n",
       "    'issueType': 'grammar',\n",
       "    'category': {'id': 'GRAMMAR', 'name': 'Grammar'}},\n",
       "   'ignoreForIncompleteSentence': True,\n",
       "   'contextForSureMatch': -1}]}"
      ]
     },
     "execution_count": 55,
     "metadata": {},
     "output_type": "execute_result"
    }
   ],
   "source": [
    "is_imports = lt.filter_lt_messages(G, message='With the plural noun ‘imports’, the verb inflection ‘is’ is not correct.')\n",
    "is_imports[0]"
   ]
  },
  {
   "cell_type": "code",
   "execution_count": 56,
   "id": "b21ad307-23ca-4174-b502-ef4ce805b42b",
   "metadata": {},
   "outputs": [
    {
     "data": {
      "text/html": [
       "<div>\n",
       "<style scoped>\n",
       "    .dataframe tbody tr th:only-of-type {\n",
       "        vertical-align: middle;\n",
       "    }\n",
       "\n",
       "    .dataframe tbody tr th {\n",
       "        vertical-align: top;\n",
       "    }\n",
       "\n",
       "    .dataframe thead th {\n",
       "        text-align: right;\n",
       "    }\n",
       "</style>\n",
       "<table border=\"1\" class=\"dataframe\">\n",
       "  <thead>\n",
       "    <tr style=\"text-align: right;\">\n",
       "      <th></th>\n",
       "      <th>qid</th>\n",
       "      <th>root</th>\n",
       "      <th>nsubj</th>\n",
       "    </tr>\n",
       "  </thead>\n",
       "  <tbody>\n",
       "    <tr>\n",
       "      <th>0</th>\n",
       "      <td>125456</td>\n",
       "      <td>is</td>\n",
       "      <td>difference</td>\n",
       "    </tr>\n",
       "    <tr>\n",
       "      <th>4</th>\n",
       "      <td>167074</td>\n",
       "      <td>is</td>\n",
       "      <td>sum</td>\n",
       "    </tr>\n",
       "    <tr>\n",
       "      <th>14</th>\n",
       "      <td>335816</td>\n",
       "      <td>is</td>\n",
       "      <td>mean</td>\n",
       "    </tr>\n",
       "  </tbody>\n",
       "</table>\n",
       "</div>"
      ],
      "text/plain": [
       "       qid root       nsubj\n",
       "0   125456   is  difference\n",
       "4   167074   is         sum\n",
       "14  335816   is        mean"
      ]
     },
     "execution_count": 56,
     "metadata": {},
     "output_type": "execute_result"
    }
   ],
   "source": [
    "qids = [s['_id'] for s in is_imports]\n",
    "sents = [s['caption'] for s in is_imports]\n",
    "\n",
    "pairs = []\n",
    "for doc, qid in zip(nlp.pipe(sents), qids):\n",
    "    root = False\n",
    "    for token in doc:\n",
    "        if token.dep_ == 'ROOT':\n",
    "            root = token\n",
    "            break\n",
    "    if root:\n",
    "        try:\n",
    "            child = [k for k in root.children if k.dep_ == 'nsubj'][0]\n",
    "            pairs.append((qid, root.text, child.text))\n",
    "        except IndexError:\n",
    "            continue\n",
    "\n",
    "pairs = pd.DataFrame(pairs, columns=['qid', 'root', 'nsubj'])\n",
    "pairs.drop_duplicates(subset=['root', 'nsubj'])"
   ]
  },
  {
   "cell_type": "code",
   "execution_count": 57,
   "id": "e707228d-66ca-4365-b997-b9729002228c",
   "metadata": {},
   "outputs": [
    {
     "data": {
      "text/plain": [
       "{'writeErrors': [],\n",
       " 'writeConcernErrors': [],\n",
       " 'nInserted': 0,\n",
       " 'nUpserted': 0,\n",
       " 'nMatched': 444,\n",
       " 'nModified': 444,\n",
       " 'nRemoved': 0,\n",
       " 'upserted': []}"
      ]
     },
     "execution_count": 57,
     "metadata": {},
     "output_type": "execute_result"
    }
   ],
   "source": [
    "for t in is_imports:\n",
    "    ig = t.get('ignore', [])\n",
    "    if 'NNS_IN_NNP_VBZ' not in ig:\n",
    "        ig.append('NNS_IN_NNP_VBZ')\n",
    "    t['ignore'] = ig\n",
    "\n",
    "    \n",
    "updates = [UpdateOne({'_id': r['_id']}, {'$set': {'ignore': r['ignore']}}) for r in is_imports]\n",
    "wres = db.captions.bulk_write(updates)\n",
    "wres.bulk_api_result"
   ]
  },
  {
   "cell_type": "code",
   "execution_count": 58,
   "id": "ede6666f-5727-426b-86ae-58adbd0160c4",
   "metadata": {},
   "outputs": [
    {
     "data": {
      "text/plain": [
       "[('The singular proper name ‘Republic’ must be used with a third-person or a past tense verb.',\n",
       "  1302),\n",
       " ('Possible typo: you repeated a word', 847),\n",
       " ('The usual collocation for “Interest” is “in”, not “by”.', 795),\n",
       " ('It seems like there are too many consecutive spaces here.', 610),\n",
       " ('With the plural noun ‘imports’, the verb inflection ‘is’ is not correct.',\n",
       "  444),\n",
       " ('With the plural noun ‘gains’, the verb inflection ‘is’ is not correct.',\n",
       "  416)]"
      ]
     },
     "execution_count": 58,
     "metadata": {},
     "output_type": "execute_result"
    }
   ],
   "source": [
    "ctr.most_common(6)"
   ]
  },
  {
   "cell_type": "code",
   "execution_count": 59,
   "id": "eb6448ad-34b2-4eac-bbd7-0893bf0cee83",
   "metadata": {},
   "outputs": [
    {
     "data": {
      "text/plain": [
       "{'_id': 623101,\n",
       " 'question_string': 'What is the percentage of revenue obtained from taxes on profits and capital gains in Cameroon ?',\n",
       " 'template': 'data_retrieval',\n",
       " 'answer': 57.2657170331,\n",
       " 'type': 'hbar',\n",
       " 'template_id': 2,\n",
       " 'caption': 'The percentage of revenue obtained from taxes on profits and capital gains in Cameroon is 57.2657170331.',\n",
       " 'matches': [{'message': 'With the plural noun ‘gains’, the verb inflection ‘is’ is not correct.',\n",
       "   'shortMessage': 'Agreement error',\n",
       "   'replacements': [{'value': 'are'},\n",
       "    {'value': 'was'},\n",
       "    {'value': 'were',\n",
       "     'shortDescription': \"second-person singular simple past of 'be', e.g. 'you were'\"}],\n",
       "   'offset': 87,\n",
       "   'length': 2,\n",
       "   'context': {'text': '...n profits and capital gains in Cameroon is 57.2657170331.',\n",
       "    'offset': 43,\n",
       "    'length': 2},\n",
       "   'sentence': 'The percentage of revenue obtained from taxes on profits and capital gains in Cameroon is 57.2657170331.',\n",
       "   'type': {'typeName': 'Other'},\n",
       "   'rule': {'id': 'NNS_IN_NNP_VBZ',\n",
       "    'subId': '1',\n",
       "    'sourceFile': 'grammar.xml',\n",
       "    'description': 'Use the base form or the past tense with a plural noun',\n",
       "    'issueType': 'grammar',\n",
       "    'category': {'id': 'GRAMMAR', 'name': 'Grammar'}},\n",
       "   'ignoreForIncompleteSentence': True,\n",
       "   'contextForSureMatch': -1}]}"
      ]
     },
     "execution_count": 59,
     "metadata": {},
     "output_type": "execute_result"
    }
   ],
   "source": [
    "gains = lt.filter_lt_messages(G, message='With the plural noun ‘gains’, the verb inflection ‘is’ is not correct.')\n",
    "gains[0]"
   ]
  },
  {
   "cell_type": "code",
   "execution_count": 60,
   "id": "b068b9c3-56e7-410d-8897-296d738ea560",
   "metadata": {},
   "outputs": [
    {
     "data": {
      "text/html": [
       "<div>\n",
       "<style scoped>\n",
       "    .dataframe tbody tr th:only-of-type {\n",
       "        vertical-align: middle;\n",
       "    }\n",
       "\n",
       "    .dataframe tbody tr th {\n",
       "        vertical-align: top;\n",
       "    }\n",
       "\n",
       "    .dataframe thead th {\n",
       "        text-align: right;\n",
       "    }\n",
       "</style>\n",
       "<table border=\"1\" class=\"dataframe\">\n",
       "  <thead>\n",
       "    <tr style=\"text-align: right;\">\n",
       "      <th></th>\n",
       "      <th>qid</th>\n",
       "      <th>root</th>\n",
       "      <th>nsubj</th>\n",
       "    </tr>\n",
       "  </thead>\n",
       "  <tbody>\n",
       "    <tr>\n",
       "      <th>0</th>\n",
       "      <td>623101</td>\n",
       "      <td>is</td>\n",
       "      <td>percentage</td>\n",
       "    </tr>\n",
       "    <tr>\n",
       "      <th>25</th>\n",
       "      <td>19533856</td>\n",
       "      <td>is</td>\n",
       "      <td>Tax</td>\n",
       "    </tr>\n",
       "    <tr>\n",
       "      <th>29</th>\n",
       "      <td>19533890</td>\n",
       "      <td>is</td>\n",
       "      <td>difference</td>\n",
       "    </tr>\n",
       "  </tbody>\n",
       "</table>\n",
       "</div>"
      ],
      "text/plain": [
       "         qid root       nsubj\n",
       "0     623101   is  percentage\n",
       "25  19533856   is         Tax\n",
       "29  19533890   is  difference"
      ]
     },
     "execution_count": 60,
     "metadata": {},
     "output_type": "execute_result"
    }
   ],
   "source": [
    "qids = [s['_id'] for s in gains]\n",
    "sents = [s['caption'] for s in gains]\n",
    "\n",
    "pairs = []\n",
    "for doc, qid in zip(nlp.pipe(sents), qids):\n",
    "    root = False\n",
    "    for token in doc:\n",
    "        if token.dep_ == 'ROOT':\n",
    "            root = token\n",
    "            break\n",
    "    if root:\n",
    "        try:\n",
    "            child = [k for k in root.children if k.dep_ == 'nsubj'][0]\n",
    "            pairs.append((qid, root.text, child.text))\n",
    "        except IndexError:\n",
    "            continue\n",
    "\n",
    "pairs = pd.DataFrame(pairs, columns=['qid', 'root', 'nsubj'])\n",
    "pairs.drop_duplicates(subset=['root', 'nsubj'])"
   ]
  },
  {
   "cell_type": "code",
   "execution_count": 61,
   "id": "d81c8169-d407-4269-baba-dda285be7b9e",
   "metadata": {},
   "outputs": [
    {
     "data": {
      "text/plain": [
       "{'writeErrors': [],\n",
       " 'writeConcernErrors': [],\n",
       " 'nInserted': 0,\n",
       " 'nUpserted': 0,\n",
       " 'nMatched': 416,\n",
       " 'nModified': 416,\n",
       " 'nRemoved': 0,\n",
       " 'upserted': []}"
      ]
     },
     "execution_count": 61,
     "metadata": {},
     "output_type": "execute_result"
    }
   ],
   "source": [
    "for t in gains:\n",
    "    ig = t.get('ignore', [])\n",
    "    if 'NNS_IN_NNP_VBZ' not in ig:\n",
    "        ig.append('NNS_IN_NNP_VBZ')\n",
    "    t['ignore'] = ig\n",
    "\n",
    "    \n",
    "updates = [UpdateOne({'_id': r['_id']}, {'$set': {'ignore': r['ignore']}}) for r in gains]\n",
    "wres = db.captions.bulk_write(updates)\n",
    "wres.bulk_api_result"
   ]
  },
  {
   "cell_type": "code",
   "execution_count": 62,
   "id": "a964e526-7e24-48a2-ae5d-8a1225bed652",
   "metadata": {},
   "outputs": [
    {
     "data": {
      "text/plain": [
       "[('The singular proper name ‘Republic’ must be used with a third-person or a past tense verb.',\n",
       "  1302),\n",
       " ('Possible typo: you repeated a word', 847),\n",
       " ('The usual collocation for “Interest” is “in”, not “by”.', 795),\n",
       " ('It seems like there are too many consecutive spaces here.', 610),\n",
       " ('With the plural noun ‘imports’, the verb inflection ‘is’ is not correct.',\n",
       "  444),\n",
       " ('With the plural noun ‘gains’, the verb inflection ‘is’ is not correct.',\n",
       "  416),\n",
       " ('With the plural noun ‘services’, the verb inflection ‘exceeds’ is not correct.',\n",
       "  414)]"
      ]
     },
     "execution_count": 62,
     "metadata": {},
     "output_type": "execute_result"
    }
   ],
   "source": [
    "ctr.most_common(7)"
   ]
  },
  {
   "cell_type": "code",
   "execution_count": 63,
   "id": "5e4564a2-0189-46dd-ae6c-44ae126f68ef",
   "metadata": {},
   "outputs": [
    {
     "data": {
      "text/plain": [
       "{'_id': 603866,\n",
       " 'question_string': 'What is the difference between the percentage of self-employed male workers in Bahamas and the percentage of male workers in services in Norway ?',\n",
       " 'template': 'arithmetic',\n",
       " 'answer': -42.9999990463,\n",
       " 'type': 'hbar',\n",
       " 'template_id': 39,\n",
       " 'caption': 'The percentage of male workers in services in Norway exceeds the percentage of self-employed male workers in the Bahamas by -42.9999990463.',\n",
       " 'matches': [{'message': 'With the plural noun ‘services’, the verb inflection ‘exceeds’ is not correct.',\n",
       "   'shortMessage': 'Agreement error',\n",
       "   'replacements': [{'value': 'exceed', 'shortDescription': 'surpass'},\n",
       "    {'value': 'exceeded'}],\n",
       "   'offset': 53,\n",
       "   'length': 7,\n",
       "   'context': {'text': '...e of male workers in services in Norway exceeds the percentage of self-employed male wo...',\n",
       "    'offset': 43,\n",
       "    'length': 7},\n",
       "   'sentence': 'The percentage of male workers in services in Norway exceeds the percentage of self-employed male workers in the Bahamas by -42.9999990463.',\n",
       "   'type': {'typeName': 'Other'},\n",
       "   'rule': {'id': 'NNS_IN_NNP_VBZ',\n",
       "    'subId': '1',\n",
       "    'sourceFile': 'grammar.xml',\n",
       "    'description': 'Use the base form or the past tense with a plural noun',\n",
       "    'issueType': 'grammar',\n",
       "    'category': {'id': 'GRAMMAR', 'name': 'Grammar'}},\n",
       "   'ignoreForIncompleteSentence': True,\n",
       "   'contextForSureMatch': -1}]}"
      ]
     },
     "execution_count": 63,
     "metadata": {},
     "output_type": "execute_result"
    }
   ],
   "source": [
    "services = lt.filter_lt_messages(G, message='With the plural noun ‘services’, the verb inflection ‘exceeds’ is not correct.')\n",
    "services[0]"
   ]
  },
  {
   "cell_type": "code",
   "execution_count": 64,
   "id": "bac83286-b3b9-40d6-b3cc-3aab26a3dfa0",
   "metadata": {},
   "outputs": [
    {
     "data": {
      "text/html": [
       "<div>\n",
       "<style scoped>\n",
       "    .dataframe tbody tr th:only-of-type {\n",
       "        vertical-align: middle;\n",
       "    }\n",
       "\n",
       "    .dataframe tbody tr th {\n",
       "        vertical-align: top;\n",
       "    }\n",
       "\n",
       "    .dataframe thead th {\n",
       "        text-align: right;\n",
       "    }\n",
       "</style>\n",
       "<table border=\"1\" class=\"dataframe\">\n",
       "  <thead>\n",
       "    <tr style=\"text-align: right;\">\n",
       "      <th></th>\n",
       "      <th>qid</th>\n",
       "      <th>root</th>\n",
       "      <th>nsubj</th>\n",
       "    </tr>\n",
       "  </thead>\n",
       "  <tbody>\n",
       "    <tr>\n",
       "      <th>0</th>\n",
       "      <td>603866</td>\n",
       "      <td>exceeds</td>\n",
       "      <td>percentage</td>\n",
       "    </tr>\n",
       "    <tr>\n",
       "      <th>16</th>\n",
       "      <td>977344</td>\n",
       "      <td>exceeds</td>\n",
       "      <td>balance</td>\n",
       "    </tr>\n",
       "    <tr>\n",
       "      <th>29</th>\n",
       "      <td>11474765</td>\n",
       "      <td>exceeds</td>\n",
       "      <td>Balance</td>\n",
       "    </tr>\n",
       "    <tr>\n",
       "      <th>47</th>\n",
       "      <td>11624179</td>\n",
       "      <td>exceeds</td>\n",
       "      <td>%</td>\n",
       "    </tr>\n",
       "    <tr>\n",
       "      <th>69</th>\n",
       "      <td>12325411</td>\n",
       "      <td>exceeds</td>\n",
       "      <td>Revenue</td>\n",
       "    </tr>\n",
       "  </tbody>\n",
       "</table>\n",
       "</div>"
      ],
      "text/plain": [
       "         qid     root       nsubj\n",
       "0     603866  exceeds  percentage\n",
       "16    977344  exceeds     balance\n",
       "29  11474765  exceeds     Balance\n",
       "47  11624179  exceeds           %\n",
       "69  12325411  exceeds     Revenue"
      ]
     },
     "execution_count": 64,
     "metadata": {},
     "output_type": "execute_result"
    }
   ],
   "source": [
    "qids = [s['_id'] for s in services]\n",
    "sents = [s['caption'] for s in services]\n",
    "\n",
    "pairs = []\n",
    "for doc, qid in zip(nlp.pipe(sents), qids):\n",
    "    root = False\n",
    "    for token in doc:\n",
    "        if token.dep_ == 'ROOT':\n",
    "            root = token\n",
    "            break\n",
    "    if root:\n",
    "        try:\n",
    "            child = [k for k in root.children if k.dep_ == 'nsubj'][0]\n",
    "            pairs.append((qid, root.text, child.text))\n",
    "        except IndexError:\n",
    "            continue\n",
    "\n",
    "pairs = pd.DataFrame(pairs, columns=['qid', 'root', 'nsubj'])\n",
    "pairs.drop_duplicates(subset=['root', 'nsubj'])"
   ]
  },
  {
   "cell_type": "code",
   "execution_count": 65,
   "id": "eb29a067-d6df-4d6d-925c-a5724ee92010",
   "metadata": {},
   "outputs": [
    {
     "data": {
      "text/plain": [
       "{'writeErrors': [],\n",
       " 'writeConcernErrors': [],\n",
       " 'nInserted': 0,\n",
       " 'nUpserted': 0,\n",
       " 'nMatched': 414,\n",
       " 'nModified': 414,\n",
       " 'nRemoved': 0,\n",
       " 'upserted': []}"
      ]
     },
     "execution_count": 65,
     "metadata": {},
     "output_type": "execute_result"
    }
   ],
   "source": [
    "for t in services:\n",
    "    ig = t.get('ignore', [])\n",
    "    if 'NNS_IN_NNP_VBZ' not in ig:\n",
    "        ig.append('NNS_IN_NNP_VBZ')\n",
    "    t['ignore'] = ig\n",
    "\n",
    "    \n",
    "updates = [UpdateOne({'_id': r['_id']}, {'$set': {'ignore': r['ignore']}}) for r in services]\n",
    "wres = db.captions.bulk_write(updates)\n",
    "wres.bulk_api_result"
   ]
  },
  {
   "cell_type": "code",
   "execution_count": 66,
   "id": "22ce23c8-4300-4708-aa4f-d0706cffc2c8",
   "metadata": {},
   "outputs": [
    {
     "data": {
      "text/plain": [
       "[('The singular proper name ‘Republic’ must be used with a third-person or a past tense verb.',\n",
       "  1302),\n",
       " ('Possible typo: you repeated a word', 847),\n",
       " ('The usual collocation for “Interest” is “in”, not “by”.', 795),\n",
       " ('It seems like there are too many consecutive spaces here.', 610),\n",
       " ('With the plural noun ‘imports’, the verb inflection ‘is’ is not correct.',\n",
       "  444),\n",
       " ('With the plural noun ‘gains’, the verb inflection ‘is’ is not correct.',\n",
       "  416),\n",
       " ('With the plural noun ‘services’, the verb inflection ‘exceeds’ is not correct.',\n",
       "  414),\n",
       " ('Possible agreement error. The noun ‘amount’ seems to be countable.', 342),\n",
       " ('Did you just mean “,” or “.”?', 337),\n",
       " ('Possible spelling mistake. ‘Programmes’ is British English.', 330)]"
      ]
     },
     "execution_count": 66,
     "metadata": {},
     "output_type": "execute_result"
    }
   ],
   "source": [
    "ctr.most_common(10)"
   ]
  },
  {
   "cell_type": "code",
   "execution_count": 67,
   "id": "bc777a53-7bbf-4dad-932a-659e5fcf5579",
   "metadata": {},
   "outputs": [
    {
     "data": {
      "text/plain": [
       "{'_id': 2459,\n",
       " 'question_string': 'What is the difference between the highest and the second-highest amount earned from national visitors ?',\n",
       " 'template': 'compound',\n",
       " 'answer': 155000000,\n",
       " 'type': 'dot',\n",
       " 'template_id': 15,\n",
       " 'caption': 'The top two amount earned from national visitors differs by 155000000.',\n",
       " 'matches': [{'message': 'Possible agreement error. The noun ‘amount’ seems to be countable.',\n",
       "   'shortMessage': 'Grammatical problem',\n",
       "   'replacements': [{'value': 'amounts'}],\n",
       "   'offset': 12,\n",
       "   'length': 6,\n",
       "   'context': {'text': 'The top two amount earned from national visitors differs b...',\n",
       "    'offset': 12,\n",
       "    'length': 6},\n",
       "   'sentence': 'The top two amount earned from national visitors differs by 155000000.',\n",
       "   'type': {'typeName': 'Other'},\n",
       "   'rule': {'id': 'CD_NN',\n",
       "    'subId': '1',\n",
       "    'sourceFile': 'grammar.xml',\n",
       "    'description': 'Possible agreement error: numeral + singular countable noun',\n",
       "    'issueType': 'grammar',\n",
       "    'category': {'id': 'GRAMMAR', 'name': 'Grammar'}},\n",
       "   'ignoreForIncompleteSentence': True,\n",
       "   'contextForSureMatch': -1}]}"
      ]
     },
     "execution_count": 67,
     "metadata": {},
     "output_type": "execute_result"
    }
   ],
   "source": [
    "amount = lt.filter_lt_messages(G, message='Possible agreement error. The noun ‘amount’ seems to be countable.')\n",
    "amount[0]"
   ]
  },
  {
   "cell_type": "code",
   "execution_count": 72,
   "id": "009690e7-6bbf-425d-b85c-01515d1f4a81",
   "metadata": {},
   "outputs": [],
   "source": [
    "for c in amount:\n",
    "    c['caption'] = c['caption'].replace('The top two amount', 'The top two amounts')"
   ]
  },
  {
   "cell_type": "code",
   "execution_count": 76,
   "id": "1c874670-f791-4e48-b034-00f13beb2114",
   "metadata": {},
   "outputs": [],
   "source": [
    "for c in amount:\n",
    "    c['caption'] = c['caption'].replace('differs by', 'differ by')"
   ]
  },
  {
   "cell_type": "code",
   "execution_count": 78,
   "id": "68102166-0b9c-46a3-ba04-219a31886232",
   "metadata": {
    "scrolled": true,
    "tags": []
   },
   "outputs": [
    {
     "name": "stderr",
     "output_type": "stream",
     "text": [
      "[Parallel(n_jobs=-1)]: Using backend LokyBackend with 16 concurrent workers.\n",
      "2023-03-21 13:20:46.430879: W tensorflow/compiler/xla/stream_executor/platform/default/dso_loader.cc:64] Could not load dynamic library 'libnvinfer.so.7'; dlerror: libnvinfer.so.7: cannot open shared object file: No such file or directory\n",
      "2023-03-21 13:20:46.431214: W tensorflow/compiler/xla/stream_executor/platform/default/dso_loader.cc:64] Could not load dynamic library 'libnvinfer_plugin.so.7'; dlerror: libnvinfer_plugin.so.7: cannot open shared object file: No such file or directory\n",
      "2023-03-21 13:20:46.431225: W tensorflow/compiler/tf2tensorrt/utils/py_utils.cc:38] TF-TRT Warning: Cannot dlopen some TensorRT libraries. If you would like to use Nvidia GPU with TensorRT, please make sure the missing libraries mentioned above are installed properly.\n",
      "2023-03-21 13:20:46.449369: W tensorflow/compiler/xla/stream_executor/platform/default/dso_loader.cc:64] Could not load dynamic library 'libnvinfer.so.7'; dlerror: libnvinfer.so.7: cannot open shared object file: No such file or directory\n",
      "2023-03-21 13:20:46.449581: W tensorflow/compiler/xla/stream_executor/platform/default/dso_loader.cc:64] Could not load dynamic library 'libnvinfer_plugin.so.7'; dlerror: libnvinfer_plugin.so.7: cannot open shared object file: No such file or directory\n",
      "2023-03-21 13:20:46.449634: W tensorflow/compiler/tf2tensorrt/utils/py_utils.cc:38] TF-TRT Warning: Cannot dlopen some TensorRT libraries. If you would like to use Nvidia GPU with TensorRT, please make sure the missing libraries mentioned above are installed properly.\n",
      "2023-03-21 13:20:46.453837: W tensorflow/compiler/xla/stream_executor/platform/default/dso_loader.cc:64] Could not load dynamic library 'libnvinfer.so.7'; dlerror: libnvinfer.so.7: cannot open shared object file: No such file or directory\n",
      "2023-03-21 13:20:46.454036: W tensorflow/compiler/xla/stream_executor/platform/default/dso_loader.cc:64] Could not load dynamic library 'libnvinfer_plugin.so.7'; dlerror: libnvinfer_plugin.so.7: cannot open shared object file: No such file or directory\n",
      "2023-03-21 13:20:46.454083: W tensorflow/compiler/tf2tensorrt/utils/py_utils.cc:38] TF-TRT Warning: Cannot dlopen some TensorRT libraries. If you would like to use Nvidia GPU with TensorRT, please make sure the missing libraries mentioned above are installed properly.\n",
      "2023-03-21 13:20:46.478521: W tensorflow/compiler/xla/stream_executor/platform/default/dso_loader.cc:64] Could not load dynamic library 'libnvinfer.so.7'; dlerror: libnvinfer.so.7: cannot open shared object file: No such file or directory\n",
      "2023-03-21 13:20:46.478799: W tensorflow/compiler/xla/stream_executor/platform/default/dso_loader.cc:64] Could not load dynamic library 'libnvinfer_plugin.so.7'; dlerror: libnvinfer_plugin.so.7: cannot open shared object file: No such file or directory\n",
      "2023-03-21 13:20:46.478848: W tensorflow/compiler/tf2tensorrt/utils/py_utils.cc:38] TF-TRT Warning: Cannot dlopen some TensorRT libraries. If you would like to use Nvidia GPU with TensorRT, please make sure the missing libraries mentioned above are installed properly.\n",
      "2023-03-21 13:20:46.486226: W tensorflow/compiler/xla/stream_executor/platform/default/dso_loader.cc:64] Could not load dynamic library 'libnvinfer.so.7'; dlerror: libnvinfer.so.7: cannot open shared object file: No such file or directory\n",
      "2023-03-21 13:20:46.486397: W tensorflow/compiler/xla/stream_executor/platform/default/dso_loader.cc:64] Could not load dynamic library 'libnvinfer_plugin.so.7'; dlerror: libnvinfer_plugin.so.7: cannot open shared object file: No such file or directory\n",
      "2023-03-21 13:20:46.486443: W tensorflow/compiler/tf2tensorrt/utils/py_utils.cc:38] TF-TRT Warning: Cannot dlopen some TensorRT libraries. If you would like to use Nvidia GPU with TensorRT, please make sure the missing libraries mentioned above are installed properly.\n",
      "2023-03-21 13:20:46.502045: W tensorflow/compiler/xla/stream_executor/platform/default/dso_loader.cc:64] Could not load dynamic library 'libnvinfer.so.7'; dlerror: libnvinfer.so.7: cannot open shared object file: No such file or directory\n",
      "2023-03-21 13:20:46.502237: W tensorflow/compiler/xla/stream_executor/platform/default/dso_loader.cc:64] Could not load dynamic library 'libnvinfer_plugin.so.7'; dlerror: libnvinfer_plugin.so.7: cannot open shared object file: No such file or directory\n",
      "2023-03-21 13:20:46.502286: W tensorflow/compiler/tf2tensorrt/utils/py_utils.cc:38] TF-TRT Warning: Cannot dlopen some TensorRT libraries. If you would like to use Nvidia GPU with TensorRT, please make sure the missing libraries mentioned above are installed properly.\n",
      "2023-03-21 13:20:46.556535: W tensorflow/compiler/xla/stream_executor/platform/default/dso_loader.cc:64] Could not load dynamic library 'libnvinfer.so.7'; dlerror: libnvinfer.so.7: cannot open shared object file: No such file or directory\n",
      "2023-03-21 13:20:46.556734: W tensorflow/compiler/xla/stream_executor/platform/default/dso_loader.cc:64] Could not load dynamic library 'libnvinfer_plugin.so.7'; dlerror: libnvinfer_plugin.so.7: cannot open shared object file: No such file or directory\n",
      "2023-03-21 13:20:46.556777: W tensorflow/compiler/tf2tensorrt/utils/py_utils.cc:38] TF-TRT Warning: Cannot dlopen some TensorRT libraries. If you would like to use Nvidia GPU with TensorRT, please make sure the missing libraries mentioned above are installed properly.\n",
      "2023-03-21 13:20:46.590051: W tensorflow/compiler/xla/stream_executor/platform/default/dso_loader.cc:64] Could not load dynamic library 'libnvinfer.so.7'; dlerror: libnvinfer.so.7: cannot open shared object file: No such file or directory\n",
      "2023-03-21 13:20:46.590242: W tensorflow/compiler/xla/stream_executor/platform/default/dso_loader.cc:64] Could not load dynamic library 'libnvinfer_plugin.so.7'; dlerror: libnvinfer_plugin.so.7: cannot open shared object file: No such file or directory\n",
      "2023-03-21 13:20:46.590289: W tensorflow/compiler/tf2tensorrt/utils/py_utils.cc:38] TF-TRT Warning: Cannot dlopen some TensorRT libraries. If you would like to use Nvidia GPU with TensorRT, please make sure the missing libraries mentioned above are installed properly.\n",
      "2023-03-21 13:20:46.615969: W tensorflow/compiler/xla/stream_executor/platform/default/dso_loader.cc:64] Could not load dynamic library 'libnvinfer.so.7'; dlerror: libnvinfer.so.7: cannot open shared object file: No such file or directory\n",
      "2023-03-21 13:20:46.616150: W tensorflow/compiler/xla/stream_executor/platform/default/dso_loader.cc:64] Could not load dynamic library 'libnvinfer_plugin.so.7'; dlerror: libnvinfer_plugin.so.7: cannot open shared object file: No such file or directory\n",
      "2023-03-21 13:20:46.616207: W tensorflow/compiler/tf2tensorrt/utils/py_utils.cc:38] TF-TRT Warning: Cannot dlopen some TensorRT libraries. If you would like to use Nvidia GPU with TensorRT, please make sure the missing libraries mentioned above are installed properly.\n",
      "2023-03-21 13:20:46.656876: W tensorflow/compiler/xla/stream_executor/platform/default/dso_loader.cc:64] Could not load dynamic library 'libnvinfer.so.7'; dlerror: libnvinfer.so.7: cannot open shared object file: No such file or directory\n",
      "2023-03-21 13:20:46.657169: W tensorflow/compiler/xla/stream_executor/platform/default/dso_loader.cc:64] Could not load dynamic library 'libnvinfer_plugin.so.7'; dlerror: libnvinfer_plugin.so.7: cannot open shared object file: No such file or directory\n",
      "2023-03-21 13:20:46.657180: W tensorflow/compiler/tf2tensorrt/utils/py_utils.cc:38] TF-TRT Warning: Cannot dlopen some TensorRT libraries. If you would like to use Nvidia GPU with TensorRT, please make sure the missing libraries mentioned above are installed properly.\n",
      "2023-03-21 13:20:46.671752: W tensorflow/compiler/xla/stream_executor/platform/default/dso_loader.cc:64] Could not load dynamic library 'libnvinfer.so.7'; dlerror: libnvinfer.so.7: cannot open shared object file: No such file or directory\n",
      "2023-03-21 13:20:46.671834: W tensorflow/compiler/xla/stream_executor/platform/default/dso_loader.cc:64] Could not load dynamic library 'libnvinfer.so.7'; dlerror: libnvinfer.so.7: cannot open shared object file: No such file or directory\n",
      "2023-03-21 13:20:46.671922: W tensorflow/compiler/xla/stream_executor/platform/default/dso_loader.cc:64] Could not load dynamic library 'libnvinfer_plugin.so.7'; dlerror: libnvinfer_plugin.so.7: cannot open shared object file: No such file or directory\n",
      "2023-03-21 13:20:46.671953: W tensorflow/compiler/tf2tensorrt/utils/py_utils.cc:38] TF-TRT Warning: Cannot dlopen some TensorRT libraries. If you would like to use Nvidia GPU with TensorRT, please make sure the missing libraries mentioned above are installed properly.\n",
      "2023-03-21 13:20:46.671964: W tensorflow/compiler/xla/stream_executor/platform/default/dso_loader.cc:64] Could not load dynamic library 'libnvinfer_plugin.so.7'; dlerror: libnvinfer_plugin.so.7: cannot open shared object file: No such file or directory\n",
      "2023-03-21 13:20:46.671977: W tensorflow/compiler/tf2tensorrt/utils/py_utils.cc:38] TF-TRT Warning: Cannot dlopen some TensorRT libraries. If you would like to use Nvidia GPU with TensorRT, please make sure the missing libraries mentioned above are installed properly.\n",
      "2023-03-21 13:20:46.702565: W tensorflow/compiler/xla/stream_executor/platform/default/dso_loader.cc:64] Could not load dynamic library 'libnvinfer.so.7'; dlerror: libnvinfer.so.7: cannot open shared object file: No such file or directory\n",
      "2023-03-21 13:20:46.702780: W tensorflow/compiler/xla/stream_executor/platform/default/dso_loader.cc:64] Could not load dynamic library 'libnvinfer_plugin.so.7'; dlerror: libnvinfer_plugin.so.7: cannot open shared object file: No such file or directory\n",
      "2023-03-21 13:20:46.702834: W tensorflow/compiler/tf2tensorrt/utils/py_utils.cc:38] TF-TRT Warning: Cannot dlopen some TensorRT libraries. If you would like to use Nvidia GPU with TensorRT, please make sure the missing libraries mentioned above are installed properly.\n",
      "2023-03-21 13:20:46.740172: W tensorflow/compiler/xla/stream_executor/platform/default/dso_loader.cc:64] Could not load dynamic library 'libnvinfer.so.7'; dlerror: libnvinfer.so.7: cannot open shared object file: No such file or directory\n",
      "2023-03-21 13:20:46.740357: W tensorflow/compiler/xla/stream_executor/platform/default/dso_loader.cc:64] Could not load dynamic library 'libnvinfer_plugin.so.7'; dlerror: libnvinfer_plugin.so.7: cannot open shared object file: No such file or directory\n",
      "2023-03-21 13:20:46.740401: W tensorflow/compiler/tf2tensorrt/utils/py_utils.cc:38] TF-TRT Warning: Cannot dlopen some TensorRT libraries. If you would like to use Nvidia GPU with TensorRT, please make sure the missing libraries mentioned above are installed properly.\n",
      "2023-03-21 13:20:46.776370: W tensorflow/compiler/xla/stream_executor/platform/default/dso_loader.cc:64] Could not load dynamic library 'libnvinfer.so.7'; dlerror: libnvinfer.so.7: cannot open shared object file: No such file or directory\n",
      "2023-03-21 13:20:46.776571: W tensorflow/compiler/xla/stream_executor/platform/default/dso_loader.cc:64] Could not load dynamic library 'libnvinfer_plugin.so.7'; dlerror: libnvinfer_plugin.so.7: cannot open shared object file: No such file or directory\n",
      "2023-03-21 13:20:46.776625: W tensorflow/compiler/tf2tensorrt/utils/py_utils.cc:38] TF-TRT Warning: Cannot dlopen some TensorRT libraries. If you would like to use Nvidia GPU with TensorRT, please make sure the missing libraries mentioned above are installed properly.\n",
      "2023-03-21 13:20:46.909893: W tensorflow/compiler/xla/stream_executor/platform/default/dso_loader.cc:64] Could not load dynamic library 'libnvinfer.so.7'; dlerror: libnvinfer.so.7: cannot open shared object file: No such file or directory\n",
      "2023-03-21 13:20:46.910197: W tensorflow/compiler/xla/stream_executor/platform/default/dso_loader.cc:64] Could not load dynamic library 'libnvinfer_plugin.so.7'; dlerror: libnvinfer_plugin.so.7: cannot open shared object file: No such file or directory\n",
      "2023-03-21 13:20:46.910210: W tensorflow/compiler/tf2tensorrt/utils/py_utils.cc:38] TF-TRT Warning: Cannot dlopen some TensorRT libraries. If you would like to use Nvidia GPU with TensorRT, please make sure the missing libraries mentioned above are installed properly.\n",
      "2023-03-21 13:20:48.320021: W tensorflow/compiler/xla/stream_executor/platform/default/dso_loader.cc:64] Could not load dynamic library 'libcusolver.so.11'; dlerror: libcusolver.so.11: cannot open shared object file: No such file or directory\n",
      "2023-03-21 13:20:48.320410: W tensorflow/core/common_runtime/gpu/gpu_device.cc:1934] Cannot dlopen some GPU libraries. Please make sure the missing libraries mentioned above are installed properly if you would like to use GPU. Follow the guide at https://www.tensorflow.org/install/gpu for how to download and setup the required libraries for your platform.\n",
      "Skipping registering GPU devices...\n",
      "2023-03-21 13:20:48.433491: W tensorflow/compiler/xla/stream_executor/platform/default/dso_loader.cc:64] Could not load dynamic library 'libcusolver.so.11'; dlerror: libcusolver.so.11: cannot open shared object file: No such file or directory\n",
      "2023-03-21 13:20:48.433659: W tensorflow/core/common_runtime/gpu/gpu_device.cc:1934] Cannot dlopen some GPU libraries. Please make sure the missing libraries mentioned above are installed properly if you would like to use GPU. Follow the guide at https://www.tensorflow.org/install/gpu for how to download and setup the required libraries for your platform.\n",
      "Skipping registering GPU devices...\n",
      "2023-03-21 13:20:48.443390: W tensorflow/compiler/xla/stream_executor/platform/default/dso_loader.cc:64] Could not load dynamic library 'libcusolver.so.11'; dlerror: libcusolver.so.11: cannot open shared object file: No such file or directory\n",
      "2023-03-21 13:20:48.443545: W tensorflow/core/common_runtime/gpu/gpu_device.cc:1934] Cannot dlopen some GPU libraries. Please make sure the missing libraries mentioned above are installed properly if you would like to use GPU. Follow the guide at https://www.tensorflow.org/install/gpu for how to download and setup the required libraries for your platform.\n",
      "Skipping registering GPU devices...\n",
      "2023-03-21 13:20:48.466442: W tensorflow/compiler/xla/stream_executor/platform/default/dso_loader.cc:64] Could not load dynamic library 'libcusolver.so.11'; dlerror: libcusolver.so.11: cannot open shared object file: No such file or directory\n",
      "2023-03-21 13:20:48.466599: W tensorflow/core/common_runtime/gpu/gpu_device.cc:1934] Cannot dlopen some GPU libraries. Please make sure the missing libraries mentioned above are installed properly if you would like to use GPU. Follow the guide at https://www.tensorflow.org/install/gpu for how to download and setup the required libraries for your platform.\n",
      "Skipping registering GPU devices...\n",
      "2023-03-21 13:20:48.477643: W tensorflow/compiler/xla/stream_executor/platform/default/dso_loader.cc:64] Could not load dynamic library 'libcusolver.so.11'; dlerror: libcusolver.so.11: cannot open shared object file: No such file or directory\n",
      "2023-03-21 13:20:48.477813: W tensorflow/core/common_runtime/gpu/gpu_device.cc:1934] Cannot dlopen some GPU libraries. Please make sure the missing libraries mentioned above are installed properly if you would like to use GPU. Follow the guide at https://www.tensorflow.org/install/gpu for how to download and setup the required libraries for your platform.\n",
      "Skipping registering GPU devices...\n",
      "2023-03-21 13:20:48.516871: W tensorflow/compiler/xla/stream_executor/platform/default/dso_loader.cc:64] Could not load dynamic library 'libcusolver.so.11'; dlerror: libcusolver.so.11: cannot open shared object file: No such file or directory\n",
      "2023-03-21 13:20:48.517031: W tensorflow/core/common_runtime/gpu/gpu_device.cc:1934] Cannot dlopen some GPU libraries. Please make sure the missing libraries mentioned above are installed properly if you would like to use GPU. Follow the guide at https://www.tensorflow.org/install/gpu for how to download and setup the required libraries for your platform.\n",
      "Skipping registering GPU devices...\n",
      "2023-03-21 13:20:48.541795: W tensorflow/compiler/xla/stream_executor/platform/default/dso_loader.cc:64] Could not load dynamic library 'libcusolver.so.11'; dlerror: libcusolver.so.11: cannot open shared object file: No such file or directory\n",
      "2023-03-21 13:20:48.542016: W tensorflow/core/common_runtime/gpu/gpu_device.cc:1934] Cannot dlopen some GPU libraries. Please make sure the missing libraries mentioned above are installed properly if you would like to use GPU. Follow the guide at https://www.tensorflow.org/install/gpu for how to download and setup the required libraries for your platform.\n",
      "Skipping registering GPU devices...\n",
      "2023-03-21 13:20:48.551034: W tensorflow/compiler/xla/stream_executor/platform/default/dso_loader.cc:64] Could not load dynamic library 'libcusolver.so.11'; dlerror: libcusolver.so.11: cannot open shared object file: No such file or directory\n",
      "2023-03-21 13:20:48.551185: W tensorflow/core/common_runtime/gpu/gpu_device.cc:1934] Cannot dlopen some GPU libraries. Please make sure the missing libraries mentioned above are installed properly if you would like to use GPU. Follow the guide at https://www.tensorflow.org/install/gpu for how to download and setup the required libraries for your platform.\n",
      "Skipping registering GPU devices...\n",
      "2023-03-21 13:20:48.609132: W tensorflow/compiler/xla/stream_executor/platform/default/dso_loader.cc:64] Could not load dynamic library 'libcusolver.so.11'; dlerror: libcusolver.so.11: cannot open shared object file: No such file or directory\n",
      "2023-03-21 13:20:48.609296: W tensorflow/core/common_runtime/gpu/gpu_device.cc:1934] Cannot dlopen some GPU libraries. Please make sure the missing libraries mentioned above are installed properly if you would like to use GPU. Follow the guide at https://www.tensorflow.org/install/gpu for how to download and setup the required libraries for your platform.\n",
      "Skipping registering GPU devices...\n",
      "2023-03-21 13:20:48.627630: W tensorflow/compiler/xla/stream_executor/platform/default/dso_loader.cc:64] Could not load dynamic library 'libcusolver.so.11'; dlerror: libcusolver.so.11: cannot open shared object file: No such file or directory\n",
      "2023-03-21 13:20:48.627725: W tensorflow/core/common_runtime/gpu/gpu_device.cc:1934] Cannot dlopen some GPU libraries. Please make sure the missing libraries mentioned above are installed properly if you would like to use GPU. Follow the guide at https://www.tensorflow.org/install/gpu for how to download and setup the required libraries for your platform.\n",
      "Skipping registering GPU devices...\n",
      "2023-03-21 13:20:48.677717: W tensorflow/compiler/xla/stream_executor/platform/default/dso_loader.cc:64] Could not load dynamic library 'libcusolver.so.11'; dlerror: libcusolver.so.11: cannot open shared object file: No such file or directory\n",
      "2023-03-21 13:20:48.677927: W tensorflow/core/common_runtime/gpu/gpu_device.cc:1934] Cannot dlopen some GPU libraries. Please make sure the missing libraries mentioned above are installed properly if you would like to use GPU. Follow the guide at https://www.tensorflow.org/install/gpu for how to download and setup the required libraries for your platform.\n",
      "Skipping registering GPU devices...\n",
      "2023-03-21 13:20:48.723116: W tensorflow/compiler/xla/stream_executor/platform/default/dso_loader.cc:64] Could not load dynamic library 'libcusolver.so.11'; dlerror: libcusolver.so.11: cannot open shared object file: No such file or directory\n",
      "2023-03-21 13:20:48.723319: W tensorflow/core/common_runtime/gpu/gpu_device.cc:1934] Cannot dlopen some GPU libraries. Please make sure the missing libraries mentioned above are installed properly if you would like to use GPU. Follow the guide at https://www.tensorflow.org/install/gpu for how to download and setup the required libraries for your platform.\n",
      "Skipping registering GPU devices...\n",
      "2023-03-21 13:20:48.749303: W tensorflow/compiler/xla/stream_executor/platform/default/dso_loader.cc:64] Could not load dynamic library 'libcusolver.so.11'; dlerror: libcusolver.so.11: cannot open shared object file: No such file or directory\n",
      "2023-03-21 13:20:48.749575: W tensorflow/core/common_runtime/gpu/gpu_device.cc:1934] Cannot dlopen some GPU libraries. Please make sure the missing libraries mentioned above are installed properly if you would like to use GPU. Follow the guide at https://www.tensorflow.org/install/gpu for how to download and setup the required libraries for your platform.\n",
      "Skipping registering GPU devices...\n",
      "2023-03-21 13:20:48.798229: W tensorflow/compiler/xla/stream_executor/platform/default/dso_loader.cc:64] Could not load dynamic library 'libcusolver.so.11'; dlerror: libcusolver.so.11: cannot open shared object file: No such file or directory\n",
      "2023-03-21 13:20:48.798420: W tensorflow/core/common_runtime/gpu/gpu_device.cc:1934] Cannot dlopen some GPU libraries. Please make sure the missing libraries mentioned above are installed properly if you would like to use GPU. Follow the guide at https://www.tensorflow.org/install/gpu for how to download and setup the required libraries for your platform.\n",
      "Skipping registering GPU devices...\n",
      "2023-03-21 13:20:48.820552: W tensorflow/compiler/xla/stream_executor/platform/default/dso_loader.cc:64] Could not load dynamic library 'libcusolver.so.11'; dlerror: libcusolver.so.11: cannot open shared object file: No such file or directory\n",
      "2023-03-21 13:20:48.820754: W tensorflow/core/common_runtime/gpu/gpu_device.cc:1934] Cannot dlopen some GPU libraries. Please make sure the missing libraries mentioned above are installed properly if you would like to use GPU. Follow the guide at https://www.tensorflow.org/install/gpu for how to download and setup the required libraries for your platform.\n",
      "Skipping registering GPU devices...\n",
      "2023-03-21 13:20:48.827061: W tensorflow/compiler/xla/stream_executor/platform/default/dso_loader.cc:64] Could not load dynamic library 'libcusolver.so.11'; dlerror: libcusolver.so.11: cannot open shared object file: No such file or directory\n",
      "2023-03-21 13:20:48.827516: W tensorflow/core/common_runtime/gpu/gpu_device.cc:1934] Cannot dlopen some GPU libraries. Please make sure the missing libraries mentioned above are installed properly if you would like to use GPU. Follow the guide at https://www.tensorflow.org/install/gpu for how to download and setup the required libraries for your platform.\n",
      "Skipping registering GPU devices...\n",
      "[Parallel(n_jobs=-1)]: Done   9 tasks      | elapsed:    5.4s\n",
      "[Parallel(n_jobs=-1)]: Done 168 tasks      | elapsed:    6.0s\n",
      "[Parallel(n_jobs=-1)]: Done 311 out of 342 | elapsed:    6.1s remaining:    0.6s\n",
      "[Parallel(n_jobs=-1)]: Done 342 out of 342 | elapsed:    6.2s finished\n"
     ]
    }
   ],
   "source": [
    "res = Parallel(n_jobs=-1, verbose=2)(delayed(lt.process)(c['_id'], c['caption'], c.get('ignore')) for c in amount)\n",
    "res = [r for r in res if len(r['matches']) > 0]"
   ]
  },
  {
   "cell_type": "code",
   "execution_count": 79,
   "id": "4af1cd5b-fc41-44a1-8a07-05631b0ce309",
   "metadata": {},
   "outputs": [
    {
     "data": {
      "text/plain": [
       "[]"
      ]
     },
     "execution_count": 79,
     "metadata": {},
     "output_type": "execute_result"
    }
   ],
   "source": [
    "res"
   ]
  },
  {
   "cell_type": "code",
   "execution_count": 80,
   "id": "f6ae5c0c-8633-4a0e-a4c5-c7acada000be",
   "metadata": {},
   "outputs": [
    {
     "data": {
      "text/plain": [
       "{'writeErrors': [],\n",
       " 'writeConcernErrors': [],\n",
       " 'nInserted': 0,\n",
       " 'nUpserted': 0,\n",
       " 'nMatched': 342,\n",
       " 'nModified': 342,\n",
       " 'nRemoved': 0,\n",
       " 'upserted': []}"
      ]
     },
     "execution_count": 80,
     "metadata": {},
     "output_type": "execute_result"
    }
   ],
   "source": [
    "updates = [UpdateOne({'_id': r['_id']}, {'$set': {'caption': r['caption']}}) for r in amount]\n",
    "wres = db.captions.bulk_write(updates)\n",
    "wres.bulk_api_result"
   ]
  },
  {
   "cell_type": "code",
   "execution_count": 81,
   "id": "92ba1cb6-5a83-4075-97d0-6d4b6a74b110",
   "metadata": {},
   "outputs": [
    {
     "data": {
      "text/plain": [
       "{'_id': 19498351,\n",
       " 'question_string': 'What is the difference between the Number of troops, police, and military observers in mandate in 2012 and 2013 ?',\n",
       " 'template': 'arithmetic',\n",
       " 'answer': -20.0,\n",
       " 'type': 'dot_line',\n",
       " 'template_id': 44,\n",
       " 'caption': 'The military observers in mandate are -20.0 greater than the Number of troops, police,.',\n",
       " 'matches': [{'message': 'Did you just mean “,” or “.”?',\n",
       "   'shortMessage': '',\n",
       "   'replacements': [{'value': ','}, {'value': '.'}],\n",
       "   'offset': 85,\n",
       "   'length': 2,\n",
       "   'context': {'text': '...reater than the Number of troops, police,.',\n",
       "    'offset': 43,\n",
       "    'length': 2},\n",
       "   'sentence': 'The military observers in mandate are -20.0 greater than the Number of troops, police,.',\n",
       "   'type': {'typeName': 'Other'},\n",
       "   'rule': {'id': 'COMMA_PERIOD',\n",
       "    'subId': '1',\n",
       "    'sourceFile': 'grammar.xml',\n",
       "    'description': 'redundant punctuation',\n",
       "    'issueType': 'typographical',\n",
       "    'category': {'id': 'PUNCTUATION', 'name': 'Punctuation'}},\n",
       "   'ignoreForIncompleteSentence': True,\n",
       "   'contextForSureMatch': 4}]}"
      ]
     },
     "execution_count": 81,
     "metadata": {},
     "output_type": "execute_result"
    }
   ],
   "source": [
    "comma = lt.filter_lt_messages(G, message='Did you just mean “,” or “.”?')\n",
    "comma[0]"
   ]
  },
  {
   "cell_type": "code",
   "execution_count": 83,
   "id": "b962f295-3e4f-4864-907f-9a5201486352",
   "metadata": {},
   "outputs": [],
   "source": [
    "for c in comma:\n",
    "    assert c['caption'].endswith(',.')"
   ]
  },
  {
   "cell_type": "code",
   "execution_count": 84,
   "id": "04e5b5ee-a3f8-4745-b298-3b3e98d7f797",
   "metadata": {},
   "outputs": [],
   "source": [
    "for c in comma:\n",
    "    c['caption'] = c['caption'].replace(',.', '.')"
   ]
  },
  {
   "cell_type": "code",
   "execution_count": 85,
   "id": "0ac8ef13-0593-4abb-934b-46be249bf90b",
   "metadata": {},
   "outputs": [
    {
     "name": "stderr",
     "output_type": "stream",
     "text": [
      "[Parallel(n_jobs=-1)]: Using backend LokyBackend with 16 concurrent workers.\n",
      "[Parallel(n_jobs=-1)]: Done   9 tasks      | elapsed:    0.0s\n",
      "[Parallel(n_jobs=-1)]: Done 255 tasks      | elapsed:    0.3s\n",
      "[Parallel(n_jobs=-1)]: Done 337 out of 337 | elapsed:    0.4s finished\n"
     ]
    }
   ],
   "source": [
    "res = Parallel(n_jobs=-1, verbose=2)(delayed(lt.process)(c['_id'], c['caption'], c.get('ignore')) for c in comma)\n",
    "res = [r for r in res if len(r['matches']) > 0]"
   ]
  },
  {
   "cell_type": "code",
   "execution_count": 86,
   "id": "6507fbe7-4f60-4d68-8eca-84d46a4bf734",
   "metadata": {},
   "outputs": [
    {
     "data": {
      "text/plain": [
       "[]"
      ]
     },
     "execution_count": 86,
     "metadata": {},
     "output_type": "execute_result"
    }
   ],
   "source": [
    "res"
   ]
  },
  {
   "cell_type": "code",
   "execution_count": 87,
   "id": "686c1695-0598-4449-b89c-8a21b8d6cce2",
   "metadata": {},
   "outputs": [
    {
     "data": {
      "text/plain": [
       "{'writeErrors': [],\n",
       " 'writeConcernErrors': [],\n",
       " 'nInserted': 0,\n",
       " 'nUpserted': 0,\n",
       " 'nMatched': 337,\n",
       " 'nModified': 337,\n",
       " 'nRemoved': 0,\n",
       " 'upserted': []}"
      ]
     },
     "execution_count": 87,
     "metadata": {},
     "output_type": "execute_result"
    }
   ],
   "source": [
    "updates = [UpdateOne({'_id': r['_id']}, {'$set': {'caption': r['caption']}}) for r in comma]\n",
    "wres = db.captions.bulk_write(updates)\n",
    "wres.bulk_api_result"
   ]
  },
  {
   "cell_type": "code",
   "execution_count": 89,
   "id": "5e9a0b60-9948-4a27-9ee1-c6e5f7d6a105",
   "metadata": {},
   "outputs": [
    {
     "data": {
      "text/plain": [
       "[('The singular proper name ‘Republic’ must be used with a third-person or a past tense verb.',\n",
       "  1302),\n",
       " ('Possible typo: you repeated a word', 847),\n",
       " ('The usual collocation for “Interest” is “in”, not “by”.', 795),\n",
       " ('It seems like there are too many consecutive spaces here.', 610),\n",
       " ('With the plural noun ‘imports’, the verb inflection ‘is’ is not correct.',\n",
       "  444),\n",
       " ('With the plural noun ‘gains’, the verb inflection ‘is’ is not correct.',\n",
       "  416),\n",
       " ('With the plural noun ‘services’, the verb inflection ‘exceeds’ is not correct.',\n",
       "  414),\n",
       " ('Possible agreement error. The noun ‘amount’ seems to be countable.', 342),\n",
       " ('Did you just mean “,” or “.”?', 337),\n",
       " ('Possible spelling mistake. ‘Programmes’ is British English.', 330),\n",
       " ('This phrase is duplicated. You should probably use “aid received” only once.',\n",
       "  304),\n",
       " ('With the plural noun ‘services’, the verb inflection ‘is’ is not correct.',\n",
       "  294),\n",
       " ('With the plural noun ‘subscribers’, the verb inflection ‘is’ is not correct.',\n",
       "  284),\n",
       " ('With the plural noun ‘institutions’, the verb inflection ‘is’ is not correct.',\n",
       "  271),\n",
       " ('With the plural noun ‘metals’, the verb inflection ‘is’ is not correct.',\n",
       "  263)]"
      ]
     },
     "execution_count": 89,
     "metadata": {},
     "output_type": "execute_result"
    }
   ],
   "source": [
    "ctr.most_common(15)"
   ]
  },
  {
   "cell_type": "code",
   "execution_count": 91,
   "id": "e573b486-94ab-46bf-b7f5-cff8ed61b24f",
   "metadata": {},
   "outputs": [
    {
     "data": {
      "text/plain": [
       "{'_id': 19532942,\n",
       " 'question_string': 'What is the average Aid received (current US$) of Kiribati per Type of aid received ?',\n",
       " 'template': 'arithmetic',\n",
       " 'answer': 4030000.0,\n",
       " 'type': 'vbar',\n",
       " 'template_id': 35,\n",
       " 'caption': 'The average per Type of aid received Aid received (current USD) of Kiribati is 4030000.0.',\n",
       " 'matches': [{'message': 'This phrase is duplicated. You should probably use “aid received” only once.',\n",
       "   'shortMessage': 'Duplicated phrase',\n",
       "   'replacements': [{'value': 'aid received'}],\n",
       "   'offset': 24,\n",
       "   'length': 25,\n",
       "   'context': {'text': 'The average per Type of aid received Aid received (current USD) of Kiribati is 4030000.0....',\n",
       "    'offset': 24,\n",
       "    'length': 25},\n",
       "   'sentence': 'The average per Type of aid received Aid received (current USD) of Kiribati is 4030000.0.',\n",
       "   'type': {'typeName': 'Other'},\n",
       "   'rule': {'id': 'PHRASE_REPETITION',\n",
       "    'subId': '1',\n",
       "    'sourceFile': 'grammar.xml',\n",
       "    'description': \"Repetition of two words ('at the at the')\",\n",
       "    'issueType': 'grammar',\n",
       "    'category': {'id': 'GRAMMAR', 'name': 'Grammar'}},\n",
       "   'ignoreForIncompleteSentence': True,\n",
       "   'contextForSureMatch': 6}]}"
      ]
     },
     "execution_count": 91,
     "metadata": {},
     "output_type": "execute_result"
    }
   ],
   "source": [
    "aid = lt.filter_lt_messages(G, message='This phrase is duplicated. You should probably use “aid received” only once.')\n",
    "aid[0]"
   ]
  },
  {
   "cell_type": "code",
   "execution_count": 92,
   "id": "7289130d-6660-494a-8335-17c330b652d7",
   "metadata": {},
   "outputs": [
    {
     "data": {
      "text/plain": [
       "'The mean per Type of aid received Aid received (constant 2012 the US$) of Swaziland is 41370000.0.'"
      ]
     },
     "execution_count": 92,
     "metadata": {},
     "output_type": "execute_result"
    }
   ],
   "source": [
    "random.choice(aid)['caption']"
   ]
  },
  {
   "cell_type": "code",
   "execution_count": 93,
   "id": "3162ffdb-380f-4618-9d6f-5883c75bc0f3",
   "metadata": {},
   "outputs": [],
   "source": [
    "for c in aid:\n",
    "    c['caption'] = c['caption'].replace('aid received Aid received', 'aid received')"
   ]
  },
  {
   "cell_type": "code",
   "execution_count": 94,
   "id": "6c084b64-431d-4065-9e95-b74d3a67267b",
   "metadata": {},
   "outputs": [
    {
     "name": "stderr",
     "output_type": "stream",
     "text": [
      "[Parallel(n_jobs=-1)]: Using backend LokyBackend with 16 concurrent workers.\n",
      "[Parallel(n_jobs=-1)]: Done   9 tasks      | elapsed:    0.0s\n",
      "[Parallel(n_jobs=-1)]: Done 258 tasks      | elapsed:    0.3s\n",
      "[Parallel(n_jobs=-1)]: Done 304 out of 304 | elapsed:    0.4s finished\n"
     ]
    }
   ],
   "source": [
    "res = Parallel(n_jobs=-1, verbose=2)(delayed(lt.process)(c['_id'], c['caption'], c.get('ignore')) for c in aid)\n",
    "res = [r for r in res if len(r['matches']) > 0]"
   ]
  },
  {
   "cell_type": "code",
   "execution_count": 95,
   "id": "d0c01bf3-b74d-4952-b66a-a4799a3d6ecb",
   "metadata": {},
   "outputs": [
    {
     "data": {
      "text/plain": [
       "[]"
      ]
     },
     "execution_count": 95,
     "metadata": {},
     "output_type": "execute_result"
    }
   ],
   "source": [
    "res"
   ]
  },
  {
   "cell_type": "code",
   "execution_count": 96,
   "id": "b1bf09d0-82d4-488d-ad8c-92c8abefd9a2",
   "metadata": {},
   "outputs": [
    {
     "data": {
      "text/plain": [
       "{'writeErrors': [],\n",
       " 'writeConcernErrors': [],\n",
       " 'nInserted': 0,\n",
       " 'nUpserted': 0,\n",
       " 'nMatched': 304,\n",
       " 'nModified': 304,\n",
       " 'nRemoved': 0,\n",
       " 'upserted': []}"
      ]
     },
     "execution_count": 96,
     "metadata": {},
     "output_type": "execute_result"
    }
   ],
   "source": [
    "updates = [UpdateOne({'_id': r['_id']}, {'$set': {'caption': r['caption']}}) for r in aid]\n",
    "wres = db.captions.bulk_write(updates)\n",
    "wres.bulk_api_result"
   ]
  },
  {
   "cell_type": "code",
   "execution_count": 101,
   "id": "2c983032-8a83-4abc-8f5e-9f8727f3d8e1",
   "metadata": {},
   "outputs": [],
   "source": [
    "verb_infl = [\n",
    "    'With the plural noun ‘services’, the verb inflection ‘is’ is not correct.',\n",
    "    'With the plural noun ‘subscribers’, the verb inflection ‘is’ is not correct.',\n",
    "    'With the plural noun ‘metals’, the verb inflection ‘is’ is not correct.'\n",
    "    'With the plural noun ‘institutions’, the verb inflection ‘is’ is not correct.'\n",
    "]\n",
    "X = []\n",
    "for msg in verb_infl:\n",
    "    X.extend(lt.filter_lt_messages(G, message=msg))\n",
    "verb_infl = X"
   ]
  },
  {
   "cell_type": "code",
   "execution_count": 102,
   "id": "1b944623-4b69-4d84-8f05-53b78a0c0cbd",
   "metadata": {},
   "outputs": [
    {
     "data": {
      "text/html": [
       "<div>\n",
       "<style scoped>\n",
       "    .dataframe tbody tr th:only-of-type {\n",
       "        vertical-align: middle;\n",
       "    }\n",
       "\n",
       "    .dataframe tbody tr th {\n",
       "        vertical-align: top;\n",
       "    }\n",
       "\n",
       "    .dataframe thead th {\n",
       "        text-align: right;\n",
       "    }\n",
       "</style>\n",
       "<table border=\"1\" class=\"dataframe\">\n",
       "  <thead>\n",
       "    <tr style=\"text-align: right;\">\n",
       "      <th></th>\n",
       "      <th>qid</th>\n",
       "      <th>root</th>\n",
       "      <th>nsubj</th>\n",
       "    </tr>\n",
       "  </thead>\n",
       "  <tbody>\n",
       "    <tr>\n",
       "      <th>0</th>\n",
       "      <td>11624155</td>\n",
       "      <td>is</td>\n",
       "      <td>%</td>\n",
       "    </tr>\n",
       "    <tr>\n",
       "      <th>162</th>\n",
       "      <td>1862948</td>\n",
       "      <td>is</td>\n",
       "      <td>computer</td>\n",
       "    </tr>\n",
       "    <tr>\n",
       "      <th>167</th>\n",
       "      <td>3115452</td>\n",
       "      <td>is</td>\n",
       "      <td>OECD</td>\n",
       "    </tr>\n",
       "    <tr>\n",
       "      <th>293</th>\n",
       "      <td>19500552</td>\n",
       "      <td>is</td>\n",
       "      <td>difference</td>\n",
       "    </tr>\n",
       "  </tbody>\n",
       "</table>\n",
       "</div>"
      ],
      "text/plain": [
       "          qid root       nsubj\n",
       "0    11624155   is           %\n",
       "162   1862948   is    computer\n",
       "167   3115452   is        OECD\n",
       "293  19500552   is  difference"
      ]
     },
     "execution_count": 102,
     "metadata": {},
     "output_type": "execute_result"
    }
   ],
   "source": [
    "qids = [s['_id'] for s in verb_infl]\n",
    "sents = [s['caption'] for s in verb_infl]\n",
    "\n",
    "pairs = []\n",
    "for doc, qid in zip(nlp.pipe(sents), qids):\n",
    "    root = False\n",
    "    for token in doc:\n",
    "        if token.dep_ == 'ROOT':\n",
    "            root = token\n",
    "            break\n",
    "    if root:\n",
    "        try:\n",
    "            child = [k for k in root.children if k.dep_ == 'nsubj'][0]\n",
    "            pairs.append((qid, root.text, child.text))\n",
    "        except IndexError:\n",
    "            continue\n",
    "\n",
    "pairs = pd.DataFrame(pairs, columns=['qid', 'root', 'nsubj'])\n",
    "pairs.drop_duplicates(subset=['root', 'nsubj'])"
   ]
  },
  {
   "cell_type": "code",
   "execution_count": 104,
   "id": "a3837dcc-b668-480c-a0b9-3b7463f8059c",
   "metadata": {},
   "outputs": [],
   "source": [
    "pairs = pairs[pairs['nsubj'].isin(['%', 'difference'])]"
   ]
  },
  {
   "cell_type": "code",
   "execution_count": 105,
   "id": "38c9db78-6071-48b9-b2ed-33044393fc53",
   "metadata": {},
   "outputs": [
    {
     "data": {
      "text/html": [
       "<div>\n",
       "<style scoped>\n",
       "    .dataframe tbody tr th:only-of-type {\n",
       "        vertical-align: middle;\n",
       "    }\n",
       "\n",
       "    .dataframe tbody tr th {\n",
       "        vertical-align: top;\n",
       "    }\n",
       "\n",
       "    .dataframe thead th {\n",
       "        text-align: right;\n",
       "    }\n",
       "</style>\n",
       "<table border=\"1\" class=\"dataframe\">\n",
       "  <thead>\n",
       "    <tr style=\"text-align: right;\">\n",
       "      <th></th>\n",
       "      <th>qid</th>\n",
       "      <th>root</th>\n",
       "      <th>nsubj</th>\n",
       "    </tr>\n",
       "  </thead>\n",
       "  <tbody>\n",
       "    <tr>\n",
       "      <th>0</th>\n",
       "      <td>11624155</td>\n",
       "      <td>is</td>\n",
       "      <td>%</td>\n",
       "    </tr>\n",
       "    <tr>\n",
       "      <th>293</th>\n",
       "      <td>19500552</td>\n",
       "      <td>is</td>\n",
       "      <td>difference</td>\n",
       "    </tr>\n",
       "  </tbody>\n",
       "</table>\n",
       "</div>"
      ],
      "text/plain": [
       "          qid root       nsubj\n",
       "0    11624155   is           %\n",
       "293  19500552   is  difference"
      ]
     },
     "execution_count": 105,
     "metadata": {},
     "output_type": "execute_result"
    }
   ],
   "source": [
    "pairs.drop_duplicates(subset=['root', 'nsubj'])"
   ]
  },
  {
   "cell_type": "code",
   "execution_count": 107,
   "id": "4fc46985-fea8-49dd-9b22-187649e963eb",
   "metadata": {},
   "outputs": [],
   "source": [
    "to_ignore = set(pairs['qid'].values)"
   ]
  },
  {
   "cell_type": "code",
   "execution_count": 108,
   "id": "805c52e3-530e-4d84-b83b-395a7f0c64bb",
   "metadata": {},
   "outputs": [],
   "source": [
    "to_ignore = [c for c in verb_infl if c['_id'] in to_ignore]"
   ]
  },
  {
   "cell_type": "code",
   "execution_count": 110,
   "id": "57ba19d7-fbf9-4049-a938-3358ec011cee",
   "metadata": {},
   "outputs": [
    {
     "data": {
      "text/plain": [
       "{'writeErrors': [],\n",
       " 'writeConcernErrors': [],\n",
       " 'nInserted': 0,\n",
       " 'nUpserted': 0,\n",
       " 'nMatched': 567,\n",
       " 'nModified': 567,\n",
       " 'nRemoved': 0,\n",
       " 'upserted': []}"
      ]
     },
     "execution_count": 110,
     "metadata": {},
     "output_type": "execute_result"
    }
   ],
   "source": [
    "for t in to_ignore:\n",
    "    ig = t.get('ignore', [])\n",
    "    if 'NNS_IN_NNP_VBZ' not in ig:\n",
    "        ig.append('NNS_IN_NNP_VBZ')\n",
    "    t['ignore'] = ig\n",
    "\n",
    "    \n",
    "updates = [UpdateOne({'_id': r['_id']}, {'$set': {'ignore': r['ignore']}}) for r in to_ignore]\n",
    "wres = db.captions.bulk_write(updates)\n",
    "wres.bulk_api_result"
   ]
  },
  {
   "cell_type": "code",
   "execution_count": 123,
   "id": "8d1ff5e5-192c-455b-8e4a-7152aea2bbae",
   "metadata": {
    "scrolled": true,
    "tags": []
   },
   "outputs": [
    {
     "data": {
      "text/plain": [
       "[('The singular proper name ‘Republic’ must be used with a third-person or a past tense verb.',\n",
       "  1302),\n",
       " ('Possible typo: you repeated a word', 847),\n",
       " ('The usual collocation for “Interest” is “in”, not “by”.', 795),\n",
       " ('It seems like there are too many consecutive spaces here.', 610),\n",
       " ('With the plural noun ‘imports’, the verb inflection ‘is’ is not correct.',\n",
       "  444),\n",
       " ('With the plural noun ‘gains’, the verb inflection ‘is’ is not correct.',\n",
       "  416),\n",
       " ('With the plural noun ‘services’, the verb inflection ‘exceeds’ is not correct.',\n",
       "  414),\n",
       " ('Possible agreement error. The noun ‘amount’ seems to be countable.', 342),\n",
       " ('Did you just mean “,” or “.”?', 337),\n",
       " ('Possible spelling mistake. ‘Programmes’ is British English.', 330),\n",
       " ('This phrase is duplicated. You should probably use “aid received” only once.',\n",
       "  304),\n",
       " ('With the plural noun ‘services’, the verb inflection ‘is’ is not correct.',\n",
       "  294),\n",
       " ('With the plural noun ‘subscribers’, the verb inflection ‘is’ is not correct.',\n",
       "  284),\n",
       " ('With the plural noun ‘institutions’, the verb inflection ‘is’ is not correct.',\n",
       "  271),\n",
       " ('With the plural noun ‘metals’, the verb inflection ‘is’ is not correct.',\n",
       "  263),\n",
       " ('The verb form ‘differ’ does not seem to match the subject ‘rate’.', 242),\n",
       " ('You should probably use “import”.', 233),\n",
       " ('With the plural noun ‘securities’, the verb inflection ‘is’ is not correct.',\n",
       "  225),\n",
       " ('The verb form ‘is’ does not seem to match the subject ‘withdrawals’.', 223),\n",
       " ('You should probably use “export”.', 210),\n",
       " ('With the plural noun ‘repayments’, the verb inflection ‘is’ is not correct.',\n",
       "  183),\n",
       " ('With the plural noun ‘materials’, the verb inflection ‘exceeds’ is not correct.',\n",
       "  180),\n",
       " ('With the plural noun ‘banks’, the verb inflection ‘is’ is not correct.',\n",
       "  168),\n",
       " ('With the plural noun ‘emissions’, the verb inflection ‘is’ is not correct.',\n",
       "  165),\n",
       " ('With the plural noun ‘users’, the verb inflection ‘is’ is not correct.',\n",
       "  155),\n",
       " ('With the plural noun ‘births’, the verb inflection ‘is’ is not correct.',\n",
       "  142),\n",
       " ('With the plural noun ‘households’, the verb inflection ‘is’ is not correct.',\n",
       "  137),\n",
       " ('With the plural noun ‘activities’, the verb inflection ‘is’ is not correct.',\n",
       "  130),\n",
       " ('With the plural noun ‘visitors’, the verb inflection ‘is’ is not correct.',\n",
       "  128),\n",
       " ('You repeated a verb. Please check.', 119),\n",
       " ('The verb form ‘differ’ does not seem to match the subject ‘population’.',\n",
       "  101),\n",
       " ('With the plural noun ‘benefits’, the verb inflection ‘is’ is not correct.',\n",
       "  88),\n",
       " ('With the plural noun ‘disbursements’, the verb inflection ‘is’ is not correct.',\n",
       "  87),\n",
       " ('With the plural noun ‘savings’, the verb inflection ‘is’ is not correct.',\n",
       "  80),\n",
       " ('With the plural noun ‘countries’, the verb inflection ‘does’ is not correct.',\n",
       "  75),\n",
       " ('With the plural noun ‘residents’, the verb inflection ‘is’ is not correct.',\n",
       "  73),\n",
       " ('With the plural noun ‘non-residents’, the verb inflection ‘is’ is not correct.',\n",
       "  73),\n",
       " ('With the plural noun ‘services’, the verb inflection ‘does’ is not correct.',\n",
       "  71),\n",
       " ('With the plural noun ‘exports’, the verb inflection ‘exceeds’ is not correct.',\n",
       "  69),\n",
       " ('With the plural noun ‘expenses’, the verb inflection ‘is’ is not correct.',\n",
       "  69),\n",
       " ('With the plural noun ‘children’, the verb inflection ‘is’ is not correct.',\n",
       "  65),\n",
       " ('The verb form ‘differ’ does not seem to match the subject ‘rent’.', 64),\n",
       " ('Non-standard use of the comparative or superlative. Did you mean “least low”?',\n",
       "  58),\n",
       " ('The verb form ‘differ’ does not seem to match the subject ‘birth’.', 54),\n",
       " ('The verb form ‘differ’ does not seem to match the subject ‘production’.',\n",
       "  48),\n",
       " ('With the plural noun ‘tourists’, the verb inflection ‘does’ is not correct.',\n",
       "  47),\n",
       " ('With the plural noun ‘gains’, the verb inflection ‘exceeds’ is not correct.',\n",
       "  47),\n",
       " ('This phrase is duplicated. You should probably use “in Amount” only once.',\n",
       "  42),\n",
       " ('With the plural noun ‘losses’, the verb inflection ‘is’ is not correct.',\n",
       "  41),\n",
       " ('Possible agreement error. The noun ‘computer’ seems to be countable.', 41)]"
      ]
     },
     "execution_count": 123,
     "metadata": {},
     "output_type": "execute_result"
    }
   ],
   "source": [
    "ctr.most_common(50)"
   ]
  },
  {
   "cell_type": "code",
   "execution_count": 120,
   "id": "97f6ca79-b9dc-4c5a-bb49-80fbe9e29c29",
   "metadata": {},
   "outputs": [
    {
     "data": {
      "text/plain": [
       "{'_id': 19569714,\n",
       " 'question_string': 'What is the average Tax (as % of total tax revenue) in Cameroon per Taxes ?',\n",
       " 'template': 'arithmetic',\n",
       " 'answer': 14.9575,\n",
       " 'type': 'hbar',\n",
       " 'template_id': 35,\n",
       " 'caption': 'The average per Taxes Tax (as % of total tax revenue) in Cameroon is 14.9575.',\n",
       " 'matches': [{'message': 'You repeated a verb. Please check.',\n",
       "   'shortMessage': '',\n",
       "   'replacements': [{'value': 'Taxes'}, {'value': 'Tax'}],\n",
       "   'offset': 16,\n",
       "   'length': 9,\n",
       "   'context': {'text': 'The average per Taxes Tax (as % of total tax revenue) in Cameroon...',\n",
       "    'offset': 16,\n",
       "    'length': 9},\n",
       "   'sentence': 'The average per Taxes Tax (as % of total tax revenue) in Cameroon is 14.9575.',\n",
       "   'type': {'typeName': 'Other'},\n",
       "   'rule': {'id': 'REPEATED_VERBS',\n",
       "    'subId': '1',\n",
       "    'sourceFile': 'grammar.xml',\n",
       "    'description': 'Repeated verb forms',\n",
       "    'issueType': 'grammar',\n",
       "    'category': {'id': 'GRAMMAR', 'name': 'Grammar'}},\n",
       "   'ignoreForIncompleteSentence': True,\n",
       "   'contextForSureMatch': 4}]}"
      ]
     },
     "execution_count": 120,
     "metadata": {},
     "output_type": "execute_result"
    }
   ],
   "source": [
    "repeat = lt.filter_lt_messages(G, message='You repeated a verb. Please check.')\n",
    "repeat[0]"
   ]
  },
  {
   "cell_type": "code",
   "execution_count": 121,
   "id": "39a06add-a96b-4cf3-8003-220b395e3fdc",
   "metadata": {},
   "outputs": [
    {
     "data": {
      "text/plain": [
       "{'Tax', 'Taxes'}"
      ]
     },
     "execution_count": 121,
     "metadata": {},
     "output_type": "execute_result"
    }
   ],
   "source": [
    "lt.get_repl_values(repeat)"
   ]
  },
  {
   "cell_type": "code",
   "execution_count": 122,
   "id": "1cc124b1-681e-4974-bd57-265f60d44076",
   "metadata": {},
   "outputs": [
    {
     "data": {
      "text/plain": [
       "{'writeErrors': [],\n",
       " 'writeConcernErrors': [],\n",
       " 'nInserted': 0,\n",
       " 'nUpserted': 0,\n",
       " 'nMatched': 119,\n",
       " 'nModified': 119,\n",
       " 'nRemoved': 0,\n",
       " 'upserted': []}"
      ]
     },
     "execution_count": 122,
     "metadata": {},
     "output_type": "execute_result"
    }
   ],
   "source": [
    "for t in repeat:\n",
    "    ig = t.get('ignore', [])\n",
    "    if 'REPEATED_VERBS' not in ig:\n",
    "        ig.append('REPEATED_VERBS')\n",
    "    t['ignore'] = ig\n",
    "\n",
    "    \n",
    "updates = [UpdateOne({'_id': r['_id']}, {'$set': {'ignore': r['ignore']}}) for r in repeat]\n",
    "wres = db.captions.bulk_write(updates)\n",
    "wres.bulk_api_result"
   ]
  },
  {
   "cell_type": "code",
   "execution_count": null,
   "id": "33ce9dc0-19db-45e2-bd6d-92716247e990",
   "metadata": {},
   "outputs": [],
   "source": []
  },
  {
   "cell_type": "code",
   "execution_count": null,
   "id": "5cd074f5-aa6b-4715-a4a3-42df99b1ff7d",
   "metadata": {},
   "outputs": [],
   "source": []
  },
  {
   "cell_type": "code",
   "execution_count": null,
   "id": "8efced13-6ced-4a85-95bf-3ecd58681144",
   "metadata": {},
   "outputs": [],
   "source": []
  },
  {
   "cell_type": "code",
   "execution_count": null,
   "id": "318d1e19-0ca3-47d1-985f-807ec66bb99f",
   "metadata": {},
   "outputs": [],
   "source": []
  },
  {
   "cell_type": "code",
   "execution_count": null,
   "id": "f1bc3d4d-2c42-4b96-a147-f546520f1bcf",
   "metadata": {},
   "outputs": [],
   "source": []
  },
  {
   "cell_type": "code",
   "execution_count": null,
   "id": "40811ea2-159b-498e-ab0b-8872921a9a18",
   "metadata": {},
   "outputs": [],
   "source": []
  },
  {
   "cell_type": "code",
   "execution_count": 115,
   "id": "2b76ccb6-5c62-45ea-9073-cf3c7d834b85",
   "metadata": {},
   "outputs": [],
   "source": [
    "for c in rate:\n",
    "    c['caption'] = c['caption'].replace('rate differ', 'rates differ')"
   ]
  },
  {
   "cell_type": "code",
   "execution_count": 116,
   "id": "c3f82614-8c4d-4cac-af49-4ab116634aaa",
   "metadata": {},
   "outputs": [
    {
     "data": {
      "text/plain": [
       "{'writeErrors': [],\n",
       " 'writeConcernErrors': [],\n",
       " 'nInserted': 0,\n",
       " 'nUpserted': 0,\n",
       " 'nMatched': 242,\n",
       " 'nModified': 242,\n",
       " 'nRemoved': 0,\n",
       " 'upserted': []}"
      ]
     },
     "execution_count": 116,
     "metadata": {},
     "output_type": "execute_result"
    }
   ],
   "source": [
    "updates = [UpdateOne({'_id': r['_id']}, {'$set': {'caption': r['caption']}}) for r in rate]\n",
    "wres = db.captions.bulk_write(updates)\n",
    "wres.bulk_api_result"
   ]
  },
  {
   "cell_type": "code",
   "execution_count": 117,
   "id": "448a2e63-e2b5-404e-9862-0b7c17df1beb",
   "metadata": {},
   "outputs": [
    {
     "data": {
      "text/plain": [
       "{'_id': 13408,\n",
       " 'question_string': 'Across all years, what is the maximum arms imports ?',\n",
       " 'template': 'min_max',\n",
       " 'answer': '235000000',\n",
       " 'type': 'dot',\n",
       " 'template_id': 22,\n",
       " 'caption': 'The greatest arms imports across all years are 235000000.',\n",
       " 'matches': [{'message': 'You should probably use “import”.',\n",
       "   'shortMessage': 'Possible agreement error',\n",
       "   'replacements': [{'value': 'import'}],\n",
       "   'offset': 18,\n",
       "   'length': 7,\n",
       "   'context': {'text': 'The greatest arms imports across all years are 235000000.',\n",
       "    'offset': 18,\n",
       "    'length': 7},\n",
       "   'sentence': 'The greatest arms imports across all years are 235000000.',\n",
       "   'type': {'typeName': 'Other'},\n",
       "   'rule': {'id': 'AGREEMENT_SENT_START',\n",
       "    'subId': '4',\n",
       "    'sourceFile': 'grammar.xml',\n",
       "    'description': 'Possible agreement error: plural noun + singular verb',\n",
       "    'issueType': 'grammar',\n",
       "    'category': {'id': 'GRAMMAR', 'name': 'Grammar'}},\n",
       "   'ignoreForIncompleteSentence': True,\n",
       "   'contextForSureMatch': 4}]}"
      ]
     },
     "execution_count": 117,
     "metadata": {},
     "output_type": "execute_result"
    }
   ],
   "source": [
    "imp = lt.filter_lt_messages(G, message='You should probably use “import”.')\n",
    "imp[0]"
   ]
  },
  {
   "cell_type": "code",
   "execution_count": null,
   "id": "976bc185-40c2-4336-bafd-f7dc86880a55",
   "metadata": {},
   "outputs": [],
   "source": []
  }
 ],
 "metadata": {
  "kernelspec": {
   "display_name": "Python 3 (ipykernel)",
   "language": "python",
   "name": "python3"
  },
  "language_info": {
   "codemirror_mode": {
    "name": "ipython",
    "version": 3
   },
   "file_extension": ".py",
   "mimetype": "text/x-python",
   "name": "python",
   "nbconvert_exporter": "python",
   "pygments_lexer": "ipython3",
   "version": "3.9.12"
  }
 },
 "nbformat": 4,
 "nbformat_minor": 5
}
