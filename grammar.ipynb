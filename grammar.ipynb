{
 "cells": [
  {
   "cell_type": "code",
   "execution_count": 1,
   "id": "2d8140a0-339a-4baf-b9ae-7152d741053a",
   "metadata": {
    "tags": []
   },
   "outputs": [
    {
     "name": "stderr",
     "output_type": "stream",
     "text": [
      "2023-03-08 12:12:07.826353: I tensorflow/core/platform/cpu_feature_guard.cc:193] This TensorFlow binary is optimized with oneAPI Deep Neural Network Library (oneDNN) to use the following CPU instructions in performance-critical operations:  AVX2 FMA\n",
      "To enable them in other operations, rebuild TensorFlow with the appropriate compiler flags.\n",
      "2023-03-08 12:12:08.470934: W tensorflow/compiler/xla/stream_executor/platform/default/dso_loader.cc:64] Could not load dynamic library 'libnvinfer.so.7'; dlerror: libnvinfer.so.7: cannot open shared object file: No such file or directory\n",
      "2023-03-08 12:12:08.470981: W tensorflow/compiler/xla/stream_executor/platform/default/dso_loader.cc:64] Could not load dynamic library 'libnvinfer_plugin.so.7'; dlerror: libnvinfer_plugin.so.7: cannot open shared object file: No such file or directory\n",
      "2023-03-08 12:12:08.470986: W tensorflow/compiler/tf2tensorrt/utils/py_utils.cc:38] TF-TRT Warning: Cannot dlopen some TensorRT libraries. If you would like to use Nvidia GPU with TensorRT, please make sure the missing libraries mentioned above are installed properly.\n",
      "2023-03-08 12:12:09.307559: W tensorflow/compiler/xla/stream_executor/platform/default/dso_loader.cc:64] Could not load dynamic library 'libcusolver.so.11'; dlerror: libcusolver.so.11: cannot open shared object file: No such file or directory\n",
      "2023-03-08 12:12:09.307619: W tensorflow/core/common_runtime/gpu/gpu_device.cc:1934] Cannot dlopen some GPU libraries. Please make sure the missing libraries mentioned above are installed properly if you would like to use GPU. Follow the guide at https://www.tensorflow.org/install/gpu for how to download and setup the required libraries for your platform.\n",
      "Skipping registering GPU devices...\n"
     ]
    }
   ],
   "source": [
    "%load_ext autoreload\n",
    "%autoreload 2\n",
    "\n",
    "import json\n",
    "import pandas as pd\n",
    "import grammar as lt\n",
    "from collections import Counter\n",
    "from tqdm import tqdm\n",
    "from joblib import Parallel, delayed\n",
    "from spacy import load\n",
    "import re\n",
    "import yaml\n",
    "from pymongo import MongoClient, UpdateOne\n",
    "from plotqa import match_and_generate\n",
    "nlp = load('en_core_web_sm')"
   ]
  },
  {
   "cell_type": "code",
   "execution_count": 2,
   "id": "53f28a5d-896a-4f03-9141-dc1758390075",
   "metadata": {},
   "outputs": [
    {
     "data": {
      "text/plain": [
       "19887"
      ]
     },
     "execution_count": 2,
     "metadata": {},
     "output_type": "execute_result"
    }
   ],
   "source": [
    "client = MongoClient()\n",
    "db = client.plotqa\n",
    "G = [d for d in db.captions.find({\"matches.0\": {\"$exists\": True}})]\n",
    "len(G)"
   ]
  },
  {
   "cell_type": "code",
   "execution_count": 3,
   "id": "b1820dfd-b4f8-443c-96ee-c9e9162ae5df",
   "metadata": {},
   "outputs": [],
   "source": [
    "ctr = lt.err_counter(G, top=False)\n",
    "msg = ctr.most_common(1)[0][0]"
   ]
  },
  {
   "cell_type": "code",
   "execution_count": 5,
   "id": "8954d83d-1d29-44c9-99d5-0eb60c33f093",
   "metadata": {},
   "outputs": [
    {
     "data": {
      "text/plain": [
       "{'_id': 370713,\n",
       " 'question_string': 'What is the average amount collected by government from taxes on goods and services in Azerbaijan per year?',\n",
       " 'template': 'arithmetic',\n",
       " 'answer': 2597133333.3333335,\n",
       " 'type': 'dot',\n",
       " 'template_id': 35,\n",
       " 'caption': 'The mean per year amount collected by government from taxes on goods and services in Azerbaijan is 2597133333.3333335.',\n",
       " 'matches': [{'message': 'With the plural noun ‘services’, the verb inflection ‘is’ is not correct.',\n",
       "   'shortMessage': 'Agreement error',\n",
       "   'replacements': [{'value': 'are'},\n",
       "    {'value': 'was'},\n",
       "    {'value': 'were',\n",
       "     'shortDescription': \"second-person singular simple past of 'be', e.g. 'you were'\"}],\n",
       "   'offset': 96,\n",
       "   'length': 2,\n",
       "   'context': {'text': '...xes on goods and services in Azerbaijan is 2597133333.3333335.',\n",
       "    'offset': 43,\n",
       "    'length': 2},\n",
       "   'sentence': 'The mean per year amount collected by government from taxes on goods and services in Azerbaijan is 2597133333.3333335.',\n",
       "   'type': {'typeName': 'Other'},\n",
       "   'rule': {'id': 'NNS_IN_NNP_VBZ',\n",
       "    'subId': '1',\n",
       "    'sourceFile': 'grammar.xml',\n",
       "    'description': 'Use the base form or the past tense with a plural noun',\n",
       "    'issueType': 'grammar',\n",
       "    'category': {'id': 'GRAMMAR', 'name': 'Grammar'}},\n",
       "   'ignoreForIncompleteSentence': True,\n",
       "   'contextForSureMatch': -1}]}"
      ]
     },
     "execution_count": 5,
     "metadata": {},
     "output_type": "execute_result"
    }
   ],
   "source": [
    "services = lt.filter_lt_messages(G, message=msg)\n",
    "services[0]"
   ]
  },
  {
   "cell_type": "code",
   "execution_count": 7,
   "id": "9710a2f9-e44f-4280-98be-dbd5b6de2eb2",
   "metadata": {},
   "outputs": [
    {
     "ename": "IndexError",
     "evalue": "tuple index out of range",
     "output_type": "error",
     "traceback": [
      "\u001b[0;31m---------------------------------------------------------------------------\u001b[0m",
      "\u001b[0;31mIndexError\u001b[0m                                Traceback (most recent call last)",
      "Cell \u001b[0;32mIn[7], line 5\u001b[0m\n\u001b[1;32m      3\u001b[0m roots \u001b[38;5;241m=\u001b[39m []\n\u001b[1;32m      4\u001b[0m \u001b[38;5;28;01mfor\u001b[39;00m qid, doc \u001b[38;5;129;01min\u001b[39;00m \u001b[38;5;28mzip\u001b[39m(qids, nlp\u001b[38;5;241m.\u001b[39mpipe(sents)):\n\u001b[0;32m----> 5\u001b[0m     roots\u001b[38;5;241m.\u001b[39mappend((qid, \u001b[38;5;241m*\u001b[39m\u001b[43mlt\u001b[49m\u001b[38;5;241;43m.\u001b[39;49m\u001b[43mfind_root_nsubj\u001b[49m\u001b[43m(\u001b[49m\u001b[43mdoc\u001b[49m\u001b[43m)\u001b[49m))\n",
      "File \u001b[0;32m~/src/gog-embed/grammar.py:113\u001b[0m, in \u001b[0;36mfind_root_nsubj\u001b[0;34m(doc)\u001b[0m\n\u001b[1;32m    111\u001b[0m         nsubj \u001b[38;5;241m=\u001b[39m noun\n\u001b[1;32m    112\u001b[0m         \u001b[38;5;28;01mif\u001b[39;00m nsubj\u001b[38;5;241m.\u001b[39mpos_ \u001b[38;5;241m==\u001b[39m \u001b[38;5;124m\"\u001b[39m\u001b[38;5;124mADJ\u001b[39m\u001b[38;5;124m\"\u001b[39m:\n\u001b[0;32m--> 113\u001b[0m             nsubj \u001b[38;5;241m=\u001b[39m \u001b[43mnsubj\u001b[49m\u001b[38;5;241;43m.\u001b[39;49m\u001b[43mconjuncts\u001b[49m\u001b[43m[\u001b[49m\u001b[38;5;241;43m0\u001b[39;49m\u001b[43m]\u001b[49m\n\u001b[1;32m    114\u001b[0m         \u001b[38;5;28;01mbreak\u001b[39;00m\n\u001b[1;32m    115\u001b[0m \u001b[38;5;28;01mif\u001b[39;00m (aux_verb \u001b[38;5;129;01mis\u001b[39;00m \u001b[38;5;129;01mnot\u001b[39;00m \u001b[38;5;28;01mNone\u001b[39;00m) \u001b[38;5;129;01mand\u001b[39;00m (nsubj \u001b[38;5;129;01min\u001b[39;00m aux_verb\u001b[38;5;241m.\u001b[39mchildren):\n",
      "\u001b[0;31mIndexError\u001b[0m: tuple index out of range"
     ]
    }
   ],
   "source": [
    "qids = [s['_id'] for s in services]\n",
    "sents = [s['caption'] for s in services]\n",
    "roots = []\n",
    "for qid, doc in zip(qids, nlp.pipe(sents)):\n",
    "    roots.append((qid, *lt.find_root_nsubj(doc)))"
   ]
  },
  {
   "cell_type": "code",
   "execution_count": 8,
   "id": "0dd155c4-9a9c-4a61-bae2-d7a645b63c9e",
   "metadata": {},
   "outputs": [
    {
     "data": {
      "text/plain": [
       "The mean per year amount collected by government from taxes on goods and services in Azerbaijan is 2597133333.3333335."
      ]
     },
     "execution_count": 8,
     "metadata": {},
     "output_type": "execute_result"
    }
   ],
   "source": [
    "doc"
   ]
  },
  {
   "cell_type": "code",
   "execution_count": 10,
   "id": "a2e65bbf-af5d-486d-acf4-95a3331559ee",
   "metadata": {},
   "outputs": [
    {
     "data": {
      "text/plain": [
       "is"
      ]
     },
     "execution_count": 10,
     "metadata": {},
     "output_type": "execute_result"
    }
   ],
   "source": [
    "root = [c for c in doc if c.dep_ == 'ROOT'][0]\n",
    "root"
   ]
  },
  {
   "cell_type": "code",
   "execution_count": 15,
   "id": "daf31815-b581-426a-82fc-ba872b54bb66",
   "metadata": {},
   "outputs": [
    {
     "data": {
      "text/plain": [
       "['ADJ', 'NUM', 'PUNCT']"
      ]
     },
     "execution_count": 15,
     "metadata": {},
     "output_type": "execute_result"
    }
   ],
   "source": [
    "[c.pos_ for c in list(root.children)]"
   ]
  },
  {
   "cell_type": "code",
   "execution_count": 4,
   "id": "bbe4286a-29be-4c30-90d8-cb94becd22d0",
   "metadata": {},
   "outputs": [
    {
     "data": {
      "text/plain": [
       "1788"
      ]
     },
     "execution_count": 4,
     "metadata": {},
     "output_type": "execute_result"
    }
   ],
   "source": [
    "schools = lt.filter_lt_messages(G, message='schools')\n",
    "len(schools)"
   ]
  },
  {
   "cell_type": "code",
   "execution_count": 8,
   "id": "fe8af71d-bfb7-4d51-9986-d8c55f4a4be6",
   "metadata": {},
   "outputs": [],
   "source": [
    "qids = [r['_id'] for r in schools]\n",
    "sents = [r['caption'] for r in schools]\n",
    "\n",
    "def fix(x):\n",
    "    try:\n",
    "        y = lt.fix_verb_subject_agreement(x)\n",
    "    except (ValueError, IndexError):\n",
    "        print(x)\n",
    "        y = x.text\n",
    "    return y\n",
    "\n",
    "\n",
    "fixed = [{'_id': qid, 'caption': fix(doc)} for qid, doc in zip(qids, nlp.pipe(sents))]"
   ]
  },
  {
   "cell_type": "code",
   "execution_count": 9,
   "id": "93c960c7-23a9-4562-90d2-517cdf3a2d00",
   "metadata": {
    "scrolled": true,
    "tags": []
   },
   "outputs": [
    {
     "name": "stderr",
     "output_type": "stream",
     "text": [
      "[Parallel(n_jobs=-1)]: Using backend LokyBackend with 16 concurrent workers.\n",
      "2023-03-07 12:18:13.043967: W tensorflow/compiler/xla/stream_executor/platform/default/dso_loader.cc:64] Could not load dynamic library 'libnvinfer.so.7'; dlerror: libnvinfer.so.7: cannot open shared object file: No such file or directory\n",
      "2023-03-07 12:18:13.044276: W tensorflow/compiler/xla/stream_executor/platform/default/dso_loader.cc:64] Could not load dynamic library 'libnvinfer_plugin.so.7'; dlerror: libnvinfer_plugin.so.7: cannot open shared object file: No such file or directory\n",
      "2023-03-07 12:18:13.044289: W tensorflow/compiler/tf2tensorrt/utils/py_utils.cc:38] TF-TRT Warning: Cannot dlopen some TensorRT libraries. If you would like to use Nvidia GPU with TensorRT, please make sure the missing libraries mentioned above are installed properly.\n",
      "2023-03-07 12:18:13.076716: W tensorflow/compiler/xla/stream_executor/platform/default/dso_loader.cc:64] Could not load dynamic library 'libnvinfer.so.7'; dlerror: libnvinfer.so.7: cannot open shared object file: No such file or directory\n",
      "2023-03-07 12:18:13.076909: W tensorflow/compiler/xla/stream_executor/platform/default/dso_loader.cc:64] Could not load dynamic library 'libnvinfer_plugin.so.7'; dlerror: libnvinfer_plugin.so.7: cannot open shared object file: No such file or directory\n",
      "2023-03-07 12:18:13.076937: W tensorflow/compiler/tf2tensorrt/utils/py_utils.cc:38] TF-TRT Warning: Cannot dlopen some TensorRT libraries. If you would like to use Nvidia GPU with TensorRT, please make sure the missing libraries mentioned above are installed properly.\n",
      "2023-03-07 12:18:13.079464: W tensorflow/compiler/xla/stream_executor/platform/default/dso_loader.cc:64] Could not load dynamic library 'libnvinfer.so.7'; dlerror: libnvinfer.so.7: cannot open shared object file: No such file or directory\n",
      "2023-03-07 12:18:13.079658: W tensorflow/compiler/xla/stream_executor/platform/default/dso_loader.cc:64] Could not load dynamic library 'libnvinfer_plugin.so.7'; dlerror: libnvinfer_plugin.so.7: cannot open shared object file: No such file or directory\n",
      "2023-03-07 12:18:13.079696: W tensorflow/compiler/tf2tensorrt/utils/py_utils.cc:38] TF-TRT Warning: Cannot dlopen some TensorRT libraries. If you would like to use Nvidia GPU with TensorRT, please make sure the missing libraries mentioned above are installed properly.\n",
      "2023-03-07 12:18:13.150982: W tensorflow/compiler/xla/stream_executor/platform/default/dso_loader.cc:64] Could not load dynamic library 'libnvinfer.so.7'; dlerror: libnvinfer.so.7: cannot open shared object file: No such file or directory\n",
      "2023-03-07 12:18:13.151157: W tensorflow/compiler/xla/stream_executor/platform/default/dso_loader.cc:64] Could not load dynamic library 'libnvinfer_plugin.so.7'; dlerror: libnvinfer_plugin.so.7: cannot open shared object file: No such file or directory\n",
      "2023-03-07 12:18:13.151199: W tensorflow/compiler/tf2tensorrt/utils/py_utils.cc:38] TF-TRT Warning: Cannot dlopen some TensorRT libraries. If you would like to use Nvidia GPU with TensorRT, please make sure the missing libraries mentioned above are installed properly.\n",
      "2023-03-07 12:18:13.157606: W tensorflow/compiler/xla/stream_executor/platform/default/dso_loader.cc:64] Could not load dynamic library 'libnvinfer.so.7'; dlerror: libnvinfer.so.7: cannot open shared object file: No such file or directory\n",
      "2023-03-07 12:18:13.157768: W tensorflow/compiler/xla/stream_executor/platform/default/dso_loader.cc:64] Could not load dynamic library 'libnvinfer_plugin.so.7'; dlerror: libnvinfer_plugin.so.7: cannot open shared object file: No such file or directory\n",
      "2023-03-07 12:18:13.157816: W tensorflow/compiler/tf2tensorrt/utils/py_utils.cc:38] TF-TRT Warning: Cannot dlopen some TensorRT libraries. If you would like to use Nvidia GPU with TensorRT, please make sure the missing libraries mentioned above are installed properly.\n",
      "2023-03-07 12:18:13.176258: W tensorflow/compiler/xla/stream_executor/platform/default/dso_loader.cc:64] Could not load dynamic library 'libnvinfer.so.7'; dlerror: libnvinfer.so.7: cannot open shared object file: No such file or directory\n",
      "2023-03-07 12:18:13.176429: W tensorflow/compiler/xla/stream_executor/platform/default/dso_loader.cc:64] Could not load dynamic library 'libnvinfer_plugin.so.7'; dlerror: libnvinfer_plugin.so.7: cannot open shared object file: No such file or directory\n",
      "2023-03-07 12:18:13.176472: W tensorflow/compiler/tf2tensorrt/utils/py_utils.cc:38] TF-TRT Warning: Cannot dlopen some TensorRT libraries. If you would like to use Nvidia GPU with TensorRT, please make sure the missing libraries mentioned above are installed properly.\n",
      "2023-03-07 12:18:13.180041: W tensorflow/compiler/xla/stream_executor/platform/default/dso_loader.cc:64] Could not load dynamic library 'libnvinfer.so.7'; dlerror: libnvinfer.so.7: cannot open shared object file: No such file or directory\n",
      "2023-03-07 12:18:13.180269: W tensorflow/compiler/xla/stream_executor/platform/default/dso_loader.cc:64] Could not load dynamic library 'libnvinfer_plugin.so.7'; dlerror: libnvinfer_plugin.so.7: cannot open shared object file: No such file or directory\n",
      "2023-03-07 12:18:13.180315: W tensorflow/compiler/tf2tensorrt/utils/py_utils.cc:38] TF-TRT Warning: Cannot dlopen some TensorRT libraries. If you would like to use Nvidia GPU with TensorRT, please make sure the missing libraries mentioned above are installed properly.\n",
      "2023-03-07 12:18:13.182663: W tensorflow/compiler/xla/stream_executor/platform/default/dso_loader.cc:64] Could not load dynamic library 'libnvinfer.so.7'; dlerror: libnvinfer.so.7: cannot open shared object file: No such file or directory\n",
      "2023-03-07 12:18:13.182881: W tensorflow/compiler/xla/stream_executor/platform/default/dso_loader.cc:64] Could not load dynamic library 'libnvinfer_plugin.so.7'; dlerror: libnvinfer_plugin.so.7: cannot open shared object file: No such file or directory\n",
      "2023-03-07 12:18:13.182927: W tensorflow/compiler/tf2tensorrt/utils/py_utils.cc:38] TF-TRT Warning: Cannot dlopen some TensorRT libraries. If you would like to use Nvidia GPU with TensorRT, please make sure the missing libraries mentioned above are installed properly.\n",
      "2023-03-07 12:18:13.184937: W tensorflow/compiler/xla/stream_executor/platform/default/dso_loader.cc:64] Could not load dynamic library 'libnvinfer.so.7'; dlerror: libnvinfer.so.7: cannot open shared object file: No such file or directory\n",
      "2023-03-07 12:18:13.185115: W tensorflow/compiler/xla/stream_executor/platform/default/dso_loader.cc:64] Could not load dynamic library 'libnvinfer_plugin.so.7'; dlerror: libnvinfer_plugin.so.7: cannot open shared object file: No such file or directory\n",
      "2023-03-07 12:18:13.185202: W tensorflow/compiler/tf2tensorrt/utils/py_utils.cc:38] TF-TRT Warning: Cannot dlopen some TensorRT libraries. If you would like to use Nvidia GPU with TensorRT, please make sure the missing libraries mentioned above are installed properly.\n",
      "2023-03-07 12:18:13.187859: W tensorflow/compiler/xla/stream_executor/platform/default/dso_loader.cc:64] Could not load dynamic library 'libnvinfer.so.7'; dlerror: libnvinfer.so.7: cannot open shared object file: No such file or directory\n",
      "2023-03-07 12:18:13.188075: W tensorflow/compiler/xla/stream_executor/platform/default/dso_loader.cc:64] Could not load dynamic library 'libnvinfer_plugin.so.7'; dlerror: libnvinfer_plugin.so.7: cannot open shared object file: No such file or directory\n",
      "2023-03-07 12:18:13.188123: W tensorflow/compiler/tf2tensorrt/utils/py_utils.cc:38] TF-TRT Warning: Cannot dlopen some TensorRT libraries. If you would like to use Nvidia GPU with TensorRT, please make sure the missing libraries mentioned above are installed properly.\n",
      "2023-03-07 12:18:13.191825: W tensorflow/compiler/xla/stream_executor/platform/default/dso_loader.cc:64] Could not load dynamic library 'libnvinfer.so.7'; dlerror: libnvinfer.so.7: cannot open shared object file: No such file or directory\n",
      "2023-03-07 12:18:13.192005: W tensorflow/compiler/xla/stream_executor/platform/default/dso_loader.cc:64] Could not load dynamic library 'libnvinfer_plugin.so.7'; dlerror: libnvinfer_plugin.so.7: cannot open shared object file: No such file or directory\n",
      "2023-03-07 12:18:13.192058: W tensorflow/compiler/tf2tensorrt/utils/py_utils.cc:38] TF-TRT Warning: Cannot dlopen some TensorRT libraries. If you would like to use Nvidia GPU with TensorRT, please make sure the missing libraries mentioned above are installed properly.\n",
      "2023-03-07 12:18:13.262186: W tensorflow/compiler/xla/stream_executor/platform/default/dso_loader.cc:64] Could not load dynamic library 'libnvinfer.so.7'; dlerror: libnvinfer.so.7: cannot open shared object file: No such file or directory\n",
      "2023-03-07 12:18:13.262478: W tensorflow/compiler/xla/stream_executor/platform/default/dso_loader.cc:64] Could not load dynamic library 'libnvinfer_plugin.so.7'; dlerror: libnvinfer_plugin.so.7: cannot open shared object file: No such file or directory\n",
      "2023-03-07 12:18:13.262491: W tensorflow/compiler/tf2tensorrt/utils/py_utils.cc:38] TF-TRT Warning: Cannot dlopen some TensorRT libraries. If you would like to use Nvidia GPU with TensorRT, please make sure the missing libraries mentioned above are installed properly.\n",
      "2023-03-07 12:18:13.270860: W tensorflow/compiler/xla/stream_executor/platform/default/dso_loader.cc:64] Could not load dynamic library 'libnvinfer.so.7'; dlerror: libnvinfer.so.7: cannot open shared object file: No such file or directory\n",
      "2023-03-07 12:18:13.271062: W tensorflow/compiler/xla/stream_executor/platform/default/dso_loader.cc:64] Could not load dynamic library 'libnvinfer_plugin.so.7'; dlerror: libnvinfer_plugin.so.7: cannot open shared object file: No such file or directory\n",
      "2023-03-07 12:18:13.271109: W tensorflow/compiler/tf2tensorrt/utils/py_utils.cc:38] TF-TRT Warning: Cannot dlopen some TensorRT libraries. If you would like to use Nvidia GPU with TensorRT, please make sure the missing libraries mentioned above are installed properly.\n",
      "2023-03-07 12:18:13.359207: W tensorflow/compiler/xla/stream_executor/platform/default/dso_loader.cc:64] Could not load dynamic library 'libnvinfer.so.7'; dlerror: libnvinfer.so.7: cannot open shared object file: No such file or directory\n",
      "2023-03-07 12:18:13.359408: W tensorflow/compiler/xla/stream_executor/platform/default/dso_loader.cc:64] Could not load dynamic library 'libnvinfer_plugin.so.7'; dlerror: libnvinfer_plugin.so.7: cannot open shared object file: No such file or directory\n",
      "2023-03-07 12:18:13.359448: W tensorflow/compiler/tf2tensorrt/utils/py_utils.cc:38] TF-TRT Warning: Cannot dlopen some TensorRT libraries. If you would like to use Nvidia GPU with TensorRT, please make sure the missing libraries mentioned above are installed properly.\n",
      "2023-03-07 12:18:13.414131: W tensorflow/compiler/xla/stream_executor/platform/default/dso_loader.cc:64] Could not load dynamic library 'libnvinfer.so.7'; dlerror: libnvinfer.so.7: cannot open shared object file: No such file or directory\n",
      "2023-03-07 12:18:13.414295: W tensorflow/compiler/xla/stream_executor/platform/default/dso_loader.cc:64] Could not load dynamic library 'libnvinfer_plugin.so.7'; dlerror: libnvinfer_plugin.so.7: cannot open shared object file: No such file or directory\n",
      "2023-03-07 12:18:13.414336: W tensorflow/compiler/tf2tensorrt/utils/py_utils.cc:38] TF-TRT Warning: Cannot dlopen some TensorRT libraries. If you would like to use Nvidia GPU with TensorRT, please make sure the missing libraries mentioned above are installed properly.\n",
      "2023-03-07 12:18:13.674685: W tensorflow/compiler/xla/stream_executor/platform/default/dso_loader.cc:64] Could not load dynamic library 'libnvinfer.so.7'; dlerror: libnvinfer.so.7: cannot open shared object file: No such file or directory\n",
      "2023-03-07 12:18:13.674972: W tensorflow/compiler/xla/stream_executor/platform/default/dso_loader.cc:64] Could not load dynamic library 'libnvinfer_plugin.so.7'; dlerror: libnvinfer_plugin.so.7: cannot open shared object file: No such file or directory\n",
      "2023-03-07 12:18:13.674986: W tensorflow/compiler/tf2tensorrt/utils/py_utils.cc:38] TF-TRT Warning: Cannot dlopen some TensorRT libraries. If you would like to use Nvidia GPU with TensorRT, please make sure the missing libraries mentioned above are installed properly.\n",
      "2023-03-07 12:18:14.860484: W tensorflow/compiler/xla/stream_executor/platform/default/dso_loader.cc:64] Could not load dynamic library 'libcusolver.so.11'; dlerror: libcusolver.so.11: cannot open shared object file: No such file or directory\n",
      "2023-03-07 12:18:14.860977: W tensorflow/core/common_runtime/gpu/gpu_device.cc:1934] Cannot dlopen some GPU libraries. Please make sure the missing libraries mentioned above are installed properly if you would like to use GPU. Follow the guide at https://www.tensorflow.org/install/gpu for how to download and setup the required libraries for your platform.\n",
      "Skipping registering GPU devices...\n",
      "2023-03-07 12:18:14.968643: W tensorflow/compiler/xla/stream_executor/platform/default/dso_loader.cc:64] Could not load dynamic library 'libcusolver.so.11'; dlerror: libcusolver.so.11: cannot open shared object file: No such file or directory\n",
      "2023-03-07 12:18:14.968817: W tensorflow/core/common_runtime/gpu/gpu_device.cc:1934] Cannot dlopen some GPU libraries. Please make sure the missing libraries mentioned above are installed properly if you would like to use GPU. Follow the guide at https://www.tensorflow.org/install/gpu for how to download and setup the required libraries for your platform.\n",
      "Skipping registering GPU devices...\n",
      "2023-03-07 12:18:15.052191: W tensorflow/compiler/xla/stream_executor/platform/default/dso_loader.cc:64] Could not load dynamic library 'libcusolver.so.11'; dlerror: libcusolver.so.11: cannot open shared object file: No such file or directory\n",
      "2023-03-07 12:18:15.052349: W tensorflow/core/common_runtime/gpu/gpu_device.cc:1934] Cannot dlopen some GPU libraries. Please make sure the missing libraries mentioned above are installed properly if you would like to use GPU. Follow the guide at https://www.tensorflow.org/install/gpu for how to download and setup the required libraries for your platform.\n",
      "Skipping registering GPU devices...\n",
      "2023-03-07 12:18:15.080700: W tensorflow/compiler/xla/stream_executor/platform/default/dso_loader.cc:64] Could not load dynamic library 'libcusolver.so.11'; dlerror: libcusolver.so.11: cannot open shared object file: No such file or directory\n",
      "2023-03-07 12:18:15.080899: W tensorflow/core/common_runtime/gpu/gpu_device.cc:1934] Cannot dlopen some GPU libraries. Please make sure the missing libraries mentioned above are installed properly if you would like to use GPU. Follow the guide at https://www.tensorflow.org/install/gpu for how to download and setup the required libraries for your platform.\n",
      "Skipping registering GPU devices...\n",
      "2023-03-07 12:18:15.112861: W tensorflow/compiler/xla/stream_executor/platform/default/dso_loader.cc:64] Could not load dynamic library 'libcusolver.so.11'; dlerror: libcusolver.so.11: cannot open shared object file: No such file or directory\n",
      "2023-03-07 12:18:15.113009: W tensorflow/core/common_runtime/gpu/gpu_device.cc:1934] Cannot dlopen some GPU libraries. Please make sure the missing libraries mentioned above are installed properly if you would like to use GPU. Follow the guide at https://www.tensorflow.org/install/gpu for how to download and setup the required libraries for your platform.\n",
      "Skipping registering GPU devices...\n",
      "2023-03-07 12:18:15.115169: W tensorflow/compiler/xla/stream_executor/platform/default/dso_loader.cc:64] Could not load dynamic library 'libcusolver.so.11'; dlerror: libcusolver.so.11: cannot open shared object file: No such file or directory\n",
      "2023-03-07 12:18:15.115327: W tensorflow/core/common_runtime/gpu/gpu_device.cc:1934] Cannot dlopen some GPU libraries. Please make sure the missing libraries mentioned above are installed properly if you would like to use GPU. Follow the guide at https://www.tensorflow.org/install/gpu for how to download and setup the required libraries for your platform.\n",
      "Skipping registering GPU devices...\n",
      "2023-03-07 12:18:15.124767: W tensorflow/compiler/xla/stream_executor/platform/default/dso_loader.cc:64] Could not load dynamic library 'libcusolver.so.11'; dlerror: libcusolver.so.11: cannot open shared object file: No such file or directory\n",
      "2023-03-07 12:18:15.124926: W tensorflow/core/common_runtime/gpu/gpu_device.cc:1934] Cannot dlopen some GPU libraries. Please make sure the missing libraries mentioned above are installed properly if you would like to use GPU. Follow the guide at https://www.tensorflow.org/install/gpu for how to download and setup the required libraries for your platform.\n",
      "Skipping registering GPU devices...\n",
      "2023-03-07 12:18:15.130519: W tensorflow/compiler/xla/stream_executor/platform/default/dso_loader.cc:64] Could not load dynamic library 'libcusolver.so.11'; dlerror: libcusolver.so.11: cannot open shared object file: No such file or directory\n",
      "2023-03-07 12:18:15.130686: W tensorflow/core/common_runtime/gpu/gpu_device.cc:1934] Cannot dlopen some GPU libraries. Please make sure the missing libraries mentioned above are installed properly if you would like to use GPU. Follow the guide at https://www.tensorflow.org/install/gpu for how to download and setup the required libraries for your platform.\n",
      "Skipping registering GPU devices...\n",
      "2023-03-07 12:18:15.131714: W tensorflow/compiler/xla/stream_executor/platform/default/dso_loader.cc:64] Could not load dynamic library 'libcusolver.so.11'; dlerror: libcusolver.so.11: cannot open shared object file: No such file or directory\n",
      "2023-03-07 12:18:15.131843: W tensorflow/core/common_runtime/gpu/gpu_device.cc:1934] Cannot dlopen some GPU libraries. Please make sure the missing libraries mentioned above are installed properly if you would like to use GPU. Follow the guide at https://www.tensorflow.org/install/gpu for how to download and setup the required libraries for your platform.\n",
      "Skipping registering GPU devices...\n",
      "2023-03-07 12:18:15.132903: W tensorflow/compiler/xla/stream_executor/platform/default/dso_loader.cc:64] Could not load dynamic library 'libcusolver.so.11'; dlerror: libcusolver.so.11: cannot open shared object file: No such file or directory\n",
      "2023-03-07 12:18:15.133035: W tensorflow/core/common_runtime/gpu/gpu_device.cc:1934] Cannot dlopen some GPU libraries. Please make sure the missing libraries mentioned above are installed properly if you would like to use GPU. Follow the guide at https://www.tensorflow.org/install/gpu for how to download and setup the required libraries for your platform.\n",
      "Skipping registering GPU devices...\n",
      "2023-03-07 12:18:15.143227: W tensorflow/compiler/xla/stream_executor/platform/default/dso_loader.cc:64] Could not load dynamic library 'libcusolver.so.11'; dlerror: libcusolver.so.11: cannot open shared object file: No such file or directory\n",
      "2023-03-07 12:18:15.143403: W tensorflow/core/common_runtime/gpu/gpu_device.cc:1934] Cannot dlopen some GPU libraries. Please make sure the missing libraries mentioned above are installed properly if you would like to use GPU. Follow the guide at https://www.tensorflow.org/install/gpu for how to download and setup the required libraries for your platform.\n",
      "Skipping registering GPU devices...\n",
      "2023-03-07 12:18:15.159844: W tensorflow/compiler/xla/stream_executor/platform/default/dso_loader.cc:64] Could not load dynamic library 'libcusolver.so.11'; dlerror: libcusolver.so.11: cannot open shared object file: No such file or directory\n",
      "2023-03-07 12:18:15.160010: W tensorflow/core/common_runtime/gpu/gpu_device.cc:1934] Cannot dlopen some GPU libraries. Please make sure the missing libraries mentioned above are installed properly if you would like to use GPU. Follow the guide at https://www.tensorflow.org/install/gpu for how to download and setup the required libraries for your platform.\n",
      "Skipping registering GPU devices...\n",
      "2023-03-07 12:18:15.169973: W tensorflow/compiler/xla/stream_executor/platform/default/dso_loader.cc:64] Could not load dynamic library 'libcusolver.so.11'; dlerror: libcusolver.so.11: cannot open shared object file: No such file or directory\n",
      "2023-03-07 12:18:15.170163: W tensorflow/core/common_runtime/gpu/gpu_device.cc:1934] Cannot dlopen some GPU libraries. Please make sure the missing libraries mentioned above are installed properly if you would like to use GPU. Follow the guide at https://www.tensorflow.org/install/gpu for how to download and setup the required libraries for your platform.\n",
      "Skipping registering GPU devices...\n",
      "2023-03-07 12:18:15.246351: W tensorflow/compiler/xla/stream_executor/platform/default/dso_loader.cc:64] Could not load dynamic library 'libcusolver.so.11'; dlerror: libcusolver.so.11: cannot open shared object file: No such file or directory\n",
      "2023-03-07 12:18:15.246622: W tensorflow/core/common_runtime/gpu/gpu_device.cc:1934] Cannot dlopen some GPU libraries. Please make sure the missing libraries mentioned above are installed properly if you would like to use GPU. Follow the guide at https://www.tensorflow.org/install/gpu for how to download and setup the required libraries for your platform.\n",
      "Skipping registering GPU devices...\n",
      "2023-03-07 12:18:15.288635: W tensorflow/compiler/xla/stream_executor/platform/default/dso_loader.cc:64] Could not load dynamic library 'libcusolver.so.11'; dlerror: libcusolver.so.11: cannot open shared object file: No such file or directory\n",
      "2023-03-07 12:18:15.288773: W tensorflow/core/common_runtime/gpu/gpu_device.cc:1934] Cannot dlopen some GPU libraries. Please make sure the missing libraries mentioned above are installed properly if you would like to use GPU. Follow the guide at https://www.tensorflow.org/install/gpu for how to download and setup the required libraries for your platform.\n",
      "Skipping registering GPU devices...\n",
      "2023-03-07 12:18:15.435957: W tensorflow/compiler/xla/stream_executor/platform/default/dso_loader.cc:64] Could not load dynamic library 'libcusolver.so.11'; dlerror: libcusolver.so.11: cannot open shared object file: No such file or directory\n",
      "2023-03-07 12:18:15.436156: W tensorflow/core/common_runtime/gpu/gpu_device.cc:1934] Cannot dlopen some GPU libraries. Please make sure the missing libraries mentioned above are installed properly if you would like to use GPU. Follow the guide at https://www.tensorflow.org/install/gpu for how to download and setup the required libraries for your platform.\n",
      "Skipping registering GPU devices...\n",
      "[Parallel(n_jobs=-1)]: Done   9 tasks      | elapsed:    7.9s\n",
      "[Parallel(n_jobs=-1)]: Done 148 tasks      | elapsed:    9.2s\n",
      "[Parallel(n_jobs=-1)]: Done 554 tasks      | elapsed:   11.2s\n",
      "[Parallel(n_jobs=-1)]: Done 1264 tasks      | elapsed:   13.5s\n",
      "[Parallel(n_jobs=-1)]: Done 1757 out of 1788 | elapsed:   14.8s remaining:    0.3s\n",
      "[Parallel(n_jobs=-1)]: Done 1788 out of 1788 | elapsed:   14.8s finished\n"
     ]
    }
   ],
   "source": [
    "res = Parallel(n_jobs=-1, verbose=2)(delayed(lt.process)(r['_id'], r['caption']) for r in fixed)"
   ]
  },
  {
   "cell_type": "code",
   "execution_count": 10,
   "id": "e14aa23c-9d35-43fe-a836-0309b14df60d",
   "metadata": {},
   "outputs": [
    {
     "data": {
      "text/plain": [
       "1788"
      ]
     },
     "execution_count": 10,
     "metadata": {},
     "output_type": "execute_result"
    }
   ],
   "source": [
    "len([g for g in res if len(g['matches']) > 0])"
   ]
  },
  {
   "cell_type": "code",
   "execution_count": 16,
   "id": "f780ebe4-001b-4ec5-8e19-e086d9d434e3",
   "metadata": {},
   "outputs": [],
   "source": [
    "roots = [{'_id': qid, 'roots': [c.text for c in lt.find_root_nsubj(doc)]} for qid, doc in zip(qids, nlp.pipe(sents))]"
   ]
  },
  {
   "cell_type": "code",
   "execution_count": 17,
   "id": "a9060722-12ab-4267-9b95-a98f5dd54c43",
   "metadata": {},
   "outputs": [
    {
     "data": {
      "text/plain": [
       "{'_id': 326985, 'roots': ['is', 'rate']}"
      ]
     },
     "execution_count": 17,
     "metadata": {},
     "output_type": "execute_result"
    }
   ],
   "source": [
    "roots[0]"
   ]
  },
  {
   "cell_type": "code",
   "execution_count": 19,
   "id": "5ee73c1c-bd92-4dd1-9322-189baf1fb427",
   "metadata": {},
   "outputs": [],
   "source": [
    "RULE = 'NNS_IN_NNP_VBZ'\n",
    "to_ignore = [q['_id'] for q in roots if q['roots'][0] == 'is']"
   ]
  },
  {
   "cell_type": "code",
   "execution_count": 22,
   "id": "110ce629-13ef-44e4-9904-9e71f1f57bd3",
   "metadata": {},
   "outputs": [],
   "source": [
    "to_ignore = set(to_ignore)"
   ]
  },
  {
   "cell_type": "code",
   "execution_count": 23,
   "id": "ac215599-a252-4a10-b393-4ada966375b6",
   "metadata": {},
   "outputs": [],
   "source": [
    "to_ignore = [c for c in schools if c['_id'] in to_ignore]"
   ]
  },
  {
   "cell_type": "code",
   "execution_count": 27,
   "id": "3e01b43e-ada7-488b-b93d-f3e97953de0f",
   "metadata": {},
   "outputs": [],
   "source": [
    "for t in to_ignore:\n",
    "    ig = t.get('ignore', [RULE])\n",
    "    t['ignore'] = ig"
   ]
  },
  {
   "cell_type": "code",
   "execution_count": 28,
   "id": "f15de570-38ac-45cd-acf0-af78bf3577f7",
   "metadata": {},
   "outputs": [
    {
     "data": {
      "text/plain": [
       "{'writeErrors': [],\n",
       " 'writeConcernErrors': [],\n",
       " 'nInserted': 0,\n",
       " 'nUpserted': 0,\n",
       " 'nMatched': 1762,\n",
       " 'nModified': 1762,\n",
       " 'nRemoved': 0,\n",
       " 'upserted': []}"
      ]
     },
     "execution_count": 28,
     "metadata": {},
     "output_type": "execute_result"
    }
   ],
   "source": [
    "updates = [UpdateOne({'_id': r['_id']}, {'$set': {'ignore': r['ignore']}}) for r in to_ignore]\n",
    "wres = db.captions.bulk_write(updates)\n",
    "wres.bulk_api_result"
   ]
  },
  {
   "cell_type": "code",
   "execution_count": 30,
   "id": "a8a07142-4830-4c0d-bfe9-7cafd5349f70",
   "metadata": {},
   "outputs": [
    {
     "data": {
      "text/plain": [
       "{'Bank', 'Bank are', 'Bank bare', 'Banks', 'Banks are'}"
      ]
     },
     "execution_count": 30,
     "metadata": {},
     "output_type": "execute_result"
    }
   ],
   "source": [
    "typos = lt.filter_lt_messages(G, message='Possible spelling mistake found')\n",
    "lt.get_repl_values(typos)"
   ]
  },
  {
   "cell_type": "code",
   "execution_count": 31,
   "id": "358916cd-722a-40d9-b164-11c8ee1a3b6b",
   "metadata": {},
   "outputs": [
    {
     "data": {
      "text/plain": [
       "{'_id': 4680,\n",
       " 'question_string': 'What is the net disbursements of loan from World Bankb in 1977 ?',\n",
       " 'template': 'data_retrieval',\n",
       " 'answer': '3164000',\n",
       " 'type': 'dot',\n",
       " 'template_id': 2,\n",
       " 'caption': 'The net disbursements of loan from World Bankb in 1977 are 3164000.',\n",
       " 'matches': [{'message': 'Possible spelling mistake found.',\n",
       "   'shortMessage': 'Spelling mistake',\n",
       "   'replacements': [{'value': 'Bank'}, {'value': 'Banks'}],\n",
       "   'offset': 41,\n",
       "   'length': 5,\n",
       "   'context': {'text': '...he net disbursements of loan from World Bankb in 1977 are 3164000.',\n",
       "    'offset': 43,\n",
       "    'length': 5},\n",
       "   'sentence': 'The net disbursements of loan from World Bankb in 1977 are 3164000.',\n",
       "   'type': {'typeName': 'Other'},\n",
       "   'rule': {'id': 'MORFOLOGIK_RULE_EN_US',\n",
       "    'description': 'Possible spelling mistake',\n",
       "    'issueType': 'misspelling',\n",
       "    'category': {'id': 'TYPOS', 'name': 'Possible Typo'}},\n",
       "   'ignoreForIncompleteSentence': False,\n",
       "   'contextForSureMatch': 0}]}"
      ]
     },
     "execution_count": 31,
     "metadata": {},
     "output_type": "execute_result"
    }
   ],
   "source": [
    "typos[0]"
   ]
  },
  {
   "cell_type": "code",
   "execution_count": 38,
   "id": "c5ecca91-d6a5-43bd-aeda-8705a43a7c67",
   "metadata": {},
   "outputs": [],
   "source": [
    "for t in typos:\n",
    "    t['caption'] = re.sub(r'\\bBankb\\b', 'Bank', t['caption'])"
   ]
  },
  {
   "cell_type": "code",
   "execution_count": 40,
   "id": "47cfa4ea-6799-410f-9c34-9a7dd2cc291b",
   "metadata": {
    "scrolled": true,
    "tags": []
   },
   "outputs": [
    {
     "name": "stderr",
     "output_type": "stream",
     "text": [
      "[Parallel(n_jobs=-1)]: Using backend LokyBackend with 16 concurrent workers.\n",
      "[Parallel(n_jobs=-1)]: Done   9 tasks      | elapsed:    0.0s\n",
      "[Parallel(n_jobs=-1)]: Done 496 tasks      | elapsed:    1.2s\n",
      "[Parallel(n_jobs=-1)]: Done 1693 tasks      | elapsed:    3.3s\n",
      "[Parallel(n_jobs=-1)]: Done 1748 out of 1748 | elapsed:    3.4s finished\n"
     ]
    },
    {
     "data": {
      "text/plain": [
       "0"
      ]
     },
     "execution_count": 40,
     "metadata": {},
     "output_type": "execute_result"
    }
   ],
   "source": [
    "res = Parallel(n_jobs=-1, verbose=2)(delayed(lt.process)(r['_id'], r['caption']) for r in typos)\n",
    "len([g for g in res if len(g['matches']) > 0])"
   ]
  },
  {
   "cell_type": "code",
   "execution_count": 41,
   "id": "ae68dfdc-eb58-4ed2-9c44-58213580a226",
   "metadata": {},
   "outputs": [
    {
     "data": {
      "text/plain": [
       "{'writeErrors': [],\n",
       " 'writeConcernErrors': [],\n",
       " 'nInserted': 0,\n",
       " 'nUpserted': 0,\n",
       " 'nMatched': 1748,\n",
       " 'nModified': 1748,\n",
       " 'nRemoved': 0,\n",
       " 'upserted': []}"
      ]
     },
     "execution_count": 41,
     "metadata": {},
     "output_type": "execute_result"
    }
   ],
   "source": [
    "updates = [UpdateOne({'_id': r['_id']}, {'$set': {'caption': r['caption']}}) for r in typos]\n",
    "wres = db.captions.bulk_write(updates)\n",
    "wres.bulk_api_result"
   ]
  },
  {
   "cell_type": "code",
   "execution_count": 42,
   "id": "1be26af8-6b3a-4a56-81f5-d9a3ee218426",
   "metadata": {},
   "outputs": [
    {
     "data": {
      "text/plain": [
       "{'_id': 120614,\n",
       " 'question_string': 'Does the percentage of population using sanitation services in Togo monotonically increase over the years ?',\n",
       " 'template': 'compound',\n",
       " 'answer': 'No',\n",
       " 'type': 'dot',\n",
       " 'template_id': 1,\n",
       " 'caption': 'The percentage of population the Using sanitation services in Togo does not increase over the years.',\n",
       " 'matches': [{'message': 'With the plural noun ‘services’, the verb inflection ‘does’ is not correct.',\n",
       "   'shortMessage': 'Agreement error',\n",
       "   'replacements': [{'value': 'do'}, {'value': 'did'}],\n",
       "   'offset': 67,\n",
       "   'length': 4,\n",
       "   'context': {'text': '...n the Using sanitation services in Togo does not increase over the years.',\n",
       "    'offset': 43,\n",
       "    'length': 4},\n",
       "   'sentence': 'The percentage of population the Using sanitation services in Togo does not increase over the years.',\n",
       "   'type': {'typeName': 'Other'},\n",
       "   'rule': {'id': 'NNS_IN_NNP_VBZ',\n",
       "    'subId': '1',\n",
       "    'sourceFile': 'grammar.xml',\n",
       "    'description': 'Use the base form or the past tense with a plural noun',\n",
       "    'issueType': 'grammar',\n",
       "    'category': {'id': 'GRAMMAR', 'name': 'Grammar'}},\n",
       "   'ignoreForIncompleteSentence': True,\n",
       "   'contextForSureMatch': -1}]}"
      ]
     },
     "execution_count": 42,
     "metadata": {},
     "output_type": "execute_result"
    }
   ],
   "source": [
    "services = lt.filter_lt_messages(G, message='services')\n",
    "services[0]"
   ]
  },
  {
   "cell_type": "code",
   "execution_count": 47,
   "id": "40876ceb-72dc-4d08-85ac-95d399d02df8",
   "metadata": {},
   "outputs": [],
   "source": [
    "for s in services:\n",
    "    s['caption'] = re.sub(r'\\bthe Using\\b', 'using', s['caption'])"
   ]
  },
  {
   "cell_type": "code",
   "execution_count": 48,
   "id": "510dfbb0-d9d6-4122-8573-0a1da8025523",
   "metadata": {},
   "outputs": [
    {
     "name": "stderr",
     "output_type": "stream",
     "text": [
      "[Parallel(n_jobs=-1)]: Using backend LokyBackend with 16 concurrent workers.\n",
      "[Parallel(n_jobs=-1)]: Done   9 tasks      | elapsed:    0.0s\n",
      "[Parallel(n_jobs=-1)]: Done 496 tasks      | elapsed:    1.3s\n",
      "[Parallel(n_jobs=-1)]: Done 2008 tasks      | elapsed:    4.6s\n",
      "[Parallel(n_jobs=-1)]: Done 2137 out of 2137 | elapsed:    4.9s finished\n"
     ]
    },
    {
     "data": {
      "text/plain": [
       "2122"
      ]
     },
     "execution_count": 48,
     "metadata": {},
     "output_type": "execute_result"
    }
   ],
   "source": [
    "res = Parallel(n_jobs=-1, verbose=2)(delayed(lt.process)(r['_id'], r['caption']) for r in services)\n",
    "len([g for g in res if len(g['matches']) > 0])"
   ]
  },
  {
   "cell_type": "code",
   "execution_count": 55,
   "id": "61bffcc8-6b56-48b9-bc54-1097a90ced0e",
   "metadata": {},
   "outputs": [
    {
     "data": {
      "text/plain": [
       "[{'question_id': 120614, 'matches': []},\n",
       " {'question_id': 122405, 'matches': []},\n",
       " {'question_id': 125750, 'matches': []},\n",
       " {'question_id': 126872, 'matches': []},\n",
       " {'question_id': 127965,\n",
       "  'matches': [{'message': 'With the plural noun ‘services’, the verb inflection ‘does’ is not correct.',\n",
       "    'shortMessage': 'Agreement error',\n",
       "    'replacements': [{'value': 'do'}, {'value': 'did'}],\n",
       "    'offset': 56,\n",
       "    'length': 4,\n",
       "    'context': {'text': '...ayments for transport services in India does not monotonically grow over the years.',\n",
       "     'offset': 43,\n",
       "     'length': 4},\n",
       "    'sentence': 'The balance of payments for transport services in India does not monotonically grow over the years.',\n",
       "    'type': {'typeName': 'Other'},\n",
       "    'rule': {'id': 'NNS_IN_NNP_VBZ',\n",
       "     'subId': '1',\n",
       "     'sourceFile': 'grammar.xml',\n",
       "     'description': 'Use the base form or the past tense with a plural noun',\n",
       "     'issueType': 'grammar',\n",
       "     'category': {'id': 'GRAMMAR', 'name': 'Grammar'}},\n",
       "    'ignoreForIncompleteSentence': True,\n",
       "    'contextForSureMatch': -1}]}]"
      ]
     },
     "execution_count": 55,
     "metadata": {},
     "output_type": "execute_result"
    }
   ],
   "source": [
    "res[:5]"
   ]
  },
  {
   "cell_type": "code",
   "execution_count": 64,
   "id": "41acf0bb-ef40-48d1-8ee2-d7057b49d648",
   "metadata": {},
   "outputs": [
    {
     "name": "stdout",
     "output_type": "stream",
     "text": [
      "The mean per year amount collected by government from taxes on goods and services in Azerbaijan is 2597133333.3333335.\n",
      "The mean per year amount collected by government from taxes on goods and services in Uruguay is 79578336323.5457.\n",
      "The mean per year amount collected by government from taxes on goods and services in Denmark is 258821666666.66666.\n",
      "The mean per year amount collected by government from taxes on goods and services in Slovenia is 3604938738.942835.\n",
      "The mean per year amount collected by government from taxes on goods and services in Peru is 15923363333.333334.\n",
      "The mean per year amount collected by government from taxes on goods and services in Georgia is 2811450000.0.\n"
     ]
    }
   ],
   "source": [
    "qids = [g['question_id'] for g in res]\n",
    "sents = [g['caption'] for g in services]\n",
    "\n",
    "roots = []\n",
    "for qid, doc in zip(qids, nlp.pipe(sents)):\n",
    "    try:\n",
    "        roots.append({'_id': qid, 'roots': lt.find_root_nsubj(doc)})\n",
    "    except IndexError:\n",
    "        print(doc)"
   ]
  },
  {
   "cell_type": "code",
   "execution_count": 73,
   "id": "dd4569ad-9f0c-48e4-bfd4-436f259f14d8",
   "metadata": {},
   "outputs": [],
   "source": [
    "for r in roots:\n",
    "    try:\n",
    "        r['roots'] = tuple(c for c in r['roots'])\n",
    "    except AttributeError:\n",
    "        continue"
   ]
  },
  {
   "cell_type": "code",
   "execution_count": 74,
   "id": "a4db010e-8e63-479e-ab43-a9a950d0eb57",
   "metadata": {},
   "outputs": [
    {
     "data": {
      "text/plain": [
       "{('exceeds', '%'),\n",
       " ('exceeds', 'Balance'),\n",
       " ('exceeds', 'Revenue'),\n",
       " ('exceeds', 'balance'),\n",
       " ('exceeds', 'percentage'),\n",
       " ('grow', 'amount'),\n",
       " ('grow', 'balance'),\n",
       " ('grow', 'percentage'),\n",
       " ('grows', 'amount'),\n",
       " ('grows', 'balance'),\n",
       " ('grows', 'percentage'),\n",
       " ('increase', 'amount'),\n",
       " ('increase', 'balance'),\n",
       " ('increase', 'percentage'),\n",
       " ('is', '%'),\n",
       " ('is', 'Balance'),\n",
       " ('is', 'OECD'),\n",
       " ('is', 'Revenue'),\n",
       " ('is', 'computer'),\n",
       " ('is', 'difference'),\n",
       " ('is', 'sum'),\n",
       " (-16.1904848642, None)}"
      ]
     },
     "execution_count": 74,
     "metadata": {},
     "output_type": "execute_result"
    }
   ],
   "source": [
    "set([r['roots'] for r in roots])"
   ]
  },
  {
   "cell_type": "code",
   "execution_count": null,
   "id": "d3594d08-990f-4ff8-9948-c3ec5cfa27ea",
   "metadata": {},
   "outputs": [],
   "source": []
  },
  {
   "cell_type": "code",
   "execution_count": null,
   "id": "fb6106fe-c5df-4922-aa72-c5f1fef147e2",
   "metadata": {},
   "outputs": [],
   "source": []
  },
  {
   "cell_type": "code",
   "execution_count": null,
   "id": "761481d5-de84-458f-a094-439c307cede1",
   "metadata": {},
   "outputs": [],
   "source": []
  },
  {
   "cell_type": "code",
   "execution_count": null,
   "id": "28e25b2f-1086-4b53-9508-514a28ffc1a7",
   "metadata": {},
   "outputs": [],
   "source": []
  },
  {
   "cell_type": "code",
   "execution_count": 12,
   "id": "d119132a-264f-4645-af32-b13ef39af94c",
   "metadata": {},
   "outputs": [],
   "source": [
    "updates = [UpdateOne({'_id': r['_id']}, {'$set': {'caption': r['caption']}}) for r in fixed]"
   ]
  },
  {
   "cell_type": "code",
   "execution_count": 13,
   "id": "63a1fc36-35f9-40de-8f20-d6cf1875f17e",
   "metadata": {},
   "outputs": [
    {
     "ename": "AttributeError",
     "evalue": "'BulkWriteResult' object has no attribute 'bulk_api_results'",
     "output_type": "error",
     "traceback": [
      "\u001b[0;31m---------------------------------------------------------------------------\u001b[0m",
      "\u001b[0;31mAttributeError\u001b[0m                            Traceback (most recent call last)",
      "Cell \u001b[0;32mIn[13], line 2\u001b[0m\n\u001b[1;32m      1\u001b[0m wres \u001b[38;5;241m=\u001b[39m db\u001b[38;5;241m.\u001b[39mcaptions\u001b[38;5;241m.\u001b[39mbulk_write(updates)\n\u001b[0;32m----> 2\u001b[0m \u001b[43mwres\u001b[49m\u001b[38;5;241;43m.\u001b[39;49m\u001b[43mbulk_api_results\u001b[49m\n",
      "\u001b[0;31mAttributeError\u001b[0m: 'BulkWriteResult' object has no attribute 'bulk_api_results'"
     ]
    }
   ],
   "source": [
    "wres = db.captions.bulk_write(updates)\n",
    "wres.bulk_api_results"
   ]
  },
  {
   "cell_type": "code",
   "execution_count": 14,
   "id": "d72a947e-ee69-4079-92b5-559bb912a3e6",
   "metadata": {},
   "outputs": [
    {
     "data": {
      "text/plain": [
       "{'writeErrors': [],\n",
       " 'writeConcernErrors': [],\n",
       " 'nInserted': 0,\n",
       " 'nUpserted': 0,\n",
       " 'nMatched': 37970,\n",
       " 'nModified': 14761,\n",
       " 'nRemoved': 0,\n",
       " 'upserted': []}"
      ]
     },
     "execution_count": 14,
     "metadata": {},
     "output_type": "execute_result"
    }
   ],
   "source": [
    "wres.bulk_api_result"
   ]
  },
  {
   "cell_type": "code",
   "execution_count": 15,
   "id": "90deb724-032b-4eb6-aa35-b98ce4fe4b5b",
   "metadata": {},
   "outputs": [
    {
     "data": {
      "text/plain": [
       "37970"
      ]
     },
     "execution_count": 15,
     "metadata": {},
     "output_type": "execute_result"
    }
   ],
   "source": [
    "len(fixed)"
   ]
  },
  {
   "cell_type": "code",
   "execution_count": 16,
   "id": "b9ff4fd1-d072-4109-87f0-e9270adefd54",
   "metadata": {},
   "outputs": [
    {
     "data": {
      "text/plain": [
       "0.38875427969449566"
      ]
     },
     "execution_count": 16,
     "metadata": {},
     "output_type": "execute_result"
    }
   ],
   "source": [
    "14761 / _"
   ]
  },
  {
   "cell_type": "code",
   "execution_count": 17,
   "id": "ba4731db-5980-4997-b9ef-b1fb309439f0",
   "metadata": {},
   "outputs": [
    {
     "data": {
      "text/plain": [
       "25526"
      ]
     },
     "execution_count": 17,
     "metadata": {},
     "output_type": "execute_result"
    }
   ],
   "source": [
    "G = [d for d in db.captions.find({\"matches.0\": {\"$exists\": True}})]\n",
    "len(G)"
   ]
  },
  {
   "cell_type": "code",
   "execution_count": 18,
   "id": "73b346bf-c836-4ebc-a6e0-b948f90c9af2",
   "metadata": {},
   "outputs": [
    {
     "data": {
      "text/plain": [
       "[('With the plural noun ‘tourists’, the verb inflection ‘is’ is not correct.',\n",
       "  2129),\n",
       " ('With the plural noun ‘schools’, the verb inflection ‘is’ is not correct.',\n",
       "  1762),\n",
       " ('Possible spelling mistake found.', 1748),\n",
       " ('With the plural noun ‘services’, the verb inflection ‘is’ is not correct.',\n",
       "  1646),\n",
       " ('With the plural noun ‘firms’, the verb inflection ‘is’ is not correct.',\n",
       "  1445)]"
      ]
     },
     "execution_count": 18,
     "metadata": {},
     "output_type": "execute_result"
    }
   ],
   "source": [
    "ctr = lt.err_counter(G, top=False)\n",
    "ctr.most_common(5)"
   ]
  },
  {
   "cell_type": "code",
   "execution_count": 19,
   "id": "4c8e0d74-d605-4533-920a-0af4d31b5cf1",
   "metadata": {},
   "outputs": [
    {
     "data": {
      "text/plain": [
       "{'_id': 121134,\n",
       " 'question_string': 'What is the total amount spent on the travel items of international tourists in Spain in the graph ?',\n",
       " 'template': 'arithmetic',\n",
       " 'answer': '106210000000',\n",
       " 'type': 'dot',\n",
       " 'template_id': 2,\n",
       " 'caption': 'In the graph, the total amount spent on the travel items of international tourists in Spain is 106210000000.',\n",
       " 'matches': [{'message': 'With the plural noun ‘tourists’, the verb inflection ‘is’ is not correct.',\n",
       "   'shortMessage': 'Agreement error',\n",
       "   'replacements': [{'value': 'are'},\n",
       "    {'value': 'was'},\n",
       "    {'value': 'were',\n",
       "     'shortDescription': \"second-person singular simple past of 'be', e.g. 'you were'\"}],\n",
       "   'offset': 92,\n",
       "   'length': 2,\n",
       "   'context': {'text': '...tems of international tourists in Spain is 106210000000.',\n",
       "    'offset': 43,\n",
       "    'length': 2},\n",
       "   'sentence': 'In the graph, the total amount spent on the travel items of international tourists in Spain is 106210000000.',\n",
       "   'type': {'typeName': 'Other'},\n",
       "   'rule': {'id': 'NNS_IN_NNP_VBZ',\n",
       "    'subId': '1',\n",
       "    'sourceFile': 'grammar.xml',\n",
       "    'description': 'Use the base form or the past tense with a plural noun',\n",
       "    'issueType': 'grammar',\n",
       "    'category': {'id': 'GRAMMAR', 'name': 'Grammar'}},\n",
       "   'ignoreForIncompleteSentence': True,\n",
       "   'contextForSureMatch': -1}]}"
      ]
     },
     "execution_count": 19,
     "metadata": {},
     "output_type": "execute_result"
    }
   ],
   "source": [
    "msg = 'With the plural noun ‘tourists’, the verb inflection ‘is’ is not correct.'\n",
    "tourists = lt.filter_lt_messages(G, message=msg)\n",
    "tourists[0]"
   ]
  },
  {
   "cell_type": "code",
   "execution_count": 21,
   "id": "8a65e3b9-5bd8-4468-9feb-4b77e2f2270f",
   "metadata": {},
   "outputs": [],
   "source": [
    "s = nlp('In the graph, the total amount spent on the travel items of international tourists in Spain is 106210000000.')\n",
    "verb, nsubj = lt.find_root_nsubj(s)"
   ]
  },
  {
   "cell_type": "code",
   "execution_count": 22,
   "id": "993938f3-dc41-4433-afc5-fcac847b40e3",
   "metadata": {},
   "outputs": [
    {
     "data": {
      "text/plain": [
       "(is, amount)"
      ]
     },
     "execution_count": 22,
     "metadata": {},
     "output_type": "execute_result"
    }
   ],
   "source": [
    "verb, nsubj"
   ]
  },
  {
   "cell_type": "code",
   "execution_count": 23,
   "id": "e01f8d2f-86cb-4538-8d09-1ec68db94648",
   "metadata": {},
   "outputs": [],
   "source": [
    "verb_nsubj = [lt.find_root_nsubj(doc) for doc in nlp.pipe([t['caption'] for t in tourists])]"
   ]
  },
  {
   "cell_type": "code",
   "execution_count": 26,
   "id": "6c764606-59a7-488c-8acb-43c626ff9c87",
   "metadata": {},
   "outputs": [],
   "source": [
    "verbs = set([k[0].text for k in verb_nsubj])\n",
    "subjs = set([k[1].text for k in verb_nsubj])"
   ]
  },
  {
   "cell_type": "code",
   "execution_count": 27,
   "id": "153f8f90-0e21-4537-825a-bd58dd63874f",
   "metadata": {},
   "outputs": [
    {
     "data": {
      "text/plain": [
       "{'is'}"
      ]
     },
     "execution_count": 27,
     "metadata": {},
     "output_type": "execute_result"
    }
   ],
   "source": [
    "verbs"
   ]
  },
  {
   "cell_type": "code",
   "execution_count": 28,
   "id": "6510b40b-bf28-459d-9448-3ac91c2aa156",
   "metadata": {},
   "outputs": [
    {
     "data": {
      "text/plain": [
       "{'amount', 'difference', 'sum'}"
      ]
     },
     "execution_count": 28,
     "metadata": {},
     "output_type": "execute_result"
    }
   ],
   "source": [
    "subjs"
   ]
  },
  {
   "cell_type": "code",
   "execution_count": 32,
   "id": "6d8c6cc8-cc37-482e-933d-8feac5d1ff0c",
   "metadata": {},
   "outputs": [],
   "source": [
    "RULE = 'NNS_IN_NNP_VBZ'\n",
    "for t in tourists:\n",
    "    ig = t.get('ignore', [RULE])\n",
    "    t['ignore'] = ig"
   ]
  },
  {
   "cell_type": "code",
   "execution_count": 34,
   "id": "e065a82d-29c2-4281-8c79-fe9badf2f66b",
   "metadata": {},
   "outputs": [
    {
     "data": {
      "text/plain": [
       "{'writeErrors': [],\n",
       " 'writeConcernErrors': [],\n",
       " 'nInserted': 0,\n",
       " 'nUpserted': 0,\n",
       " 'nMatched': 2129,\n",
       " 'nModified': 2129,\n",
       " 'nRemoved': 0,\n",
       " 'upserted': []}"
      ]
     },
     "execution_count": 34,
     "metadata": {},
     "output_type": "execute_result"
    }
   ],
   "source": [
    "updates = [UpdateOne({'_id': r['_id']}, {'$set': {'ignore': r['ignore']}}) for r in tourists]\n",
    "wres = db.captions.bulk_write(updates)\n",
    "wres.bulk_api_result"
   ]
  },
  {
   "cell_type": "code",
   "execution_count": 36,
   "id": "b9373f12-746a-4787-a34a-e9c3c1d8c6e2",
   "metadata": {},
   "outputs": [
    {
     "data": {
      "text/plain": [
       "23397"
      ]
     },
     "execution_count": 36,
     "metadata": {},
     "output_type": "execute_result"
    }
   ],
   "source": [
    "G = [d for d in db.captions.find({\"matches.0\": {\"$exists\": True}})]\n",
    "len(G)"
   ]
  },
  {
   "cell_type": "code",
   "execution_count": 37,
   "id": "be0cdf3a-46bc-42df-a62a-c914c1ec1f0b",
   "metadata": {},
   "outputs": [
    {
     "data": {
      "text/plain": [
       "[('With the plural noun ‘schools’, the verb inflection ‘is’ is not correct.',\n",
       "  1762),\n",
       " ('Possible spelling mistake found.', 1748),\n",
       " ('With the plural noun ‘services’, the verb inflection ‘is’ is not correct.',\n",
       "  1646),\n",
       " ('With the plural noun ‘firms’, the verb inflection ‘is’ is not correct.',\n",
       "  1445),\n",
       " ('The singular proper name ‘Republic’ must be used with a third-person or a past tense verb.',\n",
       "  1302)]"
      ]
     },
     "execution_count": 37,
     "metadata": {},
     "output_type": "execute_result"
    }
   ],
   "source": [
    "ctr = lt.err_counter(G, top=False)\n",
    "ctr.most_common(5)"
   ]
  },
  {
   "cell_type": "code",
   "execution_count": 39,
   "id": "1ca9f725-2903-41fc-b391-88adb2e7df06",
   "metadata": {},
   "outputs": [
    {
     "data": {
      "text/plain": [
       "[('With the plural noun ‘schools’, the verb inflection ‘is’ is not correct.',\n",
       "  1762),\n",
       " ('Possible spelling mistake found.', 1748),\n",
       " ('With the plural noun ‘services’, the verb inflection ‘is’ is not correct.',\n",
       "  1646),\n",
       " ('With the plural noun ‘firms’, the verb inflection ‘is’ is not correct.',\n",
       "  1445),\n",
       " ('The singular proper name ‘Republic’ must be used with a third-person or a past tense verb.',\n",
       "  1302),\n",
       " ('The word ‘vitamin’ is normally not capitalized in the expression “vitamin A”',\n",
       "  1282),\n",
       " ('Use a comma before “and” if it connects two independent clauses (unless they are closely connected and short).',\n",
       "  1132),\n",
       " ('With the plural noun ‘materials’, the verb inflection ‘is’ is not correct.',\n",
       "  1005),\n",
       " ('With the plural noun ‘products’, the verb inflection ‘is’ is not correct.',\n",
       "  921),\n",
       " ('With the plural noun ‘exports’, the verb inflection ‘is’ is not correct.',\n",
       "  876),\n",
       " ('Possible typo: you repeated a word', 847),\n",
       " ('The usual collocation for “Interest” is “in”, not “by”.', 795),\n",
       " ('It seems like there are too many consecutive spaces here.', 610),\n",
       " ('With the plural noun ‘imports’, the verb inflection ‘is’ is not correct.',\n",
       "  444),\n",
       " ('With the plural noun ‘gains’, the verb inflection ‘is’ is not correct.',\n",
       "  416),\n",
       " ('With the plural noun ‘services’, the verb inflection ‘exceeds’ is not correct.',\n",
       "  414),\n",
       " ('Possible agreement error. The noun ‘amount’ seems to be countable.', 342),\n",
       " ('Did you just mean “,” or “.”?', 337),\n",
       " ('Possible spelling mistake. ‘Programmes’ is British English.', 330),\n",
       " ('This phrase is duplicated. You should probably use “aid received” only once.',\n",
       "  304),\n",
       " ('With the plural noun ‘subscribers’, the verb inflection ‘is’ is not correct.',\n",
       "  284),\n",
       " ('With the plural noun ‘institutions’, the verb inflection ‘is’ is not correct.',\n",
       "  271),\n",
       " ('With the plural noun ‘metals’, the verb inflection ‘is’ is not correct.',\n",
       "  263),\n",
       " ('The verb form ‘differ’ does not seem to match the subject ‘rate’.', 242),\n",
       " ('You should probably use “import”.', 233),\n",
       " ('With the plural noun ‘securities’, the verb inflection ‘is’ is not correct.',\n",
       "  225),\n",
       " ('The verb form ‘is’ does not seem to match the subject ‘withdrawals’.', 223),\n",
       " ('You should probably use “export”.', 210),\n",
       " ('With the plural noun ‘repayments’, the verb inflection ‘is’ is not correct.',\n",
       "  183),\n",
       " ('With the plural noun ‘materials’, the verb inflection ‘exceeds’ is not correct.',\n",
       "  180),\n",
       " ('With the plural noun ‘banks’, the verb inflection ‘is’ is not correct.',\n",
       "  168),\n",
       " ('With the plural noun ‘emissions’, the verb inflection ‘is’ is not correct.',\n",
       "  165),\n",
       " ('With the plural noun ‘users’, the verb inflection ‘is’ is not correct.',\n",
       "  155),\n",
       " ('With the plural noun ‘births’, the verb inflection ‘is’ is not correct.',\n",
       "  142),\n",
       " ('With the plural noun ‘households’, the verb inflection ‘is’ is not correct.',\n",
       "  137),\n",
       " ('With the plural noun ‘activities’, the verb inflection ‘is’ is not correct.',\n",
       "  130),\n",
       " ('With the plural noun ‘visitors’, the verb inflection ‘is’ is not correct.',\n",
       "  128),\n",
       " ('You repeated a verb. Please check.', 119),\n",
       " ('The verb form ‘differ’ does not seem to match the subject ‘population’.',\n",
       "  101),\n",
       " ('With the plural noun ‘benefits’, the verb inflection ‘is’ is not correct.',\n",
       "  88),\n",
       " ('With the plural noun ‘disbursements’, the verb inflection ‘is’ is not correct.',\n",
       "  87),\n",
       " ('With the plural noun ‘savings’, the verb inflection ‘is’ is not correct.',\n",
       "  80),\n",
       " ('With the plural noun ‘countries’, the verb inflection ‘does’ is not correct.',\n",
       "  75),\n",
       " ('With the plural noun ‘residents’, the verb inflection ‘is’ is not correct.',\n",
       "  73),\n",
       " ('With the plural noun ‘non-residents’, the verb inflection ‘is’ is not correct.',\n",
       "  73),\n",
       " ('With the plural noun ‘services’, the verb inflection ‘does’ is not correct.',\n",
       "  71),\n",
       " ('With the plural noun ‘exports’, the verb inflection ‘exceeds’ is not correct.',\n",
       "  69),\n",
       " ('With the plural noun ‘expenses’, the verb inflection ‘is’ is not correct.',\n",
       "  69),\n",
       " ('With the plural noun ‘children’, the verb inflection ‘is’ is not correct.',\n",
       "  65),\n",
       " ('The verb form ‘differ’ does not seem to match the subject ‘rent’.', 64),\n",
       " ('Non-standard use of the comparative or superlative. Did you mean “least low”?',\n",
       "  58),\n",
       " ('The verb form ‘differ’ does not seem to match the subject ‘birth’.', 54),\n",
       " ('The verb form ‘differ’ does not seem to match the subject ‘production’.',\n",
       "  48),\n",
       " ('With the plural noun ‘tourists’, the verb inflection ‘does’ is not correct.',\n",
       "  47),\n",
       " ('With the plural noun ‘gains’, the verb inflection ‘exceeds’ is not correct.',\n",
       "  47),\n",
       " ('This phrase is duplicated. You should probably use “in Amount” only once.',\n",
       "  42),\n",
       " ('With the plural noun ‘losses’, the verb inflection ‘is’ is not correct.',\n",
       "  41),\n",
       " ('Possible agreement error. The noun ‘computer’ seems to be countable.', 41),\n",
       " ('With the plural noun ‘tourists’, the verb inflection ‘exceeds’ is not correct.',\n",
       "  38),\n",
       " ('A more concise phrase may lose no meaning and sound more powerful.', 37),\n",
       " ('The usual collocation for “interest” is “in”, not “by”.', 33),\n",
       " ('This phrase is duplicated. You should probably use “in Investment” only once.',\n",
       "  30),\n",
       " ('The verb form ‘differ’ does not seem to match the subject ‘rating’.', 29),\n",
       " ('The verb form ‘differ’ does not seem to match the subject ‘density’.', 28),\n",
       " ('If a new sentence starts here, add a space and start with an uppercase letter.',\n",
       "  28),\n",
       " ('Make sure that the adjective ‘total’ is correct. Possibly, it should be an adverb (typically ~ly) that modifies ‘adjusted’. Possibly, it should be the first word in a compound adjective (hyphenated adjective). Possibly, it is correct.',\n",
       "  26),\n",
       " ('With the plural noun ‘sectors’, the verb inflection ‘is’ is not correct.',\n",
       "  25),\n",
       " ('Make sure that the adjective ‘total’ is correct. Possibly, it should be an adverb (typically ~ly) that modifies ‘elevated’. Possibly, it should be the first word in a compound adjective (hyphenated adjective). Possibly, it is correct.',\n",
       "  24),\n",
       " ('With the plural noun ‘payments’, the verb inflection ‘is’ is not correct.',\n",
       "  23),\n",
       " ('With the plural noun ‘industries’, the verb inflection ‘is’ is not correct.',\n",
       "  23),\n",
       " ('With the plural noun ‘indices’, the verb inflection ‘is’ is not correct.',\n",
       "  22),\n",
       " ('Did you mean “whom”?', 22),\n",
       " ('With the plural noun ‘schools’, the verb inflection ‘does’ is not correct.',\n",
       "  21),\n",
       " ('With the plural noun ‘benefits’, the verb inflection ‘exceeds’ is not correct.',\n",
       "  19),\n",
       " ('With the plural noun ‘withdrawals’, the verb inflection ‘is’ is not correct.',\n",
       "  17),\n",
       " ('With the plural noun ‘stocks’, the verb inflection ‘is’ is not correct.',\n",
       "  17),\n",
       " ('With the plural noun ‘customs’, the verb inflection ‘is’ is not correct.',\n",
       "  17),\n",
       " ('With the plural noun ‘activities’, the verb inflection ‘exceeds’ is not correct.',\n",
       "  16),\n",
       " ('With the plural noun ‘reserves’, the verb inflection ‘is’ is not correct.',\n",
       "  12),\n",
       " ('With the plural noun ‘earnings’, the verb inflection ‘is’ is not correct.',\n",
       "  12),\n",
       " ('With the plural noun ‘children’, the verb inflection ‘exceeds’ is not correct.',\n",
       "  11),\n",
       " ('Please check whether a word is missing between ‘The’ and ‘is’ or whether ‘The’ is the correct determiner.',\n",
       "  11),\n",
       " ('With the plural noun ‘regulations’, the verb inflection ‘is’ is not correct.',\n",
       "  10),\n",
       " ('With the plural noun ‘securities’, the verb inflection ‘does’ is not correct.',\n",
       "  9),\n",
       " ('With the plural noun ‘non-residents’, the verb inflection ‘exceeds’ is not correct.',\n",
       "  8),\n",
       " ('With the plural noun ‘members’, the verb inflection ‘is’ is not correct.',\n",
       "  8),\n",
       " ('With the plural noun ‘banks’, the verb inflection ‘does’ is not correct.',\n",
       "  6),\n",
       " ('Please verify that the plural noun “days” is in agreement with the quantifier “1”. Did you mean to use the singular form?',\n",
       "  6),\n",
       " ('With the plural noun ‘repayments’, the verb inflection ‘does’ is not correct.',\n",
       "  6),\n",
       " ('With the plural noun ‘services’, the verb inflection ‘grows’ is not correct.',\n",
       "  6),\n",
       " ('The verb form ‘is’ does not seem to match the subject ‘flows’.', 6),\n",
       " ('With the plural noun ‘states’, the verb inflection ‘is’ is not correct.',\n",
       "  6),\n",
       " ('Possible typo: you repeated a whitespace', 6),\n",
       " ('A word may be missing after ‘The’.', 6),\n",
       " ('The verb form ‘differ’ does not seem to match the subject ‘growth’.', 5),\n",
       " ('With the plural noun ‘tourists’, the verb inflection ‘grows’ is not correct.',\n",
       "  5),\n",
       " ('With the plural noun ‘schools’, the verb inflection ‘grows’ is not correct.',\n",
       "  5),\n",
       " ('With the plural noun ‘creditors’, the verb inflection ‘is’ is not correct.',\n",
       "  5),\n",
       " ('Use “good at” to mean “skilled” with school subjects. Try this: “Goods at French”.',\n",
       "  5),\n",
       " ('With the plural noun ‘emissions’, the verb inflection ‘does’ is not correct.',\n",
       "  4),\n",
       " ('With the plural noun ‘metals’, the verb inflection ‘exceeds’ is not correct.',\n",
       "  4),\n",
       " ('With the plural noun ‘users’, the verb inflection ‘does’ is not correct.',\n",
       "  3),\n",
       " ('With the plural noun ‘residents’, the verb inflection ‘exceeds’ is not correct.',\n",
       "  3),\n",
       " ('The verb form ‘is’ does not seem to match the subject ‘exports’.', 3),\n",
       " ('With the plural noun ‘branches’, the verb inflection ‘is’ is not correct.',\n",
       "  3),\n",
       " ('Possible agreement error.', 3),\n",
       " ('With the plural noun ‘countries’, the verb inflection ‘grows’ is not correct.',\n",
       "  2),\n",
       " ('The usual preposition for an exact address is “at”, not “on”. Did you mean “located at 1971 In St”?',\n",
       "  2),\n",
       " ('Please verify that the plural noun “hours” is in agreement with the quantifier “1”. Did you mean to use the singular form?',\n",
       "  2),\n",
       " ('The usual preposition for an exact address is “at”, not “on”. Did you mean “located at 1970 In St”?',\n",
       "  2),\n",
       " ('With the plural noun ‘banks’, the verb inflection ‘grows’ is not correct.',\n",
       "  1),\n",
       " ('With the plural noun ‘users’, the verb inflection ‘grows’ is not correct.',\n",
       "  1),\n",
       " ('The verb form ‘increases’ does not seem to match the subject ‘withdrawals’.',\n",
       "  1),\n",
       " ('The verb form ‘is’ does not seem to match the subject ‘creditors’.', 1),\n",
       " ('With the plural noun ‘personnel’, the verb inflection ‘is’ is not correct.',\n",
       "  1),\n",
       " ('The verb form ‘is’ does not seem to match the subject ‘imports’.', 1),\n",
       " ('Please verify that the plural noun “hectares” is in agreement with the quantifier “1”. Did you mean to use the singular form?',\n",
       "  1),\n",
       " ('With the plural noun ‘members’, the verb inflection ‘exceeds’ is not correct.',\n",
       "  1)]"
      ]
     },
     "execution_count": 39,
     "metadata": {},
     "output_type": "execute_result"
    }
   ],
   "source": [
    "ctr.most_common()"
   ]
  },
  {
   "cell_type": "code",
   "execution_count": 41,
   "id": "1a9c2bf0-c82d-45e7-98c2-12c313a0bad9",
   "metadata": {},
   "outputs": [],
   "source": [
    "caps = [g['caption'] for g in G]\n",
    "fixed = [{'_id': r['_id'], 'caption': fix(doc)} for r, doc in zip(G, nlp.pipe(caps))]"
   ]
  },
  {
   "cell_type": "code",
   "execution_count": 42,
   "id": "1f791620-c050-44c4-a551-a29bf14f5133",
   "metadata": {
    "scrolled": true,
    "tags": []
   },
   "outputs": [
    {
     "name": "stderr",
     "output_type": "stream",
     "text": [
      "[Parallel(n_jobs=-1)]: Using backend LokyBackend with 16 concurrent workers.\n",
      "2023-02-06 12:34:15.720433: W tensorflow/compiler/xla/stream_executor/platform/default/dso_loader.cc:64] Could not load dynamic library 'libnvinfer.so.7'; dlerror: libnvinfer.so.7: cannot open shared object file: No such file or directory\n",
      "2023-02-06 12:34:15.720873: W tensorflow/compiler/xla/stream_executor/platform/default/dso_loader.cc:64] Could not load dynamic library 'libnvinfer_plugin.so.7'; dlerror: libnvinfer_plugin.so.7: cannot open shared object file: No such file or directory\n",
      "2023-02-06 12:34:15.720885: W tensorflow/compiler/tf2tensorrt/utils/py_utils.cc:38] TF-TRT Warning: Cannot dlopen some TensorRT libraries. If you would like to use Nvidia GPU with TensorRT, please make sure the missing libraries mentioned above are installed properly.\n",
      "2023-02-06 12:34:15.774715: W tensorflow/compiler/xla/stream_executor/platform/default/dso_loader.cc:64] Could not load dynamic library 'libnvinfer.so.7'; dlerror: libnvinfer.so.7: cannot open shared object file: No such file or directory\n",
      "2023-02-06 12:34:15.774926: W tensorflow/compiler/xla/stream_executor/platform/default/dso_loader.cc:64] Could not load dynamic library 'libnvinfer_plugin.so.7'; dlerror: libnvinfer_plugin.so.7: cannot open shared object file: No such file or directory\n",
      "2023-02-06 12:34:15.774958: W tensorflow/compiler/tf2tensorrt/utils/py_utils.cc:38] TF-TRT Warning: Cannot dlopen some TensorRT libraries. If you would like to use Nvidia GPU with TensorRT, please make sure the missing libraries mentioned above are installed properly.\n",
      "2023-02-06 12:34:15.807478: W tensorflow/compiler/xla/stream_executor/platform/default/dso_loader.cc:64] Could not load dynamic library 'libnvinfer.so.7'; dlerror: libnvinfer.so.7: cannot open shared object file: No such file or directory\n",
      "2023-02-06 12:34:15.807680: W tensorflow/compiler/xla/stream_executor/platform/default/dso_loader.cc:64] Could not load dynamic library 'libnvinfer_plugin.so.7'; dlerror: libnvinfer_plugin.so.7: cannot open shared object file: No such file or directory\n",
      "2023-02-06 12:34:15.807713: W tensorflow/compiler/tf2tensorrt/utils/py_utils.cc:38] TF-TRT Warning: Cannot dlopen some TensorRT libraries. If you would like to use Nvidia GPU with TensorRT, please make sure the missing libraries mentioned above are installed properly.\n",
      "2023-02-06 12:34:15.872247: W tensorflow/compiler/xla/stream_executor/platform/default/dso_loader.cc:64] Could not load dynamic library 'libnvinfer.so.7'; dlerror: libnvinfer.so.7: cannot open shared object file: No such file or directory\n",
      "2023-02-06 12:34:15.872482: W tensorflow/compiler/xla/stream_executor/platform/default/dso_loader.cc:64] Could not load dynamic library 'libnvinfer_plugin.so.7'; dlerror: libnvinfer_plugin.so.7: cannot open shared object file: No such file or directory\n",
      "2023-02-06 12:34:15.872523: W tensorflow/compiler/tf2tensorrt/utils/py_utils.cc:38] TF-TRT Warning: Cannot dlopen some TensorRT libraries. If you would like to use Nvidia GPU with TensorRT, please make sure the missing libraries mentioned above are installed properly.\n",
      "2023-02-06 12:34:15.886758: W tensorflow/compiler/xla/stream_executor/platform/default/dso_loader.cc:64] Could not load dynamic library 'libnvinfer.so.7'; dlerror: libnvinfer.so.7: cannot open shared object file: No such file or directory\n",
      "2023-02-06 12:34:15.886972: W tensorflow/compiler/xla/stream_executor/platform/default/dso_loader.cc:64] Could not load dynamic library 'libnvinfer_plugin.so.7'; dlerror: libnvinfer_plugin.so.7: cannot open shared object file: No such file or directory\n",
      "2023-02-06 12:34:15.887008: W tensorflow/compiler/tf2tensorrt/utils/py_utils.cc:38] TF-TRT Warning: Cannot dlopen some TensorRT libraries. If you would like to use Nvidia GPU with TensorRT, please make sure the missing libraries mentioned above are installed properly.\n",
      "2023-02-06 12:34:15.891406: W tensorflow/compiler/xla/stream_executor/platform/default/dso_loader.cc:64] Could not load dynamic library 'libnvinfer.so.7'; dlerror: libnvinfer.so.7: cannot open shared object file: No such file or directory\n",
      "2023-02-06 12:34:15.891637: W tensorflow/compiler/xla/stream_executor/platform/default/dso_loader.cc:64] Could not load dynamic library 'libnvinfer_plugin.so.7'; dlerror: libnvinfer_plugin.so.7: cannot open shared object file: No such file or directory\n",
      "2023-02-06 12:34:15.891684: W tensorflow/compiler/tf2tensorrt/utils/py_utils.cc:38] TF-TRT Warning: Cannot dlopen some TensorRT libraries. If you would like to use Nvidia GPU with TensorRT, please make sure the missing libraries mentioned above are installed properly.\n",
      "2023-02-06 12:34:15.907506: W tensorflow/compiler/xla/stream_executor/platform/default/dso_loader.cc:64] Could not load dynamic library 'libnvinfer.so.7'; dlerror: libnvinfer.so.7: cannot open shared object file: No such file or directory\n",
      "2023-02-06 12:34:15.907745: W tensorflow/compiler/xla/stream_executor/platform/default/dso_loader.cc:64] Could not load dynamic library 'libnvinfer_plugin.so.7'; dlerror: libnvinfer_plugin.so.7: cannot open shared object file: No such file or directory\n",
      "2023-02-06 12:34:15.907791: W tensorflow/compiler/tf2tensorrt/utils/py_utils.cc:38] TF-TRT Warning: Cannot dlopen some TensorRT libraries. If you would like to use Nvidia GPU with TensorRT, please make sure the missing libraries mentioned above are installed properly.\n",
      "2023-02-06 12:34:15.917695: W tensorflow/compiler/xla/stream_executor/platform/default/dso_loader.cc:64] Could not load dynamic library 'libnvinfer.so.7'; dlerror: libnvinfer.so.7: cannot open shared object file: No such file or directory\n",
      "2023-02-06 12:34:15.917878: W tensorflow/compiler/xla/stream_executor/platform/default/dso_loader.cc:64] Could not load dynamic library 'libnvinfer_plugin.so.7'; dlerror: libnvinfer_plugin.so.7: cannot open shared object file: No such file or directory\n",
      "2023-02-06 12:34:15.917921: W tensorflow/compiler/tf2tensorrt/utils/py_utils.cc:38] TF-TRT Warning: Cannot dlopen some TensorRT libraries. If you would like to use Nvidia GPU with TensorRT, please make sure the missing libraries mentioned above are installed properly.\n",
      "2023-02-06 12:34:15.957537: W tensorflow/compiler/xla/stream_executor/platform/default/dso_loader.cc:64] Could not load dynamic library 'libnvinfer.so.7'; dlerror: libnvinfer.so.7: cannot open shared object file: No such file or directory\n",
      "2023-02-06 12:34:15.957575: W tensorflow/compiler/xla/stream_executor/platform/default/dso_loader.cc:64] Could not load dynamic library 'libnvinfer.so.7'; dlerror: libnvinfer.so.7: cannot open shared object file: No such file or directory\n",
      "2023-02-06 12:34:15.957742: W tensorflow/compiler/xla/stream_executor/platform/default/dso_loader.cc:64] Could not load dynamic library 'libnvinfer_plugin.so.7'; dlerror: libnvinfer_plugin.so.7: cannot open shared object file: No such file or directory\n",
      "2023-02-06 12:34:15.957751: W tensorflow/compiler/tf2tensorrt/utils/py_utils.cc:38] TF-TRT Warning: Cannot dlopen some TensorRT libraries. If you would like to use Nvidia GPU with TensorRT, please make sure the missing libraries mentioned above are installed properly.\n",
      "2023-02-06 12:34:15.957886: W tensorflow/compiler/xla/stream_executor/platform/default/dso_loader.cc:64] Could not load dynamic library 'libnvinfer_plugin.so.7'; dlerror: libnvinfer_plugin.so.7: cannot open shared object file: No such file or directory\n",
      "2023-02-06 12:34:15.957925: W tensorflow/compiler/tf2tensorrt/utils/py_utils.cc:38] TF-TRT Warning: Cannot dlopen some TensorRT libraries. If you would like to use Nvidia GPU with TensorRT, please make sure the missing libraries mentioned above are installed properly.\n",
      "2023-02-06 12:34:15.962722: W tensorflow/compiler/xla/stream_executor/platform/default/dso_loader.cc:64] Could not load dynamic library 'libnvinfer.so.7'; dlerror: libnvinfer.so.7: cannot open shared object file: No such file or directory\n",
      "2023-02-06 12:34:15.962910: W tensorflow/compiler/xla/stream_executor/platform/default/dso_loader.cc:64] Could not load dynamic library 'libnvinfer_plugin.so.7'; dlerror: libnvinfer_plugin.so.7: cannot open shared object file: No such file or directory\n",
      "2023-02-06 12:34:15.962943: W tensorflow/compiler/tf2tensorrt/utils/py_utils.cc:38] TF-TRT Warning: Cannot dlopen some TensorRT libraries. If you would like to use Nvidia GPU with TensorRT, please make sure the missing libraries mentioned above are installed properly.\n",
      "2023-02-06 12:34:16.042760: W tensorflow/compiler/xla/stream_executor/platform/default/dso_loader.cc:64] Could not load dynamic library 'libnvinfer.so.7'; dlerror: libnvinfer.so.7: cannot open shared object file: No such file or directory\n",
      "2023-02-06 12:34:16.042915: W tensorflow/compiler/xla/stream_executor/platform/default/dso_loader.cc:64] Could not load dynamic library 'libnvinfer_plugin.so.7'; dlerror: libnvinfer_plugin.so.7: cannot open shared object file: No such file or directory\n",
      "2023-02-06 12:34:16.042946: W tensorflow/compiler/tf2tensorrt/utils/py_utils.cc:38] TF-TRT Warning: Cannot dlopen some TensorRT libraries. If you would like to use Nvidia GPU with TensorRT, please make sure the missing libraries mentioned above are installed properly.\n",
      "2023-02-06 12:34:16.051326: W tensorflow/compiler/xla/stream_executor/platform/default/dso_loader.cc:64] Could not load dynamic library 'libnvinfer.so.7'; dlerror: libnvinfer.so.7: cannot open shared object file: No such file or directory\n",
      "2023-02-06 12:34:16.051468: W tensorflow/compiler/xla/stream_executor/platform/default/dso_loader.cc:64] Could not load dynamic library 'libnvinfer_plugin.so.7'; dlerror: libnvinfer_plugin.so.7: cannot open shared object file: No such file or directory\n",
      "2023-02-06 12:34:16.051500: W tensorflow/compiler/tf2tensorrt/utils/py_utils.cc:38] TF-TRT Warning: Cannot dlopen some TensorRT libraries. If you would like to use Nvidia GPU with TensorRT, please make sure the missing libraries mentioned above are installed properly.\n",
      "2023-02-06 12:34:16.060500: W tensorflow/compiler/xla/stream_executor/platform/default/dso_loader.cc:64] Could not load dynamic library 'libnvinfer.so.7'; dlerror: libnvinfer.so.7: cannot open shared object file: No such file or directory\n",
      "2023-02-06 12:34:16.060647: W tensorflow/compiler/xla/stream_executor/platform/default/dso_loader.cc:64] Could not load dynamic library 'libnvinfer_plugin.so.7'; dlerror: libnvinfer_plugin.so.7: cannot open shared object file: No such file or directory\n",
      "2023-02-06 12:34:16.060684: W tensorflow/compiler/tf2tensorrt/utils/py_utils.cc:38] TF-TRT Warning: Cannot dlopen some TensorRT libraries. If you would like to use Nvidia GPU with TensorRT, please make sure the missing libraries mentioned above are installed properly.\n",
      "2023-02-06 12:34:16.076873: W tensorflow/compiler/xla/stream_executor/platform/default/dso_loader.cc:64] Could not load dynamic library 'libnvinfer.so.7'; dlerror: libnvinfer.so.7: cannot open shared object file: No such file or directory\n",
      "2023-02-06 12:34:16.077094: W tensorflow/compiler/xla/stream_executor/platform/default/dso_loader.cc:64] Could not load dynamic library 'libnvinfer_plugin.so.7'; dlerror: libnvinfer_plugin.so.7: cannot open shared object file: No such file or directory\n",
      "2023-02-06 12:34:16.077131: W tensorflow/compiler/tf2tensorrt/utils/py_utils.cc:38] TF-TRT Warning: Cannot dlopen some TensorRT libraries. If you would like to use Nvidia GPU with TensorRT, please make sure the missing libraries mentioned above are installed properly.\n",
      "2023-02-06 12:34:16.082021: W tensorflow/compiler/xla/stream_executor/platform/default/dso_loader.cc:64] Could not load dynamic library 'libnvinfer.so.7'; dlerror: libnvinfer.so.7: cannot open shared object file: No such file or directory\n",
      "2023-02-06 12:34:16.082241: W tensorflow/compiler/xla/stream_executor/platform/default/dso_loader.cc:64] Could not load dynamic library 'libnvinfer_plugin.so.7'; dlerror: libnvinfer_plugin.so.7: cannot open shared object file: No such file or directory\n",
      "2023-02-06 12:34:16.082283: W tensorflow/compiler/tf2tensorrt/utils/py_utils.cc:38] TF-TRT Warning: Cannot dlopen some TensorRT libraries. If you would like to use Nvidia GPU with TensorRT, please make sure the missing libraries mentioned above are installed properly.\n",
      "2023-02-06 12:34:17.496122: W tensorflow/compiler/xla/stream_executor/platform/default/dso_loader.cc:64] Could not load dynamic library 'libcusolver.so.11'; dlerror: libcusolver.so.11: cannot open shared object file: No such file or directory\n",
      "2023-02-06 12:34:17.496303: W tensorflow/core/common_runtime/gpu/gpu_device.cc:1934] Cannot dlopen some GPU libraries. Please make sure the missing libraries mentioned above are installed properly if you would like to use GPU. Follow the guide at https://www.tensorflow.org/install/gpu for how to download and setup the required libraries for your platform.\n",
      "Skipping registering GPU devices...\n",
      "2023-02-06 12:34:17.655514: W tensorflow/compiler/xla/stream_executor/platform/default/dso_loader.cc:64] Could not load dynamic library 'libcusolver.so.11'; dlerror: libcusolver.so.11: cannot open shared object file: No such file or directory\n",
      "2023-02-06 12:34:17.655697: W tensorflow/core/common_runtime/gpu/gpu_device.cc:1934] Cannot dlopen some GPU libraries. Please make sure the missing libraries mentioned above are installed properly if you would like to use GPU. Follow the guide at https://www.tensorflow.org/install/gpu for how to download and setup the required libraries for your platform.\n",
      "Skipping registering GPU devices...\n",
      "2023-02-06 12:34:17.725968: W tensorflow/compiler/xla/stream_executor/platform/default/dso_loader.cc:64] Could not load dynamic library 'libcusolver.so.11'; dlerror: libcusolver.so.11: cannot open shared object file: No such file or directory\n",
      "2023-02-06 12:34:17.726159: W tensorflow/core/common_runtime/gpu/gpu_device.cc:1934] Cannot dlopen some GPU libraries. Please make sure the missing libraries mentioned above are installed properly if you would like to use GPU. Follow the guide at https://www.tensorflow.org/install/gpu for how to download and setup the required libraries for your platform.\n",
      "Skipping registering GPU devices...\n",
      "2023-02-06 12:34:17.774612: W tensorflow/compiler/xla/stream_executor/platform/default/dso_loader.cc:64] Could not load dynamic library 'libcusolver.so.11'; dlerror: libcusolver.so.11: cannot open shared object file: No such file or directory\n",
      "2023-02-06 12:34:17.774918: W tensorflow/core/common_runtime/gpu/gpu_device.cc:1934] Cannot dlopen some GPU libraries. Please make sure the missing libraries mentioned above are installed properly if you would like to use GPU. Follow the guide at https://www.tensorflow.org/install/gpu for how to download and setup the required libraries for your platform.\n",
      "Skipping registering GPU devices...\n",
      "2023-02-06 12:34:17.797950: W tensorflow/compiler/xla/stream_executor/platform/default/dso_loader.cc:64] Could not load dynamic library 'libcusolver.so.11'; dlerror: libcusolver.so.11: cannot open shared object file: No such file or directory\n",
      "2023-02-06 12:34:17.798091: W tensorflow/core/common_runtime/gpu/gpu_device.cc:1934] Cannot dlopen some GPU libraries. Please make sure the missing libraries mentioned above are installed properly if you would like to use GPU. Follow the guide at https://www.tensorflow.org/install/gpu for how to download and setup the required libraries for your platform.\n",
      "Skipping registering GPU devices...\n",
      "2023-02-06 12:34:17.808811: W tensorflow/compiler/xla/stream_executor/platform/default/dso_loader.cc:64] Could not load dynamic library 'libcusolver.so.11'; dlerror: libcusolver.so.11: cannot open shared object file: No such file or directory\n",
      "2023-02-06 12:34:17.808968: W tensorflow/core/common_runtime/gpu/gpu_device.cc:1934] Cannot dlopen some GPU libraries. Please make sure the missing libraries mentioned above are installed properly if you would like to use GPU. Follow the guide at https://www.tensorflow.org/install/gpu for how to download and setup the required libraries for your platform.\n",
      "Skipping registering GPU devices...\n",
      "2023-02-06 12:34:17.809410: W tensorflow/compiler/xla/stream_executor/platform/default/dso_loader.cc:64] Could not load dynamic library 'libcusolver.so.11'; dlerror: libcusolver.so.11: cannot open shared object file: No such file or directory\n",
      "2023-02-06 12:34:17.809531: W tensorflow/core/common_runtime/gpu/gpu_device.cc:1934] Cannot dlopen some GPU libraries. Please make sure the missing libraries mentioned above are installed properly if you would like to use GPU. Follow the guide at https://www.tensorflow.org/install/gpu for how to download and setup the required libraries for your platform.\n",
      "Skipping registering GPU devices...\n",
      "2023-02-06 12:34:17.827979: W tensorflow/compiler/xla/stream_executor/platform/default/dso_loader.cc:64] Could not load dynamic library 'libcusolver.so.11'; dlerror: libcusolver.so.11: cannot open shared object file: No such file or directory\n",
      "2023-02-06 12:34:17.828146: W tensorflow/core/common_runtime/gpu/gpu_device.cc:1934] Cannot dlopen some GPU libraries. Please make sure the missing libraries mentioned above are installed properly if you would like to use GPU. Follow the guide at https://www.tensorflow.org/install/gpu for how to download and setup the required libraries for your platform.\n",
      "Skipping registering GPU devices...\n",
      "2023-02-06 12:34:17.851825: W tensorflow/compiler/xla/stream_executor/platform/default/dso_loader.cc:64] Could not load dynamic library 'libcusolver.so.11'; dlerror: libcusolver.so.11: cannot open shared object file: No such file or directory\n",
      "2023-02-06 12:34:17.851987: W tensorflow/core/common_runtime/gpu/gpu_device.cc:1934] Cannot dlopen some GPU libraries. Please make sure the missing libraries mentioned above are installed properly if you would like to use GPU. Follow the guide at https://www.tensorflow.org/install/gpu for how to download and setup the required libraries for your platform.\n",
      "Skipping registering GPU devices...\n",
      "2023-02-06 12:34:17.886734: W tensorflow/compiler/xla/stream_executor/platform/default/dso_loader.cc:64] Could not load dynamic library 'libcusolver.so.11'; dlerror: libcusolver.so.11: cannot open shared object file: No such file or directory\n",
      "2023-02-06 12:34:17.886926: W tensorflow/core/common_runtime/gpu/gpu_device.cc:1934] Cannot dlopen some GPU libraries. Please make sure the missing libraries mentioned above are installed properly if you would like to use GPU. Follow the guide at https://www.tensorflow.org/install/gpu for how to download and setup the required libraries for your platform.\n",
      "Skipping registering GPU devices...\n",
      "2023-02-06 12:34:17.907309: W tensorflow/compiler/xla/stream_executor/platform/default/dso_loader.cc:64] Could not load dynamic library 'libcusolver.so.11'; dlerror: libcusolver.so.11: cannot open shared object file: No such file or directory\n",
      "2023-02-06 12:34:17.907496: W tensorflow/core/common_runtime/gpu/gpu_device.cc:1934] Cannot dlopen some GPU libraries. Please make sure the missing libraries mentioned above are installed properly if you would like to use GPU. Follow the guide at https://www.tensorflow.org/install/gpu for how to download and setup the required libraries for your platform.\n",
      "Skipping registering GPU devices...\n",
      "2023-02-06 12:34:17.920563: W tensorflow/compiler/xla/stream_executor/platform/default/dso_loader.cc:64] Could not load dynamic library 'libcusolver.so.11'; dlerror: libcusolver.so.11: cannot open shared object file: No such file or directory\n",
      "2023-02-06 12:34:17.920776: W tensorflow/core/common_runtime/gpu/gpu_device.cc:1934] Cannot dlopen some GPU libraries. Please make sure the missing libraries mentioned above are installed properly if you would like to use GPU. Follow the guide at https://www.tensorflow.org/install/gpu for how to download and setup the required libraries for your platform.\n",
      "Skipping registering GPU devices...\n",
      "2023-02-06 12:34:17.946477: W tensorflow/compiler/xla/stream_executor/platform/default/dso_loader.cc:64] Could not load dynamic library 'libcusolver.so.11'; dlerror: libcusolver.so.11: cannot open shared object file: No such file or directory\n",
      "2023-02-06 12:34:17.946747: W tensorflow/core/common_runtime/gpu/gpu_device.cc:1934] Cannot dlopen some GPU libraries. Please make sure the missing libraries mentioned above are installed properly if you would like to use GPU. Follow the guide at https://www.tensorflow.org/install/gpu for how to download and setup the required libraries for your platform.\n",
      "Skipping registering GPU devices...\n",
      "2023-02-06 12:34:17.955952: W tensorflow/compiler/xla/stream_executor/platform/default/dso_loader.cc:64] Could not load dynamic library 'libcusolver.so.11'; dlerror: libcusolver.so.11: cannot open shared object file: No such file or directory\n",
      "2023-02-06 12:34:17.956142: W tensorflow/core/common_runtime/gpu/gpu_device.cc:1934] Cannot dlopen some GPU libraries. Please make sure the missing libraries mentioned above are installed properly if you would like to use GPU. Follow the guide at https://www.tensorflow.org/install/gpu for how to download and setup the required libraries for your platform.\n",
      "Skipping registering GPU devices...\n",
      "2023-02-06 12:34:17.959541: W tensorflow/compiler/xla/stream_executor/platform/default/dso_loader.cc:64] Could not load dynamic library 'libcusolver.so.11'; dlerror: libcusolver.so.11: cannot open shared object file: No such file or directory\n",
      "2023-02-06 12:34:17.959730: W tensorflow/core/common_runtime/gpu/gpu_device.cc:1934] Cannot dlopen some GPU libraries. Please make sure the missing libraries mentioned above are installed properly if you would like to use GPU. Follow the guide at https://www.tensorflow.org/install/gpu for how to download and setup the required libraries for your platform.\n",
      "Skipping registering GPU devices...\n",
      "2023-02-06 12:34:18.008537: W tensorflow/compiler/xla/stream_executor/platform/default/dso_loader.cc:64] Could not load dynamic library 'libcusolver.so.11'; dlerror: libcusolver.so.11: cannot open shared object file: No such file or directory\n",
      "2023-02-06 12:34:18.008743: W tensorflow/core/common_runtime/gpu/gpu_device.cc:1934] Cannot dlopen some GPU libraries. Please make sure the missing libraries mentioned above are installed properly if you would like to use GPU. Follow the guide at https://www.tensorflow.org/install/gpu for how to download and setup the required libraries for your platform.\n",
      "Skipping registering GPU devices...\n",
      "[Parallel(n_jobs=-1)]: Done   9 tasks      | elapsed:    5.2s\n",
      "[Parallel(n_jobs=-1)]: Done 148 tasks      | elapsed:    5.9s\n",
      "[Parallel(n_jobs=-1)]: Done 1560 tasks      | elapsed:    8.8s\n",
      "[Parallel(n_jobs=-1)]: Done 3824 tasks      | elapsed:   13.3s\n",
      "[Parallel(n_jobs=-1)]: Done 6744 tasks      | elapsed:   19.0s\n",
      "[Parallel(n_jobs=-1)]: Done 10304 tasks      | elapsed:   25.9s\n",
      "[Parallel(n_jobs=-1)]: Done 14520 tasks      | elapsed:   33.7s\n",
      "[Parallel(n_jobs=-1)]: Done 19376 tasks      | elapsed:   43.0s\n",
      "[Parallel(n_jobs=-1)]: Done 23397 out of 23397 | elapsed:   51.0s finished\n"
     ]
    }
   ],
   "source": [
    "res = Parallel(n_jobs=-1, verbose=2)(delayed(lt.process)(r['_id'], r['caption']) for r in fixed)"
   ]
  },
  {
   "cell_type": "code",
   "execution_count": 43,
   "id": "92864997-1791-4723-94b6-81574c0e11a6",
   "metadata": {},
   "outputs": [
    {
     "data": {
      "text/plain": [
       "23397"
      ]
     },
     "execution_count": 43,
     "metadata": {},
     "output_type": "execute_result"
    }
   ],
   "source": [
    "len([g for g in res if len(g['matches']) > 0])"
   ]
  },
  {
   "cell_type": "code",
   "execution_count": 44,
   "id": "e619d979-9a89-4ad6-b3f5-7874c43d276b",
   "metadata": {},
   "outputs": [
    {
     "data": {
      "text/plain": [
       "23397"
      ]
     },
     "execution_count": 44,
     "metadata": {},
     "output_type": "execute_result"
    }
   ],
   "source": [
    "len(res)"
   ]
  },
  {
   "cell_type": "code",
   "execution_count": null,
   "id": "21f7c0c4-940d-41c4-b175-8fe56271057d",
   "metadata": {},
   "outputs": [],
   "source": []
  }
 ],
 "metadata": {
  "kernelspec": {
   "display_name": "Python 3 (ipykernel)",
   "language": "python",
   "name": "python3"
  },
  "language_info": {
   "codemirror_mode": {
    "name": "ipython",
    "version": 3
   },
   "file_extension": ".py",
   "mimetype": "text/x-python",
   "name": "python",
   "nbconvert_exporter": "python",
   "pygments_lexer": "ipython3",
   "version": "3.9.12"
  }
 },
 "nbformat": 4,
 "nbformat_minor": 5
}
