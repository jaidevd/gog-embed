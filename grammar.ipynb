{
 "cells": [
  {
   "cell_type": "code",
   "execution_count": 3,
   "id": "2d8140a0-339a-4baf-b9ae-7152d741053a",
   "metadata": {},
   "outputs": [
    {
     "name": "stdout",
     "output_type": "stream",
     "text": [
      "The autoreload extension is already loaded. To reload it, use:\n",
      "  %reload_ext autoreload\n"
     ]
    }
   ],
   "source": [
    "%load_ext autoreload\n",
    "%autoreload 2\n",
    "\n",
    "import json\n",
    "import pandas as pd\n",
    "import languagetool as lt\n",
    "from collections import Counter\n",
    "from tqdm import tqdm"
   ]
  },
  {
   "cell_type": "code",
   "execution_count": 6,
   "id": "1aa21da0-22fd-4104-8cc2-b9819dc92097",
   "metadata": {},
   "outputs": [],
   "source": [
    "df = []\n",
    "for x in pd.read_json('data/qa_captions.json', lines=True, chunksize=1_000_000):\n",
    "    y = x.groupby('template_id').sample(10)\n",
    "    df.append(y)\n",
    "\n",
    "df = pd.concat(df, axis=0, ignore_index=True)"
   ]
  },
  {
   "cell_type": "code",
   "execution_count": 9,
   "id": "a4c6004e-95d1-40e6-a0db-5c66e9c704c7",
   "metadata": {},
   "outputs": [
    {
     "name": "stderr",
     "output_type": "stream",
     "text": [
      "[Parallel(n_jobs=-1)]: Using backend LokyBackend with 16 concurrent workers.\n",
      "[Parallel(n_jobs=-1)]: Done   9 tasks      | elapsed:    3.4s\n",
      "[Parallel(n_jobs=-1)]: Done 132 tasks      | elapsed:    4.4s\n",
      "[Parallel(n_jobs=-1)]: Done 538 tasks      | elapsed:    6.4s\n",
      "[Parallel(n_jobs=-1)]: Done 1536 tasks      | elapsed:    9.3s\n",
      "[Parallel(n_jobs=-1)]: Done 2829 out of 2860 | elapsed:   12.6s remaining:    0.1s\n",
      "[Parallel(n_jobs=-1)]: Done 2860 out of 2860 | elapsed:   12.6s finished\n"
     ]
    }
   ],
   "source": [
    "from joblib import Parallel, delayed\n",
    "\n",
    "def check(df, top_k=5):\n",
    "    # errors = [lt.process(**row) for _, row in df.iterrows()]\n",
    "    errors = Parallel(n_jobs=-1, verbose=2)(delayed(lt.process)(**row) for _, row in df.iterrows())\n",
    "    errors = [k for k in errors if len(k['matches']) > 0]\n",
    "    msgs = []\n",
    "    for m in errors:\n",
    "        for k in m['matches']:\n",
    "            msgs.append(k['message'])\n",
    "    return Counter(msgs).most_common(top_k)\n",
    "c = check(df)"
   ]
  },
  {
   "cell_type": "code",
   "execution_count": 10,
   "id": "442b9b60-5694-41a0-9105-af9228cf8662",
   "metadata": {},
   "outputs": [],
   "source": [
    "# df['caption'] = df['caption'].apply(\n",
    "#     lt.space_before_bracket\n",
    "#     ).apply(\n",
    "#     lt.trim_leading_symbols\n",
    "#     )"
   ]
  },
  {
   "cell_type": "code",
   "execution_count": 11,
   "id": "bc74a176-a63d-4c0f-a468-b83e0b889ea5",
   "metadata": {},
   "outputs": [
    {
     "data": {
      "text/plain": [
       "[('Possible spelling mistake found.', 352),\n",
       " ('A determiner may be missing.', 159),\n",
       " ('Possible spelling mistake. ‘enrolment’ is British English.', 68),\n",
       " ('It appears that a hyphen is missing.', 50),\n",
       " ('Possible typo: you repeated a word', 40)]"
      ]
     },
     "execution_count": 11,
     "metadata": {},
     "output_type": "execute_result"
    }
   ],
   "source": [
    "c"
   ]
  },
  {
   "cell_type": "code",
   "execution_count": 12,
   "id": "5afaa865-99e6-4262-ab28-5f6e51e53326",
   "metadata": {},
   "outputs": [
    {
     "data": {
      "text/plain": [
       "['The sum of the CPIA rating in Lao PDR and CPIA rating in Djibouti is always more than the CPIA rating in Solomon Islands.',\n",
       " 'The Taxes (in US$) in United Arab Emirates in 2006 exceeds the Taxes (in US$) in the Gambia in 2005 by -4666935500.0.',\n",
       " 'Across Merchandise Trading, the maximum Trade with economies of Middle East &amp; North Africa (%) of Malaysia is 1.085303186.',\n",
       " 'The amount of industrial nitrous oxide emitted in Philippines is strictly greater than the amount of industrial nitrous oxide emitted in Philippines over the years.',\n",
       " 'The Amount exported (in US$) in Marshall Islands in 2012 is greater than that in 2008 by a factor of 3.6656891495601176.']"
      ]
     },
     "execution_count": 12,
     "metadata": {},
     "output_type": "execute_result"
    }
   ],
   "source": [
    "deter = df[\n",
    "    df.apply(lambda x: lt.process(**x), axis=1).apply(json.dumps).str.contains('determiner may be missing')\n",
    "]\n",
    "deter['caption'].sample(5).tolist()"
   ]
  },
  {
   "cell_type": "code",
   "execution_count": 13,
   "id": "57e21fae-543b-43a5-8257-b19d751ab9c9",
   "metadata": {},
   "outputs": [
    {
     "name": "stderr",
     "output_type": "stream",
     "text": [
      "2023-01-21 17:42:13.445177: I tensorflow/core/platform/cpu_feature_guard.cc:193] This TensorFlow binary is optimized with oneAPI Deep Neural Network Library (oneDNN) to use the following CPU instructions in performance-critical operations:  AVX2 FMA\n",
      "To enable them in other operations, rebuild TensorFlow with the appropriate compiler flags.\n",
      "2023-01-21 17:42:14.613764: W tensorflow/compiler/xla/stream_executor/platform/default/dso_loader.cc:64] Could not load dynamic library 'libnvinfer.so.7'; dlerror: libnvinfer.so.7: cannot open shared object file: No such file or directory\n",
      "2023-01-21 17:42:14.613819: W tensorflow/compiler/xla/stream_executor/platform/default/dso_loader.cc:64] Could not load dynamic library 'libnvinfer_plugin.so.7'; dlerror: libnvinfer_plugin.so.7: cannot open shared object file: No such file or directory\n",
      "2023-01-21 17:42:14.613824: W tensorflow/compiler/tf2tensorrt/utils/py_utils.cc:38] TF-TRT Warning: Cannot dlopen some TensorRT libraries. If you would like to use Nvidia GPU with TensorRT, please make sure the missing libraries mentioned above are installed properly.\n",
      "2023-01-21 17:42:16.213085: W tensorflow/compiler/xla/stream_executor/platform/default/dso_loader.cc:64] Could not load dynamic library 'libcusolver.so.11'; dlerror: libcusolver.so.11: cannot open shared object file: No such file or directory\n",
      "2023-01-21 17:42:16.213137: W tensorflow/core/common_runtime/gpu/gpu_device.cc:1934] Cannot dlopen some GPU libraries. Please make sure the missing libraries mentioned above are installed properly if you would like to use GPU. Follow the guide at https://www.tensorflow.org/install/gpu for how to download and setup the required libraries for your platform.\n",
      "Skipping registering GPU devices...\n"
     ]
    }
   ],
   "source": [
    "from spacy import load\n",
    "nlp = load('en_core_web_lg')"
   ]
  },
  {
   "cell_type": "code",
   "execution_count": 19,
   "id": "2874fc33-6274-45d9-b6f2-84c80d3bfc80",
   "metadata": {},
   "outputs": [],
   "source": [
    "gpes = deter['caption'].apply(lambda x: [c for c in nlp(x).ents if c.label_ == 'GPE'])"
   ]
  },
  {
   "cell_type": "code",
   "execution_count": 24,
   "id": "89d7d32c-a549-443c-a9de-ecc2f2a4fcff",
   "metadata": {},
   "outputs": [],
   "source": [
    "def check_GPE_determiner(doc):\n",
    "    gpes = [c for c in doc.ents if c.label_ == 'GPE' and c[0].text.lower() != 'the']\n",
    "    return set([c.text for c in gpes])"
   ]
  },
  {
   "cell_type": "code",
   "execution_count": 33,
   "id": "c9ccce06-3813-4046-a749-22338d3f0285",
   "metadata": {},
   "outputs": [],
   "source": [
    "docs = deter['caption'].apply(nlp)\n",
    "\n",
    "gpes = set()\n",
    "for doc in docs:\n",
    "    gpes.update(check_GPE_determiner(doc))"
   ]
  },
  {
   "cell_type": "code",
   "execution_count": 35,
   "id": "a78454e0-ae50-438e-ad93-6c4cf966e58a",
   "metadata": {},
   "outputs": [
    {
     "data": {
      "text/plain": [
       "['Bahamas',\n",
       " 'Cayman Islands',\n",
       " 'Central African Republic',\n",
       " 'Congo',\n",
       " 'Czech Republic',\n",
       " 'Dominican Republic',\n",
       " 'Gambia',\n",
       " 'Netherlands',\n",
       " 'Philippines',\n",
       " 'Slovak Republic',\n",
       " 'Solomon Islands',\n",
       " 'US',\n",
       " 'United Arab Emirates',\n",
       " 'United Kingdom',\n",
       " 'United States',\n",
       " 'Virgin Islands',\n",
       " 'West Bank']"
      ]
     },
     "execution_count": 35,
     "metadata": {},
     "output_type": "execute_result"
    }
   ],
   "source": [
    "gpes = \"\"\"Bahamas\n",
    "Cayman Islands\n",
    "Central African Republic\n",
    "Congo\n",
    "Czech Republic\n",
    "Dominican Republic\n",
    "Gambia\n",
    "Netherlands\n",
    "Philippines\n",
    "Slovak Republic\n",
    "Solomon Islands\n",
    "US\n",
    "United Arab Emirates\n",
    "United Kingdom\n",
    "United States\n",
    "Virgin Islands\n",
    "West Bank\"\"\".splitlines()\n",
    "gpes"
   ]
  },
  {
   "cell_type": "code",
   "execution_count": 47,
   "id": "ac98fe09-b26d-4f21-908e-3895c09f20ad",
   "metadata": {},
   "outputs": [],
   "source": [
    "import re\n",
    "\n",
    "def replace_gpes(s):\n",
    "    for gpe in gpes:\n",
    "        if gpe.lower() in s.lower():\n",
    "            s = re.sub(f'{gpe}, The', f'the {gpe}', s)            \n",
    "            if f'the {gpe}' in s.lower():\n",
    "                continue\n",
    "            else:\n",
    "                s = re.sub(f'{gpe}', f'the {gpe}', s)\n",
    "        else:\n",
    "            continue\n",
    "    return s"
   ]
  },
  {
   "cell_type": "code",
   "execution_count": 48,
   "id": "9b206480-bdc6-4e6c-885a-456d0171630a",
   "metadata": {},
   "outputs": [],
   "source": []
  },
  {
   "cell_type": "code",
   "execution_count": 49,
   "id": "11f0c2e6-5399-4983-aff6-df1a4fd72cbd",
   "metadata": {},
   "outputs": [
    {
     "name": "stderr",
     "output_type": "stream",
     "text": [
      "[Parallel(n_jobs=-1)]: Using backend LokyBackend with 16 concurrent workers.\n",
      "[Parallel(n_jobs=-1)]: Done   9 tasks      | elapsed:    0.0s\n",
      "[Parallel(n_jobs=-1)]: Done 496 tasks      | elapsed:    1.2s\n",
      "[Parallel(n_jobs=-1)]: Done 2120 tasks      | elapsed:    4.4s\n",
      "[Parallel(n_jobs=-1)]: Done 2860 out of 2860 | elapsed:    5.7s finished\n"
     ]
    },
    {
     "data": {
      "text/plain": [
       "[('Possible spelling mistake found.', 352),\n",
       " ('Possible typo: you repeated a word', 76),\n",
       " ('Possible spelling mistake. ‘enrolment’ is British English.', 68),\n",
       " ('A determiner may be missing.', 66),\n",
       " ('It appears that a hyphen is missing.', 50)]"
      ]
     },
     "execution_count": 49,
     "metadata": {},
     "output_type": "execute_result"
    }
   ],
   "source": [
    "c = check(df)\n",
    "c"
   ]
  },
  {
   "cell_type": "code",
   "execution_count": 50,
   "id": "fd306755-2047-49ac-91a8-67947f4434f9",
   "metadata": {},
   "outputs": [
    {
     "data": {
      "text/plain": [
       "['The maximum Rating (1=low 6=high) in Caribbean small states across years is 3.68.',\n",
       " 'In the year 2007, the Revenue generated (in %) in Caribbean small states is greater than the Revenue generated (in %) in Belgium by 12.1753.',\n",
       " '9.1811529259 is the % of population in Middle East &amp; North Africa (all income levels) in 2006.',\n",
       " 'Across years, the highest Employment (as % of total employment) in Middle East &amp; North Africa (developing only) is 27.1444936262.',\n",
       " 'The sum of the percentage of amount spent on subsidies in Middle East &amp; North Africa (all income levels) and Middle East &amp; North Africa (developing only) is higher than the greatest percentage of amount spent on other expenses across all countries.']"
      ]
     },
     "execution_count": 50,
     "metadata": {},
     "output_type": "execute_result"
    }
   ],
   "source": [
    "deter = df[\n",
    "    df.apply(lambda x: lt.process(**x), axis=1).apply(json.dumps).str.contains('determiner may be missing')\n",
    "]\n",
    "deter['caption'].sample(5).tolist()"
   ]
  },
  {
   "cell_type": "code",
   "execution_count": 55,
   "id": "b0ec0a26-7bf9-4476-83ac-f2d6b00b3e41",
   "metadata": {},
   "outputs": [],
   "source": [
    "gpes.extend(['Caribbean', 'Middle East'])"
   ]
  },
  {
   "cell_type": "code",
   "execution_count": 58,
   "id": "85496f4a-052e-4557-be87-294ca67dad59",
   "metadata": {},
   "outputs": [],
   "source": [
    "gpes.extend(['Comoros', 'Maldives'])\n",
    "gpes.extend(['Marshall Islands'])"
   ]
  },
  {
   "cell_type": "code",
   "execution_count": 57,
   "id": "6babfbaa-26d7-4228-a897-d837c731e844",
   "metadata": {},
   "outputs": [
    {
     "data": {
      "text/plain": [
       "['The sum of the percentage of new male entrants in the the the Philippines and percentage of new male entrants in the the the West Bank and Gaza is not more than the sum of the {ylabel3} of {legendlabel4} and percentage of new male entrants in Least developed countries in every year.',\n",
       " 'The LPI (1=low to 5=high) in Least developed countries is less than the LPI (1=low to 5=high) in Lebanon by -0.2069 in 2012.',\n",
       " 'The total Total Trade (current the the the US$) in Marshall Islands in the graph is 0.0.',\n",
       " 'The Amount exported (in the the the US$) in Marshall Islands in 2012 is greater than that in 2008 by a factor of 3.6656891495601176.',\n",
       " 'The Earnings (current the the the US$) in Least developed countries in 1999 is 1.0610079575596818 times greater than that in 1997.']"
      ]
     },
     "execution_count": 57,
     "metadata": {},
     "output_type": "execute_result"
    }
   ],
   "source": [
    "df['caption'] = df['caption'].apply(replace_gpes)\n",
    "deter = df[\n",
    "    df.apply(lambda x: lt.process(**x), axis=1).apply(json.dumps).str.contains('determiner may be missing')\n",
    "]\n",
    "deter['caption'].sample(5).tolist()"
   ]
  },
  {
   "cell_type": "code",
   "execution_count": 59,
   "id": "599272fa-c3f9-4651-bde0-48f790366f3a",
   "metadata": {},
   "outputs": [
    {
     "data": {
      "text/plain": [
       "['Bahamas',\n",
       " 'Cayman Islands',\n",
       " 'Central African Republic',\n",
       " 'Congo',\n",
       " 'Czech Republic',\n",
       " 'Dominican Republic',\n",
       " 'Gambia',\n",
       " 'Netherlands',\n",
       " 'Philippines',\n",
       " 'Slovak Republic',\n",
       " 'Solomon Islands',\n",
       " 'US',\n",
       " 'United Arab Emirates',\n",
       " 'United Kingdom',\n",
       " 'United States',\n",
       " 'Virgin Islands',\n",
       " 'West Bank',\n",
       " 'Carribean',\n",
       " 'Middle East',\n",
       " 'Caribbean',\n",
       " 'Middle East',\n",
       " 'Comoros',\n",
       " 'Maldives',\n",
       " 'Comoros',\n",
       " 'Maldives',\n",
       " 'Marshall Islands']"
      ]
     },
     "execution_count": 59,
     "metadata": {},
     "output_type": "execute_result"
    }
   ],
   "source": [
    "gpes"
   ]
  },
  {
   "cell_type": "code",
   "execution_count": 60,
   "id": "d4c2d8b5-aab6-4cf4-b445-d8831bc3abd1",
   "metadata": {},
   "outputs": [],
   "source": [
    "df = []\n",
    "for x in pd.read_json('data/qa_captions.json', lines=True, chunksize=1_000_000):\n",
    "    y = x.groupby('template_id').sample(10)\n",
    "    df.append(y)\n",
    "\n",
    "df = pd.concat(df, axis=0, ignore_index=True)"
   ]
  },
  {
   "cell_type": "code",
   "execution_count": 61,
   "id": "9e6c0721-6e40-4b6e-9ddc-4ae45080fc02",
   "metadata": {},
   "outputs": [
    {
     "data": {
      "text/plain": [
       "['The average per Labor market programs Benefits incidence in poorest quintile (%) of Armenia is 17.4226.',\n",
       " 'The Amount (%) in 1960 in Least developed countries exceeds the Amount (%) in 1961 in Lower middle income by 1.628.',\n",
       " 'In the year 2005, the Number of children in Kyrgyz Republic is greater than the Number of children in Turks and Caicos Islands by 19520.0.',\n",
       " 'The Total Labor Force (in %) in Least developed countries in 2009 and the Total Labor Force (in %) in Middle income in 2011 differ by 13.9996.',\n",
       " 'The difference between the Rent (as % of GDP) in Natural Gas in Latin America (developing only) and that in Least developed countries is 0.121.']"
      ]
     },
     "execution_count": 61,
     "metadata": {},
     "output_type": "execute_result"
    }
   ],
   "source": [
    "df['caption'] = df['caption'].apply(replace_gpes)\n",
    "deter = df[\n",
    "    df.apply(lambda x: lt.process(**x), axis=1).apply(json.dumps).str.contains('determiner may be missing')\n",
    "]\n",
    "deter['caption'].sample(5).tolist()"
   ]
  },
  {
   "cell_type": "code",
   "execution_count": 64,
   "id": "5ce1f572-94e2-49df-a440-70823bb89fa5",
   "metadata": {},
   "outputs": [
    {
     "data": {
      "text/plain": [
       "['The sum of the earnings from merchandise exports in Least developed countries and High income: OECD is not greater than the highest earnings from merchandise imports across all countries.',\n",
       " 'Across years, the lowest Amount of electricity produced (kWh) in Least developed countries is 52000000.0.',\n",
       " 'The maximum Female students (as % of total students) of Least developed countries across years is 46.9951210022.',\n",
       " 'The Access to electricity (% of population) in 2010 in High income is greater than that in Least developed countries by a factor of 3.165.',\n",
       " 'The Total Labor Force (in %) in Least developed countries in 2009 and the Total Labor Force (in %) in Middle income in 2011 differ by 13.9996.',\n",
       " 'The population in largest city in the Cambodia country was the least.',\n",
       " 'In the year 2005, the Number of children in Kyrgyz Republic is greater than the Number of children in Turks and Caicos Islands by 19520.0.',\n",
       " 'The difference between the Rent (as % of GDP) in Natural Gas in Latin America (developing only) and that in Least developed countries is 0.121.',\n",
       " 'The Amount (%) in 1960 in Least developed countries exceeds the Amount (%) in 1961 in Lower middle income by 1.628.',\n",
       " 'The average per Labor market programs Benefits incidence in poorest quintile (%) of Armenia is 17.4226.']"
      ]
     },
     "execution_count": 64,
     "metadata": {},
     "output_type": "execute_result"
    }
   ],
   "source": [
    "deter['caption'].tolist()"
   ]
  },
  {
   "cell_type": "code",
   "execution_count": 72,
   "id": "63c75f84-f215-49f5-8af7-b4c964be7671",
   "metadata": {},
   "outputs": [],
   "source": [
    "gpes.append('Channel Islands')\n",
    "def replace_gpes(s):\n",
    "    for gpe in gpes:\n",
    "        if gpe.lower() in s.lower():\n",
    "            s = re.sub(f'{gpe}, The', f' the {gpe}', s, flags=re.IGNORECASE)\n",
    "            s = re.sub(f'(?<!the)\\s{gpe}', f' the {gpe}', s, flags=re.IGNORECASE)\n",
    "        else:\n",
    "            continue\n",
    "    return s.replace('  ', ' ')"
   ]
  },
  {
   "cell_type": "code",
   "execution_count": 73,
   "id": "37f14134-df7b-405b-a73f-d6bae98d1056",
   "metadata": {},
   "outputs": [
    {
     "data": {
      "text/plain": [
       "['Across years, the minimum Benefits incidence in poorest quintile (%) in Social Protection and Labor is 2.776901653.',\n",
       " 'The Rating (1=low 6=high) in Burkina Faso in 2014 is higher than the Rating (1=low 6=high) in Least developed countries in 2011 by -0.2907.',\n",
       " 'The air freight in Latin America (all income levels) is not less than that in Least developed countries.',\n",
       " 'The difference between the Depositors (per 1000 adults) of Moldova in 2010 and the Depositors (per 1000 adults) of Least developed countries in 2006 is -1148.8527.',\n",
       " 'The proportion of the male labor force who participated in production in Least developed countries is greater than 72 % in 3 years.']"
      ]
     },
     "execution_count": 73,
     "metadata": {},
     "output_type": "execute_result"
    }
   ],
   "source": [
    "df = []\n",
    "for x in pd.read_json('data/qa_captions.json', lines=True, chunksize=1_000_000):\n",
    "    y = x.groupby('template_id').sample(10)\n",
    "    df.append(y)\n",
    "\n",
    "df = pd.concat(df, axis=0, ignore_index=True)\n",
    "df['caption'] = df['caption'].apply(replace_gpes)\n",
    "\n",
    "deter = df[\n",
    "    df.apply(lambda x: lt.process(**x), axis=1).apply(json.dumps).str.contains('determiner may be missing')\n",
    "]\n",
    "deter['caption'].sample(5).tolist()"
   ]
  },
  {
   "cell_type": "code",
   "execution_count": 76,
   "id": "e067cc8f-179d-4ccc-b78c-a371825249b7",
   "metadata": {},
   "outputs": [
    {
     "name": "stderr",
     "output_type": "stream",
     "text": [
      "19it [04:08, 13.09s/it]\n"
     ]
    }
   ],
   "source": [
    "## Final GPE Replacement\n",
    "with open('data/gpes.txt', 'r') as fin:\n",
    "    gpes = [g.strip() for g in fin.readlines()]\n",
    "\n",
    "for i, df in tqdm(enumerate(pd.read_json('data/qa_captions.json', lines=True, chunksize=1_000_000))):\n",
    "    df['caption'] = df['caption'].apply(replace_gpes)\n",
    "    df.to_json(f'data/gpe_fix_{i}.json', orient='records', lines=True)"
   ]
  },
  {
   "cell_type": "code",
   "execution_count": 83,
   "id": "0b076989-358f-4c61-8294-8df521e6a906",
   "metadata": {},
   "outputs": [
    {
     "name": "stderr",
     "output_type": "stream",
     "text": [
      "[Parallel(n_jobs=-1)]: Using backend LokyBackend with 16 concurrent workers.\n",
      "[Parallel(n_jobs=-1)]: Done  10 tasks      | elapsed:    0.8s\n",
      "[Parallel(n_jobs=-1)]: Done 220 tasks      | elapsed:    1.6s\n",
      "[Parallel(n_jobs=-1)]: Done 1792 tasks      | elapsed:    6.1s\n",
      "[Parallel(n_jobs=-1)]: Done 4056 tasks      | elapsed:   11.0s\n",
      "[Parallel(n_jobs=-1)]: Done 6976 tasks      | elapsed:   17.5s\n",
      "[Parallel(n_jobs=-1)]: Done 10536 tasks      | elapsed:   25.7s\n",
      "[Parallel(n_jobs=-1)]: Done 14752 tasks      | elapsed:   35.4s\n",
      "[Parallel(n_jobs=-1)]: Done 19608 tasks      | elapsed:   46.2s\n",
      "[Parallel(n_jobs=-1)]: Done 25120 tasks      | elapsed:   58.6s\n",
      "[Parallel(n_jobs=-1)]: Done 27315 out of 27346 | elapsed:  1.1min remaining:    0.1s\n",
      "[Parallel(n_jobs=-1)]: Done 27346 out of 27346 | elapsed:  1.1min finished\n"
     ]
    }
   ],
   "source": [
    "# Final check\n",
    "\n",
    "df = []\n",
    "for x in pd.read_json('data/qa_captions.json', lines=True, chunksize=1_000_000):\n",
    "    n_samples = min(x['template_id'].value_counts().min(), 100)\n",
    "    y = x.groupby('template_id').sample(n_samples)\n",
    "    df.append(y)\n",
    "\n",
    "df = pd.concat(df, axis=0, ignore_index=True)\n",
    "c = check(df, top_k=None)"
   ]
  },
  {
   "cell_type": "code",
   "execution_count": 86,
   "id": "5b066516-1695-466f-9df0-f93a2c732de5",
   "metadata": {},
   "outputs": [],
   "source": [
    "c = [elem for elem in c if 'British English' not in elem[0]]"
   ]
  },
  {
   "cell_type": "code",
   "execution_count": 87,
   "id": "85c15874-9590-457c-ab6a-f7951301f3c0",
   "metadata": {},
   "outputs": [
    {
     "data": {
      "text/plain": [
       "[('Possible spelling mistake found.', 3492),\n",
       " ('It appears that a hyphen is missing.', 447),\n",
       " ('Possible typo: you repeated a word', 300),\n",
       " ('Please verify that the plural noun “countries” is in agreement with the quantifier “1”. Did you mean to use the singular form?',\n",
       "  227),\n",
       " ('Use “a thousand”, or use a number before ‘thousand’.', 210),\n",
       " ('The auxiliary verb ‘do’ requires the base form of the verb.', 165),\n",
       " ('The verb form ‘is’ does not seem to match the subject ‘imports’.', 125),\n",
       " ('A determiner may be missing.', 113),\n",
       " ('Please verify that the plural noun “years” is in agreement with the quantifier “1”. Did you mean to use the singular form?',\n",
       "  111),\n",
       " ('The verb form ‘is’ does not seem to match the subject ‘exports’.', 90),\n",
       " ('‘Sao Tome and Principe’ is an imported foreign name or expression, which originally has a diacritic.',\n",
       "  67),\n",
       " ('An apostrophe may be missing.', 62),\n",
       " ('This word is normally spelled with a hyphen.', 54),\n",
       " ('This word is normally spelled as one.', 48),\n",
       " ('This expression is usually spelled with a hyphen.', 32),\n",
       " ('With the plural noun ‘services’, the verb inflection ‘is’ is not correct.',\n",
       "  28),\n",
       " ('The verb form ‘is’ does not seem to match the subject ‘savings’.', 27),\n",
       " ('With the plural noun ‘sexes’, the verb inflection ‘is’ is not correct.',\n",
       "  24),\n",
       " ('With the plural noun ‘countries’, the verb inflection ‘is’ is not correct.',\n",
       "  22),\n",
       " ('This noun is normally spelled as one word.', 20),\n",
       " ('Unpaired symbol: ‘(’ seems to be missing', 20),\n",
       " ('Unpaired symbol: ‘)’ seems to be missing', 20),\n",
       " ('If the term is a proper noun, use initial capitals.', 19),\n",
       " ('Possible agreement error. The noun ‘amount’ seems to be countable.', 17),\n",
       " ('This expression is normally spelled as one or with a hyphen.', 17),\n",
       " ('‘Sao Tome’ is an imported foreign name or expression, which originally has a diacritic.',\n",
       "  17),\n",
       " ('The verb form ‘is’ does not seem to match the subject ‘withdrawals’.', 16),\n",
       " ('With the plural noun ‘imports’, the verb inflection ‘is’ is not correct.',\n",
       "  16),\n",
       " ('The currency mark is usually put at the beginning of the number.', 16),\n",
       " ('The word ‘vitamin’ is normally not capitalized in the expression “vitamin A”',\n",
       "  15),\n",
       " ('Don’t put a space before the closing parenthesis.', 15),\n",
       " ('If specifying a range, consider using an en dash instead of a hyphen.', 14),\n",
       " ('The verb form ‘is’ does not seem to match the subject ‘stocks’.', 14),\n",
       " ('With the plural noun ‘tourists’, the verb inflection ‘is’ is not correct.',\n",
       "  13),\n",
       " ('With the plural noun ‘schools’, the verb inflection ‘is’ is not correct.',\n",
       "  13),\n",
       " ('With the plural noun ‘repeaters’, the verb inflection ‘is’ is not correct.',\n",
       "  12),\n",
       " ('Two consecutive dots', 11),\n",
       " ('The verb form ‘is’ does not seem to match the subject ‘remittances’.', 9),\n",
       " ('The verb form ‘is’ does not seem to match the subject ‘payments’.', 8),\n",
       " ('This noun needs to be capitalized if you mean the country “Japan”.', 7),\n",
       " ('With the plural noun ‘exports’, the verb inflection ‘is’ is not correct.',\n",
       "  7),\n",
       " ('With the plural noun ‘products’, the verb inflection ‘is’ is not correct.',\n",
       "  5),\n",
       " ('The verb form ‘differ’ does not seem to match the subject ‘rate’.', 5),\n",
       " ('You should probably use “import”.', 5),\n",
       " ('You should probably use “export”.', 5),\n",
       " ('The singular proper name ‘Republic’ must be used with a third-person or a past tense verb.',\n",
       "  5),\n",
       " ('With the plural noun ‘savings’, the verb inflection ‘is’ is not correct.',\n",
       "  5),\n",
       " ('Don’t put a space after the opening parenthesis.', 5),\n",
       " ('It seems that an article is missing. Did you mean “a Number of”?', 4),\n",
       " ('‘Curacao’ is an imported foreign name or expression, which originally has a diacritic.',\n",
       "  4),\n",
       " ('With the plural noun ‘institutions’, the verb inflection ‘is’ is not correct.',\n",
       "  4),\n",
       " ('The verb form ‘differ’ does not seem to match the subject ‘ratio’.', 3),\n",
       " ('With the plural noun ‘services’, the verb inflection ‘does’ is not correct.',\n",
       "  2),\n",
       " ('The verb form ‘is’ does not seem to match the subject ‘flows’.', 2),\n",
       " ('The verb form ‘does’ does not seem to match the subject ‘withdrawals’.', 2),\n",
       " ('The verb form ‘does’ does not seem to match the subject ‘payments’.', 2),\n",
       " ('The verb form ‘does’ does not seem to match the subject ‘imports’.', 2),\n",
       " ('The verb form ‘differ’ does not seem to match the subject ‘force’.', 2),\n",
       " ('The verb form ‘differ’ does not seem to match the subject ‘price’.', 2),\n",
       " ('The verb form ‘differ’ does not seem to match the subject ‘rating’.', 2),\n",
       " ('The verb form ‘differ’ does not seem to match the subject ‘density’.', 2),\n",
       " ('With the plural noun ‘banks’, the verb inflection ‘is’ is not correct.', 2),\n",
       " ('Possible agreement error. You should probably use: “are”.', 2),\n",
       " ('The verb form ‘differ’ does not seem to match the subject ‘rent’.', 2),\n",
       " ('The verb form ‘does’ does not seem to match the subject ‘flows’.', 2),\n",
       " ('With the plural noun ‘visitors’, the verb inflection ‘is’ is not correct.',\n",
       "  2),\n",
       " ('With the plural noun ‘subscribers’, the verb inflection ‘is’ is not correct.',\n",
       "  2),\n",
       " ('With the plural noun ‘banks’, the verb inflection ‘does’ is not correct.',\n",
       "  1),\n",
       " ('With the plural noun ‘tourists’, the verb inflection ‘grows’ is not correct.',\n",
       "  1),\n",
       " ('With the plural noun ‘institutions’, the verb inflection ‘does’ is not correct.',\n",
       "  1),\n",
       " ('With the plural noun ‘earnings’, the verb inflection ‘does’ is not correct.',\n",
       "  1),\n",
       " ('With the plural noun ‘securities’, the verb inflection ‘does’ is not correct.',\n",
       "  1),\n",
       " ('With the plural noun ‘countries’, the verb inflection ‘does’ is not correct.',\n",
       "  1),\n",
       " ('The verb form ‘differ’ does not seem to match the subject ‘population’.',\n",
       "  1),\n",
       " ('If a new sentence starts here, add a space and start with an uppercase letter.',\n",
       "  1),\n",
       " ('With the plural noun ‘indices’, the verb inflection ‘is’ is not correct.',\n",
       "  1),\n",
       " ('With the plural noun ‘assets’, the verb inflection ‘is’ is not correct.',\n",
       "  1),\n",
       " ('The verb form ‘does’ does not seem to match the subject ‘stocks’.', 1),\n",
       " ('Possible agreement error. The noun ‘oda’ seems to be countable.', 1),\n",
       " ('With the plural noun ‘organisations’, the verb inflection ‘is’ is not correct.',\n",
       "  1),\n",
       " ('The verb form ‘is’ does not seem to match the subject ‘indices’.', 1),\n",
       " ('With the plural noun ‘repayments’, the verb inflection ‘is’ is not correct.',\n",
       "  1),\n",
       " ('With the plural noun ‘taxes’, the verb inflection ‘is’ is not correct.', 1),\n",
       " ('With the plural noun ‘stocks’, the verb inflection ‘is’ is not correct.',\n",
       "  1),\n",
       " ('The verb form ‘differ’ does not seem to match the subject ‘debt’.', 1),\n",
       " ('The verb form ‘differ’ does not seem to match the subject ‘expenditure’.',\n",
       "  1),\n",
       " ('Possible agreement error. The noun ‘ratio’ seems to be countable.', 1),\n",
       " ('Please verify that the plural noun “days” is in agreement with the quantifier “1”. Did you mean to use the singular form?',\n",
       "  1),\n",
       " ('With the plural noun ‘workers’, the verb inflection ‘is’ is not correct.',\n",
       "  1),\n",
       " ('This word seems to be formatted incorrectly. Consider fixing the spacing or removing the hyphen completely.',\n",
       "  1),\n",
       " ('You repeated a verb. Please check.', 1),\n",
       " ('With the plural noun ‘firms’, the verb inflection ‘is’ is not correct.', 1),\n",
       " ('Use a comma before “and” if it connects two independent clauses (unless they are closely connected and short).',\n",
       "  1),\n",
       " ('The usual collocation for “Interest” is “in”, not “by”.', 1),\n",
       " ('With the plural noun ‘expenses’, the verb inflection ‘is’ is not correct.',\n",
       "  1),\n",
       " ('You should probably use: “are”.', 1)]"
      ]
     },
     "execution_count": 87,
     "metadata": {},
     "output_type": "execute_result"
    }
   ],
   "source": [
    "c"
   ]
  },
  {
   "cell_type": "code",
   "execution_count": null,
   "id": "fb64b150-9801-4c00-b7e9-f3daede30575",
   "metadata": {},
   "outputs": [],
   "source": []
  }
 ],
 "metadata": {
  "kernelspec": {
   "display_name": "Python 3 (ipykernel)",
   "language": "python",
   "name": "python3"
  },
  "language_info": {
   "codemirror_mode": {
    "name": "ipython",
    "version": 3
   },
   "file_extension": ".py",
   "mimetype": "text/x-python",
   "name": "python",
   "nbconvert_exporter": "python",
   "pygments_lexer": "ipython3",
   "version": "3.9.12"
  }
 },
 "nbformat": 4,
 "nbformat_minor": 5
}
