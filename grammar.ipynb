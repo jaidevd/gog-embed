{
 "cells": [
  {
   "cell_type": "code",
   "execution_count": 2,
   "id": "2d8140a0-339a-4baf-b9ae-7152d741053a",
   "metadata": {
    "collapsed": true,
    "jupyter": {
     "outputs_hidden": true
    },
    "tags": []
   },
   "outputs": [
    {
     "name": "stdout",
     "output_type": "stream",
     "text": [
      "The autoreload extension is already loaded. To reload it, use:\n",
      "  %reload_ext autoreload\n"
     ]
    },
    {
     "name": "stderr",
     "output_type": "stream",
     "text": [
      "2023-01-28 09:34:18.112073: I tensorflow/core/platform/cpu_feature_guard.cc:193] This TensorFlow binary is optimized with oneAPI Deep Neural Network Library (oneDNN) to use the following CPU instructions in performance-critical operations:  AVX2 FMA\n",
      "To enable them in other operations, rebuild TensorFlow with the appropriate compiler flags.\n",
      "2023-01-28 09:34:18.951837: W tensorflow/compiler/xla/stream_executor/platform/default/dso_loader.cc:64] Could not load dynamic library 'libnvinfer.so.7'; dlerror: libnvinfer.so.7: cannot open shared object file: No such file or directory\n",
      "2023-01-28 09:34:18.951881: W tensorflow/compiler/xla/stream_executor/platform/default/dso_loader.cc:64] Could not load dynamic library 'libnvinfer_plugin.so.7'; dlerror: libnvinfer_plugin.so.7: cannot open shared object file: No such file or directory\n",
      "2023-01-28 09:34:18.951886: W tensorflow/compiler/tf2tensorrt/utils/py_utils.cc:38] TF-TRT Warning: Cannot dlopen some TensorRT libraries. If you would like to use Nvidia GPU with TensorRT, please make sure the missing libraries mentioned above are installed properly.\n",
      "2023-01-28 09:34:19.960664: W tensorflow/compiler/xla/stream_executor/platform/default/dso_loader.cc:64] Could not load dynamic library 'libcusolver.so.11'; dlerror: libcusolver.so.11: cannot open shared object file: No such file or directory\n",
      "2023-01-28 09:34:19.960720: W tensorflow/core/common_runtime/gpu/gpu_device.cc:1934] Cannot dlopen some GPU libraries. Please make sure the missing libraries mentioned above are installed properly if you would like to use GPU. Follow the guide at https://www.tensorflow.org/install/gpu for how to download and setup the required libraries for your platform.\n",
      "Skipping registering GPU devices...\n"
     ]
    }
   ],
   "source": [
    "%load_ext autoreload\n",
    "%autoreload 2\n",
    "\n",
    "import json\n",
    "import pandas as pd\n",
    "import grammar as lt\n",
    "from collections import Counter\n",
    "from tqdm import tqdm"
   ]
  },
  {
   "cell_type": "code",
   "execution_count": 3,
   "id": "1aa21da0-22fd-4104-8cc2-b9819dc92097",
   "metadata": {},
   "outputs": [],
   "source": [
    "df = []\n",
    "files = !ls data/grammar_*.json\n",
    "for file in files:\n",
    "    df.append(pd.read_json(file))\n",
    "df = pd.concat(df, axis=0, ignore_index=True)"
   ]
  },
  {
   "cell_type": "code",
   "execution_count": 8,
   "id": "a4c6004e-95d1-40e6-a0db-5c66e9c704c7",
   "metadata": {},
   "outputs": [
    {
     "data": {
      "text/plain": [
       "[('Possible spelling mistake. ‘enrolment’ is British English.', 286283),\n",
       " ('Possible spelling mistake found.', 121332),\n",
       " ('Possible spelling mistake. ‘enrolments’ is British English.', 91140),\n",
       " ('An apostrophe may be missing.', 32906),\n",
       " ('This word is normally spelled with a hyphen.', 29850)]"
      ]
     },
     "execution_count": 8,
     "metadata": {},
     "output_type": "execute_result"
    }
   ],
   "source": [
    "ctr = lt.err_counter(df.to_dict(orient='records'))\n",
    "ctr.most_common(5)"
   ]
  },
  {
   "cell_type": "code",
   "execution_count": 9,
   "id": "442b9b60-5694-41a0-9105-af9228cf8662",
   "metadata": {},
   "outputs": [
    {
     "data": {
      "text/plain": [
       "{'question_id': 121,\n",
       " 'matches': [{'message': 'Possible spelling mistake. ‘enrolment’ is British English.',\n",
       "   'shortMessage': '',\n",
       "   'replacements': [{'value': 'enrollment',\n",
       "     'shortDescription': 'English (US)'}],\n",
       "   'offset': 4,\n",
       "   'length': 9,\n",
       "   'context': {'text': 'The enrolment ratio of female students in tertiary sc...',\n",
       "    'offset': 4,\n",
       "    'length': 9},\n",
       "   'sentence': 'The enrolment ratio of female students in tertiary schools in Panama in 2006 is 53.5071105957.',\n",
       "   'type': {'typeName': 'Other'},\n",
       "   'rule': {'id': 'MORFOLOGIK_RULE_EN_US',\n",
       "    'description': 'Possible spelling mistake',\n",
       "    'issueType': 'misspelling',\n",
       "    'urls': [{'value': 'https://languagetool.org/insights/post/re-vs-er/#british-english-prefers-doubling-consonants-doesn%E2%80%99t-it'}],\n",
       "    'category': {'id': 'TYPOS', 'name': 'Possible Typo'}},\n",
       "   'ignoreForIncompleteSentence': False,\n",
       "   'contextForSureMatch': 0}]}"
      ]
     },
     "execution_count": 9,
     "metadata": {},
     "output_type": "execute_result"
    }
   ],
   "source": [
    "df = df.to_dict(orient='records')\n",
    "df[0]"
   ]
  },
  {
   "cell_type": "code",
   "execution_count": 10,
   "id": "bc74a176-a63d-4c0f-a468-b83e0b889ea5",
   "metadata": {},
   "outputs": [
    {
     "data": {
      "text/plain": [
       "[('Possible spelling mistake found.', 121332),\n",
       " ('An apostrophe may be missing.', 32906),\n",
       " ('This word is normally spelled with a hyphen.', 29850),\n",
       " ('A determiner may be missing.', 12971),\n",
       " ('With the plural noun ‘sexes’, the verb inflection ‘is’ is not correct.',\n",
       "  12169)]"
      ]
     },
     "execution_count": 10,
     "metadata": {},
     "output_type": "execute_result"
    }
   ],
   "source": [
    "for err in df:\n",
    "    newmatches = []\n",
    "    for match in err['matches']:\n",
    "        if 'British English' not in match['message']:\n",
    "            newmatches.append(match)\n",
    "    err['matches'] = newmatches\n",
    "ctr = lt.err_counter(df)\n",
    "ctr.most_common(5)"
   ]
  },
  {
   "cell_type": "code",
   "execution_count": 14,
   "id": "5afaa865-99e6-4262-ab28-5f6e51e53326",
   "metadata": {},
   "outputs": [
    {
     "data": {
      "text/plain": [
       "{'20-50',\n",
       " '6-59',\n",
       " 'Non renewable',\n",
       " 'non concessional',\n",
       " 'non residents',\n",
       " 'self employed',\n",
       " 'well developed'}"
      ]
     },
     "execution_count": 14,
     "metadata": {},
     "output_type": "execute_result"
    }
   ],
   "source": [
    "hyphens = lt.filter_lt_messages(df, message='hyphen')\n",
    "repls = []\n",
    "for err in hyphens:\n",
    "    for match in err['matches']:\n",
    "        s = match['sentence']\n",
    "        if match['message'].endswith('a hyphen.'):\n",
    "            start = match['offset']\n",
    "            end = start + match['length']\n",
    "            repls.append(s[start:end])\n",
    "set(repls)"
   ]
  },
  {
   "cell_type": "code",
   "execution_count": 15,
   "id": "57e21fae-543b-43a5-8257-b19d751ab9c9",
   "metadata": {
    "collapsed": true,
    "jupyter": {
     "outputs_hidden": true
    },
    "tags": []
   },
   "outputs": [
    {
     "data": {
      "text/plain": [
       "{'question_id': 126816,\n",
       " 'matches': [{'message': 'An apostrophe may be missing.',\n",
       "   'shortMessage': 'Possible typo',\n",
       "   'replacements': [{'value': \"males'\"},\n",
       "    {'value': \"male's\"},\n",
       "    {'value': \"malis's\"}],\n",
       "   'offset': 29,\n",
       "   'length': 5,\n",
       "   'context': {'text': 'The percentage of unemployed males population in the United States in 2010...',\n",
       "    'offset': 29,\n",
       "    'length': 5},\n",
       "   'sentence': 'The percentage of unemployed males population in the United States in 2010 is 17.3299999237.',\n",
       "   'type': {'typeName': 'Other'},\n",
       "   'rule': {'id': 'POSSESSIVE_APOSTROPHE',\n",
       "    'subId': '1',\n",
       "    'sourceFile': 'grammar.xml',\n",
       "    'description': 'Possessive apostrophe error',\n",
       "    'issueType': 'typographical',\n",
       "    'urls': [{'value': 'https://languagetool.org/insights/post/possessive-apostrophe/'}],\n",
       "    'category': {'id': 'TYPOS', 'name': 'Possible Typo'}},\n",
       "   'ignoreForIncompleteSentence': True,\n",
       "   'contextForSureMatch': 13}]}"
      ]
     },
     "execution_count": 15,
     "metadata": {},
     "output_type": "execute_result"
    }
   ],
   "source": [
    "apos = lt.filter_lt_messages(df, message='apostrophe')\n",
    "apos[0]"
   ]
  },
  {
   "cell_type": "code",
   "execution_count": 16,
   "id": "373a0a77-8111-425f-8cc5-8dfad3a8a61b",
   "metadata": {},
   "outputs": [],
   "source": [
    "from spacy import load\n",
    "nlp = load('en_core_web_md')"
   ]
  },
  {
   "cell_type": "code",
   "execution_count": 27,
   "id": "f587149d-8953-4067-a420-330e95b079f7",
   "metadata": {},
   "outputs": [],
   "source": [
    "def get_phrase(match):\n",
    "    doc = nlp(match['sentence'])\n",
    "    start = match['offset']\n",
    "    end = start + match['length']\n",
    "    for chunk in doc.noun_chunks:\n",
    "        if chunk.start_char <= start and chunk.end_char >= end:\n",
    "            return chunk\n",
    "    raise ValueError('Phrase not found!')"
   ]
  },
  {
   "cell_type": "code",
   "execution_count": 32,
   "id": "5ad2602a-0e4e-4edd-9b92-349ff803572c",
   "metadata": {},
   "outputs": [],
   "source": [
    "phrases = []\n",
    "for err in apos:\n",
    "    for match in err['matches']:\n",
    "        if match['message'] == 'An apostrophe may be missing.':\n",
    "            break\n",
    "    try:\n",
    "        # phrase = get_phr\n",
    "        phrases.append(get_phrase(match))\n",
    "    except ValueError:\n",
    "        continue"
   ]
  },
  {
   "cell_type": "code",
   "execution_count": 33,
   "id": "9e33a8e3-bd0e-4adb-8875-a80dbcf63e92",
   "metadata": {},
   "outputs": [
    {
     "data": {
      "text/plain": [
       "25092"
      ]
     },
     "execution_count": 33,
     "metadata": {},
     "output_type": "execute_result"
    }
   ],
   "source": [
    "len(phrases)"
   ]
  },
  {
   "cell_type": "code",
   "execution_count": 34,
   "id": "6f6f9294-c3ac-4aff-a393-413d937e53e5",
   "metadata": {},
   "outputs": [
    {
     "data": {
      "text/plain": [
       "25113"
      ]
     },
     "execution_count": 34,
     "metadata": {},
     "output_type": "execute_result"
    }
   ],
   "source": [
    "len(apos)"
   ]
  },
  {
   "cell_type": "code",
   "execution_count": 35,
   "id": "a571784f-4528-44f9-a5cc-5e84d0d28a8a",
   "metadata": {
    "collapsed": true,
    "jupyter": {
     "outputs_hidden": true
    },
    "tags": []
   },
   "outputs": [
    {
     "data": {
      "text/plain": [
       "{'The Armed forces personnel',\n",
       " 'The Benefits incidence',\n",
       " 'The average unemployed females population',\n",
       " 'The average unemployed males population',\n",
       " 'The greatest unemployed females population',\n",
       " 'The greatest unemployed males population',\n",
       " 'The highest unemployed females population',\n",
       " 'The highest unemployed males population',\n",
       " 'The least unemployed females population',\n",
       " 'The least unemployed males population',\n",
       " 'The lowest unemployed females population',\n",
       " 'The lowest unemployed males population',\n",
       " 'The maximum unemployed females population',\n",
       " 'The maximum unemployed males population',\n",
       " 'The mean unemployed females population',\n",
       " 'The mean unemployed males population',\n",
       " 'The median unemployed females population',\n",
       " 'The median unemployed males population',\n",
       " 'The minimum unemployed females population',\n",
       " 'The minimum unemployed males population',\n",
       " 'The top two unemployed females population',\n",
       " 'The top two unemployed males population',\n",
       " 'The unemployed females population',\n",
       " 'The unemployed males population',\n",
       " 'the Armed forces personnel',\n",
       " 'the Benefits incidence',\n",
       " 'the Gambia unemployed females population',\n",
       " 'the average unemployed females population',\n",
       " 'the average unemployed males population',\n",
       " 'the greatest unemployed females population',\n",
       " 'the greatest unemployed males population',\n",
       " 'the highest and second-highest unemployed females population',\n",
       " 'the highest and second-highest unemployed males population',\n",
       " 'the highest unemployed females population',\n",
       " 'the highest unemployed males population',\n",
       " 'the least unemployed females population',\n",
       " 'the least unemployed males population',\n",
       " 'the lowest unemployed females population',\n",
       " 'the lowest unemployed males population',\n",
       " 'the maximum unemployed females population',\n",
       " 'the maximum unemployed males population',\n",
       " 'the minimum unemployed females population',\n",
       " 'the minimum unemployed males population',\n",
       " 'the second-highest unemployed females population',\n",
       " 'the second-highest unemployed males population',\n",
       " 'the unemployed females population',\n",
       " 'the unemployed males population',\n",
       " 'unemployed males population'}"
      ]
     },
     "execution_count": 35,
     "metadata": {},
     "output_type": "execute_result"
    }
   ],
   "source": [
    "set([k.text for k in phrases])"
   ]
  },
  {
   "cell_type": "code",
   "execution_count": 37,
   "id": "5824c219-4275-4f05-b657-06db4c6d4e03",
   "metadata": {},
   "outputs": [],
   "source": [
    "deter = lt.filter_lt_messages(df, message='determiner')"
   ]
  },
  {
   "cell_type": "code",
   "execution_count": 40,
   "id": "1bc87f4e-a951-41cc-b360-b150942c1a23",
   "metadata": {},
   "outputs": [
    {
     "data": {
      "text/plain": [
       "{'In Isle of Man',\n",
       " 'In Turks and Caicos Islands',\n",
       " 'in Isle of Man',\n",
       " 'in Turks and Caicos Islands',\n",
       " 'of Isle of Man',\n",
       " 'of Turks and Caicos Islands'}"
      ]
     },
     "execution_count": 40,
     "metadata": {},
     "output_type": "execute_result"
    }
   ],
   "source": [
    "repls = []\n",
    "for err in deter:\n",
    "    for match in err['matches']:\n",
    "        s = match['sentence']\n",
    "        if match['message'] == 'A determiner may be missing.':\n",
    "            start = match['offset']\n",
    "            end = start + match['length']\n",
    "            repls.append(s[start:end])\n",
    "set(repls)"
   ]
  },
  {
   "cell_type": "code",
   "execution_count": 41,
   "id": "08a26167-fda2-4d32-8e98-7acef9d77add",
   "metadata": {},
   "outputs": [
    {
     "data": {
      "text/plain": [
       "[('Possible spelling mistake found.', 121332),\n",
       " ('An apostrophe may be missing.', 32906),\n",
       " ('This word is normally spelled with a hyphen.', 29850),\n",
       " ('A determiner may be missing.', 12971),\n",
       " ('With the plural noun ‘sexes’, the verb inflection ‘is’ is not correct.',\n",
       "  12169)]"
      ]
     },
     "execution_count": 41,
     "metadata": {},
     "output_type": "execute_result"
    }
   ],
   "source": [
    "ctr.most_common(5)"
   ]
  },
  {
   "cell_type": "code",
   "execution_count": 43,
   "id": "2fdfb3f0-83da-4db0-b9d6-800db8dc6d49",
   "metadata": {},
   "outputs": [],
   "source": [
    "infl = lt.filter_lt_messages(df, message='verb inflection')\n",
    "sents = [k['matches'][0]['sentence'] for k in infl]"
   ]
  },
  {
   "cell_type": "code",
   "execution_count": 46,
   "id": "eee2f66a-7649-4225-8880-2f4fe8720444",
   "metadata": {},
   "outputs": [],
   "source": [
    "import random"
   ]
  },
  {
   "cell_type": "code",
   "execution_count": 48,
   "id": "9a11d521-f763-41c1-aa26-db313a26cafa",
   "metadata": {},
   "outputs": [
    {
     "data": {
      "text/plain": [
       "['The difference between the Number of enrolments of both sexes in Mali and the Number of enrolments of both sexes in Jamaica is -1096.0 in the 1988.',\n",
       " 'In the 1978, the difference between the % of repeaters of the Netherlands and the % of repeaters of Algeria is -6.3255.',\n",
       " 'The Amount of exports (as % of merchandise exports) of Agricultural raw materials in Kenya is greater than the Amount of exports (as % of merchandise exports) of Fuel in Korea (Republic) by 5.7815.',\n",
       " 'In 2009, the % of firms in Poland is 14.7.',\n",
       " 'The percentage of male workers in services in Poland exceeds the percentage of male workers in agriculture in Ukraine by -28.9000015259.',\n",
       " 'Across Education levels, the highest Number of enrolments of both sexes in Norway is 383499.0.',\n",
       " 'In 2011, the Number of enrolments of both sexes of Tunisia is 991312.0.',\n",
       " 'The net concessional disbursements from IMF is more than the average in 0 years.',\n",
       " 'The sum of the amount spent on the travel items of national tourists in Vanuatu and amount spent on the travel items of national tourists in Ethiopia is always greater than the amount spent on the travel items of national tourists in Gabon.',\n",
       " 'In the graph, the total percentage of exports to different countries in Uruguay is 124.1487804552.']"
      ]
     },
     "execution_count": 48,
     "metadata": {},
     "output_type": "execute_result"
    }
   ],
   "source": [
    "random.choices(sents, k=10)"
   ]
  },
  {
   "cell_type": "code",
   "execution_count": 49,
   "id": "75067546-d611-43a6-a826-7269396cdac6",
   "metadata": {},
   "outputs": [
    {
     "data": {
      "text/plain": [
       "(is, percentage)"
      ]
     },
     "execution_count": 49,
     "metadata": {},
     "output_type": "execute_result"
    }
   ],
   "source": [
    "doc = nlp('In the graph, the total percentage of exports to different countries in Uruguay is 124.1487804552.')\n",
    "verb, subject = lt.find_root_nsubj(doc)\n",
    "verb, subject"
   ]
  },
  {
   "cell_type": "code",
   "execution_count": 50,
   "id": "492e42ca-f8e5-49c1-a7cb-2a35cc93d010",
   "metadata": {},
   "outputs": [
    {
     "data": {
      "text/plain": [
       "(True, is)"
      ]
     },
     "execution_count": 50,
     "metadata": {},
     "output_type": "execute_result"
    }
   ],
   "source": [
    "lt.has_agreement(verb, subject)"
   ]
  },
  {
   "cell_type": "code",
   "execution_count": 82,
   "id": "4e5537b8-be8e-4971-a2cc-512895ea8261",
   "metadata": {},
   "outputs": [],
   "source": [
    "nlp = load('en_core_web_sm')"
   ]
  },
  {
   "cell_type": "code",
   "execution_count": 89,
   "id": "055ff82f-8174-4a83-9bae-ebbd7f8a2036",
   "metadata": {
    "collapsed": true,
    "jupyter": {
     "outputs_hidden": true
    },
    "tags": []
   },
   "outputs": [
    {
     "name": "stdout",
     "output_type": "stream",
     "text": [
      "The average per year cost of damage caused due to CO2 emissions in Mexico is 1386004698.978.\n",
      "The average per year cost of damage caused due to CO2 emissions in Honduras is 34280472.45504462.\n",
      "The average per year cost of damage caused due to CO2 emissions in Belize is 1482542.1101903876.\n",
      "The average per year cost of damage caused due to CO2 emissions in Ethiopia is 27898588.18946522.\n",
      "The average per year cost of damage caused due to CO2 emissions in Mauritius is 5390193.741583058.\n",
      "The average per year cost of damage caused due to CO2 emissions in Afghanistan is 43866011.018948935.\n",
      "The average per year percentage of urban population the Using sanitation services in Nicaragua is 68.64.\n",
      "The average per year percentage of urban population the Using sanitation services in Lesotho is 35.5.\n",
      "The average per year percentage of rural population the Using sanitation services in Lebanon is 81.675.\n",
      "The average per year percentage of rural population the Using sanitation services in Jordan is 97.05.\n",
      "The average per year percentage of urban population the Using sanitation services in Grenada is 97.5.\n",
      "The average per year percentage of urban population the Using sanitation services in Ukraine is 97.1375.\n",
      "The average per year percentage of urban population the Using sanitation services in Peru is 79.3333333333.\n",
      "The average per year percentage of urban population the Using sanitation services in Turkey is 96.75.\n",
      "The average per year number of enrolments in secondary schools in Mali is 43853.4.\n",
      "The average per year Amount of goods and services exports in Fiji is 418200000.0.\n",
      "The average per year number of enrolments in secondary schools in Barbados is 796.3333333333.\n",
      "The average per year number of enrolments in secondary schools in Togo is 120177.25.\n",
      "The average per year number of enrolments in primary schools in Namibia is 359489.5.\n",
      "The average per year Amount of goods and services imports in Colombia is 33273221750000.0.\n",
      "The average per year number of enrolments in secondary schools in Thailand is 436745.2.\n",
      "The average per year number of enrolments in secondary schools in Vietnam is 4875044.333333333.\n",
      "The average per year number of enrolments in secondary schools in Italy is 3449246.0.\n",
      "The average per year number of enrolments in primary schools in Nigeria is 14490344.166666666.\n",
      "The average per year number of enrolments in secondary schools in Somalia is 12757.5.\n",
      "The average per year Amount of goods and services exports in Rwanda is 28249794733.333332.\n",
      "The average per year number of enrolments in secondary schools in Turkey is 320734.8333333333.\n",
      "The average per year number of enrolments in secondary schools in Macao is 26722.25.\n",
      "The average per year Amount of goods and services imports in Chile is 5484380200000.0.\n",
      "The average per year Amount of goods and services exports in Vanuatu is 32448666666.666668.\n",
      "The average per year Amount of goods and services imports in Cambodia is 5940266287320.0.\n",
      "The average per year number of enrolments in primary schools in Guam is 18374.375.\n",
      "The average per year number of enrolments in secondary schools in Haiti is 111243.0.\n",
      "The average per year number of enrolments in secondary schools in Suriname is 8178.0.\n",
      "The average per year number of enrolments in secondary schools in Pakistan is 9144686.125.\n",
      "The average per year number of enrolments in secondary schools in Ukraine is 4364452.428571428.\n",
      "The average per year number of enrolments in secondary schools in Peru is 1552531.857142857.\n",
      "The average per year number of enrolments in secondary schools in Cameroon is 45132.3333333333.\n",
      "The average per year cost of damage caused due to CO2 emissions in Bahrain is 221809509.90778098.\n",
      "The average per year cost of damage caused due to CO2 emissions in India is 11047412739.5223.\n",
      "The average per year cost of damage caused due to CO2 emissions in Australia is 2844498592.991454.\n",
      "The average per year cost of damage caused due to CO2 emissions in Zambia is 32485041.247370634.\n",
      "The average per year cost of damage caused due to CO2 emissions in Swaziland is 1482559.267166885.\n",
      "The average per year cost of damage caused due to CO2 emissions in Vanuatu is 518192.9909933493.\n",
      "The average per year percentage of urban population the Using sanitation services in Rwanda is 59.6.\n",
      "The average per year percentage of rural population the Using sanitation services in France is 98.9.\n",
      "The average per year percentage of urban population the Using sanitation services in Iraq is 85.6333333333.\n",
      "The average per year Number of enrolments of both sexes in Cyprus is 62058.0.\n",
      "The Revenue generated (in %) in Taxes on goods and services in France is 25.0142526313.\n",
      "The Revenue generated (in %) of Taxes on goods and services in Finland is greater than the Revenue generated (in %) of Taxes on international trade in France by 21.9393.\n",
      "The Revenue generated (in %) in Taxes on goods and services in Finland is higher than the Revenue generated (in %) in Taxes on income in Greece by 12.0616.\n",
      "The Revenue generated (in %) of Taxes on goods and services in France is 1.2504 times greater than that in Germany.\n",
      "The Revenue generated (in %) of Taxes on goods and services in Greece is 1.2753475322025252 times greater than that in France.\n",
      "The Revenue generated (in %) in Taxes on goods and services in Greece is 1.594896331738437 times greater than that in Germany.\n",
      "The average per year Number of enrolments of both sexes in Liberia is 118262.3333.\n",
      "The average per year Number of enrolments of both sexes in Tonga is 11224.2.\n",
      "The average per year Number of enrolments of both sexes of Botswana is 29773.75.\n",
      "The average per year Number of enrolments of both sexes of Rwanda is 121167.5.\n",
      "The average per year Number of enrolments of both sexes in Ireland is 374875.0.\n",
      "The average per year Number of enrolments of both sexes in Finland is 343826.75.\n",
      "The average per year Number of enrolments of both sexes in Guam is 941.6667.\n",
      "The Revenue generated (in %) of Taxes on goods and services in Brazil is 25.142613656.\n",
      "The Revenue generated (in %) in Taxes on goods and services in Bulgaria is 44.2706686178.\n",
      "The Revenue generated (in %) of Taxes on goods and services in Benin is greater than the Revenue generated (in %) of Taxes on income in Bosnia and Herzegovina by 18.0263.\n",
      "The Revenue generated (in %) in Taxes on goods and services in Benin is greater than the Revenue generated (in %) in Taxes on income in Brazil by 27.2676.\n",
      "The Revenue generated (in %) in Taxes on goods and services in Benin is greater than that in Botswana by a factor of 3.0276.\n",
      "The Revenue generated (in %) of Taxes on goods and services in Brazil is 1.8171906232963837 times greater than that in Botswana.\n",
      "The Revenue generated (in %) of Taxes on goods and services in Bulgaria is 3.2 times greater than that in Botswana.\n",
      "The average per year Number of enrolments of both sexes of Lesotho is 101689.0.\n",
      "The Revenue generated (in %) in Taxes on goods and services in Kuwait is 0.4143321249.\n",
      "The average per Capital type % of firms in Hungary is 25.1.\n",
      "The average per Capital type % of firms of Ukraine is 11.65.\n",
      "The average per Capital type % of firms in Vanuatu is 37.3.\n",
      "The Revenue generated (in %) in Taxes on goods and services in Dominica is 13.277826468.\n",
      "The Revenue generated (in %) in Taxes on goods and services in Estonia is 39.70102697.\n",
      "The Revenue generated (in %) of Taxes on goods and services in Estonia is greater than that in Dominica by a factor of 2.9904306220095696.\n",
      "The average per year Number of enrolments of both sexes of Israel is 696262.0.\n",
      "The average per year Number of enrolments of both sexes of Cyprus is 59646.6667.\n",
      "The average per Capital type % of firms in Kazakhstan is 34.1.\n",
      "The average per Capital type % of firms of Tajikistan is 4.65.\n",
      "The average per year Number of enrolments of both sexes of Belgium is 869229.5.\n",
      "The average per year Number of enrolments of both sexes of Lebanon is 6744.3333.\n",
      "The Revenue generated (in %) of Taxes on goods and services in Benin is 36.0145777126.\n",
      "The Revenue generated (in %) in Taxes on goods and services in Bolivia is 41.3235106672.\n",
      "The Revenue generated (in %) of Taxes on goods and services in Brazil is 35.5176558221.\n",
      "The Revenue generated (in %) in Taxes on goods and services in Belize is higher than the Revenue generated (in %) in Taxes on international trade in Benin by 29.3886.\n",
      "The Revenue generated (in %) of Taxes on goods and services in Belize exceeds the Revenue generated (in %) of Taxes on income in Bhutan by 19.163.\n",
      "The Revenue generated (in %) in Taxes on goods and services in Benin is greater than the Revenue generated (in %) in Taxes on income in Bolivia by 20.0189.\n",
      "The Revenue generated (in %) of Taxes on goods and services in Benin is higher than the Revenue generated (in %) of Taxes on international trade in Bosnia and Herzegovina by 33.8119.\n",
      "The Revenue generated (in %) of Taxes on goods and services in Benin exceeds the Revenue generated (in %) of Taxes on international trade in Brazil by 23.4417.\n",
      "The Revenue generated (in %) in Taxes on goods and services in Bolivia exceeds the Revenue generated (in %) in Taxes on international trade in Bosnia and Herzegovina by 39.1209.\n",
      "The Revenue generated (in %) in Taxes on goods and services in Bolivia is greater than the Revenue generated (in %) in Taxes on international trade in Brazil by 28.7506.\n",
      "The Revenue generated (in %) of Taxes on goods and services in Belize is greater than that in Bhutan by a factor of 2.7677.\n",
      "The Revenue generated (in %) of Taxes on goods and services in Bolivia is greater than that in Belize by a factor of 1.2669453946534905.\n",
      "The Revenue generated (in %) of Taxes on goods and services in Brazil is 1.0889687465969726 times greater than that in Belize.\n",
      "The Revenue generated (in %) in Taxes on goods and services in Benin is greater than that in Bosnia and Herzegovina by a factor of 1.5885.\n",
      "The Revenue generated (in %) in Taxes on goods and services in Bolivia is 1.8227 times greater than that in Bosnia and Herzegovina.\n",
      "The average per year Number of enrolments of both sexes in Kiribati is 350.0.\n",
      "The average per Capital type % of firms in Bulgaria is 43.55.\n",
      "The average per year Number of enrolments of both sexes in Botswana is 2938.5.\n",
      "The average per year Number of enrolments of both sexes in Niger is 180092.0.\n",
      "The average per year Number of enrolments of both sexes of Paraguay is 525524.6.\n",
      "The Revenue generated (in %) of Taxes on goods and services in Australia is 17.9000658305.\n",
      "The Revenue generated (in %) in Taxes on goods and services in Angola exceeds the Revenue generated (in %) in Taxes on income in Antigua and Barbuda by 13.4267.\n",
      "The Revenue generated (in %) of Taxes on goods and services in Austria is 1.0548523206751055 times greater than that in Angola.\n",
      "The Revenue generated (in %) of Taxes on goods and services in Austria is 1.602307322544464 times greater than that in Antigua and Barbuda.\n",
      "The Revenue generated (in %) in Taxes on goods and services in Austria is greater than that in Australia by a factor of 1.3477088948787062.\n",
      "The average per year Number of enrolments of both sexes in Malta is 6457.2.\n",
      "The average per year Number of enrolments of both sexes of Cuba is 127126.8333.\n",
      "The average per year Number of enrolments of both sexes of Hungary is 304085.6667.\n",
      "The average per year Number of enrolments of both sexes of Portugal is 410574.6.\n",
      "The average per year Number of enrolments of both sexes in Mali is 182467.0.\n",
      "The Revenue generated (in %) in Taxes on goods and services in Iran is 5.478276359.\n",
      "The Revenue generated (in %) of Taxes on goods and services in Greece is greater than the Revenue generated (in %) of Taxes on income in Guatemala by 14.109.\n",
      "The Revenue generated (in %) in Taxes on goods and services in Greece is greater than the Revenue generated (in %) in Taxes on international trade in Guatemala by 17.3619.\n",
      "The Revenue generated (in %) in Taxes on goods and services in Greece is higher than the Revenue generated (in %) in Taxes on income in Hungary by 9.598.\n",
      "The difference between the Revenue generated (in %) in Taxes on international trade in Hungary and the Revenue generated (in %) in Taxes on goods and services in Greece is 25.6048.\n",
      "The Revenue generated (in %) in Taxes on goods and services in Greece is greater than the Revenue generated (in %) in Taxes on income in Indonesia by 18.315.\n",
      "The difference between the Revenue generated (in %) in Taxes on international trade in Hungary and the Revenue generated (in %) in Taxes on goods and services in Guatemala is 45.7205.\n",
      "The difference between the Revenue generated (in %) of Taxes on international trade in Indonesia and the Revenue generated (in %) of Taxes on goods and services in Guatemala is 46.7663.\n",
      "The Revenue generated (in %) in Taxes on goods and services in Hungary is higher than the Revenue generated (in %) in Taxes on international trade in India by 26.0189.\n",
      "The Revenue generated (in %) in Taxes on goods and services in India is higher than the Revenue generated (in %) in Taxes on international trade in Iran by 25.1277.\n",
      "The Revenue generated (in %) in Taxes on goods and services in Guatemala is 1.6286644951140066 times greater than that in Greece.\n",
      "The Revenue generated (in %) in Taxes on goods and services in Greece is greater than that in Hungary by a factor of 1.135.\n",
      "The Revenue generated (in %) in Taxes on goods and services in Greece is 5.8419 times greater than that in Iran.\n",
      "The Revenue generated (in %) of Taxes on goods and services in Guatemala is 1.9062 times greater than that in India.\n",
      "The Revenue generated (in %) of Taxes on goods and services in Guatemala is 1.6725 times greater than that in Indonesia.\n",
      "The Revenue generated (in %) of Taxes on goods and services in Hungary is greater than that in India by a factor of 1.0313.\n",
      "The Revenue generated (in %) of Taxes on goods and services in Indonesia is 1.105094485578517 times greater than that in Hungary.\n",
      "The Revenue generated (in %) of Taxes on goods and services in Hungary is greater than that in Iran by a factor of 5.1471.\n",
      "The Revenue generated (in %) of Taxes on goods and services in India is 4.991 times greater than that in Iran.\n",
      "The average per year Number of enrolments of both sexes of Monaco is 2541.25.\n",
      "The Revenue generated (in %) of Taxes on goods and services in Iceland is 45.8959146744.\n",
      "The Revenue generated (in %) of Taxes on goods and services in Iran is 2.3727759333.\n",
      "The Revenue generated (in %) of Taxes on goods and services in Hungary is greater than the Revenue generated (in %) of Taxes on international trade in Indonesia by 37.2132.\n",
      "The Revenue generated (in %) of Taxes on goods and services in Hungary exceeds the Revenue generated (in %) of Taxes on international trade in Iran by 36.6089.\n",
      "The Revenue generated (in %) in Taxes on goods and services in Iceland is higher than the Revenue generated (in %) in Taxes on international trade in India by 37.7098.\n",
      "The difference between the Revenue generated (in %) in Taxes on income in Indonesia and the Revenue generated (in %) in Taxes on goods and services in Iceland is 7.9532.\n",
      "The difference between the Revenue generated (in %) of Taxes on income in Israel and the Revenue generated (in %) of Taxes on goods and services in Iceland is 13.7484.\n",
      "The Revenue generated (in %) of Taxes on goods and services in India exceeds the Revenue generated (in %) of Taxes on income in Iran by 0.7371.\n",
      "The Revenue generated (in %) of Taxes on goods and services in India is higher than the Revenue generated (in %) of Taxes on international trade in Iran by 29.0212.\n",
      "The difference between the Revenue generated (in %) in Taxes on international trade in Israel and the Revenue generated (in %) in Taxes on goods and services in India is 22.2594.\n",
      "The Revenue generated (in %) of Taxes on goods and services in Indonesia is higher than the Revenue generated (in %) of Taxes on international trade in Iran by 33.0601.\n",
      "The difference between the Revenue generated (in %) of Taxes on income in Israel and the Revenue generated (in %) of Taxes on goods and services in Iran is -29.7747.\n",
      "The Revenue generated (in %) in Taxes on goods and services in Iceland is 1.3602 times greater than that in Indonesia.\n",
      "The Revenue generated (in %) of Taxes on goods and services in Iceland is greater than that in Iran by a factor of 19.3427.\n",
      "The Revenue generated (in %) of Taxes on goods and services in Iceland is 1.5686 times greater than that in Israel.\n",
      "The Revenue generated (in %) in Taxes on goods and services in Indonesia is greater than that in Iran by a factor of 14.2205.\n",
      "The Revenue generated (in %) of Taxes on goods and services in Indonesia is 1.1532 times greater than that in Israel.\n",
      "The Revenue generated (in %) of Taxes on goods and services in Israel is 12.330456226880393 times greater than that in Iran.\n",
      "The average per year Number of enrolments of both sexes of Dominica is 638.75.\n",
      "The average per year Number of enrolments of both sexes of Canada is 2424394.5.\n",
      "The average per year Number of enrolments of both sexes in Guyana is 75971.2.\n",
      "The Revenue generated (in %) of Taxes on goods and services in Japan is 31.3735405058.\n",
      "The Revenue generated (in %) of Taxes on goods and services in Japan is higher than the Revenue generated (in %) of Taxes on international trade in Jordan by 24.3544.\n",
      "The difference between the Revenue generated (in %) in Taxes on international trade in Korea (Republic) and the Revenue generated (in %) in Taxes on goods and services in Japan is -5.2623.\n",
      "The Revenue generated (in %) of Taxes on goods and services in Jordan is greater than the Revenue generated (in %) of Taxes on international trade in Latvia by 31.073.\n",
      "The Revenue generated (in %) of Taxes on goods and services in Latvia is 1.2330456226880393 times greater than that in Japan.\n",
      "The Revenue generated (in %) in Taxes on goods and services in Kenya is 1.212856276531231 times greater than that in Jordan.\n",
      "The Revenue generated (in %) in Taxes on goods and services in Jordan is 1.2854 times greater than that in Korea (Republic).\n",
      "The Revenue generated (in %) of Taxes on goods and services in Latvia is 1.06258633513973 times greater than that in Jordan.\n",
      "The Revenue generated (in %) in Taxes on goods and services in Kenya is greater than that in Latvia by a factor of 1.1414.\n",
      "The Revenue generated (in %) of Taxes on goods and services in Latvia is 1.3659336156262807 times greater than that in Korea (Republic).\n",
      "The average per year Number of enrolments of both sexes of Gabon is 19018.5.\n",
      "The average per Capital type % of firms of Lithuania is 26.45.\n",
      "The average per year Number of enrolments of both sexes in Uruguay is 40953.2.\n",
      "The average per year Number of enrolments of both sexes in Belize is 18090.75.\n",
      "The average per year Number of enrolments of both sexes in Brazil is 15013417.25.\n",
      "The average per year Number of enrolments of both sexes of Ghana is 30105.8333.\n",
      "The average per year Number of enrolments of both sexes in Jordan is 19334.6667.\n",
      "The average per year Number of enrolments of both sexes in Myanmar is 4946549.25.\n",
      "The average per year Number of enrolments of both sexes of Algeria is 1426187.6.\n",
      "The average per year Number of enrolments of both sexes of Peru is 150863.0.\n",
      "The average per year Number of enrolments of both sexes of Brazil is 1255466.2.\n",
      "The average per year Number of enrolments of both sexes of Ghana is 36118.4.\n",
      "The average per year Number of enrolments of both sexes in Cameroon is 2938362.5.\n",
      "The average per year Number of enrolments of both sexes in Afghanistan is 5079495.8.\n",
      "The Revenue generated (in %) in Taxes on goods and services in Croatia is greater than the Revenue generated (in %) in Taxes on income in the Czech Republic by 9.3427.\n",
      "The Revenue generated (in %) in Taxes on goods and services in Croatia is 4.032258064516129 times greater than that in the Congo (Democratic).\n",
      "The Revenue generated (in %) in Taxes on goods and services in Croatia is greater than that in the Czech Republic by a factor of 1.6426.\n",
      "The average per year Number of enrolments of both sexes of Aruba is 5942.1667.\n",
      "The average per Capital type % of firms of Azerbaijan is 0.4.\n",
      "The average per Capital type % of firms in Croatia is 45.85.\n",
      "The average per year Number of enrolments of both sexes of Barbados is 20558.3333.\n",
      "The average per year Number of enrolments of both sexes in Jamaica is 244848.5.\n",
      "The Revenue generated (in %) of Taxes on goods and services in Indonesia is 33.6844533292.\n",
      "The Revenue generated (in %) of Taxes on goods and services in Iran is 3.1209614888.\n",
      "The Revenue generated (in %) in Taxes on goods and services in Kuwait is 0.0392927308.\n",
      "The Revenue generated (in %) in Taxes on goods and services in Indonesia is greater than the Revenue generated (in %) in Taxes on income in Iran by 23.4651.\n",
      "The Revenue generated (in %) of Taxes on goods and services in Indonesia exceeds the Revenue generated (in %) of Taxes on international trade in Iran by 29.6072.\n",
      "The Revenue generated (in %) of Taxes on goods and services in Indonesia is greater than the Revenue generated (in %) of Taxes on international trade in Jordan by 8.2385.\n",
      "The Revenue generated (in %) of Taxes on goods and services in Indonesia is higher than the Revenue generated (in %) of Taxes on income in Korea (Republic) by 32.3485.\n",
      "The Revenue generated (in %) of Taxes on goods and services in Indonesia is greater than the Revenue generated (in %) of Taxes on international trade in Korea (Republic) by 27.903.\n",
      "The difference between the Revenue generated (in %) in Taxes on international trade in Kenya and the Revenue generated (in %) in Taxes on goods and services in Iran is -6.7301.\n",
      "The Revenue generated (in %) of Taxes on goods and services in Jordan is greater than the Revenue generated (in %) of Taxes on income in Korea (Republic) by 19.5216.\n",
      "The difference between the Revenue generated (in %) in Taxes on income in Kuwait and the Revenue generated (in %) in Taxes on goods and services in Jordan is -14.4865.\n",
      "The Revenue generated (in %) of Taxes on goods and services in Kenya is higher than the Revenue generated (in %) of Taxes on international trade in Korea (Republic) by 38.3393.\n",
      "The Revenue generated (in %) in Taxes on goods and services in Kenya exceeds the Revenue generated (in %) in Taxes on income in Kuwait by 8.7767.\n",
      "The Revenue generated (in %) in Taxes on goods and services in Kenya is greater than the Revenue generated (in %) in Taxes on international trade in Kuwait by 41.4489.\n",
      "The Revenue generated (in %) of Taxes on goods and services in Indonesia is greater than that in Kuwait by a factor of 857.2693.\n",
      "The Revenue generated (in %) in Taxes on goods and services in Kenya is 14.144271570014144 times greater than that in Iran.\n",
      "The Revenue generated (in %) of Taxes on goods and services in Kenya is 2.115506663845991 times greater than that in Jordan.\n",
      "The Revenue generated (in %) in Taxes on goods and services in Kenya is greater than that in Korea (Republic) by a factor of 1.3199.\n",
      "The Revenue generated (in %) in Taxes on goods and services in Kenya is greater than that in Kuwait by a factor of 1122.8746.\n",
      "The average per year Number of enrolments of both sexes in Cameroon is 613874.8.\n",
      "The average per year Number of enrolments of both sexes in Greece is 611104.4.\n",
      "The average per Capital type % of firms in Honduras is 22.25.\n",
      "The average per year Number of enrolments of both sexes of Israel is 333762.6.\n",
      "The average per year Number of enrolments of both sexes of Japan is 8975188.5.\n",
      "The average per year Number of enrolments of both sexes in Bulgaria is 290097.3333.\n",
      "The average per year Number of enrolments of both sexes in Chile is 1703513.0.\n",
      "The average per year Number of enrolments of both sexes of Belgium is 977780.0.\n",
      "The average per year Number of enrolments of both sexes in Australia is 1622176.25.\n",
      "The average per year Number of enrolments of both sexes of Norway is 366300.25.\n",
      "The average per year Number of enrolments of both sexes of Albania is 360119.0.\n",
      "The average per Capital type % of firms of Rwanda is 33.6.\n",
      "The average per year Number of enrolments of both sexes in Gabon is 20243.8.\n",
      "The average per year Number of enrolments of both sexes in Seychelles is 4311.6.\n",
      "The average per year Number of enrolments of both sexes of Peru is 1552531.8571.\n",
      "The average per year Number of enrolments of both sexes in Benin is 805488.1667.\n",
      "The average per year Number of enrolments of both sexes in Oman is 301426.0.\n",
      "The average per year Number of enrolments of both sexes of Colombia is 426456.5.\n",
      "The Revenue generated (in %) of Taxes on goods and services in Bulgaria is 16.9288179119.\n",
      "The Revenue generated (in %) in Taxes on goods and services in Bhutan is greater than the Revenue generated (in %) in Taxes on international trade in Brazil by 8.8701.\n",
      "The difference between the Revenue generated (in %) in Taxes on income in Bulgaria and the Revenue generated (in %) in Taxes on goods and services in Brazil is 6.8122.\n",
      "The Revenue generated (in %) of Taxes on goods and services in Brazil is greater than the Revenue generated (in %) of Taxes on international trade in Bulgaria by 18.1987.\n",
      "The Revenue generated (in %) of Taxes on goods and services in Brazil exceeds the Revenue generated (in %) of Taxes on income in Burundi by 3.9782.\n",
      "The Revenue generated (in %) of Taxes on goods and services in Brazil exceeds the Revenue generated (in %) of Taxes on international trade in Cameroon by 7.864.\n",
      "The difference between the Revenue generated (in %) of Taxes on income in Cameroon and the Revenue generated (in %) of Taxes on goods and services in Bulgaria is -32.0785.\n",
      "The Revenue generated (in %) of Taxes on goods and services in Bhutan is greater than that in Botswana by a factor of 5.6087.\n",
      "The Revenue generated (in %) of Taxes on goods and services in Brazil is greater than that in Botswana by a factor of 10.638297872340425.\n",
      "The Revenue generated (in %) of Taxes on goods and services in Cameroon is 9.569377990430622 times greater than that in Botswana.\n",
      "The Revenue generated (in %) in Taxes on goods and services in Brazil is greater than that in Bulgaria by a factor of 1.2547.\n",
      "The Revenue generated (in %) of Taxes on goods and services in Cameroon is 1.1280315848843767 times greater than that in Bulgaria.\n",
      "The average per year Number of enrolments of both sexes in Macao is 2586.5.\n",
      "The average per year Number of enrolments of both sexes of Liberia is 77697.6.\n",
      "The average per year Number of enrolments of both sexes in Madagascar is 461528.4286.\n",
      "The average per year Number of enrolments of both sexes in Hungary is 303597.8.\n",
      "The average per year Number of enrolments of both sexes in Macao is 1469.75.\n",
      "The average per Capital type % of firms of Mali is 25.35.\n",
      "The average per year Number of enrolments of both sexes of Bolivia is 850167.8.\n",
      "The average per year Number of enrolments of both sexes of Iceland is 20187.8.\n",
      "The average per year Number of enrolments of both sexes of Timor-Leste is 4803.0.\n",
      "The average per Capital type % of firms of Bangladesh is 33.9.\n",
      "The average per Capital type % of firms in Myanmar is 3.75.\n",
      "The average per year Number of enrolments of both sexes in Uganda is 132038.25.\n",
      "The average per year Number of enrolments of both sexes of Ghana is 1295115.25.\n",
      "The average per year Number of enrolments of both sexes in Mauritius is 79643.2.\n",
      "The average per year Number of enrolments of both sexes in Venezuela is 2561183.8571.\n",
      "The average per year Number of enrolments of both sexes in Argentina is 4707905.0.\n",
      "The average per year Number of enrolments of both sexes of Niger is 1008698.625.\n",
      "The average per year Number of enrolments of both sexes of Tonga is 17084.25.\n",
      "The average per year Number of enrolments of both sexes of Dominica is 424.1667.\n",
      "The average per year Number of enrolments of both sexes in Ireland is 23493.3333.\n",
      "The average per year Number of enrolments of both sexes of Myanmar is 14502.6667.\n",
      "The average per year Number of enrolments of both sexes in Belarus is 730241.375.\n",
      "The average per year Number of enrolments of both sexes in Bhutan is 54759.375.\n",
      "The average per year Number of enrolments of both sexes in Hungary is 503904.0.\n",
      "The average per year Number of enrolments of both sexes in Mauritius is 100446.5714.\n",
      "The average per year Number of enrolments of both sexes in Liberia is 533326.5.\n",
      "The average per year Number of enrolments of both sexes in Burundi is 82464.75.\n",
      "The average per year Number of enrolments of both sexes of Pakistan is 2184536.0.\n",
      "The average per year Number of enrolments of both sexes of Malawi is 661123.8.\n",
      "The average per year Number of enrolments of both sexes in Peru is 2492905.1667.\n",
      "The average per year Number of enrolments of both sexes of Guyana is 66743.0.\n",
      "The average per year Number of enrolments of both sexes in Ecuador is 755481.2.\n",
      "The average per year Number of enrolments of both sexes of France is 4389467.4.\n",
      "The average per year Amount of goods and services imports in Belgium is 27470193575.0.\n",
      "The average per year Amount of goods and services exports in Benin is 447983333333.3333.\n",
      "The average per year number of enrolments in primary schools in Honduras is 1272485.6.\n",
      "The average per year number of enrolments in primary schools in Austria is 376888.25.\n",
      "The average per year Amount of goods and services exports in Serbia is 327280725000.0.\n",
      "The average per year Amount of goods and services exports in Benin is 755575000000.0.\n",
      "The average per year Amount of goods and services imports in Swaziland is 12351500160.0.\n",
      "The average per year number of enrolments in secondary schools in Niger is 180092.0.\n",
      "The average per year number of enrolments in secondary schools in Colombia is 426456.5.\n",
      "The average per year Amount of goods and services imports in Moldova is 39467638983.333336.\n",
      "The average per year Amount of goods and services exports in Estonia is 9492948333.333334.\n",
      "The average per year number of enrolments in secondary schools in Honduras is 100925.0.\n",
      "The average per year number of enrolments in secondary schools in Tonga is 14739.75.\n",
      "The average per year number of enrolments in secondary schools in Guinea-Bissau is 28472.0.\n",
      "The average per year number of enrolments in secondary schools in Peru is 150863.0.\n",
      "The average per year number of enrolments in primary schools in Togo is 625905.4.\n",
      "The average per year cost of damage caused due to CO2 emissions in Botswana is 46853864.2957359.\n",
      "The average per year cost of damage caused due to CO2 emissions in Tonga is 291902.1822434203.\n",
      "The average per year cost of damage caused due to CO2 emissions in Germany is 6297551388.185403.\n",
      "The average per year percentage of rural population the Using sanitation services in Tanzania is 6.8.\n",
      "The average per year time spent while dealing with the requirements of government regulations in Ukraine is 12.6666666667.\n",
      "The average per year percentage of urban population the Using sanitation services in Algeria is 91.15.\n",
      "The average per year percentage of rural population the Using sanitation services in Azerbaijan is 57.92.\n",
      "The average per year percentage of rural population the Using sanitation services in Cameroon is 26.72.\n",
      "The average per year percentage of urban population the Using sanitation services in Luxembourg is 97.5.\n",
      "The average per year percentage of urban population the Using sanitation services in India is 62.15.\n",
      "The average per year number of enrolments in secondary schools in Tanzania is 8618.6666666667.\n",
      "The average per year number of enrolments in secondary schools in Monaco is 2541.25.\n",
      "The average per year number of enrolments in primary schools in Chad is 468555.2.\n",
      "The average per year number of enrolments in secondary schools in Madagascar is 401052.0.\n",
      "The average per year number of enrolments in secondary schools in Uruguay is 145952.2.\n",
      "The average per year number of enrolments in secondary schools in Singapore is 18172.8.\n",
      "The average per year number of enrolments in secondary schools in Argentina is 840270.5.\n",
      "The average per year Amount of goods and services imports in Serbia is 39398583333.333336.\n",
      "The average per year Amount of goods and services exports in Venezuela is 15108146097.028284.\n",
      "The average per year Amount of goods and services imports in Ecuador is 21194022000.0.\n",
      "The average per year number of enrolments in secondary schools in Honduras is 17956.6666666667.\n",
      "The average per year Amount of goods and services exports in Macao is 330683525466.6667.\n",
      "The average per year Amount of goods and services imports in Turkmenistan is 704180969.0729749.\n",
      "The average per year number of enrolments in secondary schools in Togo is 358757.0.\n",
      "The average per year number of enrolments in secondary schools in Belize is 28348.0.\n",
      "The average per year Amount of goods and services imports in Bahrain is 4987150000.0.\n",
      "The average per year Amount of goods and services exports in Bahrain is 8263325000.0.\n",
      "The average per year Amount of goods and services imports in Djibouti is 55014140000.0.\n",
      "The average per year Amount of goods and services exports in Nigeria is 3291822302000.0.\n",
      "The average per year number of enrolments in secondary schools in Iran is 3262767.8333333335.\n",
      "The average per year Amount of goods and services exports in Iran is 488198496844.38995.\n",
      "The average per year Amount of goods and services exports in Denmark is 888982500000.0.\n",
      "The average per year Amount of goods and services imports in Turkmenistan is 4487877033.147575.\n",
      "The average per year number of enrolments in secondary schools in Nigeria is 3645272.6666666665.\n",
      "The average per year Amount of goods and services exports in Israel is 352639250000.0.\n",
      "The average per year number of enrolments in secondary schools in Moldova is 368016.5.\n",
      "The average per year Number of enrolments of both sexes of Mauritania is 31294.625.\n",
      "The average per year Number of enrolments of both sexes in Bangladesh is 4672644.0.\n",
      "The average per year Number of enrolments of both sexes of Belarus is 742160.0.\n",
      "The Revenue generated (in %) of Taxes on goods and services in Belarus is 37.958576943.\n",
      "The Revenue generated (in %) in Taxes on goods and services in Belarus exceeds the Revenue generated (in %) in Taxes on income in Belgium by 17.9791.\n",
      "The Revenue generated (in %) in Taxes on goods and services in Belarus is higher than the Revenue generated (in %) in Taxes on international trade in Belgium by 13.4234.\n",
      "The difference between the Revenue generated (in %) of Taxes on international trade in Belize and the Revenue generated (in %) of Taxes on goods and services in Belgium is -6.9587.\n",
      "The Revenue generated (in %) of Taxes on goods and services in Belize is greater than that in Belgium by a factor of 1.3159626266614028.\n",
      "The Revenue generated (in %) in Taxes on goods and services in Lebanon is 32.3615504392.\n",
      "The Revenue generated (in %) in Taxes on goods and services in Latvia exceeds the Revenue generated (in %) in Taxes on income in Lebanon by 25.1165.\n",
      "The Revenue generated (in %) in Taxes on goods and services in Latvia is higher than the Revenue generated (in %) in Taxes on international trade in Lebanon by 34.9433.\n",
      "The Revenue generated (in %) of Taxes on goods and services in Latvia exceeds the Revenue generated (in %) of Taxes on income in Lesotho by 25.3483.\n",
      "The Revenue generated (in %) of Taxes on goods and services in Latvia is higher than the Revenue generated (in %) of Taxes on international trade in Lesotho by 15.3248.\n",
      "The Revenue generated (in %) of Taxes on goods and services in Latvia exceeds the Revenue generated (in %) of Taxes on income in Lithuania by 16.3969.\n",
      "The Revenue generated (in %) in Taxes on goods and services in Lebanon exceeds the Revenue generated (in %) in Taxes on income in Lesotho by 17.6028.\n",
      "The Revenue generated (in %) of Taxes on goods and services in Lebanon exceeds the Revenue generated (in %) of Taxes on international trade in Lesotho by 7.5793.\n",
      "The Revenue generated (in %) in Taxes on goods and services in Lebanon is greater than the Revenue generated (in %) in Taxes on income in Lithuania by 8.6514.\n",
      "The Revenue generated (in %) in Taxes on goods and services in Lebanon is greater than the Revenue generated (in %) in Taxes on international trade in Lithuania by 4.7762.\n",
      "The Revenue generated (in %) in Taxes on goods and services in Lesotho is higher than the Revenue generated (in %) in Taxes on international trade in Luxembourg by 9.022.\n",
      "The Revenue generated (in %) in Taxes on goods and services in Liberia exceeds the Revenue generated (in %) in Taxes on income in Lithuania by 0.0613.\n",
      "The Revenue generated (in %) of Taxes on goods and services in Lithuania is greater than the Revenue generated (in %) of Taxes on international trade in Luxembourg by 31.8805.\n",
      "The Revenue generated (in %) of Taxes on goods and services in Latvia is 1.2393 times greater than that in Lebanon.\n",
      "The Revenue generated (in %) in Taxes on goods and services in Latvia is greater than that in Lesotho by a factor of 3.1397.\n",
      "The Revenue generated (in %) of Taxes on goods and services in Latvia is 1.6872 times greater than that in Liberia.\n",
      "The Revenue generated (in %) in Taxes on goods and services in Latvia is greater than that in Luxembourg by a factor of 1.2868.\n",
      "The Revenue generated (in %) of Taxes on goods and services in Lithuania is 1.1010790574763267 times greater than that in Lebanon.\n",
      "The Revenue generated (in %) of Taxes on goods and services in Luxembourg is 1.3111315064901008 times greater than that in Liberia.\n",
      "The average per year Number of enrolments of both sexes of Burundi is 12051.5.\n",
      "The Revenue generated (in %) in Taxes on goods and services in Latvia is 37.0179763672.\n",
      "The Revenue generated (in %) of Taxes on goods and services in Kazakhstan is higher than the Revenue generated (in %) of Taxes on income in Kenya by 13.2758.\n",
      "The Revenue generated (in %) in Taxes on goods and services in Kazakhstan is greater than the Revenue generated (in %) in Taxes on income in Latvia by 24.852.\n",
      "The Revenue generated (in %) of Taxes on goods and services in Kenya exceeds the Revenue generated (in %) of Taxes on international trade in Korea (Republic) by 28.1845.\n",
      "The Revenue generated (in %) of Taxes on goods and services in Kenya is greater than that in Kazakhstan by a factor of 1.0332713370531101.\n",
      "The Revenue generated (in %) in Taxes on goods and services in Kazakhstan is greater than that in Latvia by a factor of 1.026.\n",
      "The Revenue generated (in %) of Taxes on goods and services in Latvia is 1.1976047904191618 times greater than that in Korea (Republic).\n",
      "The average per year Number of enrolments of both sexes of Mozambique is 89100.4.\n",
      "The Revenue generated (in %) of Taxes on goods and services in Mongolia is 22.0546800012.\n",
      "The difference between the Revenue generated (in %) of Taxes on international trade in Myanmar and the Revenue generated (in %) of Taxes on goods and services in Mexico is 34.6276.\n",
      "The difference between the Revenue generated (in %) in Taxes on income in Namibia and the Revenue generated (in %) in Taxes on goods and services in Myanmar is 19.5746.\n",
      "The Revenue generated (in %) of Taxes on goods and services in Myanmar is greater than the Revenue generated (in %) of Taxes on international trade in Namibia by 3.8596.\n",
      "The Revenue generated (in %) of Taxes on goods and services in Namibia is greater than the Revenue generated (in %) of Taxes on international trade in Nepal by 6.2706.\n",
      "The Revenue generated (in %) of Taxes on goods and services in Mexico is greater than that in the Maldives by a factor of 3.158559696778269.\n",
      "The Revenue generated (in %) of Taxes on goods and services in Namibia is greater than that in the Maldives by a factor of 2.046663937781416.\n",
      "The Revenue generated (in %) in Taxes on goods and services in Mexico is 2.1714 times greater than that in Mongolia.\n",
      "The Revenue generated (in %) in Taxes on goods and services in Mexico is 1.5432 times greater than that in Namibia.\n",
      "The Revenue generated (in %) of Taxes on goods and services in Nepal is 1.5755475027572081 times greater than that in Mongolia.\n",
      "The Revenue generated (in %) of Taxes on goods and services in Nepal is 1.21197430614471 times greater than that in Myanmar.\n",
      "The average per year Number of enrolments of both sexes in Poland is 1672543.6.\n",
      "The Revenue generated (in %) of Taxes on goods and services in Croatia is 43.2480628774.\n",
      "The Revenue generated (in %) of Taxes on goods and services in Croatia is higher than the Revenue generated (in %) of Taxes on international trade in the Czech Republic by 39.3065.\n",
      "The Revenue generated (in %) in Taxes on goods and services in Croatia exceeds the Revenue generated (in %) in Taxes on income in Ecuador by 23.861.\n",
      "The Revenue generated (in %) in Taxes on goods and services in Croatia is greater than the Revenue generated (in %) in Taxes on international trade in Ecuador by 33.0216.\n",
      "The Revenue generated (in %) of Taxes on goods and services in Croatia is greater than the Revenue generated (in %) of Taxes on income in Ethiopia by 13.5933.\n",
      "The difference between the Revenue generated (in %) in Taxes on income in Egypt, Arab Rep. and the Revenue generated (in %) in Taxes on goods and services in Ecuador is 5.9836.\n",
      "The Revenue generated (in %) of Taxes on goods and services in Croatia is 1.3706 times greater than that in the Czech Republic.\n",
      "The Revenue generated (in %) in Taxes on goods and services in Ecuador is greater than that in Egypt, Arab Rep. by a factor of 2.0467.\n",
      "The Revenue generated (in %) in Taxes on goods and services in Belgium is 23.8615011368.\n",
      "The Revenue generated (in %) in Taxes on goods and services in Belgium is higher than the Revenue generated (in %) in Taxes on international trade in Belize by 22.3054.\n",
      "The Revenue generated (in %) of Taxes on goods and services in Belgium is greater than the Revenue generated (in %) of Taxes on income in Botswana by 5.0379.\n",
      "The Revenue generated (in %) of Taxes on goods and services in Belgium is greater than the Revenue generated (in %) of Taxes on international trade in Botswana by 15.4495.\n",
      "The Revenue generated (in %) of Taxes on goods and services in Belize is greater than the Revenue generated (in %) of Taxes on income in Bhutan by 19.1378.\n",
      "The Revenue generated (in %) in Taxes on goods and services in Bhutan exceeds the Revenue generated (in %) in Taxes on international trade in Botswana by 0.2405.\n",
      "The Revenue generated (in %) of Taxes on goods and services in Belize is 4.1622 times greater than that in Bhutan.\n",
      "The Revenue generated (in %) of Taxes on goods and services in Belize is greater than that in Botswana by a factor of 9.7122.\n",
      "The Revenue generated (in %) of Taxes on goods and services in Bhutan is greater than that in Botswana by a factor of 2.3334.\n",
      "The average per year Number of enrolments of both sexes in Finland is 109939.0.\n",
      "The Revenue generated (in %) of Taxes on goods and services in Mali is 29.966536512.\n",
      "The Revenue generated (in %) in Taxes on goods and services in Nepal is 38.6925017065.\n",
      "The Revenue generated (in %) in Taxes on goods and services in Mali exceeds the Revenue generated (in %) in Taxes on income in Nepal by 11.222.\n",
      "The Revenue generated (in %) in Taxes on goods and services in Mali is greater than the Revenue generated (in %) in Taxes on international trade in Nepal by 12.5329.\n",
      "The Revenue generated (in %) of Taxes on goods and services in Canada is greater than that in North America by a factor of 1.6688918558077437.\n",
      "The Revenue generated (in %) in Taxes on goods and services in Nepal is 4.640371229698376 times greater than that in North America.\n",
      "The average per year Number of enrolments of both sexes of Senegal is 412545.8333.\n",
      "The average per year Number of enrolments of both sexes in Georgia is 424531.5.\n",
      "The average per year Number of enrolments of both sexes in Togo is 187020.25.\n",
      "The average per year Number of enrolments of both sexes of Uruguay is 230244.5.\n",
      "The average per year Number of enrolments of both sexes in Austria is 473874.75.\n",
      "The Revenue generated (in %) in Taxes on goods and services in Myanmar is 27.4602335137.\n",
      "The Revenue generated (in %) in Taxes on goods and services in Nepal is 30.709346991.\n",
      "The difference between the Revenue generated (in %) in Taxes on income in Mongolia and the Revenue generated (in %) in Taxes on goods and services in Moldova is 39.776.\n",
      "The Revenue generated (in %) of Taxes on goods and services in Moldova exceeds the Revenue generated (in %) of Taxes on international trade in Myanmar by 8.4115.\n",
      "The Revenue generated (in %) in Taxes on goods and services in Mongolia exceeds the Revenue generated (in %) in Taxes on income in Myanmar by 22.4253.\n",
      "The Revenue generated (in %) of Taxes on goods and services in Mongolia exceeds the Revenue generated (in %) of Taxes on international trade in Myanmar by 1.4806.\n",
      "The Revenue generated (in %) of Taxes on goods and services in Mongolia is higher than the Revenue generated (in %) of Taxes on international trade in Nepal by 38.3846.\n",
      "The Revenue generated (in %) in Taxes on goods and services in Myanmar exceeds the Revenue generated (in %) in Taxes on international trade in Namibia by 0.3629.\n",
      "The difference between the Revenue generated (in %) in Taxes on income in Nepal and the Revenue generated (in %) in Taxes on goods and services in Myanmar is 12.6741.\n",
      "The Revenue generated (in %) of Taxes on goods and services in Moldova is 1.1748 times greater than that in Mongolia.\n",
      "The Revenue generated (in %) of Taxes on goods and services in Moldova is greater than that in Namibia by a factor of 1.7383.\n",
      "The Revenue generated (in %) in Taxes on goods and services in Mongolia is greater than that in Myanmar by a factor of 1.4439.\n",
      "The Revenue generated (in %) in Taxes on goods and services in Mongolia is 1.4797 times greater than that in Namibia.\n",
      "The Revenue generated (in %) of Taxes on goods and services in Myanmar is greater than that in Namibia by a factor of 1.0248.\n",
      "The Revenue generated (in %) in Taxes on goods and services in Nepal is greater than that in Namibia by a factor of 1.1460004584001833.\n",
      "The average per year Number of enrolments of both sexes in Slovenia is 57908.5.\n",
      "The average per year Number of enrolments of both sexes of Finland is 415890.6667.\n",
      "The average per year Number of enrolments of both sexes of Norway is 387547.6667.\n",
      "The average per year Number of enrolments of both sexes of Aruba is 10232.5.\n",
      "The average per year Number of enrolments of both sexes in Thailand is 4560386.75.\n",
      "The average per year Number of enrolments of both sexes in Togo is 120177.25.\n",
      "The average per year Number of enrolments of both sexes of Cambodia is 6849.25.\n",
      "The average per year Number of enrolments of both sexes in Spain is 431673.5.\n",
      "The average per year Number of enrolments of both sexes in Poland is 2784295.5.\n",
      "The average per year Number of enrolments of both sexes in Barbados is 23290.6667.\n",
      "The Revenue generated (in %) in Taxes on goods and services in Nicaragua is 52.113029901.\n",
      "The Revenue generated (in %) in Taxes on goods and services in Oman is 1.1011145428.\n",
      "The Revenue generated (in %) in Taxes on goods and services in Nepal is higher than the Revenue generated (in %) in Taxes on income in the Netherlands by 6.7091.\n",
      "The Revenue generated (in %) in Taxes on goods and services in Nepal exceeds the Revenue generated (in %) in Taxes on income in Nicaragua by 23.703.\n",
      "The Revenue generated (in %) of Taxes on goods and services in Nepal is greater than the Revenue generated (in %) of Taxes on income in Oman by 12.5949.\n",
      "The Revenue generated (in %) of Taxes on goods and services in Nicaragua is higher than the Revenue generated (in %) of Taxes on international trade in Oman by 50.8924.\n",
      "The Revenue generated (in %) of Taxes on goods and services in Nepal is 1.3808 times greater than that in the Netherlands.\n",
      "The Revenue generated (in %) of Taxes on goods and services in Nepal is greater than that in Oman by a factor of 30.0664.\n",
      "The Revenue generated (in %) of Taxes on goods and services in Nicaragua is 2.1734405564007826 times greater than that in the Netherlands.\n",
      "The Revenue generated (in %) of Taxes on goods and services in Nicaragua is greater than that in Oman by a factor of 47.3275.\n",
      "The average per year Number of enrolments of both sexes in Singapore is 178906.6.\n",
      "The average per year Number of enrolments of both sexes of Luxembourg is 11105.4.\n",
      "The average per year Number of enrolments of both sexes in Austria is 354015.2857.\n",
      "The average per year Number of enrolments of both sexes in Latvia is 254619.0.\n",
      "The average per year Number of enrolments of both sexes in Mauritius is 80472.8.\n",
      "The Revenue generated (in %) of Taxes on goods and services in Canada is greater than the Revenue generated (in %) of Taxes on international trade in Pakistan by 6.5176.\n",
      "The difference between the Revenue generated (in %) of Taxes on international trade in the United Arab Emirates and the Revenue generated (in %) of Taxes on goods and services in Canada is 13.7003.\n",
      "The Revenue generated (in %) in Taxes on goods and services in Mali is higher than the Revenue generated (in %) in Taxes on income in Nepal by 11.222.\n",
      "The difference between the Revenue generated (in %) in Taxes on international trade in Nepal and the Revenue generated (in %) in Taxes on goods and services in Mali is 12.5329.\n",
      "The Revenue generated (in %) of Taxes on goods and services in Mali is higher than the Revenue generated (in %) of Taxes on international trade in Pakistan by 22.5695.\n",
      "The Revenue generated (in %) in Taxes on goods and services in Mali is greater than the Revenue generated (in %) in Taxes on income in Rwanda by 4.2798.\n",
      "The Revenue generated (in %) of Taxes on goods and services in Mali exceeds the Revenue generated (in %) of Taxes on international trade in Rwanda by 25.9189.\n",
      "The Revenue generated (in %) of Taxes on goods and services in Nepal exceeds the Revenue generated (in %) of Taxes on income in Pakistan by 10.8377.\n",
      "The Revenue generated (in %) in Taxes on goods and services in Nepal exceeds the Revenue generated (in %) in Taxes on international trade in Pakistan by 31.2955.\n",
      "The difference between the Revenue generated (in %) of Taxes on international trade in Rwanda and the Revenue generated (in %) of Taxes on goods and services in Nepal is 34.6448.\n",
      "The Revenue generated (in %) in Taxes on goods and services in Pakistan exceeds the Revenue generated (in %) in Taxes on income in Rwanda by 10.2226.\n",
      "The Revenue generated (in %) of Taxes on goods and services in Pakistan is greater than the Revenue generated (in %) of Taxes on international trade in Rwanda by 31.8617.\n",
      "The Revenue generated (in %) in Taxes on goods and services in Pakistan exceeds the Revenue generated (in %) in Taxes on international trade in the United Arab Emirates by 35.695.\n",
      "The Revenue generated (in %) of Taxes on goods and services in Mali is 2.1537798836958864 times greater than that in Canada.\n",
      "The Revenue generated (in %) of Taxes on goods and services in Pakistan is 2.5806451612903225 times greater than that in Canada.\n",
      "The Revenue generated (in %) of Taxes on goods and services in Rwanda is 2.114611968703743 times greater than that in Canada.\n",
      "The Revenue generated (in %) of Taxes on goods and services in Canada is 1.6839 times greater than that in the United Arab Emirates.\n",
      "The Revenue generated (in %) in Taxes on goods and services in Nepal is greater than that in Mali by a factor of 1.2911555842479019.\n",
      "The Revenue generated (in %) in Taxes on goods and services in Pakistan is 1.1983223487118035 times greater than that in Mali.\n",
      "The Revenue generated (in %) of Taxes on goods and services in Nepal is greater than that in Rwanda by a factor of 1.3149.\n",
      "The Revenue generated (in %) of Taxes on goods and services in Nepal is greater than that in the United Arab Emirates by a factor of 4.6825.\n",
      "The average per Capital type % of firms of Moldova is 30.85.\n",
      "The average per year Number of enrolments of both sexes in Colombia is 4248545.25.\n",
      "The average per year Number of enrolments of both sexes in Guinea is 477605.25.\n",
      "The average per year Number of enrolments of both sexes of Guinea is 479595.6.\n",
      "The average per year Number of enrolments of both sexes of Aruba is 9924.1667.\n",
      "The average per year Number of enrolments of both sexes of Estonia is 80228.6667.\n",
      "The Revenue generated (in %) in Taxes on goods and services in Kuwait is 0.0320924262.\n",
      "The Revenue generated (in %) of Taxes on goods and services in Mexico is greater than that in Korea (Republic) by a factor of 1.6139444803098772.\n",
      "The Revenue generated (in %) in Taxes on goods and services in Mexico is 1666.6666666666667 times greater than that in Kuwait.\n",
      "The Revenue generated (in %) of Taxes on goods and services in Mexico is greater than that in Lesotho by a factor of 3.506311360448808.\n",
      "The average per year Number of enrolments of both sexes in Honduras is 1272485.6.\n",
      "The average per year Number of enrolments of both sexes in Uruguay is 353792.6.\n",
      "The average per year Number of enrolments of both sexes in Pakistan is 3238563.6667.\n",
      "The average per year Number of enrolments of both sexes in Ethiopia is 2731293.5.\n",
      "The average per year Number of enrolments of both sexes in Sudan is 1517583.8.\n",
      "The average per year Number of enrolments of both sexes in Guatemala is 23264.2.\n",
      "The average per year Number of enrolments of both sexes of Iraq is 13930.2.\n",
      "The average per year Number of enrolments of both sexes of Seychelles is 396.4.\n",
      "The average per year Number of enrolments of both sexes in Madagascar is 401052.0.\n",
      "The average per year Number of enrolments of both sexes of Switzerland is 377861.3333.\n",
      "The average per year Number of enrolments of both sexes of Bermuda is 234.6667.\n",
      "The average per year Number of enrolments of both sexes of Tanzania is 8618.6667.\n",
      "The average per year Number of enrolments of both sexes of Malawi is 1997.8333.\n",
      "The average per year Number of enrolments of both sexes in Uruguay is 339004.3333.\n",
      "The average per year Number of enrolments of both sexes of Cuba is 570637.8333.\n",
      "The average per year Number of enrolments of both sexes in Argentina is 3484548.0.\n",
      "The average per year Number of enrolments of both sexes in Israel is 103960.0.\n",
      "The average per year Number of enrolments of both sexes of Liechtenstein is 2026.4.\n",
      "The average per year Number of enrolments of both sexes in Bangladesh is 8364759.0.\n",
      "The average per year Number of enrolments of both sexes in Barbados is 32061.8333.\n",
      "The average per year Number of enrolments of both sexes of Malta is 39218.0.\n",
      "The Revenue generated (in %) of Taxes on goods and services in Chile is 43.9686886929.\n",
      "The Revenue generated (in %) of Taxes on goods and services in Colombia is 22.7312479299.\n",
      "The Revenue generated (in %) in Taxes on goods and services in Chile exceeds the Revenue generated (in %) in Taxes on income in China by 28.2404.\n",
      "The Revenue generated (in %) of Taxes on goods and services in Chile is greater than the Revenue generated (in %) of Taxes on international trade in China by 42.905.\n",
      "The Revenue generated (in %) of Taxes on goods and services in Chile is higher than the Revenue generated (in %) of Taxes on international trade in Colombia by 39.2478.\n",
      "The Revenue generated (in %) of Taxes on goods and services in Chile is higher than the Revenue generated (in %) of Taxes on international trade in Costa Rica by 40.4184.\n",
      "The difference between the Revenue generated (in %) in Taxes on income in Costa Rica and the Revenue generated (in %) in Taxes on goods and services in China is 38.6827.\n",
      "The Revenue generated (in %) in Taxes on goods and services in Chile is greater than that in the Central African Republic by a factor of 1.2289541600098317.\n",
      "The Revenue generated (in %) in Taxes on goods and services in China is 1.7149717029669012 times greater than that in the Central African Republic.\n",
      "The Revenue generated (in %) of Taxes on goods and services in China is greater than that in Chile by a factor of 1.3954786491766675.\n",
      "The Revenue generated (in %) in Taxes on goods and services in Chile is greater than that in Colombia by a factor of 1.9343.\n",
      "The Revenue generated (in %) in Taxes on goods and services in Chile is 1.3404 times greater than that in Costa Rica.\n",
      "The Revenue generated (in %) in Taxes on goods and services in China is greater than that in Colombia by a factor of 2.6992.\n",
      "The Revenue generated (in %) in Taxes on goods and services in Tunisia is 20.719575685.\n",
      "The Revenue generated (in %) in Taxes on goods and services in Uruguay is 35.7926125433.\n",
      "The Revenue generated (in %) of Taxes on goods and services in Zambia is 30.4276276762.\n",
      "The Revenue generated (in %) in Taxes on goods and services in Tunisia is greater than the Revenue generated (in %) in Taxes on international trade in Uruguay by 9.4171.\n",
      "The difference between the Revenue generated (in %) in Taxes on income in Venezuela and the Revenue generated (in %) in Taxes on goods and services in Tunisia is 1.4089.\n",
      "The difference between the Revenue generated (in %) of Taxes on international trade in Yemen, Rep. and the Revenue generated (in %) of Taxes on goods and services in Tunisia is 7.8381.\n",
      "The Revenue generated (in %) of Taxes on goods and services in Tunisia is higher than the Revenue generated (in %) of Taxes on international trade in Zambia by 2.3766.\n",
      "The Revenue generated (in %) in Taxes on goods and services in Uruguay exceeds the Revenue generated (in %) in Taxes on international trade in Venezuela by 15.2682.\n",
      "The Revenue generated (in %) in Taxes on goods and services in Uruguay exceeds the Revenue generated (in %) in Taxes on international trade in Yemen, Rep. by 22.9112.\n",
      "The Revenue generated (in %) of Taxes on goods and services in Uruguay is greater than the Revenue generated (in %) of Taxes on international trade in Zambia by 17.4496.\n",
      "The Revenue generated (in %) of Taxes on goods and services in Uruguay is greater than that in Tunisia by a factor of 1.7274140611504578.\n",
      "The Revenue generated (in %) in Taxes on goods and services in Zambia is 1.4686444411807902 times greater than that in Tunisia.\n",
      "The Revenue generated (in %) of Taxes on goods and services in Zambia is greater than that in Venezuela by a factor of 4.081632653061225.\n",
      "The average per year Number of enrolments of both sexes of Oman is 39394.0.\n",
      "The Revenue generated (in %) in Taxes on goods and services in Armenia is 31.3211808185.\n",
      "The difference between the Revenue generated (in %) of Taxes on income in Armenia and the Revenue generated (in %) of Taxes on goods and services in Argentina is 14.6616.\n",
      "The Revenue generated (in %) of Taxes on goods and services in Argentina is greater than the Revenue generated (in %) of Taxes on income in Austria by 4.6491.\n",
      "The Revenue generated (in %) in Taxes on goods and services in Argentina exceeds the Revenue generated (in %) in Taxes on income in the Bahamas by 16.8601.\n",
      "The Revenue generated (in %) of Taxes on goods and services in Argentina is higher than the Revenue generated (in %) of Taxes on international trade in the Bahamas by 29.1819.\n",
      "The Revenue generated (in %) in Taxes on goods and services in Australia exceeds the Revenue generated (in %) in Taxes on income in the Bahamas by 12.8782.\n",
      "The Revenue generated (in %) in Taxes on goods and services in Austria exceeds the Revenue generated (in %) in Taxes on international trade in the Bahamas by 24.8655.\n",
      "The Revenue generated (in %) in Taxes on goods and services in Argentina is greater than that in Australia by a factor of 1.158.\n",
      "The Revenue generated (in %) in Taxes on goods and services in Argentina is greater than that in Austria by a factor of 1.1736.\n",
      "The Revenue generated (in %) in Taxes on goods and services in Argentina is 5.4712 times greater than that in the Bahamas.\n",
      "The Revenue generated (in %) of Taxes on goods and services in Armenia is greater than that in Austria by a factor of 1.2594.\n",
      "The average per year Number of enrolments of both sexes in Australia is 1113878.4.\n",
      "The average per year Number of enrolments of both sexes in Djibouti is 1373.5714.\n",
      "The average per year Number of enrolments of both sexes of Guyana is 3376.2857.\n",
      "The average per year Number of enrolments of both sexes of Singapore is 20619.2857.\n",
      "The Revenue generated (in %) in Taxes on goods and services in Cyprus is 34.4574102423.\n",
      "The Revenue generated (in %) in Taxes on goods and services in Colombia is higher than the Revenue generated (in %) in Taxes on international trade in Costa Rica by 4.1627.\n",
      "The Revenue generated (in %) in Taxes on goods and services in Colombia is higher than the Revenue generated (in %) in Taxes on income in Côte d'Ivoire by 13.2751.\n",
      "The Revenue generated (in %) of Taxes on goods and services in Colombia is greater than the Revenue generated (in %) of Taxes on international trade in Côte d'Ivoire by 16.9796.\n",
      "The Revenue generated (in %) in Taxes on goods and services in Colombia exceeds the Revenue generated (in %) in Taxes on income in Cyprus by 6.7207.\n",
      "The Revenue generated (in %) of Taxes on goods and services in Croatia is higher than the Revenue generated (in %) of Taxes on international trade in the Czech Republic by 45.8562.\n",
      "The Revenue generated (in %) of Taxes on goods and services in Cyprus is higher than the Revenue generated (in %) of Taxes on international trade in the Czech Republic by 33.1809.\n",
      "The Revenue generated (in %) in Taxes on goods and services in Croatia is 2.221235006663705 times greater than that in Colombia.\n",
      "The Revenue generated (in %) of Taxes on goods and services in Cyprus is greater than that in Colombia by a factor of 1.6239038648911983.\n",
      "The Revenue generated (in %) of Taxes on goods and services in Croatia is greater than that in Costa Rica by a factor of 1.465845793022574.\n",
      "The Revenue generated (in %) in Taxes on goods and services in Cyprus is greater than that in Costa Rica by a factor of 1.0716964955524595.\n",
      "The Revenue generated (in %) in Taxes on goods and services in Cyprus is 1.4575134819997084 times greater than that in Côte d'Ivoire.\n",
      "The Revenue generated (in %) in Taxes on goods and services in Croatia is 1.683 times greater than that in the Czech Republic.\n",
      "The average per year Number of enrolments of both sexes of Cyprus is 45988.1667.\n",
      "The average per year Number of enrolments of both sexes in Romania is 1658369.5.\n",
      "The average per Capital type % of firms in Croatia is 32.65.\n",
      "The average per year Number of enrolments of both sexes of Bahrain is 4366.4.\n",
      "The average per year Number of enrolments of both sexes of Ireland is 14643.4.\n",
      "The average per year Number of enrolments of both sexes in Jamaica is 235250.0.\n",
      "The average per year Number of enrolments of both sexes in Nepal is 548617.2.\n",
      "The average per year Number of enrolments of both sexes in Canada is 2495646.375.\n",
      "The average per year Number of enrolments of both sexes of Paraguay is 449026.6667.\n",
      "The Revenue generated (in %) of Taxes on goods and services in Latvia is 42.2935181098.\n",
      "The Revenue generated (in %) of Taxes on goods and services in Malaysia is 26.6530426885.\n",
      "The Revenue generated (in %) of Taxes on goods and services in Latvia is higher than the Revenue generated (in %) of Taxes on income in Lesotho by 28.2769.\n",
      "The Revenue generated (in %) of Taxes on goods and services in Latvia is greater than the Revenue generated (in %) of Taxes on income in Malaysia by 1.2384.\n",
      "The Revenue generated (in %) in Taxes on goods and services in Lesotho is higher than the Revenue generated (in %) in Taxes on international trade in Malaysia by 1.3284.\n",
      "The Revenue generated (in %) in Taxes on goods and services in Macao is greater than that in Kyrgyz Republic by a factor of 1.203369434416366.\n",
      "The Revenue generated (in %) of Taxes on goods and services in Latvia is greater than that in Lesotho by a factor of 3.7882.\n",
      "The Revenue generated (in %) in Taxes on goods and services in Latvia is greater than that in Malaysia by a factor of 1.5868.\n",
      "The Revenue generated (in %) in Taxes on goods and services in Macao is 2.672 times greater than that in Malaysia.\n",
      "The average per year Number of enrolments of both sexes in Montenegro is 67039.75.\n",
      "The average per year Number of enrolments of both sexes of Sweden is 733583.125.\n",
      "The average per year Number of enrolments of both sexes in Guatemala is 31462.4.\n",
      "The Revenue generated (in %) in Taxes on goods and services in Botswana is 1.8245560923.\n",
      "The Revenue generated (in %) of Taxes on goods and services in Belize is greater than the Revenue generated (in %) of Taxes on international trade in Bhutan by 8.978.\n",
      "The Revenue generated (in %) of Taxes on goods and services in Belize is higher than the Revenue generated (in %) of Taxes on international trade in Bulgaria by 7.4184.\n",
      "The Revenue generated (in %) of Taxes on goods and services in Brazil is higher than the Revenue generated (in %) of Taxes on international trade in Bulgaria by 22.3912.\n",
      "The Revenue generated (in %) of Taxes on goods and services in Bhutan is 1.1680878402055834 times greater than that in Belize.\n",
      "The Revenue generated (in %) in Taxes on goods and services in Bulgaria is greater than that in Belize by a factor of 1.9264110961279137.\n",
      "The Revenue generated (in %) in Taxes on goods and services in Cameroon is greater than that in Belize by a factor of 2.4189646831156266.\n",
      "The Revenue generated (in %) in Taxes on goods and services in Bulgaria is greater than that in Bhutan by a factor of 1.6490765171503956.\n",
      "The Revenue generated (in %) in Taxes on goods and services in Brazil is greater than that in Botswana by a factor of 13.245033112582782.\n",
      "The Revenue generated (in %) of Taxes on goods and services in Cameroon is greater than that in Botswana by a factor of 12.195121951219512.\n",
      "The Revenue generated (in %) of Taxes on goods and services in Brazil is 1.3642 times greater than that in Bulgaria.\n",
      "The Revenue generated (in %) of Taxes on goods and services in Brazil is 1.0865 times greater than that in Cameroon.\n",
      "The Revenue generated (in %) of Taxes on goods and services in Cameroon is 1.2554927809165097 times greater than that in Bulgaria.\n",
      "The average per year Number of enrolments of both sexes in Turkey is 320734.8333.\n",
      "The average per year Number of enrolments of both sexes in Iceland is 28517.625.\n",
      "The average per year Number of enrolments of both sexes in Uruguay is 229754.875.\n",
      "The average per year Number of enrolments of both sexes of Thailand is 1987427.5.\n",
      "The average per year Number of enrolments of both sexes in Ecuador is 2020957.6667.\n",
      "The average per year Number of enrolments of both sexes in Denmark is 465698.8333.\n",
      "The average per year Number of enrolments of both sexes in Micronesia is 13124.3333.\n",
      "The average per year Number of enrolments of both sexes of Cameroon is 45132.3333.\n",
      "The average per year Number of enrolments of both sexes of Malaysia is 20931.0.\n",
      "The average per year Number of enrolments of both sexes of Georgia is 359428.0.\n",
      "The average per year Number of enrolments of both sexes in Bhutan is 95630.8.\n",
      "The average per year Number of enrolments of both sexes in Spain is 2700847.5.\n",
      "The average per year Number of enrolments of both sexes in Zambia is 712132.0.\n",
      "The average per year Number of enrolments of both sexes in Monaco is 579.8.\n",
      "The average per year Number of enrolments of both sexes in Djibouti is 630.2.\n",
      "The Revenue generated (in %) in Taxes on goods and services in Jamaica is 29.8329909955.\n",
      "The Revenue generated (in %) of Taxes on goods and services in Jordan is 35.8222184704.\n",
      "The Revenue generated (in %) in Taxes on goods and services in Jamaica is higher than the Revenue generated (in %) in Taxes on international trade in Japan by 18.613.\n",
      "The Revenue generated (in %) in Taxes on goods and services in Jamaica is greater than the Revenue generated (in %) in Taxes on income in Jordan by 17.0987.\n",
      "The Revenue generated (in %) of Taxes on goods and services in Jamaica is higher than the Revenue generated (in %) of Taxes on international trade in Jordan by 20.798.\n",
      "The Revenue generated (in %) of Taxes on goods and services in Jamaica is greater than the Revenue generated (in %) of Taxes on international trade in Korea (Republic) by 22.8981.\n",
      "The Revenue generated (in %) in Taxes on goods and services in Japan is higher than the Revenue generated (in %) in Taxes on income in Jordan by 14.1877.\n",
      "The Revenue generated (in %) in Taxes on goods and services in Japan exceeds the Revenue generated (in %) in Taxes on international trade in Kenya by 26.3633.\n",
      "The Revenue generated (in %) of Taxes on goods and services in Japan is greater than the Revenue generated (in %) of Taxes on international trade in Korea (Republic) by 19.9871.\n",
      "The Revenue generated (in %) in Taxes on goods and services in Jordan is greater than the Revenue generated (in %) in Taxes on international trade in Kenya by 35.2636.\n",
      "The difference between the Revenue generated (in %) in Taxes on income in Korea (Republic) and the Revenue generated (in %) in Taxes on goods and services in Jordan is 5.203.\n",
      "The Revenue generated (in %) of Taxes on goods and services in Jordan exceeds the Revenue generated (in %) of Taxes on international trade in Korea (Republic) by 28.8873.\n",
      "The Revenue generated (in %) in Taxes on goods and services in Kenya is greater than the Revenue generated (in %) in Taxes on income in Kyrgyz Republic by 39.986.\n",
      "The Revenue generated (in %) of Taxes on goods and services in Jamaica is 1.1667 times greater than that in Korea (Republic).\n",
      "The Revenue generated (in %) of Taxes on goods and services in Kenya is 1.5071590052750565 times greater than that in Japan.\n",
      "The Revenue generated (in %) in Taxes on goods and services in Japan is 1.0528 times greater than that in Korea (Republic).\n",
      "The Revenue generated (in %) in Taxes on goods and services in Kenya is greater than that in Jordan by a factor of 1.1326311020500623.\n",
      "The Revenue generated (in %) in Taxes on goods and services in Kenya is greater than that in Korea (Republic) by a factor of 1.5868.\n",
      "The average per year Number of enrolments of both sexes of Benin is 233556.0.\n",
      "The average per year Number of enrolments of both sexes of Moldova is 173271.6.\n",
      "The average per year Number of enrolments of both sexes in Estonia is 95860.0.\n",
      "The average per year Number of enrolments of both sexes of Gabon is 83188.4286.\n",
      "The average per year Number of enrolments of both sexes in Mexico is 14681434.2.\n",
      "The average per year Number of enrolments of both sexes in Turkey is 1722776.5.\n",
      "The average per year Number of enrolments of both sexes of Canada is 2352808.3333.\n",
      "The average per year Number of enrolments of both sexes in Uganda is 2637898.8333.\n",
      "The average per year Number of enrolments of both sexes of Montenegro is 68382.8333.\n",
      "The average per year Number of enrolments of both sexes in Somalia is 43546.1667.\n",
      "The Revenue generated (in %) in Taxes on goods and services in Georgia is 42.7652173913.\n",
      "The Revenue generated (in %) of Taxes on goods and services in Guinea is 4.4952234523.\n",
      "The Revenue generated (in %) in Taxes on goods and services in France is greater than the Revenue generated (in %) in Taxes on income in Germany by 5.1209.\n",
      "The Revenue generated (in %) of Taxes on goods and services in France is greater than the Revenue generated (in %) of Taxes on income in Greece by 5.4823.\n",
      "The Revenue generated (in %) in Taxes on goods and services in France is greater than the Revenue generated (in %) in Taxes on income in Guinea by 7.5528.\n",
      "The Revenue generated (in %) in Taxes on goods and services in Georgia is greater than the Revenue generated (in %) in Taxes on income in Greece by 22.6872.\n",
      "The Revenue generated (in %) of Taxes on goods and services in Georgia exceeds the Revenue generated (in %) of Taxes on international trade in Greece by 25.2421.\n",
      "The Revenue generated (in %) of Taxes on goods and services in Georgia is higher than the Revenue generated (in %) of Taxes on income in Guatemala by 34.6177.\n",
      "The Revenue generated (in %) in Taxes on goods and services in Georgia is higher than the Revenue generated (in %) in Taxes on income in Guinea by 24.7578.\n",
      "The Revenue generated (in %) of Taxes on goods and services in Germany is higher than the Revenue generated (in %) of Taxes on income in Guatemala by 10.9711.\n",
      "The Revenue generated (in %) of Taxes on goods and services in Greece is greater than the Revenue generated (in %) of Taxes on income in Guinea by 12.1615.\n",
      "The Revenue generated (in %) of Taxes on goods and services in France is 1.3369 times greater than that in Germany.\n",
      "The Revenue generated (in %) of Taxes on goods and services in Greece is greater than that in France by a factor of 1.1803588290840417.\n",
      "The Revenue generated (in %) of Taxes on goods and services in Guatemala is greater than that in France by a factor of 2.4003840614498317.\n",
      "The Revenue generated (in %) of Taxes on goods and services in Georgia is greater than that in Greece by a factor of 1.4175.\n",
      "The Revenue generated (in %) of Taxes on goods and services in Greece is 1.5780337699226763 times greater than that in Germany.\n",
      "The Revenue generated (in %) in Taxes on goods and services in Guatemala is 3.209242618741977 times greater than that in Germany.\n",
      "The Revenue generated (in %) of Taxes on goods and services in Germany is greater than that in Guinea by a factor of 4.2531.\n",
      "The Revenue generated (in %) of Taxes on goods and services in Greece is greater than that in Guinea by a factor of 6.7113.\n",
      "The average per year Number of enrolments of both sexes in Greece is 669384.75.\n",
      "The average per year Number of enrolments of both sexes of Cambodia is 342015.25.\n"
     ]
    }
   ],
   "source": [
    "non_agree = []\n",
    "for doc in nlp.pipe(sents):\n",
    "    try:\n",
    "        verb, subject = lt.find_root_nsubj(doc)\n",
    "        if not lt.has_agreement(verb, subject)[0]:\n",
    "            non_agree.append(doc)\n",
    "    except (IndexError, ValueError):\n",
    "        print(doc)"
   ]
  },
  {
   "cell_type": "code",
   "execution_count": 91,
   "id": "797b6e40-51b0-4989-8d01-9510b2e9d240",
   "metadata": {},
   "outputs": [
    {
     "data": {
      "text/plain": [
       "[In the US$, the Taxes on products in Chad is 21007158.144744.,\n",
       " In 2010, the Armed forces personnel in Barbados is 610.0.,\n",
       " The net concessional disbursements from IMF is higher than 20000000 the US$ in 0 countries.,\n",
       " Across years, the minimum Total subscribers in Dominica is 7300.0.,\n",
       " Across years, the maximum service imports in Thailand is 46001742824.,\n",
       " In the graph, the total commercial service exports in Botswana is 1311408852.212872.,\n",
       " In Brazil, the net financial flows from IBRD is 0.,\n",
       " In 2008, the Total subscribers of Colombia is 1772088.0.,\n",
       " In 6 years, the net financial flows from IBRD is more than 160000000 the US$.,\n",
       " The co2 emissions due to manufacturing industries in Myanmar is not less than that in Cyprus.]"
      ]
     },
     "execution_count": 91,
     "metadata": {},
     "output_type": "execute_result"
    }
   ],
   "source": [
    "random.choices(non_agree, k=10)"
   ]
  },
  {
   "cell_type": "code",
   "execution_count": 93,
   "id": "92abbaa5-521d-4c8b-9b08-5666a462fc69",
   "metadata": {},
   "outputs": [
    {
     "data": {
      "text/plain": [
       "'In Brazil, the net financial flows from IBRD are 0.'"
      ]
     },
     "execution_count": 93,
     "metadata": {},
     "output_type": "execute_result"
    }
   ],
   "source": [
    "lt.fix_verb_subject_agreement(nlp('In Brazil, the net financial flows from IBRD is 0.'))"
   ]
  },
  {
   "cell_type": "code",
   "execution_count": 94,
   "id": "ba717a32-575c-4788-8f96-27432498bfcc",
   "metadata": {},
   "outputs": [
    {
     "data": {
      "text/plain": [
       "9000"
      ]
     },
     "execution_count": 94,
     "metadata": {},
     "output_type": "execute_result"
    }
   ],
   "source": [
    "len(set([k.text for k in non_agree]))"
   ]
  },
  {
   "cell_type": "code",
   "execution_count": 95,
   "id": "51a738df-b97c-42f3-be80-5d772618c55f",
   "metadata": {},
   "outputs": [
    {
     "data": {
      "text/plain": [
       "9223"
      ]
     },
     "execution_count": 95,
     "metadata": {},
     "output_type": "execute_result"
    }
   ],
   "source": [
    "len(non_agree)"
   ]
  },
  {
   "cell_type": "code",
   "execution_count": null,
   "id": "8bccd29f-5e08-40b6-a369-b3c18d332ca9",
   "metadata": {},
   "outputs": [],
   "source": []
  }
 ],
 "metadata": {
  "kernelspec": {
   "display_name": "Python 3 (ipykernel)",
   "language": "python",
   "name": "python3"
  },
  "language_info": {
   "codemirror_mode": {
    "name": "ipython",
    "version": 3
   },
   "file_extension": ".py",
   "mimetype": "text/x-python",
   "name": "python",
   "nbconvert_exporter": "python",
   "pygments_lexer": "ipython3",
   "version": "3.9.12"
  }
 },
 "nbformat": 4,
 "nbformat_minor": 5
}
