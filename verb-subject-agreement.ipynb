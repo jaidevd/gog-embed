{
 "cells": [
  {
   "cell_type": "code",
   "execution_count": 2,
   "id": "9ed292ab-380a-48e6-9289-9f1b1f84332e",
   "metadata": {},
   "outputs": [
    {
     "name": "stdout",
     "output_type": "stream",
     "text": [
      "The autoreload extension is already loaded. To reload it, use:\n",
      "  %reload_ext autoreload\n"
     ]
    },
    {
     "name": "stderr",
     "output_type": "stream",
     "text": [
      "2023-01-24 14:54:44.366994: I tensorflow/core/platform/cpu_feature_guard.cc:193] This TensorFlow binary is optimized with oneAPI Deep Neural Network Library (oneDNN) to use the following CPU instructions in performance-critical operations:  AVX2 FMA\n",
      "To enable them in other operations, rebuild TensorFlow with the appropriate compiler flags.\n",
      "2023-01-24 14:54:45.471225: W tensorflow/compiler/xla/stream_executor/platform/default/dso_loader.cc:64] Could not load dynamic library 'libnvinfer.so.7'; dlerror: libnvinfer.so.7: cannot open shared object file: No such file or directory\n",
      "2023-01-24 14:54:45.471280: W tensorflow/compiler/xla/stream_executor/platform/default/dso_loader.cc:64] Could not load dynamic library 'libnvinfer_plugin.so.7'; dlerror: libnvinfer_plugin.so.7: cannot open shared object file: No such file or directory\n",
      "2023-01-24 14:54:45.471285: W tensorflow/compiler/tf2tensorrt/utils/py_utils.cc:38] TF-TRT Warning: Cannot dlopen some TensorRT libraries. If you would like to use Nvidia GPU with TensorRT, please make sure the missing libraries mentioned above are installed properly.\n",
      "2023-01-24 14:54:46.680657: W tensorflow/compiler/xla/stream_executor/platform/default/dso_loader.cc:64] Could not load dynamic library 'libcusolver.so.11'; dlerror: libcusolver.so.11: cannot open shared object file: No such file or directory\n",
      "2023-01-24 14:54:46.680708: W tensorflow/core/common_runtime/gpu/gpu_device.cc:1934] Cannot dlopen some GPU libraries. Please make sure the missing libraries mentioned above are installed properly if you would like to use GPU. Follow the guide at https://www.tensorflow.org/install/gpu for how to download and setup the required libraries for your platform.\n",
      "Skipping registering GPU devices...\n"
     ]
    }
   ],
   "source": [
    "%load_ext autoreload\n",
    "%autoreload 2\n",
    "\n",
    "import pandas as pd\n",
    "import languagetool as lt\n",
    "from spacy import load\n",
    "nlp = load('en_core_web_md')"
   ]
  },
  {
   "cell_type": "code",
   "execution_count": 3,
   "id": "fa8da9ef-d1f2-432b-bccd-224040ac9782",
   "metadata": {},
   "outputs": [],
   "source": [
    "from joblib import Parallel, delayed"
   ]
  },
  {
   "cell_type": "code",
   "execution_count": 4,
   "id": "ec0ccfee-b03d-4ef9-80c7-9109c531c4f6",
   "metadata": {
    "scrolled": true,
    "tags": []
   },
   "outputs": [
    {
     "name": "stderr",
     "output_type": "stream",
     "text": [
      "[Parallel(n_jobs=-1)]: Using backend LokyBackend with 16 concurrent workers.\n",
      "2023-01-24 14:56:09.708893: W tensorflow/compiler/xla/stream_executor/platform/default/dso_loader.cc:64] Could not load dynamic library 'libnvinfer.so.7'; dlerror: libnvinfer.so.7: cannot open shared object file: No such file or directory\n",
      "2023-01-24 14:56:09.709271: W tensorflow/compiler/xla/stream_executor/platform/default/dso_loader.cc:64] Could not load dynamic library 'libnvinfer_plugin.so.7'; dlerror: libnvinfer_plugin.so.7: cannot open shared object file: No such file or directory\n",
      "2023-01-24 14:56:09.709284: W tensorflow/compiler/tf2tensorrt/utils/py_utils.cc:38] TF-TRT Warning: Cannot dlopen some TensorRT libraries. If you would like to use Nvidia GPU with TensorRT, please make sure the missing libraries mentioned above are installed properly.\n",
      "2023-01-24 14:56:09.743880: W tensorflow/compiler/xla/stream_executor/platform/default/dso_loader.cc:64] Could not load dynamic library 'libnvinfer.so.7'; dlerror: libnvinfer.so.7: cannot open shared object file: No such file or directory\n",
      "2023-01-24 14:56:09.744150: W tensorflow/compiler/xla/stream_executor/platform/default/dso_loader.cc:64] Could not load dynamic library 'libnvinfer_plugin.so.7'; dlerror: libnvinfer_plugin.so.7: cannot open shared object file: No such file or directory\n",
      "2023-01-24 14:56:09.744199: W tensorflow/compiler/tf2tensorrt/utils/py_utils.cc:38] TF-TRT Warning: Cannot dlopen some TensorRT libraries. If you would like to use Nvidia GPU with TensorRT, please make sure the missing libraries mentioned above are installed properly.\n",
      "2023-01-24 14:56:09.796336: W tensorflow/compiler/xla/stream_executor/platform/default/dso_loader.cc:64] Could not load dynamic library 'libnvinfer.so.7'; dlerror: libnvinfer.so.7: cannot open shared object file: No such file or directory\n",
      "2023-01-24 14:56:09.796510: W tensorflow/compiler/xla/stream_executor/platform/default/dso_loader.cc:64] Could not load dynamic library 'libnvinfer_plugin.so.7'; dlerror: libnvinfer_plugin.so.7: cannot open shared object file: No such file or directory\n",
      "2023-01-24 14:56:09.796554: W tensorflow/compiler/tf2tensorrt/utils/py_utils.cc:38] TF-TRT Warning: Cannot dlopen some TensorRT libraries. If you would like to use Nvidia GPU with TensorRT, please make sure the missing libraries mentioned above are installed properly.\n",
      "2023-01-24 14:56:09.864752: W tensorflow/compiler/xla/stream_executor/platform/default/dso_loader.cc:64] Could not load dynamic library 'libnvinfer.so.7'; dlerror: libnvinfer.so.7: cannot open shared object file: No such file or directory\n",
      "2023-01-24 14:56:09.864900: W tensorflow/compiler/xla/stream_executor/platform/default/dso_loader.cc:64] Could not load dynamic library 'libnvinfer_plugin.so.7'; dlerror: libnvinfer_plugin.so.7: cannot open shared object file: No such file or directory\n",
      "2023-01-24 14:56:09.864947: W tensorflow/compiler/tf2tensorrt/utils/py_utils.cc:38] TF-TRT Warning: Cannot dlopen some TensorRT libraries. If you would like to use Nvidia GPU with TensorRT, please make sure the missing libraries mentioned above are installed properly.\n",
      "2023-01-24 14:56:09.872092: W tensorflow/compiler/xla/stream_executor/platform/default/dso_loader.cc:64] Could not load dynamic library 'libnvinfer.so.7'; dlerror: libnvinfer.so.7: cannot open shared object file: No such file or directory\n",
      "2023-01-24 14:56:09.872271: W tensorflow/compiler/xla/stream_executor/platform/default/dso_loader.cc:64] Could not load dynamic library 'libnvinfer_plugin.so.7'; dlerror: libnvinfer_plugin.so.7: cannot open shared object file: No such file or directory\n",
      "2023-01-24 14:56:09.872318: W tensorflow/compiler/tf2tensorrt/utils/py_utils.cc:38] TF-TRT Warning: Cannot dlopen some TensorRT libraries. If you would like to use Nvidia GPU with TensorRT, please make sure the missing libraries mentioned above are installed properly.\n",
      "2023-01-24 14:56:09.883490: W tensorflow/compiler/xla/stream_executor/platform/default/dso_loader.cc:64] Could not load dynamic library 'libnvinfer.so.7'; dlerror: libnvinfer.so.7: cannot open shared object file: No such file or directory\n",
      "2023-01-24 14:56:09.883628: W tensorflow/compiler/xla/stream_executor/platform/default/dso_loader.cc:64] Could not load dynamic library 'libnvinfer_plugin.so.7'; dlerror: libnvinfer_plugin.so.7: cannot open shared object file: No such file or directory\n",
      "2023-01-24 14:56:09.883670: W tensorflow/compiler/tf2tensorrt/utils/py_utils.cc:38] TF-TRT Warning: Cannot dlopen some TensorRT libraries. If you would like to use Nvidia GPU with TensorRT, please make sure the missing libraries mentioned above are installed properly.\n",
      "2023-01-24 14:56:09.889351: W tensorflow/compiler/xla/stream_executor/platform/default/dso_loader.cc:64] Could not load dynamic library 'libnvinfer.so.7'; dlerror: libnvinfer.so.7: cannot open shared object file: No such file or directory\n",
      "2023-01-24 14:56:09.889512: W tensorflow/compiler/xla/stream_executor/platform/default/dso_loader.cc:64] Could not load dynamic library 'libnvinfer_plugin.so.7'; dlerror: libnvinfer_plugin.so.7: cannot open shared object file: No such file or directory\n",
      "2023-01-24 14:56:09.889555: W tensorflow/compiler/tf2tensorrt/utils/py_utils.cc:38] TF-TRT Warning: Cannot dlopen some TensorRT libraries. If you would like to use Nvidia GPU with TensorRT, please make sure the missing libraries mentioned above are installed properly.\n",
      "2023-01-24 14:56:09.896617: W tensorflow/compiler/xla/stream_executor/platform/default/dso_loader.cc:64] Could not load dynamic library 'libnvinfer.so.7'; dlerror: libnvinfer.so.7: cannot open shared object file: No such file or directory\n",
      "2023-01-24 14:56:09.896760: W tensorflow/compiler/xla/stream_executor/platform/default/dso_loader.cc:64] Could not load dynamic library 'libnvinfer_plugin.so.7'; dlerror: libnvinfer_plugin.so.7: cannot open shared object file: No such file or directory\n",
      "2023-01-24 14:56:09.896791: W tensorflow/compiler/tf2tensorrt/utils/py_utils.cc:38] TF-TRT Warning: Cannot dlopen some TensorRT libraries. If you would like to use Nvidia GPU with TensorRT, please make sure the missing libraries mentioned above are installed properly.\n",
      "2023-01-24 14:56:09.898646: W tensorflow/compiler/xla/stream_executor/platform/default/dso_loader.cc:64] Could not load dynamic library 'libnvinfer.so.7'; dlerror: libnvinfer.so.7: cannot open shared object file: No such file or directory\n",
      "2023-01-24 14:56:09.898786: W tensorflow/compiler/xla/stream_executor/platform/default/dso_loader.cc:64] Could not load dynamic library 'libnvinfer_plugin.so.7'; dlerror: libnvinfer_plugin.so.7: cannot open shared object file: No such file or directory\n",
      "2023-01-24 14:56:09.898816: W tensorflow/compiler/tf2tensorrt/utils/py_utils.cc:38] TF-TRT Warning: Cannot dlopen some TensorRT libraries. If you would like to use Nvidia GPU with TensorRT, please make sure the missing libraries mentioned above are installed properly.\n",
      "2023-01-24 14:56:09.908939: W tensorflow/compiler/xla/stream_executor/platform/default/dso_loader.cc:64] Could not load dynamic library 'libnvinfer.so.7'; dlerror: libnvinfer.so.7: cannot open shared object file: No such file or directory\n",
      "2023-01-24 14:56:09.909110: W tensorflow/compiler/xla/stream_executor/platform/default/dso_loader.cc:64] Could not load dynamic library 'libnvinfer_plugin.so.7'; dlerror: libnvinfer_plugin.so.7: cannot open shared object file: No such file or directory\n",
      "2023-01-24 14:56:09.909151: W tensorflow/compiler/tf2tensorrt/utils/py_utils.cc:38] TF-TRT Warning: Cannot dlopen some TensorRT libraries. If you would like to use Nvidia GPU with TensorRT, please make sure the missing libraries mentioned above are installed properly.\n",
      "2023-01-24 14:56:09.914217: W tensorflow/compiler/xla/stream_executor/platform/default/dso_loader.cc:64] Could not load dynamic library 'libnvinfer.so.7'; dlerror: libnvinfer.so.7: cannot open shared object file: No such file or directory\n",
      "2023-01-24 14:56:09.914453: W tensorflow/compiler/xla/stream_executor/platform/default/dso_loader.cc:64] Could not load dynamic library 'libnvinfer_plugin.so.7'; dlerror: libnvinfer_plugin.so.7: cannot open shared object file: No such file or directory\n",
      "2023-01-24 14:56:09.914463: W tensorflow/compiler/tf2tensorrt/utils/py_utils.cc:38] TF-TRT Warning: Cannot dlopen some TensorRT libraries. If you would like to use Nvidia GPU with TensorRT, please make sure the missing libraries mentioned above are installed properly.\n",
      "2023-01-24 14:56:09.951821: W tensorflow/compiler/xla/stream_executor/platform/default/dso_loader.cc:64] Could not load dynamic library 'libnvinfer.so.7'; dlerror: libnvinfer.so.7: cannot open shared object file: No such file or directory\n",
      "2023-01-24 14:56:09.951983: W tensorflow/compiler/xla/stream_executor/platform/default/dso_loader.cc:64] Could not load dynamic library 'libnvinfer_plugin.so.7'; dlerror: libnvinfer_plugin.so.7: cannot open shared object file: No such file or directory\n",
      "2023-01-24 14:56:09.952026: W tensorflow/compiler/tf2tensorrt/utils/py_utils.cc:38] TF-TRT Warning: Cannot dlopen some TensorRT libraries. If you would like to use Nvidia GPU with TensorRT, please make sure the missing libraries mentioned above are installed properly.\n",
      "2023-01-24 14:56:09.982792: W tensorflow/compiler/xla/stream_executor/platform/default/dso_loader.cc:64] Could not load dynamic library 'libnvinfer.so.7'; dlerror: libnvinfer.so.7: cannot open shared object file: No such file or directory\n",
      "2023-01-24 14:56:09.982965: W tensorflow/compiler/xla/stream_executor/platform/default/dso_loader.cc:64] Could not load dynamic library 'libnvinfer_plugin.so.7'; dlerror: libnvinfer_plugin.so.7: cannot open shared object file: No such file or directory\n",
      "2023-01-24 14:56:09.983007: W tensorflow/compiler/tf2tensorrt/utils/py_utils.cc:38] TF-TRT Warning: Cannot dlopen some TensorRT libraries. If you would like to use Nvidia GPU with TensorRT, please make sure the missing libraries mentioned above are installed properly.\n",
      "2023-01-24 14:56:09.987019: W tensorflow/compiler/xla/stream_executor/platform/default/dso_loader.cc:64] Could not load dynamic library 'libnvinfer.so.7'; dlerror: libnvinfer.so.7: cannot open shared object file: No such file or directory\n",
      "2023-01-24 14:56:09.987198: W tensorflow/compiler/xla/stream_executor/platform/default/dso_loader.cc:64] Could not load dynamic library 'libnvinfer_plugin.so.7'; dlerror: libnvinfer_plugin.so.7: cannot open shared object file: No such file or directory\n",
      "2023-01-24 14:56:09.987238: W tensorflow/compiler/tf2tensorrt/utils/py_utils.cc:38] TF-TRT Warning: Cannot dlopen some TensorRT libraries. If you would like to use Nvidia GPU with TensorRT, please make sure the missing libraries mentioned above are installed properly.\n",
      "2023-01-24 14:56:10.025314: W tensorflow/compiler/xla/stream_executor/platform/default/dso_loader.cc:64] Could not load dynamic library 'libnvinfer.so.7'; dlerror: libnvinfer.so.7: cannot open shared object file: No such file or directory\n",
      "2023-01-24 14:56:10.025452: W tensorflow/compiler/xla/stream_executor/platform/default/dso_loader.cc:64] Could not load dynamic library 'libnvinfer_plugin.so.7'; dlerror: libnvinfer_plugin.so.7: cannot open shared object file: No such file or directory\n",
      "2023-01-24 14:56:10.025489: W tensorflow/compiler/tf2tensorrt/utils/py_utils.cc:38] TF-TRT Warning: Cannot dlopen some TensorRT libraries. If you would like to use Nvidia GPU with TensorRT, please make sure the missing libraries mentioned above are installed properly.\n",
      "2023-01-24 14:56:10.122120: W tensorflow/compiler/xla/stream_executor/platform/default/dso_loader.cc:64] Could not load dynamic library 'libnvinfer.so.7'; dlerror: libnvinfer.so.7: cannot open shared object file: No such file or directory\n",
      "2023-01-24 14:56:10.122340: W tensorflow/compiler/xla/stream_executor/platform/default/dso_loader.cc:64] Could not load dynamic library 'libnvinfer_plugin.so.7'; dlerror: libnvinfer_plugin.so.7: cannot open shared object file: No such file or directory\n",
      "2023-01-24 14:56:10.122358: W tensorflow/compiler/tf2tensorrt/utils/py_utils.cc:38] TF-TRT Warning: Cannot dlopen some TensorRT libraries. If you would like to use Nvidia GPU with TensorRT, please make sure the missing libraries mentioned above are installed properly.\n",
      "2023-01-24 14:56:11.494238: W tensorflow/compiler/xla/stream_executor/platform/default/dso_loader.cc:64] Could not load dynamic library 'libcusolver.so.11'; dlerror: libcusolver.so.11: cannot open shared object file: No such file or directory\n",
      "2023-01-24 14:56:11.494458: W tensorflow/core/common_runtime/gpu/gpu_device.cc:1934] Cannot dlopen some GPU libraries. Please make sure the missing libraries mentioned above are installed properly if you would like to use GPU. Follow the guide at https://www.tensorflow.org/install/gpu for how to download and setup the required libraries for your platform.\n",
      "Skipping registering GPU devices...\n",
      "2023-01-24 14:56:11.685194: W tensorflow/compiler/xla/stream_executor/platform/default/dso_loader.cc:64] Could not load dynamic library 'libcusolver.so.11'; dlerror: libcusolver.so.11: cannot open shared object file: No such file or directory\n",
      "2023-01-24 14:56:11.685333: W tensorflow/core/common_runtime/gpu/gpu_device.cc:1934] Cannot dlopen some GPU libraries. Please make sure the missing libraries mentioned above are installed properly if you would like to use GPU. Follow the guide at https://www.tensorflow.org/install/gpu for how to download and setup the required libraries for your platform.\n",
      "Skipping registering GPU devices...\n",
      "2023-01-24 14:56:11.737194: W tensorflow/compiler/xla/stream_executor/platform/default/dso_loader.cc:64] Could not load dynamic library 'libcusolver.so.11'; dlerror: libcusolver.so.11: cannot open shared object file: No such file or directory\n",
      "2023-01-24 14:56:11.737383: W tensorflow/core/common_runtime/gpu/gpu_device.cc:1934] Cannot dlopen some GPU libraries. Please make sure the missing libraries mentioned above are installed properly if you would like to use GPU. Follow the guide at https://www.tensorflow.org/install/gpu for how to download and setup the required libraries for your platform.\n",
      "Skipping registering GPU devices...\n",
      "2023-01-24 14:56:11.742992: W tensorflow/compiler/xla/stream_executor/platform/default/dso_loader.cc:64] Could not load dynamic library 'libcusolver.so.11'; dlerror: libcusolver.so.11: cannot open shared object file: No such file or directory\n",
      "2023-01-24 14:56:11.743139: W tensorflow/core/common_runtime/gpu/gpu_device.cc:1934] Cannot dlopen some GPU libraries. Please make sure the missing libraries mentioned above are installed properly if you would like to use GPU. Follow the guide at https://www.tensorflow.org/install/gpu for how to download and setup the required libraries for your platform.\n",
      "Skipping registering GPU devices...\n",
      "2023-01-24 14:56:11.768320: W tensorflow/compiler/xla/stream_executor/platform/default/dso_loader.cc:64] Could not load dynamic library 'libcusolver.so.11'; dlerror: libcusolver.so.11: cannot open shared object file: No such file or directory\n",
      "2023-01-24 14:56:11.768465: W tensorflow/core/common_runtime/gpu/gpu_device.cc:1934] Cannot dlopen some GPU libraries. Please make sure the missing libraries mentioned above are installed properly if you would like to use GPU. Follow the guide at https://www.tensorflow.org/install/gpu for how to download and setup the required libraries for your platform.\n",
      "Skipping registering GPU devices...\n",
      "2023-01-24 14:56:11.772008: W tensorflow/compiler/xla/stream_executor/platform/default/dso_loader.cc:64] Could not load dynamic library 'libcusolver.so.11'; dlerror: libcusolver.so.11: cannot open shared object file: No such file or directory\n",
      "2023-01-24 14:56:11.772160: W tensorflow/core/common_runtime/gpu/gpu_device.cc:1934] Cannot dlopen some GPU libraries. Please make sure the missing libraries mentioned above are installed properly if you would like to use GPU. Follow the guide at https://www.tensorflow.org/install/gpu for how to download and setup the required libraries for your platform.\n",
      "Skipping registering GPU devices...\n",
      "2023-01-24 14:56:11.775976: W tensorflow/compiler/xla/stream_executor/platform/default/dso_loader.cc:64] Could not load dynamic library 'libcusolver.so.11'; dlerror: libcusolver.so.11: cannot open shared object file: No such file or directory\n",
      "2023-01-24 14:56:11.776128: W tensorflow/core/common_runtime/gpu/gpu_device.cc:1934] Cannot dlopen some GPU libraries. Please make sure the missing libraries mentioned above are installed properly if you would like to use GPU. Follow the guide at https://www.tensorflow.org/install/gpu for how to download and setup the required libraries for your platform.\n",
      "Skipping registering GPU devices...\n",
      "2023-01-24 14:56:11.797836: W tensorflow/compiler/xla/stream_executor/platform/default/dso_loader.cc:64] Could not load dynamic library 'libcusolver.so.11'; dlerror: libcusolver.so.11: cannot open shared object file: No such file or directory\n",
      "2023-01-24 14:56:11.797972: W tensorflow/core/common_runtime/gpu/gpu_device.cc:1934] Cannot dlopen some GPU libraries. Please make sure the missing libraries mentioned above are installed properly if you would like to use GPU. Follow the guide at https://www.tensorflow.org/install/gpu for how to download and setup the required libraries for your platform.\n",
      "Skipping registering GPU devices...\n",
      "2023-01-24 14:56:11.810722: W tensorflow/compiler/xla/stream_executor/platform/default/dso_loader.cc:64] Could not load dynamic library 'libcusolver.so.11'; dlerror: libcusolver.so.11: cannot open shared object file: No such file or directory\n",
      "2023-01-24 14:56:11.810872: W tensorflow/core/common_runtime/gpu/gpu_device.cc:1934] Cannot dlopen some GPU libraries. Please make sure the missing libraries mentioned above are installed properly if you would like to use GPU. Follow the guide at https://www.tensorflow.org/install/gpu for how to download and setup the required libraries for your platform.\n",
      "Skipping registering GPU devices...\n",
      "2023-01-24 14:56:11.816266: W tensorflow/compiler/xla/stream_executor/platform/default/dso_loader.cc:64] Could not load dynamic library 'libcusolver.so.11'; dlerror: libcusolver.so.11: cannot open shared object file: No such file or directory\n",
      "2023-01-24 14:56:11.816413: W tensorflow/core/common_runtime/gpu/gpu_device.cc:1934] Cannot dlopen some GPU libraries. Please make sure the missing libraries mentioned above are installed properly if you would like to use GPU. Follow the guide at https://www.tensorflow.org/install/gpu for how to download and setup the required libraries for your platform.\n",
      "Skipping registering GPU devices...\n",
      "2023-01-24 14:56:11.863840: W tensorflow/compiler/xla/stream_executor/platform/default/dso_loader.cc:64] Could not load dynamic library 'libcusolver.so.11'; dlerror: libcusolver.so.11: cannot open shared object file: No such file or directory\n",
      "2023-01-24 14:56:11.864017: W tensorflow/core/common_runtime/gpu/gpu_device.cc:1934] Cannot dlopen some GPU libraries. Please make sure the missing libraries mentioned above are installed properly if you would like to use GPU. Follow the guide at https://www.tensorflow.org/install/gpu for how to download and setup the required libraries for your platform.\n",
      "Skipping registering GPU devices...\n",
      "2023-01-24 14:56:11.875032: W tensorflow/compiler/xla/stream_executor/platform/default/dso_loader.cc:64] Could not load dynamic library 'libcusolver.so.11'; dlerror: libcusolver.so.11: cannot open shared object file: No such file or directory\n",
      "2023-01-24 14:56:11.875205: W tensorflow/core/common_runtime/gpu/gpu_device.cc:1934] Cannot dlopen some GPU libraries. Please make sure the missing libraries mentioned above are installed properly if you would like to use GPU. Follow the guide at https://www.tensorflow.org/install/gpu for how to download and setup the required libraries for your platform.\n",
      "Skipping registering GPU devices...\n",
      "2023-01-24 14:56:11.901249: W tensorflow/compiler/xla/stream_executor/platform/default/dso_loader.cc:64] Could not load dynamic library 'libcusolver.so.11'; dlerror: libcusolver.so.11: cannot open shared object file: No such file or directory\n",
      "2023-01-24 14:56:11.901441: W tensorflow/core/common_runtime/gpu/gpu_device.cc:1934] Cannot dlopen some GPU libraries. Please make sure the missing libraries mentioned above are installed properly if you would like to use GPU. Follow the guide at https://www.tensorflow.org/install/gpu for how to download and setup the required libraries for your platform.\n",
      "Skipping registering GPU devices...\n",
      "2023-01-24 14:56:11.902756: W tensorflow/compiler/xla/stream_executor/platform/default/dso_loader.cc:64] Could not load dynamic library 'libcusolver.so.11'; dlerror: libcusolver.so.11: cannot open shared object file: No such file or directory\n",
      "2023-01-24 14:56:11.902890: W tensorflow/core/common_runtime/gpu/gpu_device.cc:1934] Cannot dlopen some GPU libraries. Please make sure the missing libraries mentioned above are installed properly if you would like to use GPU. Follow the guide at https://www.tensorflow.org/install/gpu for how to download and setup the required libraries for your platform.\n",
      "Skipping registering GPU devices...\n",
      "2023-01-24 14:56:11.912388: W tensorflow/compiler/xla/stream_executor/platform/default/dso_loader.cc:64] Could not load dynamic library 'libcusolver.so.11'; dlerror: libcusolver.so.11: cannot open shared object file: No such file or directory\n",
      "2023-01-24 14:56:11.912587: W tensorflow/core/common_runtime/gpu/gpu_device.cc:1934] Cannot dlopen some GPU libraries. Please make sure the missing libraries mentioned above are installed properly if you would like to use GPU. Follow the guide at https://www.tensorflow.org/install/gpu for how to download and setup the required libraries for your platform.\n",
      "Skipping registering GPU devices...\n",
      "2023-01-24 14:56:11.916500: W tensorflow/compiler/xla/stream_executor/platform/default/dso_loader.cc:64] Could not load dynamic library 'libcusolver.so.11'; dlerror: libcusolver.so.11: cannot open shared object file: No such file or directory\n",
      "2023-01-24 14:56:11.916691: W tensorflow/core/common_runtime/gpu/gpu_device.cc:1934] Cannot dlopen some GPU libraries. Please make sure the missing libraries mentioned above are installed properly if you would like to use GPU. Follow the guide at https://www.tensorflow.org/install/gpu for how to download and setup the required libraries for your platform.\n",
      "Skipping registering GPU devices...\n",
      "[Parallel(n_jobs=-1)]: Done   9 tasks      | elapsed:    7.6s\n",
      "[Parallel(n_jobs=-1)]: Done 148 tasks      | elapsed:    8.8s\n",
      "[Parallel(n_jobs=-1)]: Done 554 tasks      | elapsed:   10.7s\n",
      "[Parallel(n_jobs=-1)]: Done 1000 out of 1000 | elapsed:   12.1s finished\n"
     ]
    }
   ],
   "source": [
    "for df in pd.read_json('/tmp/exports.json', lines=True, chunksize=1000):\n",
    "    errs = Parallel(n_jobs=-1, verbose=2)(delayed(lt.process)(**row) for _, row in df.iterrows())\n",
    "    break"
   ]
  },
  {
   "cell_type": "code",
   "execution_count": 6,
   "id": "a8c00e08-3e17-4c2d-8412-ea745174b91b",
   "metadata": {},
   "outputs": [],
   "source": [
    "errs = [e for e in errs if any([c['rule']['id'].startswith('SUBJECT_VERB_AGREEMENT_') for c in e['matches']])]"
   ]
  },
  {
   "cell_type": "code",
   "execution_count": 8,
   "id": "3941baa8-3039-4b30-bfc5-7640653e7282",
   "metadata": {},
   "outputs": [
    {
     "data": {
      "text/plain": [
       "{'question_id': 354,\n",
       " 'matches': [{'message': 'The verb form ‘is’ does not seem to match the subject ‘exports’.',\n",
       "   'shortMessage': '',\n",
       "   'replacements': [{'value': 'are'},\n",
       "    {'value': 'was'},\n",
       "    {'value': 'were',\n",
       "     'shortDescription': \"second-person singular simple past of 'be', e.g. 'you were'\"},\n",
       "    {'value': 'will be'}],\n",
       "   'offset': 49,\n",
       "   'length': 2,\n",
       "   'context': {'text': '...um merchandise exports across all years is 81.125026324.',\n",
       "    'offset': 43,\n",
       "    'length': 2},\n",
       "   'sentence': 'The maximum merchandise exports across all years is 81.125026324.',\n",
       "   'type': {'typeName': 'Other'},\n",
       "   'rule': {'id': 'SUBJECT_VERB_AGREEMENT_PLURAL',\n",
       "    'subId': '2',\n",
       "    'sourceFile': 'grammar.xml',\n",
       "    'description': 'Subject-verb agreement plural',\n",
       "    'issueType': 'grammar',\n",
       "    'category': {'id': 'GRAMMAR', 'name': 'Grammar'}},\n",
       "   'ignoreForIncompleteSentence': True,\n",
       "   'contextForSureMatch': 10}]}"
      ]
     },
     "execution_count": 8,
     "metadata": {},
     "output_type": "execute_result"
    }
   ],
   "source": [
    "errs[0]"
   ]
  },
  {
   "cell_type": "code",
   "execution_count": 10,
   "id": "030ef3df-643e-4ebd-b71a-5214534f093a",
   "metadata": {},
   "outputs": [
    {
     "data": {
      "text/plain": [
       "The maximum merchandise exports across all years is 81.125026324."
      ]
     },
     "execution_count": 10,
     "metadata": {},
     "output_type": "execute_result"
    }
   ],
   "source": [
    "doc = nlp(errs[0]['matches'][0]['sentence'])\n",
    "doc"
   ]
  },
  {
   "cell_type": "code",
   "execution_count": 15,
   "id": "5b8d36cd-544a-4f0f-84b2-00f1ce0bac81",
   "metadata": {},
   "outputs": [],
   "source": [
    "nouns = [t for t in doc if t.tag_ in ('NN', 'NNS')]"
   ]
  },
  {
   "cell_type": "code",
   "execution_count": 16,
   "id": "ffd524b4-e376-4d09-bb89-a02ca7eaff34",
   "metadata": {},
   "outputs": [
    {
     "data": {
      "text/plain": [
       "[merchandise, exports, years]"
      ]
     },
     "execution_count": 16,
     "metadata": {},
     "output_type": "execute_result"
    }
   ],
   "source": [
    "nouns"
   ]
  },
  {
   "cell_type": "code",
   "execution_count": 18,
   "id": "c7d28580-0db6-4b7e-a89b-6bd869af42d6",
   "metadata": {},
   "outputs": [],
   "source": [
    "n1, n2, n3 = nouns"
   ]
  },
  {
   "cell_type": "code",
   "execution_count": 20,
   "id": "fa7fa7e4-a0d1-4bba-8f72-6be049b3564b",
   "metadata": {},
   "outputs": [
    {
     "data": {
      "text/plain": [
       "[exports, is]"
      ]
     },
     "execution_count": 20,
     "metadata": {},
     "output_type": "execute_result"
    }
   ],
   "source": [
    "list(n1.ancestors)"
   ]
  },
  {
   "cell_type": "code",
   "execution_count": 22,
   "id": "85f2f84c-e4b7-41aa-a016-1c11cd6d0da4",
   "metadata": {},
   "outputs": [
    {
     "data": {
      "text/plain": [
       "[is]"
      ]
     },
     "execution_count": 22,
     "metadata": {},
     "output_type": "execute_result"
    }
   ],
   "source": [
    "list(n2.ancestors)"
   ]
  },
  {
   "cell_type": "code",
   "execution_count": 23,
   "id": "6f8ba943-a573-47de-b174-b2e23ce5aa04",
   "metadata": {},
   "outputs": [
    {
     "data": {
      "text/plain": [
       "[across, exports, is]"
      ]
     },
     "execution_count": 23,
     "metadata": {},
     "output_type": "execute_result"
    }
   ],
   "source": [
    "list(n3.ancestors)"
   ]
  },
  {
   "cell_type": "code",
   "execution_count": 24,
   "id": "dbc1ea57-a4b1-4501-8851-f38ffe377831",
   "metadata": {},
   "outputs": [],
   "source": [
    "from spacy import explain"
   ]
  },
  {
   "cell_type": "code",
   "execution_count": 25,
   "id": "1469353f-5a50-42c4-8c6a-877f0c2394e4",
   "metadata": {},
   "outputs": [
    {
     "data": {
      "text/plain": [
       "'auxiliary'"
      ]
     },
     "execution_count": 25,
     "metadata": {},
     "output_type": "execute_result"
    }
   ],
   "source": [
    "explain('AUX')"
   ]
  },
  {
   "cell_type": "code",
   "execution_count": 26,
   "id": "1cf0cbc4-1253-427e-898f-1840b25809f2",
   "metadata": {},
   "outputs": [],
   "source": [
    "aux = [k for k in n2.ancestors][0]"
   ]
  },
  {
   "cell_type": "code",
   "execution_count": 27,
   "id": "e5a7cdc7-65e1-4fd7-a813-f9bf9cf46e4e",
   "metadata": {},
   "outputs": [
    {
     "data": {
      "text/plain": [
       "is"
      ]
     },
     "execution_count": 27,
     "metadata": {},
     "output_type": "execute_result"
    }
   ],
   "source": [
    "aux"
   ]
  },
  {
   "cell_type": "code",
   "execution_count": 29,
   "id": "1c0c3f88-2315-4b30-9a75-0c4c55e55a52",
   "metadata": {},
   "outputs": [
    {
     "data": {
      "text/plain": [
       "'VBZ'"
      ]
     },
     "execution_count": 29,
     "metadata": {},
     "output_type": "execute_result"
    }
   ],
   "source": [
    "aux.tag_"
   ]
  },
  {
   "cell_type": "code",
   "execution_count": 30,
   "id": "590c6a66-bc6c-4850-9811-a31e7b3bac9d",
   "metadata": {},
   "outputs": [
    {
     "data": {
      "text/plain": [
       "'AUX'"
      ]
     },
     "execution_count": 30,
     "metadata": {},
     "output_type": "execute_result"
    }
   ],
   "source": [
    "aux.pos_"
   ]
  },
  {
   "cell_type": "code",
   "execution_count": 31,
   "id": "8940697e-986c-4185-8e54-ebcaeea8ae75",
   "metadata": {},
   "outputs": [
    {
     "data": {
      "text/plain": [
       "'verb, 3rd person singular present'"
      ]
     },
     "execution_count": 31,
     "metadata": {},
     "output_type": "execute_result"
    }
   ],
   "source": [
    "explain('VBZ')"
   ]
  },
  {
   "cell_type": "code",
   "execution_count": 32,
   "id": "16f56c6b-587f-4ddd-8908-738aa02844ec",
   "metadata": {},
   "outputs": [],
   "source": [
    "for noun in nouns:\n",
    "    for anc in noun.ancestors:\n",
    "        if anc.pos_ == 'AUX':\n",
    "            break"
   ]
  },
  {
   "cell_type": "code",
   "execution_count": 33,
   "id": "c6b6d353-ac99-4086-834d-b8a813d9bc2f",
   "metadata": {},
   "outputs": [
    {
     "data": {
      "text/plain": [
       "years"
      ]
     },
     "execution_count": 33,
     "metadata": {},
     "output_type": "execute_result"
    }
   ],
   "source": [
    "noun"
   ]
  },
  {
   "cell_type": "code",
   "execution_count": 34,
   "id": "14b57aee-133d-442e-bc96-4a3a14b8b1df",
   "metadata": {},
   "outputs": [
    {
     "data": {
      "text/plain": [
       "is"
      ]
     },
     "execution_count": 34,
     "metadata": {},
     "output_type": "execute_result"
    }
   ],
   "source": [
    "anc"
   ]
  },
  {
   "cell_type": "code",
   "execution_count": 35,
   "id": "af875478-c3e5-46ce-916f-fc704d7fa9cd",
   "metadata": {},
   "outputs": [
    {
     "data": {
      "text/plain": [
       "'ROOT'"
      ]
     },
     "execution_count": 35,
     "metadata": {},
     "output_type": "execute_result"
    }
   ],
   "source": [
    "aux.dep_"
   ]
  },
  {
   "cell_type": "code",
   "execution_count": 37,
   "id": "bab554c2-0e62-40be-b6d4-6b36ae8913dd",
   "metadata": {},
   "outputs": [
    {
     "data": {
      "text/plain": [
       "[exports, 81.125026324, .]"
      ]
     },
     "execution_count": 37,
     "metadata": {},
     "output_type": "execute_result"
    }
   ],
   "source": [
    "list(aux.children)"
   ]
  },
  {
   "cell_type": "code",
   "execution_count": 38,
   "id": "37ad763c-8672-4814-b654-ef051168c6aa",
   "metadata": {},
   "outputs": [],
   "source": [
    "exp = _[0]"
   ]
  },
  {
   "cell_type": "code",
   "execution_count": 39,
   "id": "c974056e-e6d5-4863-af50-fc822dfcfbf6",
   "metadata": {},
   "outputs": [
    {
     "data": {
      "text/plain": [
       "exports"
      ]
     },
     "execution_count": 39,
     "metadata": {},
     "output_type": "execute_result"
    }
   ],
   "source": [
    "exp"
   ]
  },
  {
   "cell_type": "code",
   "execution_count": 40,
   "id": "8410c574-cf8b-41a6-974c-a07cd2f0f4e8",
   "metadata": {},
   "outputs": [
    {
     "data": {
      "text/plain": [
       "'nsubj'"
      ]
     },
     "execution_count": 40,
     "metadata": {},
     "output_type": "execute_result"
    }
   ],
   "source": [
    "exp.dep_"
   ]
  },
  {
   "cell_type": "code",
   "execution_count": 42,
   "id": "272b582b-4239-4d69-b4c9-94960f0e06ce",
   "metadata": {},
   "outputs": [
    {
     "data": {
      "text/plain": [
       "81.125026324"
      ]
     },
     "execution_count": 42,
     "metadata": {},
     "output_type": "execute_result"
    }
   ],
   "source": [
    "list(aux.children)[1]"
   ]
  },
  {
   "cell_type": "code",
   "execution_count": 43,
   "id": "8e5db3bf-0366-462a-b28e-21569f3753a7",
   "metadata": {},
   "outputs": [
    {
     "data": {
      "text/plain": [
       "'attr'"
      ]
     },
     "execution_count": 43,
     "metadata": {},
     "output_type": "execute_result"
    }
   ],
   "source": [
    "_.dep_"
   ]
  },
  {
   "cell_type": "code",
   "execution_count": 151,
   "id": "81f5e939-0820-4916-827d-7999aa4ba65f",
   "metadata": {},
   "outputs": [],
   "source": [
    "def find_root_nsubj(doc):\n",
    "    root = None\n",
    "    for token in doc:\n",
    "        if token.dep_ == 'ROOT':\n",
    "            root = token\n",
    "            break\n",
    "    nsubj = None\n",
    "    for noun in root.children:\n",
    "        if noun.dep_ == 'nsubj':\n",
    "            nsubj = noun\n",
    "            break\n",
    "    return root, nsubj\n",
    "\n",
    "is_noun_singular = lambda x: x.tag_ in ('NN', 'NNP')\n",
    "is_noun_plural   = lambda x: x.tag_ in ('NNS', 'NNPS')\n",
    "\n",
    "\n",
    "def has_agreement(verb, subject):\n",
    "    if (subject is None) or (subject.tag_ == 'CD'):\n",
    "        return True\n",
    "    if verb.tag_ == 'VBP':\n",
    "        return is_noun_plural(subject)\n",
    "    if verb.tag_ == 'VBZ':\n",
    "        return is_noun_singular(subject)\n",
    "    if verb.tag_ == 'VBD':\n",
    "        is_singular = verb.morph.get('Number') == ['Sing']\n",
    "        if is_singular:\n",
    "            return is_noun_singular(subject)\n",
    "        return is_noun_plural(subject)\n",
    "    if verb.tag_ == 'VB':\n",
    "        # Find the auxiliary child and that becomes the new verb\n",
    "        for child in verb.children:\n",
    "            if child.dep_ == 'aux':\n",
    "                break\n",
    "        return has_agreement(child, subject)\n",
    "    raise ValueError(f'Tag for verb {verb} not valid.')\n",
    "    \n",
    "    \n",
    "def has_verb_subject_agreement(doc):\n",
    "    return has_agreement(*find_root_nsubj(doc))"
   ]
  },
  {
   "cell_type": "code",
   "execution_count": 55,
   "id": "88924921-51b7-4569-93c8-3370d10a6deb",
   "metadata": {},
   "outputs": [],
   "source": [
    "c = 0\n",
    "for err in errs:\n",
    "    sentence = err['matches'][0]['sentence']\n",
    "    doc = nlp(sentence)\n",
    "    verb, subject = find_root_nsubj(doc)\n",
    "    if not has_agreement(verb, subject):\n",
    "        c += 1"
   ]
  },
  {
   "cell_type": "code",
   "execution_count": 58,
   "id": "2d04d622-a870-4f01-815e-57f0858c89f2",
   "metadata": {},
   "outputs": [
    {
     "data": {
      "text/plain": [
       "(166, 166)"
      ]
     },
     "execution_count": 58,
     "metadata": {},
     "output_type": "execute_result"
    }
   ],
   "source": [
    "len(errs), c"
   ]
  },
  {
   "cell_type": "code",
   "execution_count": 59,
   "id": "dd972df2-cb8c-40a1-ad23-ddb9f38ed0dd",
   "metadata": {},
   "outputs": [
    {
     "data": {
      "text/plain": [
       "(1000, 7)"
      ]
     },
     "execution_count": 59,
     "metadata": {},
     "output_type": "execute_result"
    }
   ],
   "source": [
    "df.shape"
   ]
  },
  {
   "cell_type": "code",
   "execution_count": 60,
   "id": "950c77de-120a-42fd-858f-ce03206e33f7",
   "metadata": {},
   "outputs": [],
   "source": [
    "df['has_agreement'] = True"
   ]
  },
  {
   "cell_type": "code",
   "execution_count": 62,
   "id": "50d1d6a1-c22c-473f-98ad-86959f30950c",
   "metadata": {},
   "outputs": [],
   "source": [
    "df.set_index('question_id', verify_integrity=True, inplace=True)\n",
    "df.loc[[c['question_id'] for c in errs], 'has_agreement'] = False"
   ]
  },
  {
   "cell_type": "code",
   "execution_count": 156,
   "id": "e43e9a31-59ec-4b63-9466-f2ad151b05db",
   "metadata": {},
   "outputs": [],
   "source": [
    "c = []\n",
    "for ix, x in df['caption'].items():\n",
    "    doc = nlp(x)\n",
    "    if not has_verb_subject_agreement(doc):\n",
    "        c.append(ix)"
   ]
  },
  {
   "cell_type": "code",
   "execution_count": 157,
   "id": "97975434-edfe-46f9-8bd5-b4a2e4dbf652",
   "metadata": {},
   "outputs": [
    {
     "data": {
      "text/plain": [
       "460"
      ]
     },
     "execution_count": 157,
     "metadata": {},
     "output_type": "execute_result"
    }
   ],
   "source": [
    "len(c)"
   ]
  },
  {
   "cell_type": "code",
   "execution_count": 158,
   "id": "fdbe9da0-7d8d-4165-822a-4e67264f8dc3",
   "metadata": {},
   "outputs": [],
   "source": [
    "noag = df[~df['has_agreement']]"
   ]
  },
  {
   "cell_type": "code",
   "execution_count": 159,
   "id": "30a57e2a-11df-4bc9-b7d8-5dbedbe9fa28",
   "metadata": {},
   "outputs": [
    {
     "data": {
      "text/plain": [
       "(166, 7)"
      ]
     },
     "execution_count": 159,
     "metadata": {},
     "output_type": "execute_result"
    }
   ],
   "source": [
    "noag.shape"
   ]
  },
  {
   "cell_type": "code",
   "execution_count": 161,
   "id": "67953d36-96dc-4579-8a28-e7407790dd06",
   "metadata": {},
   "outputs": [],
   "source": [
    "amb = [k for k in c if k not in noag.index]"
   ]
  },
  {
   "cell_type": "code",
   "execution_count": 163,
   "id": "3af13c3e-57b4-4a88-a084-2c31c83ea980",
   "metadata": {},
   "outputs": [],
   "source": [
    "amb = df.loc[amb]"
   ]
  },
  {
   "cell_type": "code",
   "execution_count": 167,
   "id": "4de4feaf-2cd0-4ca1-88f1-d36460c31833",
   "metadata": {},
   "outputs": [
    {
     "data": {
      "text/plain": [
       "['The merchandise exports in 1990 is less than that in 1995.',\n",
       " '5000000 is the difference between the arms exports in 1960 and that in 2000.',\n",
       " 'The arms exports was the minimum in the 1989 year.',\n",
       " '17.5269767991 is the total merchandise exports in the graph.',\n",
       " '2.6635391436 is the difference between the earnings from merchandise imports in 1990 and the earnings from merchandise exports in 1991.']"
      ]
     },
     "execution_count": 167,
     "metadata": {},
     "output_type": "execute_result"
    }
   ],
   "source": [
    "amb['caption'].sample(5).tolist()"
   ]
  },
  {
   "cell_type": "code",
   "execution_count": 168,
   "id": "163491b2-64c3-4994-b278-95f1eb57e75e",
   "metadata": {},
   "outputs": [],
   "source": [
    "doc = nlp('5000000 is the difference between the arms exports in 1960 and that in 2000.')\n",
    "verb, subject = find_root_nsubj(doc)"
   ]
  },
  {
   "cell_type": "code",
   "execution_count": 169,
   "id": "fd30563a-af83-4f28-b9d8-ee05eef9903e",
   "metadata": {},
   "outputs": [
    {
     "data": {
      "text/plain": [
       "is"
      ]
     },
     "execution_count": 169,
     "metadata": {},
     "output_type": "execute_result"
    }
   ],
   "source": [
    "verb"
   ]
  },
  {
   "cell_type": "code",
   "execution_count": 170,
   "id": "3c0d4acd-e716-4817-a4e9-6b7bf96e63f0",
   "metadata": {},
   "outputs": [
    {
     "data": {
      "text/plain": [
       "5000000"
      ]
     },
     "execution_count": 170,
     "metadata": {},
     "output_type": "execute_result"
    }
   ],
   "source": [
    "subject"
   ]
  },
  {
   "cell_type": "code",
   "execution_count": 171,
   "id": "89580d7f-b708-4705-82d1-5e2b72674ad9",
   "metadata": {},
   "outputs": [
    {
     "data": {
      "text/plain": [
       "'CD'"
      ]
     },
     "execution_count": 171,
     "metadata": {},
     "output_type": "execute_result"
    }
   ],
   "source": [
    "subject.tag_"
   ]
  },
  {
   "cell_type": "code",
   "execution_count": 172,
   "id": "ef4277eb-aebb-471a-bf2e-e95d483e7ee9",
   "metadata": {},
   "outputs": [
    {
     "data": {
      "text/plain": [
       "was"
      ]
     },
     "execution_count": 172,
     "metadata": {},
     "output_type": "execute_result"
    }
   ],
   "source": [
    "was"
   ]
  },
  {
   "cell_type": "code",
   "execution_count": 173,
   "id": "44a8f3c6-de64-4798-8db2-6ec39879b067",
   "metadata": {},
   "outputs": [
    {
     "data": {
      "text/plain": [
       "\u001b[0;31mDocstring:\u001b[0m Token.set_morph(self, features)\n",
       "\u001b[0;31mType:\u001b[0m      builtin_function_or_method"
      ]
     },
     "metadata": {},
     "output_type": "display_data"
    }
   ],
   "source": [
    "was.set_morph?"
   ]
  },
  {
   "cell_type": "code",
   "execution_count": 174,
   "id": "f4038633-1eed-406b-a4ba-3084025c9fe2",
   "metadata": {},
   "outputs": [
    {
     "data": {
      "text/plain": [
       "{'Mood': 'Ind', 'Tense': 'Past', 'VerbForm': 'Fin'}"
      ]
     },
     "execution_count": 174,
     "metadata": {},
     "output_type": "execute_result"
    }
   ],
   "source": [
    "were.morph.to_dict()"
   ]
  },
  {
   "cell_type": "code",
   "execution_count": 175,
   "id": "5ea7e2f8-c426-4f39-9e21-f495fb2ef678",
   "metadata": {},
   "outputs": [
    {
     "data": {
      "text/plain": [
       "{'Mood': 'Ind',\n",
       " 'Number': 'Sing',\n",
       " 'Person': '3',\n",
       " 'Tense': 'Past',\n",
       " 'VerbForm': 'Fin'}"
      ]
     },
     "execution_count": 175,
     "metadata": {},
     "output_type": "execute_result"
    }
   ],
   "source": [
    "was.morph.to_dict()"
   ]
  },
  {
   "cell_type": "code",
   "execution_count": 183,
   "id": "9ff1b96c-1ad2-4bf9-8bb5-1eeb1e1a5a85",
   "metadata": {},
   "outputs": [],
   "source": [
    "t = nlp.vocab.lookups.get_table('lexeme_norm')"
   ]
  },
  {
   "cell_type": "code",
   "execution_count": 192,
   "id": "ab331d02-bf1a-4bac-b7c8-18f62d54cc73",
   "metadata": {},
   "outputs": [
    {
     "data": {
      "text/plain": [
       "<spacy.vocab.Vocab at 0x7f2ffc61c040>"
      ]
     },
     "execution_count": 192,
     "metadata": {},
     "output_type": "execute_result"
    }
   ],
   "source": [
    "doc.vocab"
   ]
  },
  {
   "cell_type": "code",
   "execution_count": 193,
   "id": "6e77a066-9562-4cbe-aea4-c2407845bbe0",
   "metadata": {},
   "outputs": [
    {
     "data": {
      "text/plain": [
       "<spacy.vocab.Vocab at 0x7f2ffc61c040>"
      ]
     },
     "execution_count": 193,
     "metadata": {},
     "output_type": "execute_result"
    }
   ],
   "source": [
    "nlp.vocab"
   ]
  },
  {
   "cell_type": "code",
   "execution_count": 190,
   "id": "f2c5bdb4-355d-4597-94a9-b097cb276a62",
   "metadata": {},
   "outputs": [
    {
     "data": {
      "text/plain": [
       "'nuthin'"
      ]
     },
     "execution_count": 190,
     "metadata": {},
     "output_type": "execute_result"
    }
   ],
   "source": [
    "i.text"
   ]
  },
  {
   "cell_type": "code",
   "execution_count": 203,
   "id": "f6d0427c-857b-4a51-bd53-1f893994eb67",
   "metadata": {},
   "outputs": [],
   "source": [
    "lemma = nlp.get_pipe('lemmatizer')"
   ]
  },
  {
   "cell_type": "code",
   "execution_count": 210,
   "id": "12d913de-c4ae-4456-8936-02f1bebb7928",
   "metadata": {},
   "outputs": [
    {
     "data": {
      "text/plain": [
       "False"
      ]
     },
     "execution_count": 210,
     "metadata": {},
     "output_type": "execute_result"
    }
   ],
   "source": [
    "lemma.is_base_form(were)"
   ]
  },
  {
   "cell_type": "code",
   "execution_count": 211,
   "id": "929d8fdd-434d-4b83-9c4f-2202c5de35f6",
   "metadata": {},
   "outputs": [
    {
     "data": {
      "text/plain": [
       "['tok2vec', 'tagger', 'parser', 'attribute_ruler', 'lemmatizer', 'ner']"
      ]
     },
     "execution_count": 211,
     "metadata": {},
     "output_type": "execute_result"
    }
   ],
   "source": [
    "nlp.pipe_names"
   ]
  },
  {
   "cell_type": "code",
   "execution_count": 278,
   "id": "d9a03a5e-09cd-45c9-9d30-06845e1bf426",
   "metadata": {},
   "outputs": [],
   "source": []
  },
  {
   "cell_type": "code",
   "execution_count": 365,
   "id": "a2e4dd99-de0a-46c1-b957-de93bb62487a",
   "metadata": {},
   "outputs": [],
   "source": [
    "docs = nlp.pipe(df['caption'].values)\n",
    "newdocs = []\n",
    "for i, doc in enumerate(docs):\n",
    "    newdocs.append(lt.fix_verb_subject_agreement(doc))\n",
    "\n",
    "    \n",
    "newnewdocs = []\n",
    "for i, doc in enumerate(newdocs):\n",
    "    newnewdocs.append(lt.fix_verb_subject_agreement(nlp(doc.text)))"
   ]
  },
  {
   "cell_type": "code",
   "execution_count": null,
   "id": "32005ce6-3289-4808-9757-10430c2e004f",
   "metadata": {
    "scrolled": true,
    "tags": []
   },
   "outputs": [
    {
     "name": "stderr",
     "output_type": "stream",
     "text": [
      "[Parallel(n_jobs=-1)]: Using backend LokyBackend with 16 concurrent workers.\n"
     ]
    }
   ],
   "source": [
    "res = Parallel(n_jobs=-1, verbose=2)(delayed(lt.process)(None, k.text) for k in newnewdocs)"
   ]
  },
  {
   "cell_type": "code",
   "execution_count": 342,
   "id": "ab552810-5fbe-4a56-ab30-2d4f82d1d46c",
   "metadata": {},
   "outputs": [
    {
     "data": {
      "text/plain": [
       "Counter({'The verb form ‘does’ does not seem to match the subject ‘exports’.': 16,\n",
       "         'Possible spelling mistake found.': 1,\n",
       "         'A determiner may be missing.': 1,\n",
       "         'You should probably use “export”.': 3})"
      ]
     },
     "execution_count": 342,
     "metadata": {},
     "output_type": "execute_result"
    }
   ],
   "source": [
    "msgs = []\n",
    "for i, k in enumerate(res):\n",
    "    for match in k['matches']:\n",
    "        msgs.append(match['message'])\n",
    "ctr = Counter(msgs)\n",
    "ctr"
   ]
  },
  {
   "cell_type": "code",
   "execution_count": 346,
   "id": "550cc29b-3c5a-44da-a6fe-ac7725325749",
   "metadata": {},
   "outputs": [],
   "source": [
    "doc = nlp('The merchandise exports does not monotonically increase over the years.')\n",
    "verb, subject = lt.find_root_nsubj(doc)"
   ]
  },
  {
   "cell_type": "code",
   "execution_count": 347,
   "id": "b536ee34-57ee-431d-8102-0ee7ec6da9c5",
   "metadata": {},
   "outputs": [
    {
     "data": {
      "text/plain": [
       "(increase, exports)"
      ]
     },
     "execution_count": 347,
     "metadata": {},
     "output_type": "execute_result"
    }
   ],
   "source": [
    "verb, subject"
   ]
  },
  {
   "cell_type": "code",
   "execution_count": 350,
   "id": "510965b9-90f8-4e4c-b3f0-328e949e4850",
   "metadata": {},
   "outputs": [],
   "source": [
    "agrees, verb = lt.has_agreement(verb, subject)"
   ]
  },
  {
   "cell_type": "code",
   "execution_count": 351,
   "id": "51af01f0-efec-4ae9-85a3-67b2cdff057e",
   "metadata": {},
   "outputs": [
    {
     "data": {
      "text/plain": [
       "False"
      ]
     },
     "execution_count": 351,
     "metadata": {},
     "output_type": "execute_result"
    }
   ],
   "source": [
    "agrees"
   ]
  },
  {
   "cell_type": "code",
   "execution_count": 352,
   "id": "ae3861b6-750e-45c1-b2ff-ead301eaaa2c",
   "metadata": {},
   "outputs": [
    {
     "data": {
      "text/plain": [
       "does"
      ]
     },
     "execution_count": 352,
     "metadata": {},
     "output_type": "execute_result"
    }
   ],
   "source": [
    "verb"
   ]
  },
  {
   "cell_type": "code",
   "execution_count": 353,
   "id": "925a9e43-80c8-4711-b5b6-9278dd88c7f5",
   "metadata": {},
   "outputs": [
    {
     "data": {
      "text/plain": [
       "'NNS'"
      ]
     },
     "execution_count": 353,
     "metadata": {},
     "output_type": "execute_result"
    }
   ],
   "source": [
    "subject.tag_"
   ]
  },
  {
   "cell_type": "code",
   "execution_count": 355,
   "id": "4103f2cd-327b-452c-ab1f-a5fc336637ab",
   "metadata": {},
   "outputs": [
    {
     "data": {
      "text/plain": [
       "The merchandise exports do not monotonically increase over the years."
      ]
     },
     "execution_count": 355,
     "metadata": {},
     "output_type": "execute_result"
    }
   ],
   "source": [
    "lt.fix_verb_subject_agreement(doc)"
   ]
  },
  {
   "cell_type": "code",
   "execution_count": null,
   "id": "f2894d47-d6e4-4467-a943-4f85a34ccc6b",
   "metadata": {},
   "outputs": [],
   "source": []
  }
 ],
 "metadata": {
  "kernelspec": {
   "display_name": "Python 3 (ipykernel)",
   "language": "python",
   "name": "python3"
  },
  "language_info": {
   "codemirror_mode": {
    "name": "ipython",
    "version": 3
   },
   "file_extension": ".py",
   "mimetype": "text/x-python",
   "name": "python",
   "nbconvert_exporter": "python",
   "pygments_lexer": "ipython3",
   "version": "3.9.12"
  }
 },
 "nbformat": 4,
 "nbformat_minor": 5
}
